{
 "metadata": {
  "name": "",
  "signature": "sha256:28c016f456e4156ca7d2d371f644ac06bccf419df7fb26d9029062341e28dbf3"
 },
 "nbformat": 3,
 "nbformat_minor": 0,
 "worksheets": [
  {
   "cells": [
    {
     "cell_type": "code",
     "collapsed": false,
     "input": [
      "toy_file = open(\"shiny_new_file.txt\", \"w\" )\n",
      "toy_file.write(\"hey guys \\n\")\n",
      "toy_file.write(\"what's up \\n\")\n",
      "toy_file.close()\n",
      "!ls\n"
     ],
     "language": "python",
     "metadata": {},
     "outputs": [
      {
       "output_type": "stream",
       "stream": "stdout",
       "text": [
        "0_S_Prework_myname_template.ipynb Answer8_2_figure_2.png\r\n",
        "Answer 3_1_figure_1.png           Marco Lunardi Sketch.pdf\r\n",
        "Answer 3_1_figure_2.png           Metis Prework TB 2.1.docx\r\n",
        "Answer2_1_thinkbayes-Class.ipynb  Plot1.png\r\n",
        "Answer2_1_thinkbayes.ipynb        Plot2.png\r\n",
        "Answer2_4.ipynb                   Prework Answers.docx\r\n",
        "Answer3_1.ipynb                   Untitled0.ipynb\r\n",
        "Answer4_2.ipynb                   commits.txt\r\n",
        "Answer4_2_figure_1.png            \u001b[34mdiveintopython-5.4\u001b[m\u001b[m\r\n",
        "Answer4_2_figure_2.png            diveintopython.pdf\r\n",
        "Answer7_1.ipynb                   metis.R\r\n",
        "Answer7_1_figure_1.png            \u001b[34mpy\u001b[m\u001b[m\r\n",
        "Answer7_1_figure_2.png            shiny_new_file.txt\r\n",
        "Answer8_2.ipynb                   thinkbayes.pdf\r\n",
        "Answer8_2_figure_1.png            thinkstats2.pdf\r\n"
       ]
      }
     ],
     "prompt_number": 2
    },
    {
     "cell_type": "code",
     "collapsed": false,
     "input": [
      "our_file =open(\"shiny_new_file.txt\", \"r\")\n",
      "new_file = open(\"even_newer_file.txt\", \"w\")\n",
      "new_file.write(our_file.read())\n",
      "our_file.close()\n",
      "new_file.close()\n",
      "!ls\n"
     ],
     "language": "python",
     "metadata": {},
     "outputs": [
      {
       "output_type": "stream",
       "stream": "stdout",
       "text": [
        "0_S_Prework_myname_template.ipynb Marco Lunardi Sketch.pdf\r\n",
        "Answer 3_1_figure_1.png           Metis Prework TB 2.1.docx\r\n",
        "Answer 3_1_figure_2.png           Plot1.png\r\n",
        "Answer2_1_thinkbayes-Class.ipynb  Plot2.png\r\n",
        "Answer2_1_thinkbayes.ipynb        Prework Answers.docx\r\n",
        "Answer2_4.ipynb                   Untitled0.ipynb\r\n",
        "Answer3_1.ipynb                   commits.txt\r\n",
        "Answer4_2.ipynb                   \u001b[34mdiveintopython-5.4\u001b[m\u001b[m\r\n",
        "Answer4_2_figure_1.png            diveintopython.pdf\r\n",
        "Answer4_2_figure_2.png            even_newer_file.txt\r\n",
        "Answer7_1.ipynb                   metis.R\r\n",
        "Answer7_1_figure_1.png            \u001b[34mpy\u001b[m\u001b[m\r\n",
        "Answer7_1_figure_2.png            shiny_new_file.txt\r\n",
        "Answer8_2.ipynb                   thinkbayes.pdf\r\n",
        "Answer8_2_figure_1.png            thinkstats2.pdf\r\n",
        "Answer8_2_figure_2.png\r\n"
       ]
      }
     ],
     "prompt_number": 4
    },
    {
     "cell_type": "code",
     "collapsed": false,
     "input": [
      "!cat even_newer_file.txt\n"
     ],
     "language": "python",
     "metadata": {},
     "outputs": [
      {
       "output_type": "stream",
       "stream": "stdout",
       "text": [
        "hey guys \r\n",
        "what's up \r\n"
       ]
      }
     ],
     "prompt_number": 5
    },
    {
     "cell_type": "code",
     "collapsed": false,
     "input": [
      "import urllib2\n",
      "online_image_file = urllib2.urlopen(\"http://i.kinja-img.com/gawker-media/image/upload/s--lcZ52NA8--/19c0uzmi9bmv1jpg.jpg\"\n",
      "                                    "
     ],
     "language": "python",
     "metadata": {},
     "outputs": []
    },
    {
     "cell_type": "code",
     "collapsed": false,
     "input": [
      "!wget -O star_wars_wget.jpg http://i.kinja-img.com/gawker-media/image/upload/s--lcZ52NA8--/19c0uzmi9bmv1jpg.jpg"
     ],
     "language": "python",
     "metadata": {},
     "outputs": [
      {
       "output_type": "stream",
       "stream": "stdout",
       "text": [
        "--2015-04-07 11:05:58--  http://i.kinja-img.com/gawker-media/image/upload/s--lcZ52NA8--/19c0uzmi9bmv1jpg.jpg\r\n",
        "Resolving i.kinja-img.com... 23.235.46.129, 23.235.46.192\r\n",
        "Connecting to i.kinja-img.com|23.235.46.129|:80... connected.\r\n",
        "HTTP request sent, awaiting response... 200 OK\r\n",
        "Length: 571278 (558K) [image/jpeg]\r\n",
        "Saving to: 'star_wars_wget.jpg'\r\n",
        "\r\n",
        "\r",
        "star_wars_wget.jpg    0%[                      ]       0  --.-KB/s             "
       ]
      },
      {
       "output_type": "stream",
       "stream": "stdout",
       "text": [
        "\r",
        "star_wars_wget.jpg   91%[===================>  ] 513.10K  2.51MB/s             "
       ]
      },
      {
       "output_type": "stream",
       "stream": "stdout",
       "text": [
        "\r",
        "star_wars_wget.jpg  100%[=====================>] 557.89K  2.52MB/s   in 0.2s   \r\n",
        "\r\n",
        "2015-04-07 11:05:59 (2.52 MB/s) - 'star_wars_wget.jpg' saved [571278/571278]\r\n",
        "\r\n"
       ]
      }
     ],
     "prompt_number": 7
    },
    {
     "cell_type": "code",
     "collapsed": false,
     "input": [
      "!ls\n",
      "!open star_wars_wget.jpg\n"
     ],
     "language": "python",
     "metadata": {},
     "outputs": [
      {
       "output_type": "stream",
       "stream": "stdout",
       "text": [
        "0_S_Prework_myname_template.ipynb Metis Prework TB 2.1.docx\r\n",
        "Answer 3_1_figure_1.png           Plot1.png\r\n",
        "Answer 3_1_figure_2.png           Plot2.png\r\n",
        "Answer2_1_thinkbayes-Class.ipynb  Prework Answers.docx\r\n",
        "Answer2_1_thinkbayes.ipynb        Untitled0.ipynb\r\n",
        "Answer2_4.ipynb                   commits.txt\r\n",
        "Answer3_1.ipynb                   \u001b[34mdiveintopython-5.4\u001b[m\u001b[m\r\n",
        "Answer4_2.ipynb                   diveintopython.pdf\r\n",
        "Answer4_2_figure_1.png            even_newer_file.txt\r\n",
        "Answer4_2_figure_2.png            metis.R\r\n",
        "Answer7_1.ipynb                   new_csv_toy.csv\r\n",
        "Answer7_1_figure_1.png            \u001b[34mpy\u001b[m\u001b[m\r\n",
        "Answer7_1_figure_2.png            shiny_new_file.txt\r\n",
        "Answer8_2.ipynb                   star_wars_wget.jpg\r\n",
        "Answer8_2_figure_1.png            super_math_results.txt\r\n",
        "Answer8_2_figure_2.png            thinkbayes.pdf\r\n",
        "Marco Lunardi Sketch.pdf          thinkstats2.pdf\r\n"
       ]
      }
     ],
     "prompt_number": 14
    },
    {
     "cell_type": "code",
     "collapsed": false,
     "input": [
      "Bo_super_math = 3 + 7.4\n",
      "with open(\"super_math_results.txt\", \"w\") as results:\n",
      "    results.write(\"3 + 7 = \")\n",
      "    results.write(str(Bo_super_math))\n",
      "    \n",
      "!cat super_math_results.txt\n"
     ],
     "language": "python",
     "metadata": {},
     "outputs": [
      {
       "output_type": "stream",
       "stream": "stdout",
       "text": [
        "3 + 7 = 10.4"
       ]
      }
     ],
     "prompt_number": 12
    },
    {
     "cell_type": "code",
     "collapsed": false,
     "input": [
      "import csv\n",
      "with open(\"new_csv_toy.csv\", \"w\") as csv_output:\n",
      "    writer = csv.writer(csv_output)\n",
      "    row1 = [\"Bo\", \"is\", \"awesome\"]\n",
      "    row2 = [\"Aaron\", \"is\", \"awesome\"]\n",
      "    writer.writerow(row1)\n",
      "    writer.writerow(row2)\n",
      "    \n",
      "!cat new_csv_toy.csv"
     ],
     "language": "python",
     "metadata": {},
     "outputs": [
      {
       "output_type": "stream",
       "stream": "stdout",
       "text": [
        "Bo,is,awesome\r",
        "\r\n",
        "Aaron,is,awesome\r",
        "\r\n"
       ]
      }
     ],
     "prompt_number": 13
    },
    {
     "cell_type": "code",
     "collapsed": false,
     "input": [],
     "language": "python",
     "metadata": {},
     "outputs": [],
     "prompt_number": 15
    },
    {
     "cell_type": "code",
     "collapsed": false,
     "input": [
      "!wget http://web.mta.info/developers/data/nyct/turnstile/turnstile_150404.txt"
     ],
     "language": "python",
     "metadata": {},
     "outputs": [
      {
       "output_type": "stream",
       "stream": "stdout",
       "text": [
        "--2015-04-07 11:22:31--  http://web.mta.info/developers/data/nyct/turnstile/turnstile_150404.txt\r\n",
        "Resolving web.mta.info... 63.88.100.208, 63.88.100.184\r\n",
        "Connecting to web.mta.info|63.88.100.208|:80... connected.\r\n",
        "HTTP request sent, awaiting response... "
       ]
      },
      {
       "output_type": "stream",
       "stream": "stdout",
       "text": [
        "200 OK\r\n",
        "Length: unspecified [text/plain]\r\n",
        "Saving to: 'turnstile_150404.txt'\r\n",
        "\r\n",
        "\r",
        "turnstile_150404.tx     [<=>                   ]       0  --.-KB/s             "
       ]
      },
      {
       "output_type": "stream",
       "stream": "stdout",
       "text": [
        "\r",
        "turnstile_150404.tx     [ <=>                  ] 872.38K  4.11MB/s             "
       ]
      },
      {
       "output_type": "stream",
       "stream": "stdout",
       "text": [
        "\r",
        "turnstile_150404.tx     [  <=>                 ]   1.80M  4.39MB/s             "
       ]
      },
      {
       "output_type": "stream",
       "stream": "stdout",
       "text": [
        "\r",
        "turnstile_150404.tx     [   <=>                ]   2.35M  3.86MB/s             "
       ]
      },
      {
       "output_type": "stream",
       "stream": "stdout",
       "text": [
        "\r",
        "turnstile_150404.tx     [    <=>               ]   2.89M  2.71MB/s             "
       ]
      },
      {
       "output_type": "stream",
       "stream": "stdout",
       "text": [
        "\r",
        "turnstile_150404.tx     [     <=>              ]   3.50M  2.76MB/s             "
       ]
      },
      {
       "output_type": "stream",
       "stream": "stdout",
       "text": [
        "\r",
        "turnstile_150404.tx     [      <=>             ]   4.42M  2.90MB/s             "
       ]
      },
      {
       "output_type": "stream",
       "stream": "stdout",
       "text": [
        "\r",
        "turnstile_150404.tx     [       <=>            ]   5.04M  2.92MB/s             "
       ]
      },
      {
       "output_type": "stream",
       "stream": "stdout",
       "text": [
        "\r",
        "turnstile_150404.tx     [        <=>           ]   5.71M  2.94MB/s             "
       ]
      },
      {
       "output_type": "stream",
       "stream": "stdout",
       "text": [
        "\r",
        "turnstile_150404.tx     [         <=>          ]   6.41M  2.70MB/s             "
       ]
      },
      {
       "output_type": "stream",
       "stream": "stdout",
       "text": [
        "\r",
        "turnstile_150404.tx     [          <=>         ]   6.67M  2.59MB/s             "
       ]
      },
      {
       "output_type": "stream",
       "stream": "stdout",
       "text": [
        "\r",
        "turnstile_150404.tx     [           <=>        ]   7.53M  2.71MB/s             "
       ]
      },
      {
       "output_type": "stream",
       "stream": "stdout",
       "text": [
        "\r",
        "turnstile_150404.tx     [            <=>       ]   8.32M  2.79MB/s             "
       ]
      },
      {
       "output_type": "stream",
       "stream": "stdout",
       "text": [
        "\r",
        "turnstile_150404.tx     [             <=>      ]   9.12M  2.87MB/s             "
       ]
      },
      {
       "output_type": "stream",
       "stream": "stdout",
       "text": [
        "\r",
        "turnstile_150404.tx     [              <=>     ]   9.97M  2.95MB/s             "
       ]
      },
      {
       "output_type": "stream",
       "stream": "stdout",
       "text": [
        "\r",
        "turnstile_150404.tx     [               <=>    ]  10.60M  2.96MB/s             "
       ]
      },
      {
       "output_type": "stream",
       "stream": "stdout",
       "text": [
        "\r",
        "turnstile_150404.tx     [                <=>   ]  11.27M  2.92MB/s             "
       ]
      },
      {
       "output_type": "stream",
       "stream": "stdout",
       "text": [
        "\r",
        "turnstile_150404.tx     [                 <=>  ]  11.95M  2.88MB/s             "
       ]
      },
      {
       "output_type": "stream",
       "stream": "stdout",
       "text": [
        "\r",
        "turnstile_150404.tx     [                  <=> ]  12.80M  2.94MB/s             "
       ]
      },
      {
       "output_type": "stream",
       "stream": "stdout",
       "text": [
        "\r",
        "turnstile_150404.tx     [                   <=>]  13.64M  3.22MB/s             "
       ]
      },
      {
       "output_type": "stream",
       "stream": "stdout",
       "text": [
        "\r",
        "turnstile_150404.tx     [                  <=> ]  14.54M  3.13MB/s             "
       ]
      },
      {
       "output_type": "stream",
       "stream": "stdout",
       "text": [
        "\r",
        "turnstile_150404.tx     [                 <=>  ]  15.36M  3.23MB/s             "
       ]
      },
      {
       "output_type": "stream",
       "stream": "stdout",
       "text": [
        "\r",
        "turnstile_150404.tx     [                <=>   ]  16.06M  3.25MB/s             "
       ]
      },
      {
       "output_type": "stream",
       "stream": "stdout",
       "text": [
        "\r",
        "turnstile_150404.tx     [               <=>    ]  16.72M  3.26MB/s             "
       ]
      },
      {
       "output_type": "stream",
       "stream": "stdout",
       "text": [
        "\r",
        "turnstile_150404.tx     [              <=>     ]  17.74M  3.59MB/s             "
       ]
      },
      {
       "output_type": "stream",
       "stream": "stdout",
       "text": [
        "\r",
        "turnstile_150404.tx     [             <=>      ]  18.70M  3.77MB/s             "
       ]
      },
      {
       "output_type": "stream",
       "stream": "stdout",
       "text": [
        "\r",
        "turnstile_150404.tx     [            <=>       ]  19.63M  3.74MB/s             "
       ]
      },
      {
       "output_type": "stream",
       "stream": "stdout",
       "text": [
        "\r",
        "turnstile_150404.tx     [           <=>        ]  20.52M  3.83MB/s             "
       ]
      },
      {
       "output_type": "stream",
       "stream": "stdout",
       "text": [
        "\r",
        "turnstile_150404.tx     [          <=>         ]  21.31M  3.84MB/s             "
       ]
      },
      {
       "output_type": "stream",
       "stream": "stdout",
       "text": [
        "\r",
        "turnstile_150404.tx     [         <=>          ]  22.16M  3.85MB/s             "
       ]
      },
      {
       "output_type": "stream",
       "stream": "stdout",
       "text": [
        "\r",
        "turnstile_150404.tx     [        <=>           ]  22.99M  3.91MB/s             "
       ]
      },
      {
       "output_type": "stream",
       "stream": "stdout",
       "text": [
        "\r",
        "turnstile_150404.tx     [       <=>            ]  23.70M  3.90MB/s             \r",
        "turnstile_150404.tx     [      <=>             ]  23.91M  3.91MB/s   in 7.0s   \r\n",
        "\r\n"
       ]
      },
      {
       "output_type": "stream",
       "stream": "stdout",
       "text": [
        "2015-04-07 11:22:39 (3.41 MB/s) - 'turnstile_150404.txt' saved [25071566]\r\n",
        "\r\n"
       ]
      }
     ],
     "prompt_number": 16
    },
    {
     "cell_type": "code",
     "collapsed": false,
     "input": [
      "!ls\n"
     ],
     "language": "python",
     "metadata": {},
     "outputs": [
      {
       "output_type": "stream",
       "stream": "stdout",
       "text": [
        "0_S_Prework_myname_template.ipynb Plot1.png\r\n",
        "Answer 3_1_figure_1.png           Plot2.png\r\n",
        "Answer 3_1_figure_2.png           Prework Answers.docx\r\n",
        "Answer2_1_thinkbayes-Class.ipynb  Untitled0.ipynb\r\n",
        "Answer2_1_thinkbayes.ipynb        commits.txt\r\n",
        "Answer2_4.ipynb                   \u001b[34mdiveintopython-5.4\u001b[m\u001b[m\r\n",
        "Answer3_1.ipynb                   diveintopython.pdf\r\n",
        "Answer4_2.ipynb                   even_newer_file.txt\r\n",
        "Answer4_2_figure_1.png            metis.R\r\n",
        "Answer4_2_figure_2.png            new_csv_toy.csv\r\n",
        "Answer7_1.ipynb                   \u001b[34mpy\u001b[m\u001b[m\r\n",
        "Answer7_1_figure_1.png            shiny_new_file.txt\r\n",
        "Answer7_1_figure_2.png            star_wars_wget.jpg\r\n",
        "Answer8_2.ipynb                   super_math_results.txt\r\n",
        "Answer8_2_figure_1.png            thinkbayes.pdf\r\n",
        "Answer8_2_figure_2.png            thinkstats2.pdf\r\n",
        "Marco Lunardi Sketch.pdf          turnstile_150404.txt\r\n",
        "Metis Prework TB 2.1.docx\r\n"
       ]
      }
     ],
     "prompt_number": 17
    },
    {
     "cell_type": "code",
     "collapsed": false,
     "input": [
      "!head turnstile_150404.txt\n"
     ],
     "language": "python",
     "metadata": {},
     "outputs": [
      {
       "output_type": "stream",
       "stream": "stdout",
       "text": [
        "C/A,UNIT,SCP,STATION,LINENAME,DIVISION,DATE,TIME,DESC,ENTRIES,EXITS                                                               \r\n",
        "A002,R051,02-00-00,LEXINGTON AVE,NQR456,BMT,03/28/2015,00:00:00,REGULAR,0005065968,0001716046                                     \r\n",
        "A002,R051,02-00-00,LEXINGTON AVE,NQR456,BMT,03/28/2015,04:00:00,REGULAR,0005066006,0001716049                                     \r\n",
        "A002,R051,02-00-00,LEXINGTON AVE,NQR456,BMT,03/28/2015,08:00:00,REGULAR,0005066018,0001716072                                     \r\n",
        "A002,R051,02-00-00,LEXINGTON AVE,NQR456,BMT,03/28/2015,12:00:00,REGULAR,0005066153,0001716183                                     \r\n",
        "A002,R051,02-00-00,LEXINGTON AVE,NQR456,BMT,03/28/2015,16:00:00,REGULAR,0005066453,0001716263                                     \r\n",
        "A002,R051,02-00-00,LEXINGTON AVE,NQR456,BMT,03/28/2015,20:00:00,REGULAR,0005066883,0001716327                                     \r\n",
        "A002,R051,02-00-00,LEXINGTON AVE,NQR456,BMT,03/29/2015,00:00:00,REGULAR,0005067073,0001716368                                     \r\n",
        "A002,R051,02-00-00,LEXINGTON AVE,NQR456,BMT,03/29/2015,04:00:00,REGULAR,0005067111,0001716377                                     \r\n",
        "A002,R051,02-00-00,LEXINGTON AVE,NQR456,BMT,03/29/2015,08:00:00,REGULAR,0005067124,0001716394                                     \r\n"
       ]
      }
     ],
     "prompt_number": 18
    },
    {
     "cell_type": "code",
     "collapsed": false,
     "input": [
      "LINE_NUM = 3\n",
      "with open(\"turnstile_150404.txt\", \"r\") as turnstile_file:\n",
      "    reader = csv.reader(turnstile_file)\n",
      "    \n",
      "    # get rid of header\n",
      "    reader.next()\n",
      "    \n",
      "    for index, row in enumerate(reader):\n",
      "        print row\n",
      "        if index == LINE_NUM:\n",
      "            break\n"
     ],
     "language": "python",
     "metadata": {},
     "outputs": [
      {
       "output_type": "stream",
       "stream": "stdout",
       "text": [
        "['A002', 'R051', '02-00-00', 'LEXINGTON AVE', 'NQR456', 'BMT', '03/28/2015', '00:00:00', 'REGULAR', '0005065968', '0001716046                                     ']\n",
        "['A002', 'R051', '02-00-00', 'LEXINGTON AVE', 'NQR456', 'BMT', '03/28/2015', '04:00:00', 'REGULAR', '0005066006', '0001716049                                     ']\n",
        "['A002', 'R051', '02-00-00', 'LEXINGTON AVE', 'NQR456', 'BMT', '03/28/2015', '08:00:00', 'REGULAR', '0005066018', '0001716072                                     ']\n",
        "['A002', 'R051', '02-00-00', 'LEXINGTON AVE', 'NQR456', 'BMT', '03/28/2015', '12:00:00', 'REGULAR', '0005066153', '0001716183                                     ']\n"
       ]
      }
     ],
     "prompt_number": 20
    },
    {
     "cell_type": "code",
     "collapsed": false,
     "input": [
      "import sys\n",
      "\n",
      "with open(\"turnstile_150404.txt\", \"r\") as turnstile_file:\n",
      "    reader = csv.reader(turnstile_file)\n",
      "    \n",
      "    three_rows = open(\"three_rows.txt\", \"w\")\n",
      "    writer = csv.writer(three_rows)\n",
      "    \n",
      "    for num, row in enumerate(reader):\n",
      "        try:\n",
      "            if num == 3:\n",
      "                break\n",
      "            \n",
      "            print \"I am procession row %i\" % num\n",
      "            # some fancy processing goes here...\n",
      "            writer.writerow(row)\n",
      "            \n",
      "            if num == 2:\n",
      "                my_value =row/2\n",
      "        except:\n",
      "            print >> sys.stderr, \"Oh noews, row %i failed\" % num\n",
      "\n",
      "    three_rows.close()\n"
     ],
     "language": "python",
     "metadata": {},
     "outputs": [
      {
       "output_type": "stream",
       "stream": "stdout",
       "text": [
        "I am procession row 0\n",
        "I am procession row 1\n",
        "I am procession row 2\n"
       ]
      },
      {
       "output_type": "stream",
       "stream": "stderr",
       "text": [
        "Oh noews, row 2 failed\n"
       ]
      }
     ],
     "prompt_number": 24
    },
    {
     "cell_type": "code",
     "collapsed": false,
     "input": [
      "!cat three_rows.txt\n"
     ],
     "language": "python",
     "metadata": {},
     "outputs": [
      {
       "output_type": "stream",
       "stream": "stdout",
       "text": [
        "C/A,UNIT,SCP,STATION,LINENAME,DIVISION,DATE,TIME,DESC,ENTRIES,EXITS                                                               \r",
        "\r\n",
        "A002,R051,02-00-00,LEXINGTON AVE,NQR456,BMT,03/28/2015,00:00:00,REGULAR,0005065968,0001716046                                     \r",
        "\r\n",
        "A002,R051,02-00-00,LEXINGTON AVE,NQR456,BMT,03/28/2015,04:00:00,REGULAR,0005066006,0001716049                                     \r",
        "\r\n"
       ]
      }
     ],
     "prompt_number": 25
    },
    {
     "cell_type": "code",
     "collapsed": false,
     "input": [
      "!ls"
     ],
     "language": "python",
     "metadata": {},
     "outputs": [
      {
       "output_type": "stream",
       "stream": "stdout",
       "text": [
        "0_S_Prework_myname_template.ipynb Plot1.png\r\n",
        "Answer 3_1_figure_1.png           Plot2.png\r\n",
        "Answer 3_1_figure_2.png           Prework Answers.docx\r\n",
        "Answer2_1_thinkbayes-Class.ipynb  Untitled0.ipynb\r\n",
        "Answer2_1_thinkbayes.ipynb        commits.txt\r\n",
        "Answer2_4.ipynb                   \u001b[34mdiveintopython-5.4\u001b[m\u001b[m\r\n",
        "Answer3_1.ipynb                   diveintopython.pdf\r\n",
        "Answer4_2.ipynb                   even_newer_file.txt\r\n",
        "Answer4_2_figure_1.png            metis.R\r\n",
        "Answer4_2_figure_2.png            new_csv_toy.csv\r\n",
        "Answer7_1.ipynb                   \u001b[34mpy\u001b[m\u001b[m\r\n",
        "Answer7_1_figure_1.png            shiny_new_file.txt\r\n",
        "Answer7_1_figure_2.png            star_wars_wget.jpg\r\n",
        "Answer8_2.ipynb                   super_math_results.txt\r\n",
        "Answer8_2_figure_1.png            thinkbayes.pdf\r\n",
        "Answer8_2_figure_2.png            thinkstats2.pdf\r\n",
        "Marco Lunardi Sketch.pdf          three rows.txt\r\n",
        "Metis Prework TB 2.1.docx         turnstile_150404.txt\r\n"
       ]
      }
     ],
     "prompt_number": 23
    },
    {
     "cell_type": "code",
     "collapsed": false,
     "input": [
      "!head reader\n"
     ],
     "language": "python",
     "metadata": {},
     "outputs": [
      {
       "output_type": "stream",
       "stream": "stdout",
       "text": [
        "head: reader: No such file or directory\r\n"
       ]
      }
     ],
     "prompt_number": 26
    },
    {
     "cell_type": "code",
     "collapsed": false,
     "input": [
      "!ls\n"
     ],
     "language": "python",
     "metadata": {},
     "outputs": [
      {
       "output_type": "stream",
       "stream": "stdout",
       "text": [
        "0_S_Prework_myname_template.ipynb Plot2.png\r\n",
        "Answer 3_1_figure_1.png           Prework Answers.docx\r\n",
        "Answer 3_1_figure_2.png           Untitled0.ipynb\r\n",
        "Answer2_1_thinkbayes-Class.ipynb  commits.txt\r\n",
        "Answer2_1_thinkbayes.ipynb        \u001b[34mdiveintopython-5.4\u001b[m\u001b[m\r\n",
        "Answer2_4.ipynb                   diveintopython.pdf\r\n",
        "Answer3_1.ipynb                   even_newer_file.txt\r\n",
        "Answer4_2.ipynb                   metis.R\r\n",
        "Answer4_2_figure_1.png            new_csv_toy.csv\r\n",
        "Answer4_2_figure_2.png            \u001b[34mpy\u001b[m\u001b[m\r\n",
        "Answer7_1.ipynb                   shiny_new_file.txt\r\n",
        "Answer7_1_figure_1.png            star_wars_wget.jpg\r\n",
        "Answer7_1_figure_2.png            super_math_results.txt\r\n",
        "Answer8_2.ipynb                   thinkbayes.pdf\r\n",
        "Answer8_2_figure_1.png            thinkstats2.pdf\r\n",
        "Answer8_2_figure_2.png            three rows.txt\r\n",
        "Marco Lunardi Sketch.pdf          three_rows.txt\r\n",
        "Metis Prework TB 2.1.docx         turnstile_150404.txt\r\n",
        "Plot1.png\r\n"
       ]
      }
     ],
     "prompt_number": 27
    },
    {
     "cell_type": "code",
     "collapsed": false,
     "input": [
      "!head turnstile_150404.txt\n"
     ],
     "language": "python",
     "metadata": {},
     "outputs": [
      {
       "output_type": "stream",
       "stream": "stdout",
       "text": [
        "C/A,UNIT,SCP,STATION,LINENAME,DIVISION,DATE,TIME,DESC,ENTRIES,EXITS                                                               \r\n",
        "A002,R051,02-00-00,LEXINGTON AVE,NQR456,BMT,03/28/2015,00:00:00,REGULAR,0005065968,0001716046                                     \r\n",
        "A002,R051,02-00-00,LEXINGTON AVE,NQR456,BMT,03/28/2015,04:00:00,REGULAR,0005066006,0001716049                                     \r\n",
        "A002,R051,02-00-00,LEXINGTON AVE,NQR456,BMT,03/28/2015,08:00:00,REGULAR,0005066018,0001716072                                     \r\n",
        "A002,R051,02-00-00,LEXINGTON AVE,NQR456,BMT,03/28/2015,12:00:00,REGULAR,0005066153,0001716183                                     \r\n",
        "A002,R051,02-00-00,LEXINGTON AVE,NQR456,BMT,03/28/2015,16:00:00,REGULAR,0005066453,0001716263                                     \r\n",
        "A002,R051,02-00-00,LEXINGTON AVE,NQR456,BMT,03/28/2015,20:00:00,REGULAR,0005066883,0001716327                                     \r\n",
        "A002,R051,02-00-00,LEXINGTON AVE,NQR456,BMT,03/29/2015,00:00:00,REGULAR,0005067073,0001716368                                     \r\n",
        "A002,R051,02-00-00,LEXINGTON AVE,NQR456,BMT,03/29/2015,04:00:00,REGULAR,0005067111,0001716377                                     \r\n",
        "A002,R051,02-00-00,LEXINGTON AVE,NQR456,BMT,03/29/2015,08:00:00,REGULAR,0005067124,0001716394                                     \r\n"
       ]
      }
     ],
     "prompt_number": 28
    },
    {
     "cell_type": "code",
     "collapsed": false,
     "input": [
      "with open(\"turnstile_150404.txt\", \"r\") as turnstile_file:\n",
      "    reader = csv.reader(turnstile_file)\n",
      "    \n",
      "    # get rid of header\n",
      "    reader.next()\n",
      "    "
     ],
     "language": "python",
     "metadata": {},
     "outputs": [],
     "prompt_number": 29
    },
    {
     "cell_type": "code",
     "collapsed": false,
     "input": [
      "mydict = {}\n",
      "reader = csv.reader(open(\"turnstile_150404.txt\", \"r\"))\n",
      "reader.next()\n",
      "\n",
      "for num, row in enumerate(reader):\n",
      "    key = tuple(row[0:4])\n",
      "    value = [row[4:]]\n",
      "    mydict.setdefault(key, [])\n",
      "    mydict[key].append(value)\n",
      "    \n",
      "print mydict[('A002','R051','02-00-01','LEXINGTON AVE')]\n",
      "# print mydict\n"
     ],
     "language": "python",
     "metadata": {},
     "outputs": [
      {
       "output_type": "stream",
       "stream": "stdout",
       "text": [
        "[[['NQR456', 'BMT', '03/28/2015', '00:00:00', 'REGULAR', '0004697689', '0001025091                                     ']], [['NQR456', 'BMT', '03/28/2015', '04:00:00', 'REGULAR', '0004697717', '0001025095                                     ']], [['NQR456', 'BMT', '03/28/2015', '08:00:00', 'REGULAR', '0004697729', '0001025110                                     ']], [['NQR456', 'BMT', '03/28/2015', '12:00:00', 'REGULAR', '0004697842', '0001025181                                     ']], [['NQR456', 'BMT', '03/28/2015', '16:00:00', 'REGULAR', '0004698114', '0001025251                                     ']], [['NQR456', 'BMT', '03/28/2015', '20:00:00', 'REGULAR', '0004698450', '0001025304                                     ']], [['NQR456', 'BMT', '03/29/2015', '00:00:00', 'REGULAR', '0004698587', '0001025339                                     ']], [['NQR456', 'BMT', '03/29/2015', '04:00:00', 'REGULAR', '0004698616', '0001025344                                     ']], [['NQR456', 'BMT', '03/29/2015', '08:00:00', 'REGULAR', '0004698629', '0001025355                                     ']], [['NQR456', 'BMT', '03/29/2015', '12:00:00', 'REGULAR', '0004698710', '0001025395                                     ']], [['NQR456', 'BMT', '03/29/2015', '16:00:00', 'REGULAR', '0004698945', '0001025438                                     ']], [['NQR456', 'BMT', '03/29/2015', '20:00:00', 'REGULAR', '0004699234', '0001025467                                     ']], [['NQR456', 'BMT', '03/30/2015', '00:00:00', 'REGULAR', '0004699368', '0001025482                                     ']], [['NQR456', 'BMT', '03/30/2015', '04:00:00', 'REGULAR', '0004699376', '0001025485                                     ']], [['NQR456', 'BMT', '03/30/2015', '08:00:00', 'REGULAR', '0004699416', '0001025538                                     ']], [['NQR456', 'BMT', '03/30/2015', '12:00:00', 'REGULAR', '0004699571', '0001025695                                     ']], [['NQR456', 'BMT', '03/30/2015', '16:00:00', 'REGULAR', '0004699793', '0001025751                                     ']], [['NQR456', 'BMT', '03/30/2015', '20:00:00', 'REGULAR', '0004700606', '0001025812                                     ']], [['NQR456', 'BMT', '03/31/2015', '00:00:00', 'REGULAR', '0004700816', '0001025832                                     ']], [['NQR456', 'BMT', '03/31/2015', '04:00:00', 'REGULAR', '0004700826', '0001025835                                     ']], [['NQR456', 'BMT', '03/31/2015', '08:00:00', 'REGULAR', '0004700866', '0001025890                                     ']], [['NQR456', 'BMT', '03/31/2015', '12:00:00', 'REGULAR', '0004701055', '0001026048                                     ']], [['NQR456', 'BMT', '03/31/2015', '16:00:00', 'REGULAR', '0004701323', '0001026102                                     ']], [['NQR456', 'BMT', '03/31/2015', '20:00:00', 'REGULAR', '0004702100', '0001026154                                     ']], [['NQR456', 'BMT', '04/01/2015', '00:00:00', 'REGULAR', '0004702288', '0001026179                                     ']], [['NQR456', 'BMT', '04/01/2015', '04:00:00', 'REGULAR', '0004702301', '0001026182                                     ']], [['NQR456', 'BMT', '04/01/2015', '08:00:00', 'REGULAR', '0004702352', '0001026232                                     ']], [['NQR456', 'BMT', '04/01/2015', '12:00:00', 'REGULAR', '0004702546', '0001026352                                     ']], [['NQR456', 'BMT', '04/01/2015', '16:00:00', 'REGULAR', '0004702830', '0001026416                                     ']], [['NQR456', 'BMT', '04/01/2015', '20:00:00', 'REGULAR', '0004703645', '0001026459                                     ']], [['NQR456', 'BMT', '04/02/2015', '00:00:00', 'REGULAR', '0004703873', '0001026493                                     ']], [['NQR456', 'BMT', '04/02/2015', '04:00:00', 'REGULAR', '0004703893', '0001026501                                     ']], [['NQR456', 'BMT', '04/02/2015', '08:00:00', 'REGULAR', '0004703934', '0001026544                                     ']], [['NQR456', 'BMT', '04/02/2015', '12:00:00', 'REGULAR', '0004704109', '0001026674                                     ']], [['NQR456', 'BMT', '04/02/2015', '16:00:00', 'REGULAR', '0004704444', '0001026729                                     ']], [['NQR456', 'BMT', '04/02/2015', '20:00:00', 'REGULAR', '0004705194', '0001026784                                     ']], [['NQR456', 'BMT', '04/03/2015', '00:00:00', 'REGULAR', '0004705479', '0001026815                                     ']], [['NQR456', 'BMT', '04/03/2015', '04:00:00', 'REGULAR', '0004705496', '0001026816                                     ']], [['NQR456', 'BMT', '04/03/2015', '08:00:00', 'REGULAR', '0004705515', '0001026838                                     ']], [['NQR456', 'BMT', '04/03/2015', '12:00:00', 'REGULAR', '0004705650', '0001026931                                     ']], [['NQR456', 'BMT', '04/03/2015', '16:00:00', 'REGULAR', '0004705860', '0001026988                                     ']], [['NQR456', 'BMT', '04/03/2015', '20:00:00', 'REGULAR', '0004706315', '0001027044                                     ']]]\n"
       ]
      }
     ],
     "prompt_number": 69
    },
    {
     "cell_type": "code",
     "collapsed": false,
     "input": [
      "import dateutil.parser"
     ],
     "language": "python",
     "metadata": {},
     "outputs": [],
     "prompt_number": 72
    },
    {
     "cell_type": "code",
     "collapsed": false,
     "input": [
      "dateutil.parser.parse(\"09-27-14\")"
     ],
     "language": "python",
     "metadata": {},
     "outputs": [
      {
       "metadata": {},
       "output_type": "pyout",
       "prompt_number": 74,
       "text": [
        "datetime.datetime(2014, 9, 27, 0, 0)"
       ]
      }
     ],
     "prompt_number": 74
    },
    {
     "cell_type": "code",
     "collapsed": false,
     "input": [
      "row[0]"
     ],
     "language": "python",
     "metadata": {},
     "outputs": [
      {
       "metadata": {},
       "output_type": "pyout",
       "prompt_number": 75,
       "text": [
        "'TRAM2'"
       ]
      }
     ],
     "prompt_number": 75
    },
    {
     "cell_type": "code",
     "collapsed": false,
     "input": [
      "row[1]"
     ],
     "language": "python",
     "metadata": {},
     "outputs": [
      {
       "metadata": {},
       "output_type": "pyout",
       "prompt_number": 76,
       "text": [
        "'R469'"
       ]
      }
     ],
     "prompt_number": 76
    },
    {
     "cell_type": "code",
     "collapsed": false,
     "input": [
      "row[]"
     ],
     "language": "python",
     "metadata": {},
     "outputs": []
    }
   ],
   "metadata": {}
  }
 ]
}