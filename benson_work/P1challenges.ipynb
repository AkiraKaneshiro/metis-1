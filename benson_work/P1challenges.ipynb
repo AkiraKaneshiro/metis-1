{
 "cells": [
  {
   "cell_type": "code",
   "execution_count": 1,
   "metadata": {
    "collapsed": false
   },
   "outputs": [
    {
     "data": {
      "text/plain": [
       "['C/A',\n",
       " 'UNIT',\n",
       " 'SCP',\n",
       " 'STATION',\n",
       " 'LINENAME',\n",
       " 'DIVISION',\n",
       " 'DATE',\n",
       " 'TIME',\n",
       " 'DESC',\n",
       " 'ENTRIES',\n",
       " 'EXITS                                                               ']"
      ]
     },
     "execution_count": 1,
     "metadata": {},
     "output_type": "execute_result"
    }
   ],
   "source": [
    "# loading data\n",
    "\n",
    "import csv\n",
    "mydict = {}\n",
    "reader = csv.reader(open(\"turnstile_150404.txt\", \"r\"))\n",
    "reader.next()\n"
   ]
  },
  {
   "cell_type": "code",
   "execution_count": 6,
   "metadata": {
    "collapsed": false
   },
   "outputs": [
    {
     "ename": "KeyError",
     "evalue": "('A002', 'R051', '02-00-00', 'LEXINGTON AVE')",
     "output_type": "error",
     "traceback": [
      "\u001b[0;31m---------------------------------------------------------------------------\u001b[0m\n\u001b[0;31mKeyError\u001b[0m                                  Traceback (most recent call last)",
      "\u001b[0;32m<ipython-input-6-26f79c17c0b9>\u001b[0m in \u001b[0;36m<module>\u001b[0;34m()\u001b[0m\n\u001b[1;32m      9\u001b[0m     \u001b[0mmydict\u001b[0m\u001b[0;34m[\u001b[0m\u001b[0mkey\u001b[0m\u001b[0;34m]\u001b[0m\u001b[0;34m.\u001b[0m\u001b[0mappend\u001b[0m\u001b[0;34m(\u001b[0m\u001b[0mvalue\u001b[0m\u001b[0;34m)\u001b[0m\u001b[0;34m\u001b[0m\u001b[0m\n\u001b[1;32m     10\u001b[0m \u001b[0;34m\u001b[0m\u001b[0m\n\u001b[0;32m---> 11\u001b[0;31m \u001b[0;32mprint\u001b[0m \u001b[0mmydict\u001b[0m\u001b[0;34m[\u001b[0m\u001b[0;34m(\u001b[0m\u001b[0;34m'A002'\u001b[0m\u001b[0;34m,\u001b[0m\u001b[0;34m'R051'\u001b[0m\u001b[0;34m,\u001b[0m\u001b[0;34m'02-00-00'\u001b[0m\u001b[0;34m,\u001b[0m\u001b[0;34m'LEXINGTON AVE'\u001b[0m\u001b[0;34m)\u001b[0m\u001b[0;34m]\u001b[0m\u001b[0;34m\u001b[0m\u001b[0m\n\u001b[0m\u001b[1;32m     12\u001b[0m \u001b[0;31m# print mydict\u001b[0m\u001b[0;34m\u001b[0m\u001b[0;34m\u001b[0m\u001b[0m\n",
      "\u001b[0;31mKeyError\u001b[0m: ('A002', 'R051', '02-00-00', 'LEXINGTON AVE')"
     ]
    }
   ],
   "source": [
    "# CHALLENGE 1\n",
    "\n",
    "mydict = {}\n",
    "\n",
    "for num, row in enumerate(reader):\n",
    "    key = tuple(row[0:4])\n",
    "    value = [row[4:]]\n",
    "    mydict.setdefault(key, [])\n",
    "    mydict[key].append(value)\n",
    "    \n",
    "print mydict[('A002','R051','02-00-00','LEXINGTON AVE')]\n",
    "# print mydict\n"
   ]
  },
  {
   "cell_type": "code",
   "execution_count": 5,
   "metadata": {
    "collapsed": false
   },
   "outputs": [
    {
     "name": "stdout",
     "output_type": "stream",
     "text": [
      "[[datetime.datetime(2015, 3, 28, 0, 0), 5065382], [datetime.datetime(2015, 3, 28, 4, 0), 38], [datetime.datetime(2015, 3, 28, 8, 0), 12], [datetime.datetime(2015, 3, 28, 12, 0), 135], [datetime.datetime(2015, 3, 28, 16, 0), 300], [datetime.datetime(2015, 3, 28, 20, 0), 430], [datetime.datetime(2015, 3, 29, 0, 0), 190], [datetime.datetime(2015, 3, 29, 4, 0), 38], [datetime.datetime(2015, 3, 29, 8, 0), 13], [datetime.datetime(2015, 3, 29, 12, 0), 85], [datetime.datetime(2015, 3, 29, 16, 0), 215], [datetime.datetime(2015, 3, 29, 20, 0), 330], [datetime.datetime(2015, 3, 30, 0, 0), 159], [datetime.datetime(2015, 3, 30, 4, 0), 8], [datetime.datetime(2015, 3, 30, 8, 0), 53], [datetime.datetime(2015, 3, 30, 12, 0), 178], [datetime.datetime(2015, 3, 30, 16, 0), 339], [datetime.datetime(2015, 3, 30, 20, 0), 982], [datetime.datetime(2015, 3, 31, 0, 0), 250], [datetime.datetime(2015, 3, 31, 4, 0), 13], [datetime.datetime(2015, 3, 31, 8, 0), 46], [datetime.datetime(2015, 3, 31, 12, 0), 184], [datetime.datetime(2015, 3, 31, 16, 0), 332], [datetime.datetime(2015, 3, 31, 20, 0), 880], [datetime.datetime(2015, 4, 1, 0, 0), 228], [datetime.datetime(2015, 4, 1, 4, 0), 21], [datetime.datetime(2015, 4, 1, 8, 0), 42], [datetime.datetime(2015, 4, 1, 12, 0), 205], [datetime.datetime(2015, 4, 1, 16, 0), 345], [datetime.datetime(2015, 4, 1, 20, 0), 951], [datetime.datetime(2015, 4, 2, 0, 0), 261], [datetime.datetime(2015, 4, 2, 4, 0), 25], [datetime.datetime(2015, 4, 2, 8, 0), 42], [datetime.datetime(2015, 4, 2, 12, 0), 172], [datetime.datetime(2015, 4, 2, 16, 0), 378], [datetime.datetime(2015, 4, 2, 20, 0), 980], [datetime.datetime(2015, 4, 3, 0, 0), 322], [datetime.datetime(2015, 4, 3, 4, 0), 34], [datetime.datetime(2015, 4, 3, 8, 0), 39], [datetime.datetime(2015, 4, 3, 12, 0), 175], [datetime.datetime(2015, 4, 3, 16, 0), 434], [datetime.datetime(2015, 4, 3, 20, 0), 586]]\n"
     ]
    }
   ],
   "source": [
    "# CHALLENGE 2\n",
    "\n",
    "import dateutil.parser\n",
    "\n",
    "import csv\n",
    "mydict = {}\n",
    "reader = csv.reader(open(\"turnstile_150404.txt\", \"r\"))\n",
    "reader.next()\n",
    "\n",
    "mydict2 = {}\n",
    "\n",
    "for num, row in enumerate(reader):\n",
    "    key = tuple(row[0:4])\n",
    "    dateptime = row[6] + \" \" + row[7]\n",
    "    datet = dateutil.parser.parse(dateptime)\n",
    "    value = [datet, int(row[9])]\n",
    "    mydict2.setdefault(key, [])\n",
    "    mydict2[key].append(value)\n",
    "    \n",
    "for k,v in mydict2.iteritems():\n",
    "    for i in range(len(v)):\n",
    "        if i < len(v):\n",
    "            mydict2[k] [len(v)-i-1] [1] = abs(mydict2[k] [len(v)-i-1] [1] - mydict2[k] [len(v)-i-2] [1])\n",
    "        else:\n",
    "            mydict2[k] [len(v)-i-1] [1] = 0\n",
    "\n",
    "    \n",
    "print mydict2[('A002','R051','02-00-00','LEXINGTON AVE')]\n",
    "# print mydict2\n"
   ]
  },
  {
   "cell_type": "code",
   "execution_count": 30,
   "metadata": {
    "collapsed": false
   },
   "outputs": [
    {
     "name": "stdout",
     "output_type": "stream",
     "text": [
      "04/03/2015\n",
      "21:00:00\n",
      "04/03/2015 21:00:00\n",
      "[datetime.datetime(2015, 4, 3, 21, 0), '0000005554']\n"
     ]
    },
    {
     "data": {
      "text/plain": [
       "list"
      ]
     },
     "execution_count": 30,
     "metadata": {},
     "output_type": "execute_result"
    }
   ],
   "source": [
    "print row[6]\n",
    "print row[7]\n",
    "dateptime = row[6] + \" \" + row[7]\n",
    "print dateptime\n",
    "datet = dateutil.parser.parse(dateptime)\n",
    "value = [datet, row[9]]\n",
    "print value\n",
    "type(value)\n"
   ]
  },
  {
   "cell_type": "code",
   "execution_count": null,
   "metadata": {
    "collapsed": false
   },
   "outputs": [],
   "source": [
    "for num, row in enumerate(reader):\n",
    "    key = tuple(row[0:4])\n",
    "    \n",
    "    \n",
    "mydict2 ={}\n",
    "    \n",
    "for k, v in mydict.iteritems():\n",
    "    basecount = int(v[0],[5])\n",
    "    total = 0\n",
    "    dateptime = v[2] + \" \" + v[3]\n",
    "    datet = dateutil.parser.parse(dateptime)\n",
    "    value = [datet, int(row[9])]\n",
    "    mydict2[k].append(value)\n",
    "    for el in v:\n",
    "        count = int(el[5]) - basecount\n",
    "        total += count\n",
    "        value = [datet, count]\n",
    "    \n",
    "print mydict[('A002','R051','02-00-00','LEXINGTON AVE')]\n",
    "# print mydict"
   ]
  },
  {
   "cell_type": "code",
   "execution_count": 19,
   "metadata": {
    "collapsed": false
   },
   "outputs": [
    {
     "name": "stdout",
     "output_type": "stream",
     "text": [
      "5065968\n",
      "-5065930\n",
      "-10131898\n"
     ]
    },
    {
     "ename": "KeyError",
     "evalue": "1",
     "output_type": "error",
     "traceback": [
      "\u001b[0;31m---------------------------------------------------------------------------\u001b[0m\n\u001b[0;31mKeyError\u001b[0m                                  Traceback (most recent call last)",
      "\u001b[0;32m<ipython-input-19-883719b21c16>\u001b[0m in \u001b[0;36m<module>\u001b[0;34m()\u001b[0m\n\u001b[1;32m      4\u001b[0m \u001b[0mmydict2\u001b[0m\u001b[0;34m[\u001b[0m\u001b[0;34m(\u001b[0m\u001b[0;34m'A002'\u001b[0m\u001b[0;34m,\u001b[0m\u001b[0;34m'R051'\u001b[0m\u001b[0;34m,\u001b[0m\u001b[0;34m'02-00-00'\u001b[0m\u001b[0;34m,\u001b[0m\u001b[0;34m'LEXINGTON AVE'\u001b[0m\u001b[0;34m)\u001b[0m\u001b[0;34m]\u001b[0m \u001b[0;34m[\u001b[0m\u001b[0;36m1\u001b[0m\u001b[0;34m]\u001b[0m\u001b[0;34m[\u001b[0m\u001b[0;36m1\u001b[0m\u001b[0;34m]\u001b[0m \u001b[0;34m=\u001b[0m \u001b[0mmydict2\u001b[0m\u001b[0;34m[\u001b[0m\u001b[0;34m(\u001b[0m\u001b[0;34m'A002'\u001b[0m\u001b[0;34m,\u001b[0m\u001b[0;34m'R051'\u001b[0m\u001b[0;34m,\u001b[0m\u001b[0;34m'02-00-00'\u001b[0m\u001b[0;34m,\u001b[0m\u001b[0;34m'LEXINGTON AVE'\u001b[0m\u001b[0;34m)\u001b[0m\u001b[0;34m]\u001b[0m \u001b[0;34m[\u001b[0m\u001b[0;36m1\u001b[0m\u001b[0;34m]\u001b[0m\u001b[0;34m[\u001b[0m\u001b[0;36m1\u001b[0m\u001b[0;34m]\u001b[0m \u001b[0;34m-\u001b[0m \u001b[0mmydict2\u001b[0m\u001b[0;34m[\u001b[0m\u001b[0;34m(\u001b[0m\u001b[0;34m'A002'\u001b[0m\u001b[0;34m,\u001b[0m\u001b[0;34m'R051'\u001b[0m\u001b[0;34m,\u001b[0m\u001b[0;34m'02-00-00'\u001b[0m\u001b[0;34m,\u001b[0m\u001b[0;34m'LEXINGTON AVE'\u001b[0m\u001b[0;34m)\u001b[0m\u001b[0;34m]\u001b[0m \u001b[0;34m[\u001b[0m\u001b[0;36m0\u001b[0m\u001b[0;34m]\u001b[0m\u001b[0;34m[\u001b[0m\u001b[0;36m1\u001b[0m\u001b[0;34m]\u001b[0m\u001b[0;34m\u001b[0m\u001b[0m\n\u001b[1;32m      5\u001b[0m \u001b[0;32mprint\u001b[0m \u001b[0mmydict2\u001b[0m\u001b[0;34m[\u001b[0m\u001b[0;34m(\u001b[0m\u001b[0;34m'A002'\u001b[0m\u001b[0;34m,\u001b[0m\u001b[0;34m'R051'\u001b[0m\u001b[0;34m,\u001b[0m\u001b[0;34m'02-00-00'\u001b[0m\u001b[0;34m,\u001b[0m\u001b[0;34m'LEXINGTON AVE'\u001b[0m\u001b[0;34m)\u001b[0m\u001b[0;34m]\u001b[0m \u001b[0;34m[\u001b[0m\u001b[0;36m1\u001b[0m\u001b[0;34m]\u001b[0m\u001b[0;34m[\u001b[0m\u001b[0;36m1\u001b[0m\u001b[0;34m]\u001b[0m\u001b[0;34m\u001b[0m\u001b[0m\n\u001b[0;32m----> 6\u001b[0;31m \u001b[0;32mprint\u001b[0m \u001b[0mlen\u001b[0m\u001b[0;34m(\u001b[0m\u001b[0mmydict2\u001b[0m\u001b[0;34m[\u001b[0m\u001b[0;36m1\u001b[0m\u001b[0;34m]\u001b[0m\u001b[0;34m)\u001b[0m\u001b[0;34m\u001b[0m\u001b[0m\n\u001b[0m",
      "\u001b[0;31mKeyError\u001b[0m: 1"
     ]
    }
   ],
   "source": [
    "print mydict2[('A002','R051','02-00-00','LEXINGTON AVE')] [0][1]\n",
    "print mydict2[('A002','R051','02-00-00','LEXINGTON AVE')] [1][1]\n",
    "len(mydict2[('A002','R051','02-00-00','LEXINGTON AVE')])\n",
    "mydict2[('A002','R051','02-00-00','LEXINGTON AVE')] [1][1] = mydict2[('A002','R051','02-00-00','LEXINGTON AVE')] [1][1] - mydict2[('A002','R051','02-00-00','LEXINGTON AVE')] [0][1]\n",
    "print mydict2[('A002','R051','02-00-00','LEXINGTON AVE')] [1][1]\n",
    "print len(mydict2[1])"
   ]
  },
  {
   "cell_type": "code",
   "execution_count": 9,
   "metadata": {
    "collapsed": false
   },
   "outputs": [
    {
     "name": "stdout",
     "output_type": "stream",
     "text": [
      "[[datetime.datetime(2015, 3, 28, 0, 0), 5065382], [datetime.datetime(2015, 3, 28, 4, 0), 38], [datetime.datetime(2015, 3, 28, 8, 0), 12], [datetime.datetime(2015, 3, 28, 12, 0), 135], [datetime.datetime(2015, 3, 28, 16, 0), 300], [datetime.datetime(2015, 3, 28, 20, 0), 430], [datetime.datetime(2015, 3, 29, 0, 0), 190], [datetime.datetime(2015, 3, 29, 4, 0), 38], [datetime.datetime(2015, 3, 29, 8, 0), 13], [datetime.datetime(2015, 3, 29, 12, 0), 85], [datetime.datetime(2015, 3, 29, 16, 0), 215], [datetime.datetime(2015, 3, 29, 20, 0), 330], [datetime.datetime(2015, 3, 30, 0, 0), 159], [datetime.datetime(2015, 3, 30, 4, 0), 8], [datetime.datetime(2015, 3, 30, 8, 0), 53], [datetime.datetime(2015, 3, 30, 12, 0), 178], [datetime.datetime(2015, 3, 30, 16, 0), 339], [datetime.datetime(2015, 3, 30, 20, 0), 982], [datetime.datetime(2015, 3, 31, 0, 0), 250], [datetime.datetime(2015, 3, 31, 4, 0), 13], [datetime.datetime(2015, 3, 31, 8, 0), 46], [datetime.datetime(2015, 3, 31, 12, 0), 184], [datetime.datetime(2015, 3, 31, 16, 0), 332], [datetime.datetime(2015, 3, 31, 20, 0), 880], [datetime.datetime(2015, 4, 1, 0, 0), 228], [datetime.datetime(2015, 4, 1, 4, 0), 21], [datetime.datetime(2015, 4, 1, 8, 0), 42], [datetime.datetime(2015, 4, 1, 12, 0), 205], [datetime.datetime(2015, 4, 1, 16, 0), 345], [datetime.datetime(2015, 4, 1, 20, 0), 951], [datetime.datetime(2015, 4, 2, 0, 0), 261], [datetime.datetime(2015, 4, 2, 4, 0), 25], [datetime.datetime(2015, 4, 2, 8, 0), 42], [datetime.datetime(2015, 4, 2, 12, 0), 172], [datetime.datetime(2015, 4, 2, 16, 0), 378], [datetime.datetime(2015, 4, 2, 20, 0), 980], [datetime.datetime(2015, 4, 3, 0, 0), 322], [datetime.datetime(2015, 4, 3, 4, 0), 34], [datetime.datetime(2015, 4, 3, 8, 0), 39], [datetime.datetime(2015, 4, 3, 12, 0), 175], [datetime.datetime(2015, 4, 3, 16, 0), 434], [datetime.datetime(2015, 4, 3, 20, 0), 586]]\n",
      "42\n",
      "0\n",
      "2015-04-03 20:00:00 2015-04-03 16:00:00\n",
      "1\n",
      "2015-04-03 16:00:00 2015-04-03 12:00:00\n",
      "2\n",
      "2015-04-03 12:00:00 2015-04-03 08:00:00\n",
      "3\n",
      "2015-04-03 08:00:00 2015-04-03 04:00:00\n",
      "4\n",
      "2015-04-03 04:00:00 2015-04-03 00:00:00\n",
      "5\n",
      "2015-04-03 00:00:00 2015-04-02 20:00:00\n",
      "6\n",
      "2015-04-02 20:00:00 2015-04-02 16:00:00\n",
      "7\n",
      "2015-04-02 16:00:00 2015-04-02 12:00:00\n",
      "8\n",
      "2015-04-02 12:00:00 2015-04-02 08:00:00\n",
      "9\n",
      "2015-04-02 08:00:00 2015-04-02 04:00:00\n",
      "10\n",
      "2015-04-02 04:00:00 2015-04-02 00:00:00\n",
      "11\n",
      "2015-04-02 00:00:00 2015-04-01 20:00:00\n",
      "12\n",
      "2015-04-01 20:00:00 2015-04-01 16:00:00\n",
      "13\n",
      "2015-04-01 16:00:00 2015-04-01 12:00:00\n",
      "14\n",
      "2015-04-01 12:00:00 2015-04-01 08:00:00\n",
      "15\n",
      "2015-04-01 08:00:00 2015-04-01 04:00:00\n",
      "16\n",
      "2015-04-01 04:00:00 2015-04-01 00:00:00\n",
      "17\n",
      "2015-04-01 00:00:00 2015-03-31 20:00:00\n",
      "18\n",
      "2015-03-31 20:00:00 2015-03-31 16:00:00\n",
      "19\n",
      "2015-03-31 16:00:00 2015-03-31 12:00:00\n",
      "20\n",
      "2015-03-31 12:00:00 2015-03-31 08:00:00\n",
      "21\n",
      "2015-03-31 08:00:00 2015-03-31 04:00:00\n",
      "22\n",
      "2015-03-31 04:00:00 2015-03-31 00:00:00\n",
      "23\n",
      "2015-03-31 00:00:00 2015-03-30 20:00:00\n",
      "24\n",
      "2015-03-30 20:00:00 2015-03-30 16:00:00\n",
      "25\n",
      "2015-03-30 16:00:00 2015-03-30 12:00:00\n",
      "26\n",
      "2015-03-30 12:00:00 2015-03-30 08:00:00\n",
      "27\n",
      "2015-03-30 08:00:00 2015-03-30 04:00:00\n",
      "28\n",
      "2015-03-30 04:00:00 2015-03-30 00:00:00\n",
      "29\n",
      "2015-03-30 00:00:00 2015-03-29 20:00:00\n",
      "30\n",
      "2015-03-29 20:00:00 2015-03-29 16:00:00\n",
      "31\n",
      "2015-03-29 16:00:00 2015-03-29 12:00:00\n",
      "32\n",
      "2015-03-29 12:00:00 2015-03-29 08:00:00\n",
      "33\n",
      "2015-03-29 08:00:00 2015-03-29 04:00:00\n",
      "34\n",
      "2015-03-29 04:00:00 2015-03-29 00:00:00\n",
      "35\n",
      "2015-03-29 00:00:00 2015-03-28 20:00:00\n",
      "36\n",
      "2015-03-28 20:00:00 2015-03-28 16:00:00\n",
      "37\n",
      "2015-03-28 16:00:00 2015-03-28 12:00:00\n",
      "38\n",
      "2015-03-28 12:00:00 2015-03-28 08:00:00\n",
      "39\n",
      "2015-03-28 08:00:00 2015-03-28 04:00:00\n",
      "40\n",
      "2015-03-28 04:00:00 2015-03-28 00:00:00\n",
      "41\n",
      "2015-03-28 00:00:00 2015-04-03 20:00:00\n"
     ]
    }
   ],
   "source": [
    "v = mydict2[('A002','R051','02-00-00','LEXINGTON AVE')]\n",
    "print v\n",
    "print len(v)\n",
    "for i in range(len(v)):\n",
    "    if i < len(v):\n",
    "        print i\n",
    "        print v [len(v)-i-1] [0], v [len(v)-i-2] [0]\n",
    "    else:\n",
    "        print i\n",
    "        print 'first =', v [len(v)-i-1] [0]"
   ]
  },
  {
   "cell_type": "code",
   "execution_count": 3,
   "metadata": {
    "collapsed": false
   },
   "outputs": [
    {
     "name": "stdout",
     "output_type": "stream",
     "text": [
      "False\n"
     ]
    }
   ],
   "source": [
    "print (2015, 3, 29) < (2015, 3, 28)"
   ]
  },
  {
   "cell_type": "code",
   "execution_count": null,
   "metadata": {
    "collapsed": true
   },
   "outputs": [],
   "source": []
  }
 ],
 "metadata": {
  "kernelspec": {
   "display_name": "Python 2",
   "language": "python",
   "name": "python2"
  },
  "language_info": {
   "codemirror_mode": {
    "name": "ipython",
    "version": 2
   },
   "file_extension": ".py",
   "mimetype": "text/x-python",
   "name": "python",
   "nbconvert_exporter": "python",
   "pygments_lexer": "ipython2",
   "version": "2.7.9"
  }
 },
 "nbformat": 4,
 "nbformat_minor": 0
}
