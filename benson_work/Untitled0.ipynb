{
 "metadata": {
  "name": "",
  "signature": "sha256:eda2c95b9e5421f75efd6652c22136ee21f7c610b42660079c76d260fe58f333"
 },
 "nbformat": 3,
 "nbformat_minor": 0,
 "worksheets": []
}