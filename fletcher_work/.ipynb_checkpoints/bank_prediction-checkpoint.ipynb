{
 "cells": [
  {
   "cell_type": "code",
   "execution_count": null,
   "metadata": {
    "collapsed": false
   },
   "outputs": [],
   "source": [
    "import flask\n",
    "from sklearn.linear_model import LogisticRegression\n",
    "import numpy as np\n",
    "import csv\n",
    "from sklearn import cross_validation\n",
    "from pandas import *\n",
    "\n",
    "bank_full = read_csv('bank-additional-full.csv', delimiter=';', header=0)\n",
    "bank = bank_full[['age','emp.var.rate','euribor3m','y']]\n",
    "X = bank.drop('y', 1)\n",
    "y = bank['y']\n",
    "X_train, X_test, y_train, y_test = cross_validation.train_test_split(X, y, test_size=0.15, random_state=0)\n",
    "log_model = LogisticRegression()\n",
    "PREDICTOR = log_model.fit(X_train, y_train)\n",
    "\n",
    "\n",
    "#---------- MODEL IN MEMORY ----------------#\n",
    "\n",
    "# Read the scientific data on breast cancer survival,\n",
    "# Build a LogisticRegression predictor on it\n",
    "#patients = pd.read_csv(\"haberman.data\", header=None)\n",
    "#patients.columns=['age','year','nodes','survived']\n",
    "#patients=patients.replace(2,0)  # The value 2 means death in 5 years\n",
    "\n",
    "#X = patients[['age','year','nodes']]\n",
    "#Y = patients['survived']\n",
    "#PREDICTOR = LogisticRegression().fit(X,Y)\n",
    "\n",
    "\n",
    "#---------- URLS AND WEB PAGES -------------#\n",
    "\n",
    "# Initialize the app\n",
    "app = flask.Flask(__name__)\n",
    "\n",
    "# Homepage\n",
    "@app.route(\"/\")\n",
    "def viz_page():\n",
    "    \"\"\"\n",
    "    Homepage: serve our visualization page, awesome.html\n",
    "    \"\"\"\n",
    "    with open(\"index.html\", 'r') as viz_file:\n",
    "        return viz_file.read()\n",
    "\n",
    "# Get an example and return it's score from the predictor model\n",
    "@app.route(\"/score\", methods=[\"POST\"])\n",
    "def score():\n",
    "    \"\"\"\n",
    "    When A POST request with json data is made to this uri,\n",
    "    Read the example from the json, predict probability and\n",
    "    send it with a response\n",
    "    \"\"\"\n",
    "    # Get decision score for our example that came with the request\n",
    "    data = flask.request.json\n",
    "    x = np.matrix(data[\"example\"])\n",
    "    score = PREDICTOR.predict_proba(x)\n",
    "    # Put the result in a nice dict so we can send it as json\n",
    "    results = {\"score\": score[0,1]}\n",
    "    return flask.jsonify(results)\n",
    "\n",
    "#--------- RUN WEB APP SERVER ------------#\n",
    "\n",
    "# Start the app server on port 80\n",
    "# (The default website port)\n",
    "app.run()\n",
    "#app.run(host='0.0.0.0', port=80)"
   ]
  },
  {
   "cell_type": "code",
   "execution_count": null,
   "metadata": {
    "collapsed": true
   },
   "outputs": [],
   "source": []
  }
 ],
 "metadata": {
  "kernelspec": {
   "display_name": "Python 2",
   "language": "python",
   "name": "python2"
  },
  "language_info": {
   "codemirror_mode": {
    "name": "ipython",
    "version": 2
   },
   "file_extension": ".py",
   "mimetype": "text/x-python",
   "name": "python",
   "nbconvert_exporter": "python",
   "pygments_lexer": "ipython2",
   "version": "2.7.9"
  }
 },
 "nbformat": 4,
 "nbformat_minor": 0
}
