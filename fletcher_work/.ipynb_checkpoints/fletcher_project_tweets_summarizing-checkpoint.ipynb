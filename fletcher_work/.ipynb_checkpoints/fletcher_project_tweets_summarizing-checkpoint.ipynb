{
 "cells": [
  {
   "cell_type": "markdown",
   "metadata": {},
   "source": [
    "# Fletcher Project: Tweets Summarizing"
   ]
  },
  {
   "cell_type": "code",
   "execution_count": 1,
   "metadata": {
    "collapsed": true
   },
   "outputs": [],
   "source": [
    "import nltk\n",
    "from nltk.tokenize import sent_tokenize\n",
    "from nltk.tokenize import TreebankWordTokenizer\n",
    "from nltk.tokenize import word_tokenize\n",
    "from nltk.tokenize import wordpunct_tokenize\n",
    "from nltk.tag import pos_tag\n",
    "from nltk.chunk import ne_chunk\n",
    "from nltk.corpus import treebank_chunk\n",
    "from textblob import TextBlob\n",
    "import pymongo\n",
    "from nltk.corpus import stopwords\n",
    "from nltk.corpus import movie_reviews\n",
    "from nltk.util import ngrams\n",
    "from nltk.tokenize import sent_tokenize, word_tokenize\n",
    "from collections import defaultdict\n",
    "from operator import itemgetter\n",
    "import numpy as np\n",
    "from sklearn.feature_extraction.text import TfidfVectorizer\n",
    "from sklearn.naive_bayes import MultinomialNB\n",
    "from __future__ import division, unicode_literals\n",
    "import operator\n",
    "import requests\n",
    "from requests_oauthlib import OAuth1\n",
    "from pymongo import MongoClient\n",
    "import tweepy\n",
    "import cnfg\n",
    "import numpy as np\n",
    "import re"
   ]
  },
  {
   "cell_type": "code",
   "execution_count": 499,
   "metadata": {
    "collapsed": true
   },
   "outputs": [],
   "source": [
    "client = MongoClient()"
   ]
  },
  {
   "cell_type": "code",
   "execution_count": 500,
   "metadata": {
    "collapsed": true
   },
   "outputs": [],
   "source": [
    "datatweets = client.dsbc.datatweets"
   ]
  },
  {
   "cell_type": "code",
   "execution_count": 501,
   "metadata": {
    "collapsed": false
   },
   "outputs": [
    {
     "data": {
      "text/plain": [
       "{u'n': 50, u'ok': 1}"
      ]
     },
     "execution_count": 501,
     "metadata": {},
     "output_type": "execute_result"
    }
   ],
   "source": [
    "datatweets.remove( { } )"
   ]
  },
  {
   "cell_type": "code",
   "execution_count": 502,
   "metadata": {
    "collapsed": false
   },
   "outputs": [],
   "source": [
    "datatweets = client.dsbc.datatweets\n",
    "for k in tweets:\n",
    "    datatweets_d = {'id': k}\n",
    "    datatweets.insert(datatweets_d)"
   ]
  },
  {
   "cell_type": "code",
   "execution_count": 503,
   "metadata": {
    "collapsed": false
   },
   "outputs": [
    {
     "data": {
      "text/plain": [
       "Collection(Database(MongoClient('localhost', 27017), u'dsbc'), u'datatweets')"
      ]
     },
     "execution_count": 503,
     "metadata": {},
     "output_type": "execute_result"
    }
   ],
   "source": [
    "datatweets"
   ]
  },
  {
   "cell_type": "code",
   "execution_count": 504,
   "metadata": {
    "collapsed": false
   },
   "outputs": [
    {
     "data": {
      "text/plain": [
       "200"
      ]
     },
     "execution_count": 504,
     "metadata": {},
     "output_type": "execute_result"
    }
   ],
   "source": [
    "datatweets.count()"
   ]
  },
  {
   "cell_type": "markdown",
   "metadata": {},
   "source": [
    "## Getting Twitter Data"
   ]
  },
  {
   "cell_type": "code",
   "execution_count": 455,
   "metadata": {
    "collapsed": true
   },
   "outputs": [],
   "source": [
    "config = cnfg.load(\".twitter_config\")"
   ]
  },
  {
   "cell_type": "code",
   "execution_count": 456,
   "metadata": {
    "collapsed": true
   },
   "outputs": [],
   "source": [
    "auth = tweepy.OAuthHandler(config['consumer_key'],\n",
    "              config['consumer_secret'])\n",
    "auth.set_access_token(config['access_token'],\n",
    "              config['access_token_secret'])"
   ]
  },
  {
   "cell_type": "code",
   "execution_count": 457,
   "metadata": {
    "collapsed": true
   },
   "outputs": [],
   "source": [
    "api = tweepy.API(auth)"
   ]
  },
  {
   "cell_type": "code",
   "execution_count": 458,
   "metadata": {
    "collapsed": true
   },
   "outputs": [],
   "source": [
    "account = 'TheEconomist'\n",
    "data_tweets = api.user_timeline(account, count=200)"
   ]
  },
  {
   "cell_type": "markdown",
   "metadata": {},
   "source": [
    "## Setting chosen keyword"
   ]
  },
  {
   "cell_type": "code",
   "execution_count": 478,
   "metadata": {
    "collapsed": true
   },
   "outputs": [],
   "source": [
    "keyword ='china'"
   ]
  },
  {
   "cell_type": "code",
   "execution_count": 479,
   "metadata": {
    "collapsed": false
   },
   "outputs": [],
   "source": [
    "#data_tweets"
   ]
  },
  {
   "cell_type": "code",
   "execution_count": 480,
   "metadata": {
    "collapsed": false,
    "scrolled": true
   },
   "outputs": [
    {
     "data": {
      "text/plain": [
       "[u\"Obama's immigration order is now tied up in courts; this may hurt GOP candidates for 2016 http://t.co/rBxLVX0B6B http://t.co/6JTJ7os9SR\",\n",
       " u\"It is a sweet moment for Europe's Green parties. They shouldn't throw caution to the winds http://t.co/3StZ05O3PU http://t.co/q30srRzvLE\",\n",
       " u'Veer Savarkar: The man who thought Gandhi a sissy http://t.co/4H1tHIwhVP http://t.co/VyRI7p8GAS',\n",
       " u'Never mind planets. The solar system\\u2019s icy moons may be the best places to hunt for aliens http://t.co/ZJ3d9n364m http://t.co/Fyz8MmKOa9',\n",
       " u'Sponsors consider their association with FIFA, today\\u2019s #Dailychart looks at its balance sheet http://t.co/1xy8hqgrq0 http://t.co/24ZkZZWOTm',\n",
       " u'Many cities are losing inhabitants. Better to manage decline than try to stop it http://t.co/a0wR6rAtXo http://t.co/iugbnUtsLr',\n",
       " u'The Economist explains why India\\u2019s heatwaves are so deadly http://t.co/g4FnBUSSCK http://t.co/0EyYeRpbm8',\n",
       " u'The average new mother has become substantially older http://t.co/NzQcc1haX1',\n",
       " u'FIFA has become a global symbol of pervasive corruption. Could this be a turning-point? http://t.co/fjs0LJinTB http://t.co/RIDRPs8Hj5',\n",
       " u\"Join us tomorrow for a special Q&amp;A on India's economy with our South East Asia correspondent http://t.co/j40Mj0m0b1 http://t.co/lALUUzxtQz\",\n",
       " u\"From pants to panettone: how M&amp;S, Britain's biggest clothes retailer, became a posh grocer http://t.co/C5tq7pzWIL\",\n",
       " u\"RT @EconCulture: Our lead in this week's issue on the many symbolisms of #Palmyra http://t.co/x43ul1m64z #IslamicState http://t.co/hcsA9UX2\\u2026\",\n",
       " u'Pacific trade talks have exposed the limits of economic modelling http://t.co/XsTJU8K6KM http://t.co/Guub5o60B5',\n",
       " u'Graphene batteries for electric cars: It may be the breakthrough that changes the future of motoring http://t.co/uAeKNTcEcw',\n",
       " u\"Here are this week's most popular images from our Instagram channel http://t.co/k5XRjonAjl http://t.co/F0TzfQctZ5\",\n",
       " u'What effects does spaceflight have on the skin? As for a few \"astromice\", not good ones http://t.co/TJGUJscPRH http://t.co/HjxxMCyG0T',\n",
       " u'Our economic and financial indicators: updated twice a day, every working day http://t.co/T6PNj2jzHK http://t.co/mNR0jVOROH',\n",
       " u'The lessons of how Russia went to war http://t.co/aHa6yvWBe2 http://t.co/pz9jQ2JgUV',\n",
       " u'Vinayak Damodar Savarkar: the controversial mentor of the Hindu right http://t.co/ak8i1Tb10H http://t.co/azn4kjXu2S',\n",
       " u'The Economist explains rising oil prices http://t.co/Qtg9ZyaHgq http://t.co/rg0DhVr2XU',\n",
       " u'\"Cheeseburger bills\" appear to be good for both bottom-lines and waist-lines http://t.co/IkssLWeCMA http://t.co/fynWbiLJlR',\n",
       " u'Marks &amp; Spencer is quietly turning into an upmarket grocer http://t.co/HNbWeDlBBC http://t.co/HvD3q8qdxE',\n",
       " u'Nigel Farage and UKIP are starting to harm the Eurosceptic cause for which they claim to exist http://t.co/2ZPP0jWykv http://t.co/9NZgI1yXOk',\n",
       " u'See how extraordinarily successful the Indian minority has become in America http://t.co/K4tnL1wRSA http://t.co/em5YPMRqgx',\n",
       " u'This week we have two different regional versions of our cover http://t.co/8JbDT1hEqx http://t.co/q1Xwy9TZgO',\n",
       " u'If persuading people to change their minds about gay marriage is so hard, why is it happening? http://t.co/pmvOgddHMp http://t.co/DKWbjQegG5',\n",
       " u\"It's official: American teens are more narcissistic than their counterparts were 20 years ago http://t.co/v21Y9XFHSX\",\n",
       " u'The pressure on companies to form alliances with rivals is growing inexorably http://t.co/Vmjfoyavv5 http://t.co/5K4r201T0b',\n",
       " u'Marks &amp; Spencer is rivalling Waitrose as a posh grocer http://t.co/b0tLOr1XNX http://t.co/oqkEATBdIQ',\n",
       " u'Narendra Modi has made many promises, but how many are realistic? Join our Q&amp;A tomorrow  and submit questions via: http://t.co/4RWd4ZdkqL',\n",
       " u'From Espresso: Ready, set, go? Britain\\u2019s European question http://t.co/jgVKSXNzIC http://t.co/UR3E3wEsWp',\n",
       " u\"Republicans may celebrate the latest setback of Obama's immigration plan, but the ruling hurts the GOP 2016 field http://t.co/R9X30eO5R6\",\n",
       " u'Ford and GM; Apple and Samsung; even Toyota and BMW? Why so many alliances between rivals? http://t.co/ymsi8jChjj http://t.co/lJj5mbtfPp',\n",
       " u'A round-up of the best books on the battle of Waterloo from @EconCulture http://t.co/ItWfwMHpRw #Waterloo2015 http://t.co/cO44QdHU8U',\n",
       " u\"In this week's Difference engine: cheaper chips even after Moore\\u2019s Law ends http://t.co/O51AH1tzan http://t.co/jUlofVblqP\",\n",
       " u'Released in May 1975, 10cc\\u2019s dreamy record \\u201cI\\u2019m Not in Love\\u201d bucked the saccharine pop trend of boy-loves-girl http://t.co/g43ajXMpOv',\n",
       " u'Bombardier: The Canadian firm is struggling to make its bet on a big new plane pay off http://t.co/8vGClktdq2 http://t.co/TL4Yv0Ql6p',\n",
       " u'What effect have so-called \"Cheeseburger bills\" had on obese Americans? http://t.co/S2v47NDYXO http://t.co/rNPzZrY1ep',\n",
       " u'\"Cheeseburger bills\" appear to be good for both bottom-lines and waist-lines http://t.co/qO3QYE452K http://t.co/faU8b37B73',\n",
       " u'RT @PedderSophie: Beautiful game, dirty business: our @TheEconomist 2014 cover on corruption + football #FIFA http://t.co/QY7PEUpJkz http:/\\u2026',\n",
       " u'RT @ARobertsjourno: #Savarkar recollecting his youth: \\u201cwe vandalised the mosque to our heart\\u2019s content\\u201d, http://t.co/62NjZFQYsq via @TheEco\\u2026',\n",
       " u'Electric cars need better batteries. Graphene may help http://t.co/0Jit5YZGZ9',\n",
       " u'Why is New Zealand such a great place to test digital products? http://t.co/efnZTD8cJ8 http://t.co/s6RkeYky9E',\n",
       " u\"From pants to panettone: how M&amp;S, Britain's biggest clothes retailer, became a posh grocer http://t.co/WsZA8mW6Xh\",\n",
       " u\"In this week's Babbage chat, our correspondents discuss Nokia's bid to offload HERE, its mapping division http://t.co/eu1RaOuGQu\",\n",
       " u'How having children is increasingly becoming a luxury in America @dlknowles   http://t.co/08unG20AC3',\n",
       " u'New film: \"Danny Collins\": How to make a decent film out of near-clich\\xe9 http://t.co/EJcrur6cDa http://t.co/EDn0gpAhiF',\n",
       " u'Ryanair used to be rude about overweight passengers. Its aim should be avoiding flabby middle age itself http://t.co/mZ5ZKt4jb3',\n",
       " u\"The Economist explains why India's heatwaves are so deadly http://t.co/rKANqrkXhf http://t.co/p2X2LIc0WB\",\n",
       " u'Cheeseburger bills: the effects of tort reform on obese Americans http://t.co/wGphdfqu8j http://t.co/wfjXrmLmfJ',\n",
       " u'Religious pluralism is looking less secure in India http://t.co/ZJDj6myn59 http://t.co/7L94y9ETGY',\n",
       " u'It\\u2019s not what you spend: How to make aid to poor countries work better http://t.co/sEYtI2AeNd http://t.co/hptc1Tp84H',\n",
       " u'The Economist explains rising oil prices http://t.co/9wnK4MHZcQ http://t.co/aDesUqJqou',\n",
       " u'Why is the oil price recovering? http://t.co/EazAdNO70v http://t.co/h3wrXLYPou',\n",
       " u\"The best way to modernise India's railways would be to break the state monopoly http://t.co/QlAlSS8XjB http://t.co/bYfTuwLH5A\",\n",
       " u'Gambling in Macau: The territory\\u2019s casinos are betting that a sharp downturn will not last http://t.co/RAPvjvD6Rr http://t.co/mstbhQrA10',\n",
       " u\"While America's overall birth rate keeps declining, well-educated women seem to be having more children, not fewer http://t.co/7vmG52gSD3\",\n",
       " u'In 1994, 35% of American women with a PhD aged 40 to 44 were childless; by last year, this had fallen to 20% http://t.co/C6jJTAGrvK',\n",
       " u'China\\u2019s small investors now have bigger stakes in what is becoming a more dangerous game http://t.co/PMAisp5PVt http://t.co/p7Y4VrnMLL',\n",
       " u'How to wrangle all the health-related questions and answers of the internet http://t.co/hlI2LpUvvv',\n",
       " u'Texas executes more people than any other state, yet its murder rate is no lower for it http://t.co/WlcAbp0z2q',\n",
       " u'Did you know that Winston Churchill painted more than 500 \"daubs\" like this one? http://t.co/9hKjaGhhq7 http://t.co/ToD5N8YMZg',\n",
       " u'It costs on average $90k a year more to keep an inmate on death row than to lock him up in a max-security for life http://t.co/9FQpzTrkIp',\n",
       " u'\"Cheeseburger bills\" appear to be good for both bottom-lines and waist-lines http://t.co/7OX0NeOrlO http://t.co/jxwx4ujM3r',\n",
       " u'Texas\\u2019s population has surged from &lt;15m to almost 27m; the state needs a flooding policy http://t.co/nwTTRj5Pmk http://t.co/FEHIIZKZrN',\n",
       " u'Since 1999, low-income occupations in America have seen income growth well below inflation http://t.co/xrRV4VQUdy http://t.co/acoboEecMQ',\n",
       " u'Nebraska is the first conservative state to ban capital punishment in more than 40 years. Get used to it.  http://t.co/w0JBJLdbXZ',\n",
       " u\"How China's booming stockmarket looks like a classic case of irrational exuberance http://t.co/6vARftgFNs http://t.co/RovNH6lChY\",\n",
       " u'South Bend, Indiana: A company town without a company http://t.co/6rYpQpohdd http://t.co/qmfximuyS8',\n",
       " u'Colm Toibin had so much faith in this writer he founded a publishing imprint to help him reach a wider audience http://t.co/K25BHh1Dog',\n",
       " u'On reflection, this is a really good idea on how to salvage snaps ruined by glass http://t.co/oQ4VHsFs4E http://t.co/GlAjFbz8J0',\n",
       " u'When did early humans first make tools? 3.3 million years ago, judging from this ancient blade http://t.co/Vjgs1Qg0r2 http://t.co/uGobMPcV6E',\n",
       " u'America is falling out of love with the death penalty; Nebraska is the latest in a trend http://t.co/OhOO8l24RH http://t.co/GfzPSuh78u',\n",
       " u'Last year, we predicted the demise of the death penalty. Nebraska has now abolished it http://t.co/C9GANssRZV http://t.co/QVS9AF3p3S',\n",
       " u'Nebraska\\u2019s ban is another sign of the decline in support for the death penalty\\nhttp://t.co/XuiaIYIGUc http://t.co/ttVtUd0gP4',\n",
       " u\"Adapting this novel for the stage seems like an act of hubris, but that hasn't stopped @erstheater http://t.co/0W1dV8AdtE\",\n",
       " u'On gay rights #RickSantorum now lags far behind public opinion, which has shifted markedly since 2012 http://t.co/3fS6YPZSEA',\n",
       " u'Nebraska has just abolished the death penalty; we predicted this turn away from execution last year http://t.co/PKmyr7RgG8',\n",
       " u'RT @EconCulture: Popular this week:\\nAn artist whose work leaves no physical trace -&gt; http://t.co/Wu2jANuG1e\\nOn \"Pentecost\" -&gt; http://t.co/b\\u2026',\n",
       " u\"Nebraska just banned the death penalty; read our coverage of America's fall out of love with the needle\\nhttp://t.co/X4iuOFxB4i\",\n",
       " u'Gambling in Macau: The territory\\u2019s casinos are betting that a sharp downturn will not last http://t.co/VUKG6ncwnO http://t.co/2Axs9E3T5l',\n",
       " u'Nebraska has just abolished the death penalty. Good riddance http://t.co/5Y3AGoECXb',\n",
       " u'Texas has no centralised flood-control programme. This is a problem http://t.co/nlb643NTx7 http://t.co/65GJbaJGm2',\n",
       " u\"In 2007, 51% of America's youth said being famous was one of their principal ambitions. http://t.co/6Mc6bVM6AL\",\n",
       " u'Our #econespresso #quoteoftheday is from Greek lyric poet Simonides. Get the app http://t.co/ZIXGp97H72 http://t.co/McKysoLkBD',\n",
       " u'\"Agents of Empire\" brings the reader back to an era long before the nation-state http://t.co/jHymPxKR0t',\n",
       " u'What does Elizabeth Warren want? It\\u2019s not the presidency, and for good reason http://t.co/CiuSowiDMx http://t.co/7JVZ5LC9W7',\n",
       " u\"#OnThisDay 1930 the Chrysler Building, the world's tallest skyscraper, opened to the public http://t.co/83R9G5RpH0 http://t.co/1yy830zHHM\",\n",
       " u'\"Cheeseburger bills\" appear to be good for both bottom-lines and waist-lines http://t.co/GRRv5HS19V http://t.co/034fW5wjGR',\n",
       " u'Economists often point to earnings data of workers in the top 10%, 1%, or 0.1%. Who are they? http://t.co/v3xvnCfmsr http://t.co/hAWKM2bjSP',\n",
       " u\"RT @intlifemag: Did a Chinese Muslim discover the New World before Columbus? That's what this map claims http://t.co/KR9H2hgptV http://t.co\\u2026\",\n",
       " u'Can the wonder material graphene finally make it big by boosting the electric-car industry? http://t.co/5yWq9CJyPE http://t.co/Pbzm5b3ZPx',\n",
       " u'RT @EconBritain: Did you know that Winston Churchill painted more than 500 \"daubs\" like this one? http://t.co/COGxWd5vKg http://t.co/iWHSoN\\u2026',\n",
       " u'According to one newspaper, as many as 1,500 American pilots are currently prescribed anti-depressants http://t.co/bfaxYRGEs7',\n",
       " u\"Will Ireland's referendum influence the Supreme Court's ruling on gay marriage? @stevenmazie http://t.co/ptq0PgjfvX http://t.co/0urYJJ5oWr\",\n",
       " u'The pressure on companies to form alliances with rivals is growing inexorably http://t.co/yVpSPtl4jR http://t.co/MUK6yEBpzK',\n",
       " u'Britain\\'s police say they could adopt more \"paramilitary\" tactics. Not likely http://t.co/YS0GMu0qex http://t.co/4AUCq0iOEs',\n",
       " u\"China's stockmarket has strayed from growth trends in the past. Now its divergence is extreme http://t.co/KjKJwUrNPN http://t.co/TGtXY6TkEs\",\n",
       " u\"The Large Hadron Collider set a new energy record last week, but there's much more to come http://t.co/XauLnQdDt3 http://t.co/4v2QXwq9qR\",\n",
       " u\"This week's Babbage chat: Nokia seeks bids for its mapping division, and how spaceflight may pose dangers to the skin http://t.co/DnAUmnWyYZ\",\n",
       " u\"Scotland's triumphant nationalists have turned Britain's politics upside down http://t.co/vHa4cVs0zc http://t.co/mmPpsruYgT\",\n",
       " u'Dipping back into deflation: A 55-year rollercoaster ride http://t.co/FsNJmhRlNe http://t.co/7ezQ8OxoYj',\n",
       " u'From the archive: on the 1994 Nobel prize for John Nash, who died this week aged 86 http://t.co/0Lz8aAb6IW http://t.co/a44MzdTEoB',\n",
       " u'#Dailychart: Mobile broadband could reach saturation faster than the mobile phone before it http://t.co/di4idHFgIq http://t.co/4shtPSXrhy',\n",
       " u'The Unite union gave Labour \\xa319m in the last parliament. Does it now get to choose its leader? http://t.co/ekF7auUQon',\n",
       " u'Energy subsidies gobble money. They also kill people and cook the planet http://t.co/A4AhzHZYOo http://t.co/WP2XtmTik9',\n",
       " u'Modi one year on: Join our Q&amp;A on India this Friday at 10am BST. Post your questions now via: http://t.co/h8cpMPNzFY http://t.co/zBauqNVQov',\n",
       " u\"A bid to discover microgravity's long-term effects on mouse skin turns up intriguing results http://t.co/Q2h64ErBUH http://t.co/2aGBkLv46Q\",\n",
       " u\"How China's booming stockmarket looks like a classic case of irrational exuberance http://t.co/3cVGkuUWpQ http://t.co/Ovt1Ri8RXq\",\n",
       " u'The Economist explains: How the wording of the EU referendum could affect the outcome http://t.co/Ts3Oxl93Uc http://t.co/AyQcZrJJd9',\n",
       " u'On the dirty business behind the beautiful game http://t.co/45pdd6s4tJ #FIFA #SeppBlatter http://t.co/NJhKATpDNF',\n",
       " u\"The EU has become so fed up with Hungary's Viktor Orban that it finally just slapped him http://t.co/y18pFAELd9 http://t.co/MKgls2hriM\",\n",
       " u'The Economist explains rising oil prices http://t.co/Xhv3IJQJjZ http://t.co/7wH1vsPNAG',\n",
       " u\"Ryanair's attempt not to \\u201cunnecessarily piss people off\\u201d seems to be paying off http://t.co/cJ3EHSwJKe http://t.co/EuC4rUPFne\",\n",
       " u\"RT @EconBritain: Scotland's triumphant nationalists have turned Britain's politics upside down http://t.co/9SS5E4ttvv http://t.co/ynghSD3qJ6\",\n",
       " u'RT @EconBritain: Mention of closer relations with India in #QueensSpeech. Last govt struggled on that front: http://t.co/OyeIQHdxzU http://\\u2026',\n",
       " u\"RT @EconBritain: Our take on David Cameron's bid for the political centre ground: http://t.co/4tzofiipWI #QueensSpeech http://t.co/I25DxZf7\\u2026\",\n",
       " u'Join Adam Roberts, our South Asia correspondent for a Q&amp;A on India this Friday at 10am BST. Submit your question via: http://t.co/8Kqrmb0kgo',\n",
       " u'China had a stock bubble a short while ago. Is it heading for another? http://t.co/HImGUfRdi9 http://t.co/zDsCJm58bI',\n",
       " u'Giving birth is not yet a luxury good\\u2014but it may be getting that way http://t.co/F44YwfHaOd http://t.co/KvG0nxKZFW',\n",
       " u'FIFA officials have been arrested on suspicion of receiving bribes totalling more than $100m http://t.co/DaxU9YAM2k http://t.co/lrSurN1kQ9',\n",
       " u'Capable he may be, but Narendra Modi must learn to harness the power of those who surround him http://t.co/sM9jDirt7K http://t.co/idUVvYzvjP',\n",
       " u\"Is China's booming stockmarket more like a casino than a solid financial institution? http://t.co/aJyz3hMgbn http://t.co/LNycQQvuuo\",\n",
       " u'Dipping back into deflation: A 55-year rollercoaster ride http://t.co/xP6GClJeDt http://t.co/bMBrjbSIuV',\n",
       " u\"In this week's Difference Engine: how the promise of cheaper chips in Moore\\u2019s Law will live on http://t.co/d8zYC2lcJr http://t.co/a9RD8MCI3b\",\n",
       " u\"The Economist will be live-tweeting Britain's #QueensSpeech at @EconBritain from 11.30 BST. http://t.co/0u5GVCWyun\",\n",
       " u'Corruption within FIFA: Football is a great sport, but run honestly it could be so much better http://t.co/yw2SxCMPUF http://t.co/yamTpCKqNn',\n",
       " u'From Espresso: The queen\\u2019s speech: Cameron\\u2019s balancing act http://t.co/sCx7WqSEJ4 http://t.co/o0uNFx88tq',\n",
       " u'Controversy has erupted over Spike Lee\\u2019s new film, working title \\u201cChiraq\\u201d http://t.co/VHehDRgtGW http://t.co/Gazf5wSwzZ',\n",
       " u'Remembering John Nash: Finding equations to explain the world http://t.co/jMZ65PF9Ht http://t.co/WVBRnMJIui',\n",
       " u'Marks &amp; Spencer is quietly turning into an upmarket grocer http://t.co/SNPEHnwhak http://t.co/cmkebjadMx',\n",
       " u\"How China's booming stockmarket looks like a classic case of irrational exuberance http://t.co/Zc0uoDw0Vw http://t.co/TEFvWfNY9W\",\n",
       " u'Giving birth is not yet a luxury good\\u2014but it may be getting that way http://t.co/3LgFy8dLiv http://t.co/zHOzG8jKFi',\n",
       " u'Indians have become an extraordinarily successful minority in America. A burgeoning new elite http://t.co/INfkP4Dk3S http://t.co/ds5ftfGdJu',\n",
       " u'The pressure on companies to form alliances with rivals is growing inexorably http://t.co/8f93kLrDzb http://t.co/ObCv7hfL4M',\n",
       " u'Our economic and financial indicators: updated twice a day, every working day http://t.co/6VlQa2abkO http://t.co/fFJnsRpxIf',\n",
       " u'Replacing welfare payments with a \\u201cbasic income\\u201d for all is alluring, but expensive http://t.co/DvZGR2aMin http://t.co/zDb8KcUglC',\n",
       " u'Dipping back into deflation: A 55-year rollercoaster ride http://t.co/DCGzk6NlBB http://t.co/mc16inFlz6',\n",
       " u'Illinois\\u2019s public pensions: A setback for efforts to tackle enormous unfunded liabilities http://t.co/DMEd8cVsVT',\n",
       " u'Arevaderci: A struggling and loss-making national champion is set to be taken over http://t.co/pcLxubdoxq http://t.co/LN7SE3Dn5L',\n",
       " u'Ryanair used to be rude about overweight passengers. Its aim should be avoiding flabby middle age itself http://t.co/syRhO8IePD',\n",
       " u'A flaw that affects many photos can now be remedied http://t.co/WDdVPwvce2 http://t.co/POZXmF3IhD',\n",
       " u'Indians have become an extraordinarily successful minority in America. A burgeoning new elite http://t.co/90YpT1WIxQ http://t.co/kMOdbPGU0w',\n",
       " u'While the overall birth rate keeps declining, well-educated women seem to be having more children, not fewer. Why? http://t.co/kiJ3cV58vt',\n",
       " u'The rise and fall of China\\u2019s civil-rights lawyers says much about the Communist Party\\u2019s approach to the rule of law http://t.co/0gcQM3PZ3s',\n",
       " u'What the London Underground reveals about work in the capital http://t.co/SWo5Tf5VUG http://t.co/hWOIWlrVEN',\n",
       " u\"Exploring China's stockmarkets in charts http://t.co/3qDdBK8riy http://t.co/V43Fy7IVc5\",\n",
       " u'Government cuts and a bribery scandal prompts a shake-out in Brazil\\u2019s construction industry http://t.co/TgtiJcLimX http://t.co/fS3LmbKtBP',\n",
       " u'The way the winner of the international @ManBookerPrize uses his words http://t.co/dcD7HyEdac http://t.co/SMTS8xtNtM',\n",
       " u'A new report has produced further evidence on the widening gap between rich and poor http://t.co/pwrGCvLSXM http://t.co/xDb167p5EQ',\n",
       " u\"What a case about Maryland's taxes says about the make-up of the Supreme Court http://t.co/SxZmhui6wl #SCOTUS http://t.co/kAF3qOGdvy\",\n",
       " u'In 1950 12% of US teens believed themselves to be \\u201cvery important\\u201d. In 2005 80% did. @nytdavidbrooks on self-regard http://t.co/CvLUDYO3ZC',\n",
       " u\"The crowd will see you now: a bid to gather and tame the internet's collective medical wisdom http://t.co/KpymzAotZz\",\n",
       " u'A red card for Egypt\\'s \"ultras\", football\\'s most volatile supporters. Why were they banned? http://t.co/RhmxxXRSQa http://t.co/t37wg8LYdT',\n",
       " u'Should companies be doing most of their computing in the cloud? Join our live debate via http://t.co/mkyXzLBKKE http://t.co/3gr5o8cdFJ',\n",
       " u\"The best way to modernise India's railways would be to break the state monopoly http://t.co/crAQGf5poc http://t.co/CDDIzQcWTX\",\n",
       " u'Is the Chinese stockmarket in bubble territory? A tale of irrational exuberance in charts @S_Rabinovitch http://t.co/BxgRQ7GQQO',\n",
       " u'RT @EconCulture: If you want to be reassured that you are special, you will hate this thoughtful polemic on the rise of narcissism. http://\\u2026',\n",
       " u'Gambling in Macau: The territory\\u2019s casinos are betting that a sharp downturn will not last http://t.co/q6k45t0ESN http://t.co/zuQjTovMsi',\n",
       " u\"How China's booming stockmarket looks like a classic case of irrational exuberance http://t.co/1LdmiYfwIP http://t.co/OlVQCrOAkW\",\n",
       " u'The pressure on companies to form alliances with rivals is growing inexorably http://t.co/BsPhBHy3M5 http://t.co/BOEJwko1cV',\n",
       " u\"Audio: Greece approaches a real deadline with creditors and China's stock market wobbles http://t.co/hwMHrWPAFb\\nhttps://t.co/SRYTXdtlIC\",\n",
       " u'A crazy casino http://t.co/FOmpYTMGBY http://t.co/biertTvduj',\n",
       " u\"Holiday snap ruined by glass reflections? Don't worry, scientists can help http://t.co/ob93mKKitc http://t.co/sDa9LG0hx5\",\n",
       " u'Why the best-educated women are opting for more children\\nhttp://t.co/3xPfaeJiSx',\n",
       " u'Should companies be doing most of their computing in the cloud? Join our live debate via http://t.co/T07hpjlV4b http://t.co/1xrK8GEac5',\n",
       " u'RT @EconCharlesRead: A history of inflation in Britain since 1947 by me and @Henry_Curr http://t.co/Tvn89rcI6r http://t.co/mcSMroHuBz',\n",
       " u\"Spain's voters send their politicians an angry but slightly confusing message http://t.co/XjrVpDGuTo http://t.co/dNQnLTbNy4\",\n",
       " u'#Dailychart: A look at the average annual income growth of American workers since 1999 http://t.co/lggTZefkUc http://t.co/GkpwFW001u',\n",
       " u'After an 18-month-long battle, Charter Communications agrees to buy TWC. An end to the saga? http://t.co/eBg3bdASaj http://t.co/KQtlwlyBF3',\n",
       " u'South-East Asia\\u2019s boat people shame the whole region http://t.co/EZtHarGljs http://t.co/th6XnKv9of',\n",
       " u'The indispensable role whistle-blowers play in defending the rights of citizens http://t.co/R2pBi0rmzQ http://t.co/lzKlkmp36l',\n",
       " u'More deal-making in the pay-TV and broadband business http://t.co/hT6xW1HijG http://t.co/ihHPU9kPSK',\n",
       " u'Ryanair: The cost of being nice http://t.co/tzKXsmkc04 http://t.co/P89aAy7xG3',\n",
       " u'Our #econespresso #quoteoftheday is from playwright of the Roman Republic Terence. Get the app http://t.co/ivXvtrnRWR http://t.co/zjv05PTY1l',\n",
       " u'RT @EconCulture: Marion Morrison, born #OnThisDay 1907, is better known under his stage name: John Wayne  http://t.co/HWs3HGQFl8 http://t.c\\u2026',\n",
       " u'Meet the man who can make a sentence last a chapter http://t.co/Eu1rwsmGQj #MBI2015 http://t.co/bCbHlURJ9v',\n",
       " u'How the battle of Waterloo allowed Britain to emerge as the dominant global power of the 19th century http://t.co/QL4GQD3Hne #Waterloo2015',\n",
       " u'Difference engine: Even after Moore\\u2019s Law ends, chip costs could still halve every few years http://t.co/LMuhKlyuJQ http://t.co/M0JtsM3CNt',\n",
       " u'The Economist explains Narendra Modi\\u2019s approach to leadership http://t.co/tzYlkE1p5U http://t.co/zcuJ3OGRX8',\n",
       " u\"A young challenger's win kindles worries that Poland could return to its erratic days under the Law and Justice party http://t.co/R1vqcp7JuB\",\n",
       " u'The rise and fall of China\\u2019s civil-rights lawyers says much about the Communist Party\\u2019s approach to the rule of law http://t.co/yn7vFsjHYq',\n",
       " u'The total value of support given by the Chinese government to farmers exceeds that of any other country http://t.co/ZI4dVg8taM',\n",
       " u'The Economist explains what David Cameron wants from Europe http://t.co/Vy8nfbWd2r http://t.co/8xt4MOCHV6',\n",
       " u'The Scottish National Party wants Scotland\\u2019s minimum wage to rise from \\xa36.50 per hour now to \\xa38.70 by 2020 http://t.co/d1FKySkIFX',\n",
       " u'#OnThisDay 1927 the 15 millionth (and last) Model T Ford was made. 2 books on the race to make the cars of the future http://t.co/hbtsLm6m4r',\n",
       " u'Bill de Blasio, New York\\u2019s mayor, promises to lift 800,000 New Yorkers out of poverty http://t.co/e8GlOaZio7 http://t.co/EgVuQIg5KK',\n",
       " u'With a rise in self-regard has come an unprecedented yearning for fame http://t.co/b0zSZNKX3b http://t.co/DbSHWZvNzy',\n",
       " u'Islamic State has claimed its first attack inside Saudi borders http://t.co/pXNyE7Cab3 http://t.co/6xEVclAOPw',\n",
       " u'Economic history is dead; long live economic history? http://t.co/XawUjo5IMy',\n",
       " u'From Espresso: HERE and now: Nokia\\u2019s maps business http://t.co/SOfn7xP4bz http://t.co/8iSCFXTiKJ',\n",
       " u'Arevaderci: A struggling and loss-making national champion is set to be taken over http://t.co/vQQ1Qsb7R3 http://t.co/3bfJgLJWpI',\n",
       " u'If persuading people to change their minds is so hard, why are people changing their minds about gay marriage? http://t.co/xoFLsBIwY4',\n",
       " u'The pressure on companies to form alliances with rivals is growing inexorably http://t.co/LPYskqBS8K http://t.co/sZQXLH52TG',\n",
       " u'Bombardier: The Canadian firm is struggling to make its bet on a big new plane pay off http://t.co/p5n6bbYawk http://t.co/9EPgqrOl1T',\n",
       " u'Foreigners think programmes like Fawlty Towers are comedies. Brits know they are documentaries http://t.co/VKr44vkOL0 http://t.co/tcx0t73cxj',\n",
       " u'Brazilian construction firms: Knock \\u2019em down, build \\u2019em up http://t.co/2VT1e599P6 http://t.co/CDfsmJl6N6',\n",
       " u'Tech stocks were a bubble in 2000 but they are not this time\\u2014yet  http://t.co/jyrw1HGiSf http://t.co/BAZkrqNg3j',\n",
       " u'At the peak of the exodus, 24 babies left South Korea every day to be adopted by foreigners http://t.co/yTELiSlFHK http://t.co/hDxg3ePifv',\n",
       " u'Marks &amp; Spencer is quietly turning into an upmarket grocer http://t.co/RlKgrWOXCg http://t.co/kl9LB8nqX2']"
      ]
     },
     "execution_count": 480,
     "metadata": {},
     "output_type": "execute_result"
    }
   ],
   "source": [
    "tweets = []\n",
    "tweets_text = []\n",
    "for tweet in data_tweets:\n",
    "    tweets.append(tweet.text)\n",
    "#    tweets.append([tweet.text, tweet.retweet_count, tweet.favorite_count])\n",
    "tweets"
   ]
  },
  {
   "cell_type": "code",
   "execution_count": 481,
   "metadata": {
    "collapsed": false
   },
   "outputs": [
    {
     "data": {
      "text/plain": [
       "200"
      ]
     },
     "execution_count": 481,
     "metadata": {},
     "output_type": "execute_result"
    }
   ],
   "source": [
    "len(tweets)"
   ]
  },
  {
   "cell_type": "code",
   "execution_count": 482,
   "metadata": {
    "collapsed": false
   },
   "outputs": [],
   "source": [
    "stopw = [str('http'), str('https'), str('['), str(']'), str('rt'), str('%'), str('@'), str('#')]\n",
    "stopngram = stopwords.words('english')\n",
    "stopngram += ['.', ',', '(', ')', \"'\", '\"', 'http', 'RT']"
   ]
  },
  {
   "cell_type": "code",
   "execution_count": 483,
   "metadata": {
    "collapsed": false
   },
   "outputs": [],
   "source": [
    "adjectives = {}\n",
    "nouns = {}\n",
    "adverbs = {}\n",
    "verbs = {}\n",
    "for t in tweets:\n",
    "    words = word_tokenize(t)\n",
    "    for p in pos_tag(words):\n",
    "        tags = p[1][:2]\n",
    "        keys = p[0].encode('utf8')\n",
    "        keys = keys.lower()   \n",
    "        if keys not in stopw and str('/') not in keys and \"\\\\\" not in r\"%r\" % keys:\n",
    "            if tags == 'NN':\n",
    "                nouns.setdefault(keys,0)\n",
    "                nouns[keys] += 1"
   ]
  },
  {
   "cell_type": "code",
   "execution_count": 484,
   "metadata": {
    "collapsed": false
   },
   "outputs": [
    {
     "name": "stdout",
     "output_type": "stream",
     "text": [
      "                week 10\n",
      "               china 9\n",
      "           economist 9\n",
      "             america 9\n",
      "               india 8\n",
      "             britain 8\n",
      "           companies 7\n",
      "               death 7\n",
      "              people 7\n",
      "         stockmarket 7\n"
     ]
    }
   ],
   "source": [
    "for words, count in sorted(nouns.items(), key = itemgetter(1), reverse=True)[:10]:\n",
    "    print '%20s %i' % (words, count)"
   ]
  },
  {
   "cell_type": "code",
   "execution_count": 485,
   "metadata": {
    "collapsed": true
   },
   "outputs": [],
   "source": [
    "#tweets_t = zip(*tweets)[0]\n",
    "#tweets_r = zip(*tweets)[1]"
   ]
  },
  {
   "cell_type": "code",
   "execution_count": 486,
   "metadata": {
    "collapsed": false
   },
   "outputs": [
    {
     "name": "stdout",
     "output_type": "stream",
     "text": [
      "       The Economist 9\n",
      "  Economist explains 8\n",
      "            China 's 8\n",
      "             week 's 7\n",
      "    alliances rivals 6\n",
      "  Cheeseburger bills 6\n",
      "       death penalty 6\n",
      "          Britain 's 6\n",
      "        The pressure 5\n",
      "irrational exuberance 5\n"
     ]
    }
   ],
   "source": [
    "stop = stopwords.words('english')\n",
    "\n",
    "counter = defaultdict(int)\n",
    "\n",
    "n = 2\n",
    "for doc in tweets:\n",
    "    words = TextBlob(doc).words\n",
    "    words = [w for w in words if w not in stopngram]\n",
    "    bigrams = ngrams(words, n)\n",
    "    for gram in bigrams:\n",
    "        counter[gram] += 1\n",
    "            \n",
    "for gram, count in sorted(counter.items(), key = itemgetter(1), reverse=True)[:10]:\n",
    "    phrase = \" \".join(gram)\n",
    "    print '%20s %i' % (phrase, count)"
   ]
  },
  {
   "cell_type": "code",
   "execution_count": 487,
   "metadata": {
    "collapsed": false
   },
   "outputs": [
    {
     "name": "stdout",
     "output_type": "stream",
     "text": [
      "The Economist explains 8\n",
      "form alliances rivals 5\n",
      "    China 's booming 5\n",
      "'s booming stockmarket 5\n",
      "pressure companies form 5\n",
      "companies form alliances 5\n",
      "alliances rivals growing 5\n",
      "rivals growing inexorably 5\n",
      "The pressure companies 5\n",
      "  looks like classic 4\n"
     ]
    }
   ],
   "source": [
    "stop = stopwords.words('english')\n",
    "\n",
    "counter = defaultdict(int)\n",
    "\n",
    "n = 3\n",
    "for doc in tweets:\n",
    "    words = TextBlob(doc).words\n",
    "    words = [w for w in words if w not in stopngram]\n",
    "    bigrams = ngrams(words, n)\n",
    "    for gram in bigrams:\n",
    "        counter[gram] += 1\n",
    "            \n",
    "for gram, count in sorted(counter.items(), key = itemgetter(1), reverse=True)[:10]:\n",
    "    phrase = \" \".join(gram)\n",
    "    print '%20s %i' % (phrase, count)"
   ]
  },
  {
   "cell_type": "code",
   "execution_count": null,
   "metadata": {
    "collapsed": true
   },
   "outputs": [],
   "source": []
  },
  {
   "cell_type": "code",
   "execution_count": 488,
   "metadata": {
    "collapsed": false
   },
   "outputs": [
    {
     "data": {
      "text/plain": [
       "'china'"
      ]
     },
     "execution_count": 488,
     "metadata": {},
     "output_type": "execute_result"
    }
   ],
   "source": [
    "keyword = str(keyword)\n",
    "keyword = keyword.lower()\n",
    "keyword"
   ]
  },
  {
   "cell_type": "code",
   "execution_count": 489,
   "metadata": {
    "collapsed": false
   },
   "outputs": [
    {
     "data": {
      "text/plain": [
       "12"
      ]
     },
     "execution_count": 489,
     "metadata": {},
     "output_type": "execute_result"
    }
   ],
   "source": [
    "tweets_match = []\n",
    "for r in tweets:\n",
    "    if keyword in r.lower():\n",
    "        tweets_match.append(r)\n",
    "\n",
    "len(tweets_match)"
   ]
  },
  {
   "cell_type": "code",
   "execution_count": 490,
   "metadata": {
    "collapsed": false
   },
   "outputs": [],
   "source": [
    "adjectives = {}\n",
    "nouns = {}\n",
    "adverbs = {}\n",
    "verbs = {}\n",
    "for t in tweets_match:\n",
    "    words = word_tokenize(t)\n",
    "    for p in pos_tag(words):\n",
    "        tags = p[1][:2]\n",
    "        keys = p[0].encode('utf8')\n",
    "        keys = keys.lower()   \n",
    "        if keys not in stopw and str('/') not in keys and keyword not in keys and \"\\\\\" not in r\"%r\" % keys:\n",
    "            if tags == 'JJ':\n",
    "                adjectives.setdefault(keys,0)\n",
    "                adjectives[keys] += 1\n",
    "            if tags == 'NN':\n",
    "                nouns.setdefault(keys,0)\n",
    "                nouns[keys] += 1\n",
    "            if tags == 'RB':\n",
    "                adverbs.setdefault(keys,0)\n",
    "                adverbs[keys] += 1\n",
    "            if tags == 'VB':\n",
    "                verbs.setdefault(keys,0)\n",
    "                verbs[keys] += 1"
   ]
  },
  {
   "cell_type": "code",
   "execution_count": 491,
   "metadata": {
    "collapsed": false
   },
   "outputs": [
    {
     "name": "stdout",
     "output_type": "stream",
     "text": [
      "             booming 5\n",
      "                  is 4\n",
      "                says 2\n",
      "                fall 2\n",
      "           exploring 1\n"
     ]
    }
   ],
   "source": [
    "for words, count in sorted(verbs.items(), key = itemgetter(1), reverse=True)[:5]:\n",
    "    print '%20s %i' % (words, count)"
   ]
  },
  {
   "cell_type": "code",
   "execution_count": 492,
   "metadata": {
    "collapsed": false
   },
   "outputs": [
    {
     "name": "stdout",
     "output_type": "stream",
     "text": [
      "          irrational 4\n",
      "             classic 4\n",
      "                much 2\n",
      "                more 2\n",
      "                real 1\n"
     ]
    }
   ],
   "source": [
    "for words, count in sorted(adjectives.items(), key = itemgetter(1), reverse=True)[:5]:\n",
    "    print '%20s %i' % (words, count)"
   ]
  },
  {
   "cell_type": "code",
   "execution_count": 493,
   "metadata": {
    "collapsed": false
   },
   "outputs": [
    {
     "name": "stdout",
     "output_type": "stream",
     "text": [
      "         stockmarket 6\n",
      "               looks 4\n",
      "          exuberance 4\n",
      "                case 4\n",
      "                 law 2\n"
     ]
    }
   ],
   "source": [
    "for words, count in sorted(nouns.items(), key = itemgetter(1), reverse=True)[:5]:\n",
    "    print '%20s %i' % (words, count)"
   ]
  },
  {
   "cell_type": "code",
   "execution_count": 494,
   "metadata": {
    "collapsed": false
   },
   "outputs": [
    {
     "name": "stdout",
     "output_type": "stream",
     "text": [
      "                 ago 1\n",
      "                 now 1\n"
     ]
    }
   ],
   "source": [
    "for words, count in sorted(adverbs.items(), key = itemgetter(1), reverse=True)[:5]:\n",
    "    print '%20s %i' % (words, count)"
   ]
  },
  {
   "cell_type": "code",
   "execution_count": 495,
   "metadata": {
    "collapsed": false
   },
   "outputs": [
    {
     "name": "stdout",
     "output_type": "stream",
     "text": [
      "            China 's 8\n",
      " booming stockmarket 5\n",
      "          's booming 5\n",
      "        classic case 4\n",
      "irrational exuberance 4\n"
     ]
    }
   ],
   "source": [
    "stop = stopwords.words('english')\n",
    "\n",
    "counter = defaultdict(int)\n",
    "\n",
    "n = 2\n",
    "for doc in tweets_match:\n",
    "    words = TextBlob(doc).words\n",
    "    words = [w for w in words if w not in stopngram]\n",
    "    bigrams = ngrams(words, n)\n",
    "    for gram in bigrams:\n",
    "        counter[gram] += 1\n",
    "            \n",
    "for gram, count in sorted(counter.items(), key = itemgetter(1), reverse=True)[:5]:\n",
    "    phrase = \" \".join(gram)\n",
    "    print '%20s %i' % (phrase, count)"
   ]
  },
  {
   "cell_type": "code",
   "execution_count": 496,
   "metadata": {
    "collapsed": false
   },
   "outputs": [
    {
     "name": "stdout",
     "output_type": "stream",
     "text": [
      "    China 's booming 5\n",
      "'s booming stockmarket 5\n",
      "   like classic case 4\n",
      "  looks like classic 4\n",
      "        How China 's 4\n"
     ]
    }
   ],
   "source": [
    "stop = stopwords.words('english')\n",
    "\n",
    "counter = defaultdict(int)\n",
    "\n",
    "n = 3\n",
    "for doc in tweets_match:\n",
    "    words = TextBlob(doc).words\n",
    "    words = [w for w in words if w not in stopngram]\n",
    "    bigrams = ngrams(words, n)\n",
    "    for gram in bigrams:\n",
    "        counter[gram] += 1\n",
    "            \n",
    "for gram, count in sorted(counter.items(), key = itemgetter(1), reverse=True)[:5]:\n",
    "    phrase = \" \".join(gram)\n",
    "    print '%20s %i' % (phrase, count)"
   ]
  },
  {
   "cell_type": "code",
   "execution_count": null,
   "metadata": {
    "collapsed": true
   },
   "outputs": [],
   "source": []
  }
 ],
 "metadata": {
  "kernelspec": {
   "display_name": "Python 2",
   "language": "python",
   "name": "python2"
  },
  "language_info": {
   "codemirror_mode": {
    "name": "ipython",
    "version": 2
   },
   "file_extension": ".py",
   "mimetype": "text/x-python",
   "name": "python",
   "nbconvert_exporter": "python",
   "pygments_lexer": "ipython2",
   "version": "2.7.9"
  }
 },
 "nbformat": 4,
 "nbformat_minor": 0
}
