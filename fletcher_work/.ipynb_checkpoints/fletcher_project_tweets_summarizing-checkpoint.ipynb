{
 "cells": [
  {
   "cell_type": "markdown",
   "metadata": {},
   "source": [
    "# Fletcher Project: Tweets Summarizing"
   ]
  },
  {
   "cell_type": "code",
   "execution_count": 1,
   "metadata": {
    "collapsed": true
   },
   "outputs": [],
   "source": [
    "import nltk\n",
    "from nltk.tokenize import sent_tokenize\n",
    "from nltk.tokenize import TreebankWordTokenizer\n",
    "from nltk.tokenize import word_tokenize\n",
    "from nltk.tokenize import wordpunct_tokenize\n",
    "from nltk.tag import pos_tag\n",
    "from nltk.chunk import ne_chunk\n",
    "from nltk.corpus import treebank_chunk\n",
    "from textblob import TextBlob\n",
    "import pymongo\n",
    "from nltk.corpus import stopwords\n",
    "from nltk.corpus import movie_reviews\n",
    "from nltk.util import ngrams\n",
    "from nltk.tokenize import sent_tokenize, word_tokenize\n",
    "from collections import defaultdict\n",
    "from operator import itemgetter\n",
    "import numpy as np\n",
    "from sklearn.feature_extraction.text import TfidfVectorizer\n",
    "from sklearn.naive_bayes import MultinomialNB\n",
    "from __future__ import division, unicode_literals\n",
    "import operator\n",
    "import requests\n",
    "from requests_oauthlib import OAuth1\n",
    "from pymongo import MongoClient\n",
    "import tweepy\n",
    "import cnfg\n",
    "import numpy as np\n",
    "import re"
   ]
  },
  {
   "cell_type": "markdown",
   "metadata": {},
   "source": [
    "## Opening Twitter API"
   ]
  },
  {
   "cell_type": "code",
   "execution_count": null,
   "metadata": {
    "collapsed": true
   },
   "outputs": [],
   "source": [
    "config = cnfg.load(\".twitter_config\")"
   ]
  },
  {
   "cell_type": "code",
   "execution_count": null,
   "metadata": {
    "collapsed": true
   },
   "outputs": [],
   "source": [
    "auth = tweepy.OAuthHandler(config['consumer_key'],\n",
    "              config['consumer_secret'])\n",
    "auth.set_access_token(config['access_token'],\n",
    "              config['access_token_secret'])"
   ]
  },
  {
   "cell_type": "code",
   "execution_count": null,
   "metadata": {
    "collapsed": true
   },
   "outputs": [],
   "source": [
    "api = tweepy.API(auth)"
   ]
  },
  {
   "cell_type": "markdown",
   "metadata": {},
   "source": [
    "## Choosing Twitter Account"
   ]
  },
  {
   "cell_type": "code",
   "execution_count": null,
   "metadata": {
    "collapsed": true
   },
   "outputs": [],
   "source": [
    "account = 'MarketWatch'"
   ]
  },
  {
   "cell_type": "markdown",
   "metadata": {},
   "source": [
    "## Getting Tweeter Data into a List"
   ]
  },
  {
   "cell_type": "code",
   "execution_count": null,
   "metadata": {
    "collapsed": true
   },
   "outputs": [],
   "source": [
    "data_tweets = api.user_timeline(account, count=200)\n",
    "tweets = []\n",
    "tweets_text = []\n",
    "for tweet in data_tweets:\n",
    "    tweets.append(tweet.text)\n",
    "len(tweets)"
   ]
  },
  {
   "cell_type": "code",
   "execution_count": null,
   "metadata": {
    "collapsed": true
   },
   "outputs": [],
   "source": [
    "tweets"
   ]
  },
  {
   "cell_type": "markdown",
   "metadata": {},
   "source": [
    "## Storing Tweets into Mongo DB"
   ]
  },
  {
   "cell_type": "code",
   "execution_count": 580,
   "metadata": {
    "collapsed": true
   },
   "outputs": [],
   "source": [
    "client = MongoClient()"
   ]
  },
  {
   "cell_type": "code",
   "execution_count": 581,
   "metadata": {
    "collapsed": true
   },
   "outputs": [],
   "source": [
    "datatweets = client.dsbc.datatweets"
   ]
  },
  {
   "cell_type": "code",
   "execution_count": 582,
   "metadata": {
    "collapsed": false
   },
   "outputs": [
    {
     "data": {
      "text/plain": [
       "{u'n': 200, u'ok': 1}"
      ]
     },
     "execution_count": 582,
     "metadata": {},
     "output_type": "execute_result"
    }
   ],
   "source": [
    "datatweets.remove( { } )"
   ]
  },
  {
   "cell_type": "code",
   "execution_count": 583,
   "metadata": {
    "collapsed": false
   },
   "outputs": [],
   "source": [
    "datatweets = client.dsbc.datatweets\n",
    "for k in tweets:\n",
    "    datatweets_d = {'text': k}\n",
    "    datatweets.insert(datatweets_d)"
   ]
  },
  {
   "cell_type": "code",
   "execution_count": 585,
   "metadata": {
    "collapsed": false
   },
   "outputs": [
    {
     "name": "stdout",
     "output_type": "stream",
     "text": [
      "{u'text': u'Nebraska abolishes death penalty http://t.co/lbxTTgw1Q9', u'_id': ObjectId('55677c76bb9ab402cb0849d6')}\n",
      "{u'text': u'Is there a link between a bad economy and tooth decay? http://t.co/VU5TfBmnhG', u'_id': ObjectId('55677c76bb9ab402cb0849e4')}\n",
      "{u'text': u'@katiebrenzel It is upsetting indeed.', u'_id': ObjectId('55677c76bb9ab402cb0849e6')}\n",
      "{u'text': u'Treasury market in selloff mode as stocks recover http://t.co/hD5jjN0cro', u'_id': ObjectId('55677c76bb9ab402cb0849f8')}\n",
      "{u'text': u'How meal delivery can make Whole Foods look cheap http://t.co/vlHCbzDoIy', u'_id': ObjectId('55677c76bb9ab402cb084a01')}\n",
      "{u'text': u\"McDonald's to stop reporting monthly sales figures http://t.co/f67yJqkHEk\", u'_id': ObjectId('55677c76bb9ab402cb084a03')}\n",
      "{u'text': u'RT @m_cof: The median salary for a stockbroker is a little over $71,000 a year http://t.co/buZHaglkxs http://t.co/911mZqbTKD', u'_id': ObjectId('55677c76bb9ab402cb084a36')}\n",
      "{u'text': u'A man survived a shotgun blast to his chest thanks to his iPhone: http://t.co/vZxN4cNnxd http://t.co/pTAvPJfS74', u'_id': ObjectId('55677c76bb9ab402cb084a37')}\n",
      "{u'text': u'RT @jsadinolfi: The dollar CRUSHED IT today http://t.co/iSDl4Vza10 http://t.co/TdJ7LF27Kb', u'_id': ObjectId('55677c76bb9ab402cb084a38')}\n",
      "{u'text': u'IRS says thieves stole tax information from 100,000 Americans http://t.co/KHgre4DzCZ', u'_id': ObjectId('55677c76bb9ab402cb084a39')}\n",
      "{u'text': u\"Facebook is just one of billionaire John Griffin's top tech picks. Check out the rest: http://t.co/l41c2eeVzI http://t.co/BzicpDpu8a\", u'_id': ObjectId('55677c76bb9ab402cb084a3b')}\n",
      "{u'text': u'U.S. stocks end slightly lower, on pace for weekly drop http://t.co/wHPWIKWB0p', u'_id': ObjectId('55677c76bb9ab402cb084976')}\n",
      "{u'text': u\"Fed's Bullard now favors targeting nominal GDP http://t.co/xwNyMdVrZV\", u'_id': ObjectId('55677c76bb9ab402cb084984')}\n",
      "{u'text': u'RT @jsadinolfi: Euro-dollar parity is BACK ON THE TABLE http://t.co/0v8HQm9n4d', u'_id': ObjectId('55677c76bb9ab402cb08498e')}\n",
      "{u'text': u'The 12 best American road trips: http://t.co/EwmgD8vSQO http://t.co/pcVplIbBJB', u'_id': ObjectId('55677c76bb9ab402cb084994')}\n",
      "{u'text': u'Scruffy youth hostels are going upscale http://t.co/gkD6xXgHQ5', u'_id': ObjectId('55677c76bb9ab402cb08499a')}\n",
      "{u'text': u'Putin accuses U.S. of overreach in FIFA bribery case http://t.co/PQItLCKkA0', u'_id': ObjectId('55677c76bb9ab402cb0849a2')}\n",
      "{u'text': u'U.S. stocks open lower amid rate-hike worries http://t.co/7ws9Emc1tN', u'_id': ObjectId('55677c76bb9ab402cb0849a5')}\n",
      "{u'text': u'Is your retirement planning future-ready? http://t.co/p3OYfH3ib2', u'_id': ObjectId('55677c76bb9ab402cb0849a8')}\n",
      "{u'text': u'U.S. unemployment claims climb to five-week high http://t.co/KDcREY0K9i', u'_id': ObjectId('55677c76bb9ab402cb0849a9')}\n",
      "{u'text': u'Jobless claims climb to five-week high of 282,000 http://t.co/7qeHbVSmrb', u'_id': ObjectId('55677c76bb9ab402cb0849aa')}\n",
      "{u'text': u'J.P. Morgan boss Dimon calls out \\u2018lazy\\u2019 shareholders http://t.co/iOAS2jETdk', u'_id': ObjectId('55677c76bb9ab402cb0849ab')}\n",
      "{u'text': u\"RT @wlwatts: Fear of Bernie...It's Sanders that Hillary camp fears most right now http://t.co/T8ameqBKMV via @mktwrobs http://t.co/s77Fr8k7\\u2026\", u'_id': ObjectId('55677c76bb9ab402cb0849ae')}\n",
      "{u'text': u'Avago to buy Broadcom for $37 billion http://t.co/LmrHnWdOZg', u'_id': ObjectId('55677c76bb9ab402cb0849af')}\n",
      "{u'text': u'The merry-go-round for stocks can\\u2019t get away from the dollar http://t.co/8fdTcKA0jK', u'_id': ObjectId('55677c76bb9ab402cb0849b0')}\n",
      "{u'text': u\"RT @bkollmeyer: Need to know: On the stock-market merry-go-round, it's hard to get away from the dollar. http://t.co/8zcGxQz7yO http://t.co\\u2026\", u'_id': ObjectId('55677c76bb9ab402cb0849b1')}\n",
      "{u'text': u'Avago Tech to buy Broadcom in cash-and-stock deal http://t.co/IS0q15nfDt', u'_id': ObjectId('55677c76bb9ab402cb0849b2')}\n",
      "{u'text': u'Meet the most \\u2018privileged\\u2019 community college students http://t.co/GsuZoQe9m3', u'_id': ObjectId('55677c76bb9ab402cb0849b3')}\n",
      "{u'text': u'The most popular stores in America http://t.co/pMyQIt3vfq', u'_id': ObjectId('55677c76bb9ab402cb0849b4')}\n",
      "{u'text': u'Visa threatens to end deal as pressure on FIFA mounts http://t.co/c5yZ38yWcv', u'_id': ObjectId('55677c76bb9ab402cb0849b5')}\n",
      "{u'text': u'Simple math will determine what happens to stocks when rates rise http://t.co/b3JB8kHNz5', u'_id': ObjectId('55677c76bb9ab402cb0849b6')}\n",
      "{u'text': u'London stocks drop as promise of Greece falls flat http://t.co/OrycwMWT2N', u'_id': ObjectId('55677c76bb9ab402cb0849b7')}\n",
      "{u'text': u'Dollar taps a 12-year high against yen http://t.co/CWwJ9X1LDN', u'_id': ObjectId('55677c76bb9ab402cb0849b8')}\n",
      "{u'text': u'In New York, office space per employee costs on average $14,800 annually: http://t.co/KNtW3dZBKm http://t.co/TQKuGGJB1E', u'_id': ObjectId('55677c76bb9ab402cb0849b9')}\n",
      "{u'text': u'RT @KitchenNews: Asia at afternoon...\\nKospi up 0.5%\\nTaiex up 0.4%\\nNikkei up 0.2%\\nSensex up 0.1%\\nASX down 0.2%\\nHK down 1.5%\\nShanghai down 1.\\u2026', u'_id': ObjectId('55677c76bb9ab402cb0849ba')}\n",
      "{u'text': u'A breakdown of average office space cost per employee, by city: http://t.co/iaitgDjdmT http://t.co/JdiWHEs5qa', u'_id': ObjectId('55677c76bb9ab402cb0849bb')}\n",
      "{u'text': u'RT @lauraliuhe: Gucci\\u2019s 50% price-cut triggers mad rush in China\\nhttp://t.co/iOwP5FrEoO http://t.co/tKZaiT3sVI', u'_id': ObjectId('55677c76bb9ab402cb0849bc')}\n",
      "{u'text': u'Tracy Morgan: \"Walmart did right by me and my family\" http://t.co/b3NLboD0US http://t.co/DkLNNCVE3G', u'_id': ObjectId('55677c76bb9ab402cb0849bd')}\n",
      "{u'text': u'RT @KitchenNews: Asia at midday..\\nNikkei up 0.8%\\nKospi up 0.7%\\nTaiex up 0.4% \\nSensex up 0.3%\\nASX down 0.1%\\nHK down 1.4%\\nShanghai down 1.4% \\u2026', u'_id': ObjectId('55677c76bb9ab402cb0849be')}\n",
      "{u'text': u'\\u2018Merger Monday\\u2019 now falls on Tuesday, Wednesday or even Thursday http://t.co/88Qkcs9kFc http://t.co/fRJOw5NohR', u'_id': ObjectId('55677c76bb9ab402cb0849bf')}\n",
      "{u'text': u'YouTube is worth more than eBay, Yahoo and Starbucks: http://t.co/c8UrpjiVUg http://t.co/OgR7yYsmMW', u'_id': ObjectId('55677c76bb9ab402cb0849c0')}\n",
      "{u'text': u'A new computer program replaces the word \"millennial\" with the phrase \"snake people\"  http://t.co/xATyVYMLp3 http://t.co/iJ0RsmVGb4', u'_id': ObjectId('55677c76bb9ab402cb0849c1')}\n",
      "{u'text': u'RT @KitchenNews: Vladivostok wants to be a major Asia gambling destination -- Craig Stephen looks its odds: http://t.co/5NFQO3pSrd http://t\\u2026', u'_id': ObjectId('55677c76bb9ab402cb0849c2')}\n",
      "{u'text': u'RT @lauraliuhe: Hong Kong stocks fall as brokers, real estate weak http://t.co/Li0DSfbIu0', u'_id': ObjectId('55677c76bb9ab402cb0849c3')}\n",
      "{u'text': u'As Heidi Klum often says, \\u201cIn fashion, one day you are in. And the next day you are out\\u201d  http://t.co/cwQxkYU7yv http://t.co/jBe8ib1GKS', u'_id': ObjectId('55677c76bb9ab402cb0849c4')}\n",
      "{u'text': u'RT @KitchenNews: Asia at morning...\\nKospi up 0.7%\\nNikkei up 0.6% \\nShanghai, Taiex up 0.2% each\\nASX down 0.4%\\nHK down 0.9%\\n$NIK $HSI $XJO', u'_id': ObjectId('55677c76bb9ab402cb0849c5')}\n",
      "{u'text': u'We can eliminate \\u2018scourge of hunger\\u2019 in our lifetime, U.N. claims: http://t.co/5O4t9SQSnM http://t.co/ECkBZPfAYG', u'_id': ObjectId('55677c76bb9ab402cb0849c6')}\n",
      "{u'text': u'RT @KitchenNews: Asia early...\\nNikkei up 0.7%\\nKospi up 0.6%\\nASX down 0.5%\\n$NIK $XJO', u'_id': ObjectId('55677c76bb9ab402cb0849c7')}\n",
      "{u'text': u'Hunger can be eradicated in our lifetimes, U.N. says http://t.co/6XGpH1Drgh http://t.co/JbTwTn22XS', u'_id': ObjectId('55677c76bb9ab402cb0849c8')}\n",
      "{u'text': u'RT @KitchenNews: Australia stocks slip as mining shares retreat http://t.co/Q3WR99OrYY $XJO http://t.co/J2G83gn6ph', u'_id': ObjectId('55677c76bb9ab402cb0849c9')}\n",
      "{u'text': u'No more artificial flavors and colors at Taco Bell: http://t.co/kdIrMCllDl http://t.co/XkPt0ZrGug', u'_id': ObjectId('55677c76bb9ab402cb0849ca')}\n",
      "{u'text': u'RT @jessmarmor: Santorum announces his White House bid with coal in one hand and an American flag in the other http://t.co/aet5ko66X3 http:\\u2026', u'_id': ObjectId('55677c76bb9ab402cb0849cb')}\n",
      "{u'text': u'RT @KitchenNews: Japan stocks chase rising dollar upward; retailers mixed after data http://t.co/RwG28suPK7 http://t.co/fsp6guAaH1', u'_id': ObjectId('55677c76bb9ab402cb0849cc')}\n",
      "{u'text': u'Share of new bond sales spent on capital projects has declined by 37.4% over the past 15 years http://t.co/3mwqwzGpZN http://t.co/O01TUMsEgc', u'_id': ObjectId('55677c76bb9ab402cb0849cd')}\n",
      "{u'text': u'RT @KitchenNews: Nikkei futures up 0.7% on SGX; dollar buying 123.76 yen\\n$NIK $JPY', u'_id': ObjectId('55677c76bb9ab402cb0849ce')}\n",
      "{u'text': u'Sorry Dodger fans, the Charter-Time Warner deal will leave you out: http://t.co/cvf0B4Al6s http://t.co/2Rtmdu6N68', u'_id': ObjectId('55677c76bb9ab402cb0849cf')}\n",
      "{u'text': u'New text message bug is crashing iPhones: http://t.co/Hj6DwWingt http://t.co/3Wwe6LEmHp', u'_id': ObjectId('55677c76bb9ab402cb0849d0')}\n",
      "{u'text': u'RT @KitchenNews: HSBC cuts outlook for China GDP, exports http://t.co/X9pNlmahIt http://t.co/z7geqx0yej', u'_id': ObjectId('55677c76bb9ab402cb0849d1')}\n",
      "{u'text': u'Here\\u2019s what spending gets delayed when money is tight: http://t.co/grzOKUVBRU http://t.co/O1qbETuxL4', u'_id': ObjectId('55677c76bb9ab402cb0849d2')}\n",
      "{u'text': u\"It turns out, Whole Foods ISN'T the most expensive place to buy ingredients: http://t.co/z2HHgPGmei http://t.co/Eu1qaP25Wj\", u'_id': ObjectId('55677c76bb9ab402cb0849d3')}\n",
      "{u'text': u'Live anthrax samples mistakenly shipped to nine states http://t.co/GUthn1suqk', u'_id': ObjectId('55677c76bb9ab402cb0849d4')}\n",
      "{u'text': u'When money is tight, people tend to skip the dentist: http://t.co/eQJjtRZjBy http://t.co/eRLkEtxsNJ', u'_id': ObjectId('55677c76bb9ab402cb0849d5')}\n",
      "{u'text': u\"RT @jessmarmor: What's in that box? Some seriously expensive groceries http://t.co/7CXcpNLvr2 http://t.co/2kkgeupaQ4\", u'_id': ObjectId('55677c76bb9ab402cb0849d7')}\n",
      "{u'text': u\"RT @MarketWatchPF: Tired of 'millennials'? So are millennials. http://t.co/IcR913ZBZO\", u'_id': ObjectId('55677c76bb9ab402cb0849d8')}\n",
      "{u'text': u'Help a grandchild pay for college...without getting gouged on taxes: http://t.co/ygpykntMwh http://t.co/jtE51j8XvT', u'_id': ObjectId('55677c76bb9ab402cb0849d9')}\n",
      "{u'text': u'Watch the FIFA officials get arrested http://t.co/wxn8nqXYqo http://t.co/Eb5QCPe7UD', u'_id': ObjectId('55677c76bb9ab402cb0849da')}\n",
      "{u'text': u'RT @mrtgr: Why #MergerMonday often falls on a Wednesday these days: http://t.co/phDwldPM7n? http://t.co/TtQP0qoCAA', u'_id': ObjectId('55677c76bb9ab402cb0849db')}\n",
      "{u'text': u'Stocks closed higher, led by a surge in the tech sector: http://t.co/maVxrV1Lcw http://t.co/MlmmlQ1rd7', u'_id': ObjectId('55677c76bb9ab402cb0849dc')}\n",
      "{u'text': u'Here\\u2019s another way to spot potential health-care-stock winners: http://t.co/iz9ZSyag9h http://t.co/F2rjeYy7YO', u'_id': ObjectId('55677c76bb9ab402cb0849dd')}\n",
      "{u'text': u\"RT @SAFmedia: Here's how much your company is probably paying in rent for your desk space: http://t.co/rvOApaongV http://t.co/AQJqybPzCy\", u'_id': ObjectId('55677c76bb9ab402cb0849de')}\n",
      "{u'text': u'Tracy Morgan: \"Walmart did right by me and my family\" http://t.co/BmWNXulz8o http://t.co/NLVNb4zmGP', u'_id': ObjectId('55677c76bb9ab402cb0849df')}\n",
      "{u'text': u'Investors to Michael Kors: You\\u2019re out. http://t.co/h9WBXbqunw http://t.co/CwTzieB9Hz', u'_id': ObjectId('55677c76bb9ab402cb0849e0')}\n",
      "{u'text': u\"RT @jbooton: I don't care how much you love Starbucks &amp; Netflix, analysts say YouTube is worth way more than both of 'em: http://t.co/M5WCp\\u2026\", u'_id': ObjectId('55677c76bb9ab402cb0849e1')}\n",
      "{u'text': u'RT @SueChangMW: 5 energy stocks outperforming the S&amp;P 500 this year http://t.co/WsK9yMVN9d http://t.co/8m242thsXb', u'_id': ObjectId('55677c76bb9ab402cb0849e2')}\n",
      "{u'text': u'How all the sectors have performed, sorted by five-year returns: http://t.co/SJK1p4JU9w http://t.co/ih3yborJBv', u'_id': ObjectId('55677c76bb9ab402cb0849e3')}\n",
      "{u'text': u\"UEFA executive committee: Corruption 'deeply rooted' in organization http://t.co/a8L7goGQWP\", u'_id': ObjectId('55677c76bb9ab402cb0849e5')}\n",
      "{u'text': u'How to turn millennials into snake people: http://t.co/HwLLfHNsUM http://t.co/h5yhWASgUm', u'_id': ObjectId('55677c76bb9ab402cb0849e7')}\n",
      "{u'text': u\"Cities and states are borrowing more, but they're spending less on roads: http://t.co/QimHBCFgAQ http://t.co/OV3eqg9Haz\", u'_id': ObjectId('55677c76bb9ab402cb0849e8')}\n",
      "{u'text': u'RT @Priyasideas: IRS data theft: 5 things you need to know http://t.co/OcMGs76Tjw http://t.co/NEwOZcAUe6', u'_id': ObjectId('55677c76bb9ab402cb0849e9')}\n",
      "{u'text': u\"FIFA sponsor Budweiser to 'closely monitor' situation regarding corruption http://t.co/dcBoQApy9V\", u'_id': ObjectId('55677c76bb9ab402cb0849ea')}\n",
      "{u'text': u'This meal will cost you $9.99 from ingredient service Blue Apron. At Whole Foods, it costs... http://t.co/q2Gi8yKnSO http://t.co/5fxc4VzJxx', u'_id': ObjectId('55677c76bb9ab402cb0849eb')}\n",
      "{u'text': u\"McDonald's calls news of FIFA corruption charges 'extremely concerning' http://t.co/AGO0Pc98Hd\", u'_id': ObjectId('55677c76bb9ab402cb0849ec')}\n",
      "{u'text': u\"Atlantic hurricane season will be 'below normal,' NOAA predicts  http://t.co/lWqiSax3f6\", u'_id': ObjectId('55677c76bb9ab402cb0849ed')}\n",
      "{u'text': u'Hillary Clinton can\\u2019t waffle on trade pact forever: http://t.co/Pxs5Y5R1Cx COMMENTARY http://t.co/eEaYG10jAI', u'_id': ObjectId('55677c76bb9ab402cb0849ee')}\n",
      "{u'text': u'FIFA reaction: Soccer fans cheer, even laugh about corruption allegations http://t.co/jm5OpDsVnw http://t.co/s3pfk5Avdc', u'_id': ObjectId('55677c76bb9ab402cb0849ef')}\n",
      "{u'text': u'RT @m_cof: When money is tight, dental care gets delayed, Fed survey finds http://t.co/fN2wttVrdW http://t.co/zoHOzqTBrL', u'_id': ObjectId('55677c76bb9ab402cb0849f0')}\n",
      "{u'text': u'Fitting in on Upper East Side means the right pregnancy, the right school, the right Prada bag http://t.co/GwYpZZrCz1 http://t.co/eAzeVzKEUe', u'_id': ObjectId('55677c76bb9ab402cb0849f1')}\n",
      "{u'text': u'RT @TradingDeck: Five reasons the bull market in bonds will continue: http://t.co/p5Cz3GjJg9', u'_id': ObjectId('55677c76bb9ab402cb0849f2')}\n",
      "{u'text': u\"RT @slangwise: Never thought I'd live to see the day... parta me wishes I hadn't. It's official: #LamboSUV http://t.co/yl04a5bVae http://t.\\u2026\", u'_id': ObjectId('55677c76bb9ab402cb0849f3')}\n",
      "{u'text': u'The U.S. has charged 14 in a FIFA soccer corruption probe: http://t.co/oou1eb6lwm http://t.co/sNtmBWEluI', u'_id': ObjectId('55677c76bb9ab402cb0849f4')}\n",
      "{u'text': u'RT @MarketsTicker: Greek bond yields tumble after Tsipras says bailout deal is close http://t.co/KwKVsnv3bz', u'_id': ObjectId('55677c76bb9ab402cb0849f5')}\n",
      "{u'text': u'How meal delivery can make Whole Foods look cheap: http://t.co/sTu2Q68WUh http://t.co/iIz8aZvZaD', u'_id': ObjectId('55677c76bb9ab402cb0849f6')}\n",
      "{u'text': u'RT @SAFmedia: My first report for @WSJLive sans @TomBemis &amp; Boomers vs Millennials crew, dun dun dunnn. http://t.co/SBJ1ORJfGI http://t.co/\\u2026', u'_id': ObjectId('55677c76bb9ab402cb0849f7')}\n",
      "{u'text': u'Emergency savings \\u2014 here\\u2019s what you really need http://t.co/z31uaB9aCi http://t.co/EpGXeTDps6', u'_id': ObjectId('55677c76bb9ab402cb0849f9')}\n",
      "{u'text': u'RT @slangwise: Everybody really seems to be enjoying what\\'s happening to \"comically grotesque\" FIFA http://t.co/VEvXJh8BQV http://t.co/Rebe\\u2026', u'_id': ObjectId('55677c76bb9ab402cb0849fa')}\n",
      "{u'text': u'Skills, not wealth, drive U.S. income inequality http://t.co/bXvUJaguFZ COMMENTARY http://t.co/Y1p0Ol5Seo', u'_id': ObjectId('55677c76bb9ab402cb0849fb')}\n",
      "{u'text': u\"Loretta Lynch: Unable to comment on Sepp Blatter's status http://t.co/IZdsxJTd58\", u'_id': ObjectId('55677c76bb9ab402cb0849fc')}\n",
      "{u'text': u'European stocks surge on reports that Greece is near a debt deal http://t.co/2dHduWjlMf', u'_id': ObjectId('55677c76bb9ab402cb0849fd')}\n",
      "{u'text': u\"Hitting the road? Here's a nonalcoholic beer that tastes like beer http://t.co/WY6wDCi3p2 http://t.co/mh5WIaHFD2\", u'_id': ObjectId('55677c76bb9ab402cb0849fe')}\n",
      "{u'text': u'U.S. stocks are stabilizing after a sharp selloff in the previous trading session: http://t.co/yrimPGFxFr http://t.co/kOGLGyuP8f', u'_id': ObjectId('55677c76bb9ab402cb0849ff')}\n",
      "{u'text': u\"Tiffany &amp; Co.'s stock up 12% after better-than-expected fiscal Q1 profit and sales http://t.co/XQPeO2Ytsc http://t.co/Az7QfZedYI\", u'_id': ObjectId('55677c76bb9ab402cb084a00')}\n",
      "{u'text': u'Dow industrials jump 105 points, with Cisco, Microsoft, IBM, Apple in lead http://t.co/zq44CYQeqN', u'_id': ObjectId('55677c76bb9ab402cb084a02')}\n",
      "{u'text': u\"RT @m_cof: One woman's fascinating story about fitting in on the Upper East Side of Manhattan http://t.co/HOmFjEb35p http://t.co/hU5D6Kkn1Q\", u'_id': ObjectId('55677c76bb9ab402cb084a04')}\n",
      "{u'text': u'U.S. stocks rebound after selloff http://t.co/bPcRJqrmmq', u'_id': ObjectId('55677c76bb9ab402cb084a05')}\n",
      "{u'text': u'Watch the FIFA officials get arrested http://t.co/oAJ31d9nXv http://t.co/lRQHNSPQKL', u'_id': ObjectId('55677c76bb9ab402cb084a06')}\n",
      "{u'text': u'Michael Kors shares plummet 17% in premarket trades http://t.co/97ipxrSRl1', u'_id': ObjectId('55677c76bb9ab402cb084a07')}\n",
      "{u'text': u'Premarket sees stock-index stabilization http://t.co/11BE1yiwbu', u'_id': ObjectId('55677c76bb9ab402cb084a08')}\n",
      "{u'text': u'Fitting in on Upper East Side of Manhattan means the right pregnancy, the right school, the right Herm\\xe8s bag http://t.co/VgIvyrHkhy', u'_id': ObjectId('55677c76bb9ab402cb084a09')}\n",
      "{u'text': u'Hail an Uber: Ride-sharing app lands support from Britain\\u2019s prime minister http://t.co/G3Eo9WaOLf', u'_id': ObjectId('55677c76bb9ab402cb084a0a')}\n",
      "{u'text': u'Despite bond-selling spree, cities, states spending less on infrastructure http://t.co/EARnN1Sa1R', u'_id': ObjectId('55677c76bb9ab402cb084a0b')}\n",
      "{u'text': u'RT @SilviaAscarelli: Two retirement assumptions that are dead wrong for active and relatively healthy people: http://t.co/F1Sz4a3oFT http:/\\u2026', u'_id': ObjectId('55677c76bb9ab402cb084a0c')}\n",
      "{u'text': u'Hillary Clinton can\\u2019t waffle on trade pact forever http://t.co/Y2FXalDMm5', u'_id': ObjectId('55677c76bb9ab402cb084a0d')}\n",
      "{u'text': u'RT @jolshan: So the U.S. is far better at policing soccer than playing it: http://t.co/iOnT5DXYhA', u'_id': ObjectId('55677c76bb9ab402cb084a0e')}\n",
      "{u'text': u\"Tiffany's stock surges after better-than-expected results, upbeat outlook http://t.co/dX10FzQg9h\", u'_id': ObjectId('55677c76bb9ab402cb084a0f')}\n",
      "{u'text': u\"Michael Kors's stock plunges after disappointing earnings, outlook http://t.co/WD0bCKD39T\", u'_id': ObjectId('55677c76bb9ab402cb084a10')}\n",
      "{u'text': u'How to turn millennials into snake people http://t.co/EWp40zSefl', u'_id': ObjectId('55677c76bb9ab402cb084a11')}\n",
      "{u'text': u'RT @bkollmeyer: Need to know: Sometimes a step back for stock markets is much ado about nothing. http://t.co/Wnkgb8VNJD http://t.co/OiShluP\\u2026', u'_id': ObjectId('55677c76bb9ab402cb084a12')}\n",
      "{u'text': u'Help a grandchild pay for college without getting gouged on taxes http://t.co/cRhREI4xIb', u'_id': ObjectId('55677c76bb9ab402cb084a13')}\n",
      "{u'text': u'Emergency savings \\u2014 here\\u2019s what you really need http://t.co/tivhfQp5j8', u'_id': ObjectId('55677c76bb9ab402cb084a14')}\n",
      "{u'text': u'Here\\u2019s another way to spot potential health-care-stock winners http://t.co/5SU5EsOECc', u'_id': ObjectId('55677c76bb9ab402cb084a15')}\n",
      "{u'text': u'Text: FIFA arrest statement from Swiss Federal Office of Justice http://t.co/yBy7w7D1Va', u'_id': ObjectId('55677c76bb9ab402cb084a16')}\n",
      "{u'text': u'Shares rise in London as M&amp;A deals make headway http://t.co/ff5eh670de', u'_id': ObjectId('55677c76bb9ab402cb084a17')}\n",
      "{u'text': u'Six FIFA soccer officials arrested over U.S. corruption charges http://t.co/l3XQPz9gal', u'_id': ObjectId('55677c76bb9ab402cb084a18')}\n",
      "{u'text': u'Why U.K. leaving the EU wouldn\\u2019t make much difference http://t.co/CxCyFuVCyy', u'_id': ObjectId('55677c76bb9ab402cb084a19')}\n",
      "{u'text': u'Dollar yields a little territory after breathless sprint higher http://t.co/tJt5QpzTEC', u'_id': ObjectId('55677c76bb9ab402cb084a1a')}\n",
      "{u'text': u'Oil attempts to rebound from the mighty dollar effect http://t.co/Z2uNxtbKKu', u'_id': ObjectId('55677c76bb9ab402cb084a1b')}\n",
      "{u'text': u'RT @KitchenNews: Asia at afternoon...\\nTaiex up 0.4%\\nNikkei, Shanghai up 0.2% each\\nSensex down 0.1%\\nHK down 0.7%\\nASX down 0.9%\\nKospi down 1.\\u2026', u'_id': ObjectId('55677c76bb9ab402cb084a1c')}\n",
      "{u'text': u'China sets up giant gold fund to expand its market power http://t.co/WJfkJ67phc', u'_id': ObjectId('55677c76bb9ab402cb084a1d')}\n",
      "{u'text': u'RT @lauraliuhe: China sets up giant gold fund to expand its market power\\nhttp://t.co/2pACn0ttF9 http://t.co/3khLKCFiQG', u'_id': ObjectId('55677c76bb9ab402cb084a1e')}\n",
      "{u'text': u'Costco, Tiffany, Palo Alto Networks to report quarterly results http://t.co/E9k0tWGZCJ', u'_id': ObjectId('55677c76bb9ab402cb084a1f')}\n",
      "{u'text': u'Attention, bargain hunters: Think twice about those outlets. http://t.co/usjp849rLY http://t.co/p12kKoo3Qr', u'_id': ObjectId('55677c76bb9ab402cb084a20')}\n",
      "{u'text': u'RT @KitchenNews: Asia at midday:\\nTaiex up 0.3%\\nShanghai up 0.2% at break\\nNikkei up 0.1%\\nSensex down 0.5%\\nHK down 0.6%\\nASX down 0.7%\\nKospi d\\u2026', u'_id': ObjectId('55677c76bb9ab402cb084a21')}\n",
      "{u'text': u'Buffett: Raising minimum wage \\u2018would almost certainly reduce employment\\u2019: http://t.co/JOR55KwJsy http://t.co/8pewOCwluf', u'_id': ObjectId('55677c76bb9ab402cb084a22')}\n",
      "{u'text': u'Here are all 691 stock ticker symbols that are playable as Scrabble words: http://t.co/VOUv6YKi7O', u'_id': ObjectId('55677c76bb9ab402cb084a23')}\n",
      "{u'text': u'RT @lauraliuhe: Hong Kong stocks pull back after U.S. sell-off http://t.co/zeOojoNROR', u'_id': ObjectId('55677c76bb9ab402cb084a24')}\n",
      "{u'text': u'RT @KitchenNews: Asia at morning...\\nTaiex flat\\nNikkei, Shanghai down 0.1% each\\nHK down 0.6%\\nASX down 1%\\nKospi down 1.8%\\n$NIK $XJO $HSI', u'_id': ObjectId('55677c76bb9ab402cb084a25')}\n",
      "{u'text': u'Iraqi forces, militias launch attacks to drive Islamic State from Ramadi http://t.co/szGlc8vBHL', u'_id': ObjectId('55677c76bb9ab402cb084a26')}\n",
      "{u'text': u'Half of college graduates expect to be supported by their families: http://t.co/V326TLgwRY http://t.co/yALCvYaKWn', u'_id': ObjectId('55677c76bb9ab402cb084a27')}\n",
      "{u'text': u'RT @KitchenNews: Asia early...\\nNikkei down 0.1%\\nASX down 0.5%\\nKospi down 1%\\n$NIK $XJO', u'_id': ObjectId('55677c76bb9ab402cb084a28')}\n",
      "{u'text': u'RT @KitchenNews: Australia stocks slip, with miners down despite iron-ore gain -- http://t.co/IKe4NYA5tv $XJO $BHP $RIO http://t.co/JhBSHMP\\u2026', u'_id': ObjectId('55677c76bb9ab402cb084a29')}\n",
      "{u'text': u\"It turns out the best bargains aren't actually at outlet stores: http://t.co/NzRuVSDWU6 http://t.co/TxBiBFfbVS\", u'_id': ObjectId('55677c76bb9ab402cb084a2a')}\n",
      "{u'text': u'RT @KitchenNews: Japan stocks down after long win streak, even as yen drops -- techs mixed, car stocks up -- http://t.co/6xk2gEKybI http://\\u2026', u'_id': ObjectId('55677c76bb9ab402cb084a2b')}\n",
      "{u'text': u'4 killed after record rainfall caused heavy flooding in the south-central U.S. this weekend. http://t.co/6eesTASrRR http://t.co/9FcEefxJXO', u'_id': ObjectId('55677c76bb9ab402cb084a2c')}\n",
      "{u'text': u'RT @KitchenNews: Nikkei futures down 0.5% on SGX; dollar buying 123.04 yen\\n$NIK $JPY', u'_id': ObjectId('55677c76bb9ab402cb084a2d')}\n",
      "{u'text': u'Buffett says he has a \"better answer\" than raising the minimum wage: http://t.co/2ovzaHfsY5 http://t.co/UDbv0ilbZk', u'_id': ObjectId('55677c76bb9ab402cb084a2e')}\n",
      "{u'text': u'No more artificial flavors and colors at Taco Bell: http://t.co/4eeez40yNN http://t.co/bf6QnM7UFM', u'_id': ObjectId('55677c76bb9ab402cb084a2f')}\n",
      "{u'text': u'New-home sales are off to strongest start in seven years http://t.co/SZ0gEMBKDV http://t.co/VS63dKNnG0', u'_id': ObjectId('55677c76bb9ab402cb084a30')}\n",
      "{u'text': u'Record rainfall floods parts of U.S., killing four: http://t.co/4MNkAn5bso http://t.co/vq0CVzYgXn', u'_id': ObjectId('55677c76bb9ab402cb084a31')}\n",
      "{u'text': u'7 money moves everyone should make in their first year after college graduation: http://t.co/r8R3TQ91k8 http://t.co/nGLdxoB6kG', u'_id': ObjectId('55677c76bb9ab402cb084a32')}\n",
      "{u'text': u'Goldman Sachs describes the car of the future http://t.co/Y9tlOjQLrQ', u'_id': ObjectId('55677c76bb9ab402cb084a33')}\n",
      "{u'text': u'We went to Omaha to get the same $18 haircut as Warren Buffett. What we found was so much more http://t.co/eUPUw86JiL http://t.co/7qLsjF9Eh0', u'_id': ObjectId('55677c76bb9ab402cb084a34')}\n",
      "{u'text': u'RT @Craig_Tolliver: Take advantage of these \\u2018hidden\\u2019 senior discounts http://t.co/reqVXit8Ch', u'_id': ObjectId('55677c76bb9ab402cb084a35')}\n",
      "{u'text': u'U.S. stocks sell off as dollar spikes http://t.co/3G1hEmAIDA', u'_id': ObjectId('55677c76bb9ab402cb084a3a')}\n",
      "{u'text': u'Did you ever have a Zune? \\n\\nThe 12 worst American product flops: http://t.co/VYASsCaEfB http://t.co/72s6CHrOcW', u'_id': ObjectId('55677c76bb9ab402cb084974')}\n",
      "{u'text': u'RT @wmwitkowski: The Squeeze Is On: 42% of $GME outstanding shares shorted &amp; shares are up 7% after hours.http://t.co/6gHU7bwGpU http://t.c\\u2026', u'_id': ObjectId('55677c76bb9ab402cb084975')}\n",
      "{u'text': u'RT @MKTWeconomics: Layoffs are rare, jobless claims data suggest\\nhttp://t.co/gGi9K89X3g http://t.co/i7xbLph34I', u'_id': ObjectId('55677c76bb9ab402cb084977')}\n",
      "{u'text': u'One cop offers his tip for getting out of a speeding ticket: http://t.co/ZbECF6EtPI http://t.co/ttAiC2amYl', u'_id': ObjectId('55677c76bb9ab402cb084978')}\n",
      "{u'text': u'Dealerships are \\u2018quietly supporting\\u2019 Tesla\\u2019s Elon Musk http://t.co/cvCpe58xtA http://t.co/oyWov2crLm', u'_id': ObjectId('55677c76bb9ab402cb084979')}\n",
      "{u'text': u\"RT @m_cof: 'Neverland' lists for $100 million. Michael Jackson paid $19 million for the ranch in 1987 http://t.co/DCd69ErqZF http://t.co/4r\\u2026\", u'_id': ObjectId('55677c76bb9ab402cb08497a')}\n",
      "{u'text': u'The most popular stores in America: http://t.co/LHruYKDmhM http://t.co/lSbPbVvBLa', u'_id': ObjectId('55677c76bb9ab402cb08497b')}\n",
      "{u'text': u\"Fed's Kocherlakota: Policy aim should be three more strong years of labor gains like 2014 http://t.co/3Q5OB23itt\", u'_id': ObjectId('55677c76bb9ab402cb08497c')}\n",
      "{u'text': u'This one simple move could save homeowners hundreds of dollars a year: http://t.co/bX8z8EXD8j http://t.co/a0T6QrgmVc', u'_id': ObjectId('55677c76bb9ab402cb08497d')}\n",
      "{u'text': u\"Why 'Generation Rent' is so reluctant to buy a house: http://t.co/waNdrTQpEH http://t.co/kN6zgDpwU6\", u'_id': ObjectId('55677c76bb9ab402cb08497e')}\n",
      "{u'text': u'Drone companies are investing in...yet more drone companies: http://t.co/JmMRSiTEUX http://t.co/nEM6uh4JSG', u'_id': ObjectId('55677c76bb9ab402cb08497f')}\n",
      "{u'text': u\"RT @mdecambre: Lehman's Dick Fuld just made his 1st public appearance since start of 2008 financial crisis\\nhttp://t.co/Je7DfxEKht http://t.\\u2026\", u'_id': ObjectId('55677c76bb9ab402cb084980')}\n",
      "{u'text': u'Ben Carson, Donald Trump make the cut for Republican debates in new poll: http://t.co/oDZogMMWAC http://t.co/XxPOqbDuWp', u'_id': ObjectId('55677c76bb9ab402cb084981')}\n",
      "{u'text': u'RT @wlwatts: Fed\\u2019s Bullard says  \\u2018questionable\\u2019 benefits of zero rates should prompt new policy http://t.co/T5UenhTCZz http://t.co/gzibH4XX\\u2026', u'_id': ObjectId('55677c76bb9ab402cb084982')}\n",
      "{u'text': u'5 reasons to follow $GE executives and buy the company\\u2019s stock: http://t.co/yptOD374IU COMMENTARY', u'_id': ObjectId('55677c76bb9ab402cb084983')}\n",
      "{u'text': u'The study that claimed chocolate helps you lose weight? It\\u2019s fake. http://t.co/7rEgiksMip http://t.co/IptFhrjWjF', u'_id': ObjectId('55677c76bb9ab402cb084985')}\n",
      "{u'text': u'RT @terrencehoran: Millennials reject home ownership for vastly different reasons\\nhttp://t.co/f3yeQ54x5T http://t.co/MxvWjFjVz1', u'_id': ObjectId('55677c76bb9ab402cb084986')}\n",
      "{u'text': u\"RT @SAFmedia: It's official! GoPro is making a drone, sending $GPRO shares up 7%: http://t.co/1Sj6i2Ycvu http://t.co/uAGNhyIRRL\", u'_id': ObjectId('55677c76bb9ab402cb084987')}\n",
      "{u'text': u\"RT @jolshan: Proof you really can't trust any study on food, diet, or nutrition: http://t.co/zWUtbGHvvY\", u'_id': ObjectId('55677c76bb9ab402cb084988')}\n",
      "{u'text': u'China stocks plunge 6.5% - the most in 4 months - after sovereign fund cuts stakes in banks: http://t.co/3B7UObpIRk http://t.co/kQnt3d0xC6', u'_id': ObjectId('55677c76bb9ab402cb084989')}\n",
      "{u'text': u'RT @wlwatts: Dollar calling the shots as gold tries to snap 4-day losing streak http://t.co/ipHXqJZDcb with @MktwSaefong http://t.co/9x5Iww\\u2026', u'_id': ObjectId('55677c76bb9ab402cb08498a')}\n",
      "{u'text': u'\"The U.S. dollar has risen 34% since my 2011 column. And it is not done yet,\" writes Avi Gilburt. http://t.co/m3jU9a2bgA', u'_id': ObjectId('55677c76bb9ab402cb08498b')}\n",
      "{u'text': u'Layoffs are at an all-time low, jobless claims data suggests. http://t.co/zLcXWezS36 http://t.co/A9kF85KiVO', u'_id': ObjectId('55677c76bb9ab402cb08498c')}\n",
      "{u'text': u'RT @MarketWatchPF: The view from the World Trade Center observation deck is amazing. Check out these photos: http://t.co/J5jojULYGN http://\\u2026', u'_id': ObjectId('55677c76bb9ab402cb08498d')}\n",
      "{u'text': u'Companies are laying off the fewest number of employees since the U.S. began keeping track decades ago. http://t.co/LhtgMIMv35', u'_id': ObjectId('55677c76bb9ab402cb08498f')}\n",
      "{u'text': u'RT @MarketsTicker: Chobani founder to donate at least half his estimated $1.4 billion fortune http://t.co/XpCnSprSdL', u'_id': ObjectId('55677c76bb9ab402cb084990')}\n",
      "{u'text': u'RT @Quantanamo: Here\\u2019s how to give your daughter an edge in her career (and raise a good son) http://t.co/jlqwy8rSbJ http://t.co/RVlWupDsln', u'_id': ObjectId('55677c76bb9ab402cb084991')}\n",
      "{u'text': u'Dollar rises to 12-year high against the yen. http://t.co/mkSEENT0i8 $USDJPY http://t.co/iJ4umRHbMl', u'_id': ObjectId('55677c76bb9ab402cb084992')}\n",
      "{u'text': u\"RT @SAFmedia: Here's what happens when drone companies decide they want to invest in other drone companies: http://t.co/nJ5zdBtRvL http://t\\u2026\", u'_id': ObjectId('55677c76bb9ab402cb084993')}\n",
      "{u'text': u'Rate-hike fears undercutting U.S. stocks. \\n\\nMarket snapshot: http://t.co/Ln8whOTFCM http://t.co/npE5KXY26F', u'_id': ObjectId('55677c76bb9ab402cb084995')}\n",
      "{u'text': u\"RT @wlwatts: Jamie Dimon has had it up to here with 'lazy' shareholders http://t.co/lNhHdDuhDr http://t.co/uOau2SZX08\", u'_id': ObjectId('55677c76bb9ab402cb084996')}\n",
      "{u'text': u'What the dollar can and can\\u2019t do to this bull market: http://t.co/F0SIqJkzVs http://t.co/yySnSeMboT', u'_id': ObjectId('55677c76bb9ab402cb084997')}\n",
      "{u'text': u'RT @PhilipvanDoorn: Wall Street expects these health-care stocks to rise up to 55% http://t.co/qUsvaCCvXQ http://t.co/by6ovdxoMW', u'_id': ObjectId('55677c76bb9ab402cb084998')}\n",
      "{u'text': u'A program to help community college students \\u2014 that actually works http://t.co/KCU4SJX9T0', u'_id': ObjectId('55677c76bb9ab402cb084999')}\n",
      "{u'text': u'RT @JillianBerman: Meet the most privileged community college students http://t.co/p0ysq2gwpo http://t.co/oF0e1VrN7j', u'_id': ObjectId('55677c76bb9ab402cb08499b')}\n",
      "{u'text': u'J.P. Morgan boss Dimon calls out \\u2018lazy\\u2019 shareholders http://t.co/ltSRVrFmkF http://t.co/Tgecuok9Cd', u'_id': ObjectId('55677c76bb9ab402cb08499c')}\n",
      "{u'text': u'RT @terrencehoran: Raising your deductible could save up to 41%\\nhttp://t.co/KqD1gg986x http://t.co/ok8rI0NrVZ', u'_id': ObjectId('55677c76bb9ab402cb08499d')}\n",
      "{u'text': u'RT @m_cof: The average cost of raising a child is $245,000 (not including inflation) vs. $25,230 in 1960 http://t.co/cvRcxV3p8g http://t.co\\u2026', u'_id': ObjectId('55677c76bb9ab402cb08499e')}\n",
      "{u'text': u'Pending U.S. home sales in April are highest in nine years http://t.co/2rO5LRG2IT', u'_id': ObjectId('55677c76bb9ab402cb08499f')}\n",
      "{u'text': u\"April's gauge of pending home sales highest in nine years http://t.co/PldDd9WoJH\", u'_id': ObjectId('55677c76bb9ab402cb0849a0')}\n",
      "{u'text': u'RT @mrtgr: Putin calls U.S. offside in FIFA probe: http://t.co/BSfqHGPBv5? http://t.co/BbrUyuGZr4', u'_id': ObjectId('55677c76bb9ab402cb0849a1')}\n",
      "{u'text': u'Teva in $1.2 billion settlement of generic-blocking claim: FTC http://t.co/yonxxeR1pK', u'_id': ObjectId('55677c76bb9ab402cb0849a3')}\n",
      "{u'text': u'Renewed interest-rate-hike concerns lead to lower open for U.S. stocks http://t.co/c8S5rkMeNw', u'_id': ObjectId('55677c76bb9ab402cb0849a4')}\n",
      "{u'text': u'RT @CateyHill: You can easily save $200+ on homeowners insurance in these 6 states: http://t.co/S7ldaP3udf http://t.co/6g9fCV0IZk', u'_id': ObjectId('55677c76bb9ab402cb0849a6')}\n",
      "{u'text': u\"RT @SilviaAscarelli: What's your retirement number? You need to look at these 3: http://t.co/MfjVUkEtEg http://t.co/e36zsL8I3J\", u'_id': ObjectId('55677c76bb9ab402cb0849a7')}\n",
      "{u'text': u'RT @mrtgr: The daily thought that helped land Jessica Alba on the Forbes list of rich self-made women: http://t.co/cCqxTmKHWP http://t.co/B\\u2026', u'_id': ObjectId('55677c76bb9ab402cb0849ac')}\n",
      "{u'text': u'RT @mrtgr: Fitting in on Upper East Side demands correct pregnancy, correct school, correct Herm\\xe8s bag: http://t.co/kdIVo6kuXP? http://t.co\\u2026', u'_id': ObjectId('55677c76bb9ab402cb0849ad')}\n"
     ]
    },
    {
     "data": {
      "text/plain": [
       "[u'Nebraska abolishes death penalty http://t.co/lbxTTgw1Q9',\n",
       " u'Is there a link between a bad economy and tooth decay? http://t.co/VU5TfBmnhG',\n",
       " u'@katiebrenzel It is upsetting indeed.',\n",
       " u'Treasury market in selloff mode as stocks recover http://t.co/hD5jjN0cro',\n",
       " u'How meal delivery can make Whole Foods look cheap http://t.co/vlHCbzDoIy',\n",
       " u\"McDonald's to stop reporting monthly sales figures http://t.co/f67yJqkHEk\",\n",
       " u'RT @m_cof: The median salary for a stockbroker is a little over $71,000 a year http://t.co/buZHaglkxs http://t.co/911mZqbTKD',\n",
       " u'A man survived a shotgun blast to his chest thanks to his iPhone: http://t.co/vZxN4cNnxd http://t.co/pTAvPJfS74',\n",
       " u'RT @jsadinolfi: The dollar CRUSHED IT today http://t.co/iSDl4Vza10 http://t.co/TdJ7LF27Kb',\n",
       " u'IRS says thieves stole tax information from 100,000 Americans http://t.co/KHgre4DzCZ',\n",
       " u\"Facebook is just one of billionaire John Griffin's top tech picks. Check out the rest: http://t.co/l41c2eeVzI http://t.co/BzicpDpu8a\",\n",
       " u'U.S. stocks end slightly lower, on pace for weekly drop http://t.co/wHPWIKWB0p',\n",
       " u\"Fed's Bullard now favors targeting nominal GDP http://t.co/xwNyMdVrZV\",\n",
       " u'RT @jsadinolfi: Euro-dollar parity is BACK ON THE TABLE http://t.co/0v8HQm9n4d',\n",
       " u'The 12 best American road trips: http://t.co/EwmgD8vSQO http://t.co/pcVplIbBJB',\n",
       " u'Scruffy youth hostels are going upscale http://t.co/gkD6xXgHQ5',\n",
       " u'Putin accuses U.S. of overreach in FIFA bribery case http://t.co/PQItLCKkA0',\n",
       " u'U.S. stocks open lower amid rate-hike worries http://t.co/7ws9Emc1tN',\n",
       " u'Is your retirement planning future-ready? http://t.co/p3OYfH3ib2',\n",
       " u'U.S. unemployment claims climb to five-week high http://t.co/KDcREY0K9i',\n",
       " u'Jobless claims climb to five-week high of 282,000 http://t.co/7qeHbVSmrb',\n",
       " u'J.P. Morgan boss Dimon calls out \\u2018lazy\\u2019 shareholders http://t.co/iOAS2jETdk',\n",
       " u\"RT @wlwatts: Fear of Bernie...It's Sanders that Hillary camp fears most right now http://t.co/T8ameqBKMV via @mktwrobs http://t.co/s77Fr8k7\\u2026\",\n",
       " u'Avago to buy Broadcom for $37 billion http://t.co/LmrHnWdOZg',\n",
       " u'The merry-go-round for stocks can\\u2019t get away from the dollar http://t.co/8fdTcKA0jK',\n",
       " u\"RT @bkollmeyer: Need to know: On the stock-market merry-go-round, it's hard to get away from the dollar. http://t.co/8zcGxQz7yO http://t.co\\u2026\",\n",
       " u'Avago Tech to buy Broadcom in cash-and-stock deal http://t.co/IS0q15nfDt',\n",
       " u'Meet the most \\u2018privileged\\u2019 community college students http://t.co/GsuZoQe9m3',\n",
       " u'The most popular stores in America http://t.co/pMyQIt3vfq',\n",
       " u'Visa threatens to end deal as pressure on FIFA mounts http://t.co/c5yZ38yWcv',\n",
       " u'Simple math will determine what happens to stocks when rates rise http://t.co/b3JB8kHNz5',\n",
       " u'London stocks drop as promise of Greece falls flat http://t.co/OrycwMWT2N',\n",
       " u'Dollar taps a 12-year high against yen http://t.co/CWwJ9X1LDN',\n",
       " u'In New York, office space per employee costs on average $14,800 annually: http://t.co/KNtW3dZBKm http://t.co/TQKuGGJB1E',\n",
       " u'RT @KitchenNews: Asia at afternoon...\\nKospi up 0.5%\\nTaiex up 0.4%\\nNikkei up 0.2%\\nSensex up 0.1%\\nASX down 0.2%\\nHK down 1.5%\\nShanghai down 1.\\u2026',\n",
       " u'A breakdown of average office space cost per employee, by city: http://t.co/iaitgDjdmT http://t.co/JdiWHEs5qa',\n",
       " u'RT @lauraliuhe: Gucci\\u2019s 50% price-cut triggers mad rush in China\\nhttp://t.co/iOwP5FrEoO http://t.co/tKZaiT3sVI',\n",
       " u'Tracy Morgan: \"Walmart did right by me and my family\" http://t.co/b3NLboD0US http://t.co/DkLNNCVE3G',\n",
       " u'RT @KitchenNews: Asia at midday..\\nNikkei up 0.8%\\nKospi up 0.7%\\nTaiex up 0.4% \\nSensex up 0.3%\\nASX down 0.1%\\nHK down 1.4%\\nShanghai down 1.4% \\u2026',\n",
       " u'\\u2018Merger Monday\\u2019 now falls on Tuesday, Wednesday or even Thursday http://t.co/88Qkcs9kFc http://t.co/fRJOw5NohR',\n",
       " u'YouTube is worth more than eBay, Yahoo and Starbucks: http://t.co/c8UrpjiVUg http://t.co/OgR7yYsmMW',\n",
       " u'A new computer program replaces the word \"millennial\" with the phrase \"snake people\"  http://t.co/xATyVYMLp3 http://t.co/iJ0RsmVGb4',\n",
       " u'RT @KitchenNews: Vladivostok wants to be a major Asia gambling destination -- Craig Stephen looks its odds: http://t.co/5NFQO3pSrd http://t\\u2026',\n",
       " u'RT @lauraliuhe: Hong Kong stocks fall as brokers, real estate weak http://t.co/Li0DSfbIu0',\n",
       " u'As Heidi Klum often says, \\u201cIn fashion, one day you are in. And the next day you are out\\u201d  http://t.co/cwQxkYU7yv http://t.co/jBe8ib1GKS',\n",
       " u'RT @KitchenNews: Asia at morning...\\nKospi up 0.7%\\nNikkei up 0.6% \\nShanghai, Taiex up 0.2% each\\nASX down 0.4%\\nHK down 0.9%\\n$NIK $HSI $XJO',\n",
       " u'We can eliminate \\u2018scourge of hunger\\u2019 in our lifetime, U.N. claims: http://t.co/5O4t9SQSnM http://t.co/ECkBZPfAYG',\n",
       " u'RT @KitchenNews: Asia early...\\nNikkei up 0.7%\\nKospi up 0.6%\\nASX down 0.5%\\n$NIK $XJO',\n",
       " u'Hunger can be eradicated in our lifetimes, U.N. says http://t.co/6XGpH1Drgh http://t.co/JbTwTn22XS',\n",
       " u'RT @KitchenNews: Australia stocks slip as mining shares retreat http://t.co/Q3WR99OrYY $XJO http://t.co/J2G83gn6ph',\n",
       " u'No more artificial flavors and colors at Taco Bell: http://t.co/kdIrMCllDl http://t.co/XkPt0ZrGug',\n",
       " u'RT @jessmarmor: Santorum announces his White House bid with coal in one hand and an American flag in the other http://t.co/aet5ko66X3 http:\\u2026',\n",
       " u'RT @KitchenNews: Japan stocks chase rising dollar upward; retailers mixed after data http://t.co/RwG28suPK7 http://t.co/fsp6guAaH1',\n",
       " u'Share of new bond sales spent on capital projects has declined by 37.4% over the past 15 years http://t.co/3mwqwzGpZN http://t.co/O01TUMsEgc',\n",
       " u'RT @KitchenNews: Nikkei futures up 0.7% on SGX; dollar buying 123.76 yen\\n$NIK $JPY',\n",
       " u'Sorry Dodger fans, the Charter-Time Warner deal will leave you out: http://t.co/cvf0B4Al6s http://t.co/2Rtmdu6N68',\n",
       " u'New text message bug is crashing iPhones: http://t.co/Hj6DwWingt http://t.co/3Wwe6LEmHp',\n",
       " u'RT @KitchenNews: HSBC cuts outlook for China GDP, exports http://t.co/X9pNlmahIt http://t.co/z7geqx0yej',\n",
       " u'Here\\u2019s what spending gets delayed when money is tight: http://t.co/grzOKUVBRU http://t.co/O1qbETuxL4',\n",
       " u\"It turns out, Whole Foods ISN'T the most expensive place to buy ingredients: http://t.co/z2HHgPGmei http://t.co/Eu1qaP25Wj\",\n",
       " u'Live anthrax samples mistakenly shipped to nine states http://t.co/GUthn1suqk',\n",
       " u'When money is tight, people tend to skip the dentist: http://t.co/eQJjtRZjBy http://t.co/eRLkEtxsNJ',\n",
       " u\"RT @jessmarmor: What's in that box? Some seriously expensive groceries http://t.co/7CXcpNLvr2 http://t.co/2kkgeupaQ4\",\n",
       " u\"RT @MarketWatchPF: Tired of 'millennials'? So are millennials. http://t.co/IcR913ZBZO\",\n",
       " u'Help a grandchild pay for college...without getting gouged on taxes: http://t.co/ygpykntMwh http://t.co/jtE51j8XvT',\n",
       " u'Watch the FIFA officials get arrested http://t.co/wxn8nqXYqo http://t.co/Eb5QCPe7UD',\n",
       " u'RT @mrtgr: Why #MergerMonday often falls on a Wednesday these days: http://t.co/phDwldPM7n? http://t.co/TtQP0qoCAA',\n",
       " u'Stocks closed higher, led by a surge in the tech sector: http://t.co/maVxrV1Lcw http://t.co/MlmmlQ1rd7',\n",
       " u'Here\\u2019s another way to spot potential health-care-stock winners: http://t.co/iz9ZSyag9h http://t.co/F2rjeYy7YO',\n",
       " u\"RT @SAFmedia: Here's how much your company is probably paying in rent for your desk space: http://t.co/rvOApaongV http://t.co/AQJqybPzCy\",\n",
       " u'Tracy Morgan: \"Walmart did right by me and my family\" http://t.co/BmWNXulz8o http://t.co/NLVNb4zmGP',\n",
       " u'Investors to Michael Kors: You\\u2019re out. http://t.co/h9WBXbqunw http://t.co/CwTzieB9Hz',\n",
       " u\"RT @jbooton: I don't care how much you love Starbucks &amp; Netflix, analysts say YouTube is worth way more than both of 'em: http://t.co/M5WCp\\u2026\",\n",
       " u'RT @SueChangMW: 5 energy stocks outperforming the S&amp;P 500 this year http://t.co/WsK9yMVN9d http://t.co/8m242thsXb',\n",
       " u'How all the sectors have performed, sorted by five-year returns: http://t.co/SJK1p4JU9w http://t.co/ih3yborJBv',\n",
       " u\"UEFA executive committee: Corruption 'deeply rooted' in organization http://t.co/a8L7goGQWP\",\n",
       " u'How to turn millennials into snake people: http://t.co/HwLLfHNsUM http://t.co/h5yhWASgUm',\n",
       " u\"Cities and states are borrowing more, but they're spending less on roads: http://t.co/QimHBCFgAQ http://t.co/OV3eqg9Haz\",\n",
       " u'RT @Priyasideas: IRS data theft: 5 things you need to know http://t.co/OcMGs76Tjw http://t.co/NEwOZcAUe6',\n",
       " u\"FIFA sponsor Budweiser to 'closely monitor' situation regarding corruption http://t.co/dcBoQApy9V\",\n",
       " u'This meal will cost you $9.99 from ingredient service Blue Apron. At Whole Foods, it costs... http://t.co/q2Gi8yKnSO http://t.co/5fxc4VzJxx',\n",
       " u\"McDonald's calls news of FIFA corruption charges 'extremely concerning' http://t.co/AGO0Pc98Hd\",\n",
       " u\"Atlantic hurricane season will be 'below normal,' NOAA predicts  http://t.co/lWqiSax3f6\",\n",
       " u'Hillary Clinton can\\u2019t waffle on trade pact forever: http://t.co/Pxs5Y5R1Cx COMMENTARY http://t.co/eEaYG10jAI',\n",
       " u'FIFA reaction: Soccer fans cheer, even laugh about corruption allegations http://t.co/jm5OpDsVnw http://t.co/s3pfk5Avdc',\n",
       " u'RT @m_cof: When money is tight, dental care gets delayed, Fed survey finds http://t.co/fN2wttVrdW http://t.co/zoHOzqTBrL',\n",
       " u'Fitting in on Upper East Side means the right pregnancy, the right school, the right Prada bag http://t.co/GwYpZZrCz1 http://t.co/eAzeVzKEUe',\n",
       " u'RT @TradingDeck: Five reasons the bull market in bonds will continue: http://t.co/p5Cz3GjJg9',\n",
       " u\"RT @slangwise: Never thought I'd live to see the day... parta me wishes I hadn't. It's official: #LamboSUV http://t.co/yl04a5bVae http://t.\\u2026\",\n",
       " u'The U.S. has charged 14 in a FIFA soccer corruption probe: http://t.co/oou1eb6lwm http://t.co/sNtmBWEluI',\n",
       " u'RT @MarketsTicker: Greek bond yields tumble after Tsipras says bailout deal is close http://t.co/KwKVsnv3bz',\n",
       " u'How meal delivery can make Whole Foods look cheap: http://t.co/sTu2Q68WUh http://t.co/iIz8aZvZaD',\n",
       " u'RT @SAFmedia: My first report for @WSJLive sans @TomBemis &amp; Boomers vs Millennials crew, dun dun dunnn. http://t.co/SBJ1ORJfGI http://t.co/\\u2026',\n",
       " u'Emergency savings \\u2014 here\\u2019s what you really need http://t.co/z31uaB9aCi http://t.co/EpGXeTDps6',\n",
       " u'RT @slangwise: Everybody really seems to be enjoying what\\'s happening to \"comically grotesque\" FIFA http://t.co/VEvXJh8BQV http://t.co/Rebe\\u2026',\n",
       " u'Skills, not wealth, drive U.S. income inequality http://t.co/bXvUJaguFZ COMMENTARY http://t.co/Y1p0Ol5Seo',\n",
       " u\"Loretta Lynch: Unable to comment on Sepp Blatter's status http://t.co/IZdsxJTd58\",\n",
       " u'European stocks surge on reports that Greece is near a debt deal http://t.co/2dHduWjlMf',\n",
       " u\"Hitting the road? Here's a nonalcoholic beer that tastes like beer http://t.co/WY6wDCi3p2 http://t.co/mh5WIaHFD2\",\n",
       " u'U.S. stocks are stabilizing after a sharp selloff in the previous trading session: http://t.co/yrimPGFxFr http://t.co/kOGLGyuP8f',\n",
       " u\"Tiffany &amp; Co.'s stock up 12% after better-than-expected fiscal Q1 profit and sales http://t.co/XQPeO2Ytsc http://t.co/Az7QfZedYI\",\n",
       " u'Dow industrials jump 105 points, with Cisco, Microsoft, IBM, Apple in lead http://t.co/zq44CYQeqN',\n",
       " u\"RT @m_cof: One woman's fascinating story about fitting in on the Upper East Side of Manhattan http://t.co/HOmFjEb35p http://t.co/hU5D6Kkn1Q\",\n",
       " u'U.S. stocks rebound after selloff http://t.co/bPcRJqrmmq',\n",
       " u'Watch the FIFA officials get arrested http://t.co/oAJ31d9nXv http://t.co/lRQHNSPQKL',\n",
       " u'Michael Kors shares plummet 17% in premarket trades http://t.co/97ipxrSRl1',\n",
       " u'Premarket sees stock-index stabilization http://t.co/11BE1yiwbu',\n",
       " u'Fitting in on Upper East Side of Manhattan means the right pregnancy, the right school, the right Herm\\xe8s bag http://t.co/VgIvyrHkhy',\n",
       " u'Hail an Uber: Ride-sharing app lands support from Britain\\u2019s prime minister http://t.co/G3Eo9WaOLf',\n",
       " u'Despite bond-selling spree, cities, states spending less on infrastructure http://t.co/EARnN1Sa1R',\n",
       " u'RT @SilviaAscarelli: Two retirement assumptions that are dead wrong for active and relatively healthy people: http://t.co/F1Sz4a3oFT http:/\\u2026',\n",
       " u'Hillary Clinton can\\u2019t waffle on trade pact forever http://t.co/Y2FXalDMm5',\n",
       " u'RT @jolshan: So the U.S. is far better at policing soccer than playing it: http://t.co/iOnT5DXYhA',\n",
       " u\"Tiffany's stock surges after better-than-expected results, upbeat outlook http://t.co/dX10FzQg9h\",\n",
       " u\"Michael Kors's stock plunges after disappointing earnings, outlook http://t.co/WD0bCKD39T\",\n",
       " u'How to turn millennials into snake people http://t.co/EWp40zSefl',\n",
       " u'RT @bkollmeyer: Need to know: Sometimes a step back for stock markets is much ado about nothing. http://t.co/Wnkgb8VNJD http://t.co/OiShluP\\u2026',\n",
       " u'Help a grandchild pay for college without getting gouged on taxes http://t.co/cRhREI4xIb',\n",
       " u'Emergency savings \\u2014 here\\u2019s what you really need http://t.co/tivhfQp5j8',\n",
       " u'Here\\u2019s another way to spot potential health-care-stock winners http://t.co/5SU5EsOECc',\n",
       " u'Text: FIFA arrest statement from Swiss Federal Office of Justice http://t.co/yBy7w7D1Va',\n",
       " u'Shares rise in London as M&amp;A deals make headway http://t.co/ff5eh670de',\n",
       " u'Six FIFA soccer officials arrested over U.S. corruption charges http://t.co/l3XQPz9gal',\n",
       " u'Why U.K. leaving the EU wouldn\\u2019t make much difference http://t.co/CxCyFuVCyy',\n",
       " u'Dollar yields a little territory after breathless sprint higher http://t.co/tJt5QpzTEC',\n",
       " u'Oil attempts to rebound from the mighty dollar effect http://t.co/Z2uNxtbKKu',\n",
       " u'RT @KitchenNews: Asia at afternoon...\\nTaiex up 0.4%\\nNikkei, Shanghai up 0.2% each\\nSensex down 0.1%\\nHK down 0.7%\\nASX down 0.9%\\nKospi down 1.\\u2026',\n",
       " u'China sets up giant gold fund to expand its market power http://t.co/WJfkJ67phc',\n",
       " u'RT @lauraliuhe: China sets up giant gold fund to expand its market power\\nhttp://t.co/2pACn0ttF9 http://t.co/3khLKCFiQG',\n",
       " u'Costco, Tiffany, Palo Alto Networks to report quarterly results http://t.co/E9k0tWGZCJ',\n",
       " u'Attention, bargain hunters: Think twice about those outlets. http://t.co/usjp849rLY http://t.co/p12kKoo3Qr',\n",
       " u'RT @KitchenNews: Asia at midday:\\nTaiex up 0.3%\\nShanghai up 0.2% at break\\nNikkei up 0.1%\\nSensex down 0.5%\\nHK down 0.6%\\nASX down 0.7%\\nKospi d\\u2026',\n",
       " u'Buffett: Raising minimum wage \\u2018would almost certainly reduce employment\\u2019: http://t.co/JOR55KwJsy http://t.co/8pewOCwluf',\n",
       " u'Here are all 691 stock ticker symbols that are playable as Scrabble words: http://t.co/VOUv6YKi7O',\n",
       " u'RT @lauraliuhe: Hong Kong stocks pull back after U.S. sell-off http://t.co/zeOojoNROR',\n",
       " u'RT @KitchenNews: Asia at morning...\\nTaiex flat\\nNikkei, Shanghai down 0.1% each\\nHK down 0.6%\\nASX down 1%\\nKospi down 1.8%\\n$NIK $XJO $HSI',\n",
       " u'Iraqi forces, militias launch attacks to drive Islamic State from Ramadi http://t.co/szGlc8vBHL',\n",
       " u'Half of college graduates expect to be supported by their families: http://t.co/V326TLgwRY http://t.co/yALCvYaKWn',\n",
       " u'RT @KitchenNews: Asia early...\\nNikkei down 0.1%\\nASX down 0.5%\\nKospi down 1%\\n$NIK $XJO',\n",
       " u'RT @KitchenNews: Australia stocks slip, with miners down despite iron-ore gain -- http://t.co/IKe4NYA5tv $XJO $BHP $RIO http://t.co/JhBSHMP\\u2026',\n",
       " u\"It turns out the best bargains aren't actually at outlet stores: http://t.co/NzRuVSDWU6 http://t.co/TxBiBFfbVS\",\n",
       " u'RT @KitchenNews: Japan stocks down after long win streak, even as yen drops -- techs mixed, car stocks up -- http://t.co/6xk2gEKybI http://\\u2026',\n",
       " u'4 killed after record rainfall caused heavy flooding in the south-central U.S. this weekend. http://t.co/6eesTASrRR http://t.co/9FcEefxJXO',\n",
       " u'RT @KitchenNews: Nikkei futures down 0.5% on SGX; dollar buying 123.04 yen\\n$NIK $JPY',\n",
       " u'Buffett says he has a \"better answer\" than raising the minimum wage: http://t.co/2ovzaHfsY5 http://t.co/UDbv0ilbZk',\n",
       " u'No more artificial flavors and colors at Taco Bell: http://t.co/4eeez40yNN http://t.co/bf6QnM7UFM',\n",
       " u'New-home sales are off to strongest start in seven years http://t.co/SZ0gEMBKDV http://t.co/VS63dKNnG0',\n",
       " u'Record rainfall floods parts of U.S., killing four: http://t.co/4MNkAn5bso http://t.co/vq0CVzYgXn',\n",
       " u'7 money moves everyone should make in their first year after college graduation: http://t.co/r8R3TQ91k8 http://t.co/nGLdxoB6kG',\n",
       " u'Goldman Sachs describes the car of the future http://t.co/Y9tlOjQLrQ',\n",
       " u'We went to Omaha to get the same $18 haircut as Warren Buffett. What we found was so much more http://t.co/eUPUw86JiL http://t.co/7qLsjF9Eh0',\n",
       " u'RT @Craig_Tolliver: Take advantage of these \\u2018hidden\\u2019 senior discounts http://t.co/reqVXit8Ch',\n",
       " u'U.S. stocks sell off as dollar spikes http://t.co/3G1hEmAIDA',\n",
       " u'Did you ever have a Zune? \\n\\nThe 12 worst American product flops: http://t.co/VYASsCaEfB http://t.co/72s6CHrOcW',\n",
       " u'RT @wmwitkowski: The Squeeze Is On: 42% of $GME outstanding shares shorted &amp; shares are up 7% after hours.http://t.co/6gHU7bwGpU http://t.c\\u2026',\n",
       " u'RT @MKTWeconomics: Layoffs are rare, jobless claims data suggest\\nhttp://t.co/gGi9K89X3g http://t.co/i7xbLph34I',\n",
       " u'One cop offers his tip for getting out of a speeding ticket: http://t.co/ZbECF6EtPI http://t.co/ttAiC2amYl',\n",
       " u'Dealerships are \\u2018quietly supporting\\u2019 Tesla\\u2019s Elon Musk http://t.co/cvCpe58xtA http://t.co/oyWov2crLm',\n",
       " u\"RT @m_cof: 'Neverland' lists for $100 million. Michael Jackson paid $19 million for the ranch in 1987 http://t.co/DCd69ErqZF http://t.co/4r\\u2026\",\n",
       " u'The most popular stores in America: http://t.co/LHruYKDmhM http://t.co/lSbPbVvBLa',\n",
       " u\"Fed's Kocherlakota: Policy aim should be three more strong years of labor gains like 2014 http://t.co/3Q5OB23itt\",\n",
       " u'This one simple move could save homeowners hundreds of dollars a year: http://t.co/bX8z8EXD8j http://t.co/a0T6QrgmVc',\n",
       " u\"Why 'Generation Rent' is so reluctant to buy a house: http://t.co/waNdrTQpEH http://t.co/kN6zgDpwU6\",\n",
       " u'Drone companies are investing in...yet more drone companies: http://t.co/JmMRSiTEUX http://t.co/nEM6uh4JSG',\n",
       " u\"RT @mdecambre: Lehman's Dick Fuld just made his 1st public appearance since start of 2008 financial crisis\\nhttp://t.co/Je7DfxEKht http://t.\\u2026\",\n",
       " u'Ben Carson, Donald Trump make the cut for Republican debates in new poll: http://t.co/oDZogMMWAC http://t.co/XxPOqbDuWp',\n",
       " u'RT @wlwatts: Fed\\u2019s Bullard says  \\u2018questionable\\u2019 benefits of zero rates should prompt new policy http://t.co/T5UenhTCZz http://t.co/gzibH4XX\\u2026',\n",
       " u'5 reasons to follow $GE executives and buy the company\\u2019s stock: http://t.co/yptOD374IU COMMENTARY',\n",
       " u'The study that claimed chocolate helps you lose weight? It\\u2019s fake. http://t.co/7rEgiksMip http://t.co/IptFhrjWjF',\n",
       " u'RT @terrencehoran: Millennials reject home ownership for vastly different reasons\\nhttp://t.co/f3yeQ54x5T http://t.co/MxvWjFjVz1',\n",
       " u\"RT @SAFmedia: It's official! GoPro is making a drone, sending $GPRO shares up 7%: http://t.co/1Sj6i2Ycvu http://t.co/uAGNhyIRRL\",\n",
       " u\"RT @jolshan: Proof you really can't trust any study on food, diet, or nutrition: http://t.co/zWUtbGHvvY\",\n",
       " u'China stocks plunge 6.5% - the most in 4 months - after sovereign fund cuts stakes in banks: http://t.co/3B7UObpIRk http://t.co/kQnt3d0xC6',\n",
       " u'RT @wlwatts: Dollar calling the shots as gold tries to snap 4-day losing streak http://t.co/ipHXqJZDcb with @MktwSaefong http://t.co/9x5Iww\\u2026',\n",
       " u'\"The U.S. dollar has risen 34% since my 2011 column. And it is not done yet,\" writes Avi Gilburt. http://t.co/m3jU9a2bgA',\n",
       " u'Layoffs are at an all-time low, jobless claims data suggests. http://t.co/zLcXWezS36 http://t.co/A9kF85KiVO',\n",
       " u'RT @MarketWatchPF: The view from the World Trade Center observation deck is amazing. Check out these photos: http://t.co/J5jojULYGN http://\\u2026',\n",
       " u'Companies are laying off the fewest number of employees since the U.S. began keeping track decades ago. http://t.co/LhtgMIMv35',\n",
       " u'RT @MarketsTicker: Chobani founder to donate at least half his estimated $1.4 billion fortune http://t.co/XpCnSprSdL',\n",
       " u'RT @Quantanamo: Here\\u2019s how to give your daughter an edge in her career (and raise a good son) http://t.co/jlqwy8rSbJ http://t.co/RVlWupDsln',\n",
       " u'Dollar rises to 12-year high against the yen. http://t.co/mkSEENT0i8 $USDJPY http://t.co/iJ4umRHbMl',\n",
       " u\"RT @SAFmedia: Here's what happens when drone companies decide they want to invest in other drone companies: http://t.co/nJ5zdBtRvL http://t\\u2026\",\n",
       " u'Rate-hike fears undercutting U.S. stocks. \\n\\nMarket snapshot: http://t.co/Ln8whOTFCM http://t.co/npE5KXY26F',\n",
       " u\"RT @wlwatts: Jamie Dimon has had it up to here with 'lazy' shareholders http://t.co/lNhHdDuhDr http://t.co/uOau2SZX08\",\n",
       " u'What the dollar can and can\\u2019t do to this bull market: http://t.co/F0SIqJkzVs http://t.co/yySnSeMboT',\n",
       " u'RT @PhilipvanDoorn: Wall Street expects these health-care stocks to rise up to 55% http://t.co/qUsvaCCvXQ http://t.co/by6ovdxoMW',\n",
       " u'A program to help community college students \\u2014 that actually works http://t.co/KCU4SJX9T0',\n",
       " u'RT @JillianBerman: Meet the most privileged community college students http://t.co/p0ysq2gwpo http://t.co/oF0e1VrN7j',\n",
       " u'J.P. Morgan boss Dimon calls out \\u2018lazy\\u2019 shareholders http://t.co/ltSRVrFmkF http://t.co/Tgecuok9Cd',\n",
       " u'RT @terrencehoran: Raising your deductible could save up to 41%\\nhttp://t.co/KqD1gg986x http://t.co/ok8rI0NrVZ',\n",
       " u'RT @m_cof: The average cost of raising a child is $245,000 (not including inflation) vs. $25,230 in 1960 http://t.co/cvRcxV3p8g http://t.co\\u2026',\n",
       " u'Pending U.S. home sales in April are highest in nine years http://t.co/2rO5LRG2IT',\n",
       " u\"April's gauge of pending home sales highest in nine years http://t.co/PldDd9WoJH\",\n",
       " u'RT @mrtgr: Putin calls U.S. offside in FIFA probe: http://t.co/BSfqHGPBv5? http://t.co/BbrUyuGZr4',\n",
       " u'Teva in $1.2 billion settlement of generic-blocking claim: FTC http://t.co/yonxxeR1pK',\n",
       " u'Renewed interest-rate-hike concerns lead to lower open for U.S. stocks http://t.co/c8S5rkMeNw',\n",
       " u'RT @CateyHill: You can easily save $200+ on homeowners insurance in these 6 states: http://t.co/S7ldaP3udf http://t.co/6g9fCV0IZk',\n",
       " u\"RT @SilviaAscarelli: What's your retirement number? You need to look at these 3: http://t.co/MfjVUkEtEg http://t.co/e36zsL8I3J\",\n",
       " u'RT @mrtgr: The daily thought that helped land Jessica Alba on the Forbes list of rich self-made women: http://t.co/cCqxTmKHWP http://t.co/B\\u2026',\n",
       " u'RT @mrtgr: Fitting in on Upper East Side demands correct pregnancy, correct school, correct Herm\\xe8s bag: http://t.co/kdIVo6kuXP? http://t.co\\u2026']"
      ]
     },
     "execution_count": 585,
     "metadata": {},
     "output_type": "execute_result"
    }
   ],
   "source": [
    "tweets = []\n",
    "cursor = datatweets.find({})\n",
    "for d in range(datatweets.count()):\n",
    "    tweet_text = cursor.next()\n",
    "    print tweet_text\n",
    "    tweets.append(tweet_text['text'])\n",
    "tweets"
   ]
  },
  {
   "cell_type": "markdown",
   "metadata": {},
   "source": [
    "## Setting chosen keyword"
   ]
  },
  {
   "cell_type": "code",
   "execution_count": 561,
   "metadata": {
    "collapsed": true
   },
   "outputs": [],
   "source": [
    "keyword ='china'"
   ]
  },
  {
   "cell_type": "markdown",
   "metadata": {},
   "source": [
    "## Summarizing all Tweets"
   ]
  },
  {
   "cell_type": "code",
   "execution_count": 565,
   "metadata": {
    "collapsed": false
   },
   "outputs": [],
   "source": [
    "stopw = [str('http'), str('https'), str('['), str(']'), str('rt'), str('%'), str('@'), str('#')]\n",
    "stopngram = stopwords.words('english')\n",
    "stopngram += ['.', ',', '(', ')', \"'\", '\"', 'http', 'RT']"
   ]
  },
  {
   "cell_type": "code",
   "execution_count": 566,
   "metadata": {
    "collapsed": false
   },
   "outputs": [],
   "source": [
    "adjectives = {}\n",
    "nouns = {}\n",
    "adverbs = {}\n",
    "verbs = {}\n",
    "for t in tweets:\n",
    "    words = word_tokenize(t)\n",
    "    for p in pos_tag(words):\n",
    "        tags = p[1][:2]\n",
    "        keys = p[0].encode('utf8')\n",
    "        keys = keys.lower()   \n",
    "        if keys not in stopw and str('/') not in keys and \"\\\\\" not in r\"%r\" % keys:\n",
    "            if tags == 'NN':\n",
    "                nouns.setdefault(keys,0)\n",
    "                nouns[keys] += 1"
   ]
  },
  {
   "cell_type": "code",
   "execution_count": 567,
   "metadata": {
    "collapsed": false
   },
   "outputs": [
    {
     "name": "stdout",
     "output_type": "stream",
     "text": [
      "              stocks 23\n",
      "                u.s. 20\n",
      "         kitchennews 16\n",
      "              dollar 13\n",
      "                fifa 12\n",
      "              nikkei 10\n",
      "                asia 9\n",
      "               kospi 8\n",
      "                 asx 8\n",
      "             college 7\n"
     ]
    }
   ],
   "source": [
    "for words, count in sorted(nouns.items(), key = itemgetter(1), reverse=True)[:10]:\n",
    "    print '%20s %i' % (words, count)"
   ]
  },
  {
   "cell_type": "code",
   "execution_count": 569,
   "metadata": {
    "collapsed": false
   },
   "outputs": [
    {
     "name": "stdout",
     "output_type": "stream",
     "text": [
      "    KitchenNews Asia 8\n",
      "          U.S stocks 7\n",
      "          Upper East 4\n",
      "           East Side 4\n",
      "         Whole Foods 4\n",
      "   community college 3\n",
      "         money tight 3\n",
      "              0.1 HK 3\n",
      "        Michael Kors 3\n",
      "     drone companies 3\n"
     ]
    }
   ],
   "source": [
    "stop = stopwords.words('english')\n",
    "\n",
    "counter = defaultdict(int)\n",
    "\n",
    "n = 2\n",
    "for doc in tweets:\n",
    "    words = TextBlob(doc).words\n",
    "    words = [w for w in words if w not in stopngram]\n",
    "    bigrams = ngrams(words, n)\n",
    "    for gram in bigrams:\n",
    "        counter[gram] += 1\n",
    "            \n",
    "for gram, count in sorted(counter.items(), key = itemgetter(1), reverse=True)[:10]:\n",
    "    phrase = \" \".join(gram)\n",
    "    print '%20s %i' % (phrase, count)"
   ]
  },
  {
   "cell_type": "code",
   "execution_count": 570,
   "metadata": {
    "collapsed": false
   },
   "outputs": [
    {
     "name": "stdout",
     "output_type": "stream",
     "text": [
      "     Upper East Side 4\n",
      "community college students 3\n",
      "  Fitting Upper East 3\n",
      "    another way spot 2\n",
      "   Asia early Nikkei 2\n",
      " jobless claims data 2\n",
      " expand market power 2\n",
      "KitchenNews Asia midday 2\n",
      "  highest nine years 2\n",
      "    When money tight 2\n"
     ]
    }
   ],
   "source": [
    "stop = stopwords.words('english')\n",
    "\n",
    "counter = defaultdict(int)\n",
    "\n",
    "n = 3\n",
    "for doc in tweets:\n",
    "    words = TextBlob(doc).words\n",
    "    words = [w for w in words if w not in stopngram]\n",
    "    bigrams = ngrams(words, n)\n",
    "    for gram in bigrams:\n",
    "        counter[gram] += 1\n",
    "            \n",
    "for gram, count in sorted(counter.items(), key = itemgetter(1), reverse=True)[:10]:\n",
    "    phrase = \" \".join(gram)\n",
    "    print '%20s %i' % (phrase, count)"
   ]
  },
  {
   "cell_type": "markdown",
   "metadata": {},
   "source": [
    "## Summarizing Tweets containing chosen Keyword"
   ]
  },
  {
   "cell_type": "code",
   "execution_count": 571,
   "metadata": {
    "collapsed": false
   },
   "outputs": [
    {
     "data": {
      "text/plain": [
       "'china'"
      ]
     },
     "execution_count": 571,
     "metadata": {},
     "output_type": "execute_result"
    }
   ],
   "source": [
    "keyword = str(keyword)\n",
    "keyword = keyword.lower()\n",
    "keyword"
   ]
  },
  {
   "cell_type": "code",
   "execution_count": 572,
   "metadata": {
    "collapsed": false
   },
   "outputs": [
    {
     "data": {
      "text/plain": [
       "5"
      ]
     },
     "execution_count": 572,
     "metadata": {},
     "output_type": "execute_result"
    }
   ],
   "source": [
    "tweets_match = []\n",
    "for r in tweets:\n",
    "    if keyword in r.lower():\n",
    "        tweets_match.append(r)\n",
    "\n",
    "len(tweets_match)"
   ]
  },
  {
   "cell_type": "code",
   "execution_count": 573,
   "metadata": {
    "collapsed": false
   },
   "outputs": [],
   "source": [
    "adjectives = {}\n",
    "nouns = {}\n",
    "adverbs = {}\n",
    "verbs = {}\n",
    "for t in tweets_match:\n",
    "    words = word_tokenize(t)\n",
    "    for p in pos_tag(words):\n",
    "        tags = p[1][:2]\n",
    "        keys = p[0].encode('utf8')\n",
    "        keys = keys.lower()   \n",
    "        if keys not in stopw and str('/') not in keys and keyword not in keys and \"\\\\\" not in r\"%r\" % keys:\n",
    "            if tags == 'JJ':\n",
    "                adjectives.setdefault(keys,0)\n",
    "                adjectives[keys] += 1\n",
    "            if tags == 'NN':\n",
    "                nouns.setdefault(keys,0)\n",
    "                nouns[keys] += 1\n",
    "            if tags == 'RB':\n",
    "                adverbs.setdefault(keys,0)\n",
    "                adverbs[keys] += 1\n",
    "            if tags == 'VB':\n",
    "                verbs.setdefault(keys,0)\n",
    "                verbs[keys] += 1"
   ]
  },
  {
   "cell_type": "code",
   "execution_count": 574,
   "metadata": {
    "collapsed": false
   },
   "outputs": [
    {
     "name": "stdout",
     "output_type": "stream",
     "text": [
      "              expand 2\n",
      "             outlook 1\n",
      "              plunge 1\n",
      "                 mad 1\n",
      "                sets 1\n"
     ]
    }
   ],
   "source": [
    "for words, count in sorted(verbs.items(), key = itemgetter(1), reverse=True)[:5]:\n",
    "    print '%20s %i' % (words, count)"
   ]
  },
  {
   "cell_type": "code",
   "execution_count": 575,
   "metadata": {
    "collapsed": false
   },
   "outputs": [
    {
     "name": "stdout",
     "output_type": "stream",
     "text": [
      "               giant 2\n",
      "                rush 1\n"
     ]
    }
   ],
   "source": [
    "for words, count in sorted(adjectives.items(), key = itemgetter(1), reverse=True)[:5]:\n",
    "    print '%20s %i' % (words, count)"
   ]
  },
  {
   "cell_type": "code",
   "execution_count": 576,
   "metadata": {
    "collapsed": false
   },
   "outputs": [
    {
     "name": "stdout",
     "output_type": "stream",
     "text": [
      "                fund 3\n",
      "               power 2\n",
      "                gold 2\n",
      "                cuts 2\n",
      "          lauraliuhe 2\n"
     ]
    }
   ],
   "source": [
    "for words, count in sorted(nouns.items(), key = itemgetter(1), reverse=True)[:5]:\n",
    "    print '%20s %i' % (words, count)"
   ]
  },
  {
   "cell_type": "code",
   "execution_count": 577,
   "metadata": {
    "collapsed": false
   },
   "outputs": [
    {
     "name": "stdout",
     "output_type": "stream",
     "text": [
      "                most 1\n"
     ]
    }
   ],
   "source": [
    "for words, count in sorted(adverbs.items(), key = itemgetter(1), reverse=True)[:5]:\n",
    "    print '%20s %i' % (words, count)"
   ]
  },
  {
   "cell_type": "code",
   "execution_count": 578,
   "metadata": {
    "collapsed": false
   },
   "outputs": [
    {
     "name": "stdout",
     "output_type": "stream",
     "text": [
      "        market power 2\n",
      "          China sets 2\n",
      "       expand market 2\n",
      "          giant gold 2\n",
      "           gold fund 2\n"
     ]
    }
   ],
   "source": [
    "stop = stopwords.words('english')\n",
    "\n",
    "counter = defaultdict(int)\n",
    "\n",
    "n = 2\n",
    "for doc in tweets_match:\n",
    "    words = TextBlob(doc).words\n",
    "    words = [w for w in words if w not in stopngram]\n",
    "    bigrams = ngrams(words, n)\n",
    "    for gram in bigrams:\n",
    "        counter[gram] += 1\n",
    "            \n",
    "for gram, count in sorted(counter.items(), key = itemgetter(1), reverse=True)[:5]:\n",
    "    phrase = \" \".join(gram)\n",
    "    print '%20s %i' % (phrase, count)"
   ]
  },
  {
   "cell_type": "code",
   "execution_count": 579,
   "metadata": {
    "collapsed": false
   },
   "outputs": [
    {
     "name": "stdout",
     "output_type": "stream",
     "text": [
      "    gold fund expand 2\n",
      "     sets giant gold 2\n",
      "     giant gold fund 2\n",
      " expand market power 2\n",
      "    China sets giant 2\n"
     ]
    }
   ],
   "source": [
    "stop = stopwords.words('english')\n",
    "\n",
    "counter = defaultdict(int)\n",
    "\n",
    "n = 3\n",
    "for doc in tweets_match:\n",
    "    words = TextBlob(doc).words\n",
    "    words = [w for w in words if w not in stopngram]\n",
    "    bigrams = ngrams(words, n)\n",
    "    for gram in bigrams:\n",
    "        counter[gram] += 1\n",
    "            \n",
    "for gram, count in sorted(counter.items(), key = itemgetter(1), reverse=True)[:5]:\n",
    "    phrase = \" \".join(gram)\n",
    "    print '%20s %i' % (phrase, count)"
   ]
  },
  {
   "cell_type": "code",
   "execution_count": null,
   "metadata": {
    "collapsed": true
   },
   "outputs": [],
   "source": []
  }
 ],
 "metadata": {
  "kernelspec": {
   "display_name": "Python 2",
   "language": "python",
   "name": "python2"
  },
  "language_info": {
   "codemirror_mode": {
    "name": "ipython",
    "version": 2
   },
   "file_extension": ".py",
   "mimetype": "text/x-python",
   "name": "python",
   "nbconvert_exporter": "python",
   "pygments_lexer": "ipython2",
   "version": "2.7.9"
  }
 },
 "nbformat": 4,
 "nbformat_minor": 0
}
