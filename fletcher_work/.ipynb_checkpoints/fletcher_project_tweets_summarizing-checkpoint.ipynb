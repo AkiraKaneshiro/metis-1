{
 "cells": [
  {
   "cell_type": "markdown",
   "metadata": {},
   "source": [
    "# Fletcher Project: Tweets Summarizing"
   ]
  },
  {
   "cell_type": "code",
   "execution_count": 588,
   "metadata": {
    "collapsed": true
   },
   "outputs": [],
   "source": [
    "import nltk\n",
    "from nltk.tokenize import sent_tokenize\n",
    "from nltk.tokenize import TreebankWordTokenizer\n",
    "from nltk.tokenize import word_tokenize\n",
    "from nltk.tokenize import wordpunct_tokenize\n",
    "from nltk.tag import pos_tag\n",
    "from nltk.chunk import ne_chunk\n",
    "from nltk.corpus import treebank_chunk\n",
    "from textblob import TextBlob\n",
    "import pymongo\n",
    "from nltk.corpus import stopwords\n",
    "from nltk.corpus import movie_reviews\n",
    "from nltk.util import ngrams\n",
    "from nltk.tokenize import sent_tokenize, word_tokenize\n",
    "from collections import defaultdict\n",
    "from operator import itemgetter\n",
    "import numpy as np\n",
    "from sklearn.feature_extraction.text import TfidfVectorizer\n",
    "from sklearn.naive_bayes import MultinomialNB\n",
    "from __future__ import division, unicode_literals\n",
    "import operator\n",
    "import requests\n",
    "from requests_oauthlib import OAuth1\n",
    "from pymongo import MongoClient\n",
    "import tweepy\n",
    "import cnfg\n",
    "import numpy as np\n",
    "import re"
   ]
  },
  {
   "cell_type": "markdown",
   "metadata": {},
   "source": [
    "## Opening Twitter API"
   ]
  },
  {
   "cell_type": "code",
   "execution_count": 589,
   "metadata": {
    "collapsed": true
   },
   "outputs": [],
   "source": [
    "config = cnfg.load(\".twitter_config\")"
   ]
  },
  {
   "cell_type": "code",
   "execution_count": 590,
   "metadata": {
    "collapsed": true
   },
   "outputs": [],
   "source": [
    "auth = tweepy.OAuthHandler(config['consumer_key'],\n",
    "              config['consumer_secret'])\n",
    "auth.set_access_token(config['access_token'],\n",
    "              config['access_token_secret'])"
   ]
  },
  {
   "cell_type": "code",
   "execution_count": 591,
   "metadata": {
    "collapsed": true
   },
   "outputs": [],
   "source": [
    "api = tweepy.API(auth)"
   ]
  },
  {
   "cell_type": "markdown",
   "metadata": {},
   "source": [
    "## Choosing Twitter Account"
   ]
  },
  {
   "cell_type": "code",
   "execution_count": 733,
   "metadata": {
    "collapsed": true
   },
   "outputs": [],
   "source": [
    "account = 'YahooFinance'"
   ]
  },
  {
   "cell_type": "markdown",
   "metadata": {},
   "source": [
    "## Getting Tweeter Data into a List"
   ]
  },
  {
   "cell_type": "code",
   "execution_count": 734,
   "metadata": {
    "collapsed": false
   },
   "outputs": [
    {
     "data": {
      "text/plain": [
       "200"
      ]
     },
     "execution_count": 734,
     "metadata": {},
     "output_type": "execute_result"
    }
   ],
   "source": [
    "data_tweets = api.user_timeline(account, count=200)\n",
    "tweets = []\n",
    "tweets_text = []\n",
    "for tweet in data_tweets:\n",
    "    tweets.append(tweet.text)\n",
    "len(tweets)"
   ]
  },
  {
   "cell_type": "code",
   "execution_count": 735,
   "metadata": {
    "collapsed": false
   },
   "outputs": [
    {
     "data": {
      "text/plain": [
       "[u'Why Wall Street should bet on women: http://t.co/gbJLDa59Dv',\n",
       " u'How a trader plans to make $21 million in one week http://t.co/twobuINGG6',\n",
       " u'3 bearish studies that may foreshadow the death of this bull market http://t.co/LUNHsqQp2f via @jessefelder $SPY http://t.co/dfWTN6oQuU',\n",
       " u'More weight added to equity bear case http://t.co/eQrH0KTOiw via @JLyonsFundMgmt $RSP http://t.co/cHeP21kF7B',\n",
       " u\"Why a shrinking US economy last quarter isn't cause for fear http://t.co/O1A33R3LBN\",\n",
       " u'U.S. airlines stocks; Here is why they might fly again http://t.co/AwH5jIia2b via @Bidnessetc $UAL http://t.co/o8SBy5o4vw',\n",
       " u'As its stock returns to $200, Goldman embodies more stable, less fun Wall Street. http://t.co/XQIRXLR2O0 $GS',\n",
       " u\"FBI says it's investigating identity theft at IRS http://t.co/IV8iUxU070\",\n",
       " u\"Exclusive: @serwer gets sneak preview of new products from Google's head of products @sundarpichai http://t.co/G8p3dmUkw0\",\n",
       " u'3 tips for getting work done: better, faster, cheaper http://t.co/HQprllHSCX via @jodygmiller http://t.co/YRADvfo7BP',\n",
       " u'IMF head says Greek exit a possibility - newspaper http://t.co/SXlvYgUYgd',\n",
       " u'Dear Fed: Please don\\u2019t strangle a nascent housing boom http://t.co/W6rHpvgmg3 via @jimcramer $TOL http://t.co/JhQMtDVoup',\n",
       " u\"Bankruptcy judge 'deeply concerned' about unfunded pensions http://t.co/mEq5kqvrS8\",\n",
       " u\"Instead of Playing Golf, the World's Elderly Are Staging Heists and Robbing Banks http://t.co/GqOzUEUkGY\",\n",
       " u'Why this airline stock is ready to land http://t.co/qcM57nFNW6 via @ZorTrades $AAL',\n",
       " u'A roadmap for the trading day http://t.co/l3MTsFyMg4 via @AdamHGrimes http://t.co/HFoCwCvbVL',\n",
       " u\"Cramer: Don't write off Costco, here's why http://t.co/75Mzrz3hR4\",\n",
       " u'Chobani CEO pledges to donate most of wealth http://t.co/qoyEDbjx9I',\n",
       " u'RT @YahooTech: Man Slapped with $120 Ticket for Using Apple Watch While Driving http://t.co/z5SiEa7qmj http://t.co/4OkYZsjnB0',\n",
       " u\"RT @Rafe: I'm at Google IO today. Here's what we expect.  https://t.co/y3xXmD033c via @YahooTech\",\n",
       " u'Global gambling sector worth over $450 billion http://t.co/w6fk4uzwsP',\n",
       " u'How to be a bad leader http://t.co/9ubHTMpYmz via @jaltucher http://t.co/6RDKGkAr6M',\n",
       " u'GameStop expectations are muted ahead of the earnings report http://t.co/Dg5D8eZ7uT via @Estimize $GME http://t.co/zQVrwCcqlB',\n",
       " u'Why energy tax breaks we take should go away: CEO http://t.co/NtfdyPHDre',\n",
       " u'The real reason behind the fall of Blackberry http://t.co/acArkfuuqy via @Applico $BBRY http://t.co/dJvDlqLqbW',\n",
       " u\"That's Business, Man: Why Jay Z's Tidal Is a Complete Disaster http://t.co/A2lu81FKOx\",\n",
       " u'Broadcom CEO McGregor Eligible for $67 Million http://t.co/4MWH23Zf6q',\n",
       " u'Appeals court: Apple must submit to imposition of monitor http://t.co/u6YQ4iFGRO',\n",
       " u'Lawyer: Tracy Morgan happy Wal-Mart crash lawsuit behind him http://t.co/PEsASaK0up',\n",
       " u'Dollar General says COO Vasos to replace Dreiling as CEO http://t.co/3TjXLh2Z2B',\n",
       " u'E-Cigarettes - A threat or opportunity for the tobacco industry? http://t.co/meitPxWWPH via @Bidnessetc $MO http://t.co/kjCMirkW05',\n",
       " u'Pending US home sales jump to strongest level in 9 years http://t.co/g0oBtxLrXf',\n",
       " u'Individual S&amp;P 500 stocks are not rising with the index http://t.co/c3wvmldxnf via @AndrewThrasher $SPY',\n",
       " u'These Are the Best U.S. Housing Markets http://t.co/PDNuPQ4sPB',\n",
       " u'A history of M&amp;A deal toys http://t.co/6LUsrzYv3a via @TheDealNewsroom http://t.co/l0DRIsXzMM',\n",
       " u\"U2's longtime tour manager, Dennis Sheehan, found dead http://t.co/dybAE6XMWg\",\n",
       " u'Is this the end of a 35 year bull market in stocks and bonds? http://t.co/oEaYcjfC7W via @awealthofcs $TLT',\n",
       " u'Dollar could be getting ready to roar http://t.co/SuDU8oiXWS',\n",
       " u'Gina Rinehart Loses Battle to Control $3.8 Billion Trust http://t.co/4XVxYS5ctE',\n",
       " u'GoPro jumps into virtual reality and drones http://t.co/LKHbGXS8ds',\n",
       " u'U.S. jobless claims up, but still point to labor market strength http://t.co/4RqjssuLy7',\n",
       " u'Market trading in 4th tightest range in 115 years http://t.co/rpgCJOxR5v via @KimbleCharting $DIA http://t.co/ucfRUYirCj',\n",
       " u'Is rent out of reach? Study shows how 11 US cities stack up http://t.co/CFy4Ab9EJ1',\n",
       " u'3 charts that will rekindle your interest in financial market history http://t.co/L2t2UbevEg via @CFAinstitute http://t.co/ERJ9GJno5h',\n",
       " u'Less than 1% June through October following pre-election year May gain http://t.co/HpElUjGTap via @AlmanacTrader $SPY http://t.co/gRUfvqcjmz',\n",
       " u'Bull market dealt a significant blow? http://t.co/6aNlNXrLXx via @JLyonsFundMgmt $DIA http://t.co/Ph758fQbSt',\n",
       " u'The Baltic Dry Index. What it is telling us is sobering http://t.co/sL8t2rdL9b via @peterckenny http://t.co/HePQb9ppZU',\n",
       " u'Stock buybacks: Mostly an accounting sleight of hand http://t.co/nnzIAMJzbZ via @CharlesSizemore http://t.co/3AihNy4DyQ',\n",
       " u'Early movers: $BRCM, $COST, $EXPR, $ANF &amp; more http://t.co/ntJCMYXKHE',\n",
       " u'Michael Kors wounds self-inflicted http://t.co/cePLlrX1Rk via @TALENTEDBLONDE $KORS http://t.co/m6oKh605qK',\n",
       " u'Avago to Buy Broadcom for $37 Billion in Biggest Chip Deal http://t.co/FQkzTReK0Q',\n",
       " u'The Tanker Market Is Sending a Big Warning to Oil Bulls http://t.co/zpbsyVps7b',\n",
       " u'Putin accuses US of meddling in FIFA affairs http://t.co/Et7es0zsx1',\n",
       " u'Visa becomes first FIFA sponsor to warn it could jump ship http://t.co/RjordPaRfk',\n",
       " u'Amazon to offer free same-day delivery to Prime members http://t.co/9AvoTiXKAd $AMZN',\n",
       " u'.@jimcramer takes a look at the #housing landscape. http://t.co/78uUoOjpf3',\n",
       " u'Japanese yen slides to 12-year low against U.S. dollar as Yellen builds case for rate hike. http://t.co/dlshY1zLIE',\n",
       " u\"Apple Watch debut 'less than spectacular,' analyst says. http://t.co/JxvUxthjwr $AAPL\",\n",
       " u'The Class of 2015 could use a wakeup call http://t.co/ah0JH7HgmC http://t.co/1SNMCLb14t',\n",
       " u'Yes, social shopping is a thing now. Pros and cons: http://t.co/HeYhkuSrG0',\n",
       " u'President Nixon: The man who sold the world fiat money http://t.co/tW5ABGdj7x via @CFAinstitute $UUP',\n",
       " u'Meet the new billionaires http://t.co/Eo1YtLyozC http://t.co/ho7MhTeHeU',\n",
       " u'Why Oracle is a solid castle http://t.co/aANM0F9PAP via @Valuentum $ORCL',\n",
       " u'To win in the stock market you have to be willing to lose http://t.co/5qAfRJpgHV via @awealthofcs $SPY',\n",
       " u\"Bill Gross: Don't downplay Greece's struggles. http://t.co/PxkpiGxKFI\",\n",
       " u'How to Save on Summer Renovation Projects http://t.co/tAWXvXj7d8',\n",
       " u'Why a Microsoft buyout of Salesforce makes sense, then doesn\\u2019t http://t.co/W2DO5YJxIn via @Bidnessetc $CRM',\n",
       " u'The case against taking Social Security at 62 http://t.co/wZYOpHtccx',\n",
       " u'Ulta expecting another great quarterly report tomorrow http://t.co/tgpFbn6vJv via @Estimize $ULTA http://t.co/8Dgvl16Okg',\n",
       " u\".@BlackRock CEO Fink tells @serwer our biggest risk isn't China or interest rates: It's us.  http://t.co/fraV4xepRo\",\n",
       " u'The Class of 2015 could use a wakeup call http://t.co/WkYMfUIbdC http://t.co/xrcH1qFmjq',\n",
       " u'President Nixon: The man who sold the world fiat money http://t.co/4wQygpGDKv via @CFAinstitute $UUP http://t.co/AOONYOsySu',\n",
       " u'Meet the new billionaires http://t.co/I5TUru3ma4 http://t.co/LO8uXES5OU',\n",
       " u\"BlackRock's Fink says our biggest risk isn't China or interest rates: It's us  http://t.co/Ccr9gKAanA\",\n",
       " u'Abercrombie hopes latest changes will spur sales http://t.co/fvc5247lFn via @Estimize $ANF',\n",
       " u'Greece owes drugmakers $1.2 billion - and counting http://t.co/6fTOdO9l0x',\n",
       " u'Volatility for Breakfast: Egg and Bacon Prices Go Opposite Ways http://t.co/dl0ELmq3qd',\n",
       " u'Why it\\u2019s so important for a stock operator to \\u2018know thyself\\u2019 http://t.co/n8aE1lkt4E via @jessefelder $SPY http://t.co/oPIJS7goKb',\n",
       " u'The bullish healthcare sector setup http://t.co/DMtzr3psCD via @KimbleCharting $XLV',\n",
       " u'Lamborghini to launch SUV in 2018 http://t.co/vmUiItkNYd http://t.co/UhYh2e46zI',\n",
       " u'RT @ampressman: http://t.co/I5mE68oPQM is growing fast - and profitably - as it lines up an IPO. But competition abounds on all sides http:\\u2026',\n",
       " u\"Stocks we're watching: $dsw steps up, rough day for $wday, $kors tanks to 52-wk low\\nhttp://t.co/oEYUCCwlom\",\n",
       " u\"Watch live at noon: Snapchat's IPO, Tiffany soars and Michael Kors slides http://t.co/MPFIViMYPu\",\n",
       " u'Unemployment rates fell in 23 US states in April http://t.co/1OLDepMnaH',\n",
       " u'Pimco and Hedge Funds Are Fighting Over Subprime Scraps http://t.co/L2I1X1Mijo',\n",
       " u'Why a Microsoft buyout of Salesforce makes sense, then doesn\\u2019t http://t.co/UYiFAQNv31 via @Bidnessetc $CRM http://t.co/uDkOtt5gY2',\n",
       " u'Michael Kors posts slowest revenue growth since going public http://t.co/FYUQfW7dUO $KORS',\n",
       " u'Airbus plans Silicon Valley innovation center http://t.co/1Xb4qbJUpE',\n",
       " u'Here is how AstraZeneca and Amgen will be hit by the cancelled collaboration http://t.co/SLz5A5JiG1 via @Bidnessetc $AMGN',\n",
       " u'Why Oracle is a solid castle http://t.co/YEVrGDtRda via @Valuentum $ORCL http://t.co/7pMEzU0CE5',\n",
       " u'The breadth deterioration is real http://t.co/o5GuFqx2wt via @ZorTrades $SPY',\n",
       " u\"McDonald's to stop reporting monthly same-store sales after June http://t.co/7wORazlZSO\",\n",
       " u\"The Russian billionaires hit hard by oil's plunge http://t.co/oO5eD22Jyx\",\n",
       " u'Short in May and go away http://t.co/R4FPWVCCLE via @DougKass $SPY http://t.co/iGyw1eqLs4',\n",
       " u'Why hasn\\u2019t Nationstar Mortgage been sued yet? http://t.co/X4X6U7ouaA via @TheDealNewsroom $NSM http://t.co/iEpZiswG16',\n",
       " u'To win in the stock market you have to be willing to lose http://t.co/DYgLKbpeVB via @awealthofcs $SPY http://t.co/niV8l6fr3f',\n",
       " u'The Mansions That Are Swallowing Suburban Homes http://t.co/CNehktihuB',\n",
       " u\"OPEC Will Back Saudi Arabia's Plan to Keep Supplies Elevated http://t.co/vWF3KroZs4\",\n",
       " u'Snapchat CEO sees a bubble, blames interest rates http://t.co/S6d3GFiB6v',\n",
       " u'Early movers: $TIF, $KORS, $TOL, $BWS, $HRL &amp; more http://t.co/UdclirygVg',\n",
       " u'Luxury Brands Shrink $7 Billion in Value http://t.co/atKBNPJmIe',\n",
       " u'What Chicago\\u2019s fiscal emergency says about the quality of credit analysis in the municipal bond market http://t.co/wDZYocX6o6 via @munilass',\n",
       " u'Why at the end of the day consumers will have the final say on rates http://t.co/qWEoc7VdFe via @peterckenny $TLT http://t.co/kLeFArEo0F',\n",
       " u'Solar as Fastest Growing U.S. Power Source Rivals Shale Boom http://t.co/0gwNAayYd1',\n",
       " u'A breakout to nowhere http://t.co/3GXesOPZ8I via @JLyonsFundMgmt $SPY http://t.co/9yobQufvVL',\n",
       " u'The average U.S. consumer should be happy and confident http://t.co/gwHsYfGtQc via @Financial_Orbit',\n",
       " u'The Transports have left the rails http://t.co/oKeCHDeWFo via @harmongreg $IYT http://t.co/qicZzyvbLt',\n",
       " u'Bernanke sees no risk of hard landing in China, bullish on U.S. economy http://t.co/uvE7F2pR50',\n",
       " u'Greece Said Likely to Miss May Deal Deadline as Talks Falter http://t.co/Z4n35om759',\n",
       " u'Michael Kors posts slowest sales growth in 14 quarters http://t.co/oeYIgB58gZ',\n",
       " u'Tiffany tops Street 1Q forecasts http://t.co/vH3epaHMVl',\n",
       " u'Toll Brothers meets 2Q profit forecasts http://t.co/eOQevH9y2f',\n",
       " u'Cost of data breaches increasing to average of $3.8 million, study says http://t.co/MqrWUiq6GR',\n",
       " u'Bug causes message to crash certain Apple iOS devices. No immediate comment from $AAPL. http://t.co/PG3lmjmBh2',\n",
       " u\"Here's the case for buying today's dip on Wall Street. http://t.co/CURP9d14P0\",\n",
       " u'Home Depot\\u2019s 1Q15 results show continued operational strength http://t.co/XlF1WaHlnP via @treetis $HD',\n",
       " u'Oil to stabilize amid production worries, one expert says. http://t.co/8DXX90tC3X',\n",
       " u'7 money moves financially savvy couples should make http://t.co/P3EbImnvDk via @marybstorj',\n",
       " u'Europe woes and U.S. rate hike prospects depress stocks, boost dollar. http://t.co/nvpesewdow',\n",
       " u'Can Wal-Mart hold up against pressure from Amazon? http://t.co/MyAG6vwe9U via @Bidnessetc $AMZN',\n",
       " u'.@jimcramer: Spotting gems amid the market rubble. http://t.co/6ZAt1sOc2D',\n",
       " u'Jabil Circuit is poised for more outperformance http://t.co/yjrEzPD9UF via @QuantifiedAlpha $JBL',\n",
       " u'Top 10 highest-paid CEOs http://t.co/BLbuafBzJz',\n",
       " u'CEO pay: biggest raises and biggest cuts of 2014 http://t.co/3Ikw6nbErK',\n",
       " u'Vox Media is buying tech publication ReCode. http://t.co/yHf8dqJv76',\n",
       " u'What Michael Kors, Tiffany earnings say about high-end consumers. http://t.co/RnKvuOK4bb $KORS $TIF',\n",
       " u'Vox Media is buying tech news website ReCode, @nytimes reports.',\n",
       " u'RT @CNBCnow: JUST IN: Fed Chair Yellen will not attend Jackson Hole meeting this year, may attend in future. (via @steveliesman)\\nhttps://t.\\u2026',\n",
       " u'Michael Kors will continue to walk all over earnings http://t.co/H0o5uzxWtV via @QuantifiedAlpha $KORS http://t.co/YeGf3jyEsS',\n",
       " u'http://t.co/gaLk9Lo5md to hire 6,000 full-time staffers across its U.S. fulfillment network. http://t.co/Ab5mOIbC5Y $AMZN',\n",
       " u'BofA Merrill: Here\\u2019s how to tap into Millennials\\u2019 burgeoning influence. http://t.co/iyGkqQaGbC',\n",
       " u'IRS says thieves stole tax info from 100,000. http://t.co/AYUDA0aDef',\n",
       " u'Bear strike: U.S. stocks sink 1% as greenback rallies. http://t.co/GUgkkoY1Uy http://t.co/vjcjcscmlm',\n",
       " u'Amazon drops popular tax avoidance strategy  http://t.co/jl0SohGNW2 $AMZN',\n",
       " u'Chinese stocks continue surges...and it may not change anytime soon http://t.co/KOMpDP2mBd',\n",
       " u'Jabil Circuit is poised for more outperformance http://t.co/IlTHyGu9CV via @QuantifiedAlpha $JBL http://t.co/izcrlEkxxz',\n",
       " u'How did the through-train work out? http://t.co/SHrcMadnTo via @ReformedBroker $FXI http://t.co/H6CQj8WrrP',\n",
       " u'RT @ampressman: Amazon\\u2019s going tp pay more taxes Europe says it owes. Anyone else? &lt;crickets&gt;. Discussing with @aarontask http://t.co/eZg1X\\u2026',\n",
       " u\"RT @rickjnewman: Don't miss it! RT @HalfBankrupt Wed on @StocksNJocks @RickJNewman of @YahooFinance joins the show to talk #Obamacare http:\\u2026\",\n",
       " u\"The son of China's richest man bought two Apple watches for his dog because four would have been tacky http://t.co/37vibFylfd\",\n",
       " u'Connecticut exec flees U.S. after insider trading, fraud claims -SEC http://t.co/er5ZHynK51',\n",
       " u'Time Warner Cable CEO Eligible for $85 Million Golden Parachute http://t.co/eGAsawwFfM',\n",
       " u'Retail to rebound? http://t.co/qTqz99lsH7 via Cynthia DiBartolo $RTH http://t.co/2v22G4LzU3',\n",
       " u'6 important market charts in the past week http://t.co/J9X8YCvjn8 via @361Capital $SPY http://t.co/TSpSTPlnWz',\n",
       " u'Dollar/Yen breaks 18-year resistance, good for Nikkei? http://t.co/XIXtqOoxu0 via @KimbleCharting $EWJ http://t.co/fTiQ2psEh1',\n",
       " u'The auto industry looks beyond ownership http://t.co/NzAoKkHRG7 via @BV $F',\n",
       " u'How should investors prepare for rising rates? http://t.co/SUnd8cdblx via @michaelbatnick $SPY http://t.co/KAtCoDZI2p',\n",
       " u'Can Wal-Mart hold up against pressure from Amazon? http://t.co/OUwcY5sPfV via @Bidnessetc $AMZN http://t.co/kgAyZlWSeb',\n",
       " u\"Growth in billionaires' wealth to taper off http://t.co/2jO7oF9LFl\",\n",
       " u'A tale of two luxury retailers http://t.co/7Q2NQuXMBT via @Estimize $KORS http://t.co/gWAKmnI2aP',\n",
       " u'Why EMC bought Virtustream for $1.2 billion http://t.co/4XgyJOfijP via @Financial_Orbit $EMC http://t.co/yhNhM0KMAG',\n",
       " u'$430 Cowboy Boots and Other Reasons to Be Excited About Stocks http://t.co/reQ59yrtT4',\n",
       " u'Best ways to invest $1,000 now http://t.co/bY5aa7Y7qJ via @JeffReevesIP $SPY',\n",
       " u'Trading: about bulls, bears and pigs http://t.co/cpr8TWXqzk via @ivanhoff http://t.co/BsWVRsEyRA',\n",
       " u'7 money moves financially savvy couples should make http://t.co/kRyR8QfgtM via @marybstorj http://t.co/31eaTBrPeD',\n",
       " u'California Dreaming: Record $500 Million Tag on L.A. Home http://t.co/ZPkkY4iqfG',\n",
       " u\"Charter's Deal Faces Lower Regulatory Barrier Than Comcast's http://t.co/uUbfmp3c1U $CHTR $TWC\",\n",
       " u'Dealmaking moves EMC, TWC &amp; Charter, downgrade slams First Solar http://t.co/CRIy7oCGPz $EMC, $TWC &amp; $CHTR $FSLR',\n",
       " u'Italian court bans Uber http://t.co/DldUx5x0Xg',\n",
       " u'U.S. stocks fall the most in three weeks as dollar soars http://t.co/wHaItUSXcf',\n",
       " u'How to find success late in life http://t.co/M9DtdQctiE via @jaltucher http://t.co/bKPsZ2b0Dz',\n",
       " u'Top financial websites to prepare for your trading day http://t.co/cYLvD0fndX via @smbcapital http://t.co/f7iM6O5dOT',\n",
       " u'Blocked in China, Twitter still courts Chinese firms for ads http://t.co/mefKfSMOWi $TWTR',\n",
       " u'Nielsen survey says Liam Neeson is big ad man http://t.co/5thZKPEMmC',\n",
       " u'RT @mandiwoodruff: What happened when one woman decided to track down her identity thief: http://t.co/2AeURlQqnm via @YahooFinance http://t\\u2026',\n",
       " u'Foxconn plans 10-12 new Indian facilities by 2020 - chairman http://t.co/gLcaewiFix',\n",
       " u'Stunning 36 percent rise in US visits to Cuba since January http://t.co/XMAnyrUVQ5',\n",
       " u\"RT @robpegoraro: No, GM doesn't own your car--but it does own an accelerating #copyfight over who can touch its code. At @YahooTech: https:\\u2026\",\n",
       " u'Home Depot\\u2019s 1Q15 results show continued operational strength http://t.co/G0IICfzfuj via @treetis $HD http://t.co/FaemqkJlFo',\n",
       " u'US new-home sales rose 6.8 percent in April; increased demand pushing median prices near $300k http://t.co/LLwgDjrmOu',\n",
       " u'Olive Garden: At least 1 more breadstick creation on the way http://t.co/1uEz1MvArX',\n",
       " u'After bruising safety crisis, US car watchdog shows its bite http://t.co/izpk31A6WF',\n",
       " u'US home prices rose at steady pace in March from year ago http://t.co/4l0bpCUkBm',\n",
       " u'CEO pay: biggest raises and biggest cuts of 2014 http://t.co/QGeGpSxp8O',\n",
       " u'Considering the investment impact of Baby Boomers\\u2019 retirement http://t.co/HJcXz1NvdM via Mitch Zacks',\n",
       " u'Orders to US factories for durable goods slip 0.5 percent, but investment category shows gain http://t.co/5KaMzqeKjm',\n",
       " u'2 dead, several hurt in shooting at Grand Forks Wal-Mart http://t.co/GdLV1v7Eai',\n",
       " u'Why I don\\u2019t expect a rate hike anytime soon http://t.co/rixhYM68CQ via @DeadCosWalking $ITB http://t.co/11Kbcs1E5a',\n",
       " u'Higher volatility ahead http://t.co/JQoBj8vBqV via @ukarlewitz $SPY http://t.co/FbEgOxwHKe',\n",
       " u'How the Marines shaped our investment philosophy http://t.co/oBnIRUJGTO via @alphaarchitect $SPY http://t.co/yZDrBis6ak',\n",
       " u'Small cap volatility hitting historic lows http://t.co/S1HOOVJzCW via @JLyonsFundMgmt $IWM',\n",
       " u'Early movers: $TWC, $AAPL, $CTRP, $CRM, $GM &amp; more http://t.co/DC2tNgdOhz',\n",
       " u'Ignore the annual first quarter recession http://t.co/T47SpPtJ8E via @ReformedBroker $SPY http://t.co/NC6UcjOkT3',\n",
       " u'Your margin is my opportunity: Why Alibaba could be the Amazon killer http://t.co/ehBgGqHPlm via @Applico $AMZN http://t.co/mdkKaIWYIH',\n",
       " u'RT @JeffMacke: .@ppearlman In terms of service Charter/ TWC is akin to $AAL and $DAL merging by using all the seats and scrapping 1/2 the p\\u2026',\n",
       " u'Top 10 highest-paid CEOs http://t.co/aGlN9p55Yd',\n",
       " u'Apple promotes tech guru Jonathan Ive as head of design http://t.co/DgUeEakGUi',\n",
       " u'Amazon pays $16 million tax in Germany, while making $11.9 billion sales http://t.co/bYbSWWG7kT',\n",
       " u'Oil drops to $65 on U.S. shale outlook, dollar http://t.co/IORIX3Q2vI',\n",
       " u'Charter Communications confirms $55.33 billion acquisition of Time Warner Cable http://t.co/0VEUkfCcoK',\n",
       " u\"Rents are rising, but don't expect broad inflation to surge http://t.co/N5hhmP0YLp\",\n",
       " u'Couples, avoid these three common money mistakes http://t.co/xgn54vidBG',\n",
       " u'How this woman tracked down her identity thief. http://t.co/xBvCKsbI1x http://t.co/f34tYOXpzQ',\n",
       " u'Walmart and Target face no certain future http://t.co/aTsRdyYQDA via @Valuentum $WMT',\n",
       " u\"Rents are rising, but don't expect broad inflation to surge http://t.co/BVvwV5Phde\",\n",
       " u'Warren Buffett: Activist investor? http://t.co/LOwiVrVpwM via @CFAinstitute $BRK-A',\n",
       " u'An expectation of reflation http://t.co/81iKIBenib via @MktAnthropology $TLT',\n",
       " u'4 ways to improve your retirement savings http://t.co/RkIxsSaVSc via @awealthofcs',\n",
       " u'Buy Exxon and sell Chevron if you think oil will hover at $60 per barrel http://t.co/vVt4O1JPjH via @TheDealNewsroom',\n",
       " u'6 things going wrong in America http://t.co/NBvq1BZYHK']"
      ]
     },
     "execution_count": 735,
     "metadata": {},
     "output_type": "execute_result"
    }
   ],
   "source": [
    "tweets"
   ]
  },
  {
   "cell_type": "markdown",
   "metadata": {},
   "source": [
    "## Storing Tweets into Mongo DB"
   ]
  },
  {
   "cell_type": "code",
   "execution_count": 736,
   "metadata": {
    "collapsed": true
   },
   "outputs": [],
   "source": [
    "client = MongoClient()"
   ]
  },
  {
   "cell_type": "code",
   "execution_count": 737,
   "metadata": {
    "collapsed": true
   },
   "outputs": [],
   "source": [
    "datatweets = client.dsbc.datatweets"
   ]
  },
  {
   "cell_type": "code",
   "execution_count": 738,
   "metadata": {
    "collapsed": false
   },
   "outputs": [
    {
     "data": {
      "text/plain": [
       "{u'n': 200, u'ok': 1}"
      ]
     },
     "execution_count": 738,
     "metadata": {},
     "output_type": "execute_result"
    }
   ],
   "source": [
    "datatweets.remove( { } )"
   ]
  },
  {
   "cell_type": "code",
   "execution_count": 739,
   "metadata": {
    "collapsed": false
   },
   "outputs": [],
   "source": [
    "datatweets = client.dsbc.datatweets\n",
    "for k in tweets:\n",
    "    datatweets_d = {'text': k}\n",
    "    datatweets.insert(datatweets_d)"
   ]
  },
  {
   "cell_type": "code",
   "execution_count": 740,
   "metadata": {
    "collapsed": false
   },
   "outputs": [
    {
     "name": "stdout",
     "output_type": "stream",
     "text": [
      "{u'text': u'Why Wall Street should bet on women: http://t.co/gbJLDa59Dv', u'_id': ObjectId('55678401bb9ab402cb084c94')}\n",
      "{u'text': u'How a trader plans to make $21 million in one week http://t.co/twobuINGG6', u'_id': ObjectId('55678401bb9ab402cb084c95')}\n",
      "{u'text': u\"FBI says it's investigating identity theft at IRS http://t.co/IV8iUxU070\", u'_id': ObjectId('55678401bb9ab402cb084c9b')}\n",
      "{u'text': u'IMF head says Greek exit a possibility - newspaper http://t.co/SXlvYgUYgd', u'_id': ObjectId('55678401bb9ab402cb084c9e')}\n",
      "{u'text': u\"Cramer: Don't write off Costco, here's why http://t.co/75Mzrz3hR4\", u'_id': ObjectId('55678401bb9ab402cb084ca4')}\n",
      "{u'text': u'Chobani CEO pledges to donate most of wealth http://t.co/qoyEDbjx9I', u'_id': ObjectId('55678401bb9ab402cb084ca5')}\n",
      "{u'text': u'Global gambling sector worth over $450 billion http://t.co/w6fk4uzwsP', u'_id': ObjectId('55678401bb9ab402cb084ca8')}\n",
      "{u'text': u'Why energy tax breaks we take should go away: CEO http://t.co/NtfdyPHDre', u'_id': ObjectId('55678401bb9ab402cb084cab')}\n",
      "{u'text': u'Broadcom CEO McGregor Eligible for $67 Million http://t.co/4MWH23Zf6q', u'_id': ObjectId('55678401bb9ab402cb084cae')}\n",
      "{u'text': u'Dollar General says COO Vasos to replace Dreiling as CEO http://t.co/3TjXLh2Z2B', u'_id': ObjectId('55678401bb9ab402cb084cb1')}\n",
      "{u'text': u'Pending US home sales jump to strongest level in 9 years http://t.co/g0oBtxLrXf', u'_id': ObjectId('55678401bb9ab402cb084cb3')}\n",
      "{u'text': u'These Are the Best U.S. Housing Markets http://t.co/PDNuPQ4sPB', u'_id': ObjectId('55678401bb9ab402cb084cb5')}\n",
      "{u'text': u\"U2's longtime tour manager, Dennis Sheehan, found dead http://t.co/dybAE6XMWg\", u'_id': ObjectId('55678401bb9ab402cb084cb7')}\n",
      "{u'text': u'Dollar could be getting ready to roar http://t.co/SuDU8oiXWS', u'_id': ObjectId('55678401bb9ab402cb084cb9')}\n",
      "{u'text': u'Gina Rinehart Loses Battle to Control $3.8 Billion Trust http://t.co/4XVxYS5ctE', u'_id': ObjectId('55678401bb9ab402cb084cba')}\n",
      "{u'text': u'GoPro jumps into virtual reality and drones http://t.co/LKHbGXS8ds', u'_id': ObjectId('55678401bb9ab402cb084cbb')}\n",
      "{u'text': u'Early movers: $BRCM, $COST, $EXPR, $ANF &amp; more http://t.co/ntJCMYXKHE', u'_id': ObjectId('55678401bb9ab402cb084cc4')}\n",
      "{u'text': u'The Tanker Market Is Sending a Big Warning to Oil Bulls http://t.co/zpbsyVps7b', u'_id': ObjectId('55678401bb9ab402cb084cc7')}\n",
      "{u'text': u'Putin accuses US of meddling in FIFA affairs http://t.co/Et7es0zsx1', u'_id': ObjectId('55678401bb9ab402cb084cc8')}\n",
      "{u'text': u'.@jimcramer takes a look at the #housing landscape. http://t.co/78uUoOjpf3', u'_id': ObjectId('55678401bb9ab402cb084ccb')}\n",
      "{u'text': u'Yes, social shopping is a thing now. Pros and cons: http://t.co/HeYhkuSrG0', u'_id': ObjectId('55678401bb9ab402cb084ccf')}\n",
      "{u'text': u'Meet the new billionaires http://t.co/Eo1YtLyozC http://t.co/ho7MhTeHeU', u'_id': ObjectId('55678401bb9ab402cb084cd1')}\n",
      "{u'text': u'Why Oracle is a solid castle http://t.co/aANM0F9PAP via @Valuentum $ORCL', u'_id': ObjectId('55678401bb9ab402cb084cd2')}\n",
      "{u'text': u\"Bill Gross: Don't downplay Greece's struggles. http://t.co/PxkpiGxKFI\", u'_id': ObjectId('55678401bb9ab402cb084cd4')}\n",
      "{u'text': u'How to Save on Summer Renovation Projects http://t.co/tAWXvXj7d8', u'_id': ObjectId('55678401bb9ab402cb084cd5')}\n",
      "{u'text': u'The case against taking Social Security at 62 http://t.co/wZYOpHtccx', u'_id': ObjectId('55678401bb9ab402cb084cd7')}\n",
      "{u'text': u'Meet the new billionaires http://t.co/I5TUru3ma4 http://t.co/LO8uXES5OU', u'_id': ObjectId('55678401bb9ab402cb084cdc')}\n",
      "{u'text': u'Greece owes drugmakers $1.2 billion - and counting http://t.co/6fTOdO9l0x', u'_id': ObjectId('55678401bb9ab402cb084cdf')}\n",
      "{u'text': u'Lamborghini to launch SUV in 2018 http://t.co/vmUiItkNYd http://t.co/UhYh2e46zI', u'_id': ObjectId('55678401bb9ab402cb084ce3')}\n",
      "{u'text': u\"Watch live at noon: Snapchat's IPO, Tiffany soars and Michael Kors slides http://t.co/MPFIViMYPu\", u'_id': ObjectId('55678401bb9ab402cb084ce6')}\n",
      "{u'text': u'Unemployment rates fell in 23 US states in April http://t.co/1OLDepMnaH', u'_id': ObjectId('55678401bb9ab402cb084ce7')}\n",
      "{u'text': u'Pimco and Hedge Funds Are Fighting Over Subprime Scraps http://t.co/L2I1X1Mijo', u'_id': ObjectId('55678401bb9ab402cb084ce8')}\n",
      "{u'text': u'Why a Microsoft buyout of Salesforce makes sense, then doesn\\u2019t http://t.co/UYiFAQNv31 via @Bidnessetc $CRM http://t.co/uDkOtt5gY2', u'_id': ObjectId('55678401bb9ab402cb084ce9')}\n",
      "{u'text': u'Michael Kors posts slowest revenue growth since going public http://t.co/FYUQfW7dUO $KORS', u'_id': ObjectId('55678401bb9ab402cb084cea')}\n",
      "{u'text': u'Airbus plans Silicon Valley innovation center http://t.co/1Xb4qbJUpE', u'_id': ObjectId('55678401bb9ab402cb084ceb')}\n",
      "{u'text': u'Here is how AstraZeneca and Amgen will be hit by the cancelled collaboration http://t.co/SLz5A5JiG1 via @Bidnessetc $AMGN', u'_id': ObjectId('55678401bb9ab402cb084cec')}\n",
      "{u'text': u'Why Oracle is a solid castle http://t.co/YEVrGDtRda via @Valuentum $ORCL http://t.co/7pMEzU0CE5', u'_id': ObjectId('55678401bb9ab402cb084ced')}\n",
      "{u'text': u'The breadth deterioration is real http://t.co/o5GuFqx2wt via @ZorTrades $SPY', u'_id': ObjectId('55678401bb9ab402cb084cee')}\n",
      "{u'text': u\"McDonald's to stop reporting monthly same-store sales after June http://t.co/7wORazlZSO\", u'_id': ObjectId('55678401bb9ab402cb084cef')}\n",
      "{u'text': u\"The Russian billionaires hit hard by oil's plunge http://t.co/oO5eD22Jyx\", u'_id': ObjectId('55678401bb9ab402cb084cf0')}\n",
      "{u'text': u'Short in May and go away http://t.co/R4FPWVCCLE via @DougKass $SPY http://t.co/iGyw1eqLs4', u'_id': ObjectId('55678401bb9ab402cb084cf1')}\n",
      "{u'text': u'Why hasn\\u2019t Nationstar Mortgage been sued yet? http://t.co/X4X6U7ouaA via @TheDealNewsroom $NSM http://t.co/iEpZiswG16', u'_id': ObjectId('55678401bb9ab402cb084cf2')}\n",
      "{u'text': u'To win in the stock market you have to be willing to lose http://t.co/DYgLKbpeVB via @awealthofcs $SPY http://t.co/niV8l6fr3f', u'_id': ObjectId('55678401bb9ab402cb084cf3')}\n",
      "{u'text': u'The Mansions That Are Swallowing Suburban Homes http://t.co/CNehktihuB', u'_id': ObjectId('55678401bb9ab402cb084cf4')}\n",
      "{u'text': u\"OPEC Will Back Saudi Arabia's Plan to Keep Supplies Elevated http://t.co/vWF3KroZs4\", u'_id': ObjectId('55678401bb9ab402cb084cf5')}\n",
      "{u'text': u'Snapchat CEO sees a bubble, blames interest rates http://t.co/S6d3GFiB6v', u'_id': ObjectId('55678401bb9ab402cb084cf6')}\n",
      "{u'text': u'Early movers: $TIF, $KORS, $TOL, $BWS, $HRL &amp; more http://t.co/UdclirygVg', u'_id': ObjectId('55678401bb9ab402cb084cf7')}\n",
      "{u'text': u'Luxury Brands Shrink $7 Billion in Value http://t.co/atKBNPJmIe', u'_id': ObjectId('55678401bb9ab402cb084cf8')}\n",
      "{u'text': u'What Chicago\\u2019s fiscal emergency says about the quality of credit analysis in the municipal bond market http://t.co/wDZYocX6o6 via @munilass', u'_id': ObjectId('55678401bb9ab402cb084cf9')}\n",
      "{u'text': u'Why at the end of the day consumers will have the final say on rates http://t.co/qWEoc7VdFe via @peterckenny $TLT http://t.co/kLeFArEo0F', u'_id': ObjectId('55678401bb9ab402cb084cfa')}\n",
      "{u'text': u'Solar as Fastest Growing U.S. Power Source Rivals Shale Boom http://t.co/0gwNAayYd1', u'_id': ObjectId('55678401bb9ab402cb084cfb')}\n",
      "{u'text': u'A breakout to nowhere http://t.co/3GXesOPZ8I via @JLyonsFundMgmt $SPY http://t.co/9yobQufvVL', u'_id': ObjectId('55678401bb9ab402cb084cfc')}\n",
      "{u'text': u'The average U.S. consumer should be happy and confident http://t.co/gwHsYfGtQc via @Financial_Orbit', u'_id': ObjectId('55678401bb9ab402cb084cfd')}\n",
      "{u'text': u'The Transports have left the rails http://t.co/oKeCHDeWFo via @harmongreg $IYT http://t.co/qicZzyvbLt', u'_id': ObjectId('55678401bb9ab402cb084cfe')}\n",
      "{u'text': u'Bernanke sees no risk of hard landing in China, bullish on U.S. economy http://t.co/uvE7F2pR50', u'_id': ObjectId('55678401bb9ab402cb084cff')}\n",
      "{u'text': u'Greece Said Likely to Miss May Deal Deadline as Talks Falter http://t.co/Z4n35om759', u'_id': ObjectId('55678401bb9ab402cb084d00')}\n",
      "{u'text': u'Michael Kors posts slowest sales growth in 14 quarters http://t.co/oeYIgB58gZ', u'_id': ObjectId('55678401bb9ab402cb084d01')}\n",
      "{u'text': u'Tiffany tops Street 1Q forecasts http://t.co/vH3epaHMVl', u'_id': ObjectId('55678401bb9ab402cb084d02')}\n",
      "{u'text': u'Toll Brothers meets 2Q profit forecasts http://t.co/eOQevH9y2f', u'_id': ObjectId('55678401bb9ab402cb084d03')}\n",
      "{u'text': u'Cost of data breaches increasing to average of $3.8 million, study says http://t.co/MqrWUiq6GR', u'_id': ObjectId('55678401bb9ab402cb084d04')}\n",
      "{u'text': u'Bug causes message to crash certain Apple iOS devices. No immediate comment from $AAPL. http://t.co/PG3lmjmBh2', u'_id': ObjectId('55678401bb9ab402cb084d05')}\n",
      "{u'text': u\"Here's the case for buying today's dip on Wall Street. http://t.co/CURP9d14P0\", u'_id': ObjectId('55678401bb9ab402cb084d06')}\n",
      "{u'text': u'Home Depot\\u2019s 1Q15 results show continued operational strength http://t.co/XlF1WaHlnP via @treetis $HD', u'_id': ObjectId('55678401bb9ab402cb084d07')}\n",
      "{u'text': u'Oil to stabilize amid production worries, one expert says. http://t.co/8DXX90tC3X', u'_id': ObjectId('55678401bb9ab402cb084d08')}\n",
      "{u'text': u'7 money moves financially savvy couples should make http://t.co/P3EbImnvDk via @marybstorj', u'_id': ObjectId('55678401bb9ab402cb084d09')}\n",
      "{u'text': u'Europe woes and U.S. rate hike prospects depress stocks, boost dollar. http://t.co/nvpesewdow', u'_id': ObjectId('55678401bb9ab402cb084d0a')}\n",
      "{u'text': u'Can Wal-Mart hold up against pressure from Amazon? http://t.co/MyAG6vwe9U via @Bidnessetc $AMZN', u'_id': ObjectId('55678401bb9ab402cb084d0b')}\n",
      "{u'text': u'.@jimcramer: Spotting gems amid the market rubble. http://t.co/6ZAt1sOc2D', u'_id': ObjectId('55678401bb9ab402cb084d0c')}\n",
      "{u'text': u'Jabil Circuit is poised for more outperformance http://t.co/yjrEzPD9UF via @QuantifiedAlpha $JBL', u'_id': ObjectId('55678401bb9ab402cb084d0d')}\n",
      "{u'text': u'Top 10 highest-paid CEOs http://t.co/BLbuafBzJz', u'_id': ObjectId('55678401bb9ab402cb084d0e')}\n",
      "{u'text': u'CEO pay: biggest raises and biggest cuts of 2014 http://t.co/3Ikw6nbErK', u'_id': ObjectId('55678401bb9ab402cb084d0f')}\n",
      "{u'text': u'Vox Media is buying tech publication ReCode. http://t.co/yHf8dqJv76', u'_id': ObjectId('55678401bb9ab402cb084d10')}\n",
      "{u'text': u'What Michael Kors, Tiffany earnings say about high-end consumers. http://t.co/RnKvuOK4bb $KORS $TIF', u'_id': ObjectId('55678401bb9ab402cb084d11')}\n",
      "{u'text': u'Vox Media is buying tech news website ReCode, @nytimes reports.', u'_id': ObjectId('55678401bb9ab402cb084d12')}\n",
      "{u'text': u'RT @CNBCnow: JUST IN: Fed Chair Yellen will not attend Jackson Hole meeting this year, may attend in future. (via @steveliesman)\\nhttps://t.\\u2026', u'_id': ObjectId('55678401bb9ab402cb084d13')}\n",
      "{u'text': u'Michael Kors will continue to walk all over earnings http://t.co/H0o5uzxWtV via @QuantifiedAlpha $KORS http://t.co/YeGf3jyEsS', u'_id': ObjectId('55678401bb9ab402cb084d14')}\n",
      "{u'text': u'http://t.co/gaLk9Lo5md to hire 6,000 full-time staffers across its U.S. fulfillment network. http://t.co/Ab5mOIbC5Y $AMZN', u'_id': ObjectId('55678401bb9ab402cb084d15')}\n",
      "{u'text': u'BofA Merrill: Here\\u2019s how to tap into Millennials\\u2019 burgeoning influence. http://t.co/iyGkqQaGbC', u'_id': ObjectId('55678401bb9ab402cb084d16')}\n",
      "{u'text': u'IRS says thieves stole tax info from 100,000. http://t.co/AYUDA0aDef', u'_id': ObjectId('55678401bb9ab402cb084d17')}\n",
      "{u'text': u'Bear strike: U.S. stocks sink 1% as greenback rallies. http://t.co/GUgkkoY1Uy http://t.co/vjcjcscmlm', u'_id': ObjectId('55678401bb9ab402cb084d18')}\n",
      "{u'text': u'Amazon drops popular tax avoidance strategy  http://t.co/jl0SohGNW2 $AMZN', u'_id': ObjectId('55678401bb9ab402cb084d19')}\n",
      "{u'text': u'Chinese stocks continue surges...and it may not change anytime soon http://t.co/KOMpDP2mBd', u'_id': ObjectId('55678401bb9ab402cb084d1a')}\n",
      "{u'text': u'Jabil Circuit is poised for more outperformance http://t.co/IlTHyGu9CV via @QuantifiedAlpha $JBL http://t.co/izcrlEkxxz', u'_id': ObjectId('55678401bb9ab402cb084d1b')}\n",
      "{u'text': u'How did the through-train work out? http://t.co/SHrcMadnTo via @ReformedBroker $FXI http://t.co/H6CQj8WrrP', u'_id': ObjectId('55678401bb9ab402cb084d1c')}\n",
      "{u'text': u'RT @ampressman: Amazon\\u2019s going tp pay more taxes Europe says it owes. Anyone else? &lt;crickets&gt;. Discussing with @aarontask http://t.co/eZg1X\\u2026', u'_id': ObjectId('55678401bb9ab402cb084d1d')}\n",
      "{u'text': u\"RT @rickjnewman: Don't miss it! RT @HalfBankrupt Wed on @StocksNJocks @RickJNewman of @YahooFinance joins the show to talk #Obamacare http:\\u2026\", u'_id': ObjectId('55678401bb9ab402cb084d1e')}\n",
      "{u'text': u\"The son of China's richest man bought two Apple watches for his dog because four would have been tacky http://t.co/37vibFylfd\", u'_id': ObjectId('55678401bb9ab402cb084d1f')}\n",
      "{u'text': u'Connecticut exec flees U.S. after insider trading, fraud claims -SEC http://t.co/er5ZHynK51', u'_id': ObjectId('55678401bb9ab402cb084d20')}\n",
      "{u'text': u'Time Warner Cable CEO Eligible for $85 Million Golden Parachute http://t.co/eGAsawwFfM', u'_id': ObjectId('55678401bb9ab402cb084d21')}\n",
      "{u'text': u'Retail to rebound? http://t.co/qTqz99lsH7 via Cynthia DiBartolo $RTH http://t.co/2v22G4LzU3', u'_id': ObjectId('55678401bb9ab402cb084d22')}\n",
      "{u'text': u'6 important market charts in the past week http://t.co/J9X8YCvjn8 via @361Capital $SPY http://t.co/TSpSTPlnWz', u'_id': ObjectId('55678401bb9ab402cb084d23')}\n",
      "{u'text': u'Dollar/Yen breaks 18-year resistance, good for Nikkei? http://t.co/XIXtqOoxu0 via @KimbleCharting $EWJ http://t.co/fTiQ2psEh1', u'_id': ObjectId('55678401bb9ab402cb084d24')}\n",
      "{u'text': u'The auto industry looks beyond ownership http://t.co/NzAoKkHRG7 via @BV $F', u'_id': ObjectId('55678401bb9ab402cb084d25')}\n",
      "{u'text': u'How should investors prepare for rising rates? http://t.co/SUnd8cdblx via @michaelbatnick $SPY http://t.co/KAtCoDZI2p', u'_id': ObjectId('55678401bb9ab402cb084d26')}\n",
      "{u'text': u'Can Wal-Mart hold up against pressure from Amazon? http://t.co/OUwcY5sPfV via @Bidnessetc $AMZN http://t.co/kgAyZlWSeb', u'_id': ObjectId('55678401bb9ab402cb084d27')}\n",
      "{u'text': u\"Growth in billionaires' wealth to taper off http://t.co/2jO7oF9LFl\", u'_id': ObjectId('55678401bb9ab402cb084d28')}\n",
      "{u'text': u'A tale of two luxury retailers http://t.co/7Q2NQuXMBT via @Estimize $KORS http://t.co/gWAKmnI2aP', u'_id': ObjectId('55678401bb9ab402cb084d29')}\n",
      "{u'text': u'Why EMC bought Virtustream for $1.2 billion http://t.co/4XgyJOfijP via @Financial_Orbit $EMC http://t.co/yhNhM0KMAG', u'_id': ObjectId('55678401bb9ab402cb084d2a')}\n",
      "{u'text': u'$430 Cowboy Boots and Other Reasons to Be Excited About Stocks http://t.co/reQ59yrtT4', u'_id': ObjectId('55678401bb9ab402cb084d2b')}\n",
      "{u'text': u'Best ways to invest $1,000 now http://t.co/bY5aa7Y7qJ via @JeffReevesIP $SPY', u'_id': ObjectId('55678401bb9ab402cb084d2c')}\n",
      "{u'text': u'Trading: about bulls, bears and pigs http://t.co/cpr8TWXqzk via @ivanhoff http://t.co/BsWVRsEyRA', u'_id': ObjectId('55678401bb9ab402cb084d2d')}\n",
      "{u'text': u'7 money moves financially savvy couples should make http://t.co/kRyR8QfgtM via @marybstorj http://t.co/31eaTBrPeD', u'_id': ObjectId('55678401bb9ab402cb084d2e')}\n",
      "{u'text': u'California Dreaming: Record $500 Million Tag on L.A. Home http://t.co/ZPkkY4iqfG', u'_id': ObjectId('55678401bb9ab402cb084d2f')}\n",
      "{u'text': u\"Charter's Deal Faces Lower Regulatory Barrier Than Comcast's http://t.co/uUbfmp3c1U $CHTR $TWC\", u'_id': ObjectId('55678401bb9ab402cb084d30')}\n",
      "{u'text': u'Dealmaking moves EMC, TWC &amp; Charter, downgrade slams First Solar http://t.co/CRIy7oCGPz $EMC, $TWC &amp; $CHTR $FSLR', u'_id': ObjectId('55678401bb9ab402cb084d31')}\n",
      "{u'text': u'Italian court bans Uber http://t.co/DldUx5x0Xg', u'_id': ObjectId('55678401bb9ab402cb084d32')}\n",
      "{u'text': u'U.S. stocks fall the most in three weeks as dollar soars http://t.co/wHaItUSXcf', u'_id': ObjectId('55678401bb9ab402cb084d33')}\n",
      "{u'text': u'How to find success late in life http://t.co/M9DtdQctiE via @jaltucher http://t.co/bKPsZ2b0Dz', u'_id': ObjectId('55678401bb9ab402cb084d34')}\n",
      "{u'text': u'Top financial websites to prepare for your trading day http://t.co/cYLvD0fndX via @smbcapital http://t.co/f7iM6O5dOT', u'_id': ObjectId('55678401bb9ab402cb084d35')}\n",
      "{u'text': u'Blocked in China, Twitter still courts Chinese firms for ads http://t.co/mefKfSMOWi $TWTR', u'_id': ObjectId('55678401bb9ab402cb084d36')}\n",
      "{u'text': u'Nielsen survey says Liam Neeson is big ad man http://t.co/5thZKPEMmC', u'_id': ObjectId('55678401bb9ab402cb084d37')}\n",
      "{u'text': u'RT @mandiwoodruff: What happened when one woman decided to track down her identity thief: http://t.co/2AeURlQqnm via @YahooFinance http://t\\u2026', u'_id': ObjectId('55678401bb9ab402cb084d38')}\n",
      "{u'text': u'Foxconn plans 10-12 new Indian facilities by 2020 - chairman http://t.co/gLcaewiFix', u'_id': ObjectId('55678401bb9ab402cb084d39')}\n",
      "{u'text': u'Stunning 36 percent rise in US visits to Cuba since January http://t.co/XMAnyrUVQ5', u'_id': ObjectId('55678401bb9ab402cb084d3a')}\n",
      "{u'text': u\"RT @robpegoraro: No, GM doesn't own your car--but it does own an accelerating #copyfight over who can touch its code. At @YahooTech: https:\\u2026\", u'_id': ObjectId('55678401bb9ab402cb084d3b')}\n",
      "{u'text': u'Home Depot\\u2019s 1Q15 results show continued operational strength http://t.co/G0IICfzfuj via @treetis $HD http://t.co/FaemqkJlFo', u'_id': ObjectId('55678401bb9ab402cb084d3c')}\n",
      "{u'text': u'US new-home sales rose 6.8 percent in April; increased demand pushing median prices near $300k http://t.co/LLwgDjrmOu', u'_id': ObjectId('55678401bb9ab402cb084d3d')}\n",
      "{u'text': u'Olive Garden: At least 1 more breadstick creation on the way http://t.co/1uEz1MvArX', u'_id': ObjectId('55678401bb9ab402cb084d3e')}\n",
      "{u'text': u'After bruising safety crisis, US car watchdog shows its bite http://t.co/izpk31A6WF', u'_id': ObjectId('55678401bb9ab402cb084d3f')}\n",
      "{u'text': u'US home prices rose at steady pace in March from year ago http://t.co/4l0bpCUkBm', u'_id': ObjectId('55678401bb9ab402cb084d40')}\n",
      "{u'text': u'CEO pay: biggest raises and biggest cuts of 2014 http://t.co/QGeGpSxp8O', u'_id': ObjectId('55678401bb9ab402cb084d41')}\n",
      "{u'text': u'Considering the investment impact of Baby Boomers\\u2019 retirement http://t.co/HJcXz1NvdM via Mitch Zacks', u'_id': ObjectId('55678401bb9ab402cb084d42')}\n",
      "{u'text': u'Orders to US factories for durable goods slip 0.5 percent, but investment category shows gain http://t.co/5KaMzqeKjm', u'_id': ObjectId('55678401bb9ab402cb084d43')}\n",
      "{u'text': u'2 dead, several hurt in shooting at Grand Forks Wal-Mart http://t.co/GdLV1v7Eai', u'_id': ObjectId('55678401bb9ab402cb084d44')}\n",
      "{u'text': u'Why I don\\u2019t expect a rate hike anytime soon http://t.co/rixhYM68CQ via @DeadCosWalking $ITB http://t.co/11Kbcs1E5a', u'_id': ObjectId('55678401bb9ab402cb084d45')}\n",
      "{u'text': u'Higher volatility ahead http://t.co/JQoBj8vBqV via @ukarlewitz $SPY http://t.co/FbEgOxwHKe', u'_id': ObjectId('55678401bb9ab402cb084d46')}\n",
      "{u'text': u'How the Marines shaped our investment philosophy http://t.co/oBnIRUJGTO via @alphaarchitect $SPY http://t.co/yZDrBis6ak', u'_id': ObjectId('55678401bb9ab402cb084d47')}\n",
      "{u'text': u'Small cap volatility hitting historic lows http://t.co/S1HOOVJzCW via @JLyonsFundMgmt $IWM', u'_id': ObjectId('55678401bb9ab402cb084d48')}\n",
      "{u'text': u'Early movers: $TWC, $AAPL, $CTRP, $CRM, $GM &amp; more http://t.co/DC2tNgdOhz', u'_id': ObjectId('55678401bb9ab402cb084d49')}\n",
      "{u'text': u'Ignore the annual first quarter recession http://t.co/T47SpPtJ8E via @ReformedBroker $SPY http://t.co/NC6UcjOkT3', u'_id': ObjectId('55678401bb9ab402cb084d4a')}\n",
      "{u'text': u'Your margin is my opportunity: Why Alibaba could be the Amazon killer http://t.co/ehBgGqHPlm via @Applico $AMZN http://t.co/mdkKaIWYIH', u'_id': ObjectId('55678401bb9ab402cb084d4b')}\n",
      "{u'text': u'RT @JeffMacke: .@ppearlman In terms of service Charter/ TWC is akin to $AAL and $DAL merging by using all the seats and scrapping 1/2 the p\\u2026', u'_id': ObjectId('55678401bb9ab402cb084d4c')}\n",
      "{u'text': u'Top 10 highest-paid CEOs http://t.co/aGlN9p55Yd', u'_id': ObjectId('55678401bb9ab402cb084d4d')}\n",
      "{u'text': u'Apple promotes tech guru Jonathan Ive as head of design http://t.co/DgUeEakGUi', u'_id': ObjectId('55678401bb9ab402cb084d4e')}\n",
      "{u'text': u'Amazon pays $16 million tax in Germany, while making $11.9 billion sales http://t.co/bYbSWWG7kT', u'_id': ObjectId('55678401bb9ab402cb084d4f')}\n",
      "{u'text': u'Oil drops to $65 on U.S. shale outlook, dollar http://t.co/IORIX3Q2vI', u'_id': ObjectId('55678401bb9ab402cb084d50')}\n",
      "{u'text': u'Charter Communications confirms $55.33 billion acquisition of Time Warner Cable http://t.co/0VEUkfCcoK', u'_id': ObjectId('55678401bb9ab402cb084d51')}\n",
      "{u'text': u\"Rents are rising, but don't expect broad inflation to surge http://t.co/N5hhmP0YLp\", u'_id': ObjectId('55678401bb9ab402cb084d52')}\n",
      "{u'text': u'Couples, avoid these three common money mistakes http://t.co/xgn54vidBG', u'_id': ObjectId('55678401bb9ab402cb084d53')}\n",
      "{u'text': u'How this woman tracked down her identity thief. http://t.co/xBvCKsbI1x http://t.co/f34tYOXpzQ', u'_id': ObjectId('55678401bb9ab402cb084d54')}\n",
      "{u'text': u'Walmart and Target face no certain future http://t.co/aTsRdyYQDA via @Valuentum $WMT', u'_id': ObjectId('55678401bb9ab402cb084d55')}\n",
      "{u'text': u\"Rents are rising, but don't expect broad inflation to surge http://t.co/BVvwV5Phde\", u'_id': ObjectId('55678401bb9ab402cb084d56')}\n",
      "{u'text': u'Warren Buffett: Activist investor? http://t.co/LOwiVrVpwM via @CFAinstitute $BRK-A', u'_id': ObjectId('55678401bb9ab402cb084d57')}\n",
      "{u'text': u'An expectation of reflation http://t.co/81iKIBenib via @MktAnthropology $TLT', u'_id': ObjectId('55678401bb9ab402cb084d58')}\n",
      "{u'text': u'4 ways to improve your retirement savings http://t.co/RkIxsSaVSc via @awealthofcs', u'_id': ObjectId('55678401bb9ab402cb084d59')}\n",
      "{u'text': u'Buy Exxon and sell Chevron if you think oil will hover at $60 per barrel http://t.co/vVt4O1JPjH via @TheDealNewsroom', u'_id': ObjectId('55678401bb9ab402cb084d5a')}\n",
      "{u'text': u'6 things going wrong in America http://t.co/NBvq1BZYHK', u'_id': ObjectId('55678401bb9ab402cb084d5b')}\n",
      "{u'text': u'3 bearish studies that may foreshadow the death of this bull market http://t.co/LUNHsqQp2f via @jessefelder $SPY http://t.co/dfWTN6oQuU', u'_id': ObjectId('55678401bb9ab402cb084c96')}\n",
      "{u'text': u'More weight added to equity bear case http://t.co/eQrH0KTOiw via @JLyonsFundMgmt $RSP http://t.co/cHeP21kF7B', u'_id': ObjectId('55678401bb9ab402cb084c97')}\n",
      "{u'text': u\"Why a shrinking US economy last quarter isn't cause for fear http://t.co/O1A33R3LBN\", u'_id': ObjectId('55678401bb9ab402cb084c98')}\n",
      "{u'text': u'U.S. airlines stocks; Here is why they might fly again http://t.co/AwH5jIia2b via @Bidnessetc $UAL http://t.co/o8SBy5o4vw', u'_id': ObjectId('55678401bb9ab402cb084c99')}\n",
      "{u'text': u'As its stock returns to $200, Goldman embodies more stable, less fun Wall Street. http://t.co/XQIRXLR2O0 $GS', u'_id': ObjectId('55678401bb9ab402cb084c9a')}\n",
      "{u'text': u\"Exclusive: @serwer gets sneak preview of new products from Google's head of products @sundarpichai http://t.co/G8p3dmUkw0\", u'_id': ObjectId('55678401bb9ab402cb084c9c')}\n",
      "{u'text': u'3 tips for getting work done: better, faster, cheaper http://t.co/HQprllHSCX via @jodygmiller http://t.co/YRADvfo7BP', u'_id': ObjectId('55678401bb9ab402cb084c9d')}\n",
      "{u'text': u'Dear Fed: Please don\\u2019t strangle a nascent housing boom http://t.co/W6rHpvgmg3 via @jimcramer $TOL http://t.co/JhQMtDVoup', u'_id': ObjectId('55678401bb9ab402cb084c9f')}\n",
      "{u'text': u\"Bankruptcy judge 'deeply concerned' about unfunded pensions http://t.co/mEq5kqvrS8\", u'_id': ObjectId('55678401bb9ab402cb084ca0')}\n",
      "{u'text': u\"Instead of Playing Golf, the World's Elderly Are Staging Heists and Robbing Banks http://t.co/GqOzUEUkGY\", u'_id': ObjectId('55678401bb9ab402cb084ca1')}\n",
      "{u'text': u'Why this airline stock is ready to land http://t.co/qcM57nFNW6 via @ZorTrades $AAL', u'_id': ObjectId('55678401bb9ab402cb084ca2')}\n",
      "{u'text': u'A roadmap for the trading day http://t.co/l3MTsFyMg4 via @AdamHGrimes http://t.co/HFoCwCvbVL', u'_id': ObjectId('55678401bb9ab402cb084ca3')}\n",
      "{u'text': u'RT @YahooTech: Man Slapped with $120 Ticket for Using Apple Watch While Driving http://t.co/z5SiEa7qmj http://t.co/4OkYZsjnB0', u'_id': ObjectId('55678401bb9ab402cb084ca6')}\n",
      "{u'text': u\"RT @Rafe: I'm at Google IO today. Here's what we expect.  https://t.co/y3xXmD033c via @YahooTech\", u'_id': ObjectId('55678401bb9ab402cb084ca7')}\n",
      "{u'text': u'How to be a bad leader http://t.co/9ubHTMpYmz via @jaltucher http://t.co/6RDKGkAr6M', u'_id': ObjectId('55678401bb9ab402cb084ca9')}\n",
      "{u'text': u'GameStop expectations are muted ahead of the earnings report http://t.co/Dg5D8eZ7uT via @Estimize $GME http://t.co/zQVrwCcqlB', u'_id': ObjectId('55678401bb9ab402cb084caa')}\n",
      "{u'text': u'The real reason behind the fall of Blackberry http://t.co/acArkfuuqy via @Applico $BBRY http://t.co/dJvDlqLqbW', u'_id': ObjectId('55678401bb9ab402cb084cac')}\n",
      "{u'text': u\"That's Business, Man: Why Jay Z's Tidal Is a Complete Disaster http://t.co/A2lu81FKOx\", u'_id': ObjectId('55678401bb9ab402cb084cad')}\n",
      "{u'text': u'Appeals court: Apple must submit to imposition of monitor http://t.co/u6YQ4iFGRO', u'_id': ObjectId('55678401bb9ab402cb084caf')}\n",
      "{u'text': u'Lawyer: Tracy Morgan happy Wal-Mart crash lawsuit behind him http://t.co/PEsASaK0up', u'_id': ObjectId('55678401bb9ab402cb084cb0')}\n",
      "{u'text': u'E-Cigarettes - A threat or opportunity for the tobacco industry? http://t.co/meitPxWWPH via @Bidnessetc $MO http://t.co/kjCMirkW05', u'_id': ObjectId('55678401bb9ab402cb084cb2')}\n",
      "{u'text': u'Individual S&amp;P 500 stocks are not rising with the index http://t.co/c3wvmldxnf via @AndrewThrasher $SPY', u'_id': ObjectId('55678401bb9ab402cb084cb4')}\n",
      "{u'text': u'A history of M&amp;A deal toys http://t.co/6LUsrzYv3a via @TheDealNewsroom http://t.co/l0DRIsXzMM', u'_id': ObjectId('55678401bb9ab402cb084cb6')}\n",
      "{u'text': u'Is this the end of a 35 year bull market in stocks and bonds? http://t.co/oEaYcjfC7W via @awealthofcs $TLT', u'_id': ObjectId('55678401bb9ab402cb084cb8')}\n",
      "{u'text': u'U.S. jobless claims up, but still point to labor market strength http://t.co/4RqjssuLy7', u'_id': ObjectId('55678401bb9ab402cb084cbc')}\n",
      "{u'text': u'Market trading in 4th tightest range in 115 years http://t.co/rpgCJOxR5v via @KimbleCharting $DIA http://t.co/ucfRUYirCj', u'_id': ObjectId('55678401bb9ab402cb084cbd')}\n",
      "{u'text': u'Is rent out of reach? Study shows how 11 US cities stack up http://t.co/CFy4Ab9EJ1', u'_id': ObjectId('55678401bb9ab402cb084cbe')}\n",
      "{u'text': u'3 charts that will rekindle your interest in financial market history http://t.co/L2t2UbevEg via @CFAinstitute http://t.co/ERJ9GJno5h', u'_id': ObjectId('55678401bb9ab402cb084cbf')}\n",
      "{u'text': u'Less than 1% June through October following pre-election year May gain http://t.co/HpElUjGTap via @AlmanacTrader $SPY http://t.co/gRUfvqcjmz', u'_id': ObjectId('55678401bb9ab402cb084cc0')}\n",
      "{u'text': u'Bull market dealt a significant blow? http://t.co/6aNlNXrLXx via @JLyonsFundMgmt $DIA http://t.co/Ph758fQbSt', u'_id': ObjectId('55678401bb9ab402cb084cc1')}\n",
      "{u'text': u'The Baltic Dry Index. What it is telling us is sobering http://t.co/sL8t2rdL9b via @peterckenny http://t.co/HePQb9ppZU', u'_id': ObjectId('55678401bb9ab402cb084cc2')}\n",
      "{u'text': u'Stock buybacks: Mostly an accounting sleight of hand http://t.co/nnzIAMJzbZ via @CharlesSizemore http://t.co/3AihNy4DyQ', u'_id': ObjectId('55678401bb9ab402cb084cc3')}\n",
      "{u'text': u'Michael Kors wounds self-inflicted http://t.co/cePLlrX1Rk via @TALENTEDBLONDE $KORS http://t.co/m6oKh605qK', u'_id': ObjectId('55678401bb9ab402cb084cc5')}\n",
      "{u'text': u'Avago to Buy Broadcom for $37 Billion in Biggest Chip Deal http://t.co/FQkzTReK0Q', u'_id': ObjectId('55678401bb9ab402cb084cc6')}\n",
      "{u'text': u'Visa becomes first FIFA sponsor to warn it could jump ship http://t.co/RjordPaRfk', u'_id': ObjectId('55678401bb9ab402cb084cc9')}\n",
      "{u'text': u'Amazon to offer free same-day delivery to Prime members http://t.co/9AvoTiXKAd $AMZN', u'_id': ObjectId('55678401bb9ab402cb084cca')}\n",
      "{u'text': u'Japanese yen slides to 12-year low against U.S. dollar as Yellen builds case for rate hike. http://t.co/dlshY1zLIE', u'_id': ObjectId('55678401bb9ab402cb084ccc')}\n",
      "{u'text': u\"Apple Watch debut 'less than spectacular,' analyst says. http://t.co/JxvUxthjwr $AAPL\", u'_id': ObjectId('55678401bb9ab402cb084ccd')}\n",
      "{u'text': u'The Class of 2015 could use a wakeup call http://t.co/ah0JH7HgmC http://t.co/1SNMCLb14t', u'_id': ObjectId('55678401bb9ab402cb084cce')}\n",
      "{u'text': u'President Nixon: The man who sold the world fiat money http://t.co/tW5ABGdj7x via @CFAinstitute $UUP', u'_id': ObjectId('55678401bb9ab402cb084cd0')}\n",
      "{u'text': u'To win in the stock market you have to be willing to lose http://t.co/5qAfRJpgHV via @awealthofcs $SPY', u'_id': ObjectId('55678401bb9ab402cb084cd3')}\n",
      "{u'text': u'Why a Microsoft buyout of Salesforce makes sense, then doesn\\u2019t http://t.co/W2DO5YJxIn via @Bidnessetc $CRM', u'_id': ObjectId('55678401bb9ab402cb084cd6')}\n",
      "{u'text': u'Ulta expecting another great quarterly report tomorrow http://t.co/tgpFbn6vJv via @Estimize $ULTA http://t.co/8Dgvl16Okg', u'_id': ObjectId('55678401bb9ab402cb084cd8')}\n",
      "{u'text': u\".@BlackRock CEO Fink tells @serwer our biggest risk isn't China or interest rates: It's us.  http://t.co/fraV4xepRo\", u'_id': ObjectId('55678401bb9ab402cb084cd9')}\n",
      "{u'text': u'The Class of 2015 could use a wakeup call http://t.co/WkYMfUIbdC http://t.co/xrcH1qFmjq', u'_id': ObjectId('55678401bb9ab402cb084cda')}\n",
      "{u'text': u'President Nixon: The man who sold the world fiat money http://t.co/4wQygpGDKv via @CFAinstitute $UUP http://t.co/AOONYOsySu', u'_id': ObjectId('55678401bb9ab402cb084cdb')}\n",
      "{u'text': u\"BlackRock's Fink says our biggest risk isn't China or interest rates: It's us  http://t.co/Ccr9gKAanA\", u'_id': ObjectId('55678401bb9ab402cb084cdd')}\n",
      "{u'text': u'Abercrombie hopes latest changes will spur sales http://t.co/fvc5247lFn via @Estimize $ANF', u'_id': ObjectId('55678401bb9ab402cb084cde')}\n",
      "{u'text': u'Volatility for Breakfast: Egg and Bacon Prices Go Opposite Ways http://t.co/dl0ELmq3qd', u'_id': ObjectId('55678401bb9ab402cb084ce0')}\n",
      "{u'text': u'Why it\\u2019s so important for a stock operator to \\u2018know thyself\\u2019 http://t.co/n8aE1lkt4E via @jessefelder $SPY http://t.co/oPIJS7goKb', u'_id': ObjectId('55678401bb9ab402cb084ce1')}\n",
      "{u'text': u'The bullish healthcare sector setup http://t.co/DMtzr3psCD via @KimbleCharting $XLV', u'_id': ObjectId('55678401bb9ab402cb084ce2')}\n",
      "{u'text': u'RT @ampressman: http://t.co/I5mE68oPQM is growing fast - and profitably - as it lines up an IPO. But competition abounds on all sides http:\\u2026', u'_id': ObjectId('55678401bb9ab402cb084ce4')}\n",
      "{u'text': u\"Stocks we're watching: $dsw steps up, rough day for $wday, $kors tanks to 52-wk low\\nhttp://t.co/oEYUCCwlom\", u'_id': ObjectId('55678401bb9ab402cb084ce5')}\n"
     ]
    },
    {
     "data": {
      "text/plain": [
       "[u'Why Wall Street should bet on women: http://t.co/gbJLDa59Dv',\n",
       " u'How a trader plans to make $21 million in one week http://t.co/twobuINGG6',\n",
       " u\"FBI says it's investigating identity theft at IRS http://t.co/IV8iUxU070\",\n",
       " u'IMF head says Greek exit a possibility - newspaper http://t.co/SXlvYgUYgd',\n",
       " u\"Cramer: Don't write off Costco, here's why http://t.co/75Mzrz3hR4\",\n",
       " u'Chobani CEO pledges to donate most of wealth http://t.co/qoyEDbjx9I',\n",
       " u'Global gambling sector worth over $450 billion http://t.co/w6fk4uzwsP',\n",
       " u'Why energy tax breaks we take should go away: CEO http://t.co/NtfdyPHDre',\n",
       " u'Broadcom CEO McGregor Eligible for $67 Million http://t.co/4MWH23Zf6q',\n",
       " u'Dollar General says COO Vasos to replace Dreiling as CEO http://t.co/3TjXLh2Z2B',\n",
       " u'Pending US home sales jump to strongest level in 9 years http://t.co/g0oBtxLrXf',\n",
       " u'These Are the Best U.S. Housing Markets http://t.co/PDNuPQ4sPB',\n",
       " u\"U2's longtime tour manager, Dennis Sheehan, found dead http://t.co/dybAE6XMWg\",\n",
       " u'Dollar could be getting ready to roar http://t.co/SuDU8oiXWS',\n",
       " u'Gina Rinehart Loses Battle to Control $3.8 Billion Trust http://t.co/4XVxYS5ctE',\n",
       " u'GoPro jumps into virtual reality and drones http://t.co/LKHbGXS8ds',\n",
       " u'Early movers: $BRCM, $COST, $EXPR, $ANF &amp; more http://t.co/ntJCMYXKHE',\n",
       " u'The Tanker Market Is Sending a Big Warning to Oil Bulls http://t.co/zpbsyVps7b',\n",
       " u'Putin accuses US of meddling in FIFA affairs http://t.co/Et7es0zsx1',\n",
       " u'.@jimcramer takes a look at the #housing landscape. http://t.co/78uUoOjpf3',\n",
       " u'Yes, social shopping is a thing now. Pros and cons: http://t.co/HeYhkuSrG0',\n",
       " u'Meet the new billionaires http://t.co/Eo1YtLyozC http://t.co/ho7MhTeHeU',\n",
       " u'Why Oracle is a solid castle http://t.co/aANM0F9PAP via @Valuentum $ORCL',\n",
       " u\"Bill Gross: Don't downplay Greece's struggles. http://t.co/PxkpiGxKFI\",\n",
       " u'How to Save on Summer Renovation Projects http://t.co/tAWXvXj7d8',\n",
       " u'The case against taking Social Security at 62 http://t.co/wZYOpHtccx',\n",
       " u'Meet the new billionaires http://t.co/I5TUru3ma4 http://t.co/LO8uXES5OU',\n",
       " u'Greece owes drugmakers $1.2 billion - and counting http://t.co/6fTOdO9l0x',\n",
       " u'Lamborghini to launch SUV in 2018 http://t.co/vmUiItkNYd http://t.co/UhYh2e46zI',\n",
       " u\"Watch live at noon: Snapchat's IPO, Tiffany soars and Michael Kors slides http://t.co/MPFIViMYPu\",\n",
       " u'Unemployment rates fell in 23 US states in April http://t.co/1OLDepMnaH',\n",
       " u'Pimco and Hedge Funds Are Fighting Over Subprime Scraps http://t.co/L2I1X1Mijo',\n",
       " u'Why a Microsoft buyout of Salesforce makes sense, then doesn\\u2019t http://t.co/UYiFAQNv31 via @Bidnessetc $CRM http://t.co/uDkOtt5gY2',\n",
       " u'Michael Kors posts slowest revenue growth since going public http://t.co/FYUQfW7dUO $KORS',\n",
       " u'Airbus plans Silicon Valley innovation center http://t.co/1Xb4qbJUpE',\n",
       " u'Here is how AstraZeneca and Amgen will be hit by the cancelled collaboration http://t.co/SLz5A5JiG1 via @Bidnessetc $AMGN',\n",
       " u'Why Oracle is a solid castle http://t.co/YEVrGDtRda via @Valuentum $ORCL http://t.co/7pMEzU0CE5',\n",
       " u'The breadth deterioration is real http://t.co/o5GuFqx2wt via @ZorTrades $SPY',\n",
       " u\"McDonald's to stop reporting monthly same-store sales after June http://t.co/7wORazlZSO\",\n",
       " u\"The Russian billionaires hit hard by oil's plunge http://t.co/oO5eD22Jyx\",\n",
       " u'Short in May and go away http://t.co/R4FPWVCCLE via @DougKass $SPY http://t.co/iGyw1eqLs4',\n",
       " u'Why hasn\\u2019t Nationstar Mortgage been sued yet? http://t.co/X4X6U7ouaA via @TheDealNewsroom $NSM http://t.co/iEpZiswG16',\n",
       " u'To win in the stock market you have to be willing to lose http://t.co/DYgLKbpeVB via @awealthofcs $SPY http://t.co/niV8l6fr3f',\n",
       " u'The Mansions That Are Swallowing Suburban Homes http://t.co/CNehktihuB',\n",
       " u\"OPEC Will Back Saudi Arabia's Plan to Keep Supplies Elevated http://t.co/vWF3KroZs4\",\n",
       " u'Snapchat CEO sees a bubble, blames interest rates http://t.co/S6d3GFiB6v',\n",
       " u'Early movers: $TIF, $KORS, $TOL, $BWS, $HRL &amp; more http://t.co/UdclirygVg',\n",
       " u'Luxury Brands Shrink $7 Billion in Value http://t.co/atKBNPJmIe',\n",
       " u'What Chicago\\u2019s fiscal emergency says about the quality of credit analysis in the municipal bond market http://t.co/wDZYocX6o6 via @munilass',\n",
       " u'Why at the end of the day consumers will have the final say on rates http://t.co/qWEoc7VdFe via @peterckenny $TLT http://t.co/kLeFArEo0F',\n",
       " u'Solar as Fastest Growing U.S. Power Source Rivals Shale Boom http://t.co/0gwNAayYd1',\n",
       " u'A breakout to nowhere http://t.co/3GXesOPZ8I via @JLyonsFundMgmt $SPY http://t.co/9yobQufvVL',\n",
       " u'The average U.S. consumer should be happy and confident http://t.co/gwHsYfGtQc via @Financial_Orbit',\n",
       " u'The Transports have left the rails http://t.co/oKeCHDeWFo via @harmongreg $IYT http://t.co/qicZzyvbLt',\n",
       " u'Bernanke sees no risk of hard landing in China, bullish on U.S. economy http://t.co/uvE7F2pR50',\n",
       " u'Greece Said Likely to Miss May Deal Deadline as Talks Falter http://t.co/Z4n35om759',\n",
       " u'Michael Kors posts slowest sales growth in 14 quarters http://t.co/oeYIgB58gZ',\n",
       " u'Tiffany tops Street 1Q forecasts http://t.co/vH3epaHMVl',\n",
       " u'Toll Brothers meets 2Q profit forecasts http://t.co/eOQevH9y2f',\n",
       " u'Cost of data breaches increasing to average of $3.8 million, study says http://t.co/MqrWUiq6GR',\n",
       " u'Bug causes message to crash certain Apple iOS devices. No immediate comment from $AAPL. http://t.co/PG3lmjmBh2',\n",
       " u\"Here's the case for buying today's dip on Wall Street. http://t.co/CURP9d14P0\",\n",
       " u'Home Depot\\u2019s 1Q15 results show continued operational strength http://t.co/XlF1WaHlnP via @treetis $HD',\n",
       " u'Oil to stabilize amid production worries, one expert says. http://t.co/8DXX90tC3X',\n",
       " u'7 money moves financially savvy couples should make http://t.co/P3EbImnvDk via @marybstorj',\n",
       " u'Europe woes and U.S. rate hike prospects depress stocks, boost dollar. http://t.co/nvpesewdow',\n",
       " u'Can Wal-Mart hold up against pressure from Amazon? http://t.co/MyAG6vwe9U via @Bidnessetc $AMZN',\n",
       " u'.@jimcramer: Spotting gems amid the market rubble. http://t.co/6ZAt1sOc2D',\n",
       " u'Jabil Circuit is poised for more outperformance http://t.co/yjrEzPD9UF via @QuantifiedAlpha $JBL',\n",
       " u'Top 10 highest-paid CEOs http://t.co/BLbuafBzJz',\n",
       " u'CEO pay: biggest raises and biggest cuts of 2014 http://t.co/3Ikw6nbErK',\n",
       " u'Vox Media is buying tech publication ReCode. http://t.co/yHf8dqJv76',\n",
       " u'What Michael Kors, Tiffany earnings say about high-end consumers. http://t.co/RnKvuOK4bb $KORS $TIF',\n",
       " u'Vox Media is buying tech news website ReCode, @nytimes reports.',\n",
       " u'RT @CNBCnow: JUST IN: Fed Chair Yellen will not attend Jackson Hole meeting this year, may attend in future. (via @steveliesman)\\nhttps://t.\\u2026',\n",
       " u'Michael Kors will continue to walk all over earnings http://t.co/H0o5uzxWtV via @QuantifiedAlpha $KORS http://t.co/YeGf3jyEsS',\n",
       " u'http://t.co/gaLk9Lo5md to hire 6,000 full-time staffers across its U.S. fulfillment network. http://t.co/Ab5mOIbC5Y $AMZN',\n",
       " u'BofA Merrill: Here\\u2019s how to tap into Millennials\\u2019 burgeoning influence. http://t.co/iyGkqQaGbC',\n",
       " u'IRS says thieves stole tax info from 100,000. http://t.co/AYUDA0aDef',\n",
       " u'Bear strike: U.S. stocks sink 1% as greenback rallies. http://t.co/GUgkkoY1Uy http://t.co/vjcjcscmlm',\n",
       " u'Amazon drops popular tax avoidance strategy  http://t.co/jl0SohGNW2 $AMZN',\n",
       " u'Chinese stocks continue surges...and it may not change anytime soon http://t.co/KOMpDP2mBd',\n",
       " u'Jabil Circuit is poised for more outperformance http://t.co/IlTHyGu9CV via @QuantifiedAlpha $JBL http://t.co/izcrlEkxxz',\n",
       " u'How did the through-train work out? http://t.co/SHrcMadnTo via @ReformedBroker $FXI http://t.co/H6CQj8WrrP',\n",
       " u'RT @ampressman: Amazon\\u2019s going tp pay more taxes Europe says it owes. Anyone else? &lt;crickets&gt;. Discussing with @aarontask http://t.co/eZg1X\\u2026',\n",
       " u\"RT @rickjnewman: Don't miss it! RT @HalfBankrupt Wed on @StocksNJocks @RickJNewman of @YahooFinance joins the show to talk #Obamacare http:\\u2026\",\n",
       " u\"The son of China's richest man bought two Apple watches for his dog because four would have been tacky http://t.co/37vibFylfd\",\n",
       " u'Connecticut exec flees U.S. after insider trading, fraud claims -SEC http://t.co/er5ZHynK51',\n",
       " u'Time Warner Cable CEO Eligible for $85 Million Golden Parachute http://t.co/eGAsawwFfM',\n",
       " u'Retail to rebound? http://t.co/qTqz99lsH7 via Cynthia DiBartolo $RTH http://t.co/2v22G4LzU3',\n",
       " u'6 important market charts in the past week http://t.co/J9X8YCvjn8 via @361Capital $SPY http://t.co/TSpSTPlnWz',\n",
       " u'Dollar/Yen breaks 18-year resistance, good for Nikkei? http://t.co/XIXtqOoxu0 via @KimbleCharting $EWJ http://t.co/fTiQ2psEh1',\n",
       " u'The auto industry looks beyond ownership http://t.co/NzAoKkHRG7 via @BV $F',\n",
       " u'How should investors prepare for rising rates? http://t.co/SUnd8cdblx via @michaelbatnick $SPY http://t.co/KAtCoDZI2p',\n",
       " u'Can Wal-Mart hold up against pressure from Amazon? http://t.co/OUwcY5sPfV via @Bidnessetc $AMZN http://t.co/kgAyZlWSeb',\n",
       " u\"Growth in billionaires' wealth to taper off http://t.co/2jO7oF9LFl\",\n",
       " u'A tale of two luxury retailers http://t.co/7Q2NQuXMBT via @Estimize $KORS http://t.co/gWAKmnI2aP',\n",
       " u'Why EMC bought Virtustream for $1.2 billion http://t.co/4XgyJOfijP via @Financial_Orbit $EMC http://t.co/yhNhM0KMAG',\n",
       " u'$430 Cowboy Boots and Other Reasons to Be Excited About Stocks http://t.co/reQ59yrtT4',\n",
       " u'Best ways to invest $1,000 now http://t.co/bY5aa7Y7qJ via @JeffReevesIP $SPY',\n",
       " u'Trading: about bulls, bears and pigs http://t.co/cpr8TWXqzk via @ivanhoff http://t.co/BsWVRsEyRA',\n",
       " u'7 money moves financially savvy couples should make http://t.co/kRyR8QfgtM via @marybstorj http://t.co/31eaTBrPeD',\n",
       " u'California Dreaming: Record $500 Million Tag on L.A. Home http://t.co/ZPkkY4iqfG',\n",
       " u\"Charter's Deal Faces Lower Regulatory Barrier Than Comcast's http://t.co/uUbfmp3c1U $CHTR $TWC\",\n",
       " u'Dealmaking moves EMC, TWC &amp; Charter, downgrade slams First Solar http://t.co/CRIy7oCGPz $EMC, $TWC &amp; $CHTR $FSLR',\n",
       " u'Italian court bans Uber http://t.co/DldUx5x0Xg',\n",
       " u'U.S. stocks fall the most in three weeks as dollar soars http://t.co/wHaItUSXcf',\n",
       " u'How to find success late in life http://t.co/M9DtdQctiE via @jaltucher http://t.co/bKPsZ2b0Dz',\n",
       " u'Top financial websites to prepare for your trading day http://t.co/cYLvD0fndX via @smbcapital http://t.co/f7iM6O5dOT',\n",
       " u'Blocked in China, Twitter still courts Chinese firms for ads http://t.co/mefKfSMOWi $TWTR',\n",
       " u'Nielsen survey says Liam Neeson is big ad man http://t.co/5thZKPEMmC',\n",
       " u'RT @mandiwoodruff: What happened when one woman decided to track down her identity thief: http://t.co/2AeURlQqnm via @YahooFinance http://t\\u2026',\n",
       " u'Foxconn plans 10-12 new Indian facilities by 2020 - chairman http://t.co/gLcaewiFix',\n",
       " u'Stunning 36 percent rise in US visits to Cuba since January http://t.co/XMAnyrUVQ5',\n",
       " u\"RT @robpegoraro: No, GM doesn't own your car--but it does own an accelerating #copyfight over who can touch its code. At @YahooTech: https:\\u2026\",\n",
       " u'Home Depot\\u2019s 1Q15 results show continued operational strength http://t.co/G0IICfzfuj via @treetis $HD http://t.co/FaemqkJlFo',\n",
       " u'US new-home sales rose 6.8 percent in April; increased demand pushing median prices near $300k http://t.co/LLwgDjrmOu',\n",
       " u'Olive Garden: At least 1 more breadstick creation on the way http://t.co/1uEz1MvArX',\n",
       " u'After bruising safety crisis, US car watchdog shows its bite http://t.co/izpk31A6WF',\n",
       " u'US home prices rose at steady pace in March from year ago http://t.co/4l0bpCUkBm',\n",
       " u'CEO pay: biggest raises and biggest cuts of 2014 http://t.co/QGeGpSxp8O',\n",
       " u'Considering the investment impact of Baby Boomers\\u2019 retirement http://t.co/HJcXz1NvdM via Mitch Zacks',\n",
       " u'Orders to US factories for durable goods slip 0.5 percent, but investment category shows gain http://t.co/5KaMzqeKjm',\n",
       " u'2 dead, several hurt in shooting at Grand Forks Wal-Mart http://t.co/GdLV1v7Eai',\n",
       " u'Why I don\\u2019t expect a rate hike anytime soon http://t.co/rixhYM68CQ via @DeadCosWalking $ITB http://t.co/11Kbcs1E5a',\n",
       " u'Higher volatility ahead http://t.co/JQoBj8vBqV via @ukarlewitz $SPY http://t.co/FbEgOxwHKe',\n",
       " u'How the Marines shaped our investment philosophy http://t.co/oBnIRUJGTO via @alphaarchitect $SPY http://t.co/yZDrBis6ak',\n",
       " u'Small cap volatility hitting historic lows http://t.co/S1HOOVJzCW via @JLyonsFundMgmt $IWM',\n",
       " u'Early movers: $TWC, $AAPL, $CTRP, $CRM, $GM &amp; more http://t.co/DC2tNgdOhz',\n",
       " u'Ignore the annual first quarter recession http://t.co/T47SpPtJ8E via @ReformedBroker $SPY http://t.co/NC6UcjOkT3',\n",
       " u'Your margin is my opportunity: Why Alibaba could be the Amazon killer http://t.co/ehBgGqHPlm via @Applico $AMZN http://t.co/mdkKaIWYIH',\n",
       " u'RT @JeffMacke: .@ppearlman In terms of service Charter/ TWC is akin to $AAL and $DAL merging by using all the seats and scrapping 1/2 the p\\u2026',\n",
       " u'Top 10 highest-paid CEOs http://t.co/aGlN9p55Yd',\n",
       " u'Apple promotes tech guru Jonathan Ive as head of design http://t.co/DgUeEakGUi',\n",
       " u'Amazon pays $16 million tax in Germany, while making $11.9 billion sales http://t.co/bYbSWWG7kT',\n",
       " u'Oil drops to $65 on U.S. shale outlook, dollar http://t.co/IORIX3Q2vI',\n",
       " u'Charter Communications confirms $55.33 billion acquisition of Time Warner Cable http://t.co/0VEUkfCcoK',\n",
       " u\"Rents are rising, but don't expect broad inflation to surge http://t.co/N5hhmP0YLp\",\n",
       " u'Couples, avoid these three common money mistakes http://t.co/xgn54vidBG',\n",
       " u'How this woman tracked down her identity thief. http://t.co/xBvCKsbI1x http://t.co/f34tYOXpzQ',\n",
       " u'Walmart and Target face no certain future http://t.co/aTsRdyYQDA via @Valuentum $WMT',\n",
       " u\"Rents are rising, but don't expect broad inflation to surge http://t.co/BVvwV5Phde\",\n",
       " u'Warren Buffett: Activist investor? http://t.co/LOwiVrVpwM via @CFAinstitute $BRK-A',\n",
       " u'An expectation of reflation http://t.co/81iKIBenib via @MktAnthropology $TLT',\n",
       " u'4 ways to improve your retirement savings http://t.co/RkIxsSaVSc via @awealthofcs',\n",
       " u'Buy Exxon and sell Chevron if you think oil will hover at $60 per barrel http://t.co/vVt4O1JPjH via @TheDealNewsroom',\n",
       " u'6 things going wrong in America http://t.co/NBvq1BZYHK',\n",
       " u'3 bearish studies that may foreshadow the death of this bull market http://t.co/LUNHsqQp2f via @jessefelder $SPY http://t.co/dfWTN6oQuU',\n",
       " u'More weight added to equity bear case http://t.co/eQrH0KTOiw via @JLyonsFundMgmt $RSP http://t.co/cHeP21kF7B',\n",
       " u\"Why a shrinking US economy last quarter isn't cause for fear http://t.co/O1A33R3LBN\",\n",
       " u'U.S. airlines stocks; Here is why they might fly again http://t.co/AwH5jIia2b via @Bidnessetc $UAL http://t.co/o8SBy5o4vw',\n",
       " u'As its stock returns to $200, Goldman embodies more stable, less fun Wall Street. http://t.co/XQIRXLR2O0 $GS',\n",
       " u\"Exclusive: @serwer gets sneak preview of new products from Google's head of products @sundarpichai http://t.co/G8p3dmUkw0\",\n",
       " u'3 tips for getting work done: better, faster, cheaper http://t.co/HQprllHSCX via @jodygmiller http://t.co/YRADvfo7BP',\n",
       " u'Dear Fed: Please don\\u2019t strangle a nascent housing boom http://t.co/W6rHpvgmg3 via @jimcramer $TOL http://t.co/JhQMtDVoup',\n",
       " u\"Bankruptcy judge 'deeply concerned' about unfunded pensions http://t.co/mEq5kqvrS8\",\n",
       " u\"Instead of Playing Golf, the World's Elderly Are Staging Heists and Robbing Banks http://t.co/GqOzUEUkGY\",\n",
       " u'Why this airline stock is ready to land http://t.co/qcM57nFNW6 via @ZorTrades $AAL',\n",
       " u'A roadmap for the trading day http://t.co/l3MTsFyMg4 via @AdamHGrimes http://t.co/HFoCwCvbVL',\n",
       " u'RT @YahooTech: Man Slapped with $120 Ticket for Using Apple Watch While Driving http://t.co/z5SiEa7qmj http://t.co/4OkYZsjnB0',\n",
       " u\"RT @Rafe: I'm at Google IO today. Here's what we expect.  https://t.co/y3xXmD033c via @YahooTech\",\n",
       " u'How to be a bad leader http://t.co/9ubHTMpYmz via @jaltucher http://t.co/6RDKGkAr6M',\n",
       " u'GameStop expectations are muted ahead of the earnings report http://t.co/Dg5D8eZ7uT via @Estimize $GME http://t.co/zQVrwCcqlB',\n",
       " u'The real reason behind the fall of Blackberry http://t.co/acArkfuuqy via @Applico $BBRY http://t.co/dJvDlqLqbW',\n",
       " u\"That's Business, Man: Why Jay Z's Tidal Is a Complete Disaster http://t.co/A2lu81FKOx\",\n",
       " u'Appeals court: Apple must submit to imposition of monitor http://t.co/u6YQ4iFGRO',\n",
       " u'Lawyer: Tracy Morgan happy Wal-Mart crash lawsuit behind him http://t.co/PEsASaK0up',\n",
       " u'E-Cigarettes - A threat or opportunity for the tobacco industry? http://t.co/meitPxWWPH via @Bidnessetc $MO http://t.co/kjCMirkW05',\n",
       " u'Individual S&amp;P 500 stocks are not rising with the index http://t.co/c3wvmldxnf via @AndrewThrasher $SPY',\n",
       " u'A history of M&amp;A deal toys http://t.co/6LUsrzYv3a via @TheDealNewsroom http://t.co/l0DRIsXzMM',\n",
       " u'Is this the end of a 35 year bull market in stocks and bonds? http://t.co/oEaYcjfC7W via @awealthofcs $TLT',\n",
       " u'U.S. jobless claims up, but still point to labor market strength http://t.co/4RqjssuLy7',\n",
       " u'Market trading in 4th tightest range in 115 years http://t.co/rpgCJOxR5v via @KimbleCharting $DIA http://t.co/ucfRUYirCj',\n",
       " u'Is rent out of reach? Study shows how 11 US cities stack up http://t.co/CFy4Ab9EJ1',\n",
       " u'3 charts that will rekindle your interest in financial market history http://t.co/L2t2UbevEg via @CFAinstitute http://t.co/ERJ9GJno5h',\n",
       " u'Less than 1% June through October following pre-election year May gain http://t.co/HpElUjGTap via @AlmanacTrader $SPY http://t.co/gRUfvqcjmz',\n",
       " u'Bull market dealt a significant blow? http://t.co/6aNlNXrLXx via @JLyonsFundMgmt $DIA http://t.co/Ph758fQbSt',\n",
       " u'The Baltic Dry Index. What it is telling us is sobering http://t.co/sL8t2rdL9b via @peterckenny http://t.co/HePQb9ppZU',\n",
       " u'Stock buybacks: Mostly an accounting sleight of hand http://t.co/nnzIAMJzbZ via @CharlesSizemore http://t.co/3AihNy4DyQ',\n",
       " u'Michael Kors wounds self-inflicted http://t.co/cePLlrX1Rk via @TALENTEDBLONDE $KORS http://t.co/m6oKh605qK',\n",
       " u'Avago to Buy Broadcom for $37 Billion in Biggest Chip Deal http://t.co/FQkzTReK0Q',\n",
       " u'Visa becomes first FIFA sponsor to warn it could jump ship http://t.co/RjordPaRfk',\n",
       " u'Amazon to offer free same-day delivery to Prime members http://t.co/9AvoTiXKAd $AMZN',\n",
       " u'Japanese yen slides to 12-year low against U.S. dollar as Yellen builds case for rate hike. http://t.co/dlshY1zLIE',\n",
       " u\"Apple Watch debut 'less than spectacular,' analyst says. http://t.co/JxvUxthjwr $AAPL\",\n",
       " u'The Class of 2015 could use a wakeup call http://t.co/ah0JH7HgmC http://t.co/1SNMCLb14t',\n",
       " u'President Nixon: The man who sold the world fiat money http://t.co/tW5ABGdj7x via @CFAinstitute $UUP',\n",
       " u'To win in the stock market you have to be willing to lose http://t.co/5qAfRJpgHV via @awealthofcs $SPY',\n",
       " u'Why a Microsoft buyout of Salesforce makes sense, then doesn\\u2019t http://t.co/W2DO5YJxIn via @Bidnessetc $CRM',\n",
       " u'Ulta expecting another great quarterly report tomorrow http://t.co/tgpFbn6vJv via @Estimize $ULTA http://t.co/8Dgvl16Okg',\n",
       " u\".@BlackRock CEO Fink tells @serwer our biggest risk isn't China or interest rates: It's us.  http://t.co/fraV4xepRo\",\n",
       " u'The Class of 2015 could use a wakeup call http://t.co/WkYMfUIbdC http://t.co/xrcH1qFmjq',\n",
       " u'President Nixon: The man who sold the world fiat money http://t.co/4wQygpGDKv via @CFAinstitute $UUP http://t.co/AOONYOsySu',\n",
       " u\"BlackRock's Fink says our biggest risk isn't China or interest rates: It's us  http://t.co/Ccr9gKAanA\",\n",
       " u'Abercrombie hopes latest changes will spur sales http://t.co/fvc5247lFn via @Estimize $ANF',\n",
       " u'Volatility for Breakfast: Egg and Bacon Prices Go Opposite Ways http://t.co/dl0ELmq3qd',\n",
       " u'Why it\\u2019s so important for a stock operator to \\u2018know thyself\\u2019 http://t.co/n8aE1lkt4E via @jessefelder $SPY http://t.co/oPIJS7goKb',\n",
       " u'The bullish healthcare sector setup http://t.co/DMtzr3psCD via @KimbleCharting $XLV',\n",
       " u'RT @ampressman: http://t.co/I5mE68oPQM is growing fast - and profitably - as it lines up an IPO. But competition abounds on all sides http:\\u2026',\n",
       " u\"Stocks we're watching: $dsw steps up, rough day for $wday, $kors tanks to 52-wk low\\nhttp://t.co/oEYUCCwlom\"]"
      ]
     },
     "execution_count": 740,
     "metadata": {},
     "output_type": "execute_result"
    }
   ],
   "source": [
    "tweets = []\n",
    "cursor = datatweets.find({})\n",
    "for d in range(datatweets.count()):\n",
    "    tweet_text = cursor.next()\n",
    "    print tweet_text\n",
    "    tweets.append(tweet_text['text'])\n",
    "tweets"
   ]
  },
  {
   "cell_type": "markdown",
   "metadata": {},
   "source": [
    "## Summarizing all most recent 200 Tweets"
   ]
  },
  {
   "cell_type": "code",
   "execution_count": 741,
   "metadata": {
    "collapsed": false
   },
   "outputs": [],
   "source": [
    "stopw = [str('http'), str('https'), str('['), str(']'), str('rt'), str('%'), str('@'), str('#')]\n",
    "stopngram = stopwords.words('english')\n",
    "stopngram += ['.', ',', '(', ')', \"'\", '\"', 'http', 'RT']"
   ]
  },
  {
   "cell_type": "code",
   "execution_count": 742,
   "metadata": {
    "collapsed": false
   },
   "outputs": [],
   "source": [
    "adjectives = {}\n",
    "nouns = {}\n",
    "adverbs = {}\n",
    "verbs = {}\n",
    "for t in tweets:\n",
    "    words = word_tokenize(t)\n",
    "    for p in pos_tag(words):\n",
    "        tags = p[1][:2]\n",
    "        keys = p[0].encode('utf8')\n",
    "        keys = keys.lower()   \n",
    "        if keys not in stopw and str('/') not in keys and \"\\\\\" not in r\"%r\" % keys:\n",
    "            if tags == 'NN':\n",
    "                nouns.setdefault(keys,0)\n",
    "                nouns[keys] += 1"
   ]
  },
  {
   "cell_type": "code",
   "execution_count": 743,
   "metadata": {
    "collapsed": false
   },
   "outputs": [
    {
     "name": "stdout",
     "output_type": "stream",
     "text": [
      "                 spy 15\n",
      "                u.s. 13\n",
      "                kors 13\n",
      "              market 12\n",
      "                 ceo 9\n",
      "              stocks 9\n",
      "          bidnessetc 7\n",
      "             michael 6\n",
      "               apple 6\n",
      "                 man 6\n"
     ]
    }
   ],
   "source": [
    "for words, count in sorted(nouns.items(), key = itemgetter(1), reverse=True)[:10]:\n",
    "    print '%20s %i' % (words, count)"
   ]
  },
  {
   "cell_type": "code",
   "execution_count": 744,
   "metadata": {
    "collapsed": false
   },
   "outputs": [
    {
     "name": "stdout",
     "output_type": "stream",
     "text": [
      "      via Bidnessetc 7\n",
      "        Michael Kors 6\n",
      "     via awealthofcs 4\n",
      "    via CFAinstitute 4\n",
      "        via Estimize 4\n",
      "  via JLyonsFundMgmt 4\n",
      "       via Valuentum 3\n",
      " via QuantifiedAlpha 3\n",
      "      interest rates 3\n",
      " via TheDealNewsroom 3\n"
     ]
    }
   ],
   "source": [
    "counter = defaultdict(int)\n",
    "n = 2\n",
    "for doc in tweets:\n",
    "    words = TextBlob(doc).words\n",
    "    words = [w for w in words if w not in stopngram]\n",
    "    bigrams = ngrams(words, n)\n",
    "    for gram in bigrams:\n",
    "        counter[gram] += 1\n",
    "            \n",
    "for gram, count in sorted(counter.items(), key = itemgetter(1), reverse=True)[:10]:\n",
    "    phrase = \" \".join(gram)\n",
    "    print '%20s %i' % (phrase, count)"
   ]
  },
  {
   "cell_type": "code",
   "execution_count": 745,
   "metadata": {
    "collapsed": false
   },
   "outputs": [
    {
     "name": "stdout",
     "output_type": "stream",
     "text": [
      "  via Bidnessetc CRM 2\n",
      "Circuit poised outperformance 2\n",
      "    could use wakeup 2\n",
      "Jabil Circuit poised 2\n",
      "Why Microsoft buyout 2\n",
      "        To win stock 2\n",
      "       7 money moves 2\n",
      "     sold world fiat 2\n",
      "expect broad inflation 2\n",
      "    world fiat money 2\n"
     ]
    }
   ],
   "source": [
    "counter = defaultdict(int)\n",
    "n = 3\n",
    "for doc in tweets:\n",
    "    words = TextBlob(doc).words\n",
    "    words = [w for w in words if w not in stopngram]\n",
    "    bigrams = ngrams(words, n)\n",
    "    for gram in bigrams:\n",
    "        counter[gram] += 1\n",
    "            \n",
    "for gram, count in sorted(counter.items(), key = itemgetter(1), reverse=True)[:10]:\n",
    "    phrase = \" \".join(gram)\n",
    "    print '%20s %i' % (phrase, count)"
   ]
  },
  {
   "cell_type": "code",
   "execution_count": 746,
   "metadata": {
    "collapsed": false
   },
   "outputs": [
    {
     "name": "stdout",
     "output_type": "stream",
     "text": [
      "raises biggest cuts 2014 2\n",
      "stock market willing lose 2\n",
      "interest rates It 's 2\n",
      "Why Oracle solid castle 2\n",
      "Michael Kors posts slowest 2\n",
      "n't expect broad inflation 2\n",
      "Salesforce makes sense doesn’t 2\n",
      "sold world fiat money 2\n",
      "Class 2015 could use 2\n",
      "Home Depot’s 1Q15 results 2\n"
     ]
    }
   ],
   "source": [
    "counter = defaultdict(int)\n",
    "n = 4\n",
    "for doc in tweets:\n",
    "    words = TextBlob(doc).words\n",
    "    words = [w for w in words if w not in stopngram]\n",
    "    bigrams = ngrams(words, n)\n",
    "    for gram in bigrams:\n",
    "        counter[gram] += 1\n",
    "            \n",
    "for gram, count in sorted(counter.items(), key = itemgetter(1), reverse=True)[:10]:\n",
    "    phrase = \" \".join(gram)\n",
    "    print '%20s %i' % (phrase, count)"
   ]
  },
  {
   "cell_type": "markdown",
   "metadata": {},
   "source": [
    "## Summarizing Tweets containing a chosen Keyword"
   ]
  },
  {
   "cell_type": "code",
   "execution_count": 759,
   "metadata": {
    "collapsed": true
   },
   "outputs": [],
   "source": [
    "keyword = 'kors'"
   ]
  },
  {
   "cell_type": "code",
   "execution_count": 760,
   "metadata": {
    "collapsed": false
   },
   "outputs": [
    {
     "data": {
      "text/plain": [
       "'kors'"
      ]
     },
     "execution_count": 760,
     "metadata": {},
     "output_type": "execute_result"
    }
   ],
   "source": [
    "keyword = str(keyword)\n",
    "keyword = keyword.lower()\n",
    "keyword"
   ]
  },
  {
   "cell_type": "code",
   "execution_count": 761,
   "metadata": {
    "collapsed": false
   },
   "outputs": [
    {
     "data": {
      "text/plain": [
       "9"
      ]
     },
     "execution_count": 761,
     "metadata": {},
     "output_type": "execute_result"
    }
   ],
   "source": [
    "tweets_match = []\n",
    "for r in tweets:\n",
    "    if keyword in r.lower():\n",
    "        tweets_match.append(r)\n",
    "\n",
    "len(tweets_match)"
   ]
  },
  {
   "cell_type": "code",
   "execution_count": 762,
   "metadata": {
    "collapsed": false
   },
   "outputs": [],
   "source": [
    "adjectives = {}\n",
    "nouns = {}\n",
    "adverbs = {}\n",
    "verbs = {}\n",
    "for t in tweets_match:\n",
    "    words = word_tokenize(t)\n",
    "    for p in pos_tag(words):\n",
    "        tags = p[1][:2]\n",
    "        keys = p[0].encode('utf8')\n",
    "        keys = keys.lower()   \n",
    "        if keys not in stopw and str('/') not in keys and keyword not in keys and \"\\\\\" not in r\"%r\" % keys:\n",
    "            if tags == 'JJ':\n",
    "                adjectives.setdefault(keys,0)\n",
    "                adjectives[keys] += 1\n",
    "            if tags == 'NN':\n",
    "                nouns.setdefault(keys,0)\n",
    "                nouns[keys] += 1\n",
    "            if tags == 'RB':\n",
    "                adverbs.setdefault(keys,0)\n",
    "                adverbs[keys] += 1\n",
    "            if tags == 'VB':\n",
    "                verbs.setdefault(keys,0)\n",
    "                verbs[keys] += 1"
   ]
  },
  {
   "cell_type": "code",
   "execution_count": 763,
   "metadata": {
    "collapsed": false
   },
   "outputs": [
    {
     "name": "stdout",
     "output_type": "stream",
     "text": [
      "               posts 2\n",
      "                  's 1\n",
      "            continue 1\n",
      "            watching 1\n",
      "                 say 1\n"
     ]
    }
   ],
   "source": [
    "for words, count in sorted(verbs.items(), key = itemgetter(1), reverse=True)[:5]:\n",
    "    print '%20s %i' % (words, count)"
   ]
  },
  {
   "cell_type": "code",
   "execution_count": 764,
   "metadata": {
    "collapsed": false
   },
   "outputs": [
    {
     "name": "stdout",
     "output_type": "stream",
     "text": [
      "             slowest 2\n",
      "                 low 1\n",
      "      self-inflicted 1\n",
      "            high-end 1\n",
      "               rough 1\n"
     ]
    }
   ],
   "source": [
    "for words, count in sorted(adjectives.items(), key = itemgetter(1), reverse=True)[:5]:\n",
    "    print '%20s %i' % (words, count)"
   ]
  },
  {
   "cell_type": "code",
   "execution_count": 765,
   "metadata": {
    "collapsed": false
   },
   "outputs": [
    {
     "name": "stdout",
     "output_type": "stream",
     "text": [
      "             michael 6\n",
      "             tiffany 2\n",
      "              growth 2\n",
      "            earnings 2\n",
      "                 tif 2\n"
     ]
    }
   ],
   "source": [
    "for words, count in sorted(nouns.items(), key = itemgetter(1), reverse=True)[:5]:\n",
    "    print '%20s %i' % (words, count)"
   ]
  },
  {
   "cell_type": "code",
   "execution_count": 766,
   "metadata": {
    "collapsed": false
   },
   "outputs": [
    {
     "name": "stdout",
     "output_type": "stream",
     "text": [
      "               early 1\n"
     ]
    }
   ],
   "source": [
    "for words, count in sorted(adverbs.items(), key = itemgetter(1), reverse=True)[:5]:\n",
    "    print '%20s %i' % (words, count)"
   ]
  },
  {
   "cell_type": "code",
   "execution_count": 767,
   "metadata": {
    "collapsed": false
   },
   "outputs": [
    {
     "name": "stdout",
     "output_type": "stream",
     "text": [
      "        Michael Kors 6\n",
      "          Kors posts 2\n",
      "       posts slowest 2\n",
      "self-inflicted t.co/cePLlrX1Rk 1\n",
      "         14 quarters 1\n"
     ]
    }
   ],
   "source": [
    "counter = defaultdict(int)\n",
    "n = 2\n",
    "for doc in tweets_match:\n",
    "    words = TextBlob(doc).words\n",
    "    words = [w for w in words if w not in stopngram]\n",
    "    bigrams = ngrams(words, n)\n",
    "    for gram in bigrams:\n",
    "        counter[gram] += 1\n",
    "            \n",
    "for gram, count in sorted(counter.items(), key = itemgetter(1), reverse=True)[:5]:\n",
    "    phrase = \" \".join(gram)\n",
    "    print '%20s %i' % (phrase, count)"
   ]
  },
  {
   "cell_type": "code",
   "execution_count": 768,
   "metadata": {
    "collapsed": false
   },
   "outputs": [
    {
     "name": "stdout",
     "output_type": "stream",
     "text": [
      "  Kors posts slowest 2\n",
      "  Michael Kors posts 2\n",
      " Michael Kors slides 1\n",
      "14 quarters t.co/oeYIgB58gZ 1\n",
      "    kors tanks 52-wk 1\n"
     ]
    }
   ],
   "source": [
    "counter = defaultdict(int)\n",
    "n = 3\n",
    "for doc in tweets_match:\n",
    "    words = TextBlob(doc).words\n",
    "    words = [w for w in words if w not in stopngram]\n",
    "    bigrams = ngrams(words, n)\n",
    "    for gram in bigrams:\n",
    "        counter[gram] += 1\n",
    "            \n",
    "for gram, count in sorted(counter.items(), key = itemgetter(1), reverse=True)[:5]:\n",
    "    phrase = \" \".join(gram)\n",
    "    print '%20s %i' % (phrase, count)"
   ]
  },
  {
   "cell_type": "code",
   "execution_count": 769,
   "metadata": {
    "collapsed": false
   },
   "outputs": [
    {
     "name": "stdout",
     "output_type": "stream",
     "text": [
      "Michael Kors posts slowest 2\n",
      "What Michael Kors Tiffany 1\n",
      "continue walk earnings t.co/H0o5uzxWtV 1\n",
      "Michael Kors Tiffany earnings 1\n",
      "posts slowest sales growth 1\n"
     ]
    }
   ],
   "source": [
    "counter = defaultdict(int)\n",
    "n = 4\n",
    "for doc in tweets_match:\n",
    "    words = TextBlob(doc).words\n",
    "    words = [w for w in words if w not in stopngram]\n",
    "    bigrams = ngrams(words, n)\n",
    "    for gram in bigrams:\n",
    "        counter[gram] += 1\n",
    "            \n",
    "for gram, count in sorted(counter.items(), key = itemgetter(1), reverse=True)[:5]:\n",
    "    phrase = \" \".join(gram)\n",
    "    print '%20s %i' % (phrase, count)"
   ]
  },
  {
   "cell_type": "code",
   "execution_count": null,
   "metadata": {
    "collapsed": true
   },
   "outputs": [],
   "source": []
  }
 ],
 "metadata": {
  "kernelspec": {
   "display_name": "Python 2",
   "language": "python",
   "name": "python2"
  },
  "language_info": {
   "codemirror_mode": {
    "name": "ipython",
    "version": 2
   },
   "file_extension": ".py",
   "mimetype": "text/x-python",
   "name": "python",
   "nbconvert_exporter": "python",
   "pygments_lexer": "ipython2",
   "version": "2.7.9"
  }
 },
 "nbformat": 4,
 "nbformat_minor": 0
}
