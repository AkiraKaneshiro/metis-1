{
 "cells": [
  {
   "cell_type": "code",
   "execution_count": 1,
   "metadata": {
    "collapsed": true
   },
   "outputs": [],
   "source": [
    "from pymongo import MongoClient\n",
    "import pickle"
   ]
  },
  {
   "cell_type": "code",
   "execution_count": 2,
   "metadata": {
    "collapsed": true
   },
   "outputs": [],
   "source": [
    "client = MongoClient()"
   ]
  },
  {
   "cell_type": "code",
   "execution_count": 3,
   "metadata": {
    "collapsed": true
   },
   "outputs": [],
   "source": [
    "db = client.dbsc"
   ]
  },
  {
   "cell_type": "code",
   "execution_count": 4,
   "metadata": {
    "collapsed": false
   },
   "outputs": [
    {
     "data": {
      "text/plain": [
       "[u'hmmr', u'hmr', u'system.indexes']"
      ]
     },
     "execution_count": 4,
     "metadata": {},
     "output_type": "execute_result"
    }
   ],
   "source": [
    "db.collection_names()"
   ]
  },
  {
   "cell_type": "code",
   "execution_count": 5,
   "metadata": {
    "collapsed": true
   },
   "outputs": [],
   "source": [
    "td = db.testData"
   ]
  },
  {
   "cell_type": "code",
   "execution_count": 6,
   "metadata": {
    "collapsed": true
   },
   "outputs": [],
   "source": [
    "cursor = td.find()"
   ]
  },
  {
   "cell_type": "code",
   "execution_count": 7,
   "metadata": {
    "collapsed": false
   },
   "outputs": [],
   "source": [
    "#cursor.next()"
   ]
  },
  {
   "cell_type": "code",
   "execution_count": 8,
   "metadata": {
    "collapsed": false
   },
   "outputs": [
    {
     "data": {
      "text/plain": [
       "[]"
      ]
     },
     "execution_count": 8,
     "metadata": {},
     "output_type": "execute_result"
    }
   ],
   "source": [
    "list(cursor)"
   ]
  },
  {
   "cell_type": "code",
   "execution_count": 9,
   "metadata": {
    "collapsed": false
   },
   "outputs": [
    {
     "data": {
      "text/plain": [
       "list"
      ]
     },
     "execution_count": 9,
     "metadata": {},
     "output_type": "execute_result"
    }
   ],
   "source": [
    "with open('heavy_metal_parsed.pkl', 'r') as infile:\n",
    "    reviews = pickle.load(infile)\n",
    "type(reviews)"
   ]
  },
  {
   "cell_type": "code",
   "execution_count": 10,
   "metadata": {
    "collapsed": false
   },
   "outputs": [
    {
     "data": {
      "text/plain": [
       "['raw',\n",
       " 'head',\n",
       " 'metal_cred',\n",
       " 'title',\n",
       " 'direct',\n",
       " 'solid_metal_nuggets',\n",
       " 'cast',\n",
       " 'the_meat',\n",
       " 'year',\n",
       " 'sections']"
      ]
     },
     "execution_count": 10,
     "metadata": {},
     "output_type": "execute_result"
    }
   ],
   "source": [
    "reviews[0].keys()"
   ]
  },
  {
   "cell_type": "code",
   "execution_count": 11,
   "metadata": {
    "collapsed": false
   },
   "outputs": [
    {
     "data": {
      "text/plain": [
       "{'cast': [u'Frank Zappa',\n",
       "  u'Ringo Starr',\n",
       "  u'Mark Volman',\n",
       "  u'Howard Kaylan',\n",
       "  u'Keith Moon'],\n",
       " 'direct': [u'Tony Palmer', u'Frank Zappa'],\n",
       " 'head': [u'200 MOTELS (1971)',\n",
       "  u'DIRECTORS: Tony Palmer, Frank Zappa',\n",
       "  u'CAST: Frank Zappa, Ringo Starr, Mark Volman, Howard Kaylan, Keith\\nMoon'],\n",
       " 'metal_cred': [u'METAL CRED', u'Frank Zappa', u'Nun Desecration'],\n",
       " 'raw': [u'200 MOTELS (1971)',\n",
       "  u'DIRECTORS: Tony Palmer, Frank Zappa',\n",
       "  u'CAST: Frank Zappa, Ringo Starr, Mark Volman, Howard Kaylan, Keith\\nMoon',\n",
       "  u'METAL CRED',\n",
       "  u'Frank Zappa',\n",
       "  u'Nun Desecration',\n",
       "  u'THE MEAT',\n",
       "  u'Beyond his metal sainthood for\\nbattling the censor-witches of the PMRC and getting named checked by Deep\\nPurple in \\u201cSmoke on the Water\\u201d, musical visionary Frank Zappa led many rock\\nfans to heavy metal.',\n",
       "  u'And, from there, he led many metal\\nfans to the outer expanses of rock\\u2019s possibilities.',\n",
       "  u'Zappa also opened countless banging\\nheads to the far reaches of jazz, classical, doo-wop, and any other art form\\nthat could involve (brilliant) noise and (brilliantly dumb) dirty jokes.',\n",
       "  u'200\\nMotels is Zappa\\u2019s first crack at major motion picture madness, and it\\nembodies the much forgotten cultural moment when acid rock tumbled forever into\\nthe black pits of rising heavy metal.',\n",
       "  u'Surrealistic sketches and\\npsychedelic set pieces about the insanity of a being on tour are interspersed\\namong performances in which the Mothers jam with London Philharmonic.',\n",
       "  u'Ringo Starr plays Zappa during the\\ntalking parts. Zappa himself, plays guitar throughout, demonstrating how very\\nmuch of a six-string maestro he was, every lick on par with his future\\ncollaborators Steve Vail and Yngwie Malmsteen.',\n",
       "  u'SOLID METAL NUGGETS',\n",
       "  u'\\u2022 A psychedelic cartoon interlude\\nadmiringly tweaks Black Sabbath and Grand Funk Railroad.',\n",
       "  u'\\u2022 Keith Moon, madman drummer of the\\nWho, pops up\\u2014and off\\u2014as \\u201cThe Hot Nun.\\u201d'],\n",
       " 'sections': [[u'200 MOTELS (1971)',\n",
       "   u'DIRECTORS: Tony Palmer, Frank Zappa',\n",
       "   u'CAST: Frank Zappa, Ringo Starr, Mark Volman, Howard Kaylan, Keith\\nMoon'],\n",
       "  [u'METAL CRED', u'Frank Zappa', u'Nun Desecration'],\n",
       "  [u'THE MEAT',\n",
       "   u'Beyond his metal sainthood for\\nbattling the censor-witches of the PMRC and getting named checked by Deep\\nPurple in \\u201cSmoke on the Water\\u201d, musical visionary Frank Zappa led many rock\\nfans to heavy metal.',\n",
       "   u'And, from there, he led many metal\\nfans to the outer expanses of rock\\u2019s possibilities.',\n",
       "   u'Zappa also opened countless banging\\nheads to the far reaches of jazz, classical, doo-wop, and any other art form\\nthat could involve (brilliant) noise and (brilliantly dumb) dirty jokes.',\n",
       "   u'200\\nMotels is Zappa\\u2019s first crack at major motion picture madness, and it\\nembodies the much forgotten cultural moment when acid rock tumbled forever into\\nthe black pits of rising heavy metal.',\n",
       "   u'Surrealistic sketches and\\npsychedelic set pieces about the insanity of a being on tour are interspersed\\namong performances in which the Mothers jam with London Philharmonic.',\n",
       "   u'Ringo Starr plays Zappa during the\\ntalking parts. Zappa himself, plays guitar throughout, demonstrating how very\\nmuch of a six-string maestro he was, every lick on par with his future\\ncollaborators Steve Vail and Yngwie Malmsteen.'],\n",
       "  [u'SOLID METAL NUGGETS',\n",
       "   u'\\u2022 A psychedelic cartoon interlude\\nadmiringly tweaks Black Sabbath and Grand Funk Railroad.',\n",
       "   u'\\u2022 Keith Moon, madman drummer of the\\nWho, pops up\\u2014and off\\u2014as \\u201cThe Hot Nun.\\u201d']],\n",
       " 'solid_metal_nuggets': [u'SOLID METAL NUGGETS',\n",
       "  u'\\u2022 A psychedelic cartoon interlude\\nadmiringly tweaks Black Sabbath and Grand Funk Railroad.',\n",
       "  u'\\u2022 Keith Moon, madman drummer of the\\nWho, pops up\\u2014and off\\u2014as \\u201cThe Hot Nun.\\u201d'],\n",
       " 'the_meat': [u'THE MEAT',\n",
       "  u'Beyond his metal sainthood for\\nbattling the censor-witches of the PMRC and getting named checked by Deep\\nPurple in \\u201cSmoke on the Water\\u201d, musical visionary Frank Zappa led many rock\\nfans to heavy metal.',\n",
       "  u'And, from there, he led many metal\\nfans to the outer expanses of rock\\u2019s possibilities.',\n",
       "  u'Zappa also opened countless banging\\nheads to the far reaches of jazz, classical, doo-wop, and any other art form\\nthat could involve (brilliant) noise and (brilliantly dumb) dirty jokes.',\n",
       "  u'200\\nMotels is Zappa\\u2019s first crack at major motion picture madness, and it\\nembodies the much forgotten cultural moment when acid rock tumbled forever into\\nthe black pits of rising heavy metal.',\n",
       "  u'Surrealistic sketches and\\npsychedelic set pieces about the insanity of a being on tour are interspersed\\namong performances in which the Mothers jam with London Philharmonic.',\n",
       "  u'Ringo Starr plays Zappa during the\\ntalking parts. Zappa himself, plays guitar throughout, demonstrating how very\\nmuch of a six-string maestro he was, every lick on par with his future\\ncollaborators Steve Vail and Yngwie Malmsteen.'],\n",
       " 'title': u'200 MOTELS',\n",
       " 'year': 1971}"
      ]
     },
     "execution_count": 11,
     "metadata": {},
     "output_type": "execute_result"
    }
   ],
   "source": [
    "reviews[0]"
   ]
  },
  {
   "cell_type": "code",
   "execution_count": 12,
   "metadata": {
    "collapsed": false
   },
   "outputs": [
    {
     "data": {
      "text/plain": [
       "877"
      ]
     },
     "execution_count": 12,
     "metadata": {},
     "output_type": "execute_result"
    }
   ],
   "source": [
    "len(reviews)"
   ]
  },
  {
   "cell_type": "code",
   "execution_count": 13,
   "metadata": {
    "collapsed": true
   },
   "outputs": [],
   "source": [
    "hmm = client.dsbc.hmm"
   ]
  },
  {
   "cell_type": "code",
   "execution_count": 14,
   "metadata": {
    "collapsed": false
   },
   "outputs": [
    {
     "data": {
      "text/plain": [
       "ObjectId('555e05b7bb9ab404231065ad')"
      ]
     },
     "execution_count": 14,
     "metadata": {},
     "output_type": "execute_result"
    }
   ],
   "source": [
    "hmm.insert(reviews[0])"
   ]
  },
  {
   "cell_type": "code",
   "execution_count": 15,
   "metadata": {
    "collapsed": false
   },
   "outputs": [
    {
     "data": {
      "text/plain": [
       "{u'_id': ObjectId('555ccadebb9ab40daf0a8d14'),\n",
       " u'cast': [u'Cannibis', u'Fallen Grace', u'Funeral in Heaven', u'Merlock'],\n",
       " u'direct': [u'Naveen Marasinghe', u'Dinesh Guneratne'],\n",
       " u'head': [u'ARISE: THE SRI LANKAN METAL MUSIC DOCUMENTARY (2010)\\nDIRECTORS: Naveen Marasinghe, Dinesh\\nGuneratne',\n",
       "  u'CAST: Cannibis, Fallen Grace, Funeral in Heaven, Merlock'],\n",
       " u'metal_cred': [u'METAL CRED',\n",
       "  u'Few of us were overly hip to the\\nSri Lankan metal scene before this movie.'],\n",
       " u'raw': [u'ARISE: THE SRI LANKAN METAL MUSIC DOCUMENTARY (2010)\\nDIRECTORS: Naveen Marasinghe, Dinesh\\nGuneratne',\n",
       "  u'CAST: Cannibis, Fallen Grace, Funeral in Heaven, Merlock',\n",
       "  u'METAL CRED',\n",
       "  u'Few of us were overly hip to the\\nSri Lankan metal scene before this movie.',\n",
       "  u'THE MEAT',\n",
       "  u'Shot on the fly throughout 2008 and\\n2009 by young metal fans with borrowed video cameras, Arise opens up the world of heavy metal in Sri Lanka by focusing on\\nfour bands practicing four distinct forms of the music.',\n",
       "  u'Cannibis drips stoner sludge.\\nFallen grace plays melodic death metal. Funeral in Heaven rages black metal.\\nMerlock blows minds with progressive thrash.',\n",
       "  u'SOLID METAL NUGGETS',\n",
       "  u'\\u2022 Home recording and tape trading\\nplanted heavy metal seeds all over the globe. The musicians or Arise represent that initial flowering\\u2019s\\never-growing bounty. Cheap cameras and the Internet have now made the\\ndocumentary form the next powerful stage of metal\\u2019s grassroots revolution.'],\n",
       " u'sections': [[u'ARISE: THE SRI LANKAN METAL MUSIC DOCUMENTARY (2010)\\nDIRECTORS: Naveen Marasinghe, Dinesh\\nGuneratne',\n",
       "   u'CAST: Cannibis, Fallen Grace, Funeral in Heaven, Merlock'],\n",
       "  [u'METAL CRED',\n",
       "   u'Few of us were overly hip to the\\nSri Lankan metal scene before this movie.'],\n",
       "  [u'THE MEAT',\n",
       "   u'Shot on the fly throughout 2008 and\\n2009 by young metal fans with borrowed video cameras, Arise opens up the world of heavy metal in Sri Lanka by focusing on\\nfour bands practicing four distinct forms of the music.',\n",
       "   u'Cannibis drips stoner sludge.\\nFallen grace plays melodic death metal. Funeral in Heaven rages black metal.\\nMerlock blows minds with progressive thrash.'],\n",
       "  [u'SOLID METAL NUGGETS',\n",
       "   u'\\u2022 Home recording and tape trading\\nplanted heavy metal seeds all over the globe. The musicians or Arise represent that initial flowering\\u2019s\\never-growing bounty. Cheap cameras and the Internet have now made the\\ndocumentary form the next powerful stage of metal\\u2019s grassroots revolution.']],\n",
       " u'solid_metal_nuggets': [u'SOLID METAL NUGGETS',\n",
       "  u'\\u2022 Home recording and tape trading\\nplanted heavy metal seeds all over the globe. The musicians or Arise represent that initial flowering\\u2019s\\never-growing bounty. Cheap cameras and the Internet have now made the\\ndocumentary form the next powerful stage of metal\\u2019s grassroots revolution.'],\n",
       " u'the_meat': [u'THE MEAT',\n",
       "  u'Shot on the fly throughout 2008 and\\n2009 by young metal fans with borrowed video cameras, Arise opens up the world of heavy metal in Sri Lanka by focusing on\\nfour bands practicing four distinct forms of the music.',\n",
       "  u'Cannibis drips stoner sludge.\\nFallen grace plays melodic death metal. Funeral in Heaven rages black metal.\\nMerlock blows minds with progressive thrash.'],\n",
       " u'title': u'ARISE: THE SRI LANKAN METAL MUSIC DOCUMENTARY',\n",
       " u'year': 2010}"
      ]
     },
     "execution_count": 15,
     "metadata": {},
     "output_type": "execute_result"
    }
   ],
   "source": [
    "hmm.find().next()"
   ]
  },
  {
   "cell_type": "code",
   "execution_count": 16,
   "metadata": {
    "collapsed": false
   },
   "outputs": [],
   "source": [
    "for review in reviews[1:]:\n",
    "    hmm.save(review)"
   ]
  },
  {
   "cell_type": "code",
   "execution_count": 17,
   "metadata": {
    "collapsed": true
   },
   "outputs": [],
   "source": [
    "cursor = hmm.find()"
   ]
  },
  {
   "cell_type": "code",
   "execution_count": 18,
   "metadata": {
    "collapsed": false
   },
   "outputs": [
    {
     "data": {
      "text/plain": [
       "1714"
      ]
     },
     "execution_count": 18,
     "metadata": {},
     "output_type": "execute_result"
    }
   ],
   "source": [
    "len(list(cursor))"
   ]
  },
  {
   "cell_type": "code",
   "execution_count": 19,
   "metadata": {
    "collapsed": false
   },
   "outputs": [
    {
     "data": {
      "text/plain": [
       "1714"
      ]
     },
     "execution_count": 19,
     "metadata": {},
     "output_type": "execute_result"
    }
   ],
   "source": [
    "hmm.count()"
   ]
  },
  {
   "cell_type": "code",
   "execution_count": 20,
   "metadata": {
    "collapsed": false
   },
   "outputs": [
    {
     "data": {
      "text/plain": [
       "list"
      ]
     },
     "execution_count": 20,
     "metadata": {},
     "output_type": "execute_result"
    }
   ],
   "source": [
    "type(reviews)"
   ]
  },
  {
   "cell_type": "markdown",
   "metadata": {},
   "source": [
    "# Pymongo Challenges"
   ]
  },
  {
   "cell_type": "markdown",
   "metadata": {},
   "source": [
    "## Challenge 1\n",
    "\n",
    "Make a histogram of the years in the data. How many metal movies came out over the years?\n",
    "\n",
    "## Challenge 2\n",
    "\n",
    "Find the cast member that appeared in most Heavy Metal movies. Is there one that is shared by more than one of these movies? Or are they all completely different actors for every movie?\n",
    "\n",
    "## Challenge 3\n",
    "\n",
    "Find the most used words in Heavy Metal film titles. Is there a word that appears in a lot of them? Is it \"The\"? If it is something like \"the\", How can you get around that? Find one \"meaningful\" word that appears the most (this means non-structural word, unlike \"the\" or \"a\" or \"in\")\n",
    "\n",
    "## Challenge 4\n",
    "\n",
    "METAL CRED section lists themes included in these movies that makes them more metal. What were the top 5 metal cred keywords in the 70s? In 80s? In 90s, In 2000s?\n",
    "\n",
    "## Challenge 5\n",
    "\n",
    "Let's use the length of the METAL CRED section as a proxy score for how metal a movie is. Let's call this the METAL SCORE. To each mongo document, add the metal_score as a new field.\n",
    "\n",
    "## Challenge 6\n",
    "\n",
    "Find the director that is MOST METAL per movie (director with the highest average metal score). Remember that some movies have multiple directors.\n",
    "\n",
    "## Challenge 7\n",
    "\n",
    "The majority of directors and actors will have worked on a single movie. See if there are any directors that worked with an actor more than once. If so, find the director-actor duo that have worked together the most times.\n",
    "\n",
    "## Challenge 8\n",
    "\n",
    "Create an index on the 'director' field to make the queries involving it faster. What is an index? (see Link)\n",
    "\n",
    "(see Link) Creating an index in mongo Creating an index in pymongo Single field index on mongo Mongo documentation on indexes"
   ]
  },
  {
   "cell_type": "code",
   "execution_count": 21,
   "metadata": {
    "collapsed": false
   },
   "outputs": [],
   "source": [
    "with open(\"heavy_metal_parsed.pkl\", 'r') as datafile:\n",
    "    heavy_metal_reviews = pickle.load(datafile)"
   ]
  },
  {
   "cell_type": "code",
   "execution_count": 22,
   "metadata": {
    "collapsed": false
   },
   "outputs": [
    {
     "name": "stdout",
     "output_type": "stream",
     "text": [
      "200 MOTELS (1971)\n",
      "DIRECTORS: Tony Palmer, Frank Zappa\n",
      "CAST: Frank Zappa, Ringo Starr, Mark Volman, Howard Kaylan, Keith\n",
      "Moon\n",
      "METAL CRED\n",
      "Frank Zappa\n",
      "Nun Desecration\n",
      "THE MEAT\n",
      "Beyond his metal sainthood for\n",
      "battling the censor-witches of the PMRC and getting named checked by Deep\n",
      "Purple in “Smoke on the Water”, musical visionary Frank Zappa led many rock\n",
      "fans to heavy metal.\n",
      "And, from there, he led many metal\n",
      "fans to the outer expanses of rock’s possibilities.\n",
      "Zappa also opened countless banging\n",
      "heads to the far reaches of jazz, classical, doo-wop, and any other art form\n",
      "that could involve (brilliant) noise and (brilliantly dumb) dirty jokes.\n",
      "200\n",
      "Motels is Zappa’s first crack at major motion picture madness, and it\n",
      "embodies the much forgotten cultural moment when acid rock tumbled forever into\n",
      "the black pits of rising heavy metal.\n",
      "Surrealistic sketches and\n",
      "psychedelic set pieces about the insanity of a being on tour are interspersed\n",
      "among performances in which the Mothers jam with London Philharmonic.\n",
      "Ringo Starr plays Zappa during the\n",
      "talking parts. Zappa himself, plays guitar throughout, demonstrating how very\n",
      "much of a six-string maestro he was, every lick on par with his future\n",
      "collaborators Steve Vail and Yngwie Malmsteen.\n",
      "SOLID METAL NUGGETS\n",
      "• A psychedelic cartoon interlude\n",
      "admiringly tweaks Black Sabbath and Grand Funk Railroad.\n",
      "• Keith Moon, madman drummer of the\n",
      "Who, pops up—and off—as “The Hot Nun.”\n"
     ]
    }
   ],
   "source": [
    "first_review = heavy_metal_reviews[0]\n",
    "for line in first_review['raw']:\n",
    "    print line"
   ]
  },
  {
   "cell_type": "code",
   "execution_count": 23,
   "metadata": {
    "collapsed": false
   },
   "outputs": [
    {
     "data": {
      "text/plain": [
       "877"
      ]
     },
     "execution_count": 23,
     "metadata": {},
     "output_type": "execute_result"
    }
   ],
   "source": [
    "len(heavy_metal_reviews)"
   ]
  },
  {
   "cell_type": "code",
   "execution_count": 24,
   "metadata": {
    "collapsed": false
   },
   "outputs": [
    {
     "name": "stdout",
     "output_type": "stream",
     "text": [
      "['raw', 'head', 'metal_cred', 'title', 'direct', 'solid_metal_nuggets', 'cast', 'the_meat', 'year', 'sections']\n"
     ]
    }
   ],
   "source": [
    "print first_review.keys()"
   ]
  },
  {
   "cell_type": "code",
   "execution_count": 25,
   "metadata": {
    "collapsed": false
   },
   "outputs": [
    {
     "name": "stdout",
     "output_type": "stream",
     "text": [
      "1971\n"
     ]
    }
   ],
   "source": [
    "print first_review['year']"
   ]
  },
  {
   "cell_type": "code",
   "execution_count": 26,
   "metadata": {
    "collapsed": false
   },
   "outputs": [
    {
     "data": {
      "text/plain": [
       "10"
      ]
     },
     "execution_count": 26,
     "metadata": {},
     "output_type": "execute_result"
    }
   ],
   "source": [
    "len(first_review)"
   ]
  },
  {
   "cell_type": "code",
   "execution_count": 27,
   "metadata": {
    "collapsed": false
   },
   "outputs": [
    {
     "name": "stdout",
     "output_type": "stream",
     "text": [
      "200 MOTELS (1971)\n"
     ]
    }
   ],
   "source": [
    "print first_review['raw'][0]"
   ]
  },
  {
   "cell_type": "code",
   "execution_count": 28,
   "metadata": {
    "collapsed": true
   },
   "outputs": [],
   "source": [
    "hmmr = db.hmmr"
   ]
  },
  {
   "cell_type": "code",
   "execution_count": 29,
   "metadata": {
    "collapsed": false
   },
   "outputs": [
    {
     "ename": "DuplicateKeyError",
     "evalue": "E11000 duplicate key error index: dbsc.hmmr.$_id_ dup key: { : ObjectId('555e05babb9ab40423106c48') }",
     "output_type": "error",
     "traceback": [
      "\u001b[0;31m---------------------------------------------------------------------------\u001b[0m",
      "\u001b[0;31mDuplicateKeyError\u001b[0m                         Traceback (most recent call last)",
      "\u001b[0;32m<ipython-input-29-ece1867a2af9>\u001b[0m in \u001b[0;36m<module>\u001b[0;34m()\u001b[0m\n\u001b[1;32m      1\u001b[0m \u001b[0;32mfor\u001b[0m \u001b[0mreview\u001b[0m \u001b[0;32min\u001b[0m \u001b[0mheavy_metal_reviews\u001b[0m\u001b[0;34m:\u001b[0m\u001b[0;34m\u001b[0m\u001b[0m\n\u001b[0;32m----> 2\u001b[0;31m     \u001b[0mhmmr\u001b[0m\u001b[0;34m.\u001b[0m\u001b[0minsert\u001b[0m\u001b[0;34m(\u001b[0m\u001b[0mreview\u001b[0m\u001b[0;34m)\u001b[0m\u001b[0;34m\u001b[0m\u001b[0m\n\u001b[0m",
      "\u001b[0;32m/usr/local/lib/python2.7/site-packages/pymongo/collection.pyc\u001b[0m in \u001b[0;36minsert\u001b[0;34m(self, doc_or_docs, manipulate, check_keys, continue_on_error, **kwargs)\u001b[0m\n\u001b[1;32m   1924\u001b[0m         \u001b[0;32mwith\u001b[0m \u001b[0mself\u001b[0m\u001b[0;34m.\u001b[0m\u001b[0m_socket_for_writes\u001b[0m\u001b[0;34m(\u001b[0m\u001b[0;34m)\u001b[0m \u001b[0;32mas\u001b[0m \u001b[0msock_info\u001b[0m\u001b[0;34m:\u001b[0m\u001b[0;34m\u001b[0m\u001b[0m\n\u001b[1;32m   1925\u001b[0m             return self._insert(sock_info, doc_or_docs, not continue_on_error,\n\u001b[0;32m-> 1926\u001b[0;31m                                 check_keys, manipulate, write_concern)\n\u001b[0m\u001b[1;32m   1927\u001b[0m \u001b[0;34m\u001b[0m\u001b[0m\n\u001b[1;32m   1928\u001b[0m     def update(self, spec, document, upsert=False, manipulate=False,\n",
      "\u001b[0;32m/usr/local/lib/python2.7/site-packages/pymongo/collection.pyc\u001b[0m in \u001b[0;36m_insert\u001b[0;34m(self, sock_info, docs, ordered, check_keys, manipulate, write_concern)\u001b[0m\n\u001b[1;32m    429\u001b[0m                 \u001b[0mself\u001b[0m\u001b[0;34m.\u001b[0m\u001b[0mdatabase\u001b[0m\u001b[0;34m.\u001b[0m\u001b[0mname\u001b[0m \u001b[0;34m+\u001b[0m \u001b[0;34m\".$cmd\"\u001b[0m\u001b[0;34m,\u001b[0m \u001b[0m_INSERT\u001b[0m\u001b[0;34m,\u001b[0m \u001b[0mcommand\u001b[0m\u001b[0;34m,\u001b[0m\u001b[0;34m\u001b[0m\u001b[0m\n\u001b[1;32m    430\u001b[0m                 gen(), check_keys, self.codec_options, sock_info)\n\u001b[0;32m--> 431\u001b[0;31m             \u001b[0m_check_write_command_response\u001b[0m\u001b[0;34m(\u001b[0m\u001b[0mresults\u001b[0m\u001b[0;34m)\u001b[0m\u001b[0;34m\u001b[0m\u001b[0m\n\u001b[0m\u001b[1;32m    432\u001b[0m         \u001b[0;32melse\u001b[0m\u001b[0;34m:\u001b[0m\u001b[0;34m\u001b[0m\u001b[0m\n\u001b[1;32m    433\u001b[0m             \u001b[0;31m# Legacy batched OP_INSERT.\u001b[0m\u001b[0;34m\u001b[0m\u001b[0;34m\u001b[0m\u001b[0m\n",
      "\u001b[0;32m/usr/local/lib/python2.7/site-packages/pymongo/helpers.pyc\u001b[0m in \u001b[0;36m_check_write_command_response\u001b[0;34m(results)\u001b[0m\n\u001b[1;32m    258\u001b[0m             \u001b[0merror\u001b[0m\u001b[0;34m[\u001b[0m\u001b[0;34m\"index\"\u001b[0m\u001b[0;34m]\u001b[0m \u001b[0;34m+=\u001b[0m \u001b[0moffset\u001b[0m\u001b[0;34m\u001b[0m\u001b[0m\n\u001b[1;32m    259\u001b[0m             \u001b[0;32mif\u001b[0m \u001b[0merror\u001b[0m\u001b[0;34m.\u001b[0m\u001b[0mget\u001b[0m\u001b[0;34m(\u001b[0m\u001b[0;34m\"code\"\u001b[0m\u001b[0;34m)\u001b[0m \u001b[0;34m==\u001b[0m \u001b[0;36m11000\u001b[0m\u001b[0;34m:\u001b[0m\u001b[0;34m\u001b[0m\u001b[0m\n\u001b[0;32m--> 260\u001b[0;31m                 \u001b[0;32mraise\u001b[0m \u001b[0mDuplicateKeyError\u001b[0m\u001b[0;34m(\u001b[0m\u001b[0merror\u001b[0m\u001b[0;34m.\u001b[0m\u001b[0mget\u001b[0m\u001b[0;34m(\u001b[0m\u001b[0;34m\"errmsg\"\u001b[0m\u001b[0;34m)\u001b[0m\u001b[0;34m,\u001b[0m \u001b[0;36m11000\u001b[0m\u001b[0;34m,\u001b[0m \u001b[0merror\u001b[0m\u001b[0;34m)\u001b[0m\u001b[0;34m\u001b[0m\u001b[0m\n\u001b[0m\u001b[1;32m    261\u001b[0m             \u001b[0;32mraise\u001b[0m \u001b[0mWriteError\u001b[0m\u001b[0;34m(\u001b[0m\u001b[0merror\u001b[0m\u001b[0;34m.\u001b[0m\u001b[0mget\u001b[0m\u001b[0;34m(\u001b[0m\u001b[0;34m\"errmsg\"\u001b[0m\u001b[0;34m)\u001b[0m\u001b[0;34m,\u001b[0m \u001b[0merror\u001b[0m\u001b[0;34m.\u001b[0m\u001b[0mget\u001b[0m\u001b[0;34m(\u001b[0m\u001b[0;34m\"code\"\u001b[0m\u001b[0;34m)\u001b[0m\u001b[0;34m,\u001b[0m \u001b[0merror\u001b[0m\u001b[0;34m)\u001b[0m\u001b[0;34m\u001b[0m\u001b[0m\n\u001b[1;32m    262\u001b[0m         \u001b[0;32melse\u001b[0m\u001b[0;34m:\u001b[0m\u001b[0;34m\u001b[0m\u001b[0m\n",
      "\u001b[0;31mDuplicateKeyError\u001b[0m: E11000 duplicate key error index: dbsc.hmmr.$_id_ dup key: { : ObjectId('555e05babb9ab40423106c48') }"
     ]
    }
   ],
   "source": [
    "for review in heavy_metal_reviews:\n",
    "    hmmr.insert(review)"
   ]
  },
  {
   "cell_type": "code",
   "execution_count": 30,
   "metadata": {
    "collapsed": false
   },
   "outputs": [],
   "source": [
    "#hmmr.find().next()"
   ]
  },
  {
   "cell_type": "code",
   "execution_count": 31,
   "metadata": {
    "collapsed": false
   },
   "outputs": [
    {
     "data": {
      "text/plain": [
       "1712"
      ]
     },
     "execution_count": 31,
     "metadata": {},
     "output_type": "execute_result"
    }
   ],
   "source": [
    "db.hmmr.count()"
   ]
  },
  {
   "cell_type": "code",
   "execution_count": 32,
   "metadata": {
    "collapsed": false
   },
   "outputs": [],
   "source": [
    "#d = datetime.datetime(2009, 11, 12, 12)\n",
    "#for reviews1971 in hmmr.find({\"year\": {\"$lt\": 1971}}).sort(\"title\"):\n",
    "#    print reviews1971"
   ]
  },
  {
   "cell_type": "code",
   "execution_count": 33,
   "metadata": {
    "collapsed": false
   },
   "outputs": [
    {
     "name": "stdout",
     "output_type": "stream",
     "text": [
      "None\n"
     ]
    }
   ],
   "source": [
    "print hmmr.find_one({\"_id\": \"555cede8bb9ab40daf0a9388\"})"
   ]
  },
  {
   "cell_type": "markdown",
   "metadata": {},
   "source": [
    "## Challenge 1  (Note: check .aggregate function or group() method in Pymongo)"
   ]
  },
  {
   "cell_type": "code",
   "execution_count": 34,
   "metadata": {
    "collapsed": false
   },
   "outputs": [
    {
     "data": {
      "text/plain": [
       "34"
      ]
     },
     "execution_count": 34,
     "metadata": {},
     "output_type": "execute_result"
    }
   ],
   "source": [
    "hmmr.find({\"year\": 1971}).count()"
   ]
  },
  {
   "cell_type": "code",
   "execution_count": 35,
   "metadata": {
    "collapsed": true
   },
   "outputs": [],
   "source": [
    "years = []\n",
    "for review in heavy_metal_reviews:\n",
    "    if review['year'] not in years:\n",
    "        years.append(review['year'])\n",
    "years.sort()"
   ]
  },
  {
   "cell_type": "code",
   "execution_count": 36,
   "metadata": {
    "collapsed": false
   },
   "outputs": [],
   "source": [
    "year_count = {}\n",
    "for year in years:\n",
    "    year_count[year] = hmmr.find({\"year\": year}).count()"
   ]
  },
  {
   "cell_type": "code",
   "execution_count": 37,
   "metadata": {
    "collapsed": false
   },
   "outputs": [
    {
     "name": "stdout",
     "output_type": "stream",
     "text": [
      "Populating the interactive namespace from numpy and matplotlib\n"
     ]
    },
    {
     "data": {
      "text/plain": [
       "<Container object of 74 artists>"
      ]
     },
     "execution_count": 37,
     "metadata": {},
     "output_type": "execute_result"
    },
    {
     "data": {
      "image/png": "[encoded data removed]",
      "text/plain": [
       "<matplotlib.figure.Figure at 0x107a62cd0>"
      ]
     },
     "metadata": {},
     "output_type": "display_data"
    }
   ],
   "source": [
    "import matplotlib.pyplot as plt\n",
    "%pylab inline\n",
    "year = []\n",
    "movies = []\n",
    "for y in year_count:\n",
    "    year.append(y)\n",
    "    movies.append(year_count[y])\n",
    "pos = np.arange(len(year))\n",
    "width = 1.0\n",
    "ax = plt.axes()\n",
    "ax.set_xticks(pos + (width / 2))\n",
    "ax.set_xticklabels(year)\n",
    "plt.bar(pos, movies, width, color=['blue'])"
   ]
  },
  {
   "cell_type": "markdown",
   "metadata": {},
   "source": [
    "## Challenge 2"
   ]
  },
  {
   "cell_type": "code",
   "execution_count": 38,
   "metadata": {
    "collapsed": false
   },
   "outputs": [
    {
     "name": "stdout",
     "output_type": "stream",
     "text": [
      "Ringo Starr\n"
     ]
    }
   ],
   "source": [
    "print first_review['cast'][1]"
   ]
  },
  {
   "cell_type": "code",
   "execution_count": 39,
   "metadata": {
    "collapsed": false
   },
   "outputs": [],
   "source": [
    "actors = []\n",
    "for review in heavy_metal_reviews:\n",
    "    for a in range(len(review['cast'])):\n",
    "        if review['cast'][a] not in actors:\n",
    "            actors.append(review['cast'][a])"
   ]
  },
  {
   "cell_type": "code",
   "execution_count": 40,
   "metadata": {
    "collapsed": false
   },
   "outputs": [],
   "source": [
    "actor_count = {}\n",
    "for actor in actors:\n",
    "    actor_count[actor] = hmmr.find({\"cast\": actor}).count()"
   ]
  },
  {
   "cell_type": "code",
   "execution_count": 41,
   "metadata": {
    "collapsed": true
   },
   "outputs": [],
   "source": [
    "import operator\n",
    "actors_sorted = sorted(actor_count.items(), key=lambda x: (-x[1], x[0]))"
   ]
  },
  {
   "cell_type": "code",
   "execution_count": 42,
   "metadata": {
    "collapsed": false
   },
   "outputs": [
    {
     "data": {
      "text/plain": [
       "(u'Alice Cooper', 30)"
      ]
     },
     "execution_count": 42,
     "metadata": {},
     "output_type": "execute_result"
    }
   ],
   "source": [
    "actors_sorted[1]"
   ]
  },
  {
   "cell_type": "code",
   "execution_count": 43,
   "metadata": {
    "collapsed": false
   },
   "outputs": [
    {
     "name": "stdout",
     "output_type": "stream",
     "text": [
      "ALICE COOPER: THE NIGHTMARE\n",
      "ALICE COOPER: WELCOME TO MY NIGHTMARE\n",
      "DARK SHADOWS\n",
      "THE DECLINE OF WESTERN CIVILIZATION PART II: THE METAL YEARS\n",
      "DIARY OF A MADE HOUSEWIFE\n",
      "FREDDY’S DEAD: THE FINAL NIGHTMARE\n",
      "METAL: A HEADBANGER’S JOURNEY\n",
      "MONSTER DOG\n",
      "OZZY OSBOURNE: DON’T BLAME ME\n",
      "SEXTETTE\n",
      "SGT. PEPPER’S LONELY HEARTS CLUB BAND\n",
      "THE STORY OF ROCK ‘N’ ROLL COMICS\n",
      "SUCK\n",
      "WAYNE’S WORLD\n",
      "ROADIE\n",
      "ALICE COOPER: THE NIGHTMARE\n",
      "ALICE COOPER: WELCOME TO MY NIGHTMARE\n",
      "DARK SHADOWS\n",
      "THE DECLINE OF WESTERN CIVILIZATION PART II: THE METAL YEARS\n",
      "DIARY OF A MADE HOUSEWIFE\n",
      "FREDDY’S DEAD: THE FINAL NIGHTMARE\n",
      "METAL: A HEADBANGER’S JOURNEY\n",
      "MONSTER DOG\n",
      "OZZY OSBOURNE: DON’T BLAME ME\n",
      "SEXTETTE\n",
      "SGT. PEPPER’S LONELY HEARTS CLUB BAND\n",
      "THE STORY OF ROCK ‘N’ ROLL COMICS\n",
      "SUCK\n",
      "WAYNE’S WORLD\n",
      "ROADIE\n"
     ]
    }
   ],
   "source": [
    "for inmovies in hmmr.find({\"cast\": \"Alice Cooper\"}):\n",
    "    print inmovies['title']"
   ]
  },
  {
   "cell_type": "markdown",
   "metadata": {},
   "source": [
    "## Challenge 3"
   ]
  },
  {
   "cell_type": "code",
   "execution_count": 52,
   "metadata": {
    "collapsed": false
   },
   "outputs": [
    {
     "data": {
      "text/plain": [
       "defaultdict(<type 'int'>, {'being': 1, 'major': 1, 'steve': 1, 'zappa': 5, 'london': 1, 'outer': 1, 'how': 1, 'yngwie': 1, 'to': 3, 'jam': 1, 'black': 1, 'nfans': 2, 'crack': 1, 'he': 2, 'his': 2, 'string': 1, 'far': 1, 'jazz': 1, 'cultural': 1, 'every': 1, 'npurple': 1, 'during': 1, 'meat': 1, 'mothers': 1, 'possibilities': 1, 'jokes': 1, 'interspersed': 1, 'witches': 1, 'rock': 3, 'heavy': 2, 'set': 1, 'art': 1, 'classical': 1, '200': 1, 'nembodies': 1, 'dumb': 1, 'are': 1, 'nthe': 1, 'beyond': 1, 'nheads': 1, 'plays': 2, 'opened': 1, 'for': 1, 'pmrc': 1, 'wop': 1, 'ringo': 1, 'u2019s': 2, 'sainthood': 1, 'noise': 1, 'led': 2, 'philharmonic': 1, 'frank': 1, 'malmsteen': 1, 'water': 1, 'from': 1, 'u201d': 1, 'on': 3, 'surrealistic': 1, 'getting': 1, 'brilliant': 1, 'of': 6, 'could': 1, 'parts': 1, 'motion': 1, 'tour': 1, 'forgotten': 1, 'first': 1, 'sketches': 1, 'named': 1, 'madness': 1, 'vail': 1, 'into': 1, 'reaches': 1, 'nmotels': 1, 'rising': 1, 'throughout': 1, 'brilliantly': 1, 'checked': 1, 'there': 1, 'by': 1, 'much': 1, 'starr': 1, 'nbattling': 1, 'was': 1, 'npsychedelic': 1, 'himself': 1, 'nmuch': 1, 'form': 1, 'about': 1, 'with': 2, 'countless': 1, 'ncollaborators': 1, 'namong': 1, 'future': 1, 'dirty': 1, 'many': 2, 'pits': 1, 'and': 7, 'lick': 1, 'is': 1, 'censor': 1, 'it': 1, 'deep': 1, 'pieces': 1, 'involve': 1, 'at': 1, 'in': 2, 'any': 1, 'tumbled': 1, 'par': 1, 'expanses': 1, 'six': 1, 'when': 1, 'also': 1, 'other': 1, 'which': 1, 'maestro': 1, 'u': 7, 'u201csmoke': 1, 'picture': 1, 'visionary': 1, 'guitar': 1, 'insanity': 1, 'moment': 1, 'demonstrating': 1, 'a': 2, 'forever': 1, 'acid': 1, 'ntalking': 1, 'doo': 1, 'performances': 1, 'metal': 4, 'banging': 1, 'nthat': 1, 'very': 1, 'the': 10, 'musical': 1})"
      ]
     },
     "execution_count": 52,
     "metadata": {},
     "output_type": "execute_result"
    }
   ],
   "source": [
    "from collections import defaultdict\n",
    "import re\n",
    "\n",
    "text = str(first_review['the_meat'])\n",
    "freq = defaultdict(int)\n",
    "for w in re.findall(r\"\\w+\", text):\n",
    "    freq[w.lower()] += 1\n",
    "freq"
   ]
  },
  {
   "cell_type": "code",
   "execution_count": null,
   "metadata": {
    "collapsed": true
   },
   "outputs": [],
   "source": []
  },
  {
   "cell_type": "code",
   "execution_count": 53,
   "metadata": {
    "collapsed": false
   },
   "outputs": [],
   "source": [
    "#from bson.code import Code\n",
    "#mapper = Code(\"\"\"\n",
    "#               function () {\n",
    "#                 this.tags.forEach(function(z) {\n",
    "#                   emit(z, 1);\n",
    "#                 });\n",
    "#               }\n",
    "#               \"\"\")"
   ]
  },
  {
   "cell_type": "code",
   "execution_count": 54,
   "metadata": {
    "collapsed": false
   },
   "outputs": [],
   "source": [
    "#reducer = Code(\"\"\"\n",
    "#                function (key, values) {\n",
    "#                  var total = 0;\n",
    "#                  for (var i = 0; i < values.length; i++) {\n",
    "#                    total += values[i];\n",
    "#                  }\n",
    "#                  return total;\n",
    "#                }\n",
    "#                \"\"\")"
   ]
  },
  {
   "cell_type": "code",
   "execution_count": 81,
   "metadata": {
    "collapsed": false
   },
   "outputs": [],
   "source": [
    "words = []\n",
    "curfind = hmmr.find()"
   ]
  },
  {
   "cell_type": "code",
   "execution_count": 82,
   "metadata": {
    "collapsed": true
   },
   "outputs": [],
   "source": [
    "stopw = ['a','able','about','across','after','all','almost','also','am','among',\n",
    "             'an','and','any','are','as','at','be','because','been','but','by','can',\n",
    "             'cannot','could','dear','did','do','does','either','else','ever','every',\n",
    "             'for','from','get','got','had','has','have','he','her','hers','him','his',\n",
    "             'how','however','i','if','in','into','is','it','its','just','least','let',\n",
    "             'like','likely','may','me','might','most','must','my','neither','no','nor',\n",
    "             'not','of','off','often','on','only','or','other','our','own','rather','said',\n",
    "             'say','says','she','should','since','so','some','than','that','the','their',\n",
    "             'them','then','there','these','they','this','tis','to','too','twas','us',\n",
    "             'wants','was','we','were','what','when','where','which','while','who',\n",
    "             'whom','why','will','with','would','yet','you','your']"
   ]
  },
  {
   "cell_type": "code",
   "execution_count": 83,
   "metadata": {
    "collapsed": true
   },
   "outputs": [],
   "source": [
    "for i in range(hmmr.count()):\n",
    "    title = curfind.next()['title']\n",
    "    title = title.lower() \n",
    "    title = re.sub(r'[^\\w\\s]', '', title)\n",
    "    title = title.split()\n",
    "    words.extend(title)"
   ]
  },
  {
   "cell_type": "code",
   "execution_count": 84,
   "metadata": {
    "collapsed": true
   },
   "outputs": [],
   "source": [
    "wordslist = []\n",
    "for w in words:\n",
    "    if str(w) not in stopw:\n",
    "        wordslist.append(w)\n",
    "\n",
    "wordscount = Counter(wordslist)"
   ]
  },
  {
   "cell_type": "code",
   "execution_count": 85,
   "metadata": {
    "collapsed": false
   },
   "outputs": [
    {
     "name": "stdout",
     "output_type": "stream",
     "text": [
      "Counter({u'metal': 72, u'dead': 48, u'rock': 38, u'heavy': 38, u'2': 34, u'blood': 28, u'black': 28, u'last': 26, u'night': 26, u'devil': 24, u'ii': 24, u'death': 24, u'man': 20, u'hell': 20, u'house': 18, u'nightmare': 18, u'iii': 16, u'evil': 16, u'iron': 16, u'massacre': 16, u'horror': 14, u'return': 14, u'dawn': 14, u'story': 14, u'part': 14, u'witch': 12, u'living': 12, u'saw': 12, u'movie': 12, u'dark': 12, u'world': 12, u'terror': 10, u'darkness': 10, u'new': 10, u'texas': 10, u'beyond': 10, u'dracula': 10, u'warriors': 10, u'dr': 10, u'bad': 10, u'devils': 10, u'3': 10, u'lost': 10, u'documentary': 10, u'planet': 10, u'film': 10, u'2000': 10, u'lord': 8, u'frankenstein': 8, u'heaven': 8, u'cannibal': 8, u'satan': 8, u'white': 8, u'diary': 8, u'maiden': 8, u'day': 8, u'year': 8, u'satans': 8, u'paradise': 8, u'days': 8, u'apocalypse': 8, u'miss': 8, u'city': 8, u'depravity': 8, u'rings': 8, u'fire': 8, u'wild': 8, u'hercules': 8, u'sodom': 8, u'alice': 8, u'hard': 8, u'deep': 8, u'star': 8, u'ghost': 8, u'jason': 6, u'ozzy': 6, u'street': 6, u'school': 6, u'die': 6, u'shock': 6, u'sabbath': 6, u'blue': 6, u'teenage': 6, u'lords': 6, u'live': 6, u'angels': 6, u'mad': 6, u'blade': 6, u'history': 6, u'halloween': 6, u'high': 6, u'1': 6, u'omen': 6, u'hobbit': 6, u'first': 6, u'apes': 6, u'phantom': 6, u'now': 6, u'opera': 6, u'god': 6, u'red': 6, u'york': 6, u'american': 6, u'dont': 6, u'girls': 6, u'final': 6, u'king': 6, u'exorcist': 6, u'damned': 6, u'dragon': 6, u'rider': 6, u'vengeance': 6, u'america': 6, u'fear': 6, u'osbourne': 6, u'demons': 6, u'august': 6, u'roll': 6, u'punisher': 6, u'legend': 6, u'bill': 6, u'n': 6, u'demon': 6, u'vs': 6, u'underground': 6, u'chainsaw': 6, u'kill': 6, u'easy': 6, u'barbarian': 6, u'back': 6, u'born': 6, u'escape': 6, u'zombie': 6, u'em': 6, u'virgin': 6, u'jones': 6, u'wish': 6, u'inside': 6, u'life': 6, u'conan': 6, u'deadly': 6, u'journey': 6, u'vice': 6, u'alien': 4, u'amityville': 4, u'jimi': 4, u'children': 4, u'zone': 4, u'race': 4, u'highway': 4, u'crow': 4, u'go': 4, u'video': 4, u'sun': 4, u'mr': 4, u'hostel': 4, u'daughter': 4, u'action': 4, u'golden': 4, u'love': 4, u'bloody': 4, u'baby': 4, u'holy': 4, u'club': 4, u'under': 4, u'wars': 4, u'antichrist': 4, u'heart': 4, u'serpent': 4, u'valhalla': 4, u'end': 4, u'sword': 4, u'song': 4, u'gate': 4, u'barbarians': 4, u'summer': 4, u'max': 4, u'invasion': 4, u'dahmer': 4, u'light': 4, u'tale': 4, u'green': 4, u'midnight': 4, u'years': 4, u'amebix': 4, u'creepshow': 4, u'parts': 4, u'q': 4, u'good': 4, u'killer': 4, u'kiss': 4, u'shadows': 4, u'detroit': 4, u'bless': 4, u'dredd': 4, u'gor': 4, u'nosferatu': 4, u'eagle': 4, u'blair': 4, u'exodus': 4, u'friday': 4, u'dune': 4, u'metallica': 4, u'silent': 4, u'punk': 4, u'rainforest': 4, u'adventure': 4, u'troll': 4, u'such': 4, u'teds': 4, u'ferngully': 4, u'wrath': 4, u'inferno': 4, u'murder': 4, u'season': 4, u'park': 4, u'steel': 4, u'future': 4, u'countess': 4, u'angel': 4, u'runner': 4, u'ages': 4, u'hellraiser': 4, u'mountain': 4, u'undergrounds': 4, u'rides': 4, u'class': 4, u'christ': 4, u'hunger': 4, u'queen': 4, u'earth': 4, u'one': 4, u'corpses': 4, u'anvil': 4, u'madman': 4, u'haunted': 4, u'basement': 4, u'gorgon': 4, u'warrior': 4, u'portrait': 4, u'best': 4, u'manson': 4, u'roadie': 4, u'monsters': 4, u'men': 4, u'elm': 4, u'tour': 4, u'wheels': 4, u'messiah': 4, u'sweet': 4, u'wendigo': 4, u'pop': 4, u'runaway': 4, u'gun': 4, u'superstar': 4, u'13th': 4, u'look': 4, u'holocaust': 4, u'thrash': 4, u'murders': 4, u'punks': 4, u'seven': 4, u'century': 4, u'vi': 4, u'terminator': 4, u'strange': 4, u'party': 4, u'conflict': 4, u'rocknroll': 4, u'never': 4, u'judgment': 4, u'werewolf': 4, u'edge': 4, u'musical': 4, u'flesh': 4, u'money': 4, u'poltergeist': 4, u'prince': 4, u'squad': 4, u'know': 4, u'waynes': 4, u'zombies': 4, u'witchcraft': 4, u'empire': 4, u'cooper': 4, u'christmas': 4, u'run': 4, u'hot': 4, u'slayer': 4, u'magazine': 4, u'faust': 4, u'el': 4, u'rising': 4, u'1984': 4, u'lovedolls': 4, u'died': 4, u'lot': 4, u'music': 4, u'war': 4, u'volume': 4, u'boys': 4, u'crystal': 4, u'pit': 4, u'girl': 4, u'wicker': 4, u'picture': 4, u'land': 4, u'runaways': 4, u'mass': 4, u'time': 4, u'tales': 4, u'scanners': 2, u'equalizer': 2, u'kinison': 2, u'code': 2, u'vampires': 2, u'brainscan': 2, u'ilsa': 2, u'young': 2, u'instincts': 2, u'global': 2, u'tombs': 2, u'durango': 2, u'sonja': 2, u'theaters': 2, u'sons': 2, u'skin': 2, u'battle': 2, u'psycho': 2, u'captain': 2, u'monty': 2, u'row': 2, u'21st': 2, u'porno': 2, u'zotz': 2, u'chain': 2, u'assasin': 2, u'seduction': 2, u'band': 2, u'flash': 2, u'father': 2, u'dungeonmaster': 2, u'spirit': 2, u'countdown': 2, u'charge': 2, u'lucifer': 2, u'megaforce': 2, u'salems': 2, u'beware': 2, u'brigade': 2, u'tenacious': 2, u'fly': 2, u'wasteland': 2, u'excalibur': 2, u'md': 2, u'rise': 2, u'grindcore': 2, u'wave': 2, u'bestia': 2, u'worst': 2, u'altensen': 2, u'fall': 2, u'gelhorn': 2, u'sawblade': 2, u'pumping': 2, u'pledge': 2, u'dominator': 2, u'sangre': 2, u'columbine': 2, u'loneliness': 2, u'motrheadace': 2, u'dinosaur': 2, u'deadgirl': 2, u'lisa': 2, u'lisztomania': 2, u'wizards': 2, u'loves': 2, u'unexpected': 2, u'force': 2, u'meadow': 2, u'ten': 2, u'stalker': 2, u'batch': 2, u'zero': 2, u'louder': 2, u'anthropophagus': 2, u'abominable': 2, u'monster': 2, u'turn': 2, u'curse': 2, u'plays': 2, u'junior': 2, u'cremaster': 2, u'1history': 2, u'near': 2, u'mutilator': 2, u'lights': 2, u'jedi': 2, u'rotor': 2, u'rockula': 2, u'freaks': 2, u'conduct': 2, u'bird': 2, u'lesbos': 2, u'3d': 2, u'aint': 2, u'full': 2, u'hero': 2, u'lee': 2, u'shogun': 2, u'deadbeat': 2, u'here': 2, u'jonah': 2, u'frankenhooker': 2, u'tracks': 2, u'berkeley': 2, u'cult': 2, u'decision': 2, u'longdistance': 2, u'galleon': 2, u'celebration': 2, u'arena': 2, u'versa': 2, u'isidisi': 2, u'brutal': 2, u'thrashed': 2, u'reanimator': 2, u'boots': 2, u'smoke': 2, u'pick': 2, u'punishment': 2, u'tromeo': 2, u'dick': 2, u'family': 2, u'grotesque': 2, u'omega': 2, u'sgt': 2, u'private': 2, u'gargantuas': 2, u'caligula': 2, u'rocktober': 2, u'minotaur': 2, u'witchery': 2, u'khan': 2, u'takes': 2, u'usa': 2, u'army': 2, u'remains': 2, u'hawks': 2, u'angry': 2, u'serbian': 2, u'two': 2, u'princess': 2, u'metalheads': 2, u'call': 2, u'until': 2, u'6': 2, u'los': 2, u'phallus': 2, u'1000': 2, u'teen': 2, u'exorcism': 2, u'son': 2, u'door': 2, u'witchfinder': 2, u'chucky': 2, u'jack': 2, u'crimson': 2, u'train': 2, u'destructo': 2, u'broke': 2, u'excellent': 2, u'cropsey': 2, u'doom': 2, u'woman': 2, u'women': 2, u'1991': 2, u'1990': 2, u'balls': 2, u'uncovered': 2, u'trollhunter': 2, u'amor': 2, u'damien': 2, u'ride': 2, u'ladyhawke': 2, u'soul': 2, u'revelations': 2, u'trauma': 2, u'nine': 2, u'valentine': 2, u'wrestler': 2, u'dazed': 2, u'perdita': 2, u'lifeforce': 2, u'show': 2, u'up': 2, u'violence': 2, u'funhouse': 2, u'process': 2, u'helter': 2, u'confused': 2, u'dragons': 2, u'nicky': 2, u'sextette': 2, u'dunkelheit': 2, u'arise': 2, u'horizonte': 2, u'serial': 2, u'keep': 2, u'pink': 2, u'hardbodies': 2, u'gremlins': 2, u'till': 2, u'sunday': 2, u'morbid': 2, u'animal': 2, u'terrorvision': 2, u'motels': 2, u'dehumanizing': 2, u'beach': 2, u'sin': 2, u'theatre': 2, u'tension': 2, u'snaps': 2, u'de': 2, u'staircase': 2, u'beastmaster': 2, u'vicious': 2, u'ronald': 2, u'streets': 2, u'rendezvous': 2, u'chimaira': 2, u'avengers': 2, u'skullduggery': 2, u'repo': 2, u'twitch': 2, u'natural': 2, u'leatherface': 2, u'ss': 2, u'britannia': 2, u'exterminator': 2, u'cthulu': 2, u'greek': 2, u'superbeasto': 2, u'demonoid': 2, u'emanuelle': 2, u'basket': 2, u'kurt': 2, u'gladiators': 2, u'talk': 2, u'wine': 2, u'help': 2, u'nerve': 2, u'stains': 2, u'over': 2, u'mondo': 2, u'varg': 2, u'london': 2, u'wolf': 2, u'nightstalker': 2, u'cuts': 2, u'kong': 2, u'caligari': 2, u'surveillance': 2, u'blooded': 2, u'galaxy': 2, u'machine': 2, u'revenge': 2, u'destroyer': 2, u'la': 2, u'somewhere': 2, u'lo': 2, u'fix': 2, u'cheerleaders': 2, u'housewife': 2, u'hounds': 2, u'better': 2, u'2019': 2, u'bummer': 2, u'origem': 2, u'orange': 2, u'hemingway': 2, u'electra': 2, u'sacred': 2, u'dem': 2, u'python': 2, u'doll': 2, u'predator': 2, u'tenebrae': 2, u'records': 2, u'das': 2, u'expendables': 2, u'crass': 2, u'wagon': 2, u'masters': 2, u'soylent': 2, u'meat': 2, u'immoral': 2, u'drop': 2, u'feast': 2, u'80000': 2, u'billy': 2, u'quest': 2, u'daughters': 2, u'truth': 2, u'beneath': 2, u'eraserhead': 2, u'side': 2, u'krokus': 2, u'burial': 2, u'mental': 2, u'generation': 2, u'anarcho': 2, u'foxes': 2, u'brother': 2, u'clockwork': 2, u'gates': 2, u'snuff': 2, u'pam': 2, u'ring': 2, u'special': 2, u'out': 2, u'knightriders': 2, u'rex': 2, u'flower': 2, u'lair': 2, u'matrix': 2, u'space': 2, u'chaos': 2, u'thirst': 2, u'cheesy': 2, u'fellowship': 2, u'mudhoney': 2, u'messenger': 2, u'cyclone': 2, u'cromwell': 2, u'bombs': 2, u'risen': 2, u'dirt': 2, u'satanic': 2, u'seventh': 2, u'little': 2, u'techno': 2, u'mistress': 2, u'topo': 2, u'ministry': 2, u'hollywood': 2, u'british': 2, u'times': 2, u'thing': 2, u'gordon': 2, u'turf': 2, u'loud': 2, u'blind': 2, u'evilspeak': 2, u'henry': 2, u'motel': 2, u'dungeons': 2, u'unicorn': 2, u'maniac': 2, u'deathsport': 2, u'yourself': 2, u'channels': 2, u'tetsuo': 2, u'long': 2, u'picnic': 2, u'endgame': 2, u'hood': 2, u'sheep': 2, u'laserblast': 2, u'rejects': 2, u'warlords': 2, u'nomi': 2, u'hellstrom': 2, u'psychotic': 2, u'master': 2, u'worlds': 2, u'begotten': 2, u'john': 2, u'southern': 2, u'zao': 2, u'minas': 2, u'sisterhood': 2, u'sleepaway': 2, u'jesus': 2, u'moscow': 2, u'rejuvenator': 2, u'disasterpieces': 2, u'gummo': 2, u'western': 2, u'rain': 2, u'albums': 2, u'rivers': 2, u'goldfoot': 2, u'titans': 2, u'trek': 2, u'rampage': 2, u'strung': 2, u'outlaw': 2, u'biohazard': 2, u'tree': 2, u'scenes': 2, u'crossroads': 2, u'project': 2, u'bride': 2, u'ventura': 2, u'2020': 2, u'lover': 2, u'marimbas': 2, u'knights': 2, u'ricky': 2, u'robocop': 2, u'youre': 2, u'nightbreed': 2, u'ringer': 2, u'starcrash': 2, u'seal': 2, u'ichi': 2, u'ginger': 2, u'venoms': 2, u'torment': 2, u'throat': 2, u'alive': 2, u'alucarda': 2, u'memphis': 2, u'nights': 2, u'snow': 2, u'norse': 2, u'nekromantik': 2, u'forbidden': 2, u'reaper': 2, u'take': 2, u'doors': 2, u'hxan': 2, u'shocker': 2, u'shining': 2, u'bloodsucking': 2, u'butterfly': 2, u'200': 2, u'frost': 2, u'led': 2, u'electric': 2, u'combat': 2, u'bordello': 2, u'singles': 2, u'frogtown': 2, u'enter': 2, u'sequence': 2, u'hysteria': 2, u'letter': 2, u'70': 2, u'thunder': 2, u'autopsy': 2, u'grave': 2, u'suck': 2, u'ferox': 2, u'chronicle': 2, u'salo': 2, u'windows': 2, u'dream': 2, u'medical': 2, u'temptation': 2, u'drive': 2, u'lie': 2, u'dunwich': 2, u'ways': 2, u'overdrive': 2, u'sunset': 2, u'absurd': 2, u'guinea': 2, u'brew': 2, u'peewees': 2, u'sinner': 2, u'scream': 2, u'zeppelin': 2, u'detective': 2, u'taxi': 2, u'cobra': 2, u'saga': 2, u'666': 2, u'sage': 2, u'munster': 2, u'vampire': 2, u'colors': 2, u'artificial': 2, u'hack': 2, u'strangeland': 2, u'ground': 2, u'slow': 2, u'rosemarys': 2, u'justice': 2, u'lemmy': 2, u'less': 2, u'behind': 2, u'eat': 2, u'winged': 2, u'tears': 2, u'rich': 2, u'invocation': 2, u'twins': 2, u'circle': 2, u'darwin': 2, u'yikyak': 2, u'lighted': 2, u'lobo': 2, u'fabulous': 2, u'videodrome': 2, u'godzilla': 2, u'watching': 2, u'frostbiter': 2, u'goregasm': 2, u'stop': 2, u'pieces': 2, u'famous': 2, u'baghdad': 2, u'killers': 2, u'ninth': 2, u'120': 2, u'mazes': 2, u'vampyros': 2, u'entity': 2, u'heretic': 2, u'avenger': 2, u'turbulence': 2, u'same': 2, u'entrails': 2, u'witches': 2, u'activity': 2, u'through': 2, u'zboys': 2, u'orca': 2, u'aus': 2, u'penance': 2, u'bloodsport': 2, u'thriller': 2, u'intelligence': 2, u'highlander': 2, u'sex': 2, u'plumage': 2, u'horse': 2, u'desperate': 2, u'parking': 2, u'calendar': 2, u'tommy': 2, u'wears': 2, u'closer': 2, u'freddy': 2, u'destiny': 2, u'farmers': 2, u'thunderdome': 2, u'legalize': 2, u'cruel': 2, u'mud': 2, u'prada': 2, u'ramones': 2, u'discovery': 2, u'grail': 2, u'ragnarok': 2, u'missing': 2, u'sold': 2, u'vikernes': 2, u'carter': 2, u'blame': 2, u'gomorrah': 2, u'job': 2, u'hendrix': 2, u'awards': 2, u'joe': 2, u'news': 2, u'tub': 2, u'mailbox': 2, u'come': 2, u'roller': 2, u'jfk': 2, u'horsemen': 2, u'f': 2, u'glide': 2, u'satanis': 2, u'country': 2, u'ill': 2, u'aqua': 2, u'incident': 2, u'norseman': 2, u'games': 2, u'rust': 2, u'metallimania': 2, u'faces': 2, u'bronx': 2, u'comes': 2, u'mausoleum': 2, u'loaf': 2, u'stoned': 2, u'belo': 2, u'ruido': 2, u'gone': 2, u'bricks': 2, u'ghoul': 2, u'lake': 2, u'krakow': 2, u'colon': 2, u'3000': 2, u'laugh': 2, u'village': 2, u'sentinel': 2, u'kings': 2, u'stryker': 2, u'zombieland': 2, u'thrashin': 2, u'decline': 2, u'sam': 2, u'pagan': 2, u'trilogy': 2, u'three': 2, u'zardoz': 2, u'genetic': 2, u'fog': 2, u'interest': 2, u'dangers': 2, u'peppers': 2, u'jerky': 2, u'jackass': 2, u'rites': 2, u'manitou': 2, u'persepolis': 2, u'chud': 2, u'flight': 2, u'fade': 2, u'spit': 2, u'assorted': 2, u'blessing': 2, u'craft': 2, u'lives': 2, u'lonely': 2, u'child': 2, u'general': 2, u'driver': 2, u'odyssey': 2, u'those': 2, u'vengaza': 2, u'case': 2, u'stolen': 2, u'howling': 2, u'slumber': 2, u'pandemonium': 2, u'lesser': 2, u'ugly': 2, u'crowley': 2, u'warning': 2, u'teachers': 2, u'aural': 2, u'robin': 2, u'ein': 2, u'cane': 2, u'age': 2, u'vol': 2, u'sleeping': 2, u'cant': 2, u'im': 2, u'tapeheads': 2, u'xtro': 2, u'thor': 2, u'gacy': 2, u'funny': 2, u'lankan': 2, u'trial': 2, u'jawbreaker': 2, u'media': 2, u'cross': 2, u'butcher': 2, u'camp': 2, u'gentlemen': 2, u'shit': 2, u'leppard': 2, u'fubar': 2, u'bunny': 2, u'bells': 2, u'satanico': 2, u'meets': 2, u'ball': 2, u'slave': 2, u'centuries': 2, u'dusk': 2, u'hunter': 2, u'acdc': 2, u'seagulls': 2, u'satanica': 2, u'manhunter': 2, u'beast': 2, u'norwegian': 2, u'running': 2, u'humanoids': 2, u'supper': 2, u'exterminators': 2, u'destruction': 2, u'celtic': 2, u'skulhedface': 2, u'witchboard': 2, u'page': 2, u'fighting': 2, u'without': 2, u'iv': 2, u'werewolves': 2, u'sith': 2, u'greatest': 2, u'bandeurope': 2, u'hearts': 2, u'ghoulies': 2, u'left': 2, u'rocker': 2, u'warhols': 2, u'carrie': 2, u'quatermass': 2, u'sleeps': 2, u'being': 2, u'half': 2, u'neon': 2, u'fantastic': 2, u'actress': 2, u'hesher': 2, u'violent': 2, u'human': 2, u'stunt': 2, u'chien': 2, u'headbangers': 2, u'hills': 2, u'dogtown': 2, u'twilight': 2, u'bloodbath': 2, u'woodstock': 2, u'killed': 2, u'wall': 2, u'shout': 2, u'blows': 2, u'dare': 2, u'courtney': 2, u'morgue': 2, u'viking': 2, u'argonauts': 2, u'big': 2, u'bowling': 2, u'screamers': 2, u'gonna': 2, u'paranormal': 2, u'game': 2, u'martyrs': 2, u'five': 2, u'judge': 2, u'grim': 2, u'ridgemont': 2, u'rocky': 2, u'paramilitary': 2, u'rats': 2, u'phibes': 2, u'clegg': 2, u'voliminal': 2, u'parasite': 2, u'gimme': 2, u'laughing': 2, u'kull': 2, u'claw': 2, u'reform': 2, u'sign': 2, u'battlefield': 2, u'jaredsyn': 2, u'right': 2, u'old': 2, u'creek': 2, u'phenomena': 2, u'marjoe': 2, u'lips': 2, u'incubus': 2, u'wonderland': 2, u'skelter': 2, u'rocks': 2, u'deathdream': 2, u'savage': 2, u'toxic': 2, u'clash': 2, u'channel': 2, u'pet': 2, u'corpse': 2, u'krull': 2, u'scalps': 2, u'ice': 2, u'floyd': 2, u'models': 2, u'prom': 2, u'civilization': 2, u'bogus': 2, u'drink': 2, u'severed': 2, u'stairway': 2, u'andalou': 2, u'300': 2, u'corn': 2, u'martin': 2, u'maniacs': 2, u'rue': 2, u'25': 2, u'ripper': 2, u'santa': 2, u'edgeplay': 2, u'royale': 2, u'cradle': 2, u'stage': 2, u'throne': 2, u'working': 2, u'ace': 2, u'universe': 2, u'sri': 2, u'phantasm': 2, u'intrepidos': 2, u'oz': 2, u'west': 2, u'fantasia': 2, u'hospital': 2, u'road': 2, u'ladies': 2, u'boggy': 2, u'burning': 2, u'conquest': 2, u'honeymoon': 2, u'bath': 2, u'down': 2, u'd': 2, u'strip': 2, u'mark': 2, u'brides': 2, u'dwells': 2, u'cinderella': 2, u'hex': 2, u'spiral': 2, u'fast': 2, u'gwendoline': 2, u'gorgoroth': 2, u'valley': 2, u'suspiria': 2, u'purgatory': 2, u'mutiny': 2, u'ator': 2, u'masque': 2, u'mars': 2, u'strikes': 2, u'cabinet': 2, u'dragonslayer': 2, u'authority': 2, u'eagles': 2, u'role': 2, u'true': 2, u'atrocities': 2, u'def': 2, u'highness': 2, u'traces': 2, u'rush': 2, u'made': 2, u'andy': 2, u'comics': 2, u'ruhrgebiet': 2, u'maximum': 2, u'vampyre': 2, u'centipede': 2, u'un': 2, u'dirty': 2, u'julet': 2, u'conqueror': 2, u'sleazy': 2, u'wicked': 2, u'minutes': 2, u'called': 2, u'hornet': 2, u'possession': 2, u'boogens': 2, u'v': 2, u'johnny': 2, u'classic': 2, u'ai': 2, u'seductress': 2, u'pig': 2, u'draculas': 2, u'salem': 2, u'erik': 2, u'freddys': 2, u'home': 2, u'aces': 2, u'gina': 2, u'moves': 2, u'cream': 2, u'pussycat': 2, u'again': 2, u'nova': 2, u'riot': 2, u'dying': 2, u'slaughterhouse': 2, u'peace': 2, u'sicka': 2, u'roses': 2, u'deathstalker': 2, u'book': 2, u'5': 2, u'tuff': 2, u'eclipse': 2, u'mordum': 2, u'85': 2, u'deviate': 2, u'metalstorm': 2, u'sorcerer': 2, u'mother': 2, u'towers': 2, u'waves': 2, u'perils': 2, u'shelter': 2, u'welcome': 2, u'souls': 2, u'hardware': 2, u'worm': 2, u'wind': 2, u'monterey': 2, u'amphetamine': 2, u'airheads': 2, u'pool': 2, u'cliff': 2, u'hells': 2, u'spades': 2, u'faster': 2, u'moby': 2, u'baker': 2, u'dog': 2, u'rule': 2, u'yor': 2, u'mummy': 2, u'2001': 2, u'2004': 2, u'retardation': 2, u'buffalo': 2})\n"
     ]
    }
   ],
   "source": [
    "print wordscount"
   ]
  },
  {
   "cell_type": "code",
   "execution_count": 58,
   "metadata": {
    "collapsed": false
   },
   "outputs": [],
   "source": [
    "#from bson.code import Code\n",
    "#reducer = Code(\"\"\"\n",
    "#               function(obj, prev){\n",
    "#                 prev.count++;\n",
    "#               }\n",
    "#               \"\"\")\n",
    "#results = hmmr.group(key={\"the_meat\":1}, condition={}, initial={\"count\": 0}, reduce=reducer)\n",
    "#for doc in results:\n",
    "#    print doc"
   ]
  },
  {
   "cell_type": "code",
   "execution_count": null,
   "metadata": {
    "collapsed": true
   },
   "outputs": [],
   "source": []
  }
 ],
 "metadata": {
  "kernelspec": {
   "display_name": "Python 2",
   "language": "python",
   "name": "python2"
  },
  "language_info": {
   "codemirror_mode": {
    "name": "ipython",
    "version": 2
   },
   "file_extension": ".py",
   "mimetype": "text/x-python",
   "name": "python",
   "nbconvert_exporter": "python",
   "pygments_lexer": "ipython2",
   "version": "2.7.9"
  }
 },
 "nbformat": 4,
 "nbformat_minor": 0
}
