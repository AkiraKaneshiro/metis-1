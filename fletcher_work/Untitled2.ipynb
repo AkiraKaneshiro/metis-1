{
 "cells": [
  {
   "cell_type": "code",
   "execution_count": 17,
   "metadata": {
    "collapsed": false
   },
   "outputs": [
    {
     "data": {
      "text/plain": [
       "0.15918453047848144"
      ]
     },
     "execution_count": 17,
     "metadata": {},
     "output_type": "execute_result"
    }
   ],
   "source": [
    "import flask\n",
    "from sklearn.linear_model import LogisticRegression\n",
    "import numpy as np\n",
    "import csv\n",
    "from sklearn import cross_validation\n",
    "from pandas import *\n",
    "\n",
    "bank_full = read_csv('bank-additional-full.csv', delimiter=';', header=0)\n",
    "bank = bank_full[['age','emp.var.rate','euribor3m','y']]\n",
    "#bank['y'] = bank['y'].map({'yes': 1, 'no': 0})\n",
    "#bank['age'] =((bank['age']-47)/30) ** 2\n",
    "#bank['age'][bank['age'] > 1] = 1\n",
    "#bank['emp.var.rate'] = abs((bank['emp.var.rate'] - 1.4) / 4.8)\n",
    "#bank['euribor3m'] = 1 - (bank['euribor3m'] / 5.5)\n",
    "X = bank.drop('y', 1)\n",
    "y = bank['y']\n",
    "X_train, X_test, y_train, y_test = cross_validation.train_test_split(X, y, test_size=0.15, random_state=0)\n",
    "#X_test = X_test.astype(float)\n",
    "log_model = LogisticRegression()\n",
    "PREDICTOR = log_model.fit(X_train, y_train)\n",
    "x = np.matrix([25, 0, 2])\n",
    "score = PREDICTOR.predict_proba(x)\n",
    "score[0,1]"
   ]
  },
  {
   "cell_type": "code",
   "execution_count": null,
   "metadata": {
    "collapsed": true
   },
   "outputs": [],
   "source": []
  }
 ],
 "metadata": {
  "kernelspec": {
   "display_name": "Python 2",
   "language": "python",
   "name": "python2"
  },
  "language_info": {
   "codemirror_mode": {
    "name": "ipython",
    "version": 2
   },
   "file_extension": ".py",
   "mimetype": "text/x-python",
   "name": "python",
   "nbconvert_exporter": "python",
   "pygments_lexer": "ipython2",
   "version": "2.7.9"
  }
 },
 "nbformat": 4,
 "nbformat_minor": 0
}
