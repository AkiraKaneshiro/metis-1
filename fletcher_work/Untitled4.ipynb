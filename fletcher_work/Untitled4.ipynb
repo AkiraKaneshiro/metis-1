{
 "cells": [
  {
   "cell_type": "code",
   "execution_count": 2,
   "metadata": {
    "collapsed": false
   },
   "outputs": [],
   "source": [
    "import nltk"
   ]
  },
  {
   "cell_type": "code",
   "execution_count": null,
   "metadata": {
    "collapsed": false
   },
   "outputs": [
    {
     "name": "stderr",
     "output_type": "stream",
     "text": [
      "Exception in Tkinter callback\n",
      "Traceback (most recent call last):\n",
      "  File \"/usr/local/Cellar/python/2.7.9/Frameworks/Python.framework/Versions/2.7/lib/python2.7/lib-tk/Tkinter.py\", line 1532, in __call__\n",
      "    return self.func(*args)\n",
      "  File \"/usr/local/lib/python2.7/site-packages/nltk/downloader.py\", line 1565, in _download\n",
      "    return self._download_threaded(*e)\n",
      "  File \"/usr/local/lib/python2.7/site-packages/nltk/downloader.py\", line 1832, in _download_threaded\n",
      "    assert self._download_msg_queue == []\n",
      "AssertionError\n",
      "Exception in Tkinter callback\n",
      "Traceback (most recent call last):\n",
      "  File \"/usr/local/Cellar/python/2.7.9/Frameworks/Python.framework/Versions/2.7/lib/python2.7/lib-tk/Tkinter.py\", line 1532, in __call__\n",
      "    return self.func(*args)\n",
      "  File \"/usr/local/lib/python2.7/site-packages/nltk/downloader.py\", line 1565, in _download\n",
      "    return self._download_threaded(*e)\n",
      "  File \"/usr/local/lib/python2.7/site-packages/nltk/downloader.py\", line 1832, in _download_threaded\n",
      "    assert self._download_msg_queue == []\n",
      "AssertionError\n",
      "Exception in Tkinter callback\n",
      "Traceback (most recent call last):\n",
      "  File \"/usr/local/Cellar/python/2.7.9/Frameworks/Python.framework/Versions/2.7/lib/python2.7/lib-tk/Tkinter.py\", line 1532, in __call__\n",
      "    return self.func(*args)\n",
      "  File \"/usr/local/lib/python2.7/site-packages/nltk/downloader.py\", line 1565, in _download\n",
      "    return self._download_threaded(*e)\n",
      "  File \"/usr/local/lib/python2.7/site-packages/nltk/downloader.py\", line 1832, in _download_threaded\n",
      "    assert self._download_msg_queue == []\n",
      "AssertionError\n",
      "Exception in Tkinter callback\n",
      "Traceback (most recent call last):\n",
      "  File \"/usr/local/Cellar/python/2.7.9/Frameworks/Python.framework/Versions/2.7/lib/python2.7/lib-tk/Tkinter.py\", line 1532, in __call__\n",
      "    return self.func(*args)\n",
      "  File \"/usr/local/lib/python2.7/site-packages/nltk/downloader.py\", line 1565, in _download\n",
      "    return self._download_threaded(*e)\n",
      "  File \"/usr/local/lib/python2.7/site-packages/nltk/downloader.py\", line 1832, in _download_threaded\n",
      "    assert self._download_msg_queue == []\n",
      "AssertionError\n",
      "Exception in Tkinter callback\n",
      "Traceback (most recent call last):\n",
      "  File \"/usr/local/Cellar/python/2.7.9/Frameworks/Python.framework/Versions/2.7/lib/python2.7/lib-tk/Tkinter.py\", line 1532, in __call__\n",
      "    return self.func(*args)\n",
      "  File \"/usr/local/lib/python2.7/site-packages/nltk/downloader.py\", line 1565, in _download\n",
      "    return self._download_threaded(*e)\n",
      "  File \"/usr/local/lib/python2.7/site-packages/nltk/downloader.py\", line 1832, in _download_threaded\n",
      "    assert self._download_msg_queue == []\n",
      "AssertionError\n",
      "Exception in Tkinter callback\n",
      "Traceback (most recent call last):\n",
      "  File \"/usr/local/Cellar/python/2.7.9/Frameworks/Python.framework/Versions/2.7/lib/python2.7/lib-tk/Tkinter.py\", line 1532, in __call__\n",
      "    return self.func(*args)\n",
      "  File \"/usr/local/lib/python2.7/site-packages/nltk/downloader.py\", line 1565, in _download\n",
      "    return self._download_threaded(*e)\n",
      "  File \"/usr/local/lib/python2.7/site-packages/nltk/downloader.py\", line 1832, in _download_threaded\n",
      "    assert self._download_msg_queue == []\n",
      "AssertionError\n",
      "Exception in Tkinter callback"
     ]
    }
   ],
   "source": [
    "nltk.download()"
   ]
  },
  {
   "cell_type": "code",
   "execution_count": null,
   "metadata": {
    "collapsed": false
   },
   "outputs": [],
   "source": [
    "from nltk.tokenize import sent_tokenize\n",
    "\n",
    "text = \"\"\"Hello. How are you, dear sir? Are you well?\n",
    "          Here: drink this! It will make you feel better.\"\"\"\n",
    "\n",
    "sentences = sent_tokenize(text)\n",
    "sentences"
   ]
  },
  {
   "cell_type": "code",
   "execution_count": null,
   "metadata": {
    "collapsed": true
   },
   "outputs": [],
   "source": [
    "from nltk.tokenize import TreebankWordTokenizer\n",
    "tokenizer = TreebankWordTokenizer()\n",
    "tokenizer.tokenize(sentences[4])"
   ]
  },
  {
   "cell_type": "code",
   "execution_count": null,
   "metadata": {
    "collapsed": true
   },
   "outputs": [],
   "source": [
    "from nltk.tokenize import word_tokenize\n",
    "words = word_tokenize(sentences[4])\n",
    "words"
   ]
  },
  {
   "cell_type": "code",
   "execution_count": null,
   "metadata": {
    "collapsed": true
   },
   "outputs": [],
   "source": [
    "word_tokenize(sentences[3])"
   ]
  },
  {
   "cell_type": "code",
   "execution_count": null,
   "metadata": {
    "collapsed": true
   },
   "outputs": [],
   "source": []
  }
 ],
 "metadata": {
  "kernelspec": {
   "display_name": "Python 2",
   "language": "python",
   "name": "python2"
  },
  "language_info": {
   "codemirror_mode": {
    "name": "ipython",
    "version": 2
   },
   "file_extension": ".py",
   "mimetype": "text/x-python",
   "name": "python",
   "nbconvert_exporter": "python",
   "pygments_lexer": "ipython2",
   "version": "2.7.9"
  }
 },
 "nbformat": 4,
 "nbformat_minor": 0
}
