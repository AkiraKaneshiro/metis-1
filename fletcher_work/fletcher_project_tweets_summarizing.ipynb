{
 "cells": [
  {
   "cell_type": "markdown",
   "metadata": {},
   "source": [
    "# Fletcher Project: Tweets Summarizer"
   ]
  },
  {
   "cell_type": "code",
   "execution_count": 7,
   "metadata": {
    "collapsed": true
   },
   "outputs": [],
   "source": [
    "import nltk\n",
    "from nltk.tokenize import sent_tokenize\n",
    "from nltk.tokenize import TreebankWordTokenizer\n",
    "from nltk.tokenize import word_tokenize\n",
    "from nltk.tokenize import wordpunct_tokenize\n",
    "from nltk.tag import pos_tag\n",
    "from nltk.chunk import ne_chunk\n",
    "from nltk.corpus import treebank_chunk\n",
    "from textblob import TextBlob\n",
    "import pymongo\n",
    "from nltk.corpus import stopwords\n",
    "from nltk.corpus import movie_reviews\n",
    "from nltk.util import ngrams\n",
    "from nltk.tokenize import sent_tokenize, word_tokenize\n",
    "from collections import defaultdict\n",
    "from operator import itemgetter\n",
    "import numpy as np\n",
    "from sklearn.feature_extraction.text import TfidfVectorizer\n",
    "from sklearn.naive_bayes import MultinomialNB\n",
    "from __future__ import division, unicode_literals\n",
    "import operator\n",
    "import requests\n",
    "from requests_oauthlib import OAuth1\n",
    "from pymongo import MongoClient\n",
    "import tweepy\n",
    "import cnfg\n",
    "import numpy as np\n",
    "import re"
   ]
  },
  {
   "cell_type": "markdown",
   "metadata": {},
   "source": [
    "## Opening Twitter API"
   ]
  },
  {
   "cell_type": "code",
   "execution_count": 8,
   "metadata": {
    "collapsed": true
   },
   "outputs": [],
   "source": [
    "config = cnfg.load(\".twitter_config\")"
   ]
  },
  {
   "cell_type": "code",
   "execution_count": 9,
   "metadata": {
    "collapsed": true
   },
   "outputs": [],
   "source": [
    "auth = tweepy.OAuthHandler(config['consumer_key'],\n",
    "              config['consumer_secret'])\n",
    "auth.set_access_token(config['access_token'],\n",
    "              config['access_token_secret'])"
   ]
  },
  {
   "cell_type": "code",
   "execution_count": 10,
   "metadata": {
    "collapsed": true
   },
   "outputs": [],
   "source": [
    "api = tweepy.API(auth)"
   ]
  },
  {
   "cell_type": "markdown",
   "metadata": {},
   "source": [
    "## Choosing Twitter Account"
   ]
  },
  {
   "cell_type": "code",
   "execution_count": 91,
   "metadata": {
    "collapsed": true
   },
   "outputs": [],
   "source": [
    "account = 'jk_rowling'"
   ]
  },
  {
   "cell_type": "markdown",
   "metadata": {},
   "source": [
    "## Getting Tweeter Data into a List"
   ]
  },
  {
   "cell_type": "code",
   "execution_count": 92,
   "metadata": {
    "collapsed": false
   },
   "outputs": [
    {
     "data": {
      "text/plain": [
       "196"
      ]
     },
     "execution_count": 92,
     "metadata": {},
     "output_type": "execute_result"
    }
   ],
   "source": [
    "data_tweets = api.user_timeline(account, count=200)\n",
    "tweets = []\n",
    "tweets_text = []\n",
    "for tweet in data_tweets:\n",
    "    tweets.append(tweet.text)\n",
    "len(tweets)"
   ]
  },
  {
   "cell_type": "code",
   "execution_count": 93,
   "metadata": {
    "collapsed": false
   },
   "outputs": [
    {
     "data": {
      "text/plain": [
       "[u'This is FANTASTIC, Johnnie, thank you! https://t.co/pTbDFyyUjf',\n",
       " u'@Johnnie_Rowling Good luck Johnnie! X',\n",
       " u\"@JWaus I do indeed!  Take care of yourself, you're extremely important!  xxx\",\n",
       " u'@JWaus Thank you!  Get rested and get well soon xxx',\n",
       " u'@HalesE xxx',\n",
       " u'RT @WWF: Newly discovered wasp named after the soul-sucking dementors in Harry Potter. Thanks for the inspiration @jk_rowling! http://t.co/\\u2026',\n",
       " u\"I don't care about WBC.  I think it's important that scared gay kids who aren't out yet see hate speech challenged. https://t.co/XumjDmEjuw\",\n",
       " u'.@WBCsigns Alas, the sheer awesomeness of such a union in such a place would blow your tiny bigoted minds out of your thick sloping skulls.',\n",
       " u'RT @Okwonga: When #MikeBrown died in #Ferguson, the story was all over the news. The same should be true for #ShekuBayoh. http://t.co/z6Elh\\u2026',\n",
       " u\"RT @missingpeople: The morning after #TheBigTweet and we've got some refreshed info for you... you managed over 95,000 retweets in 24 hours!\",\n",
       " u'RT @missingpeople: Help find Mohammed, 15, missing from #Hackney for over a month. http://t.co/MIhxvGG4uS #TheBigTweet #ThanksICAP http://t\\u2026',\n",
       " u'RT @missingpeople: Please retweet Destiny, 15, missing from #KingsBromley http://t.co/hv8P2GEjcQ\\n#TheBigTweet #ThanksICAP http://t.co/sgUlO\\u2026',\n",
       " u\"RT @missingpeople: All you tweeters still with #TheBigTweet, we have officially broken last year's RT record! With an hour and a half to go\\u2026\",\n",
       " u'@harryjjj @AngieCoiro @UberFacts http://t.co/vs5Vtgi1s7 :)',\n",
       " u'RT @RasahPrincess: @jk_rowling  Jesus De La Cruz went missing in 1996 and Giovanni Gonzalez-Colon in 2008, both from Lynn, Massachusetts ht\\u2026',\n",
       " u\"RT @TakeThatFan20: @jk_rowling please could you RT this poster? All Allan Bryant's family want is to see him return safely http://t.co/gO87\\u2026\",\n",
       " u\"RT @missingpeople: Remember, any info on any of today's tweets or any other appeals - call 116 000. Free, 24 hour, confidential. #TheBigTwe\\u2026\",\n",
       " u\"RT @missingpeople: Aaron's been missing from #Croydon for a week. Call 116 000 with any info http://t.co/u0cxZT6gsK #TheBigTweet http://t.c\\u2026\",\n",
       " u'RT @missingpeople: Katrice went missing from #Germany in 1981, aged 2 http://t.co/ebup3MiZBF #TheBigTweet #ThanksICAP http://t.co/y2ahRvwnAJ',\n",
       " u'RT @thecolorhannah: @jk_rowling This is a beautiful young woman who has been missing from our community for a month. Any awareness helps! h\\u2026',\n",
       " u'RT @missingpeople: RT and help us find Len Ho missing from #Smethwick http://t.co/ZCjyzKTd8k #TheBigTweet #ThanksICAP http://t.co/vfzkierE0E',\n",
       " u\"RT @missingpeople: Abdullah's been missing from #Dover for nearly 3 years http://t.co/maIoq417qP #TheBigTweet #ThanksICAP http://t.co/hiyeE\\u2026\",\n",
       " u\"RT @missingpeople: Quinn's been missing from #Croydon a month http://t.co/NFsDD2vw1B #TheBigTweet #ThanksICAP http://t.co/ygwdeBjVQB\",\n",
       " u'RT @missingpeople: Madeleine went missing from #Portugal in 2007 http://t.co/BbRBkadZna #TheBigTweet #ThanksICAP http://t.co/n2Y8SWySyY',\n",
       " u\"RT @missingpeople: Lillian's been missing from #Luton nearly 6 months http://t.co/5022Wo6YxJ #TheBigTweet #ThanksICAP http://t.co/7LeDkU5ynz\",\n",
       " u'RT @JanetPJackson: @missingpeople Please help find Barry. Missing from Crosshaven since 2004. #TheBigTweet http://t.co/5xVIbr790r',\n",
       " u'RT @missingpeople: Please RT and help us to find Omar, missing from #Spalding http://t.co/Hi7f2leHI8 #TheBigTweet #ThanksICAP http://t.co/p\\u2026',\n",
       " u'RT @Sychlops: @jk_rowling Went missing from Mumbai India in 2010. Our Hrishi. Help us find him. #TheBigTweet http://t.co/EzCHhi0kDc',\n",
       " u\"RT @QUlNTIS: @jk_rowling please could you RT this poster? All Kaylie's family &amp; friends want is to see her return safely http://t.co/yM9kbE\\u2026\",\n",
       " u\"RT @missingpeople: Lili's been missing from #Birmingham for over a month. Call 116 000 with any info http://t.co/SwxnxRSJkc #TheBigTweet ht\\u2026\",\n",
       " u'Please keep RTing details of missing people! Today is International Missing Children Day and we can help! @missingpeople #TheBigTweet',\n",
       " u'RT @missingpeople: Help find Fabio, missing from #London nearly a year http://t.co/mW5mK9T8te #TheBigTweet #ThanksICAP http://t.co/gqTjUfT4\\u2026',\n",
       " u\"RT @missingpeople: Sabbir's been missing from #Southwark since 2013. Call 116 000 http://t.co/unyt5Vw5eZ #TheBigTweet #ThanksICAP http://t.\\u2026\",\n",
       " u'RT @missingpeople: Pl RT and help find Mahmud, missing from #Hackney http://t.co/XR0576IfkN #TheBigTweet #ThanksICAP http://t.co/1R8PIghYVa',\n",
       " u'RT @missingpeople: Lee was 15 when he went missing from #Sutton in 1988 http://t.co/sybT8pS4Vp #TheBigTweet #ThanksICAP http://t.co/3JCN0az\\u2026',\n",
       " u\"RT @missingpeople: Daniel's been missing from #NewAddington #London since March http://t.co/AxWX9Lpo5l #TheBigTweet http://t.co/W1ZedkHnuU\",\n",
       " u'RT @missingpeople: Thuy went missing from #Minster #Kent over 2 years ago http://t.co/oByzGTqnUe #TheBigTweet #ThanksICAP http://t.co/7ghq7\\u2026',\n",
       " u'RT @missingpeople: Please help find Lam, age 14, missing from #Croydon http://t.co/dyYUqFxeJy #TheBigTweet http://t.co/11cVYBbQlO',\n",
       " u\"RT @missingpeople: Buabed's missing from #Dartford since 2013 &amp; we need your help to find him http://t.co/FSqvTDleXg #TheBigTweet http://t.\\u2026\",\n",
       " u\"RT @missingpeople: Thi's been missing from #Godalming since 2013 and any info could help http://t.co/Af6a2qwQ32 #TheBigTweet #ThanksICAP ht\\u2026\",\n",
       " u'RT @missingpeople: Bekim, 15, has been missing from #Eastbourne over a year http://t.co/QtZqI6q1C0 #TheBigTweet #ThanksICAP http://t.co/MTx\\u2026',\n",
       " u'RT @missingpeople: Abdullah went missing from #Redditch in March http://t.co/fHKBVM5iGx #TheBigTweet #ThanksICAP http://t.co/yZmAv4IcYh',\n",
       " u'RT @missingpeople: Pls help find Kadia, missing from Manchester since 2012 http://t.co/13LWQosGv6 #TheBigTweet #ThanksICAP http://t.co/IB9W\\u2026',\n",
       " u'RT @missingpeople: Linh is missing from #Coventry &amp; we need your help http://t.co/QfEZfG3Y0Y #TheBigTweet #ThanksICAP http://t.co/LjvOwcBWzT',\n",
       " u\"RT @missingpeople: We're searching for Thanh, missing from #Croydon http://t.co/sjDqFcJagy #TheBigTweet #ThanksICAP http://t.co/dw8JpId6pu\",\n",
       " u\"RT @missingpeople: Aphrael's been missing from #Plumstead since March. Call 116 000 with any info http://t.co/mqMdrfnSPq #TheBigTweet http:\\u2026\",\n",
       " u'RT @JustSudbury: Do you know where Luke is? Missing from #Ipswich since May 2006 #TheBigTweet @missingpeople http://t.co/VpR9DRSgpo http://\\u2026',\n",
       " u'RT @missingpeople: Please help &amp; retweet Maio, missing from #Manchester since 2012 http://t.co/4wjQyq7FEp #TheBigTweet #ThanksICAP http://t\\u2026',\n",
       " u\"RT @nytimes: Ireland's vote to approve gay marriage placed the country at the vanguard of social change http://t.co/vLQEDgOpxs http://t.co/\\u2026\",\n",
       " u'@triwizarding Beyonc\\xe9 is my Beyonc\\xe9, but YOU are my JK Rowling.  Weird.',\n",
       " u'Thank you to all the wonderful people who are RTing the details of missing young people!  Please keep at it! @missingpeople #TheBigTweet',\n",
       " u\"RT @missingpeople: Hafsa's been missing from #Luton more than a month. RT and help us find her. http://t.co/KdshNPH6Lo #TheBigTweet http://\\u2026\",\n",
       " u\"An unbreakable vow cannot be... well, the clue's in the name.  My 1000th tweet must therefore go to @maruaders. https://t.co/ZLlVa9Y652\",\n",
       " u'RT @missingpeople: Ben was 1 when he went missing from #Greece in 1991 http://t.co/7qRi35seWv #TheBigTweet @hamogelo http://t.co/Byj2uGDS39',\n",
       " u'RT @Help_Find_Me_: #TheBigTweet Help Find Me:  Relisha Tenau Rudd Age : 9\\n#Missing Since: 3/01/14\\nWashington, DC\\nhttp://t.co/ufNFs2YHut htt\\u2026',\n",
       " u'Please RT these pictures of missing young people - you could be the one whose RT makes the difference!  @missingpeople #TheBigTweet',\n",
       " u'RT @missingpeople: Maria-Brigitte went missing from #Freiburg aged 13 http://t.co/j5HoguNVYX #TheBigTweet #ThanksICAP http://t.co/otbFGSj1WQ',\n",
       " u'@jeromelingad Either way suits me!',\n",
       " u'RT @missingpeople: RT #TheBigTweet &amp; help find Hue, 16, missing from #Romford http://t.co/QtSORsfpea #TheBigTweet #ThanksICAP http://t.co/D\\u2026',\n",
       " u'RT @findmadeleine: Have you seen Rolondo Jusino? #TheBigTweet http://t.co/mVZXR2ClAO',\n",
       " u'RT @findmadeleine: Have you seen Reachelle Smith? #TheBigTweet http://t.co/i8Vi7hiMXP',\n",
       " u'@Steven_Strauss http://t.co/v2oYDFUqEB ;)',\n",
       " u'@jackandhishat @junayed_ @UberFacts Tweak your plans and become a beneficent, inspirational, democratically elected hero.  Easy.',\n",
       " u'RT @missingpeople: Mariam was 14 when she went missing from #Newcastle http://t.co/L0L2B8Az57 #TheBigTweet #ThanksICAP http://t.co/LZ8i3qZe\\u2026',\n",
       " u\"I'm just going to sit here and beam at this for a little while.   https://t.co/SuLaCQv33W\",\n",
       " u'RT @missingpeople: Tapi has been missing from #Croydon for 4 days. RT and help us find him. #TheBigTweet http://t.co/YFK2GfxoZi http://t.co\\u2026',\n",
       " u\"RT @missingpeople: Kevin's been missing from #Croydon over 29 years, since he was 16 http://t.co/z9uvsjLxE1  #TheBigTweet http://t.co/se7BD\\u2026\",\n",
       " u'RT @missingpeople: Aamina was 6 when she went missing from #Croydon http://t.co/CGR5siTigc #TheBigTweet #ThanksICAP http://t.co/dQF9tm6IjP',\n",
       " u\"RT @missingpeople: Kevin's missing from #Streatham; Please RT &amp; help find him http://t.co/3jeu14kg2s #TheBigTweet #ThanksICAP http://t.co/d\\u2026\",\n",
       " u\"Keep RTing, wonderful people, and if you're in the UK don't forget to keep an eye out for the missing. @missingpeople #TheBigTweet\",\n",
       " u'RT @missingpeople: Help in the search &amp; retweet our appeal for Puong, 14, missing from #Warwickshire http://t.co/nXQSolrHdr #TheBigTweet ht\\u2026',\n",
       " u\"RT @missingpeople: Kaylie's missing from #Sidcup #Kent. RT and help find her http://t.co/wLMc1rieWO #TheBigTweet #ThanksICAP http://t.co/HM\\u2026\",\n",
       " u'RT @missingpeople: Please help search for Katie, missing from #Lancing for 10 days http://t.co/h5J2CpeZzA #TheBigTweet #ThanksICAP http://t\\u2026',\n",
       " u\"Please keep RTing @missingpeople's appeals, lovely followers! This works - children have been found through #TheBigTweet!\",\n",
       " u'RT @missingpeople: Alusine is missing from #London - call 116 000 with info http://t.co/NKDheZaepJ #TheBigTweet #ThanksICAP http://t.co/Z7X\\u2026',\n",
       " u\"RT @missingpeople: Uyen's missing from Croydon and we need your help to find her http://t.co/MNtI6HpLbZ #ThanksICAP #TheBigTweet http://t.c\\u2026\",\n",
       " u\"Today is International Missing Children's Day. Please help by RTing @missingpeople's appeals - we can help find lost children. #TheBigTweet.\",\n",
       " u'@henryfraser0 @NeilBlairTBP @JonnyWilkinson @GabbyLogan Consider yourself permitted, Henry x',\n",
       " u\"@JessCroftxox We can't hold that against Albania.  They didn't know.  He was more vapour than human at that point.\",\n",
       " u'@Sathnam Attaboy.',\n",
       " u'@kdugdalemsp psychic!',\n",
       " u'@Sathnam Drink more.  Round about the third glass, it starts to be charming.',\n",
       " u'@ardit_haliti  \"she loves you ;)\"  I actually do x',\n",
       " u\".@jerilynsimons Personally, I think @Mattdavelewis's @AttitudeMag shoot might have swung a few undecideds.\",\n",
       " u'@imoogen I was saving that new skill for something special.',\n",
       " u'.@saskiatijgertje @cassie10yson Ireland first country in the world to legalise gay marriage in a popular vote.',\n",
       " u\".@cassie10yson I don't have the right to be proud, as I'm not Irish. I'm in awe, that's what I am - Ireland has set an example to the world!\",\n",
       " u'.@Eowynlily Fred was born first.  I always thought that was obvious!',\n",
       " u'@RavenFlaps Jacqui turned into Terri!',\n",
       " u'RT @Harryslaststand: It is grand day for everyone b/c #Ireland has show the world that hope, dignity &amp; human rights can be triumphant over \\u2026',\n",
       " u'.@ardit_haliti \\u201cThe arc of the moral universe is long, but it bends towards justice.\\u201d\\nMartin Luther King Jr.',\n",
       " u'@kick_the_spike @Dave__Healy @justaoifethings I know - but you need to tell Twitter emojis - no SHAMROCK!',\n",
       " u'.@justaoifethings \\U0001f49a\\U0001f340\\U0001f308\\U0001f49a  Then they could get married IN IRELAND!  \\U0001f49a\\U0001f340\\U0001f308\\U0001f49a http://t.co/yXedPavZfp',\n",
       " u'@valmcdermid Hear, hear!',\n",
       " u'@valmcdermid May the next generation never go through what some of my friends went through. A victory for love and for human rights!',\n",
       " u'Sitting here watching the Irish make history. Extraordinary and wonderful.',\n",
       " u'@JohnFriary Thank you!',\n",
       " u'RT @pottermore: To celebrate your #SlytherinPride and superb skill, we\\u2019ve prepared a look at \\u2018Famous Slytherins Through the Ages\\u2019. http://t\\u2026',\n",
       " u'RT @pottermore: Congratulations #Slytherin, winners of the latest Pottermore #HouseCup Championship!',\n",
       " u\".@Johnnie_Rowling @lumos That's WONDERFUL, Johnnie!  Thank you so much!\",\n",
       " u\".@gusanttoss @RGalbraith is editing his new novel now.  He's hoping it will be out later this year.\",\n",
       " u'Happy Harvey Milk Day http://t.co/3D75dNVy8c',\n",
       " u\".@DidiZheleva no opportunity to read on the way. I'd drop my cup of tea, for one thing. 2/2\",\n",
       " u'.@DidiZheleva My morning commute (just done it) is walking across a patch of soggy grass to the room in my garden where I write. So 1/2',\n",
       " u'.@valmcdermid Laughing.  Yours in solidarity, my friend x',\n",
       " u\".@valmcdermid That's a relief, I thought it was just me.\",\n",
       " u'.@valmcdermid Is yours looking better or worse the more you reread it?',\n",
       " u'Lunchtime over.  Back to editing.  X',\n",
       " u\".@tigs25 Your Patronus only changes if it's eternal love, unchanging - part of you forever.\",\n",
       " u\".@jasonsfolly @Mattdavelewis I wouldn't know. I hastily averted my eyes and read an article on Political Correctness to get over the shock.\",\n",
       " u'.@Mattdavelewis I will always support you whatever you want to do, Matthew.  Now go put some clothes on.',\n",
       " u\".@Mattdavelewis Not as bad as watching Dan in Equus, but close. Warn me next time, for God's sake. https://t.co/r8EUd1GKqT\",\n",
       " u'RT @SayedModarresi: Beautiful: Christians &amp; Shias stand as brothers in arms, fighting common enemy; #ISIS\\nSee: http://t.co/b4JK5tirZI\\n\\nRT h\\u2026',\n",
       " u'RT @jonsnowC4: just brilliant and very moving:  https://t.co/bz9Xc3u57t',\n",
       " u'RT @RGalbraith: US readers, enter for your chance to win a first edition hardcover of THE CUCKOO\\u2019S CALLING with a signed bookplate: http://\\u2026',\n",
       " u\"@MarkBillingham @valmcdermid You're a dream team. Really looking forward to seeing it!\",\n",
       " u\"@valmcdermid @MarkBillingham Now this is going to be worth watching! When's it on?\",\n",
       " u\"@Always_Amo no, he's just someone who thinks Moaning Myrtle's funny. Boring, but true.\",\n",
       " u'RT @pottermore: Cast your eyes over the current house point standings in the @pottermore #HouseCup \\u2013 but remember, it\\u2019s not over yet! http:\\u2026',\n",
       " u\"And now I've got editing to do, so farewell for the present x\",\n",
       " u\".@BrendanPart @lankytwat I didn't make up 'Warren' on the spot. I already knew Warren.\",\n",
       " u\".@pableshiff @HotmHayles @lankytwat 'What's a good middle name of the period?' Then, the moment I'd committed myself, I thought: uh oh :)\",\n",
       " u\".@pableshiff @HotmHayles @lankytwat I'm laughing here... I already knew her surname was 'Warren' but I just thought 1/2\",\n",
       " u\"Nothing to do with the United States Elizabeth Warren I hasten to add! 'Elizabeth' is just one of those classic British middle names.\",\n",
       " u\".@HotmHayles @lankytwat Moaning Myrtle's full name was Myrtle Elizabeth Warren.\",\n",
       " u'Last day to win a signed copy of Very Good Lives! Donate to @Lumos to keep families together http://t.co/JtNDPJER00 http://t.co/dh5fkreCNt',\n",
       " u'@MasonHingston Weirdo ;)',\n",
       " u\".@JMcGilchrist93 Book burnings! I'll bring marshmallows.\",\n",
       " u'.@JMcGilchrist93 So true. When I worked in an office, I always made sure I spent my earnings only at shops the boss had pre-approved.',\n",
       " u'.@laurenlaverne X',\n",
       " u'@MosquitoMolesto Magic.',\n",
       " u'@UFOria_ As for you, though, I hope you have an excellent weekend and get some sleep x',\n",
       " u\"@UFOria_ the image of any political party. It isn't always fun being a famous woman on Twitter and I believe in standing up to bullies.\",\n",
       " u'@UFOria_ with being called traitor and shite the least of the abuse. I feel no responsibility to hush up that kind of behaviour to protect',\n",
       " u'@UFOria_ on Twitter, very much taking the view that the abusive ones are not typical. This week, though, my personal line has been crossed',\n",
       " u'@UFOria_ how much I had in common politically with many of them. I have ignored and blocked abuse from people with an SNP twibbon for months',\n",
       " u\"@UFOria_ I've favourited and responded to other really nice SNP supporters this week, too. I've talked on Twitter about the Yessers and\",\n",
       " u'@UFOria_ Callum, you seem a very decent person to me, as did the SNP girl whom I said I loved on Twitter this week when she sent me support',\n",
       " u'@UFOria_ @TalieDelemere I say this wearily, Callum, but where did I say they are? I reserve the right to call out people who swear at me.',\n",
       " u'Looking at those beautiful pictures reminds me how big the world is and how many more decent people there are than not, so thank you xxx',\n",
       " u'RT @Drawye: @jk_rowling Come to the south of France ! http://t.co/GHTcWSGJEn',\n",
       " u'RT @xWhitneyTrey: @jk_rowling I say come to Maui http://t.co/FLZIGONyNq',\n",
       " u'RT @lucacolnago: @jk_rowling come to Italy! ITALY ITALY ITALY \\U0001f1ee\\U0001f1f9\\U0001f1ee\\U0001f1f9 http://t.co/eFs8flxyyT',\n",
       " u\"RT @H4RRYV0GUE: @jk_rowling PLEASE COME TO PERU the food it's just amazing and remember that we have Machu Pichu you're gonna love it http:\\u2026\",\n",
       " u'RT @shanna_hunter: @jk_rowling Or, you could come to Canada :) http://t.co/L7OPLEkhW6',\n",
       " u\"RT @frxnketeen: @jk_rowling France is beautiful but it will be perfect if you come here! La France est belle, we're waiting for you \\U0001f60f http:\\u2026\",\n",
       " u'RT @patryk_lech: @jk_rowling Jo, we expect you to visit Poland as well :) http://t.co/RgN4sqnOUw',\n",
       " u\"RT @ericacrombie: @jk_rowling wombats are as cute as they look. And they're waiting to give you cuddles when you get to Australia http://t.\\u2026\",\n",
       " u\"RT @suit_casey: @jk_rowling you're always welcome in South Carolina \\U0001f496 http://t.co/zoRkLHrFCp\",\n",
       " u'RT @Cahhmont: @jk_rowling and brazil j\\xf4? you should come here one day :) http://t.co/hBMKOHjHR5',\n",
       " u\"RT @dodieblackery: @jk_rowling you could always come to to Lincoln! It's underrated \\U0001f60a http://t.co/gYhyzcif5u\",\n",
       " u\"RT @Marleen_1990: @jk_rowling Come to the Netherlands, we've got a spare room and you get to cuddle with this cutie! http://t.co/kWbTQCizNn\",\n",
       " u'RT @MoushiraMagdyy: @jk_rowling forget Europe. Look at EGYPT! http://t.co/6RINkFqKW1',\n",
       " u'RT @calistyless: @jk_rowling Come to Pennsylvania!!! \\U0001f499 http://t.co/dEwOXYf0M3',\n",
       " u'RT @aiaguado: @jk_rowling how about Colorado in the U.S.? \\U0001f33b http://t.co/8e5CBWBXm2',\n",
       " u\".@ledplimmy I've been to Southport and that's very harsh.\",\n",
       " u'.@johngreen From you, John, that means a lot X',\n",
       " u'RT @jimrbob: @jk_rowling North Wales is lovely and hilly and green yet red politically. Come visit! That would be lovely!',\n",
       " u'RT @DaisyDrohan: @jk_rowling Waterford in Ireland. You should come here!\\U0001f602\\U0001f49a\\U0001f340 http://t.co/sz4XcKb7eq',\n",
       " u'Another great slogan! https://t.co/Vnn8CRpUxd',\n",
       " u\".@ricardopq It's making me tearful. I'm always like this. Bullying never makes me cry, then people are lovely and I bawl.\",\n",
       " u\"RT @paradisxstyles: @jk_rowling You have to visit Argentina!!!!  don't you think?\",\n",
       " u\"One of my life's ambitions is to see the northern lights!   https://t.co/GRRG0deBTm\",\n",
       " u'RT @mattydoga: @jk_rowling You are always welcome in Australia as well',\n",
       " u'RT @AdamJSpratt: @jk_rowling You are always welcome in #GodsOwnCountry #Yorkshire! http://t.co/yad3OhqcbG',\n",
       " u'RT @juanperalta70: @jk_rowling you can come to Paraguay!!! We have 20 degrees C in winter!!!',\n",
       " u\"That picture's going to take some beating. https://t.co/DaeQK1finl\",\n",
       " u\".@JoHorrocks1 All abuse I'm getting is UKIP or Scottish Nationalist. All Tories here saying 'freedom of speech.' Credit where credit's due.\",\n",
       " u'.@gillypance xxx',\n",
       " u\".@alicebilger I've got to be honest, if I'm leaving Scotland, the climate is something I probably wouldn't want to replicate first!\",\n",
       " u'RT @YESthatcherDead: Dear @jk_rowling \\n\\nEverything still OK in this nation with 95% SNP MPs?\\n\\nNow I hope you wont be funding any of these e\\u2026',\n",
       " u'The reason I am offending so many Scottish nationalists tonight! Remember... they just won by a landslide! https://t.co/i9f99LJPX9',\n",
       " u'.@strongswiftie13 \"come to Ohio! We have blistering summers and harsh winters!\" I\\'m guessing you don\\'t work for the tourist board.',\n",
       " u'.@Always_Amo And India!  I forgot India!',\n",
       " u\"In the last hour I've been invited to relocate to France, Ireland and Brazil!\",\n",
       " u'.@simonmrzet X',\n",
       " u'.@maggivaughan ;)',\n",
       " u\"There's that warm fuzzy Scottish civic nationalism we hear so much about.   https://t.co/EnVBLU16h8\",\n",
       " u\"@Stevo_Land Thanks Steven.  You're a gent.  :)\",\n",
       " u'If you could all see the amount of love and support flooding my timeline right now, you would be - as I am - overwhelmed. #FaithRestored',\n",
       " u\"@TheGregMurphy 'we still think you're great!' Thank you Greg xxx\",\n",
       " u'RT @LazloMorphine: actual you btw @jk_rowling turncoat shitebag http://t.co/fVOxcRoIo0',\n",
       " u'.@sjosiah0 The Internet doesn\\u2019t just offer opportunities for misogynistic abuse, you know. Penis enlargers can also be bought discreetly.',\n",
       " u'@RobertLindsay Sure you want to come, Robert? https://t.co/kkEALDLZM7',\n",
       " u'\"Scotland hasn\\u2019t voted for a left-wing platform so much as a left-wing pose.\" @JournoStephen tells it like it is http://t.co/YT7z6AfWOM',\n",
       " u\".@Matthew_Ireson Fantastic Beasts and Where To Find Them.  Newt Scamander's a Hufflepuff.\",\n",
       " u'RT @Okwonga: the key factor in #GE2015. https://t.co/UpAccQ5RuQ',\n",
       " u\".@ChrisDarroch2 Chris, if you're this angry in victory, you must really need a hug.\",\n",
       " u'@ChrisDarroch2 and you can\\'t spell \"Slytherin\".',\n",
       " u\".@wanderclaw Well, obviously there are limits. I don't have any UKIP friends. Understanding what leads a person to their choices is key.\",\n",
       " u\".@healingmachine I think it's healthier to hate the policy, not the person. I have friends of all kinds of political beliefs.\",\n",
       " u\".@TalieDelemere However, I hope you've read The Casual Vacany ;)\",\n",
       " u\".@TalieDelemere Of course I do! If we forget our common humanity, we've lost something far more important than an election X\",\n",
       " u'RT @PCollinsTimes: We now have a government beholden to John Redwood rather than to Nick Clegg. This is a very severe downgrade.',\n",
       " u\"@RainDragon182 Not all Slytherins think they're racially superior.  But all those who do are Slytherins.\",\n",
       " u'@amylouisehendry but across whole of UK. Next 5 years scare a lot of people now.']"
      ]
     },
     "execution_count": 93,
     "metadata": {},
     "output_type": "execute_result"
    }
   ],
   "source": [
    "tweets"
   ]
  },
  {
   "cell_type": "markdown",
   "metadata": {},
   "source": [
    "## Storing Tweets into Mongo DB"
   ]
  },
  {
   "cell_type": "code",
   "execution_count": 94,
   "metadata": {
    "collapsed": true
   },
   "outputs": [],
   "source": [
    "client = MongoClient()"
   ]
  },
  {
   "cell_type": "code",
   "execution_count": 95,
   "metadata": {
    "collapsed": true
   },
   "outputs": [],
   "source": [
    "datatweets = client.dsbc.datatweets"
   ]
  },
  {
   "cell_type": "code",
   "execution_count": 96,
   "metadata": {
    "collapsed": false
   },
   "outputs": [
    {
     "data": {
      "text/plain": [
       "{u'n': 200, u'ok': 1}"
      ]
     },
     "execution_count": 96,
     "metadata": {},
     "output_type": "execute_result"
    }
   ],
   "source": [
    "datatweets.remove( { } )"
   ]
  },
  {
   "cell_type": "code",
   "execution_count": 97,
   "metadata": {
    "collapsed": false
   },
   "outputs": [],
   "source": [
    "datatweets = client.dsbc.datatweets\n",
    "for k in tweets:\n",
    "    datatweets_d = {'text': k}\n",
    "    datatweets.insert(datatweets_d)"
   ]
  },
  {
   "cell_type": "code",
   "execution_count": 98,
   "metadata": {
    "collapsed": false
   },
   "outputs": [
    {
     "name": "stdout",
     "output_type": "stream",
     "text": [
      "{u'text': u'.@simonmrzet X', u'_id': ObjectId('55691856bb9ab40227498835')}\n",
      "{u'text': u'This is FANTASTIC, Johnnie, thank you! https://t.co/pTbDFyyUjf', u'_id': ObjectId('55691856bb9ab40227498786')}\n",
      "{u'text': u'@Johnnie_Rowling Good luck Johnnie! X', u'_id': ObjectId('55691856bb9ab40227498787')}\n",
      "{u'text': u\"@JWaus I do indeed!  Take care of yourself, you're extremely important!  xxx\", u'_id': ObjectId('55691856bb9ab40227498788')}\n",
      "{u'text': u'@JWaus Thank you!  Get rested and get well soon xxx', u'_id': ObjectId('55691856bb9ab40227498789')}\n",
      "{u'text': u'@HalesE xxx', u'_id': ObjectId('55691856bb9ab4022749878a')}\n",
      "{u'text': u'@harryjjj @AngieCoiro @UberFacts http://t.co/vs5Vtgi1s7 :)', u'_id': ObjectId('55691856bb9ab40227498793')}\n",
      "{u'text': u'@triwizarding Beyonc\\xe9 is my Beyonc\\xe9, but YOU are my JK Rowling.  Weird.', u'_id': ObjectId('55691856bb9ab402274987b7')}\n",
      "{u'text': u'@jeromelingad Either way suits me!', u'_id': ObjectId('55691856bb9ab402274987bf')}\n",
      "{u'text': u'@Steven_Strauss http://t.co/v2oYDFUqEB ;)', u'_id': ObjectId('55691856bb9ab402274987c3')}\n",
      "{u'text': u\"Keep RTing, wonderful people, and if you're in the UK don't forget to keep an eye out for the missing. @missingpeople #TheBigTweet\", u'_id': ObjectId('55691856bb9ab402274987cb')}\n",
      "{u'text': u'RT @missingpeople: Help in the search &amp; retweet our appeal for Puong, 14, missing from #Warwickshire http://t.co/nXQSolrHdr #TheBigTweet ht\\u2026', u'_id': ObjectId('55691856bb9ab402274987cc')}\n",
      "{u'text': u\"RT @missingpeople: Kaylie's missing from #Sidcup #Kent. RT and help find her http://t.co/wLMc1rieWO #TheBigTweet #ThanksICAP http://t.co/HM\\u2026\", u'_id': ObjectId('55691856bb9ab402274987cd')}\n",
      "{u'text': u'RT @missingpeople: Please help search for Katie, missing from #Lancing for 10 days http://t.co/h5J2CpeZzA #TheBigTweet #ThanksICAP http://t\\u2026', u'_id': ObjectId('55691856bb9ab402274987ce')}\n",
      "{u'text': u\"Please keep RTing @missingpeople's appeals, lovely followers! This works - children have been found through #TheBigTweet!\", u'_id': ObjectId('55691856bb9ab402274987cf')}\n",
      "{u'text': u'RT @missingpeople: Alusine is missing from #London - call 116 000 with info http://t.co/NKDheZaepJ #TheBigTweet #ThanksICAP http://t.co/Z7X\\u2026', u'_id': ObjectId('55691856bb9ab402274987d0')}\n",
      "{u'text': u\"RT @missingpeople: Uyen's missing from Croydon and we need your help to find her http://t.co/MNtI6HpLbZ #ThanksICAP #TheBigTweet http://t.c\\u2026\", u'_id': ObjectId('55691856bb9ab402274987d1')}\n",
      "{u'text': u\"Today is International Missing Children's Day. Please help by RTing @missingpeople's appeals - we can help find lost children. #TheBigTweet.\", u'_id': ObjectId('55691856bb9ab402274987d2')}\n",
      "{u'text': u'@henryfraser0 @NeilBlairTBP @JonnyWilkinson @GabbyLogan Consider yourself permitted, Henry x', u'_id': ObjectId('55691856bb9ab402274987d3')}\n",
      "{u'text': u\"@JessCroftxox We can't hold that against Albania.  They didn't know.  He was more vapour than human at that point.\", u'_id': ObjectId('55691856bb9ab402274987d4')}\n",
      "{u'text': u'@Sathnam Attaboy.', u'_id': ObjectId('55691856bb9ab402274987d5')}\n",
      "{u'text': u'@kdugdalemsp psychic!', u'_id': ObjectId('55691856bb9ab402274987d6')}\n",
      "{u'text': u'@Sathnam Drink more.  Round about the third glass, it starts to be charming.', u'_id': ObjectId('55691856bb9ab402274987d7')}\n",
      "{u'text': u'@ardit_haliti  \"she loves you ;)\"  I actually do x', u'_id': ObjectId('55691856bb9ab402274987d8')}\n",
      "{u'text': u\".@jerilynsimons Personally, I think @Mattdavelewis's @AttitudeMag shoot might have swung a few undecideds.\", u'_id': ObjectId('55691856bb9ab402274987d9')}\n",
      "{u'text': u'@imoogen I was saving that new skill for something special.', u'_id': ObjectId('55691856bb9ab402274987da')}\n",
      "{u'text': u'.@saskiatijgertje @cassie10yson Ireland first country in the world to legalise gay marriage in a popular vote.', u'_id': ObjectId('55691856bb9ab402274987db')}\n",
      "{u'text': u\".@cassie10yson I don't have the right to be proud, as I'm not Irish. I'm in awe, that's what I am - Ireland has set an example to the world!\", u'_id': ObjectId('55691856bb9ab402274987dc')}\n",
      "{u'text': u'.@Eowynlily Fred was born first.  I always thought that was obvious!', u'_id': ObjectId('55691856bb9ab402274987dd')}\n",
      "{u'text': u'@RavenFlaps Jacqui turned into Terri!', u'_id': ObjectId('55691856bb9ab402274987de')}\n",
      "{u'text': u'RT @Harryslaststand: It is grand day for everyone b/c #Ireland has show the world that hope, dignity &amp; human rights can be triumphant over \\u2026', u'_id': ObjectId('55691856bb9ab402274987df')}\n",
      "{u'text': u'.@ardit_haliti \\u201cThe arc of the moral universe is long, but it bends towards justice.\\u201d\\nMartin Luther King Jr.', u'_id': ObjectId('55691856bb9ab402274987e0')}\n",
      "{u'text': u'@kick_the_spike @Dave__Healy @justaoifethings I know - but you need to tell Twitter emojis - no SHAMROCK!', u'_id': ObjectId('55691856bb9ab402274987e1')}\n",
      "{u'text': u'.@justaoifethings \\U0001f49a\\U0001f340\\U0001f308\\U0001f49a  Then they could get married IN IRELAND!  \\U0001f49a\\U0001f340\\U0001f308\\U0001f49a http://t.co/yXedPavZfp', u'_id': ObjectId('55691856bb9ab402274987e2')}\n",
      "{u'text': u'@valmcdermid Hear, hear!', u'_id': ObjectId('55691856bb9ab402274987e3')}\n",
      "{u'text': u'@valmcdermid May the next generation never go through what some of my friends went through. A victory for love and for human rights!', u'_id': ObjectId('55691856bb9ab402274987e4')}\n",
      "{u'text': u'Sitting here watching the Irish make history. Extraordinary and wonderful.', u'_id': ObjectId('55691856bb9ab402274987e5')}\n",
      "{u'text': u'@JohnFriary Thank you!', u'_id': ObjectId('55691856bb9ab402274987e6')}\n",
      "{u'text': u'RT @pottermore: To celebrate your #SlytherinPride and superb skill, we\\u2019ve prepared a look at \\u2018Famous Slytherins Through the Ages\\u2019. http://t\\u2026', u'_id': ObjectId('55691856bb9ab402274987e7')}\n",
      "{u'text': u'RT @pottermore: Congratulations #Slytherin, winners of the latest Pottermore #HouseCup Championship!', u'_id': ObjectId('55691856bb9ab402274987e8')}\n",
      "{u'text': u\".@Johnnie_Rowling @lumos That's WONDERFUL, Johnnie!  Thank you so much!\", u'_id': ObjectId('55691856bb9ab402274987e9')}\n",
      "{u'text': u\".@gusanttoss @RGalbraith is editing his new novel now.  He's hoping it will be out later this year.\", u'_id': ObjectId('55691856bb9ab402274987ea')}\n",
      "{u'text': u'Happy Harvey Milk Day http://t.co/3D75dNVy8c', u'_id': ObjectId('55691856bb9ab402274987eb')}\n",
      "{u'text': u\".@DidiZheleva no opportunity to read on the way. I'd drop my cup of tea, for one thing. 2/2\", u'_id': ObjectId('55691856bb9ab402274987ec')}\n",
      "{u'text': u'.@DidiZheleva My morning commute (just done it) is walking across a patch of soggy grass to the room in my garden where I write. So 1/2', u'_id': ObjectId('55691856bb9ab402274987ed')}\n",
      "{u'text': u'.@valmcdermid Laughing.  Yours in solidarity, my friend x', u'_id': ObjectId('55691856bb9ab402274987ee')}\n",
      "{u'text': u\".@valmcdermid That's a relief, I thought it was just me.\", u'_id': ObjectId('55691856bb9ab402274987ef')}\n",
      "{u'text': u'.@valmcdermid Is yours looking better or worse the more you reread it?', u'_id': ObjectId('55691856bb9ab402274987f0')}\n",
      "{u'text': u'Lunchtime over.  Back to editing.  X', u'_id': ObjectId('55691856bb9ab402274987f1')}\n",
      "{u'text': u\".@tigs25 Your Patronus only changes if it's eternal love, unchanging - part of you forever.\", u'_id': ObjectId('55691856bb9ab402274987f2')}\n",
      "{u'text': u\".@jasonsfolly @Mattdavelewis I wouldn't know. I hastily averted my eyes and read an article on Political Correctness to get over the shock.\", u'_id': ObjectId('55691856bb9ab402274987f3')}\n",
      "{u'text': u'.@Mattdavelewis I will always support you whatever you want to do, Matthew.  Now go put some clothes on.', u'_id': ObjectId('55691856bb9ab402274987f4')}\n",
      "{u'text': u\".@Mattdavelewis Not as bad as watching Dan in Equus, but close. Warn me next time, for God's sake. https://t.co/r8EUd1GKqT\", u'_id': ObjectId('55691856bb9ab402274987f5')}\n",
      "{u'text': u'RT @SayedModarresi: Beautiful: Christians &amp; Shias stand as brothers in arms, fighting common enemy; #ISIS\\nSee: http://t.co/b4JK5tirZI\\n\\nRT h\\u2026', u'_id': ObjectId('55691856bb9ab402274987f6')}\n",
      "{u'text': u'RT @jonsnowC4: just brilliant and very moving:  https://t.co/bz9Xc3u57t', u'_id': ObjectId('55691856bb9ab402274987f7')}\n",
      "{u'text': u'RT @RGalbraith: US readers, enter for your chance to win a first edition hardcover of THE CUCKOO\\u2019S CALLING with a signed bookplate: http://\\u2026', u'_id': ObjectId('55691856bb9ab402274987f8')}\n",
      "{u'text': u\"@MarkBillingham @valmcdermid You're a dream team. Really looking forward to seeing it!\", u'_id': ObjectId('55691856bb9ab402274987f9')}\n",
      "{u'text': u\"@valmcdermid @MarkBillingham Now this is going to be worth watching! When's it on?\", u'_id': ObjectId('55691856bb9ab402274987fa')}\n",
      "{u'text': u\"@Always_Amo no, he's just someone who thinks Moaning Myrtle's funny. Boring, but true.\", u'_id': ObjectId('55691856bb9ab402274987fb')}\n",
      "{u'text': u'RT @pottermore: Cast your eyes over the current house point standings in the @pottermore #HouseCup \\u2013 but remember, it\\u2019s not over yet! http:\\u2026', u'_id': ObjectId('55691856bb9ab402274987fc')}\n",
      "{u'text': u\"And now I've got editing to do, so farewell for the present x\", u'_id': ObjectId('55691856bb9ab402274987fd')}\n",
      "{u'text': u\".@BrendanPart @lankytwat I didn't make up 'Warren' on the spot. I already knew Warren.\", u'_id': ObjectId('55691856bb9ab402274987fe')}\n",
      "{u'text': u\".@pableshiff @HotmHayles @lankytwat 'What's a good middle name of the period?' Then, the moment I'd committed myself, I thought: uh oh :)\", u'_id': ObjectId('55691856bb9ab402274987ff')}\n",
      "{u'text': u\".@pableshiff @HotmHayles @lankytwat I'm laughing here... I already knew her surname was 'Warren' but I just thought 1/2\", u'_id': ObjectId('55691856bb9ab40227498800')}\n",
      "{u'text': u\"Nothing to do with the United States Elizabeth Warren I hasten to add! 'Elizabeth' is just one of those classic British middle names.\", u'_id': ObjectId('55691856bb9ab40227498801')}\n",
      "{u'text': u\".@HotmHayles @lankytwat Moaning Myrtle's full name was Myrtle Elizabeth Warren.\", u'_id': ObjectId('55691856bb9ab40227498802')}\n",
      "{u'text': u'Last day to win a signed copy of Very Good Lives! Donate to @Lumos to keep families together http://t.co/JtNDPJER00 http://t.co/dh5fkreCNt', u'_id': ObjectId('55691856bb9ab40227498803')}\n",
      "{u'text': u'@MasonHingston Weirdo ;)', u'_id': ObjectId('55691856bb9ab40227498804')}\n",
      "{u'text': u\".@JMcGilchrist93 Book burnings! I'll bring marshmallows.\", u'_id': ObjectId('55691856bb9ab40227498805')}\n",
      "{u'text': u'.@JMcGilchrist93 So true. When I worked in an office, I always made sure I spent my earnings only at shops the boss had pre-approved.', u'_id': ObjectId('55691856bb9ab40227498806')}\n",
      "{u'text': u'.@laurenlaverne X', u'_id': ObjectId('55691856bb9ab40227498807')}\n",
      "{u'text': u'@MosquitoMolesto Magic.', u'_id': ObjectId('55691856bb9ab40227498808')}\n",
      "{u'text': u'@UFOria_ As for you, though, I hope you have an excellent weekend and get some sleep x', u'_id': ObjectId('55691856bb9ab40227498809')}\n",
      "{u'text': u\"@UFOria_ the image of any political party. It isn't always fun being a famous woman on Twitter and I believe in standing up to bullies.\", u'_id': ObjectId('55691856bb9ab4022749880a')}\n",
      "{u'text': u'@UFOria_ with being called traitor and shite the least of the abuse. I feel no responsibility to hush up that kind of behaviour to protect', u'_id': ObjectId('55691856bb9ab4022749880b')}\n",
      "{u'text': u'@UFOria_ on Twitter, very much taking the view that the abusive ones are not typical. This week, though, my personal line has been crossed', u'_id': ObjectId('55691856bb9ab4022749880c')}\n",
      "{u'text': u'@UFOria_ how much I had in common politically with many of them. I have ignored and blocked abuse from people with an SNP twibbon for months', u'_id': ObjectId('55691856bb9ab4022749880d')}\n",
      "{u'text': u\"@UFOria_ I've favourited and responded to other really nice SNP supporters this week, too. I've talked on Twitter about the Yessers and\", u'_id': ObjectId('55691856bb9ab4022749880e')}\n",
      "{u'text': u'@UFOria_ Callum, you seem a very decent person to me, as did the SNP girl whom I said I loved on Twitter this week when she sent me support', u'_id': ObjectId('55691856bb9ab4022749880f')}\n",
      "{u'text': u'@UFOria_ @TalieDelemere I say this wearily, Callum, but where did I say they are? I reserve the right to call out people who swear at me.', u'_id': ObjectId('55691856bb9ab40227498810')}\n",
      "{u'text': u'Looking at those beautiful pictures reminds me how big the world is and how many more decent people there are than not, so thank you xxx', u'_id': ObjectId('55691856bb9ab40227498811')}\n",
      "{u'text': u'RT @Drawye: @jk_rowling Come to the south of France ! http://t.co/GHTcWSGJEn', u'_id': ObjectId('55691856bb9ab40227498812')}\n",
      "{u'text': u'RT @xWhitneyTrey: @jk_rowling I say come to Maui http://t.co/FLZIGONyNq', u'_id': ObjectId('55691856bb9ab40227498813')}\n",
      "{u'text': u'RT @lucacolnago: @jk_rowling come to Italy! ITALY ITALY ITALY \\U0001f1ee\\U0001f1f9\\U0001f1ee\\U0001f1f9 http://t.co/eFs8flxyyT', u'_id': ObjectId('55691856bb9ab40227498814')}\n",
      "{u'text': u\"RT @H4RRYV0GUE: @jk_rowling PLEASE COME TO PERU the food it's just amazing and remember that we have Machu Pichu you're gonna love it http:\\u2026\", u'_id': ObjectId('55691856bb9ab40227498815')}\n",
      "{u'text': u'RT @shanna_hunter: @jk_rowling Or, you could come to Canada :) http://t.co/L7OPLEkhW6', u'_id': ObjectId('55691856bb9ab40227498816')}\n",
      "{u'text': u\"RT @frxnketeen: @jk_rowling France is beautiful but it will be perfect if you come here! La France est belle, we're waiting for you \\U0001f60f http:\\u2026\", u'_id': ObjectId('55691856bb9ab40227498817')}\n",
      "{u'text': u'RT @patryk_lech: @jk_rowling Jo, we expect you to visit Poland as well :) http://t.co/RgN4sqnOUw', u'_id': ObjectId('55691856bb9ab40227498818')}\n",
      "{u'text': u\"RT @ericacrombie: @jk_rowling wombats are as cute as they look. And they're waiting to give you cuddles when you get to Australia http://t.\\u2026\", u'_id': ObjectId('55691856bb9ab40227498819')}\n",
      "{u'text': u\"RT @suit_casey: @jk_rowling you're always welcome in South Carolina \\U0001f496 http://t.co/zoRkLHrFCp\", u'_id': ObjectId('55691856bb9ab4022749881a')}\n",
      "{u'text': u'RT @Cahhmont: @jk_rowling and brazil j\\xf4? you should come here one day :) http://t.co/hBMKOHjHR5', u'_id': ObjectId('55691856bb9ab4022749881b')}\n",
      "{u'text': u\"RT @dodieblackery: @jk_rowling you could always come to to Lincoln! It's underrated \\U0001f60a http://t.co/gYhyzcif5u\", u'_id': ObjectId('55691856bb9ab4022749881c')}\n",
      "{u'text': u\"RT @Marleen_1990: @jk_rowling Come to the Netherlands, we've got a spare room and you get to cuddle with this cutie! http://t.co/kWbTQCizNn\", u'_id': ObjectId('55691856bb9ab4022749881d')}\n",
      "{u'text': u'RT @MoushiraMagdyy: @jk_rowling forget Europe. Look at EGYPT! http://t.co/6RINkFqKW1', u'_id': ObjectId('55691856bb9ab4022749881e')}\n",
      "{u'text': u'RT @calistyless: @jk_rowling Come to Pennsylvania!!! \\U0001f499 http://t.co/dEwOXYf0M3', u'_id': ObjectId('55691856bb9ab4022749881f')}\n",
      "{u'text': u'RT @aiaguado: @jk_rowling how about Colorado in the U.S.? \\U0001f33b http://t.co/8e5CBWBXm2', u'_id': ObjectId('55691856bb9ab40227498820')}\n",
      "{u'text': u\".@ledplimmy I've been to Southport and that's very harsh.\", u'_id': ObjectId('55691856bb9ab40227498821')}\n",
      "{u'text': u'.@johngreen From you, John, that means a lot X', u'_id': ObjectId('55691856bb9ab40227498822')}\n",
      "{u'text': u'RT @jimrbob: @jk_rowling North Wales is lovely and hilly and green yet red politically. Come visit! That would be lovely!', u'_id': ObjectId('55691856bb9ab40227498823')}\n",
      "{u'text': u'RT @DaisyDrohan: @jk_rowling Waterford in Ireland. You should come here!\\U0001f602\\U0001f49a\\U0001f340 http://t.co/sz4XcKb7eq', u'_id': ObjectId('55691856bb9ab40227498824')}\n",
      "{u'text': u'Another great slogan! https://t.co/Vnn8CRpUxd', u'_id': ObjectId('55691856bb9ab40227498825')}\n",
      "{u'text': u\".@ricardopq It's making me tearful. I'm always like this. Bullying never makes me cry, then people are lovely and I bawl.\", u'_id': ObjectId('55691856bb9ab40227498826')}\n",
      "{u'text': u\"RT @paradisxstyles: @jk_rowling You have to visit Argentina!!!!  don't you think?\", u'_id': ObjectId('55691856bb9ab40227498827')}\n",
      "{u'text': u\"One of my life's ambitions is to see the northern lights!   https://t.co/GRRG0deBTm\", u'_id': ObjectId('55691856bb9ab40227498828')}\n",
      "{u'text': u'RT @mattydoga: @jk_rowling You are always welcome in Australia as well', u'_id': ObjectId('55691856bb9ab40227498829')}\n",
      "{u'text': u'RT @AdamJSpratt: @jk_rowling You are always welcome in #GodsOwnCountry #Yorkshire! http://t.co/yad3OhqcbG', u'_id': ObjectId('55691856bb9ab4022749882a')}\n",
      "{u'text': u'RT @juanperalta70: @jk_rowling you can come to Paraguay!!! We have 20 degrees C in winter!!!', u'_id': ObjectId('55691856bb9ab4022749882b')}\n",
      "{u'text': u\"That picture's going to take some beating. https://t.co/DaeQK1finl\", u'_id': ObjectId('55691856bb9ab4022749882c')}\n",
      "{u'text': u\".@JoHorrocks1 All abuse I'm getting is UKIP or Scottish Nationalist. All Tories here saying 'freedom of speech.' Credit where credit's due.\", u'_id': ObjectId('55691856bb9ab4022749882d')}\n",
      "{u'text': u'.@gillypance xxx', u'_id': ObjectId('55691856bb9ab4022749882e')}\n",
      "{u'text': u\".@alicebilger I've got to be honest, if I'm leaving Scotland, the climate is something I probably wouldn't want to replicate first!\", u'_id': ObjectId('55691856bb9ab4022749882f')}\n",
      "{u'text': u'RT @YESthatcherDead: Dear @jk_rowling \\n\\nEverything still OK in this nation with 95% SNP MPs?\\n\\nNow I hope you wont be funding any of these e\\u2026', u'_id': ObjectId('55691856bb9ab40227498830')}\n",
      "{u'text': u'The reason I am offending so many Scottish nationalists tonight! Remember... they just won by a landslide! https://t.co/i9f99LJPX9', u'_id': ObjectId('55691856bb9ab40227498831')}\n",
      "{u'text': u'.@strongswiftie13 \"come to Ohio! We have blistering summers and harsh winters!\" I\\'m guessing you don\\'t work for the tourist board.', u'_id': ObjectId('55691856bb9ab40227498832')}\n",
      "{u'text': u'.@Always_Amo And India!  I forgot India!', u'_id': ObjectId('55691856bb9ab40227498833')}\n",
      "{u'text': u\"In the last hour I've been invited to relocate to France, Ireland and Brazil!\", u'_id': ObjectId('55691856bb9ab40227498834')}\n",
      "{u'text': u'.@maggivaughan ;)', u'_id': ObjectId('55691856bb9ab40227498836')}\n",
      "{u'text': u\"There's that warm fuzzy Scottish civic nationalism we hear so much about.   https://t.co/EnVBLU16h8\", u'_id': ObjectId('55691856bb9ab40227498837')}\n",
      "{u'text': u\"@Stevo_Land Thanks Steven.  You're a gent.  :)\", u'_id': ObjectId('55691856bb9ab40227498838')}\n",
      "{u'text': u'If you could all see the amount of love and support flooding my timeline right now, you would be - as I am - overwhelmed. #FaithRestored', u'_id': ObjectId('55691856bb9ab40227498839')}\n",
      "{u'text': u\"@TheGregMurphy 'we still think you're great!' Thank you Greg xxx\", u'_id': ObjectId('55691856bb9ab4022749883a')}\n",
      "{u'text': u'RT @LazloMorphine: actual you btw @jk_rowling turncoat shitebag http://t.co/fVOxcRoIo0', u'_id': ObjectId('55691856bb9ab4022749883b')}\n",
      "{u'text': u'.@sjosiah0 The Internet doesn\\u2019t just offer opportunities for misogynistic abuse, you know. Penis enlargers can also be bought discreetly.', u'_id': ObjectId('55691856bb9ab4022749883c')}\n",
      "{u'text': u'@RobertLindsay Sure you want to come, Robert? https://t.co/kkEALDLZM7', u'_id': ObjectId('55691856bb9ab4022749883d')}\n",
      "{u'text': u'\"Scotland hasn\\u2019t voted for a left-wing platform so much as a left-wing pose.\" @JournoStephen tells it like it is http://t.co/YT7z6AfWOM', u'_id': ObjectId('55691856bb9ab4022749883e')}\n",
      "{u'text': u\".@Matthew_Ireson Fantastic Beasts and Where To Find Them.  Newt Scamander's a Hufflepuff.\", u'_id': ObjectId('55691856bb9ab4022749883f')}\n",
      "{u'text': u'RT @Okwonga: the key factor in #GE2015. https://t.co/UpAccQ5RuQ', u'_id': ObjectId('55691856bb9ab40227498840')}\n",
      "{u'text': u\".@ChrisDarroch2 Chris, if you're this angry in victory, you must really need a hug.\", u'_id': ObjectId('55691856bb9ab40227498841')}\n",
      "{u'text': u'@ChrisDarroch2 and you can\\'t spell \"Slytherin\".', u'_id': ObjectId('55691856bb9ab40227498842')}\n",
      "{u'text': u\".@wanderclaw Well, obviously there are limits. I don't have any UKIP friends. Understanding what leads a person to their choices is key.\", u'_id': ObjectId('55691856bb9ab40227498843')}\n",
      "{u'text': u\".@healingmachine I think it's healthier to hate the policy, not the person. I have friends of all kinds of political beliefs.\", u'_id': ObjectId('55691856bb9ab40227498844')}\n",
      "{u'text': u\".@TalieDelemere However, I hope you've read The Casual Vacany ;)\", u'_id': ObjectId('55691856bb9ab40227498845')}\n",
      "{u'text': u\".@TalieDelemere Of course I do! If we forget our common humanity, we've lost something far more important than an election X\", u'_id': ObjectId('55691856bb9ab40227498846')}\n",
      "{u'text': u'RT @PCollinsTimes: We now have a government beholden to John Redwood rather than to Nick Clegg. This is a very severe downgrade.', u'_id': ObjectId('55691856bb9ab40227498847')}\n",
      "{u'text': u\"@RainDragon182 Not all Slytherins think they're racially superior.  But all those who do are Slytherins.\", u'_id': ObjectId('55691856bb9ab40227498848')}\n",
      "{u'text': u'@amylouisehendry but across whole of UK. Next 5 years scare a lot of people now.', u'_id': ObjectId('55691856bb9ab40227498849')}\n",
      "{u'text': u'RT @WWF: Newly discovered wasp named after the soul-sucking dementors in Harry Potter. Thanks for the inspiration @jk_rowling! http://t.co/\\u2026', u'_id': ObjectId('55691856bb9ab4022749878b')}\n",
      "{u'text': u\"I don't care about WBC.  I think it's important that scared gay kids who aren't out yet see hate speech challenged. https://t.co/XumjDmEjuw\", u'_id': ObjectId('55691856bb9ab4022749878c')}\n",
      "{u'text': u'.@WBCsigns Alas, the sheer awesomeness of such a union in such a place would blow your tiny bigoted minds out of your thick sloping skulls.', u'_id': ObjectId('55691856bb9ab4022749878d')}\n",
      "{u'text': u'RT @Okwonga: When #MikeBrown died in #Ferguson, the story was all over the news. The same should be true for #ShekuBayoh. http://t.co/z6Elh\\u2026', u'_id': ObjectId('55691856bb9ab4022749878e')}\n",
      "{u'text': u\"RT @missingpeople: The morning after #TheBigTweet and we've got some refreshed info for you... you managed over 95,000 retweets in 24 hours!\", u'_id': ObjectId('55691856bb9ab4022749878f')}\n",
      "{u'text': u'RT @missingpeople: Help find Mohammed, 15, missing from #Hackney for over a month. http://t.co/MIhxvGG4uS #TheBigTweet #ThanksICAP http://t\\u2026', u'_id': ObjectId('55691856bb9ab40227498790')}\n",
      "{u'text': u'RT @missingpeople: Please retweet Destiny, 15, missing from #KingsBromley http://t.co/hv8P2GEjcQ\\n#TheBigTweet #ThanksICAP http://t.co/sgUlO\\u2026', u'_id': ObjectId('55691856bb9ab40227498791')}\n",
      "{u'text': u\"RT @missingpeople: All you tweeters still with #TheBigTweet, we have officially broken last year's RT record! With an hour and a half to go\\u2026\", u'_id': ObjectId('55691856bb9ab40227498792')}\n",
      "{u'text': u'RT @RasahPrincess: @jk_rowling  Jesus De La Cruz went missing in 1996 and Giovanni Gonzalez-Colon in 2008, both from Lynn, Massachusetts ht\\u2026', u'_id': ObjectId('55691856bb9ab40227498794')}\n",
      "{u'text': u\"RT @TakeThatFan20: @jk_rowling please could you RT this poster? All Allan Bryant's family want is to see him return safely http://t.co/gO87\\u2026\", u'_id': ObjectId('55691856bb9ab40227498795')}\n",
      "{u'text': u\"RT @missingpeople: Remember, any info on any of today's tweets or any other appeals - call 116 000. Free, 24 hour, confidential. #TheBigTwe\\u2026\", u'_id': ObjectId('55691856bb9ab40227498796')}\n",
      "{u'text': u\"RT @missingpeople: Aaron's been missing from #Croydon for a week. Call 116 000 with any info http://t.co/u0cxZT6gsK #TheBigTweet http://t.c\\u2026\", u'_id': ObjectId('55691856bb9ab40227498797')}\n",
      "{u'text': u'RT @missingpeople: Katrice went missing from #Germany in 1981, aged 2 http://t.co/ebup3MiZBF #TheBigTweet #ThanksICAP http://t.co/y2ahRvwnAJ', u'_id': ObjectId('55691856bb9ab40227498798')}\n",
      "{u'text': u'RT @thecolorhannah: @jk_rowling This is a beautiful young woman who has been missing from our community for a month. Any awareness helps! h\\u2026', u'_id': ObjectId('55691856bb9ab40227498799')}\n",
      "{u'text': u'RT @missingpeople: RT and help us find Len Ho missing from #Smethwick http://t.co/ZCjyzKTd8k #TheBigTweet #ThanksICAP http://t.co/vfzkierE0E', u'_id': ObjectId('55691856bb9ab4022749879a')}\n",
      "{u'text': u\"RT @missingpeople: Abdullah's been missing from #Dover for nearly 3 years http://t.co/maIoq417qP #TheBigTweet #ThanksICAP http://t.co/hiyeE\\u2026\", u'_id': ObjectId('55691856bb9ab4022749879b')}\n",
      "{u'text': u\"RT @missingpeople: Quinn's been missing from #Croydon a month http://t.co/NFsDD2vw1B #TheBigTweet #ThanksICAP http://t.co/ygwdeBjVQB\", u'_id': ObjectId('55691856bb9ab4022749879c')}\n",
      "{u'text': u'RT @missingpeople: Madeleine went missing from #Portugal in 2007 http://t.co/BbRBkadZna #TheBigTweet #ThanksICAP http://t.co/n2Y8SWySyY', u'_id': ObjectId('55691856bb9ab4022749879d')}\n",
      "{u'text': u\"RT @missingpeople: Lillian's been missing from #Luton nearly 6 months http://t.co/5022Wo6YxJ #TheBigTweet #ThanksICAP http://t.co/7LeDkU5ynz\", u'_id': ObjectId('55691856bb9ab4022749879e')}\n",
      "{u'text': u'RT @JanetPJackson: @missingpeople Please help find Barry. Missing from Crosshaven since 2004. #TheBigTweet http://t.co/5xVIbr790r', u'_id': ObjectId('55691856bb9ab4022749879f')}\n",
      "{u'text': u'RT @missingpeople: Please RT and help us to find Omar, missing from #Spalding http://t.co/Hi7f2leHI8 #TheBigTweet #ThanksICAP http://t.co/p\\u2026', u'_id': ObjectId('55691856bb9ab402274987a0')}\n",
      "{u'text': u'RT @Sychlops: @jk_rowling Went missing from Mumbai India in 2010. Our Hrishi. Help us find him. #TheBigTweet http://t.co/EzCHhi0kDc', u'_id': ObjectId('55691856bb9ab402274987a1')}\n",
      "{u'text': u\"RT @QUlNTIS: @jk_rowling please could you RT this poster? All Kaylie's family &amp; friends want is to see her return safely http://t.co/yM9kbE\\u2026\", u'_id': ObjectId('55691856bb9ab402274987a2')}\n",
      "{u'text': u\"RT @missingpeople: Lili's been missing from #Birmingham for over a month. Call 116 000 with any info http://t.co/SwxnxRSJkc #TheBigTweet ht\\u2026\", u'_id': ObjectId('55691856bb9ab402274987a3')}\n",
      "{u'text': u'Please keep RTing details of missing people! Today is International Missing Children Day and we can help! @missingpeople #TheBigTweet', u'_id': ObjectId('55691856bb9ab402274987a4')}\n",
      "{u'text': u'RT @missingpeople: Help find Fabio, missing from #London nearly a year http://t.co/mW5mK9T8te #TheBigTweet #ThanksICAP http://t.co/gqTjUfT4\\u2026', u'_id': ObjectId('55691856bb9ab402274987a5')}\n",
      "{u'text': u\"RT @missingpeople: Sabbir's been missing from #Southwark since 2013. Call 116 000 http://t.co/unyt5Vw5eZ #TheBigTweet #ThanksICAP http://t.\\u2026\", u'_id': ObjectId('55691856bb9ab402274987a6')}\n",
      "{u'text': u'RT @missingpeople: Pl RT and help find Mahmud, missing from #Hackney http://t.co/XR0576IfkN #TheBigTweet #ThanksICAP http://t.co/1R8PIghYVa', u'_id': ObjectId('55691856bb9ab402274987a7')}\n",
      "{u'text': u'RT @missingpeople: Lee was 15 when he went missing from #Sutton in 1988 http://t.co/sybT8pS4Vp #TheBigTweet #ThanksICAP http://t.co/3JCN0az\\u2026', u'_id': ObjectId('55691856bb9ab402274987a8')}\n",
      "{u'text': u\"RT @missingpeople: Daniel's been missing from #NewAddington #London since March http://t.co/AxWX9Lpo5l #TheBigTweet http://t.co/W1ZedkHnuU\", u'_id': ObjectId('55691856bb9ab402274987a9')}\n",
      "{u'text': u'RT @missingpeople: Thuy went missing from #Minster #Kent over 2 years ago http://t.co/oByzGTqnUe #TheBigTweet #ThanksICAP http://t.co/7ghq7\\u2026', u'_id': ObjectId('55691856bb9ab402274987aa')}\n",
      "{u'text': u'RT @missingpeople: Please help find Lam, age 14, missing from #Croydon http://t.co/dyYUqFxeJy #TheBigTweet http://t.co/11cVYBbQlO', u'_id': ObjectId('55691856bb9ab402274987ab')}\n",
      "{u'text': u\"RT @missingpeople: Buabed's missing from #Dartford since 2013 &amp; we need your help to find him http://t.co/FSqvTDleXg #TheBigTweet http://t.\\u2026\", u'_id': ObjectId('55691856bb9ab402274987ac')}\n",
      "{u'text': u\"RT @missingpeople: Thi's been missing from #Godalming since 2013 and any info could help http://t.co/Af6a2qwQ32 #TheBigTweet #ThanksICAP ht\\u2026\", u'_id': ObjectId('55691856bb9ab402274987ad')}\n",
      "{u'text': u'RT @missingpeople: Bekim, 15, has been missing from #Eastbourne over a year http://t.co/QtZqI6q1C0 #TheBigTweet #ThanksICAP http://t.co/MTx\\u2026', u'_id': ObjectId('55691856bb9ab402274987ae')}\n",
      "{u'text': u'RT @missingpeople: Abdullah went missing from #Redditch in March http://t.co/fHKBVM5iGx #TheBigTweet #ThanksICAP http://t.co/yZmAv4IcYh', u'_id': ObjectId('55691856bb9ab402274987af')}\n",
      "{u'text': u'RT @missingpeople: Pls help find Kadia, missing from Manchester since 2012 http://t.co/13LWQosGv6 #TheBigTweet #ThanksICAP http://t.co/IB9W\\u2026', u'_id': ObjectId('55691856bb9ab402274987b0')}\n",
      "{u'text': u'RT @missingpeople: Linh is missing from #Coventry &amp; we need your help http://t.co/QfEZfG3Y0Y #TheBigTweet #ThanksICAP http://t.co/LjvOwcBWzT', u'_id': ObjectId('55691856bb9ab402274987b1')}\n",
      "{u'text': u\"RT @missingpeople: We're searching for Thanh, missing from #Croydon http://t.co/sjDqFcJagy #TheBigTweet #ThanksICAP http://t.co/dw8JpId6pu\", u'_id': ObjectId('55691856bb9ab402274987b2')}\n",
      "{u'text': u\"RT @missingpeople: Aphrael's been missing from #Plumstead since March. Call 116 000 with any info http://t.co/mqMdrfnSPq #TheBigTweet http:\\u2026\", u'_id': ObjectId('55691856bb9ab402274987b3')}\n",
      "{u'text': u'RT @JustSudbury: Do you know where Luke is? Missing from #Ipswich since May 2006 #TheBigTweet @missingpeople http://t.co/VpR9DRSgpo http://\\u2026', u'_id': ObjectId('55691856bb9ab402274987b4')}\n",
      "{u'text': u'RT @missingpeople: Please help &amp; retweet Maio, missing from #Manchester since 2012 http://t.co/4wjQyq7FEp #TheBigTweet #ThanksICAP http://t\\u2026', u'_id': ObjectId('55691856bb9ab402274987b5')}\n",
      "{u'text': u\"RT @nytimes: Ireland's vote to approve gay marriage placed the country at the vanguard of social change http://t.co/vLQEDgOpxs http://t.co/\\u2026\", u'_id': ObjectId('55691856bb9ab402274987b6')}\n",
      "{u'text': u'Thank you to all the wonderful people who are RTing the details of missing young people!  Please keep at it! @missingpeople #TheBigTweet', u'_id': ObjectId('55691856bb9ab402274987b8')}\n",
      "{u'text': u\"RT @missingpeople: Hafsa's been missing from #Luton more than a month. RT and help us find her. http://t.co/KdshNPH6Lo #TheBigTweet http://\\u2026\", u'_id': ObjectId('55691856bb9ab402274987b9')}\n",
      "{u'text': u\"An unbreakable vow cannot be... well, the clue's in the name.  My 1000th tweet must therefore go to @maruaders. https://t.co/ZLlVa9Y652\", u'_id': ObjectId('55691856bb9ab402274987ba')}\n",
      "{u'text': u'RT @missingpeople: Ben was 1 when he went missing from #Greece in 1991 http://t.co/7qRi35seWv #TheBigTweet @hamogelo http://t.co/Byj2uGDS39', u'_id': ObjectId('55691856bb9ab402274987bb')}\n",
      "{u'text': u'RT @Help_Find_Me_: #TheBigTweet Help Find Me:  Relisha Tenau Rudd Age : 9\\n#Missing Since: 3/01/14\\nWashington, DC\\nhttp://t.co/ufNFs2YHut htt\\u2026', u'_id': ObjectId('55691856bb9ab402274987bc')}\n",
      "{u'text': u'Please RT these pictures of missing young people - you could be the one whose RT makes the difference!  @missingpeople #TheBigTweet', u'_id': ObjectId('55691856bb9ab402274987bd')}\n",
      "{u'text': u'RT @missingpeople: Maria-Brigitte went missing from #Freiburg aged 13 http://t.co/j5HoguNVYX #TheBigTweet #ThanksICAP http://t.co/otbFGSj1WQ', u'_id': ObjectId('55691856bb9ab402274987be')}\n",
      "{u'text': u'RT @missingpeople: RT #TheBigTweet &amp; help find Hue, 16, missing from #Romford http://t.co/QtSORsfpea #TheBigTweet #ThanksICAP http://t.co/D\\u2026', u'_id': ObjectId('55691856bb9ab402274987c0')}\n",
      "{u'text': u'RT @findmadeleine: Have you seen Rolondo Jusino? #TheBigTweet http://t.co/mVZXR2ClAO', u'_id': ObjectId('55691856bb9ab402274987c1')}\n",
      "{u'text': u'RT @findmadeleine: Have you seen Reachelle Smith? #TheBigTweet http://t.co/i8Vi7hiMXP', u'_id': ObjectId('55691856bb9ab402274987c2')}\n",
      "{u'text': u'@jackandhishat @junayed_ @UberFacts Tweak your plans and become a beneficent, inspirational, democratically elected hero.  Easy.', u'_id': ObjectId('55691856bb9ab402274987c4')}\n",
      "{u'text': u'RT @missingpeople: Mariam was 14 when she went missing from #Newcastle http://t.co/L0L2B8Az57 #TheBigTweet #ThanksICAP http://t.co/LZ8i3qZe\\u2026', u'_id': ObjectId('55691856bb9ab402274987c5')}\n",
      "{u'text': u\"I'm just going to sit here and beam at this for a little while.   https://t.co/SuLaCQv33W\", u'_id': ObjectId('55691856bb9ab402274987c6')}\n",
      "{u'text': u'RT @missingpeople: Tapi has been missing from #Croydon for 4 days. RT and help us find him. #TheBigTweet http://t.co/YFK2GfxoZi http://t.co\\u2026', u'_id': ObjectId('55691856bb9ab402274987c7')}\n",
      "{u'text': u\"RT @missingpeople: Kevin's been missing from #Croydon over 29 years, since he was 16 http://t.co/z9uvsjLxE1  #TheBigTweet http://t.co/se7BD\\u2026\", u'_id': ObjectId('55691856bb9ab402274987c8')}\n",
      "{u'text': u'RT @missingpeople: Aamina was 6 when she went missing from #Croydon http://t.co/CGR5siTigc #TheBigTweet #ThanksICAP http://t.co/dQF9tm6IjP', u'_id': ObjectId('55691856bb9ab402274987c9')}\n",
      "{u'text': u\"RT @missingpeople: Kevin's missing from #Streatham; Please RT &amp; help find him http://t.co/3jeu14kg2s #TheBigTweet #ThanksICAP http://t.co/d\\u2026\", u'_id': ObjectId('55691856bb9ab402274987ca')}\n"
     ]
    },
    {
     "data": {
      "text/plain": [
       "[u'.@simonmrzet X',\n",
       " u'This is FANTASTIC, Johnnie, thank you! https://t.co/pTbDFyyUjf',\n",
       " u'@Johnnie_Rowling Good luck Johnnie! X',\n",
       " u\"@JWaus I do indeed!  Take care of yourself, you're extremely important!  xxx\",\n",
       " u'@JWaus Thank you!  Get rested and get well soon xxx',\n",
       " u'@HalesE xxx',\n",
       " u'@harryjjj @AngieCoiro @UberFacts http://t.co/vs5Vtgi1s7 :)',\n",
       " u'@triwizarding Beyonc\\xe9 is my Beyonc\\xe9, but YOU are my JK Rowling.  Weird.',\n",
       " u'@jeromelingad Either way suits me!',\n",
       " u'@Steven_Strauss http://t.co/v2oYDFUqEB ;)',\n",
       " u\"Keep RTing, wonderful people, and if you're in the UK don't forget to keep an eye out for the missing. @missingpeople #TheBigTweet\",\n",
       " u'RT @missingpeople: Help in the search &amp; retweet our appeal for Puong, 14, missing from #Warwickshire http://t.co/nXQSolrHdr #TheBigTweet ht\\u2026',\n",
       " u\"RT @missingpeople: Kaylie's missing from #Sidcup #Kent. RT and help find her http://t.co/wLMc1rieWO #TheBigTweet #ThanksICAP http://t.co/HM\\u2026\",\n",
       " u'RT @missingpeople: Please help search for Katie, missing from #Lancing for 10 days http://t.co/h5J2CpeZzA #TheBigTweet #ThanksICAP http://t\\u2026',\n",
       " u\"Please keep RTing @missingpeople's appeals, lovely followers! This works - children have been found through #TheBigTweet!\",\n",
       " u'RT @missingpeople: Alusine is missing from #London - call 116 000 with info http://t.co/NKDheZaepJ #TheBigTweet #ThanksICAP http://t.co/Z7X\\u2026',\n",
       " u\"RT @missingpeople: Uyen's missing from Croydon and we need your help to find her http://t.co/MNtI6HpLbZ #ThanksICAP #TheBigTweet http://t.c\\u2026\",\n",
       " u\"Today is International Missing Children's Day. Please help by RTing @missingpeople's appeals - we can help find lost children. #TheBigTweet.\",\n",
       " u'@henryfraser0 @NeilBlairTBP @JonnyWilkinson @GabbyLogan Consider yourself permitted, Henry x',\n",
       " u\"@JessCroftxox We can't hold that against Albania.  They didn't know.  He was more vapour than human at that point.\",\n",
       " u'@Sathnam Attaboy.',\n",
       " u'@kdugdalemsp psychic!',\n",
       " u'@Sathnam Drink more.  Round about the third glass, it starts to be charming.',\n",
       " u'@ardit_haliti  \"she loves you ;)\"  I actually do x',\n",
       " u\".@jerilynsimons Personally, I think @Mattdavelewis's @AttitudeMag shoot might have swung a few undecideds.\",\n",
       " u'@imoogen I was saving that new skill for something special.',\n",
       " u'.@saskiatijgertje @cassie10yson Ireland first country in the world to legalise gay marriage in a popular vote.',\n",
       " u\".@cassie10yson I don't have the right to be proud, as I'm not Irish. I'm in awe, that's what I am - Ireland has set an example to the world!\",\n",
       " u'.@Eowynlily Fred was born first.  I always thought that was obvious!',\n",
       " u'@RavenFlaps Jacqui turned into Terri!',\n",
       " u'RT @Harryslaststand: It is grand day for everyone b/c #Ireland has show the world that hope, dignity &amp; human rights can be triumphant over \\u2026',\n",
       " u'.@ardit_haliti \\u201cThe arc of the moral universe is long, but it bends towards justice.\\u201d\\nMartin Luther King Jr.',\n",
       " u'@kick_the_spike @Dave__Healy @justaoifethings I know - but you need to tell Twitter emojis - no SHAMROCK!',\n",
       " u'.@justaoifethings \\U0001f49a\\U0001f340\\U0001f308\\U0001f49a  Then they could get married IN IRELAND!  \\U0001f49a\\U0001f340\\U0001f308\\U0001f49a http://t.co/yXedPavZfp',\n",
       " u'@valmcdermid Hear, hear!',\n",
       " u'@valmcdermid May the next generation never go through what some of my friends went through. A victory for love and for human rights!',\n",
       " u'Sitting here watching the Irish make history. Extraordinary and wonderful.',\n",
       " u'@JohnFriary Thank you!',\n",
       " u'RT @pottermore: To celebrate your #SlytherinPride and superb skill, we\\u2019ve prepared a look at \\u2018Famous Slytherins Through the Ages\\u2019. http://t\\u2026',\n",
       " u'RT @pottermore: Congratulations #Slytherin, winners of the latest Pottermore #HouseCup Championship!',\n",
       " u\".@Johnnie_Rowling @lumos That's WONDERFUL, Johnnie!  Thank you so much!\",\n",
       " u\".@gusanttoss @RGalbraith is editing his new novel now.  He's hoping it will be out later this year.\",\n",
       " u'Happy Harvey Milk Day http://t.co/3D75dNVy8c',\n",
       " u\".@DidiZheleva no opportunity to read on the way. I'd drop my cup of tea, for one thing. 2/2\",\n",
       " u'.@DidiZheleva My morning commute (just done it) is walking across a patch of soggy grass to the room in my garden where I write. So 1/2',\n",
       " u'.@valmcdermid Laughing.  Yours in solidarity, my friend x',\n",
       " u\".@valmcdermid That's a relief, I thought it was just me.\",\n",
       " u'.@valmcdermid Is yours looking better or worse the more you reread it?',\n",
       " u'Lunchtime over.  Back to editing.  X',\n",
       " u\".@tigs25 Your Patronus only changes if it's eternal love, unchanging - part of you forever.\",\n",
       " u\".@jasonsfolly @Mattdavelewis I wouldn't know. I hastily averted my eyes and read an article on Political Correctness to get over the shock.\",\n",
       " u'.@Mattdavelewis I will always support you whatever you want to do, Matthew.  Now go put some clothes on.',\n",
       " u\".@Mattdavelewis Not as bad as watching Dan in Equus, but close. Warn me next time, for God's sake. https://t.co/r8EUd1GKqT\",\n",
       " u'RT @SayedModarresi: Beautiful: Christians &amp; Shias stand as brothers in arms, fighting common enemy; #ISIS\\nSee: http://t.co/b4JK5tirZI\\n\\nRT h\\u2026',\n",
       " u'RT @jonsnowC4: just brilliant and very moving:  https://t.co/bz9Xc3u57t',\n",
       " u'RT @RGalbraith: US readers, enter for your chance to win a first edition hardcover of THE CUCKOO\\u2019S CALLING with a signed bookplate: http://\\u2026',\n",
       " u\"@MarkBillingham @valmcdermid You're a dream team. Really looking forward to seeing it!\",\n",
       " u\"@valmcdermid @MarkBillingham Now this is going to be worth watching! When's it on?\",\n",
       " u\"@Always_Amo no, he's just someone who thinks Moaning Myrtle's funny. Boring, but true.\",\n",
       " u'RT @pottermore: Cast your eyes over the current house point standings in the @pottermore #HouseCup \\u2013 but remember, it\\u2019s not over yet! http:\\u2026',\n",
       " u\"And now I've got editing to do, so farewell for the present x\",\n",
       " u\".@BrendanPart @lankytwat I didn't make up 'Warren' on the spot. I already knew Warren.\",\n",
       " u\".@pableshiff @HotmHayles @lankytwat 'What's a good middle name of the period?' Then, the moment I'd committed myself, I thought: uh oh :)\",\n",
       " u\".@pableshiff @HotmHayles @lankytwat I'm laughing here... I already knew her surname was 'Warren' but I just thought 1/2\",\n",
       " u\"Nothing to do with the United States Elizabeth Warren I hasten to add! 'Elizabeth' is just one of those classic British middle names.\",\n",
       " u\".@HotmHayles @lankytwat Moaning Myrtle's full name was Myrtle Elizabeth Warren.\",\n",
       " u'Last day to win a signed copy of Very Good Lives! Donate to @Lumos to keep families together http://t.co/JtNDPJER00 http://t.co/dh5fkreCNt',\n",
       " u'@MasonHingston Weirdo ;)',\n",
       " u\".@JMcGilchrist93 Book burnings! I'll bring marshmallows.\",\n",
       " u'.@JMcGilchrist93 So true. When I worked in an office, I always made sure I spent my earnings only at shops the boss had pre-approved.',\n",
       " u'.@laurenlaverne X',\n",
       " u'@MosquitoMolesto Magic.',\n",
       " u'@UFOria_ As for you, though, I hope you have an excellent weekend and get some sleep x',\n",
       " u\"@UFOria_ the image of any political party. It isn't always fun being a famous woman on Twitter and I believe in standing up to bullies.\",\n",
       " u'@UFOria_ with being called traitor and shite the least of the abuse. I feel no responsibility to hush up that kind of behaviour to protect',\n",
       " u'@UFOria_ on Twitter, very much taking the view that the abusive ones are not typical. This week, though, my personal line has been crossed',\n",
       " u'@UFOria_ how much I had in common politically with many of them. I have ignored and blocked abuse from people with an SNP twibbon for months',\n",
       " u\"@UFOria_ I've favourited and responded to other really nice SNP supporters this week, too. I've talked on Twitter about the Yessers and\",\n",
       " u'@UFOria_ Callum, you seem a very decent person to me, as did the SNP girl whom I said I loved on Twitter this week when she sent me support',\n",
       " u'@UFOria_ @TalieDelemere I say this wearily, Callum, but where did I say they are? I reserve the right to call out people who swear at me.',\n",
       " u'Looking at those beautiful pictures reminds me how big the world is and how many more decent people there are than not, so thank you xxx',\n",
       " u'RT @Drawye: @jk_rowling Come to the south of France ! http://t.co/GHTcWSGJEn',\n",
       " u'RT @xWhitneyTrey: @jk_rowling I say come to Maui http://t.co/FLZIGONyNq',\n",
       " u'RT @lucacolnago: @jk_rowling come to Italy! ITALY ITALY ITALY \\U0001f1ee\\U0001f1f9\\U0001f1ee\\U0001f1f9 http://t.co/eFs8flxyyT',\n",
       " u\"RT @H4RRYV0GUE: @jk_rowling PLEASE COME TO PERU the food it's just amazing and remember that we have Machu Pichu you're gonna love it http:\\u2026\",\n",
       " u'RT @shanna_hunter: @jk_rowling Or, you could come to Canada :) http://t.co/L7OPLEkhW6',\n",
       " u\"RT @frxnketeen: @jk_rowling France is beautiful but it will be perfect if you come here! La France est belle, we're waiting for you \\U0001f60f http:\\u2026\",\n",
       " u'RT @patryk_lech: @jk_rowling Jo, we expect you to visit Poland as well :) http://t.co/RgN4sqnOUw',\n",
       " u\"RT @ericacrombie: @jk_rowling wombats are as cute as they look. And they're waiting to give you cuddles when you get to Australia http://t.\\u2026\",\n",
       " u\"RT @suit_casey: @jk_rowling you're always welcome in South Carolina \\U0001f496 http://t.co/zoRkLHrFCp\",\n",
       " u'RT @Cahhmont: @jk_rowling and brazil j\\xf4? you should come here one day :) http://t.co/hBMKOHjHR5',\n",
       " u\"RT @dodieblackery: @jk_rowling you could always come to to Lincoln! It's underrated \\U0001f60a http://t.co/gYhyzcif5u\",\n",
       " u\"RT @Marleen_1990: @jk_rowling Come to the Netherlands, we've got a spare room and you get to cuddle with this cutie! http://t.co/kWbTQCizNn\",\n",
       " u'RT @MoushiraMagdyy: @jk_rowling forget Europe. Look at EGYPT! http://t.co/6RINkFqKW1',\n",
       " u'RT @calistyless: @jk_rowling Come to Pennsylvania!!! \\U0001f499 http://t.co/dEwOXYf0M3',\n",
       " u'RT @aiaguado: @jk_rowling how about Colorado in the U.S.? \\U0001f33b http://t.co/8e5CBWBXm2',\n",
       " u\".@ledplimmy I've been to Southport and that's very harsh.\",\n",
       " u'.@johngreen From you, John, that means a lot X',\n",
       " u'RT @jimrbob: @jk_rowling North Wales is lovely and hilly and green yet red politically. Come visit! That would be lovely!',\n",
       " u'RT @DaisyDrohan: @jk_rowling Waterford in Ireland. You should come here!\\U0001f602\\U0001f49a\\U0001f340 http://t.co/sz4XcKb7eq',\n",
       " u'Another great slogan! https://t.co/Vnn8CRpUxd',\n",
       " u\".@ricardopq It's making me tearful. I'm always like this. Bullying never makes me cry, then people are lovely and I bawl.\",\n",
       " u\"RT @paradisxstyles: @jk_rowling You have to visit Argentina!!!!  don't you think?\",\n",
       " u\"One of my life's ambitions is to see the northern lights!   https://t.co/GRRG0deBTm\",\n",
       " u'RT @mattydoga: @jk_rowling You are always welcome in Australia as well',\n",
       " u'RT @AdamJSpratt: @jk_rowling You are always welcome in #GodsOwnCountry #Yorkshire! http://t.co/yad3OhqcbG',\n",
       " u'RT @juanperalta70: @jk_rowling you can come to Paraguay!!! We have 20 degrees C in winter!!!',\n",
       " u\"That picture's going to take some beating. https://t.co/DaeQK1finl\",\n",
       " u\".@JoHorrocks1 All abuse I'm getting is UKIP or Scottish Nationalist. All Tories here saying 'freedom of speech.' Credit where credit's due.\",\n",
       " u'.@gillypance xxx',\n",
       " u\".@alicebilger I've got to be honest, if I'm leaving Scotland, the climate is something I probably wouldn't want to replicate first!\",\n",
       " u'RT @YESthatcherDead: Dear @jk_rowling \\n\\nEverything still OK in this nation with 95% SNP MPs?\\n\\nNow I hope you wont be funding any of these e\\u2026',\n",
       " u'The reason I am offending so many Scottish nationalists tonight! Remember... they just won by a landslide! https://t.co/i9f99LJPX9',\n",
       " u'.@strongswiftie13 \"come to Ohio! We have blistering summers and harsh winters!\" I\\'m guessing you don\\'t work for the tourist board.',\n",
       " u'.@Always_Amo And India!  I forgot India!',\n",
       " u\"In the last hour I've been invited to relocate to France, Ireland and Brazil!\",\n",
       " u'.@maggivaughan ;)',\n",
       " u\"There's that warm fuzzy Scottish civic nationalism we hear so much about.   https://t.co/EnVBLU16h8\",\n",
       " u\"@Stevo_Land Thanks Steven.  You're a gent.  :)\",\n",
       " u'If you could all see the amount of love and support flooding my timeline right now, you would be - as I am - overwhelmed. #FaithRestored',\n",
       " u\"@TheGregMurphy 'we still think you're great!' Thank you Greg xxx\",\n",
       " u'RT @LazloMorphine: actual you btw @jk_rowling turncoat shitebag http://t.co/fVOxcRoIo0',\n",
       " u'.@sjosiah0 The Internet doesn\\u2019t just offer opportunities for misogynistic abuse, you know. Penis enlargers can also be bought discreetly.',\n",
       " u'@RobertLindsay Sure you want to come, Robert? https://t.co/kkEALDLZM7',\n",
       " u'\"Scotland hasn\\u2019t voted for a left-wing platform so much as a left-wing pose.\" @JournoStephen tells it like it is http://t.co/YT7z6AfWOM',\n",
       " u\".@Matthew_Ireson Fantastic Beasts and Where To Find Them.  Newt Scamander's a Hufflepuff.\",\n",
       " u'RT @Okwonga: the key factor in #GE2015. https://t.co/UpAccQ5RuQ',\n",
       " u\".@ChrisDarroch2 Chris, if you're this angry in victory, you must really need a hug.\",\n",
       " u'@ChrisDarroch2 and you can\\'t spell \"Slytherin\".',\n",
       " u\".@wanderclaw Well, obviously there are limits. I don't have any UKIP friends. Understanding what leads a person to their choices is key.\",\n",
       " u\".@healingmachine I think it's healthier to hate the policy, not the person. I have friends of all kinds of political beliefs.\",\n",
       " u\".@TalieDelemere However, I hope you've read The Casual Vacany ;)\",\n",
       " u\".@TalieDelemere Of course I do! If we forget our common humanity, we've lost something far more important than an election X\",\n",
       " u'RT @PCollinsTimes: We now have a government beholden to John Redwood rather than to Nick Clegg. This is a very severe downgrade.',\n",
       " u\"@RainDragon182 Not all Slytherins think they're racially superior.  But all those who do are Slytherins.\",\n",
       " u'@amylouisehendry but across whole of UK. Next 5 years scare a lot of people now.',\n",
       " u'RT @WWF: Newly discovered wasp named after the soul-sucking dementors in Harry Potter. Thanks for the inspiration @jk_rowling! http://t.co/\\u2026',\n",
       " u\"I don't care about WBC.  I think it's important that scared gay kids who aren't out yet see hate speech challenged. https://t.co/XumjDmEjuw\",\n",
       " u'.@WBCsigns Alas, the sheer awesomeness of such a union in such a place would blow your tiny bigoted minds out of your thick sloping skulls.',\n",
       " u'RT @Okwonga: When #MikeBrown died in #Ferguson, the story was all over the news. The same should be true for #ShekuBayoh. http://t.co/z6Elh\\u2026',\n",
       " u\"RT @missingpeople: The morning after #TheBigTweet and we've got some refreshed info for you... you managed over 95,000 retweets in 24 hours!\",\n",
       " u'RT @missingpeople: Help find Mohammed, 15, missing from #Hackney for over a month. http://t.co/MIhxvGG4uS #TheBigTweet #ThanksICAP http://t\\u2026',\n",
       " u'RT @missingpeople: Please retweet Destiny, 15, missing from #KingsBromley http://t.co/hv8P2GEjcQ\\n#TheBigTweet #ThanksICAP http://t.co/sgUlO\\u2026',\n",
       " u\"RT @missingpeople: All you tweeters still with #TheBigTweet, we have officially broken last year's RT record! With an hour and a half to go\\u2026\",\n",
       " u'RT @RasahPrincess: @jk_rowling  Jesus De La Cruz went missing in 1996 and Giovanni Gonzalez-Colon in 2008, both from Lynn, Massachusetts ht\\u2026',\n",
       " u\"RT @TakeThatFan20: @jk_rowling please could you RT this poster? All Allan Bryant's family want is to see him return safely http://t.co/gO87\\u2026\",\n",
       " u\"RT @missingpeople: Remember, any info on any of today's tweets or any other appeals - call 116 000. Free, 24 hour, confidential. #TheBigTwe\\u2026\",\n",
       " u\"RT @missingpeople: Aaron's been missing from #Croydon for a week. Call 116 000 with any info http://t.co/u0cxZT6gsK #TheBigTweet http://t.c\\u2026\",\n",
       " u'RT @missingpeople: Katrice went missing from #Germany in 1981, aged 2 http://t.co/ebup3MiZBF #TheBigTweet #ThanksICAP http://t.co/y2ahRvwnAJ',\n",
       " u'RT @thecolorhannah: @jk_rowling This is a beautiful young woman who has been missing from our community for a month. Any awareness helps! h\\u2026',\n",
       " u'RT @missingpeople: RT and help us find Len Ho missing from #Smethwick http://t.co/ZCjyzKTd8k #TheBigTweet #ThanksICAP http://t.co/vfzkierE0E',\n",
       " u\"RT @missingpeople: Abdullah's been missing from #Dover for nearly 3 years http://t.co/maIoq417qP #TheBigTweet #ThanksICAP http://t.co/hiyeE\\u2026\",\n",
       " u\"RT @missingpeople: Quinn's been missing from #Croydon a month http://t.co/NFsDD2vw1B #TheBigTweet #ThanksICAP http://t.co/ygwdeBjVQB\",\n",
       " u'RT @missingpeople: Madeleine went missing from #Portugal in 2007 http://t.co/BbRBkadZna #TheBigTweet #ThanksICAP http://t.co/n2Y8SWySyY',\n",
       " u\"RT @missingpeople: Lillian's been missing from #Luton nearly 6 months http://t.co/5022Wo6YxJ #TheBigTweet #ThanksICAP http://t.co/7LeDkU5ynz\",\n",
       " u'RT @JanetPJackson: @missingpeople Please help find Barry. Missing from Crosshaven since 2004. #TheBigTweet http://t.co/5xVIbr790r',\n",
       " u'RT @missingpeople: Please RT and help us to find Omar, missing from #Spalding http://t.co/Hi7f2leHI8 #TheBigTweet #ThanksICAP http://t.co/p\\u2026',\n",
       " u'RT @Sychlops: @jk_rowling Went missing from Mumbai India in 2010. Our Hrishi. Help us find him. #TheBigTweet http://t.co/EzCHhi0kDc',\n",
       " u\"RT @QUlNTIS: @jk_rowling please could you RT this poster? All Kaylie's family &amp; friends want is to see her return safely http://t.co/yM9kbE\\u2026\",\n",
       " u\"RT @missingpeople: Lili's been missing from #Birmingham for over a month. Call 116 000 with any info http://t.co/SwxnxRSJkc #TheBigTweet ht\\u2026\",\n",
       " u'Please keep RTing details of missing people! Today is International Missing Children Day and we can help! @missingpeople #TheBigTweet',\n",
       " u'RT @missingpeople: Help find Fabio, missing from #London nearly a year http://t.co/mW5mK9T8te #TheBigTweet #ThanksICAP http://t.co/gqTjUfT4\\u2026',\n",
       " u\"RT @missingpeople: Sabbir's been missing from #Southwark since 2013. Call 116 000 http://t.co/unyt5Vw5eZ #TheBigTweet #ThanksICAP http://t.\\u2026\",\n",
       " u'RT @missingpeople: Pl RT and help find Mahmud, missing from #Hackney http://t.co/XR0576IfkN #TheBigTweet #ThanksICAP http://t.co/1R8PIghYVa',\n",
       " u'RT @missingpeople: Lee was 15 when he went missing from #Sutton in 1988 http://t.co/sybT8pS4Vp #TheBigTweet #ThanksICAP http://t.co/3JCN0az\\u2026',\n",
       " u\"RT @missingpeople: Daniel's been missing from #NewAddington #London since March http://t.co/AxWX9Lpo5l #TheBigTweet http://t.co/W1ZedkHnuU\",\n",
       " u'RT @missingpeople: Thuy went missing from #Minster #Kent over 2 years ago http://t.co/oByzGTqnUe #TheBigTweet #ThanksICAP http://t.co/7ghq7\\u2026',\n",
       " u'RT @missingpeople: Please help find Lam, age 14, missing from #Croydon http://t.co/dyYUqFxeJy #TheBigTweet http://t.co/11cVYBbQlO',\n",
       " u\"RT @missingpeople: Buabed's missing from #Dartford since 2013 &amp; we need your help to find him http://t.co/FSqvTDleXg #TheBigTweet http://t.\\u2026\",\n",
       " u\"RT @missingpeople: Thi's been missing from #Godalming since 2013 and any info could help http://t.co/Af6a2qwQ32 #TheBigTweet #ThanksICAP ht\\u2026\",\n",
       " u'RT @missingpeople: Bekim, 15, has been missing from #Eastbourne over a year http://t.co/QtZqI6q1C0 #TheBigTweet #ThanksICAP http://t.co/MTx\\u2026',\n",
       " u'RT @missingpeople: Abdullah went missing from #Redditch in March http://t.co/fHKBVM5iGx #TheBigTweet #ThanksICAP http://t.co/yZmAv4IcYh',\n",
       " u'RT @missingpeople: Pls help find Kadia, missing from Manchester since 2012 http://t.co/13LWQosGv6 #TheBigTweet #ThanksICAP http://t.co/IB9W\\u2026',\n",
       " u'RT @missingpeople: Linh is missing from #Coventry &amp; we need your help http://t.co/QfEZfG3Y0Y #TheBigTweet #ThanksICAP http://t.co/LjvOwcBWzT',\n",
       " u\"RT @missingpeople: We're searching for Thanh, missing from #Croydon http://t.co/sjDqFcJagy #TheBigTweet #ThanksICAP http://t.co/dw8JpId6pu\",\n",
       " u\"RT @missingpeople: Aphrael's been missing from #Plumstead since March. Call 116 000 with any info http://t.co/mqMdrfnSPq #TheBigTweet http:\\u2026\",\n",
       " u'RT @JustSudbury: Do you know where Luke is? Missing from #Ipswich since May 2006 #TheBigTweet @missingpeople http://t.co/VpR9DRSgpo http://\\u2026',\n",
       " u'RT @missingpeople: Please help &amp; retweet Maio, missing from #Manchester since 2012 http://t.co/4wjQyq7FEp #TheBigTweet #ThanksICAP http://t\\u2026',\n",
       " u\"RT @nytimes: Ireland's vote to approve gay marriage placed the country at the vanguard of social change http://t.co/vLQEDgOpxs http://t.co/\\u2026\",\n",
       " u'Thank you to all the wonderful people who are RTing the details of missing young people!  Please keep at it! @missingpeople #TheBigTweet',\n",
       " u\"RT @missingpeople: Hafsa's been missing from #Luton more than a month. RT and help us find her. http://t.co/KdshNPH6Lo #TheBigTweet http://\\u2026\",\n",
       " u\"An unbreakable vow cannot be... well, the clue's in the name.  My 1000th tweet must therefore go to @maruaders. https://t.co/ZLlVa9Y652\",\n",
       " u'RT @missingpeople: Ben was 1 when he went missing from #Greece in 1991 http://t.co/7qRi35seWv #TheBigTweet @hamogelo http://t.co/Byj2uGDS39',\n",
       " u'RT @Help_Find_Me_: #TheBigTweet Help Find Me:  Relisha Tenau Rudd Age : 9\\n#Missing Since: 3/01/14\\nWashington, DC\\nhttp://t.co/ufNFs2YHut htt\\u2026',\n",
       " u'Please RT these pictures of missing young people - you could be the one whose RT makes the difference!  @missingpeople #TheBigTweet',\n",
       " u'RT @missingpeople: Maria-Brigitte went missing from #Freiburg aged 13 http://t.co/j5HoguNVYX #TheBigTweet #ThanksICAP http://t.co/otbFGSj1WQ',\n",
       " u'RT @missingpeople: RT #TheBigTweet &amp; help find Hue, 16, missing from #Romford http://t.co/QtSORsfpea #TheBigTweet #ThanksICAP http://t.co/D\\u2026',\n",
       " u'RT @findmadeleine: Have you seen Rolondo Jusino? #TheBigTweet http://t.co/mVZXR2ClAO',\n",
       " u'RT @findmadeleine: Have you seen Reachelle Smith? #TheBigTweet http://t.co/i8Vi7hiMXP',\n",
       " u'@jackandhishat @junayed_ @UberFacts Tweak your plans and become a beneficent, inspirational, democratically elected hero.  Easy.',\n",
       " u'RT @missingpeople: Mariam was 14 when she went missing from #Newcastle http://t.co/L0L2B8Az57 #TheBigTweet #ThanksICAP http://t.co/LZ8i3qZe\\u2026',\n",
       " u\"I'm just going to sit here and beam at this for a little while.   https://t.co/SuLaCQv33W\",\n",
       " u'RT @missingpeople: Tapi has been missing from #Croydon for 4 days. RT and help us find him. #TheBigTweet http://t.co/YFK2GfxoZi http://t.co\\u2026',\n",
       " u\"RT @missingpeople: Kevin's been missing from #Croydon over 29 years, since he was 16 http://t.co/z9uvsjLxE1  #TheBigTweet http://t.co/se7BD\\u2026\",\n",
       " u'RT @missingpeople: Aamina was 6 when she went missing from #Croydon http://t.co/CGR5siTigc #TheBigTweet #ThanksICAP http://t.co/dQF9tm6IjP',\n",
       " u\"RT @missingpeople: Kevin's missing from #Streatham; Please RT &amp; help find him http://t.co/3jeu14kg2s #TheBigTweet #ThanksICAP http://t.co/d\\u2026\"]"
      ]
     },
     "execution_count": 98,
     "metadata": {},
     "output_type": "execute_result"
    }
   ],
   "source": [
    "tweets = []\n",
    "cursor = datatweets.find({})\n",
    "for d in range(datatweets.count()):\n",
    "    tweet_text = cursor.next()\n",
    "    print tweet_text\n",
    "    tweets.append(tweet_text['text'])\n",
    "tweets"
   ]
  },
  {
   "cell_type": "markdown",
   "metadata": {},
   "source": [
    "## Summarizing all most recent 200 Tweets"
   ]
  },
  {
   "cell_type": "code",
   "execution_count": 99,
   "metadata": {
    "collapsed": false
   },
   "outputs": [],
   "source": [
    "stopw = [str('http'), str('https'), str('['), str(']'), str('rt'), str('%'), str('@'), str('#')]\n",
    "stopngram = stopwords.words('english')\n",
    "stopngram += ['.', ',', '(', ')', \"'\", '\"', 'http', 'RT']"
   ]
  },
  {
   "cell_type": "code",
   "execution_count": 100,
   "metadata": {
    "collapsed": false
   },
   "outputs": [],
   "source": [
    "adjectives = {}\n",
    "nouns = {}\n",
    "adverbs = {}\n",
    "verbs = {}\n",
    "for t in tweets:\n",
    "    words = word_tokenize(t)\n",
    "    for p in pos_tag(words):\n",
    "        tags = p[1][:2]\n",
    "        keys = p[0].encode('utf8')\n",
    "        keys = keys.lower()   \n",
    "        if keys not in stopw and str('/') not in keys and \"\\\\\" not in r\"%r\" % keys:\n",
    "            if tags == 'NN':\n",
    "                nouns.setdefault(keys,0)\n",
    "                nouns[keys] += 1"
   ]
  },
  {
   "cell_type": "markdown",
   "metadata": {},
   "source": [
    "## Most 10 used Nouns, Adverbs in all 200 recent Tweets"
   ]
  },
  {
   "cell_type": "code",
   "execution_count": 101,
   "metadata": {
    "collapsed": false
   },
   "outputs": [
    {
     "name": "stdout",
     "output_type": "stream",
     "text": [
      "         thebigtweet 56\n",
      "       missingpeople 52\n",
      "          thanksicap 30\n",
      "          jk_rowling 29\n",
      "              please 15\n",
      "                help 13\n",
      "                   x 11\n",
      "             missing 11\n",
      "              people 10\n",
      "             croydon 8\n"
     ]
    }
   ],
   "source": [
    "for words, count in sorted(nouns.items(), key = itemgetter(1), reverse=True)[:10]:\n",
    "    print '%20s %i' % (words, count)"
   ]
  },
  {
   "cell_type": "markdown",
   "metadata": {},
   "source": [
    "## Most 10 used 2-grams, 3-grams, 4-grams in all 200 recent Tweets"
   ]
  },
  {
   "cell_type": "code",
   "execution_count": 102,
   "metadata": {
    "collapsed": false
   },
   "outputs": [
    {
     "name": "stdout",
     "output_type": "stream",
     "text": [
      "TheBigTweet ThanksICAP 29\n",
      "          's missing 15\n",
      "        went missing 10\n",
      "           help find 10\n",
      "     missing Croydon 8\n",
      "                I 'm 8\n",
      "missingpeople Please 6\n",
      "         Please help 6\n",
      "               I 've 6\n",
      "             116 000 6\n"
     ]
    }
   ],
   "source": [
    "counter = defaultdict(int)\n",
    "n = 2\n",
    "for doc in tweets:\n",
    "    words = TextBlob(doc).words\n",
    "    words = [w for w in words if w not in stopngram]\n",
    "    bigrams = ngrams(words, n)\n",
    "    for gram in bigrams:\n",
    "        counter[gram] += 1\n",
    "            \n",
    "for gram, count in sorted(counter.items(), key = itemgetter(1), reverse=True)[:10]:\n",
    "    phrase = \" \".join(gram)\n",
    "    print '%20s %i' % (phrase, count)"
   ]
  },
  {
   "cell_type": "code",
   "execution_count": 103,
   "metadata": {
    "collapsed": false
   },
   "outputs": [
    {
     "name": "stdout",
     "output_type": "stream",
     "text": [
      "missingpeople Please help 5\n",
      "  's missing Croydon 4\n",
      "        116 000 info 4\n",
      "        help us find 4\n",
      "        Call 116 000 4\n",
      "TheBigTweet ThanksICAP t… 3\n",
      "    Please help find 2\n",
      "       amp help find 2\n",
      "       amp need help 2\n",
      "    could poster All 2\n"
     ]
    }
   ],
   "source": [
    "counter = defaultdict(int)\n",
    "n = 3\n",
    "for doc in tweets:\n",
    "    words = TextBlob(doc).words\n",
    "    words = [w for w in words if w not in stopngram]\n",
    "    bigrams = ngrams(words, n)\n",
    "    for gram in bigrams:\n",
    "        counter[gram] += 1\n",
    "            \n",
    "for gram, count in sorted(counter.items(), key = itemgetter(1), reverse=True)[:10]:\n",
    "    phrase = \" \".join(gram)\n",
    "    print '%20s %i' % (phrase, count)"
   ]
  },
  {
   "cell_type": "code",
   "execution_count": 104,
   "metadata": {
    "collapsed": false
   },
   "outputs": [
    {
     "name": "stdout",
     "output_type": "stream",
     "text": [
      "   Call 116 000 info 3\n",
      "missingpeople Kevin 's missing 2\n",
      "want see return safely 2\n",
      "RTing missingpeople 's appeals 2\n",
      "please could poster All 2\n",
      "jk_rowling You always welcome 2\n",
      "missingpeople Please help find 2\n",
      "missing Manchester since 2012 2\n",
      "Today International Missing Children 2\n",
      "jk_rowling please could poster 2\n"
     ]
    }
   ],
   "source": [
    "counter = defaultdict(int)\n",
    "n = 4\n",
    "for doc in tweets:\n",
    "    words = TextBlob(doc).words\n",
    "    words = [w for w in words if w not in stopngram]\n",
    "    bigrams = ngrams(words, n)\n",
    "    for gram in bigrams:\n",
    "        counter[gram] += 1\n",
    "            \n",
    "for gram, count in sorted(counter.items(), key = itemgetter(1), reverse=True)[:10]:\n",
    "    phrase = \" \".join(gram)\n",
    "    print '%20s %i' % (phrase, count)"
   ]
  },
  {
   "cell_type": "markdown",
   "metadata": {},
   "source": [
    "## Selecting a Keyword"
   ]
  },
  {
   "cell_type": "code",
   "execution_count": 127,
   "metadata": {
    "collapsed": true
   },
   "outputs": [],
   "source": [
    "keyword = 'potter'"
   ]
  },
  {
   "cell_type": "code",
   "execution_count": 128,
   "metadata": {
    "collapsed": false
   },
   "outputs": [
    {
     "data": {
      "text/plain": [
       "'potter'"
      ]
     },
     "execution_count": 128,
     "metadata": {},
     "output_type": "execute_result"
    }
   ],
   "source": [
    "keyword = str(keyword)\n",
    "keyword = keyword.lower()\n",
    "keyword"
   ]
  },
  {
   "cell_type": "code",
   "execution_count": 129,
   "metadata": {
    "collapsed": false
   },
   "outputs": [
    {
     "data": {
      "text/plain": [
       "4"
      ]
     },
     "execution_count": 129,
     "metadata": {},
     "output_type": "execute_result"
    }
   ],
   "source": [
    "tweets_match = []\n",
    "for r in tweets:\n",
    "    if keyword in r.lower():\n",
    "        tweets_match.append(r)\n",
    "\n",
    "len(tweets_match)"
   ]
  },
  {
   "cell_type": "code",
   "execution_count": 130,
   "metadata": {
    "collapsed": false
   },
   "outputs": [],
   "source": [
    "adjectives = {}\n",
    "nouns = {}\n",
    "adverbs = {}\n",
    "verbs = {}\n",
    "for t in tweets_match:\n",
    "    words = word_tokenize(t)\n",
    "    for p in pos_tag(words):\n",
    "        tags = p[1][:2]\n",
    "        keys = p[0].encode('utf8')\n",
    "        keys = keys.lower()   \n",
    "        if keys not in stopw and str('/') not in keys and keyword not in keys and \"\\\\\" not in r\"%r\" % keys:\n",
    "            if tags == 'JJ':\n",
    "                adjectives.setdefault(keys,0)\n",
    "                adjectives[keys] += 1\n",
    "            if tags == 'NN':\n",
    "                nouns.setdefault(keys,0)\n",
    "                nouns[keys] += 1\n",
    "            if tags == 'RB':\n",
    "                adverbs.setdefault(keys,0)\n",
    "                adverbs[keys] += 1\n",
    "            if tags == 'VB':\n",
    "                verbs.setdefault(keys,0)\n",
    "                verbs[keys] += 1"
   ]
  },
  {
   "cell_type": "markdown",
   "metadata": {},
   "source": [
    "## Most 5 used Verbs, Adjectives, Nouns, Adverbs in Tweets with Keyword"
   ]
  },
  {
   "cell_type": "code",
   "execution_count": 131,
   "metadata": {
    "collapsed": false
   },
   "outputs": [
    {
     "name": "stdout",
     "output_type": "stream",
     "text": [
      "          discovered 1\n",
      "               named 1\n",
      "            prepared 1\n",
      "           celebrate 1\n",
      "              superb 1\n"
     ]
    }
   ],
   "source": [
    "for words, count in sorted(verbs.items(), key = itemgetter(1), reverse=True)[:5]:\n",
    "    print '%20s %i' % (words, count)"
   ]
  },
  {
   "cell_type": "code",
   "execution_count": 132,
   "metadata": {
    "collapsed": false
   },
   "outputs": [
    {
     "name": "stdout",
     "output_type": "stream",
     "text": [
      "             current 1\n",
      "                cast 1\n",
      "        soul-sucking 1\n",
      "              latest 1\n"
     ]
    }
   ],
   "source": [
    "for words, count in sorted(adjectives.items(), key = itemgetter(1), reverse=True)[:5]:\n",
    "    print '%20s %i' % (words, count)"
   ]
  },
  {
   "cell_type": "code",
   "execution_count": 133,
   "metadata": {
    "collapsed": false
   },
   "outputs": [
    {
     "name": "stdout",
     "output_type": "stream",
     "text": [
      "            housecup 2\n",
      "           standings 1\n",
      "               point 1\n",
      "               house 1\n",
      "                 wwf 1\n"
     ]
    }
   ],
   "source": [
    "for words, count in sorted(nouns.items(), key = itemgetter(1), reverse=True)[:5]:\n",
    "    print '%20s %i' % (words, count)"
   ]
  },
  {
   "cell_type": "code",
   "execution_count": 134,
   "metadata": {
    "collapsed": false
   },
   "outputs": [
    {
     "name": "stdout",
     "output_type": "stream",
     "text": [
      "                 not 1\n",
      "                 yet 1\n"
     ]
    }
   ],
   "source": [
    "for words, count in sorted(adverbs.items(), key = itemgetter(1), reverse=True)[:5]:\n",
    "    print '%20s %i' % (words, count)"
   ]
  },
  {
   "cell_type": "markdown",
   "metadata": {},
   "source": [
    "## Most 5 used 2-grams, 3-grams, 4-grams in Tweets with Keyword"
   ]
  },
  {
   "cell_type": "code",
   "execution_count": 135,
   "metadata": {
    "collapsed": false
   },
   "outputs": [
    {
     "name": "stdout",
     "output_type": "stream",
     "text": [
      "         skill we’ve 1\n",
      "       pottermore To 1\n",
      "Congratulations Slytherin 1\n",
      " pottermore HouseCup 1\n",
      "  named soul-sucking 1\n"
     ]
    }
   ],
   "source": [
    "counter = defaultdict(int)\n",
    "n = 2\n",
    "for doc in tweets_match:\n",
    "    words = TextBlob(doc).words\n",
    "    words = [w for w in words if w not in stopngram]\n",
    "    bigrams = ngrams(words, n)\n",
    "    for gram in bigrams:\n",
    "        counter[gram] += 1\n",
    "            \n",
    "for gram, count in sorted(counter.items(), key = itemgetter(1), reverse=True)[:5]:\n",
    "    phrase = \" \".join(gram)\n",
    "    print '%20s %i' % (phrase, count)"
   ]
  },
  {
   "cell_type": "code",
   "execution_count": 136,
   "metadata": {
    "collapsed": false
   },
   "outputs": [
    {
     "name": "stdout",
     "output_type": "stream",
     "text": [
      "discovered wasp named 1\n",
      "Slytherins Through Ages’ 1\n",
      "prepared look ‘Famous 1\n",
      "point standings pottermore 1\n",
      "   remember it’s yet 1\n"
     ]
    }
   ],
   "source": [
    "counter = defaultdict(int)\n",
    "n = 3\n",
    "for doc in tweets_match:\n",
    "    words = TextBlob(doc).words\n",
    "    words = [w for w in words if w not in stopngram]\n",
    "    bigrams = ngrams(words, n)\n",
    "    for gram in bigrams:\n",
    "        counter[gram] += 1\n",
    "            \n",
    "for gram, count in sorted(counter.items(), key = itemgetter(1), reverse=True)[:5]:\n",
    "    phrase = \" \".join(gram)\n",
    "    print '%20s %i' % (phrase, count)"
   ]
  },
  {
   "cell_type": "code",
   "execution_count": 137,
   "metadata": {
    "collapsed": false
   },
   "outputs": [
    {
     "name": "stdout",
     "output_type": "stream",
     "text": [
      "we’ve prepared look ‘Famous 1\n",
      "SlytherinPride superb skill we’ve 1\n",
      "pottermore HouseCup – remember 1\n",
      "Harry Potter Thanks inspiration 1\n",
      "pottermore To celebrate SlytherinPride 1\n"
     ]
    }
   ],
   "source": [
    "counter = defaultdict(int)\n",
    "n = 4\n",
    "for doc in tweets_match:\n",
    "    words = TextBlob(doc).words\n",
    "    words = [w for w in words if w not in stopngram]\n",
    "    bigrams = ngrams(words, n)\n",
    "    for gram in bigrams:\n",
    "        counter[gram] += 1\n",
    "            \n",
    "for gram, count in sorted(counter.items(), key = itemgetter(1), reverse=True)[:5]:\n",
    "    phrase = \" \".join(gram)\n",
    "    print '%20s %i' % (phrase, count)"
   ]
  }
 ],
 "metadata": {
  "kernelspec": {
   "display_name": "Python 2",
   "language": "python",
   "name": "python2"
  },
  "language_info": {
   "codemirror_mode": {
    "name": "ipython",
    "version": 2
   },
   "file_extension": ".py",
   "mimetype": "text/x-python",
   "name": "python",
   "nbconvert_exporter": "python",
   "pygments_lexer": "ipython2",
   "version": "2.7.9"
  }
 },
 "nbformat": 4,
 "nbformat_minor": 0
}
