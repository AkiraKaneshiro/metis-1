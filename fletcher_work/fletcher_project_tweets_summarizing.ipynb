{
 "cells": [
  {
   "cell_type": "markdown",
   "metadata": {},
   "source": [
    "# Fletcher Project: Summarizing Tweets"
   ]
  },
  {
   "cell_type": "code",
   "execution_count": 32,
   "metadata": {
    "collapsed": true
   },
   "outputs": [],
   "source": [
    "import nltk\n",
    "from nltk.tokenize import sent_tokenize\n",
    "from nltk.tokenize import TreebankWordTokenizer\n",
    "from nltk.tokenize import word_tokenize\n",
    "from nltk.tokenize import wordpunct_tokenize\n",
    "from nltk.tag import pos_tag\n",
    "from nltk.chunk import ne_chunk\n",
    "from nltk.corpus import treebank_chunk\n",
    "from textblob import TextBlob\n",
    "import pymongo\n",
    "from nltk.corpus import stopwords\n",
    "from nltk.corpus import movie_reviews\n",
    "from nltk.util import ngrams\n",
    "from nltk.tokenize import sent_tokenize, word_tokenize\n",
    "from collections import defaultdict\n",
    "from operator import itemgetter\n",
    "import numpy as np\n",
    "from sklearn.feature_extraction.text import TfidfVectorizer\n",
    "from sklearn.naive_bayes import MultinomialNB\n",
    "from __future__ import division, unicode_literals\n",
    "import operator\n",
    "import requests\n",
    "from requests_oauthlib import OAuth1\n",
    "from pymongo import MongoClient\n",
    "import tweepy\n",
    "import cnfg\n",
    "import numpy as np\n",
    "import re"
   ]
  },
  {
   "cell_type": "markdown",
   "metadata": {},
   "source": [
    "## Opening Twitter API"
   ]
  },
  {
   "cell_type": "code",
   "execution_count": 33,
   "metadata": {
    "collapsed": true
   },
   "outputs": [],
   "source": [
    "config = cnfg.load(\".twitter_config\")"
   ]
  },
  {
   "cell_type": "code",
   "execution_count": 34,
   "metadata": {
    "collapsed": true
   },
   "outputs": [],
   "source": [
    "auth = tweepy.OAuthHandler(config['consumer_key'],\n",
    "              config['consumer_secret'])\n",
    "auth.set_access_token(config['access_token'],\n",
    "              config['access_token_secret'])"
   ]
  },
  {
   "cell_type": "code",
   "execution_count": 35,
   "metadata": {
    "collapsed": true
   },
   "outputs": [],
   "source": [
    "api = tweepy.API(auth)"
   ]
  },
  {
   "cell_type": "markdown",
   "metadata": {},
   "source": [
    "## Choosing Twitter Account"
   ]
  },
  {
   "cell_type": "code",
   "execution_count": 36,
   "metadata": {
    "collapsed": true
   },
   "outputs": [],
   "source": [
    "account = 'YahooFinance'"
   ]
  },
  {
   "cell_type": "markdown",
   "metadata": {},
   "source": [
    "## Getting Tweeter Data into a List"
   ]
  },
  {
   "cell_type": "code",
   "execution_count": 37,
   "metadata": {
    "collapsed": false
   },
   "outputs": [
    {
     "data": {
      "text/plain": [
       "200"
      ]
     },
     "execution_count": 37,
     "metadata": {},
     "output_type": "execute_result"
    }
   ],
   "source": [
    "data_tweets = api.user_timeline(account, count=200)\n",
    "tweets = []\n",
    "tweets_text = []\n",
    "for tweet in data_tweets:\n",
    "    tweets.append(tweet.text)\n",
    "len(tweets)"
   ]
  },
  {
   "cell_type": "code",
   "execution_count": 38,
   "metadata": {
    "collapsed": false
   },
   "outputs": [
    {
     "data": {
      "text/plain": [
       "[u'Rate hikes and market returns http://t.co/gYRo694xFJ via @WildcatTrader $SPY',\n",
       " u'Where is your compass pointing today? http://t.co/UoZgP1EltI via @jaltucher http://t.co/GS3dxljPLC',\n",
       " u'June\\u2019s first trading day hit hard in four of last seven years http://t.co/MWuY4yavS1 via @AlmanacTrader $SPY',\n",
       " u'Can Bob Evans escape activist Sandell by monetizing real estate? http://t.co/1wyejfZqAu via @TheDealNewsroom $BOBE http://t.co/g7QGdkxkXy',\n",
       " u\"Carl's, Hardee's CEO: Not all models know how to eat burgers http://t.co/qLiuJIvlIE\",\n",
       " u'RT @mandiwoodruff: Staggering: you\\u2019d have to work 98 hours per week to afford a one-bedroom in NYC: http://t.co/PYNpNpKm86 http://t.co/M2oN\\u2026',\n",
       " u'Altera, Intel up on deal talk; GameStop unstoppable; Splunk flunks http://t.co/3t7BIt6twr',\n",
       " u'Watch live at noon: Nike and Under Armour face off, Investors hoard cash and tech M&amp;A heats up http://t.co/iDd6TAGVhT',\n",
       " u'How to invest in the Cybersecurity boom http://t.co/LH7R7SOjx5 via @JeffReevesIP $HACK http://t.co/ROEf5uBnGV',\n",
       " u'Disrupting Psychology: Text a shrink for $25/week. Does it work? http://t.co/Mht07BSTix',\n",
       " u'GameStop gives the people what they want (shareholders too)  http://t.co/GFRhLU8CND',\n",
       " u'Here\\u2019s what CEOs said about the economy this week http://t.co/aodAkxkL6Y via @Skrisiloff $KORS',\n",
       " u'How to tell if you\\u2019re getting bad financial advice http://t.co/4CTzerjcYE via @awealthofcs $SPY http://t.co/VhuPftU4hr',\n",
       " u'In Ohio pepper-spray assault case, victim gets to fire back http://t.co/SfMBMbsRYN',\n",
       " u'The Next Obamacare Fight: Who to Blame http://t.co/FifN8DIHrS',\n",
       " u'Why reading is the best thing you can do for your life and career http://t.co/wYP0B0Egqt via @millennial_inv',\n",
       " u'Big Cable tries to stave off the inevitable http://t.co/VIL1YprYe3 via @CharlesSizemore $TWC http://t.co/U58vm3zwsT',\n",
       " u'Etsy: Why the post IPO slump may continue http://t.co/SJR5SNbMFI via @Bidnessetc $ETSY http://t.co/cQBY9Mb5mR',\n",
       " u'US presses Europeans at meeting to solve Greek crisis http://t.co/sZ2UhuQA9f',\n",
       " u'Wealthy Chinese Head Abroad to Buy Diamonds Without Scrutiny http://t.co/kMO5aJJMOU',\n",
       " u'American households feeling less financially stressed http://t.co/epxHTLSu9W',\n",
       " u'US economy shrank at 0.7 percent rate in first quarter http://t.co/30PGYlca47',\n",
       " u'Early movers: $BIG, $GME, $DECK, $AMZN, $EQIX &amp; more http://t.co/XSwjrro86k',\n",
       " u'Amazon Plans to Add Its Own Line of Food http://t.co/VhWQTX63BQ',\n",
       " u'How to invest in China: 5 myths stock investors should ignore http://t.co/Gj8tHoOER9 via @CFAinstitute $FXI http://t.co/rGu9tTJAv5',\n",
       " u'Rising stocks and rising rates http://t.co/zl4eG0DMuI via @agurevich23 $SPY http://t.co/3AHbnNuHZL',\n",
       " u'Stocks toppy behind pre-election year make little headway this spring http://t.co/ozbfSSJOSB via @AlmanacTrader $SPY http://t.co/NBFZP4mqIH',\n",
       " u'Everything you need to know about Roth IRAs http://t.co/FKmxHLoVHc via @smartasset http://t.co/1NqSL05e3h',\n",
       " u'St. Louis Fed President James Bullard warns markets http://t.co/uRtfgLmS8L via @peterckenny $TLT http://t.co/hQ06q0KFtA',\n",
       " u'The Chinese Stock Rally Keeps Minting More Billionaires http://t.co/5RyDIMiA5l',\n",
       " u'The top 10 highest-paid female CEOs http://t.co/ZUfix8448I',\n",
       " u\"Everyone Is Fleeing Oil's Biggest Fund http://t.co/NSWV9V8JzO\",\n",
       " u'Oil gains 1 percent on U.S. inventory drop http://t.co/6YAy62by5K',\n",
       " u\"Paul Singer: This is the new 'big short.' http://t.co/lanzYj91o3\",\n",
       " u'.@jimcramer: The single hottest stock I follow. http://t.co/sRwKwZW0Lf',\n",
       " u\"Shanghai Composite tumbles into correction territory. Here's more: http://t.co/2APoyoYwGQ #China\",\n",
       " u'Dear Fed: Please don\\u2019t strangle a nascent housing boom http://t.co/sEReBwMvSw via @jimcramer $TOL',\n",
       " u\"Instead of Playing Golf, the World's Elderly Are Staging Heists and Robbing Banks http://t.co/f95pbS4sv8\",\n",
       " u'3 tips for getting work done: better, faster, cheaper http://t.co/l2D3ljFGvJ via @jodygmiller',\n",
       " u'The real reason behind the fall of Blackberry http://t.co/S0aE9WCTcG via @Applico $BBRY',\n",
       " u\"That's Business, Man: Why Jay Z's Tidal Is a Complete Disaster http://t.co/RSMKPv8x6B\",\n",
       " u'Is rent out of reach? Study shows how 11 US cities stack up http://t.co/KC32zEV81A',\n",
       " u'Google takes on Apple with new Photos app. http://t.co/6VTzD3ilQO',\n",
       " u'U.S. airlines stocks; Here is why they might fly again http://t.co/l3KtGRda4t via @Bidnessetc $UAL',\n",
       " u\"Brands don't like .sucks? Not our problem, FTC says. http://t.co/plZC8UPvL0\",\n",
       " u'Why Wall Street should bet on women: http://t.co/gbJLDa59Dv',\n",
       " u'How a trader plans to make $21 million in one week http://t.co/twobuINGG6',\n",
       " u'3 bearish studies that may foreshadow the death of this bull market http://t.co/LUNHsqQp2f via @jessefelder $SPY http://t.co/dfWTN6oQuU',\n",
       " u'More weight added to equity bear case http://t.co/eQrH0KTOiw via @JLyonsFundMgmt $RSP http://t.co/cHeP21kF7B',\n",
       " u\"Why a shrinking US economy last quarter isn't cause for fear http://t.co/O1A33R3LBN\",\n",
       " u'U.S. airlines stocks; Here is why they might fly again http://t.co/AwH5jIia2b via @Bidnessetc $UAL http://t.co/o8SBy5o4vw',\n",
       " u'As its stock returns to $200, Goldman embodies more stable, less fun Wall Street. http://t.co/XQIRXLR2O0 $GS',\n",
       " u\"FBI says it's investigating identity theft at IRS http://t.co/IV8iUxU070\",\n",
       " u\"Exclusive: @serwer gets sneak preview of new products from Google's head of products @sundarpichai http://t.co/G8p3dmUkw0\",\n",
       " u'3 tips for getting work done: better, faster, cheaper http://t.co/HQprllHSCX via @jodygmiller http://t.co/YRADvfo7BP',\n",
       " u'IMF head says Greek exit a possibility - newspaper http://t.co/SXlvYgUYgd',\n",
       " u'Dear Fed: Please don\\u2019t strangle a nascent housing boom http://t.co/W6rHpvgmg3 via @jimcramer $TOL http://t.co/JhQMtDVoup',\n",
       " u\"Bankruptcy judge 'deeply concerned' about unfunded pensions http://t.co/mEq5kqvrS8\",\n",
       " u\"Instead of Playing Golf, the World's Elderly Are Staging Heists and Robbing Banks http://t.co/GqOzUEUkGY\",\n",
       " u'Why this airline stock is ready to land http://t.co/qcM57nFNW6 via @ZorTrades $AAL',\n",
       " u'A roadmap for the trading day http://t.co/l3MTsFyMg4 via @AdamHGrimes http://t.co/HFoCwCvbVL',\n",
       " u\"Cramer: Don't write off Costco, here's why http://t.co/75Mzrz3hR4\",\n",
       " u'Chobani CEO pledges to donate most of wealth http://t.co/qoyEDbjx9I',\n",
       " u'RT @YahooTech: Man Slapped with $120 Ticket for Using Apple Watch While Driving http://t.co/z5SiEa7qmj http://t.co/4OkYZsjnB0',\n",
       " u\"RT @Rafe: I'm at Google IO today. Here's what we expect.  https://t.co/y3xXmD033c via @YahooTech\",\n",
       " u'Global gambling sector worth over $450 billion http://t.co/w6fk4uzwsP',\n",
       " u'How to be a bad leader http://t.co/9ubHTMpYmz via @jaltucher http://t.co/6RDKGkAr6M',\n",
       " u'GameStop expectations are muted ahead of the earnings report http://t.co/Dg5D8eZ7uT via @Estimize $GME http://t.co/zQVrwCcqlB',\n",
       " u'Why energy tax breaks we take should go away: CEO http://t.co/NtfdyPHDre',\n",
       " u'The real reason behind the fall of Blackberry http://t.co/acArkfuuqy via @Applico $BBRY http://t.co/dJvDlqLqbW',\n",
       " u\"That's Business, Man: Why Jay Z's Tidal Is a Complete Disaster http://t.co/A2lu81FKOx\",\n",
       " u'Broadcom CEO McGregor Eligible for $67 Million http://t.co/4MWH23Zf6q',\n",
       " u'Appeals court: Apple must submit to imposition of monitor http://t.co/u6YQ4iFGRO',\n",
       " u'Lawyer: Tracy Morgan happy Wal-Mart crash lawsuit behind him http://t.co/PEsASaK0up',\n",
       " u'Dollar General says COO Vasos to replace Dreiling as CEO http://t.co/3TjXLh2Z2B',\n",
       " u'E-Cigarettes - A threat or opportunity for the tobacco industry? http://t.co/meitPxWWPH via @Bidnessetc $MO http://t.co/kjCMirkW05',\n",
       " u'Pending US home sales jump to strongest level in 9 years http://t.co/g0oBtxLrXf',\n",
       " u'Individual S&amp;P 500 stocks are not rising with the index http://t.co/c3wvmldxnf via @AndrewThrasher $SPY',\n",
       " u'These Are the Best U.S. Housing Markets http://t.co/PDNuPQ4sPB',\n",
       " u'A history of M&amp;A deal toys http://t.co/6LUsrzYv3a via @TheDealNewsroom http://t.co/l0DRIsXzMM',\n",
       " u\"U2's longtime tour manager, Dennis Sheehan, found dead http://t.co/dybAE6XMWg\",\n",
       " u'Is this the end of a 35 year bull market in stocks and bonds? http://t.co/oEaYcjfC7W via @awealthofcs $TLT',\n",
       " u'Dollar could be getting ready to roar http://t.co/SuDU8oiXWS',\n",
       " u'Gina Rinehart Loses Battle to Control $3.8 Billion Trust http://t.co/4XVxYS5ctE',\n",
       " u'GoPro jumps into virtual reality and drones http://t.co/LKHbGXS8ds',\n",
       " u'U.S. jobless claims up, but still point to labor market strength http://t.co/4RqjssuLy7',\n",
       " u'Market trading in 4th tightest range in 115 years http://t.co/rpgCJOxR5v via @KimbleCharting $DIA http://t.co/ucfRUYirCj',\n",
       " u'Is rent out of reach? Study shows how 11 US cities stack up http://t.co/CFy4Ab9EJ1',\n",
       " u'3 charts that will rekindle your interest in financial market history http://t.co/L2t2UbevEg via @CFAinstitute http://t.co/ERJ9GJno5h',\n",
       " u'Less than 1% June through October following pre-election year May gain http://t.co/HpElUjGTap via @AlmanacTrader $SPY http://t.co/gRUfvqcjmz',\n",
       " u'Bull market dealt a significant blow? http://t.co/6aNlNXrLXx via @JLyonsFundMgmt $DIA http://t.co/Ph758fQbSt',\n",
       " u'The Baltic Dry Index. What it is telling us is sobering http://t.co/sL8t2rdL9b via @peterckenny http://t.co/HePQb9ppZU',\n",
       " u'Stock buybacks: Mostly an accounting sleight of hand http://t.co/nnzIAMJzbZ via @CharlesSizemore http://t.co/3AihNy4DyQ',\n",
       " u'Early movers: $BRCM, $COST, $EXPR, $ANF &amp; more http://t.co/ntJCMYXKHE',\n",
       " u'Michael Kors wounds self-inflicted http://t.co/cePLlrX1Rk via @TALENTEDBLONDE $KORS http://t.co/m6oKh605qK',\n",
       " u'Avago to Buy Broadcom for $37 Billion in Biggest Chip Deal http://t.co/FQkzTReK0Q',\n",
       " u'The Tanker Market Is Sending a Big Warning to Oil Bulls http://t.co/zpbsyVps7b',\n",
       " u'Putin accuses US of meddling in FIFA affairs http://t.co/Et7es0zsx1',\n",
       " u'Visa becomes first FIFA sponsor to warn it could jump ship http://t.co/RjordPaRfk',\n",
       " u'Amazon to offer free same-day delivery to Prime members http://t.co/9AvoTiXKAd $AMZN',\n",
       " u'.@jimcramer takes a look at the #housing landscape. http://t.co/78uUoOjpf3',\n",
       " u'Japanese yen slides to 12-year low against U.S. dollar as Yellen builds case for rate hike. http://t.co/dlshY1zLIE',\n",
       " u\"Apple Watch debut 'less than spectacular,' analyst says. http://t.co/JxvUxthjwr $AAPL\",\n",
       " u'The Class of 2015 could use a wakeup call http://t.co/ah0JH7HgmC http://t.co/1SNMCLb14t',\n",
       " u'Yes, social shopping is a thing now. Pros and cons: http://t.co/HeYhkuSrG0',\n",
       " u'President Nixon: The man who sold the world fiat money http://t.co/tW5ABGdj7x via @CFAinstitute $UUP',\n",
       " u'Meet the new billionaires http://t.co/Eo1YtLyozC http://t.co/ho7MhTeHeU',\n",
       " u'Why Oracle is a solid castle http://t.co/aANM0F9PAP via @Valuentum $ORCL',\n",
       " u'To win in the stock market you have to be willing to lose http://t.co/5qAfRJpgHV via @awealthofcs $SPY',\n",
       " u\"Bill Gross: Don't downplay Greece's struggles. http://t.co/PxkpiGxKFI\",\n",
       " u'How to Save on Summer Renovation Projects http://t.co/tAWXvXj7d8',\n",
       " u'Why a Microsoft buyout of Salesforce makes sense, then doesn\\u2019t http://t.co/W2DO5YJxIn via @Bidnessetc $CRM',\n",
       " u'The case against taking Social Security at 62 http://t.co/wZYOpHtccx',\n",
       " u'Ulta expecting another great quarterly report tomorrow http://t.co/tgpFbn6vJv via @Estimize $ULTA http://t.co/8Dgvl16Okg',\n",
       " u\".@BlackRock CEO Fink tells @serwer our biggest risk isn't China or interest rates: It's us.  http://t.co/fraV4xepRo\",\n",
       " u'The Class of 2015 could use a wakeup call http://t.co/WkYMfUIbdC http://t.co/xrcH1qFmjq',\n",
       " u'President Nixon: The man who sold the world fiat money http://t.co/4wQygpGDKv via @CFAinstitute $UUP http://t.co/AOONYOsySu',\n",
       " u'Meet the new billionaires http://t.co/I5TUru3ma4 http://t.co/LO8uXES5OU',\n",
       " u\"BlackRock's Fink says our biggest risk isn't China or interest rates: It's us  http://t.co/Ccr9gKAanA\",\n",
       " u'Abercrombie hopes latest changes will spur sales http://t.co/fvc5247lFn via @Estimize $ANF',\n",
       " u'Greece owes drugmakers $1.2 billion - and counting http://t.co/6fTOdO9l0x',\n",
       " u'Volatility for Breakfast: Egg and Bacon Prices Go Opposite Ways http://t.co/dl0ELmq3qd',\n",
       " u'Why it\\u2019s so important for a stock operator to \\u2018know thyself\\u2019 http://t.co/n8aE1lkt4E via @jessefelder $SPY http://t.co/oPIJS7goKb',\n",
       " u'The bullish healthcare sector setup http://t.co/DMtzr3psCD via @KimbleCharting $XLV',\n",
       " u'Lamborghini to launch SUV in 2018 http://t.co/vmUiItkNYd http://t.co/UhYh2e46zI',\n",
       " u'RT @ampressman: http://t.co/I5mE68oPQM is growing fast - and profitably - as it lines up an IPO. But competition abounds on all sides http:\\u2026',\n",
       " u\"Stocks we're watching: $dsw steps up, rough day for $wday, $kors tanks to 52-wk low\\nhttp://t.co/oEYUCCwlom\",\n",
       " u\"Watch live at noon: Snapchat's IPO, Tiffany soars and Michael Kors slides http://t.co/MPFIViMYPu\",\n",
       " u'Unemployment rates fell in 23 US states in April http://t.co/1OLDepMnaH',\n",
       " u'Pimco and Hedge Funds Are Fighting Over Subprime Scraps http://t.co/L2I1X1Mijo',\n",
       " u'Why a Microsoft buyout of Salesforce makes sense, then doesn\\u2019t http://t.co/UYiFAQNv31 via @Bidnessetc $CRM http://t.co/uDkOtt5gY2',\n",
       " u'Michael Kors posts slowest revenue growth since going public http://t.co/FYUQfW7dUO $KORS',\n",
       " u'Airbus plans Silicon Valley innovation center http://t.co/1Xb4qbJUpE',\n",
       " u'Here is how AstraZeneca and Amgen will be hit by the cancelled collaboration http://t.co/SLz5A5JiG1 via @Bidnessetc $AMGN',\n",
       " u'Why Oracle is a solid castle http://t.co/YEVrGDtRda via @Valuentum $ORCL http://t.co/7pMEzU0CE5',\n",
       " u'The breadth deterioration is real http://t.co/o5GuFqx2wt via @ZorTrades $SPY',\n",
       " u\"McDonald's to stop reporting monthly same-store sales after June http://t.co/7wORazlZSO\",\n",
       " u\"The Russian billionaires hit hard by oil's plunge http://t.co/oO5eD22Jyx\",\n",
       " u'Short in May and go away http://t.co/R4FPWVCCLE via @DougKass $SPY http://t.co/iGyw1eqLs4',\n",
       " u'Why hasn\\u2019t Nationstar Mortgage been sued yet? http://t.co/X4X6U7ouaA via @TheDealNewsroom $NSM http://t.co/iEpZiswG16',\n",
       " u'To win in the stock market you have to be willing to lose http://t.co/DYgLKbpeVB via @awealthofcs $SPY http://t.co/niV8l6fr3f',\n",
       " u'The Mansions That Are Swallowing Suburban Homes http://t.co/CNehktihuB',\n",
       " u\"OPEC Will Back Saudi Arabia's Plan to Keep Supplies Elevated http://t.co/vWF3KroZs4\",\n",
       " u'Snapchat CEO sees a bubble, blames interest rates http://t.co/S6d3GFiB6v',\n",
       " u'Early movers: $TIF, $KORS, $TOL, $BWS, $HRL &amp; more http://t.co/UdclirygVg',\n",
       " u'Luxury Brands Shrink $7 Billion in Value http://t.co/atKBNPJmIe',\n",
       " u'What Chicago\\u2019s fiscal emergency says about the quality of credit analysis in the municipal bond market http://t.co/wDZYocX6o6 via @munilass',\n",
       " u'Why at the end of the day consumers will have the final say on rates http://t.co/qWEoc7VdFe via @peterckenny $TLT http://t.co/kLeFArEo0F',\n",
       " u'Solar as Fastest Growing U.S. Power Source Rivals Shale Boom http://t.co/0gwNAayYd1',\n",
       " u'A breakout to nowhere http://t.co/3GXesOPZ8I via @JLyonsFundMgmt $SPY http://t.co/9yobQufvVL',\n",
       " u'The average U.S. consumer should be happy and confident http://t.co/gwHsYfGtQc via @Financial_Orbit',\n",
       " u'The Transports have left the rails http://t.co/oKeCHDeWFo via @harmongreg $IYT http://t.co/qicZzyvbLt',\n",
       " u'Bernanke sees no risk of hard landing in China, bullish on U.S. economy http://t.co/uvE7F2pR50',\n",
       " u'Greece Said Likely to Miss May Deal Deadline as Talks Falter http://t.co/Z4n35om759',\n",
       " u'Michael Kors posts slowest sales growth in 14 quarters http://t.co/oeYIgB58gZ',\n",
       " u'Tiffany tops Street 1Q forecasts http://t.co/vH3epaHMVl',\n",
       " u'Toll Brothers meets 2Q profit forecasts http://t.co/eOQevH9y2f',\n",
       " u'Cost of data breaches increasing to average of $3.8 million, study says http://t.co/MqrWUiq6GR',\n",
       " u'Bug causes message to crash certain Apple iOS devices. No immediate comment from $AAPL. http://t.co/PG3lmjmBh2',\n",
       " u\"Here's the case for buying today's dip on Wall Street. http://t.co/CURP9d14P0\",\n",
       " u'Home Depot\\u2019s 1Q15 results show continued operational strength http://t.co/XlF1WaHlnP via @treetis $HD',\n",
       " u'Oil to stabilize amid production worries, one expert says. http://t.co/8DXX90tC3X',\n",
       " u'7 money moves financially savvy couples should make http://t.co/P3EbImnvDk via @marybstorj',\n",
       " u'Europe woes and U.S. rate hike prospects depress stocks, boost dollar. http://t.co/nvpesewdow',\n",
       " u'Can Wal-Mart hold up against pressure from Amazon? http://t.co/MyAG6vwe9U via @Bidnessetc $AMZN',\n",
       " u'.@jimcramer: Spotting gems amid the market rubble. http://t.co/6ZAt1sOc2D',\n",
       " u'Jabil Circuit is poised for more outperformance http://t.co/yjrEzPD9UF via @QuantifiedAlpha $JBL',\n",
       " u'Top 10 highest-paid CEOs http://t.co/BLbuafBzJz',\n",
       " u'CEO pay: biggest raises and biggest cuts of 2014 http://t.co/3Ikw6nbErK',\n",
       " u'Vox Media is buying tech publication ReCode. http://t.co/yHf8dqJv76',\n",
       " u'What Michael Kors, Tiffany earnings say about high-end consumers. http://t.co/RnKvuOK4bb $KORS $TIF',\n",
       " u'Vox Media is buying tech news website ReCode, @nytimes reports.',\n",
       " u'RT @CNBCnow: JUST IN: Fed Chair Yellen will not attend Jackson Hole meeting this year, may attend in future. (via @steveliesman)\\nhttps://t.\\u2026',\n",
       " u'Michael Kors will continue to walk all over earnings http://t.co/H0o5uzxWtV via @QuantifiedAlpha $KORS http://t.co/YeGf3jyEsS',\n",
       " u'http://t.co/gaLk9Lo5md to hire 6,000 full-time staffers across its U.S. fulfillment network. http://t.co/Ab5mOIbC5Y $AMZN',\n",
       " u'BofA Merrill: Here\\u2019s how to tap into Millennials\\u2019 burgeoning influence. http://t.co/iyGkqQaGbC',\n",
       " u'IRS says thieves stole tax info from 100,000. http://t.co/AYUDA0aDef',\n",
       " u'Bear strike: U.S. stocks sink 1% as greenback rallies. http://t.co/GUgkkoY1Uy http://t.co/vjcjcscmlm',\n",
       " u'Amazon drops popular tax avoidance strategy  http://t.co/jl0SohGNW2 $AMZN',\n",
       " u'Chinese stocks continue surges...and it may not change anytime soon http://t.co/KOMpDP2mBd',\n",
       " u'Jabil Circuit is poised for more outperformance http://t.co/IlTHyGu9CV via @QuantifiedAlpha $JBL http://t.co/izcrlEkxxz',\n",
       " u'How did the through-train work out? http://t.co/SHrcMadnTo via @ReformedBroker $FXI http://t.co/H6CQj8WrrP',\n",
       " u'RT @ampressman: Amazon\\u2019s going tp pay more taxes Europe says it owes. Anyone else? &lt;crickets&gt;. Discussing with @aarontask http://t.co/eZg1X\\u2026',\n",
       " u\"RT @rickjnewman: Don't miss it! RT @HalfBankrupt Wed on @StocksNJocks @RickJNewman of @YahooFinance joins the show to talk #Obamacare http:\\u2026\",\n",
       " u\"The son of China's richest man bought two Apple watches for his dog because four would have been tacky http://t.co/37vibFylfd\",\n",
       " u'Connecticut exec flees U.S. after insider trading, fraud claims -SEC http://t.co/er5ZHynK51',\n",
       " u'Time Warner Cable CEO Eligible for $85 Million Golden Parachute http://t.co/eGAsawwFfM',\n",
       " u'Retail to rebound? http://t.co/qTqz99lsH7 via Cynthia DiBartolo $RTH http://t.co/2v22G4LzU3',\n",
       " u'6 important market charts in the past week http://t.co/J9X8YCvjn8 via @361Capital $SPY http://t.co/TSpSTPlnWz',\n",
       " u'Dollar/Yen breaks 18-year resistance, good for Nikkei? http://t.co/XIXtqOoxu0 via @KimbleCharting $EWJ http://t.co/fTiQ2psEh1',\n",
       " u'The auto industry looks beyond ownership http://t.co/NzAoKkHRG7 via @BV $F',\n",
       " u'How should investors prepare for rising rates? http://t.co/SUnd8cdblx via @michaelbatnick $SPY http://t.co/KAtCoDZI2p',\n",
       " u'Can Wal-Mart hold up against pressure from Amazon? http://t.co/OUwcY5sPfV via @Bidnessetc $AMZN http://t.co/kgAyZlWSeb',\n",
       " u\"Growth in billionaires' wealth to taper off http://t.co/2jO7oF9LFl\",\n",
       " u'A tale of two luxury retailers http://t.co/7Q2NQuXMBT via @Estimize $KORS http://t.co/gWAKmnI2aP',\n",
       " u'Why EMC bought Virtustream for $1.2 billion http://t.co/4XgyJOfijP via @Financial_Orbit $EMC http://t.co/yhNhM0KMAG',\n",
       " u'$430 Cowboy Boots and Other Reasons to Be Excited About Stocks http://t.co/reQ59yrtT4',\n",
       " u'Best ways to invest $1,000 now http://t.co/bY5aa7Y7qJ via @JeffReevesIP $SPY',\n",
       " u'Trading: about bulls, bears and pigs http://t.co/cpr8TWXqzk via @ivanhoff http://t.co/BsWVRsEyRA',\n",
       " u'7 money moves financially savvy couples should make http://t.co/kRyR8QfgtM via @marybstorj http://t.co/31eaTBrPeD']"
      ]
     },
     "execution_count": 38,
     "metadata": {},
     "output_type": "execute_result"
    }
   ],
   "source": [
    "tweets"
   ]
  },
  {
   "cell_type": "markdown",
   "metadata": {},
   "source": [
    "## Storing Tweets into Mongo DB"
   ]
  },
  {
   "cell_type": "code",
   "execution_count": 39,
   "metadata": {
    "collapsed": true
   },
   "outputs": [],
   "source": [
    "client = MongoClient()"
   ]
  },
  {
   "cell_type": "code",
   "execution_count": 40,
   "metadata": {
    "collapsed": true
   },
   "outputs": [],
   "source": [
    "datatweets = client.dsbc.datatweets"
   ]
  },
  {
   "cell_type": "code",
   "execution_count": 41,
   "metadata": {
    "collapsed": false
   },
   "outputs": [
    {
     "data": {
      "text/plain": [
       "{u'n': 200, u'ok': 1}"
      ]
     },
     "execution_count": 41,
     "metadata": {},
     "output_type": "execute_result"
    }
   ],
   "source": [
    "datatweets.remove( { } )"
   ]
  },
  {
   "cell_type": "code",
   "execution_count": 42,
   "metadata": {
    "collapsed": false
   },
   "outputs": [],
   "source": [
    "datatweets = client.dsbc.datatweets\n",
    "for k in tweets:\n",
    "    datatweets_d = {'text': k}\n",
    "    datatweets.insert(datatweets_d)"
   ]
  },
  {
   "cell_type": "code",
   "execution_count": 43,
   "metadata": {
    "collapsed": false
   },
   "outputs": [
    {
     "name": "stdout",
     "output_type": "stream",
     "text": [
      "{u'text': u'Rate hikes and market returns http://t.co/gYRo694xFJ via @WildcatTrader $SPY', u'_id': ObjectId('5568a805bb9ab40372a2f49b')}\n",
      "{u'text': u'The Next Obamacare Fight: Who to Blame http://t.co/FifN8DIHrS', u'_id': ObjectId('5568a805bb9ab40372a2f4a9')}\n",
      "{u'text': u'US presses Europeans at meeting to solve Greek crisis http://t.co/sZ2UhuQA9f', u'_id': ObjectId('5568a805bb9ab40372a2f4ad')}\n",
      "{u'text': u'American households feeling less financially stressed http://t.co/epxHTLSu9W', u'_id': ObjectId('5568a805bb9ab40372a2f4af')}\n",
      "{u'text': u'US economy shrank at 0.7 percent rate in first quarter http://t.co/30PGYlca47', u'_id': ObjectId('5568a805bb9ab40372a2f4b0')}\n",
      "{u'text': u'Early movers: $BIG, $GME, $DECK, $AMZN, $EQIX &amp; more http://t.co/XSwjrro86k', u'_id': ObjectId('5568a805bb9ab40372a2f4b1')}\n",
      "{u'text': u'Amazon Plans to Add Its Own Line of Food http://t.co/VhWQTX63BQ', u'_id': ObjectId('5568a805bb9ab40372a2f4b2')}\n",
      "{u'text': u'The Chinese Stock Rally Keeps Minting More Billionaires http://t.co/5RyDIMiA5l', u'_id': ObjectId('5568a805bb9ab40372a2f4b8')}\n",
      "{u'text': u'The top 10 highest-paid female CEOs http://t.co/ZUfix8448I', u'_id': ObjectId('5568a805bb9ab40372a2f4b9')}\n",
      "{u'text': u\"Everyone Is Fleeing Oil's Biggest Fund http://t.co/NSWV9V8JzO\", u'_id': ObjectId('5568a805bb9ab40372a2f4ba')}\n",
      "{u'text': u'Oil gains 1 percent on U.S. inventory drop http://t.co/6YAy62by5K', u'_id': ObjectId('5568a805bb9ab40372a2f4bb')}\n",
      "{u'text': u\"Paul Singer: This is the new 'big short.' http://t.co/lanzYj91o3\", u'_id': ObjectId('5568a805bb9ab40372a2f4bc')}\n",
      "{u'text': u'.@jimcramer: The single hottest stock I follow. http://t.co/sRwKwZW0Lf', u'_id': ObjectId('5568a805bb9ab40372a2f4bd')}\n",
      "{u'text': u'Google takes on Apple with new Photos app. http://t.co/6VTzD3ilQO', u'_id': ObjectId('5568a805bb9ab40372a2f4c5')}\n",
      "{u'text': u\"Brands don't like .sucks? Not our problem, FTC says. http://t.co/plZC8UPvL0\", u'_id': ObjectId('5568a805bb9ab40372a2f4c7')}\n",
      "{u'text': u'Why Wall Street should bet on women: http://t.co/gbJLDa59Dv', u'_id': ObjectId('5568a805bb9ab40372a2f4c8')}\n",
      "{u'text': u'How a trader plans to make $21 million in one week http://t.co/twobuINGG6', u'_id': ObjectId('5568a805bb9ab40372a2f4c9')}\n",
      "{u'text': u\"FBI says it's investigating identity theft at IRS http://t.co/IV8iUxU070\", u'_id': ObjectId('5568a805bb9ab40372a2f4cf')}\n",
      "{u'text': u'IMF head says Greek exit a possibility - newspaper http://t.co/SXlvYgUYgd', u'_id': ObjectId('5568a805bb9ab40372a2f4d2')}\n",
      "{u'text': u\"Cramer: Don't write off Costco, here's why http://t.co/75Mzrz3hR4\", u'_id': ObjectId('5568a805bb9ab40372a2f4d8')}\n",
      "{u'text': u'Chobani CEO pledges to donate most of wealth http://t.co/qoyEDbjx9I', u'_id': ObjectId('5568a805bb9ab40372a2f4d9')}\n",
      "{u'text': u'Global gambling sector worth over $450 billion http://t.co/w6fk4uzwsP', u'_id': ObjectId('5568a805bb9ab40372a2f4dc')}\n",
      "{u'text': u'Why energy tax breaks we take should go away: CEO http://t.co/NtfdyPHDre', u'_id': ObjectId('5568a805bb9ab40372a2f4df')}\n",
      "{u'text': u'Broadcom CEO McGregor Eligible for $67 Million http://t.co/4MWH23Zf6q', u'_id': ObjectId('5568a805bb9ab40372a2f4e2')}\n",
      "{u'text': u'Dollar General says COO Vasos to replace Dreiling as CEO http://t.co/3TjXLh2Z2B', u'_id': ObjectId('5568a805bb9ab40372a2f4e5')}\n",
      "{u'text': u'Pending US home sales jump to strongest level in 9 years http://t.co/g0oBtxLrXf', u'_id': ObjectId('5568a805bb9ab40372a2f4e7')}\n",
      "{u'text': u'These Are the Best U.S. Housing Markets http://t.co/PDNuPQ4sPB', u'_id': ObjectId('5568a805bb9ab40372a2f4e9')}\n",
      "{u'text': u\"U2's longtime tour manager, Dennis Sheehan, found dead http://t.co/dybAE6XMWg\", u'_id': ObjectId('5568a805bb9ab40372a2f4eb')}\n",
      "{u'text': u'Is this the end of a 35 year bull market in stocks and bonds? http://t.co/oEaYcjfC7W via @awealthofcs $TLT', u'_id': ObjectId('5568a805bb9ab40372a2f4ec')}\n",
      "{u'text': u'Dollar could be getting ready to roar http://t.co/SuDU8oiXWS', u'_id': ObjectId('5568a805bb9ab40372a2f4ed')}\n",
      "{u'text': u'Gina Rinehart Loses Battle to Control $3.8 Billion Trust http://t.co/4XVxYS5ctE', u'_id': ObjectId('5568a805bb9ab40372a2f4ee')}\n",
      "{u'text': u'GoPro jumps into virtual reality and drones http://t.co/LKHbGXS8ds', u'_id': ObjectId('5568a805bb9ab40372a2f4ef')}\n",
      "{u'text': u'U.S. jobless claims up, but still point to labor market strength http://t.co/4RqjssuLy7', u'_id': ObjectId('5568a805bb9ab40372a2f4f0')}\n",
      "{u'text': u'Market trading in 4th tightest range in 115 years http://t.co/rpgCJOxR5v via @KimbleCharting $DIA http://t.co/ucfRUYirCj', u'_id': ObjectId('5568a805bb9ab40372a2f4f1')}\n",
      "{u'text': u'Is rent out of reach? Study shows how 11 US cities stack up http://t.co/CFy4Ab9EJ1', u'_id': ObjectId('5568a805bb9ab40372a2f4f2')}\n",
      "{u'text': u'3 charts that will rekindle your interest in financial market history http://t.co/L2t2UbevEg via @CFAinstitute http://t.co/ERJ9GJno5h', u'_id': ObjectId('5568a805bb9ab40372a2f4f3')}\n",
      "{u'text': u'Less than 1% June through October following pre-election year May gain http://t.co/HpElUjGTap via @AlmanacTrader $SPY http://t.co/gRUfvqcjmz', u'_id': ObjectId('5568a805bb9ab40372a2f4f4')}\n",
      "{u'text': u'Bull market dealt a significant blow? http://t.co/6aNlNXrLXx via @JLyonsFundMgmt $DIA http://t.co/Ph758fQbSt', u'_id': ObjectId('5568a805bb9ab40372a2f4f5')}\n",
      "{u'text': u'The Baltic Dry Index. What it is telling us is sobering http://t.co/sL8t2rdL9b via @peterckenny http://t.co/HePQb9ppZU', u'_id': ObjectId('5568a805bb9ab40372a2f4f6')}\n",
      "{u'text': u'Stock buybacks: Mostly an accounting sleight of hand http://t.co/nnzIAMJzbZ via @CharlesSizemore http://t.co/3AihNy4DyQ', u'_id': ObjectId('5568a805bb9ab40372a2f4f7')}\n",
      "{u'text': u'Early movers: $BRCM, $COST, $EXPR, $ANF &amp; more http://t.co/ntJCMYXKHE', u'_id': ObjectId('5568a805bb9ab40372a2f4f8')}\n",
      "{u'text': u'Michael Kors wounds self-inflicted http://t.co/cePLlrX1Rk via @TALENTEDBLONDE $KORS http://t.co/m6oKh605qK', u'_id': ObjectId('5568a805bb9ab40372a2f4f9')}\n",
      "{u'text': u'Avago to Buy Broadcom for $37 Billion in Biggest Chip Deal http://t.co/FQkzTReK0Q', u'_id': ObjectId('5568a805bb9ab40372a2f4fa')}\n",
      "{u'text': u'The Tanker Market Is Sending a Big Warning to Oil Bulls http://t.co/zpbsyVps7b', u'_id': ObjectId('5568a805bb9ab40372a2f4fb')}\n",
      "{u'text': u'Putin accuses US of meddling in FIFA affairs http://t.co/Et7es0zsx1', u'_id': ObjectId('5568a805bb9ab40372a2f4fc')}\n",
      "{u'text': u'Visa becomes first FIFA sponsor to warn it could jump ship http://t.co/RjordPaRfk', u'_id': ObjectId('5568a805bb9ab40372a2f4fd')}\n",
      "{u'text': u'Amazon to offer free same-day delivery to Prime members http://t.co/9AvoTiXKAd $AMZN', u'_id': ObjectId('5568a805bb9ab40372a2f4fe')}\n",
      "{u'text': u'.@jimcramer takes a look at the #housing landscape. http://t.co/78uUoOjpf3', u'_id': ObjectId('5568a805bb9ab40372a2f4ff')}\n",
      "{u'text': u'Japanese yen slides to 12-year low against U.S. dollar as Yellen builds case for rate hike. http://t.co/dlshY1zLIE', u'_id': ObjectId('5568a805bb9ab40372a2f500')}\n",
      "{u'text': u\"Apple Watch debut 'less than spectacular,' analyst says. http://t.co/JxvUxthjwr $AAPL\", u'_id': ObjectId('5568a805bb9ab40372a2f501')}\n",
      "{u'text': u'The Class of 2015 could use a wakeup call http://t.co/ah0JH7HgmC http://t.co/1SNMCLb14t', u'_id': ObjectId('5568a805bb9ab40372a2f502')}\n",
      "{u'text': u'Yes, social shopping is a thing now. Pros and cons: http://t.co/HeYhkuSrG0', u'_id': ObjectId('5568a805bb9ab40372a2f503')}\n",
      "{u'text': u'President Nixon: The man who sold the world fiat money http://t.co/tW5ABGdj7x via @CFAinstitute $UUP', u'_id': ObjectId('5568a805bb9ab40372a2f504')}\n",
      "{u'text': u'Meet the new billionaires http://t.co/Eo1YtLyozC http://t.co/ho7MhTeHeU', u'_id': ObjectId('5568a805bb9ab40372a2f505')}\n",
      "{u'text': u'Why Oracle is a solid castle http://t.co/aANM0F9PAP via @Valuentum $ORCL', u'_id': ObjectId('5568a805bb9ab40372a2f506')}\n",
      "{u'text': u'To win in the stock market you have to be willing to lose http://t.co/5qAfRJpgHV via @awealthofcs $SPY', u'_id': ObjectId('5568a805bb9ab40372a2f507')}\n",
      "{u'text': u\"Bill Gross: Don't downplay Greece's struggles. http://t.co/PxkpiGxKFI\", u'_id': ObjectId('5568a805bb9ab40372a2f508')}\n",
      "{u'text': u'How to Save on Summer Renovation Projects http://t.co/tAWXvXj7d8', u'_id': ObjectId('5568a805bb9ab40372a2f509')}\n",
      "{u'text': u'Why a Microsoft buyout of Salesforce makes sense, then doesn\\u2019t http://t.co/W2DO5YJxIn via @Bidnessetc $CRM', u'_id': ObjectId('5568a805bb9ab40372a2f50a')}\n",
      "{u'text': u'The case against taking Social Security at 62 http://t.co/wZYOpHtccx', u'_id': ObjectId('5568a805bb9ab40372a2f50b')}\n",
      "{u'text': u'Ulta expecting another great quarterly report tomorrow http://t.co/tgpFbn6vJv via @Estimize $ULTA http://t.co/8Dgvl16Okg', u'_id': ObjectId('5568a805bb9ab40372a2f50c')}\n",
      "{u'text': u\".@BlackRock CEO Fink tells @serwer our biggest risk isn't China or interest rates: It's us.  http://t.co/fraV4xepRo\", u'_id': ObjectId('5568a805bb9ab40372a2f50d')}\n",
      "{u'text': u'The Class of 2015 could use a wakeup call http://t.co/WkYMfUIbdC http://t.co/xrcH1qFmjq', u'_id': ObjectId('5568a805bb9ab40372a2f50e')}\n",
      "{u'text': u'President Nixon: The man who sold the world fiat money http://t.co/4wQygpGDKv via @CFAinstitute $UUP http://t.co/AOONYOsySu', u'_id': ObjectId('5568a805bb9ab40372a2f50f')}\n",
      "{u'text': u'Meet the new billionaires http://t.co/I5TUru3ma4 http://t.co/LO8uXES5OU', u'_id': ObjectId('5568a805bb9ab40372a2f510')}\n",
      "{u'text': u\"BlackRock's Fink says our biggest risk isn't China or interest rates: It's us  http://t.co/Ccr9gKAanA\", u'_id': ObjectId('5568a805bb9ab40372a2f511')}\n",
      "{u'text': u'Abercrombie hopes latest changes will spur sales http://t.co/fvc5247lFn via @Estimize $ANF', u'_id': ObjectId('5568a805bb9ab40372a2f512')}\n",
      "{u'text': u'Greece owes drugmakers $1.2 billion - and counting http://t.co/6fTOdO9l0x', u'_id': ObjectId('5568a805bb9ab40372a2f513')}\n",
      "{u'text': u'Volatility for Breakfast: Egg and Bacon Prices Go Opposite Ways http://t.co/dl0ELmq3qd', u'_id': ObjectId('5568a805bb9ab40372a2f514')}\n",
      "{u'text': u'Why it\\u2019s so important for a stock operator to \\u2018know thyself\\u2019 http://t.co/n8aE1lkt4E via @jessefelder $SPY http://t.co/oPIJS7goKb', u'_id': ObjectId('5568a805bb9ab40372a2f515')}\n",
      "{u'text': u'The bullish healthcare sector setup http://t.co/DMtzr3psCD via @KimbleCharting $XLV', u'_id': ObjectId('5568a805bb9ab40372a2f516')}\n",
      "{u'text': u'Lamborghini to launch SUV in 2018 http://t.co/vmUiItkNYd http://t.co/UhYh2e46zI', u'_id': ObjectId('5568a805bb9ab40372a2f517')}\n",
      "{u'text': u'RT @ampressman: http://t.co/I5mE68oPQM is growing fast - and profitably - as it lines up an IPO. But competition abounds on all sides http:\\u2026', u'_id': ObjectId('5568a805bb9ab40372a2f518')}\n",
      "{u'text': u\"Stocks we're watching: $dsw steps up, rough day for $wday, $kors tanks to 52-wk low\\nhttp://t.co/oEYUCCwlom\", u'_id': ObjectId('5568a805bb9ab40372a2f519')}\n",
      "{u'text': u\"Watch live at noon: Snapchat's IPO, Tiffany soars and Michael Kors slides http://t.co/MPFIViMYPu\", u'_id': ObjectId('5568a805bb9ab40372a2f51a')}\n",
      "{u'text': u'Unemployment rates fell in 23 US states in April http://t.co/1OLDepMnaH', u'_id': ObjectId('5568a805bb9ab40372a2f51b')}\n",
      "{u'text': u'Pimco and Hedge Funds Are Fighting Over Subprime Scraps http://t.co/L2I1X1Mijo', u'_id': ObjectId('5568a805bb9ab40372a2f51c')}\n",
      "{u'text': u'Why a Microsoft buyout of Salesforce makes sense, then doesn\\u2019t http://t.co/UYiFAQNv31 via @Bidnessetc $CRM http://t.co/uDkOtt5gY2', u'_id': ObjectId('5568a805bb9ab40372a2f51d')}\n",
      "{u'text': u'Michael Kors posts slowest revenue growth since going public http://t.co/FYUQfW7dUO $KORS', u'_id': ObjectId('5568a805bb9ab40372a2f51e')}\n",
      "{u'text': u'Airbus plans Silicon Valley innovation center http://t.co/1Xb4qbJUpE', u'_id': ObjectId('5568a805bb9ab40372a2f51f')}\n",
      "{u'text': u'Here is how AstraZeneca and Amgen will be hit by the cancelled collaboration http://t.co/SLz5A5JiG1 via @Bidnessetc $AMGN', u'_id': ObjectId('5568a805bb9ab40372a2f520')}\n",
      "{u'text': u'Why Oracle is a solid castle http://t.co/YEVrGDtRda via @Valuentum $ORCL http://t.co/7pMEzU0CE5', u'_id': ObjectId('5568a805bb9ab40372a2f521')}\n",
      "{u'text': u'The breadth deterioration is real http://t.co/o5GuFqx2wt via @ZorTrades $SPY', u'_id': ObjectId('5568a805bb9ab40372a2f522')}\n",
      "{u'text': u\"McDonald's to stop reporting monthly same-store sales after June http://t.co/7wORazlZSO\", u'_id': ObjectId('5568a805bb9ab40372a2f523')}\n",
      "{u'text': u\"The Russian billionaires hit hard by oil's plunge http://t.co/oO5eD22Jyx\", u'_id': ObjectId('5568a805bb9ab40372a2f524')}\n",
      "{u'text': u'Short in May and go away http://t.co/R4FPWVCCLE via @DougKass $SPY http://t.co/iGyw1eqLs4', u'_id': ObjectId('5568a805bb9ab40372a2f525')}\n",
      "{u'text': u'Why hasn\\u2019t Nationstar Mortgage been sued yet? http://t.co/X4X6U7ouaA via @TheDealNewsroom $NSM http://t.co/iEpZiswG16', u'_id': ObjectId('5568a805bb9ab40372a2f526')}\n",
      "{u'text': u'To win in the stock market you have to be willing to lose http://t.co/DYgLKbpeVB via @awealthofcs $SPY http://t.co/niV8l6fr3f', u'_id': ObjectId('5568a805bb9ab40372a2f527')}\n",
      "{u'text': u'The Mansions That Are Swallowing Suburban Homes http://t.co/CNehktihuB', u'_id': ObjectId('5568a805bb9ab40372a2f528')}\n",
      "{u'text': u\"OPEC Will Back Saudi Arabia's Plan to Keep Supplies Elevated http://t.co/vWF3KroZs4\", u'_id': ObjectId('5568a805bb9ab40372a2f529')}\n",
      "{u'text': u'Snapchat CEO sees a bubble, blames interest rates http://t.co/S6d3GFiB6v', u'_id': ObjectId('5568a805bb9ab40372a2f52a')}\n",
      "{u'text': u'Early movers: $TIF, $KORS, $TOL, $BWS, $HRL &amp; more http://t.co/UdclirygVg', u'_id': ObjectId('5568a805bb9ab40372a2f52b')}\n",
      "{u'text': u'Luxury Brands Shrink $7 Billion in Value http://t.co/atKBNPJmIe', u'_id': ObjectId('5568a805bb9ab40372a2f52c')}\n",
      "{u'text': u'What Chicago\\u2019s fiscal emergency says about the quality of credit analysis in the municipal bond market http://t.co/wDZYocX6o6 via @munilass', u'_id': ObjectId('5568a805bb9ab40372a2f52d')}\n",
      "{u'text': u'Why at the end of the day consumers will have the final say on rates http://t.co/qWEoc7VdFe via @peterckenny $TLT http://t.co/kLeFArEo0F', u'_id': ObjectId('5568a805bb9ab40372a2f52e')}\n",
      "{u'text': u'Solar as Fastest Growing U.S. Power Source Rivals Shale Boom http://t.co/0gwNAayYd1', u'_id': ObjectId('5568a805bb9ab40372a2f52f')}\n",
      "{u'text': u'A breakout to nowhere http://t.co/3GXesOPZ8I via @JLyonsFundMgmt $SPY http://t.co/9yobQufvVL', u'_id': ObjectId('5568a805bb9ab40372a2f530')}\n",
      "{u'text': u'The average U.S. consumer should be happy and confident http://t.co/gwHsYfGtQc via @Financial_Orbit', u'_id': ObjectId('5568a805bb9ab40372a2f531')}\n",
      "{u'text': u'The Transports have left the rails http://t.co/oKeCHDeWFo via @harmongreg $IYT http://t.co/qicZzyvbLt', u'_id': ObjectId('5568a805bb9ab40372a2f532')}\n",
      "{u'text': u'Bernanke sees no risk of hard landing in China, bullish on U.S. economy http://t.co/uvE7F2pR50', u'_id': ObjectId('5568a805bb9ab40372a2f533')}\n",
      "{u'text': u'Greece Said Likely to Miss May Deal Deadline as Talks Falter http://t.co/Z4n35om759', u'_id': ObjectId('5568a805bb9ab40372a2f534')}\n",
      "{u'text': u'Michael Kors posts slowest sales growth in 14 quarters http://t.co/oeYIgB58gZ', u'_id': ObjectId('5568a805bb9ab40372a2f535')}\n",
      "{u'text': u'Tiffany tops Street 1Q forecasts http://t.co/vH3epaHMVl', u'_id': ObjectId('5568a805bb9ab40372a2f536')}\n",
      "{u'text': u'Toll Brothers meets 2Q profit forecasts http://t.co/eOQevH9y2f', u'_id': ObjectId('5568a805bb9ab40372a2f537')}\n",
      "{u'text': u'Cost of data breaches increasing to average of $3.8 million, study says http://t.co/MqrWUiq6GR', u'_id': ObjectId('5568a805bb9ab40372a2f538')}\n",
      "{u'text': u'Bug causes message to crash certain Apple iOS devices. No immediate comment from $AAPL. http://t.co/PG3lmjmBh2', u'_id': ObjectId('5568a805bb9ab40372a2f539')}\n",
      "{u'text': u\"Here's the case for buying today's dip on Wall Street. http://t.co/CURP9d14P0\", u'_id': ObjectId('5568a805bb9ab40372a2f53a')}\n",
      "{u'text': u'Home Depot\\u2019s 1Q15 results show continued operational strength http://t.co/XlF1WaHlnP via @treetis $HD', u'_id': ObjectId('5568a805bb9ab40372a2f53b')}\n",
      "{u'text': u'Oil to stabilize amid production worries, one expert says. http://t.co/8DXX90tC3X', u'_id': ObjectId('5568a805bb9ab40372a2f53c')}\n",
      "{u'text': u'7 money moves financially savvy couples should make http://t.co/P3EbImnvDk via @marybstorj', u'_id': ObjectId('5568a805bb9ab40372a2f53d')}\n",
      "{u'text': u'Europe woes and U.S. rate hike prospects depress stocks, boost dollar. http://t.co/nvpesewdow', u'_id': ObjectId('5568a805bb9ab40372a2f53e')}\n",
      "{u'text': u'Can Wal-Mart hold up against pressure from Amazon? http://t.co/MyAG6vwe9U via @Bidnessetc $AMZN', u'_id': ObjectId('5568a805bb9ab40372a2f53f')}\n",
      "{u'text': u'.@jimcramer: Spotting gems amid the market rubble. http://t.co/6ZAt1sOc2D', u'_id': ObjectId('5568a805bb9ab40372a2f540')}\n",
      "{u'text': u'Jabil Circuit is poised for more outperformance http://t.co/yjrEzPD9UF via @QuantifiedAlpha $JBL', u'_id': ObjectId('5568a805bb9ab40372a2f541')}\n",
      "{u'text': u'Top 10 highest-paid CEOs http://t.co/BLbuafBzJz', u'_id': ObjectId('5568a805bb9ab40372a2f542')}\n",
      "{u'text': u'CEO pay: biggest raises and biggest cuts of 2014 http://t.co/3Ikw6nbErK', u'_id': ObjectId('5568a805bb9ab40372a2f543')}\n",
      "{u'text': u'Vox Media is buying tech publication ReCode. http://t.co/yHf8dqJv76', u'_id': ObjectId('5568a805bb9ab40372a2f544')}\n",
      "{u'text': u'What Michael Kors, Tiffany earnings say about high-end consumers. http://t.co/RnKvuOK4bb $KORS $TIF', u'_id': ObjectId('5568a805bb9ab40372a2f545')}\n",
      "{u'text': u'Vox Media is buying tech news website ReCode, @nytimes reports.', u'_id': ObjectId('5568a805bb9ab40372a2f546')}\n",
      "{u'text': u'RT @CNBCnow: JUST IN: Fed Chair Yellen will not attend Jackson Hole meeting this year, may attend in future. (via @steveliesman)\\nhttps://t.\\u2026', u'_id': ObjectId('5568a805bb9ab40372a2f547')}\n",
      "{u'text': u'Michael Kors will continue to walk all over earnings http://t.co/H0o5uzxWtV via @QuantifiedAlpha $KORS http://t.co/YeGf3jyEsS', u'_id': ObjectId('5568a805bb9ab40372a2f548')}\n",
      "{u'text': u'http://t.co/gaLk9Lo5md to hire 6,000 full-time staffers across its U.S. fulfillment network. http://t.co/Ab5mOIbC5Y $AMZN', u'_id': ObjectId('5568a805bb9ab40372a2f549')}\n",
      "{u'text': u'BofA Merrill: Here\\u2019s how to tap into Millennials\\u2019 burgeoning influence. http://t.co/iyGkqQaGbC', u'_id': ObjectId('5568a805bb9ab40372a2f54a')}\n",
      "{u'text': u'IRS says thieves stole tax info from 100,000. http://t.co/AYUDA0aDef', u'_id': ObjectId('5568a805bb9ab40372a2f54b')}\n",
      "{u'text': u'Bear strike: U.S. stocks sink 1% as greenback rallies. http://t.co/GUgkkoY1Uy http://t.co/vjcjcscmlm', u'_id': ObjectId('5568a805bb9ab40372a2f54c')}\n",
      "{u'text': u'Amazon drops popular tax avoidance strategy  http://t.co/jl0SohGNW2 $AMZN', u'_id': ObjectId('5568a805bb9ab40372a2f54d')}\n",
      "{u'text': u'Chinese stocks continue surges...and it may not change anytime soon http://t.co/KOMpDP2mBd', u'_id': ObjectId('5568a805bb9ab40372a2f54e')}\n",
      "{u'text': u'Jabil Circuit is poised for more outperformance http://t.co/IlTHyGu9CV via @QuantifiedAlpha $JBL http://t.co/izcrlEkxxz', u'_id': ObjectId('5568a805bb9ab40372a2f54f')}\n",
      "{u'text': u'How did the through-train work out? http://t.co/SHrcMadnTo via @ReformedBroker $FXI http://t.co/H6CQj8WrrP', u'_id': ObjectId('5568a805bb9ab40372a2f550')}\n",
      "{u'text': u'RT @ampressman: Amazon\\u2019s going tp pay more taxes Europe says it owes. Anyone else? &lt;crickets&gt;. Discussing with @aarontask http://t.co/eZg1X\\u2026', u'_id': ObjectId('5568a805bb9ab40372a2f551')}\n",
      "{u'text': u\"RT @rickjnewman: Don't miss it! RT @HalfBankrupt Wed on @StocksNJocks @RickJNewman of @YahooFinance joins the show to talk #Obamacare http:\\u2026\", u'_id': ObjectId('5568a805bb9ab40372a2f552')}\n",
      "{u'text': u\"The son of China's richest man bought two Apple watches for his dog because four would have been tacky http://t.co/37vibFylfd\", u'_id': ObjectId('5568a805bb9ab40372a2f553')}\n",
      "{u'text': u'Connecticut exec flees U.S. after insider trading, fraud claims -SEC http://t.co/er5ZHynK51', u'_id': ObjectId('5568a805bb9ab40372a2f554')}\n",
      "{u'text': u'Time Warner Cable CEO Eligible for $85 Million Golden Parachute http://t.co/eGAsawwFfM', u'_id': ObjectId('5568a805bb9ab40372a2f555')}\n",
      "{u'text': u'Retail to rebound? http://t.co/qTqz99lsH7 via Cynthia DiBartolo $RTH http://t.co/2v22G4LzU3', u'_id': ObjectId('5568a805bb9ab40372a2f556')}\n",
      "{u'text': u'6 important market charts in the past week http://t.co/J9X8YCvjn8 via @361Capital $SPY http://t.co/TSpSTPlnWz', u'_id': ObjectId('5568a805bb9ab40372a2f557')}\n",
      "{u'text': u'Dollar/Yen breaks 18-year resistance, good for Nikkei? http://t.co/XIXtqOoxu0 via @KimbleCharting $EWJ http://t.co/fTiQ2psEh1', u'_id': ObjectId('5568a805bb9ab40372a2f558')}\n",
      "{u'text': u'The auto industry looks beyond ownership http://t.co/NzAoKkHRG7 via @BV $F', u'_id': ObjectId('5568a805bb9ab40372a2f559')}\n",
      "{u'text': u'How should investors prepare for rising rates? http://t.co/SUnd8cdblx via @michaelbatnick $SPY http://t.co/KAtCoDZI2p', u'_id': ObjectId('5568a805bb9ab40372a2f55a')}\n",
      "{u'text': u'Can Wal-Mart hold up against pressure from Amazon? http://t.co/OUwcY5sPfV via @Bidnessetc $AMZN http://t.co/kgAyZlWSeb', u'_id': ObjectId('5568a805bb9ab40372a2f55b')}\n",
      "{u'text': u\"Growth in billionaires' wealth to taper off http://t.co/2jO7oF9LFl\", u'_id': ObjectId('5568a805bb9ab40372a2f55c')}\n",
      "{u'text': u'A tale of two luxury retailers http://t.co/7Q2NQuXMBT via @Estimize $KORS http://t.co/gWAKmnI2aP', u'_id': ObjectId('5568a805bb9ab40372a2f55d')}\n",
      "{u'text': u'Why EMC bought Virtustream for $1.2 billion http://t.co/4XgyJOfijP via @Financial_Orbit $EMC http://t.co/yhNhM0KMAG', u'_id': ObjectId('5568a805bb9ab40372a2f55e')}\n",
      "{u'text': u'$430 Cowboy Boots and Other Reasons to Be Excited About Stocks http://t.co/reQ59yrtT4', u'_id': ObjectId('5568a805bb9ab40372a2f55f')}\n",
      "{u'text': u'Best ways to invest $1,000 now http://t.co/bY5aa7Y7qJ via @JeffReevesIP $SPY', u'_id': ObjectId('5568a805bb9ab40372a2f560')}\n",
      "{u'text': u'Trading: about bulls, bears and pigs http://t.co/cpr8TWXqzk via @ivanhoff http://t.co/BsWVRsEyRA', u'_id': ObjectId('5568a805bb9ab40372a2f561')}\n",
      "{u'text': u'7 money moves financially savvy couples should make http://t.co/kRyR8QfgtM via @marybstorj http://t.co/31eaTBrPeD', u'_id': ObjectId('5568a805bb9ab40372a2f562')}\n",
      "{u'text': u'Where is your compass pointing today? http://t.co/UoZgP1EltI via @jaltucher http://t.co/GS3dxljPLC', u'_id': ObjectId('5568a805bb9ab40372a2f49c')}\n",
      "{u'text': u'June\\u2019s first trading day hit hard in four of last seven years http://t.co/MWuY4yavS1 via @AlmanacTrader $SPY', u'_id': ObjectId('5568a805bb9ab40372a2f49d')}\n",
      "{u'text': u'Can Bob Evans escape activist Sandell by monetizing real estate? http://t.co/1wyejfZqAu via @TheDealNewsroom $BOBE http://t.co/g7QGdkxkXy', u'_id': ObjectId('5568a805bb9ab40372a2f49e')}\n",
      "{u'text': u\"Carl's, Hardee's CEO: Not all models know how to eat burgers http://t.co/qLiuJIvlIE\", u'_id': ObjectId('5568a805bb9ab40372a2f49f')}\n",
      "{u'text': u'RT @mandiwoodruff: Staggering: you\\u2019d have to work 98 hours per week to afford a one-bedroom in NYC: http://t.co/PYNpNpKm86 http://t.co/M2oN\\u2026', u'_id': ObjectId('5568a805bb9ab40372a2f4a0')}\n",
      "{u'text': u'Altera, Intel up on deal talk; GameStop unstoppable; Splunk flunks http://t.co/3t7BIt6twr', u'_id': ObjectId('5568a805bb9ab40372a2f4a1')}\n",
      "{u'text': u'Watch live at noon: Nike and Under Armour face off, Investors hoard cash and tech M&amp;A heats up http://t.co/iDd6TAGVhT', u'_id': ObjectId('5568a805bb9ab40372a2f4a2')}\n",
      "{u'text': u'How to invest in the Cybersecurity boom http://t.co/LH7R7SOjx5 via @JeffReevesIP $HACK http://t.co/ROEf5uBnGV', u'_id': ObjectId('5568a805bb9ab40372a2f4a3')}\n",
      "{u'text': u'Disrupting Psychology: Text a shrink for $25/week. Does it work? http://t.co/Mht07BSTix', u'_id': ObjectId('5568a805bb9ab40372a2f4a4')}\n",
      "{u'text': u'GameStop gives the people what they want (shareholders too)  http://t.co/GFRhLU8CND', u'_id': ObjectId('5568a805bb9ab40372a2f4a5')}\n",
      "{u'text': u'Here\\u2019s what CEOs said about the economy this week http://t.co/aodAkxkL6Y via @Skrisiloff $KORS', u'_id': ObjectId('5568a805bb9ab40372a2f4a6')}\n",
      "{u'text': u'How to tell if you\\u2019re getting bad financial advice http://t.co/4CTzerjcYE via @awealthofcs $SPY http://t.co/VhuPftU4hr', u'_id': ObjectId('5568a805bb9ab40372a2f4a7')}\n",
      "{u'text': u'In Ohio pepper-spray assault case, victim gets to fire back http://t.co/SfMBMbsRYN', u'_id': ObjectId('5568a805bb9ab40372a2f4a8')}\n",
      "{u'text': u'Why reading is the best thing you can do for your life and career http://t.co/wYP0B0Egqt via @millennial_inv', u'_id': ObjectId('5568a805bb9ab40372a2f4aa')}\n",
      "{u'text': u'Big Cable tries to stave off the inevitable http://t.co/VIL1YprYe3 via @CharlesSizemore $TWC http://t.co/U58vm3zwsT', u'_id': ObjectId('5568a805bb9ab40372a2f4ab')}\n",
      "{u'text': u'Etsy: Why the post IPO slump may continue http://t.co/SJR5SNbMFI via @Bidnessetc $ETSY http://t.co/cQBY9Mb5mR', u'_id': ObjectId('5568a805bb9ab40372a2f4ac')}\n",
      "{u'text': u'Wealthy Chinese Head Abroad to Buy Diamonds Without Scrutiny http://t.co/kMO5aJJMOU', u'_id': ObjectId('5568a805bb9ab40372a2f4ae')}\n",
      "{u'text': u'How to invest in China: 5 myths stock investors should ignore http://t.co/Gj8tHoOER9 via @CFAinstitute $FXI http://t.co/rGu9tTJAv5', u'_id': ObjectId('5568a805bb9ab40372a2f4b3')}\n",
      "{u'text': u'Rising stocks and rising rates http://t.co/zl4eG0DMuI via @agurevich23 $SPY http://t.co/3AHbnNuHZL', u'_id': ObjectId('5568a805bb9ab40372a2f4b4')}\n",
      "{u'text': u'Stocks toppy behind pre-election year make little headway this spring http://t.co/ozbfSSJOSB via @AlmanacTrader $SPY http://t.co/NBFZP4mqIH', u'_id': ObjectId('5568a805bb9ab40372a2f4b5')}\n",
      "{u'text': u'Everything you need to know about Roth IRAs http://t.co/FKmxHLoVHc via @smartasset http://t.co/1NqSL05e3h', u'_id': ObjectId('5568a805bb9ab40372a2f4b6')}\n",
      "{u'text': u'St. Louis Fed President James Bullard warns markets http://t.co/uRtfgLmS8L via @peterckenny $TLT http://t.co/hQ06q0KFtA', u'_id': ObjectId('5568a805bb9ab40372a2f4b7')}\n",
      "{u'text': u\"Shanghai Composite tumbles into correction territory. Here's more: http://t.co/2APoyoYwGQ #China\", u'_id': ObjectId('5568a805bb9ab40372a2f4be')}\n",
      "{u'text': u'Dear Fed: Please don\\u2019t strangle a nascent housing boom http://t.co/sEReBwMvSw via @jimcramer $TOL', u'_id': ObjectId('5568a805bb9ab40372a2f4bf')}\n",
      "{u'text': u\"Instead of Playing Golf, the World's Elderly Are Staging Heists and Robbing Banks http://t.co/f95pbS4sv8\", u'_id': ObjectId('5568a805bb9ab40372a2f4c0')}\n",
      "{u'text': u'3 tips for getting work done: better, faster, cheaper http://t.co/l2D3ljFGvJ via @jodygmiller', u'_id': ObjectId('5568a805bb9ab40372a2f4c1')}\n",
      "{u'text': u'The real reason behind the fall of Blackberry http://t.co/S0aE9WCTcG via @Applico $BBRY', u'_id': ObjectId('5568a805bb9ab40372a2f4c2')}\n",
      "{u'text': u\"That's Business, Man: Why Jay Z's Tidal Is a Complete Disaster http://t.co/RSMKPv8x6B\", u'_id': ObjectId('5568a805bb9ab40372a2f4c3')}\n",
      "{u'text': u'Is rent out of reach? Study shows how 11 US cities stack up http://t.co/KC32zEV81A', u'_id': ObjectId('5568a805bb9ab40372a2f4c4')}\n",
      "{u'text': u'U.S. airlines stocks; Here is why they might fly again http://t.co/l3KtGRda4t via @Bidnessetc $UAL', u'_id': ObjectId('5568a805bb9ab40372a2f4c6')}\n",
      "{u'text': u'3 bearish studies that may foreshadow the death of this bull market http://t.co/LUNHsqQp2f via @jessefelder $SPY http://t.co/dfWTN6oQuU', u'_id': ObjectId('5568a805bb9ab40372a2f4ca')}\n",
      "{u'text': u'More weight added to equity bear case http://t.co/eQrH0KTOiw via @JLyonsFundMgmt $RSP http://t.co/cHeP21kF7B', u'_id': ObjectId('5568a805bb9ab40372a2f4cb')}\n",
      "{u'text': u\"Why a shrinking US economy last quarter isn't cause for fear http://t.co/O1A33R3LBN\", u'_id': ObjectId('5568a805bb9ab40372a2f4cc')}\n",
      "{u'text': u'U.S. airlines stocks; Here is why they might fly again http://t.co/AwH5jIia2b via @Bidnessetc $UAL http://t.co/o8SBy5o4vw', u'_id': ObjectId('5568a805bb9ab40372a2f4cd')}\n",
      "{u'text': u'As its stock returns to $200, Goldman embodies more stable, less fun Wall Street. http://t.co/XQIRXLR2O0 $GS', u'_id': ObjectId('5568a805bb9ab40372a2f4ce')}\n",
      "{u'text': u\"Exclusive: @serwer gets sneak preview of new products from Google's head of products @sundarpichai http://t.co/G8p3dmUkw0\", u'_id': ObjectId('5568a805bb9ab40372a2f4d0')}\n",
      "{u'text': u'3 tips for getting work done: better, faster, cheaper http://t.co/HQprllHSCX via @jodygmiller http://t.co/YRADvfo7BP', u'_id': ObjectId('5568a805bb9ab40372a2f4d1')}\n",
      "{u'text': u'Dear Fed: Please don\\u2019t strangle a nascent housing boom http://t.co/W6rHpvgmg3 via @jimcramer $TOL http://t.co/JhQMtDVoup', u'_id': ObjectId('5568a805bb9ab40372a2f4d3')}\n",
      "{u'text': u\"Bankruptcy judge 'deeply concerned' about unfunded pensions http://t.co/mEq5kqvrS8\", u'_id': ObjectId('5568a805bb9ab40372a2f4d4')}\n",
      "{u'text': u\"Instead of Playing Golf, the World's Elderly Are Staging Heists and Robbing Banks http://t.co/GqOzUEUkGY\", u'_id': ObjectId('5568a805bb9ab40372a2f4d5')}\n",
      "{u'text': u'Why this airline stock is ready to land http://t.co/qcM57nFNW6 via @ZorTrades $AAL', u'_id': ObjectId('5568a805bb9ab40372a2f4d6')}\n",
      "{u'text': u'A roadmap for the trading day http://t.co/l3MTsFyMg4 via @AdamHGrimes http://t.co/HFoCwCvbVL', u'_id': ObjectId('5568a805bb9ab40372a2f4d7')}\n",
      "{u'text': u'RT @YahooTech: Man Slapped with $120 Ticket for Using Apple Watch While Driving http://t.co/z5SiEa7qmj http://t.co/4OkYZsjnB0', u'_id': ObjectId('5568a805bb9ab40372a2f4da')}\n",
      "{u'text': u\"RT @Rafe: I'm at Google IO today. Here's what we expect.  https://t.co/y3xXmD033c via @YahooTech\", u'_id': ObjectId('5568a805bb9ab40372a2f4db')}\n",
      "{u'text': u'How to be a bad leader http://t.co/9ubHTMpYmz via @jaltucher http://t.co/6RDKGkAr6M', u'_id': ObjectId('5568a805bb9ab40372a2f4dd')}\n",
      "{u'text': u'GameStop expectations are muted ahead of the earnings report http://t.co/Dg5D8eZ7uT via @Estimize $GME http://t.co/zQVrwCcqlB', u'_id': ObjectId('5568a805bb9ab40372a2f4de')}\n",
      "{u'text': u'The real reason behind the fall of Blackberry http://t.co/acArkfuuqy via @Applico $BBRY http://t.co/dJvDlqLqbW', u'_id': ObjectId('5568a805bb9ab40372a2f4e0')}\n",
      "{u'text': u\"That's Business, Man: Why Jay Z's Tidal Is a Complete Disaster http://t.co/A2lu81FKOx\", u'_id': ObjectId('5568a805bb9ab40372a2f4e1')}\n",
      "{u'text': u'Appeals court: Apple must submit to imposition of monitor http://t.co/u6YQ4iFGRO', u'_id': ObjectId('5568a805bb9ab40372a2f4e3')}\n",
      "{u'text': u'Lawyer: Tracy Morgan happy Wal-Mart crash lawsuit behind him http://t.co/PEsASaK0up', u'_id': ObjectId('5568a805bb9ab40372a2f4e4')}\n",
      "{u'text': u'E-Cigarettes - A threat or opportunity for the tobacco industry? http://t.co/meitPxWWPH via @Bidnessetc $MO http://t.co/kjCMirkW05', u'_id': ObjectId('5568a805bb9ab40372a2f4e6')}\n",
      "{u'text': u'Individual S&amp;P 500 stocks are not rising with the index http://t.co/c3wvmldxnf via @AndrewThrasher $SPY', u'_id': ObjectId('5568a805bb9ab40372a2f4e8')}\n",
      "{u'text': u'A history of M&amp;A deal toys http://t.co/6LUsrzYv3a via @TheDealNewsroom http://t.co/l0DRIsXzMM', u'_id': ObjectId('5568a805bb9ab40372a2f4ea')}\n"
     ]
    },
    {
     "data": {
      "text/plain": [
       "[u'Rate hikes and market returns http://t.co/gYRo694xFJ via @WildcatTrader $SPY',\n",
       " u'The Next Obamacare Fight: Who to Blame http://t.co/FifN8DIHrS',\n",
       " u'US presses Europeans at meeting to solve Greek crisis http://t.co/sZ2UhuQA9f',\n",
       " u'American households feeling less financially stressed http://t.co/epxHTLSu9W',\n",
       " u'US economy shrank at 0.7 percent rate in first quarter http://t.co/30PGYlca47',\n",
       " u'Early movers: $BIG, $GME, $DECK, $AMZN, $EQIX &amp; more http://t.co/XSwjrro86k',\n",
       " u'Amazon Plans to Add Its Own Line of Food http://t.co/VhWQTX63BQ',\n",
       " u'The Chinese Stock Rally Keeps Minting More Billionaires http://t.co/5RyDIMiA5l',\n",
       " u'The top 10 highest-paid female CEOs http://t.co/ZUfix8448I',\n",
       " u\"Everyone Is Fleeing Oil's Biggest Fund http://t.co/NSWV9V8JzO\",\n",
       " u'Oil gains 1 percent on U.S. inventory drop http://t.co/6YAy62by5K',\n",
       " u\"Paul Singer: This is the new 'big short.' http://t.co/lanzYj91o3\",\n",
       " u'.@jimcramer: The single hottest stock I follow. http://t.co/sRwKwZW0Lf',\n",
       " u'Google takes on Apple with new Photos app. http://t.co/6VTzD3ilQO',\n",
       " u\"Brands don't like .sucks? Not our problem, FTC says. http://t.co/plZC8UPvL0\",\n",
       " u'Why Wall Street should bet on women: http://t.co/gbJLDa59Dv',\n",
       " u'How a trader plans to make $21 million in one week http://t.co/twobuINGG6',\n",
       " u\"FBI says it's investigating identity theft at IRS http://t.co/IV8iUxU070\",\n",
       " u'IMF head says Greek exit a possibility - newspaper http://t.co/SXlvYgUYgd',\n",
       " u\"Cramer: Don't write off Costco, here's why http://t.co/75Mzrz3hR4\",\n",
       " u'Chobani CEO pledges to donate most of wealth http://t.co/qoyEDbjx9I',\n",
       " u'Global gambling sector worth over $450 billion http://t.co/w6fk4uzwsP',\n",
       " u'Why energy tax breaks we take should go away: CEO http://t.co/NtfdyPHDre',\n",
       " u'Broadcom CEO McGregor Eligible for $67 Million http://t.co/4MWH23Zf6q',\n",
       " u'Dollar General says COO Vasos to replace Dreiling as CEO http://t.co/3TjXLh2Z2B',\n",
       " u'Pending US home sales jump to strongest level in 9 years http://t.co/g0oBtxLrXf',\n",
       " u'These Are the Best U.S. Housing Markets http://t.co/PDNuPQ4sPB',\n",
       " u\"U2's longtime tour manager, Dennis Sheehan, found dead http://t.co/dybAE6XMWg\",\n",
       " u'Is this the end of a 35 year bull market in stocks and bonds? http://t.co/oEaYcjfC7W via @awealthofcs $TLT',\n",
       " u'Dollar could be getting ready to roar http://t.co/SuDU8oiXWS',\n",
       " u'Gina Rinehart Loses Battle to Control $3.8 Billion Trust http://t.co/4XVxYS5ctE',\n",
       " u'GoPro jumps into virtual reality and drones http://t.co/LKHbGXS8ds',\n",
       " u'U.S. jobless claims up, but still point to labor market strength http://t.co/4RqjssuLy7',\n",
       " u'Market trading in 4th tightest range in 115 years http://t.co/rpgCJOxR5v via @KimbleCharting $DIA http://t.co/ucfRUYirCj',\n",
       " u'Is rent out of reach? Study shows how 11 US cities stack up http://t.co/CFy4Ab9EJ1',\n",
       " u'3 charts that will rekindle your interest in financial market history http://t.co/L2t2UbevEg via @CFAinstitute http://t.co/ERJ9GJno5h',\n",
       " u'Less than 1% June through October following pre-election year May gain http://t.co/HpElUjGTap via @AlmanacTrader $SPY http://t.co/gRUfvqcjmz',\n",
       " u'Bull market dealt a significant blow? http://t.co/6aNlNXrLXx via @JLyonsFundMgmt $DIA http://t.co/Ph758fQbSt',\n",
       " u'The Baltic Dry Index. What it is telling us is sobering http://t.co/sL8t2rdL9b via @peterckenny http://t.co/HePQb9ppZU',\n",
       " u'Stock buybacks: Mostly an accounting sleight of hand http://t.co/nnzIAMJzbZ via @CharlesSizemore http://t.co/3AihNy4DyQ',\n",
       " u'Early movers: $BRCM, $COST, $EXPR, $ANF &amp; more http://t.co/ntJCMYXKHE',\n",
       " u'Michael Kors wounds self-inflicted http://t.co/cePLlrX1Rk via @TALENTEDBLONDE $KORS http://t.co/m6oKh605qK',\n",
       " u'Avago to Buy Broadcom for $37 Billion in Biggest Chip Deal http://t.co/FQkzTReK0Q',\n",
       " u'The Tanker Market Is Sending a Big Warning to Oil Bulls http://t.co/zpbsyVps7b',\n",
       " u'Putin accuses US of meddling in FIFA affairs http://t.co/Et7es0zsx1',\n",
       " u'Visa becomes first FIFA sponsor to warn it could jump ship http://t.co/RjordPaRfk',\n",
       " u'Amazon to offer free same-day delivery to Prime members http://t.co/9AvoTiXKAd $AMZN',\n",
       " u'.@jimcramer takes a look at the #housing landscape. http://t.co/78uUoOjpf3',\n",
       " u'Japanese yen slides to 12-year low against U.S. dollar as Yellen builds case for rate hike. http://t.co/dlshY1zLIE',\n",
       " u\"Apple Watch debut 'less than spectacular,' analyst says. http://t.co/JxvUxthjwr $AAPL\",\n",
       " u'The Class of 2015 could use a wakeup call http://t.co/ah0JH7HgmC http://t.co/1SNMCLb14t',\n",
       " u'Yes, social shopping is a thing now. Pros and cons: http://t.co/HeYhkuSrG0',\n",
       " u'President Nixon: The man who sold the world fiat money http://t.co/tW5ABGdj7x via @CFAinstitute $UUP',\n",
       " u'Meet the new billionaires http://t.co/Eo1YtLyozC http://t.co/ho7MhTeHeU',\n",
       " u'Why Oracle is a solid castle http://t.co/aANM0F9PAP via @Valuentum $ORCL',\n",
       " u'To win in the stock market you have to be willing to lose http://t.co/5qAfRJpgHV via @awealthofcs $SPY',\n",
       " u\"Bill Gross: Don't downplay Greece's struggles. http://t.co/PxkpiGxKFI\",\n",
       " u'How to Save on Summer Renovation Projects http://t.co/tAWXvXj7d8',\n",
       " u'Why a Microsoft buyout of Salesforce makes sense, then doesn\\u2019t http://t.co/W2DO5YJxIn via @Bidnessetc $CRM',\n",
       " u'The case against taking Social Security at 62 http://t.co/wZYOpHtccx',\n",
       " u'Ulta expecting another great quarterly report tomorrow http://t.co/tgpFbn6vJv via @Estimize $ULTA http://t.co/8Dgvl16Okg',\n",
       " u\".@BlackRock CEO Fink tells @serwer our biggest risk isn't China or interest rates: It's us.  http://t.co/fraV4xepRo\",\n",
       " u'The Class of 2015 could use a wakeup call http://t.co/WkYMfUIbdC http://t.co/xrcH1qFmjq',\n",
       " u'President Nixon: The man who sold the world fiat money http://t.co/4wQygpGDKv via @CFAinstitute $UUP http://t.co/AOONYOsySu',\n",
       " u'Meet the new billionaires http://t.co/I5TUru3ma4 http://t.co/LO8uXES5OU',\n",
       " u\"BlackRock's Fink says our biggest risk isn't China or interest rates: It's us  http://t.co/Ccr9gKAanA\",\n",
       " u'Abercrombie hopes latest changes will spur sales http://t.co/fvc5247lFn via @Estimize $ANF',\n",
       " u'Greece owes drugmakers $1.2 billion - and counting http://t.co/6fTOdO9l0x',\n",
       " u'Volatility for Breakfast: Egg and Bacon Prices Go Opposite Ways http://t.co/dl0ELmq3qd',\n",
       " u'Why it\\u2019s so important for a stock operator to \\u2018know thyself\\u2019 http://t.co/n8aE1lkt4E via @jessefelder $SPY http://t.co/oPIJS7goKb',\n",
       " u'The bullish healthcare sector setup http://t.co/DMtzr3psCD via @KimbleCharting $XLV',\n",
       " u'Lamborghini to launch SUV in 2018 http://t.co/vmUiItkNYd http://t.co/UhYh2e46zI',\n",
       " u'RT @ampressman: http://t.co/I5mE68oPQM is growing fast - and profitably - as it lines up an IPO. But competition abounds on all sides http:\\u2026',\n",
       " u\"Stocks we're watching: $dsw steps up, rough day for $wday, $kors tanks to 52-wk low\\nhttp://t.co/oEYUCCwlom\",\n",
       " u\"Watch live at noon: Snapchat's IPO, Tiffany soars and Michael Kors slides http://t.co/MPFIViMYPu\",\n",
       " u'Unemployment rates fell in 23 US states in April http://t.co/1OLDepMnaH',\n",
       " u'Pimco and Hedge Funds Are Fighting Over Subprime Scraps http://t.co/L2I1X1Mijo',\n",
       " u'Why a Microsoft buyout of Salesforce makes sense, then doesn\\u2019t http://t.co/UYiFAQNv31 via @Bidnessetc $CRM http://t.co/uDkOtt5gY2',\n",
       " u'Michael Kors posts slowest revenue growth since going public http://t.co/FYUQfW7dUO $KORS',\n",
       " u'Airbus plans Silicon Valley innovation center http://t.co/1Xb4qbJUpE',\n",
       " u'Here is how AstraZeneca and Amgen will be hit by the cancelled collaboration http://t.co/SLz5A5JiG1 via @Bidnessetc $AMGN',\n",
       " u'Why Oracle is a solid castle http://t.co/YEVrGDtRda via @Valuentum $ORCL http://t.co/7pMEzU0CE5',\n",
       " u'The breadth deterioration is real http://t.co/o5GuFqx2wt via @ZorTrades $SPY',\n",
       " u\"McDonald's to stop reporting monthly same-store sales after June http://t.co/7wORazlZSO\",\n",
       " u\"The Russian billionaires hit hard by oil's plunge http://t.co/oO5eD22Jyx\",\n",
       " u'Short in May and go away http://t.co/R4FPWVCCLE via @DougKass $SPY http://t.co/iGyw1eqLs4',\n",
       " u'Why hasn\\u2019t Nationstar Mortgage been sued yet? http://t.co/X4X6U7ouaA via @TheDealNewsroom $NSM http://t.co/iEpZiswG16',\n",
       " u'To win in the stock market you have to be willing to lose http://t.co/DYgLKbpeVB via @awealthofcs $SPY http://t.co/niV8l6fr3f',\n",
       " u'The Mansions That Are Swallowing Suburban Homes http://t.co/CNehktihuB',\n",
       " u\"OPEC Will Back Saudi Arabia's Plan to Keep Supplies Elevated http://t.co/vWF3KroZs4\",\n",
       " u'Snapchat CEO sees a bubble, blames interest rates http://t.co/S6d3GFiB6v',\n",
       " u'Early movers: $TIF, $KORS, $TOL, $BWS, $HRL &amp; more http://t.co/UdclirygVg',\n",
       " u'Luxury Brands Shrink $7 Billion in Value http://t.co/atKBNPJmIe',\n",
       " u'What Chicago\\u2019s fiscal emergency says about the quality of credit analysis in the municipal bond market http://t.co/wDZYocX6o6 via @munilass',\n",
       " u'Why at the end of the day consumers will have the final say on rates http://t.co/qWEoc7VdFe via @peterckenny $TLT http://t.co/kLeFArEo0F',\n",
       " u'Solar as Fastest Growing U.S. Power Source Rivals Shale Boom http://t.co/0gwNAayYd1',\n",
       " u'A breakout to nowhere http://t.co/3GXesOPZ8I via @JLyonsFundMgmt $SPY http://t.co/9yobQufvVL',\n",
       " u'The average U.S. consumer should be happy and confident http://t.co/gwHsYfGtQc via @Financial_Orbit',\n",
       " u'The Transports have left the rails http://t.co/oKeCHDeWFo via @harmongreg $IYT http://t.co/qicZzyvbLt',\n",
       " u'Bernanke sees no risk of hard landing in China, bullish on U.S. economy http://t.co/uvE7F2pR50',\n",
       " u'Greece Said Likely to Miss May Deal Deadline as Talks Falter http://t.co/Z4n35om759',\n",
       " u'Michael Kors posts slowest sales growth in 14 quarters http://t.co/oeYIgB58gZ',\n",
       " u'Tiffany tops Street 1Q forecasts http://t.co/vH3epaHMVl',\n",
       " u'Toll Brothers meets 2Q profit forecasts http://t.co/eOQevH9y2f',\n",
       " u'Cost of data breaches increasing to average of $3.8 million, study says http://t.co/MqrWUiq6GR',\n",
       " u'Bug causes message to crash certain Apple iOS devices. No immediate comment from $AAPL. http://t.co/PG3lmjmBh2',\n",
       " u\"Here's the case for buying today's dip on Wall Street. http://t.co/CURP9d14P0\",\n",
       " u'Home Depot\\u2019s 1Q15 results show continued operational strength http://t.co/XlF1WaHlnP via @treetis $HD',\n",
       " u'Oil to stabilize amid production worries, one expert says. http://t.co/8DXX90tC3X',\n",
       " u'7 money moves financially savvy couples should make http://t.co/P3EbImnvDk via @marybstorj',\n",
       " u'Europe woes and U.S. rate hike prospects depress stocks, boost dollar. http://t.co/nvpesewdow',\n",
       " u'Can Wal-Mart hold up against pressure from Amazon? http://t.co/MyAG6vwe9U via @Bidnessetc $AMZN',\n",
       " u'.@jimcramer: Spotting gems amid the market rubble. http://t.co/6ZAt1sOc2D',\n",
       " u'Jabil Circuit is poised for more outperformance http://t.co/yjrEzPD9UF via @QuantifiedAlpha $JBL',\n",
       " u'Top 10 highest-paid CEOs http://t.co/BLbuafBzJz',\n",
       " u'CEO pay: biggest raises and biggest cuts of 2014 http://t.co/3Ikw6nbErK',\n",
       " u'Vox Media is buying tech publication ReCode. http://t.co/yHf8dqJv76',\n",
       " u'What Michael Kors, Tiffany earnings say about high-end consumers. http://t.co/RnKvuOK4bb $KORS $TIF',\n",
       " u'Vox Media is buying tech news website ReCode, @nytimes reports.',\n",
       " u'RT @CNBCnow: JUST IN: Fed Chair Yellen will not attend Jackson Hole meeting this year, may attend in future. (via @steveliesman)\\nhttps://t.\\u2026',\n",
       " u'Michael Kors will continue to walk all over earnings http://t.co/H0o5uzxWtV via @QuantifiedAlpha $KORS http://t.co/YeGf3jyEsS',\n",
       " u'http://t.co/gaLk9Lo5md to hire 6,000 full-time staffers across its U.S. fulfillment network. http://t.co/Ab5mOIbC5Y $AMZN',\n",
       " u'BofA Merrill: Here\\u2019s how to tap into Millennials\\u2019 burgeoning influence. http://t.co/iyGkqQaGbC',\n",
       " u'IRS says thieves stole tax info from 100,000. http://t.co/AYUDA0aDef',\n",
       " u'Bear strike: U.S. stocks sink 1% as greenback rallies. http://t.co/GUgkkoY1Uy http://t.co/vjcjcscmlm',\n",
       " u'Amazon drops popular tax avoidance strategy  http://t.co/jl0SohGNW2 $AMZN',\n",
       " u'Chinese stocks continue surges...and it may not change anytime soon http://t.co/KOMpDP2mBd',\n",
       " u'Jabil Circuit is poised for more outperformance http://t.co/IlTHyGu9CV via @QuantifiedAlpha $JBL http://t.co/izcrlEkxxz',\n",
       " u'How did the through-train work out? http://t.co/SHrcMadnTo via @ReformedBroker $FXI http://t.co/H6CQj8WrrP',\n",
       " u'RT @ampressman: Amazon\\u2019s going tp pay more taxes Europe says it owes. Anyone else? &lt;crickets&gt;. Discussing with @aarontask http://t.co/eZg1X\\u2026',\n",
       " u\"RT @rickjnewman: Don't miss it! RT @HalfBankrupt Wed on @StocksNJocks @RickJNewman of @YahooFinance joins the show to talk #Obamacare http:\\u2026\",\n",
       " u\"The son of China's richest man bought two Apple watches for his dog because four would have been tacky http://t.co/37vibFylfd\",\n",
       " u'Connecticut exec flees U.S. after insider trading, fraud claims -SEC http://t.co/er5ZHynK51',\n",
       " u'Time Warner Cable CEO Eligible for $85 Million Golden Parachute http://t.co/eGAsawwFfM',\n",
       " u'Retail to rebound? http://t.co/qTqz99lsH7 via Cynthia DiBartolo $RTH http://t.co/2v22G4LzU3',\n",
       " u'6 important market charts in the past week http://t.co/J9X8YCvjn8 via @361Capital $SPY http://t.co/TSpSTPlnWz',\n",
       " u'Dollar/Yen breaks 18-year resistance, good for Nikkei? http://t.co/XIXtqOoxu0 via @KimbleCharting $EWJ http://t.co/fTiQ2psEh1',\n",
       " u'The auto industry looks beyond ownership http://t.co/NzAoKkHRG7 via @BV $F',\n",
       " u'How should investors prepare for rising rates? http://t.co/SUnd8cdblx via @michaelbatnick $SPY http://t.co/KAtCoDZI2p',\n",
       " u'Can Wal-Mart hold up against pressure from Amazon? http://t.co/OUwcY5sPfV via @Bidnessetc $AMZN http://t.co/kgAyZlWSeb',\n",
       " u\"Growth in billionaires' wealth to taper off http://t.co/2jO7oF9LFl\",\n",
       " u'A tale of two luxury retailers http://t.co/7Q2NQuXMBT via @Estimize $KORS http://t.co/gWAKmnI2aP',\n",
       " u'Why EMC bought Virtustream for $1.2 billion http://t.co/4XgyJOfijP via @Financial_Orbit $EMC http://t.co/yhNhM0KMAG',\n",
       " u'$430 Cowboy Boots and Other Reasons to Be Excited About Stocks http://t.co/reQ59yrtT4',\n",
       " u'Best ways to invest $1,000 now http://t.co/bY5aa7Y7qJ via @JeffReevesIP $SPY',\n",
       " u'Trading: about bulls, bears and pigs http://t.co/cpr8TWXqzk via @ivanhoff http://t.co/BsWVRsEyRA',\n",
       " u'7 money moves financially savvy couples should make http://t.co/kRyR8QfgtM via @marybstorj http://t.co/31eaTBrPeD',\n",
       " u'Where is your compass pointing today? http://t.co/UoZgP1EltI via @jaltucher http://t.co/GS3dxljPLC',\n",
       " u'June\\u2019s first trading day hit hard in four of last seven years http://t.co/MWuY4yavS1 via @AlmanacTrader $SPY',\n",
       " u'Can Bob Evans escape activist Sandell by monetizing real estate? http://t.co/1wyejfZqAu via @TheDealNewsroom $BOBE http://t.co/g7QGdkxkXy',\n",
       " u\"Carl's, Hardee's CEO: Not all models know how to eat burgers http://t.co/qLiuJIvlIE\",\n",
       " u'RT @mandiwoodruff: Staggering: you\\u2019d have to work 98 hours per week to afford a one-bedroom in NYC: http://t.co/PYNpNpKm86 http://t.co/M2oN\\u2026',\n",
       " u'Altera, Intel up on deal talk; GameStop unstoppable; Splunk flunks http://t.co/3t7BIt6twr',\n",
       " u'Watch live at noon: Nike and Under Armour face off, Investors hoard cash and tech M&amp;A heats up http://t.co/iDd6TAGVhT',\n",
       " u'How to invest in the Cybersecurity boom http://t.co/LH7R7SOjx5 via @JeffReevesIP $HACK http://t.co/ROEf5uBnGV',\n",
       " u'Disrupting Psychology: Text a shrink for $25/week. Does it work? http://t.co/Mht07BSTix',\n",
       " u'GameStop gives the people what they want (shareholders too)  http://t.co/GFRhLU8CND',\n",
       " u'Here\\u2019s what CEOs said about the economy this week http://t.co/aodAkxkL6Y via @Skrisiloff $KORS',\n",
       " u'How to tell if you\\u2019re getting bad financial advice http://t.co/4CTzerjcYE via @awealthofcs $SPY http://t.co/VhuPftU4hr',\n",
       " u'In Ohio pepper-spray assault case, victim gets to fire back http://t.co/SfMBMbsRYN',\n",
       " u'Why reading is the best thing you can do for your life and career http://t.co/wYP0B0Egqt via @millennial_inv',\n",
       " u'Big Cable tries to stave off the inevitable http://t.co/VIL1YprYe3 via @CharlesSizemore $TWC http://t.co/U58vm3zwsT',\n",
       " u'Etsy: Why the post IPO slump may continue http://t.co/SJR5SNbMFI via @Bidnessetc $ETSY http://t.co/cQBY9Mb5mR',\n",
       " u'Wealthy Chinese Head Abroad to Buy Diamonds Without Scrutiny http://t.co/kMO5aJJMOU',\n",
       " u'How to invest in China: 5 myths stock investors should ignore http://t.co/Gj8tHoOER9 via @CFAinstitute $FXI http://t.co/rGu9tTJAv5',\n",
       " u'Rising stocks and rising rates http://t.co/zl4eG0DMuI via @agurevich23 $SPY http://t.co/3AHbnNuHZL',\n",
       " u'Stocks toppy behind pre-election year make little headway this spring http://t.co/ozbfSSJOSB via @AlmanacTrader $SPY http://t.co/NBFZP4mqIH',\n",
       " u'Everything you need to know about Roth IRAs http://t.co/FKmxHLoVHc via @smartasset http://t.co/1NqSL05e3h',\n",
       " u'St. Louis Fed President James Bullard warns markets http://t.co/uRtfgLmS8L via @peterckenny $TLT http://t.co/hQ06q0KFtA',\n",
       " u\"Shanghai Composite tumbles into correction territory. Here's more: http://t.co/2APoyoYwGQ #China\",\n",
       " u'Dear Fed: Please don\\u2019t strangle a nascent housing boom http://t.co/sEReBwMvSw via @jimcramer $TOL',\n",
       " u\"Instead of Playing Golf, the World's Elderly Are Staging Heists and Robbing Banks http://t.co/f95pbS4sv8\",\n",
       " u'3 tips for getting work done: better, faster, cheaper http://t.co/l2D3ljFGvJ via @jodygmiller',\n",
       " u'The real reason behind the fall of Blackberry http://t.co/S0aE9WCTcG via @Applico $BBRY',\n",
       " u\"That's Business, Man: Why Jay Z's Tidal Is a Complete Disaster http://t.co/RSMKPv8x6B\",\n",
       " u'Is rent out of reach? Study shows how 11 US cities stack up http://t.co/KC32zEV81A',\n",
       " u'U.S. airlines stocks; Here is why they might fly again http://t.co/l3KtGRda4t via @Bidnessetc $UAL',\n",
       " u'3 bearish studies that may foreshadow the death of this bull market http://t.co/LUNHsqQp2f via @jessefelder $SPY http://t.co/dfWTN6oQuU',\n",
       " u'More weight added to equity bear case http://t.co/eQrH0KTOiw via @JLyonsFundMgmt $RSP http://t.co/cHeP21kF7B',\n",
       " u\"Why a shrinking US economy last quarter isn't cause for fear http://t.co/O1A33R3LBN\",\n",
       " u'U.S. airlines stocks; Here is why they might fly again http://t.co/AwH5jIia2b via @Bidnessetc $UAL http://t.co/o8SBy5o4vw',\n",
       " u'As its stock returns to $200, Goldman embodies more stable, less fun Wall Street. http://t.co/XQIRXLR2O0 $GS',\n",
       " u\"Exclusive: @serwer gets sneak preview of new products from Google's head of products @sundarpichai http://t.co/G8p3dmUkw0\",\n",
       " u'3 tips for getting work done: better, faster, cheaper http://t.co/HQprllHSCX via @jodygmiller http://t.co/YRADvfo7BP',\n",
       " u'Dear Fed: Please don\\u2019t strangle a nascent housing boom http://t.co/W6rHpvgmg3 via @jimcramer $TOL http://t.co/JhQMtDVoup',\n",
       " u\"Bankruptcy judge 'deeply concerned' about unfunded pensions http://t.co/mEq5kqvrS8\",\n",
       " u\"Instead of Playing Golf, the World's Elderly Are Staging Heists and Robbing Banks http://t.co/GqOzUEUkGY\",\n",
       " u'Why this airline stock is ready to land http://t.co/qcM57nFNW6 via @ZorTrades $AAL',\n",
       " u'A roadmap for the trading day http://t.co/l3MTsFyMg4 via @AdamHGrimes http://t.co/HFoCwCvbVL',\n",
       " u'RT @YahooTech: Man Slapped with $120 Ticket for Using Apple Watch While Driving http://t.co/z5SiEa7qmj http://t.co/4OkYZsjnB0',\n",
       " u\"RT @Rafe: I'm at Google IO today. Here's what we expect.  https://t.co/y3xXmD033c via @YahooTech\",\n",
       " u'How to be a bad leader http://t.co/9ubHTMpYmz via @jaltucher http://t.co/6RDKGkAr6M',\n",
       " u'GameStop expectations are muted ahead of the earnings report http://t.co/Dg5D8eZ7uT via @Estimize $GME http://t.co/zQVrwCcqlB',\n",
       " u'The real reason behind the fall of Blackberry http://t.co/acArkfuuqy via @Applico $BBRY http://t.co/dJvDlqLqbW',\n",
       " u\"That's Business, Man: Why Jay Z's Tidal Is a Complete Disaster http://t.co/A2lu81FKOx\",\n",
       " u'Appeals court: Apple must submit to imposition of monitor http://t.co/u6YQ4iFGRO',\n",
       " u'Lawyer: Tracy Morgan happy Wal-Mart crash lawsuit behind him http://t.co/PEsASaK0up',\n",
       " u'E-Cigarettes - A threat or opportunity for the tobacco industry? http://t.co/meitPxWWPH via @Bidnessetc $MO http://t.co/kjCMirkW05',\n",
       " u'Individual S&amp;P 500 stocks are not rising with the index http://t.co/c3wvmldxnf via @AndrewThrasher $SPY',\n",
       " u'A history of M&amp;A deal toys http://t.co/6LUsrzYv3a via @TheDealNewsroom http://t.co/l0DRIsXzMM']"
      ]
     },
     "execution_count": 43,
     "metadata": {},
     "output_type": "execute_result"
    }
   ],
   "source": [
    "tweets = []\n",
    "cursor = datatweets.find({})\n",
    "for d in range(datatweets.count()):\n",
    "    tweet_text = cursor.next()\n",
    "    print tweet_text\n",
    "    tweets.append(tweet_text['text'])\n",
    "tweets"
   ]
  },
  {
   "cell_type": "markdown",
   "metadata": {},
   "source": [
    "## Summarizing all most recent 200 Tweets"
   ]
  },
  {
   "cell_type": "code",
   "execution_count": 44,
   "metadata": {
    "collapsed": false
   },
   "outputs": [],
   "source": [
    "stopw = [str('http'), str('https'), str('['), str(']'), str('rt'), str('%'), str('@'), str('#')]\n",
    "stopngram = stopwords.words('english')\n",
    "stopngram += ['.', ',', '(', ')', \"'\", '\"', 'http', 'RT']"
   ]
  },
  {
   "cell_type": "code",
   "execution_count": 45,
   "metadata": {
    "collapsed": false
   },
   "outputs": [],
   "source": [
    "adjectives = {}\n",
    "nouns = {}\n",
    "adverbs = {}\n",
    "verbs = {}\n",
    "for t in tweets:\n",
    "    words = word_tokenize(t)\n",
    "    for p in pos_tag(words):\n",
    "        tags = p[1][:2]\n",
    "        keys = p[0].encode('utf8')\n",
    "        keys = keys.lower()   \n",
    "        if keys not in stopw and str('/') not in keys and \"\\\\\" not in r\"%r\" % keys:\n",
    "            if tags == 'NN':\n",
    "                nouns.setdefault(keys,0)\n",
    "                nouns[keys] += 1"
   ]
  },
  {
   "cell_type": "markdown",
   "metadata": {},
   "source": [
    "## Most 10 used Nouns, Adverbs in all 200 recent Tweets"
   ]
  },
  {
   "cell_type": "code",
   "execution_count": 46,
   "metadata": {
    "collapsed": false
   },
   "outputs": [
    {
     "name": "stdout",
     "output_type": "stream",
     "text": [
      "                 spy 17\n",
      "                kors 14\n",
      "              market 13\n",
      "                u.s. 13\n",
      "              stocks 11\n",
      "          bidnessetc 9\n",
      "               stock 9\n",
      "                 ceo 9\n",
      "               rates 7\n",
      "             michael 6\n"
     ]
    }
   ],
   "source": [
    "for words, count in sorted(nouns.items(), key = itemgetter(1), reverse=True)[:10]:\n",
    "    print '%20s %i' % (words, count)"
   ]
  },
  {
   "cell_type": "markdown",
   "metadata": {},
   "source": [
    "## Most 10 used 2-grams, 3-grams, 4-grams in all 200 recent Tweets"
   ]
  },
  {
   "cell_type": "code",
   "execution_count": 47,
   "metadata": {
    "collapsed": false
   },
   "outputs": [
    {
     "name": "stdout",
     "output_type": "stream",
     "text": [
      "      via Bidnessetc 9\n",
      "        Michael Kors 6\n",
      "     via awealthofcs 4\n",
      "    via CFAinstitute 4\n",
      "        via Estimize 4\n",
      " via QuantifiedAlpha 3\n",
      "      interest rates 3\n",
      "     via peterckenny 3\n",
      " via TheDealNewsroom 3\n",
      "     awealthofcs SPY 3\n"
     ]
    }
   ],
   "source": [
    "counter = defaultdict(int)\n",
    "n = 2\n",
    "for doc in tweets:\n",
    "    words = TextBlob(doc).words\n",
    "    words = [w for w in words if w not in stopngram]\n",
    "    bigrams = ngrams(words, n)\n",
    "    for gram in bigrams:\n",
    "        counter[gram] += 1\n",
    "            \n",
    "for gram, count in sorted(counter.items(), key = itemgetter(1), reverse=True)[:10]:\n",
    "    phrase = \" \".join(gram)\n",
    "    print '%20s %i' % (phrase, count)"
   ]
  },
  {
   "cell_type": "code",
   "execution_count": 48,
   "metadata": {
    "collapsed": false
   },
   "outputs": [
    {
     "name": "stdout",
     "output_type": "stream",
     "text": [
      "via AlmanacTrader SPY 3\n",
      " via awealthofcs SPY 3\n",
      "better faster cheaper 2\n",
      "  real reason behind 2\n",
      "don’t strangle nascent 2\n",
      "Circuit poised outperformance 2\n",
      "   getting work done 2\n",
      "    could use wakeup 2\n",
      " U.S airlines stocks 2\n",
      "Jabil Circuit poised 2\n"
     ]
    }
   ],
   "source": [
    "counter = defaultdict(int)\n",
    "n = 3\n",
    "for doc in tweets:\n",
    "    words = TextBlob(doc).words\n",
    "    words = [w for w in words if w not in stopngram]\n",
    "    bigrams = ngrams(words, n)\n",
    "    for gram in bigrams:\n",
    "        counter[gram] += 1\n",
    "            \n",
    "for gram, count in sorted(counter.items(), key = itemgetter(1), reverse=True)[:10]:\n",
    "    phrase = \" \".join(gram)\n",
    "    print '%20s %i' % (phrase, count)"
   ]
  },
  {
   "cell_type": "code",
   "execution_count": 49,
   "metadata": {
    "collapsed": false
   },
   "outputs": [
    {
     "name": "stdout",
     "output_type": "stream",
     "text": [
      "stock market willing lose 2\n",
      "interest rates It 's 2\n",
      "  The man sold world 2\n",
      "       Z 's Tidal Is 2\n",
      "Why Oracle solid castle 2\n",
      "Fed Please don’t strangle 2\n",
      "   Study shows 11 US 2\n",
      "Salesforce makes sense doesn’t 2\n",
      "sold world fiat money 2\n",
      "Elderly Are Staging Heists 2\n"
     ]
    }
   ],
   "source": [
    "counter = defaultdict(int)\n",
    "n = 4\n",
    "for doc in tweets:\n",
    "    words = TextBlob(doc).words\n",
    "    words = [w for w in words if w not in stopngram]\n",
    "    bigrams = ngrams(words, n)\n",
    "    for gram in bigrams:\n",
    "        counter[gram] += 1\n",
    "            \n",
    "for gram, count in sorted(counter.items(), key = itemgetter(1), reverse=True)[:10]:\n",
    "    phrase = \" \".join(gram)\n",
    "    print '%20s %i' % (phrase, count)"
   ]
  },
  {
   "cell_type": "markdown",
   "metadata": {},
   "source": [
    "## Selecting a Keyword"
   ]
  },
  {
   "cell_type": "code",
   "execution_count": 72,
   "metadata": {
    "collapsed": true
   },
   "outputs": [],
   "source": [
    "keyword = 'stock'"
   ]
  },
  {
   "cell_type": "code",
   "execution_count": 73,
   "metadata": {
    "collapsed": false
   },
   "outputs": [
    {
     "data": {
      "text/plain": [
       "'stock'"
      ]
     },
     "execution_count": 73,
     "metadata": {},
     "output_type": "execute_result"
    }
   ],
   "source": [
    "keyword = str(keyword)\n",
    "keyword = keyword.lower()\n",
    "keyword"
   ]
  },
  {
   "cell_type": "code",
   "execution_count": 74,
   "metadata": {
    "collapsed": false
   },
   "outputs": [
    {
     "data": {
      "text/plain": [
       "21"
      ]
     },
     "execution_count": 74,
     "metadata": {},
     "output_type": "execute_result"
    }
   ],
   "source": [
    "tweets_match = []\n",
    "for r in tweets:\n",
    "    if keyword in r.lower():\n",
    "        tweets_match.append(r)\n",
    "\n",
    "len(tweets_match)"
   ]
  },
  {
   "cell_type": "code",
   "execution_count": 75,
   "metadata": {
    "collapsed": false
   },
   "outputs": [],
   "source": [
    "adjectives = {}\n",
    "nouns = {}\n",
    "adverbs = {}\n",
    "verbs = {}\n",
    "for t in tweets_match:\n",
    "    words = word_tokenize(t)\n",
    "    for p in pos_tag(words):\n",
    "        tags = p[1][:2]\n",
    "        keys = p[0].encode('utf8')\n",
    "        keys = keys.lower()   \n",
    "        if keys not in stopw and str('/') not in keys and keyword not in keys and \"\\\\\" not in r\"%r\" % keys:\n",
    "            if tags == 'JJ':\n",
    "                adjectives.setdefault(keys,0)\n",
    "                adjectives[keys] += 1\n",
    "            if tags == 'NN':\n",
    "                nouns.setdefault(keys,0)\n",
    "                nouns[keys] += 1\n",
    "            if tags == 'RB':\n",
    "                adverbs.setdefault(keys,0)\n",
    "                adverbs[keys] += 1\n",
    "            if tags == 'VB':\n",
    "                verbs.setdefault(keys,0)\n",
    "                verbs[keys] += 1"
   ]
  },
  {
   "cell_type": "markdown",
   "metadata": {},
   "source": [
    "## Most 5 used Verbs, Adjectives, Nouns, Adverbs in Tweets with Keyword"
   ]
  },
  {
   "cell_type": "code",
   "execution_count": 76,
   "metadata": {
    "collapsed": false
   },
   "outputs": [
    {
     "name": "stdout",
     "output_type": "stream",
     "text": [
      "                  is 4\n",
      "              rising 3\n",
      "                  be 3\n",
      "                 win 2\n",
      "                have 2\n"
     ]
    }
   ],
   "source": [
    "for words, count in sorted(verbs.items(), key = itemgetter(1), reverse=True)[:5]:\n",
    "    print '%20s %i' % (words, count)"
   ]
  },
  {
   "cell_type": "code",
   "execution_count": 77,
   "metadata": {
    "collapsed": false
   },
   "outputs": [
    {
     "name": "stdout",
     "output_type": "stream",
     "text": [
      "             willing 2\n",
      "              little 1\n",
      "          individual 1\n",
      "             chinese 1\n",
      "              dollar 1\n"
     ]
    }
   ],
   "source": [
    "for words, count in sorted(adjectives.items(), key = itemgetter(1), reverse=True)[:5]:\n",
    "    print '%20s %i' % (words, count)"
   ]
  },
  {
   "cell_type": "code",
   "execution_count": 78,
   "metadata": {
    "collapsed": false
   },
   "outputs": [
    {
     "name": "stdout",
     "output_type": "stream",
     "text": [
      "                 spy 6\n",
      "                u.s. 4\n",
      "              market 3\n",
      "         awealthofcs 3\n",
      "                year 2\n"
     ]
    }
   ],
   "source": [
    "for words, count in sorted(nouns.items(), key = itemgetter(1), reverse=True)[:5]:\n",
    "    print '%20s %i' % (words, count)"
   ]
  },
  {
   "cell_type": "code",
   "execution_count": 79,
   "metadata": {
    "collapsed": false
   },
   "outputs": [
    {
     "name": "stdout",
     "output_type": "stream",
     "text": [
      "                 fly 2\n",
      "               again 2\n",
      "                here 2\n",
      "                 not 2\n",
      "              mostly 1\n"
     ]
    }
   ],
   "source": [
    "for words, count in sorted(adverbs.items(), key = itemgetter(1), reverse=True)[:5]:\n",
    "    print '%20s %i' % (words, count)"
   ]
  },
  {
   "cell_type": "markdown",
   "metadata": {},
   "source": [
    "## Most 5 used 2-grams, 3-grams, 4-grams in Tweets with Keyword"
   ]
  },
  {
   "cell_type": "code",
   "execution_count": 80,
   "metadata": {
    "collapsed": false
   },
   "outputs": [
    {
     "name": "stdout",
     "output_type": "stream",
     "text": [
      "     via awealthofcs 3\n",
      "           win stock 2\n",
      "        U.S airlines 2\n",
      "      Bidnessetc UAL 2\n",
      "      via Bidnessetc 2\n"
     ]
    }
   ],
   "source": [
    "counter = defaultdict(int)\n",
    "n = 2\n",
    "for doc in tweets_match:\n",
    "    words = TextBlob(doc).words\n",
    "    words = [w for w in words if w not in stopngram]\n",
    "    bigrams = ngrams(words, n)\n",
    "    for gram in bigrams:\n",
    "        counter[gram] += 1\n",
    "            \n",
    "for gram, count in sorted(counter.items(), key = itemgetter(1), reverse=True)[:5]:\n",
    "    phrase = \" \".join(gram)\n",
    "    print '%20s %i' % (phrase, count)"
   ]
  },
  {
   "cell_type": "code",
   "execution_count": 81,
   "metadata": {
    "collapsed": false
   },
   "outputs": [
    {
     "name": "stdout",
     "output_type": "stream",
     "text": [
      "        To win stock 2\n",
      "  via Bidnessetc UAL 2\n",
      "stock market willing 2\n",
      "airlines stocks Here 2\n",
      " market willing lose 2\n"
     ]
    }
   ],
   "source": [
    "counter = defaultdict(int)\n",
    "n = 3\n",
    "for doc in tweets_match:\n",
    "    words = TextBlob(doc).words\n",
    "    words = [w for w in words if w not in stopngram]\n",
    "    bigrams = ngrams(words, n)\n",
    "    for gram in bigrams:\n",
    "        counter[gram] += 1\n",
    "            \n",
    "for gram, count in sorted(counter.items(), key = itemgetter(1), reverse=True)[:5]:\n",
    "    phrase = \" \".join(gram)\n",
    "    print '%20s %i' % (phrase, count)"
   ]
  },
  {
   "cell_type": "code",
   "execution_count": 82,
   "metadata": {
    "collapsed": false
   },
   "outputs": [
    {
     "name": "stdout",
     "output_type": "stream",
     "text": [
      "stock market willing lose 2\n",
      "U.S airlines stocks Here 2\n",
      "stocks Here might fly 2\n",
      " To win stock market 2\n",
      "airlines stocks Here might 2\n"
     ]
    }
   ],
   "source": [
    "counter = defaultdict(int)\n",
    "n = 4\n",
    "for doc in tweets_match:\n",
    "    words = TextBlob(doc).words\n",
    "    words = [w for w in words if w not in stopngram]\n",
    "    bigrams = ngrams(words, n)\n",
    "    for gram in bigrams:\n",
    "        counter[gram] += 1\n",
    "            \n",
    "for gram, count in sorted(counter.items(), key = itemgetter(1), reverse=True)[:5]:\n",
    "    phrase = \" \".join(gram)\n",
    "    print '%20s %i' % (phrase, count)"
   ]
  }
 ],
 "metadata": {
  "kernelspec": {
   "display_name": "Python 2",
   "language": "python",
   "name": "python2"
  },
  "language_info": {
   "codemirror_mode": {
    "name": "ipython",
    "version": 2
   },
   "file_extension": ".py",
   "mimetype": "text/x-python",
   "name": "python",
   "nbconvert_exporter": "python",
   "pygments_lexer": "ipython2",
   "version": "2.7.9"
  }
 },
 "nbformat": 4,
 "nbformat_minor": 0
}
