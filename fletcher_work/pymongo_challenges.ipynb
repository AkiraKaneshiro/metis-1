{
 "cells": [
  {
   "cell_type": "code",
   "execution_count": 9,
   "metadata": {
    "collapsed": true
   },
   "outputs": [],
   "source": [
    "from pymongo import MongoClient\n",
    "import pickle"
   ]
  },
  {
   "cell_type": "code",
   "execution_count": 2,
   "metadata": {
    "collapsed": true
   },
   "outputs": [],
   "source": [
    "client = MongoClient()"
   ]
  },
  {
   "cell_type": "code",
   "execution_count": 3,
   "metadata": {
    "collapsed": true
   },
   "outputs": [],
   "source": [
    "db = client.dbsc"
   ]
  },
  {
   "cell_type": "code",
   "execution_count": 4,
   "metadata": {
    "collapsed": false
   },
   "outputs": [
    {
     "data": {
      "text/plain": [
       "[]"
      ]
     },
     "execution_count": 4,
     "metadata": {},
     "output_type": "execute_result"
    }
   ],
   "source": [
    "db.collection_names()"
   ]
  },
  {
   "cell_type": "code",
   "execution_count": 5,
   "metadata": {
    "collapsed": true
   },
   "outputs": [],
   "source": [
    "td = db.testData"
   ]
  },
  {
   "cell_type": "code",
   "execution_count": 6,
   "metadata": {
    "collapsed": true
   },
   "outputs": [],
   "source": [
    "cursor = td.find()"
   ]
  },
  {
   "cell_type": "code",
   "execution_count": 7,
   "metadata": {
    "collapsed": false
   },
   "outputs": [
    {
     "ename": "StopIteration",
     "evalue": "",
     "output_type": "error",
     "traceback": [
      "\u001b[0;31m---------------------------------------------------------------------------\u001b[0m",
      "\u001b[0;31mStopIteration\u001b[0m                             Traceback (most recent call last)",
      "\u001b[0;32m<ipython-input-7-58f83cc3f896>\u001b[0m in \u001b[0;36m<module>\u001b[0;34m()\u001b[0m\n\u001b[0;32m----> 1\u001b[0;31m \u001b[0mcursor\u001b[0m\u001b[0;34m.\u001b[0m\u001b[0mnext\u001b[0m\u001b[0;34m(\u001b[0m\u001b[0;34m)\u001b[0m\u001b[0;34m\u001b[0m\u001b[0m\n\u001b[0m",
      "\u001b[0;32m/usr/local/lib/python2.7/site-packages/pymongo/cursor.pyc\u001b[0m in \u001b[0;36mnext\u001b[0;34m(self)\u001b[0m\n\u001b[1;32m    988\u001b[0m                 \u001b[0;32mreturn\u001b[0m \u001b[0mself\u001b[0m\u001b[0;34m.\u001b[0m\u001b[0m__data\u001b[0m\u001b[0;34m.\u001b[0m\u001b[0mpopleft\u001b[0m\u001b[0;34m(\u001b[0m\u001b[0;34m)\u001b[0m\u001b[0;34m\u001b[0m\u001b[0m\n\u001b[1;32m    989\u001b[0m         \u001b[0;32melse\u001b[0m\u001b[0;34m:\u001b[0m\u001b[0;34m\u001b[0m\u001b[0m\n\u001b[0;32m--> 990\u001b[0;31m             \u001b[0;32mraise\u001b[0m \u001b[0mStopIteration\u001b[0m\u001b[0;34m\u001b[0m\u001b[0m\n\u001b[0m\u001b[1;32m    991\u001b[0m \u001b[0;34m\u001b[0m\u001b[0m\n\u001b[1;32m    992\u001b[0m     \u001b[0m__next__\u001b[0m \u001b[0;34m=\u001b[0m \u001b[0mnext\u001b[0m\u001b[0;34m\u001b[0m\u001b[0m\n",
      "\u001b[0;31mStopIteration\u001b[0m: "
     ]
    }
   ],
   "source": [
    "cursor.next()"
   ]
  },
  {
   "cell_type": "code",
   "execution_count": 8,
   "metadata": {
    "collapsed": false
   },
   "outputs": [
    {
     "data": {
      "text/plain": [
       "[]"
      ]
     },
     "execution_count": 8,
     "metadata": {},
     "output_type": "execute_result"
    }
   ],
   "source": [
    "list(cursor)"
   ]
  },
  {
   "cell_type": "code",
   "execution_count": 27,
   "metadata": {
    "collapsed": true
   },
   "outputs": [],
   "source": [
    "with open('heavy_metal_parsed.pkl', 'r') as infile:\n",
    "    reviews = pickle.load(infile)"
   ]
  },
  {
   "cell_type": "code",
   "execution_count": 28,
   "metadata": {
    "collapsed": false
   },
   "outputs": [
    {
     "data": {
      "text/plain": [
       "['raw',\n",
       " 'head',\n",
       " 'metal_cred',\n",
       " 'title',\n",
       " 'direct',\n",
       " 'solid_metal_nuggets',\n",
       " 'cast',\n",
       " 'the_meat',\n",
       " 'year',\n",
       " 'sections']"
      ]
     },
     "execution_count": 28,
     "metadata": {},
     "output_type": "execute_result"
    }
   ],
   "source": [
    "reviews[0].keys()"
   ]
  },
  {
   "cell_type": "code",
   "execution_count": 29,
   "metadata": {
    "collapsed": false
   },
   "outputs": [
    {
     "data": {
      "text/plain": [
       "{'cast': [u'Frank Zappa',\n",
       "  u'Ringo Starr',\n",
       "  u'Mark Volman',\n",
       "  u'Howard Kaylan',\n",
       "  u'Keith Moon'],\n",
       " 'direct': [u'Tony Palmer', u'Frank Zappa'],\n",
       " 'head': [u'200 MOTELS (1971)',\n",
       "  u'DIRECTORS: Tony Palmer, Frank Zappa',\n",
       "  u'CAST: Frank Zappa, Ringo Starr, Mark Volman, Howard Kaylan, Keith\\nMoon'],\n",
       " 'metal_cred': [u'METAL CRED', u'Frank Zappa', u'Nun Desecration'],\n",
       " 'raw': [u'200 MOTELS (1971)',\n",
       "  u'DIRECTORS: Tony Palmer, Frank Zappa',\n",
       "  u'CAST: Frank Zappa, Ringo Starr, Mark Volman, Howard Kaylan, Keith\\nMoon',\n",
       "  u'METAL CRED',\n",
       "  u'Frank Zappa',\n",
       "  u'Nun Desecration',\n",
       "  u'THE MEAT',\n",
       "  u'Beyond his metal sainthood for\\nbattling the censor-witches of the PMRC and getting named checked by Deep\\nPurple in \\u201cSmoke on the Water\\u201d, musical visionary Frank Zappa led many rock\\nfans to heavy metal.',\n",
       "  u'And, from there, he led many metal\\nfans to the outer expanses of rock\\u2019s possibilities.',\n",
       "  u'Zappa also opened countless banging\\nheads to the far reaches of jazz, classical, doo-wop, and any other art form\\nthat could involve (brilliant) noise and (brilliantly dumb) dirty jokes.',\n",
       "  u'200\\nMotels is Zappa\\u2019s first crack at major motion picture madness, and it\\nembodies the much forgotten cultural moment when acid rock tumbled forever into\\nthe black pits of rising heavy metal.',\n",
       "  u'Surrealistic sketches and\\npsychedelic set pieces about the insanity of a being on tour are interspersed\\namong performances in which the Mothers jam with London Philharmonic.',\n",
       "  u'Ringo Starr plays Zappa during the\\ntalking parts. Zappa himself, plays guitar throughout, demonstrating how very\\nmuch of a six-string maestro he was, every lick on par with his future\\ncollaborators Steve Vail and Yngwie Malmsteen.',\n",
       "  u'SOLID METAL NUGGETS',\n",
       "  u'\\u2022 A psychedelic cartoon interlude\\nadmiringly tweaks Black Sabbath and Grand Funk Railroad.',\n",
       "  u'\\u2022 Keith Moon, madman drummer of the\\nWho, pops up\\u2014and off\\u2014as \\u201cThe Hot Nun.\\u201d'],\n",
       " 'sections': [[u'200 MOTELS (1971)',\n",
       "   u'DIRECTORS: Tony Palmer, Frank Zappa',\n",
       "   u'CAST: Frank Zappa, Ringo Starr, Mark Volman, Howard Kaylan, Keith\\nMoon'],\n",
       "  [u'METAL CRED', u'Frank Zappa', u'Nun Desecration'],\n",
       "  [u'THE MEAT',\n",
       "   u'Beyond his metal sainthood for\\nbattling the censor-witches of the PMRC and getting named checked by Deep\\nPurple in \\u201cSmoke on the Water\\u201d, musical visionary Frank Zappa led many rock\\nfans to heavy metal.',\n",
       "   u'And, from there, he led many metal\\nfans to the outer expanses of rock\\u2019s possibilities.',\n",
       "   u'Zappa also opened countless banging\\nheads to the far reaches of jazz, classical, doo-wop, and any other art form\\nthat could involve (brilliant) noise and (brilliantly dumb) dirty jokes.',\n",
       "   u'200\\nMotels is Zappa\\u2019s first crack at major motion picture madness, and it\\nembodies the much forgotten cultural moment when acid rock tumbled forever into\\nthe black pits of rising heavy metal.',\n",
       "   u'Surrealistic sketches and\\npsychedelic set pieces about the insanity of a being on tour are interspersed\\namong performances in which the Mothers jam with London Philharmonic.',\n",
       "   u'Ringo Starr plays Zappa during the\\ntalking parts. Zappa himself, plays guitar throughout, demonstrating how very\\nmuch of a six-string maestro he was, every lick on par with his future\\ncollaborators Steve Vail and Yngwie Malmsteen.'],\n",
       "  [u'SOLID METAL NUGGETS',\n",
       "   u'\\u2022 A psychedelic cartoon interlude\\nadmiringly tweaks Black Sabbath and Grand Funk Railroad.',\n",
       "   u'\\u2022 Keith Moon, madman drummer of the\\nWho, pops up\\u2014and off\\u2014as \\u201cThe Hot Nun.\\u201d']],\n",
       " 'solid_metal_nuggets': [u'SOLID METAL NUGGETS',\n",
       "  u'\\u2022 A psychedelic cartoon interlude\\nadmiringly tweaks Black Sabbath and Grand Funk Railroad.',\n",
       "  u'\\u2022 Keith Moon, madman drummer of the\\nWho, pops up\\u2014and off\\u2014as \\u201cThe Hot Nun.\\u201d'],\n",
       " 'the_meat': [u'THE MEAT',\n",
       "  u'Beyond his metal sainthood for\\nbattling the censor-witches of the PMRC and getting named checked by Deep\\nPurple in \\u201cSmoke on the Water\\u201d, musical visionary Frank Zappa led many rock\\nfans to heavy metal.',\n",
       "  u'And, from there, he led many metal\\nfans to the outer expanses of rock\\u2019s possibilities.',\n",
       "  u'Zappa also opened countless banging\\nheads to the far reaches of jazz, classical, doo-wop, and any other art form\\nthat could involve (brilliant) noise and (brilliantly dumb) dirty jokes.',\n",
       "  u'200\\nMotels is Zappa\\u2019s first crack at major motion picture madness, and it\\nembodies the much forgotten cultural moment when acid rock tumbled forever into\\nthe black pits of rising heavy metal.',\n",
       "  u'Surrealistic sketches and\\npsychedelic set pieces about the insanity of a being on tour are interspersed\\namong performances in which the Mothers jam with London Philharmonic.',\n",
       "  u'Ringo Starr plays Zappa during the\\ntalking parts. Zappa himself, plays guitar throughout, demonstrating how very\\nmuch of a six-string maestro he was, every lick on par with his future\\ncollaborators Steve Vail and Yngwie Malmsteen.'],\n",
       " 'title': u'200 MOTELS',\n",
       " 'year': 1971}"
      ]
     },
     "execution_count": 29,
     "metadata": {},
     "output_type": "execute_result"
    }
   ],
   "source": [
    "reviews[0]"
   ]
  },
  {
   "cell_type": "code",
   "execution_count": 30,
   "metadata": {
    "collapsed": false
   },
   "outputs": [
    {
     "data": {
      "text/plain": [
       "877"
      ]
     },
     "execution_count": 30,
     "metadata": {},
     "output_type": "execute_result"
    }
   ],
   "source": [
    "len(reviews)"
   ]
  },
  {
   "cell_type": "code",
   "execution_count": 31,
   "metadata": {
    "collapsed": true
   },
   "outputs": [],
   "source": [
    "hmm = client.dsbc.hmm"
   ]
  },
  {
   "cell_type": "code",
   "execution_count": 32,
   "metadata": {
    "collapsed": false
   },
   "outputs": [
    {
     "data": {
      "text/plain": [
       "ObjectId('555b5a64bb9ab404a57f7039')"
      ]
     },
     "execution_count": 32,
     "metadata": {},
     "output_type": "execute_result"
    }
   ],
   "source": [
    "hmm.insert(reviews[0])"
   ]
  },
  {
   "cell_type": "code",
   "execution_count": 33,
   "metadata": {
    "collapsed": false
   },
   "outputs": [
    {
     "data": {
      "text/plain": [
       "{u'_id': ObjectId('555b5948bb9ab404a57f7038'),\n",
       " u'cast': [u'Frank Zappa',\n",
       "  u'Ringo Starr',\n",
       "  u'Mark Volman',\n",
       "  u'Howard Kaylan',\n",
       "  u'Keith Moon'],\n",
       " u'direct': [u'Tony Palmer', u'Frank Zappa'],\n",
       " u'head': [u'200 MOTELS (1971)',\n",
       "  u'DIRECTORS: Tony Palmer, Frank Zappa',\n",
       "  u'CAST: Frank Zappa, Ringo Starr, Mark Volman, Howard Kaylan, Keith\\nMoon'],\n",
       " u'metal_cred': [u'METAL CRED', u'Frank Zappa', u'Nun Desecration'],\n",
       " u'raw': [u'200 MOTELS (1971)',\n",
       "  u'DIRECTORS: Tony Palmer, Frank Zappa',\n",
       "  u'CAST: Frank Zappa, Ringo Starr, Mark Volman, Howard Kaylan, Keith\\nMoon',\n",
       "  u'METAL CRED',\n",
       "  u'Frank Zappa',\n",
       "  u'Nun Desecration',\n",
       "  u'THE MEAT',\n",
       "  u'Beyond his metal sainthood for\\nbattling the censor-witches of the PMRC and getting named checked by Deep\\nPurple in \\u201cSmoke on the Water\\u201d, musical visionary Frank Zappa led many rock\\nfans to heavy metal.',\n",
       "  u'And, from there, he led many metal\\nfans to the outer expanses of rock\\u2019s possibilities.',\n",
       "  u'Zappa also opened countless banging\\nheads to the far reaches of jazz, classical, doo-wop, and any other art form\\nthat could involve (brilliant) noise and (brilliantly dumb) dirty jokes.',\n",
       "  u'200\\nMotels is Zappa\\u2019s first crack at major motion picture madness, and it\\nembodies the much forgotten cultural moment when acid rock tumbled forever into\\nthe black pits of rising heavy metal.',\n",
       "  u'Surrealistic sketches and\\npsychedelic set pieces about the insanity of a being on tour are interspersed\\namong performances in which the Mothers jam with London Philharmonic.',\n",
       "  u'Ringo Starr plays Zappa during the\\ntalking parts. Zappa himself, plays guitar throughout, demonstrating how very\\nmuch of a six-string maestro he was, every lick on par with his future\\ncollaborators Steve Vail and Yngwie Malmsteen.',\n",
       "  u'SOLID METAL NUGGETS',\n",
       "  u'\\u2022 A psychedelic cartoon interlude\\nadmiringly tweaks Black Sabbath and Grand Funk Railroad.',\n",
       "  u'\\u2022 Keith Moon, madman drummer of the\\nWho, pops up\\u2014and off\\u2014as \\u201cThe Hot Nun.\\u201d'],\n",
       " u'sections': [[u'200 MOTELS (1971)',\n",
       "   u'DIRECTORS: Tony Palmer, Frank Zappa',\n",
       "   u'CAST: Frank Zappa, Ringo Starr, Mark Volman, Howard Kaylan, Keith\\nMoon'],\n",
       "  [u'METAL CRED', u'Frank Zappa', u'Nun Desecration'],\n",
       "  [u'THE MEAT',\n",
       "   u'Beyond his metal sainthood for\\nbattling the censor-witches of the PMRC and getting named checked by Deep\\nPurple in \\u201cSmoke on the Water\\u201d, musical visionary Frank Zappa led many rock\\nfans to heavy metal.',\n",
       "   u'And, from there, he led many metal\\nfans to the outer expanses of rock\\u2019s possibilities.',\n",
       "   u'Zappa also opened countless banging\\nheads to the far reaches of jazz, classical, doo-wop, and any other art form\\nthat could involve (brilliant) noise and (brilliantly dumb) dirty jokes.',\n",
       "   u'200\\nMotels is Zappa\\u2019s first crack at major motion picture madness, and it\\nembodies the much forgotten cultural moment when acid rock tumbled forever into\\nthe black pits of rising heavy metal.',\n",
       "   u'Surrealistic sketches and\\npsychedelic set pieces about the insanity of a being on tour are interspersed\\namong performances in which the Mothers jam with London Philharmonic.',\n",
       "   u'Ringo Starr plays Zappa during the\\ntalking parts. Zappa himself, plays guitar throughout, demonstrating how very\\nmuch of a six-string maestro he was, every lick on par with his future\\ncollaborators Steve Vail and Yngwie Malmsteen.'],\n",
       "  [u'SOLID METAL NUGGETS',\n",
       "   u'\\u2022 A psychedelic cartoon interlude\\nadmiringly tweaks Black Sabbath and Grand Funk Railroad.',\n",
       "   u'\\u2022 Keith Moon, madman drummer of the\\nWho, pops up\\u2014and off\\u2014as \\u201cThe Hot Nun.\\u201d']],\n",
       " u'solid_metal_nuggets': [u'SOLID METAL NUGGETS',\n",
       "  u'\\u2022 A psychedelic cartoon interlude\\nadmiringly tweaks Black Sabbath and Grand Funk Railroad.',\n",
       "  u'\\u2022 Keith Moon, madman drummer of the\\nWho, pops up\\u2014and off\\u2014as \\u201cThe Hot Nun.\\u201d'],\n",
       " u'the_meat': [u'THE MEAT',\n",
       "  u'Beyond his metal sainthood for\\nbattling the censor-witches of the PMRC and getting named checked by Deep\\nPurple in \\u201cSmoke on the Water\\u201d, musical visionary Frank Zappa led many rock\\nfans to heavy metal.',\n",
       "  u'And, from there, he led many metal\\nfans to the outer expanses of rock\\u2019s possibilities.',\n",
       "  u'Zappa also opened countless banging\\nheads to the far reaches of jazz, classical, doo-wop, and any other art form\\nthat could involve (brilliant) noise and (brilliantly dumb) dirty jokes.',\n",
       "  u'200\\nMotels is Zappa\\u2019s first crack at major motion picture madness, and it\\nembodies the much forgotten cultural moment when acid rock tumbled forever into\\nthe black pits of rising heavy metal.',\n",
       "  u'Surrealistic sketches and\\npsychedelic set pieces about the insanity of a being on tour are interspersed\\namong performances in which the Mothers jam with London Philharmonic.',\n",
       "  u'Ringo Starr plays Zappa during the\\ntalking parts. Zappa himself, plays guitar throughout, demonstrating how very\\nmuch of a six-string maestro he was, every lick on par with his future\\ncollaborators Steve Vail and Yngwie Malmsteen.'],\n",
       " u'title': u'200 MOTELS',\n",
       " u'year': 1971}"
      ]
     },
     "execution_count": 33,
     "metadata": {},
     "output_type": "execute_result"
    }
   ],
   "source": [
    "hmm.find().next()"
   ]
  },
  {
   "cell_type": "code",
   "execution_count": 18,
   "metadata": {
    "collapsed": false
   },
   "outputs": [
    {
     "ename": "TypeError",
     "evalue": "unhashable type",
     "output_type": "error",
     "traceback": [
      "\u001b[0;31m---------------------------------------------------------------------------\u001b[0m",
      "\u001b[0;31mTypeError\u001b[0m                                 Traceback (most recent call last)",
      "\u001b[0;32m<ipython-input-18-38548690e44e>\u001b[0m in \u001b[0;36m<module>\u001b[0;34m()\u001b[0m\n\u001b[0;32m----> 1\u001b[0;31m \u001b[0;32mfor\u001b[0m \u001b[0mreview\u001b[0m \u001b[0;32min\u001b[0m \u001b[0mreviews\u001b[0m\u001b[0;34m[\u001b[0m\u001b[0;36m1\u001b[0m\u001b[0;34m:\u001b[0m\u001b[0;34m]\u001b[0m\u001b[0;34m:\u001b[0m\u001b[0;34m\u001b[0m\u001b[0m\n\u001b[0m\u001b[1;32m      2\u001b[0m     \u001b[0mhmm\u001b[0m\u001b[0;34m.\u001b[0m\u001b[0msave\u001b[0m\u001b[0;34m(\u001b[0m\u001b[0mreview\u001b[0m\u001b[0;34m)\u001b[0m\u001b[0;34m\u001b[0m\u001b[0m\n",
      "\u001b[0;31mTypeError\u001b[0m: unhashable type"
     ]
    }
   ],
   "source": [
    "for review in reviews[1:]:\n",
    "    hmm.save(review)"
   ]
  },
  {
   "cell_type": "code",
   "execution_count": 19,
   "metadata": {
    "collapsed": true
   },
   "outputs": [],
   "source": [
    "cursor = hmm.find()"
   ]
  },
  {
   "cell_type": "code",
   "execution_count": 20,
   "metadata": {
    "collapsed": false
   },
   "outputs": [
    {
     "data": {
      "text/plain": [
       "1"
      ]
     },
     "execution_count": 20,
     "metadata": {},
     "output_type": "execute_result"
    }
   ],
   "source": [
    "len(list(cursor))"
   ]
  },
  {
   "cell_type": "code",
   "execution_count": 21,
   "metadata": {
    "collapsed": false
   },
   "outputs": [
    {
     "data": {
      "text/plain": [
       "1"
      ]
     },
     "execution_count": 21,
     "metadata": {},
     "output_type": "execute_result"
    }
   ],
   "source": [
    "hmm.count()"
   ]
  },
  {
   "cell_type": "code",
   "execution_count": 22,
   "metadata": {
    "collapsed": false
   },
   "outputs": [
    {
     "data": {
      "text/plain": [
       "dict"
      ]
     },
     "execution_count": 22,
     "metadata": {},
     "output_type": "execute_result"
    }
   ],
   "source": [
    "type(reviews)"
   ]
  },
  {
   "cell_type": "markdown",
   "metadata": {},
   "source": [
    "## Pymongo Challenges"
   ]
  },
  {
   "cell_type": "code",
   "execution_count": 34,
   "metadata": {
    "collapsed": true
   },
   "outputs": [],
   "source": [
    "with open('heavy_metal_parsed.pkl', 'r') as datafile:\n",
    "    heavy_metal_reviews = pickle.load(datafile)"
   ]
  },
  {
   "cell_type": "code",
   "execution_count": 35,
   "metadata": {
    "collapsed": false
   },
   "outputs": [
    {
     "name": "stdout",
     "output_type": "stream",
     "text": [
      "200 MOTELS (1971)\n",
      "DIRECTORS: Tony Palmer, Frank Zappa\n",
      "CAST: Frank Zappa, Ringo Starr, Mark Volman, Howard Kaylan, Keith\n",
      "Moon\n",
      "METAL CRED\n",
      "Frank Zappa\n",
      "Nun Desecration\n",
      "THE MEAT\n",
      "Beyond his metal sainthood for\n",
      "battling the censor-witches of the PMRC and getting named checked by Deep\n",
      "Purple in “Smoke on the Water”, musical visionary Frank Zappa led many rock\n",
      "fans to heavy metal.\n",
      "And, from there, he led many metal\n",
      "fans to the outer expanses of rock’s possibilities.\n",
      "Zappa also opened countless banging\n",
      "heads to the far reaches of jazz, classical, doo-wop, and any other art form\n",
      "that could involve (brilliant) noise and (brilliantly dumb) dirty jokes.\n",
      "200\n",
      "Motels is Zappa’s first crack at major motion picture madness, and it\n",
      "embodies the much forgotten cultural moment when acid rock tumbled forever into\n",
      "the black pits of rising heavy metal.\n",
      "Surrealistic sketches and\n",
      "psychedelic set pieces about the insanity of a being on tour are interspersed\n",
      "among performances in which the Mothers jam with London Philharmonic.\n",
      "Ringo Starr plays Zappa during the\n",
      "talking parts. Zappa himself, plays guitar throughout, demonstrating how very\n",
      "much of a six-string maestro he was, every lick on par with his future\n",
      "collaborators Steve Vail and Yngwie Malmsteen.\n",
      "SOLID METAL NUGGETS\n",
      "• A psychedelic cartoon interlude\n",
      "admiringly tweaks Black Sabbath and Grand Funk Railroad.\n",
      "• Keith Moon, madman drummer of the\n",
      "Who, pops up—and off—as “The Hot Nun.”\n"
     ]
    }
   ],
   "source": [
    "first_review = heavy_metal_reviews[0]\n",
    "for line in first_review['raw']:\n",
    "    print line"
   ]
  },
  {
   "cell_type": "code",
   "execution_count": 36,
   "metadata": {
    "collapsed": false
   },
   "outputs": [
    {
     "name": "stdout",
     "output_type": "stream",
     "text": [
      "['raw', 'head', 'metal_cred', 'title', 'direct', 'solid_metal_nuggets', 'cast', 'the_meat', 'year', 'sections']\n"
     ]
    }
   ],
   "source": [
    "print first_review.keys()"
   ]
  },
  {
   "cell_type": "code",
   "execution_count": null,
   "metadata": {
    "collapsed": true
   },
   "outputs": [],
   "source": []
  }
 ],
 "metadata": {
  "kernelspec": {
   "display_name": "Python 2",
   "language": "python",
   "name": "python2"
  },
  "language_info": {
   "codemirror_mode": {
    "name": "ipython",
    "version": 2
   },
   "file_extension": ".py",
   "mimetype": "text/x-python",
   "name": "python",
   "nbconvert_exporter": "python",
   "pygments_lexer": "ipython2",
   "version": "2.7.9"
  }
 },
 "nbformat": 4,
 "nbformat_minor": 0
}
