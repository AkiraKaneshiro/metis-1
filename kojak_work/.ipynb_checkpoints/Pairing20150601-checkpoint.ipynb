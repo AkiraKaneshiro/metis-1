{
 "cells": [
  {
   "cell_type": "code",
   "execution_count": null,
   "metadata": {
    "collapsed": true
   },
   "outputs": [],
   "source": [
    "import time\n",
    "a=range(1,10000)\n",
    "start = time.clock() \n",
    "for i in range(100):\n",
    "   a.pop()\n",
    "elapsed = time.clock()\n",
    "elapsed2 = elapsed - start\n",
    "print \"Time spent in (function name) is: \", elapsed2*1000\n",
    "print a"
   ]
  },
  {
   "cell_type": "code",
   "execution_count": null,
   "metadata": {
    "collapsed": true
   },
   "outputs": [],
   "source": [
    "x = range(1000000)\n",
    "%timeit\n",
    "x.pop()\n",
    "x.append(9)\n",
    "\n",
    "x.pop(0)\n",
    "x.append(9)\n"
   ]
  }
 ],
 "metadata": {
  "kernelspec": {
   "display_name": "Python 2",
   "language": "python",
   "name": "python2"
  },
  "language_info": {
   "codemirror_mode": {
    "name": "ipython",
    "version": 2
   },
   "file_extension": ".py",
   "mimetype": "text/x-python",
   "name": "python",
   "nbconvert_exporter": "python",
   "pygments_lexer": "ipython2",
   "version": "2.7.9"
  }
 },
 "nbformat": 4,
 "nbformat_minor": 0
}
