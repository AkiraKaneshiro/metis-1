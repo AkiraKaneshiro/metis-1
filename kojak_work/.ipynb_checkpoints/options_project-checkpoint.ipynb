{
 "cells": [
  {
   "cell_type": "code",
   "execution_count": 1,
   "metadata": {
    "collapsed": true
   },
   "outputs": [],
   "source": [
    "import csv\n",
    "from pandas import *"
   ]
  },
  {
   "cell_type": "code",
   "execution_count": 2,
   "metadata": {
    "collapsed": false
   },
   "outputs": [],
   "source": [
    "sp500 = read_csv('sp500_1974_2015.csv', delimiter=',', header=0, usecols=[0,1,2,3,5,6], \n",
    "                 names=['date','open','high','low','vol','close'])"
   ]
  },
  {
   "cell_type": "code",
   "execution_count": 3,
   "metadata": {
    "collapsed": false
   },
   "outputs": [
    {
     "data": {
      "text/html": [
       "<div style=\"max-height:1000px;max-width:1500px;overflow:auto;\">\n",
       "<table border=\"1\" class=\"dataframe\">\n",
       "  <thead>\n",
       "    <tr style=\"text-align: right;\">\n",
       "      <th></th>\n",
       "      <th>Date</th>\n",
       "      <th>Open</th>\n",
       "      <th>High</th>\n",
       "      <th>Low</th>\n",
       "      <th>Close</th>\n",
       "      <th>Volume</th>\n",
       "      <th>Adj Close</th>\n",
       "    </tr>\n",
       "  </thead>\n",
       "  <tbody>\n",
       "    <tr>\n",
       "      <th>0</th>\n",
       "      <td> 2015-06-03</td>\n",
       "      <td> 2110.63989</td>\n",
       "      <td> 2121.91992</td>\n",
       "      <td> 2109.61011</td>\n",
       "      <td> 2114.07007</td>\n",
       "      <td> 3099980000</td>\n",
       "      <td> 2114.07007</td>\n",
       "    </tr>\n",
       "    <tr>\n",
       "      <th>1</th>\n",
       "      <td> 2015-06-02</td>\n",
       "      <td> 2110.40991</td>\n",
       "      <td> 2117.59009</td>\n",
       "      <td> 2099.13989</td>\n",
       "      <td> 2109.60010</td>\n",
       "      <td> 3049350000</td>\n",
       "      <td> 2109.60010</td>\n",
       "    </tr>\n",
       "    <tr>\n",
       "      <th>2</th>\n",
       "      <td> 2015-06-01</td>\n",
       "      <td> 2108.63989</td>\n",
       "      <td> 2119.14990</td>\n",
       "      <td> 2102.54004</td>\n",
       "      <td> 2111.72998</td>\n",
       "      <td> 3011710000</td>\n",
       "      <td> 2111.72998</td>\n",
       "    </tr>\n",
       "    <tr>\n",
       "      <th>3</th>\n",
       "      <td> 2015-05-29</td>\n",
       "      <td> 2120.65991</td>\n",
       "      <td> 2120.65991</td>\n",
       "      <td> 2104.88989</td>\n",
       "      <td> 2107.38989</td>\n",
       "      <td> 3927390000</td>\n",
       "      <td> 2107.38989</td>\n",
       "    </tr>\n",
       "    <tr>\n",
       "      <th>4</th>\n",
       "      <td> 2015-05-28</td>\n",
       "      <td> 2122.27002</td>\n",
       "      <td> 2122.27002</td>\n",
       "      <td> 2112.86011</td>\n",
       "      <td> 2120.79004</td>\n",
       "      <td> 2980350000</td>\n",
       "      <td> 2120.79004</td>\n",
       "    </tr>\n",
       "  </tbody>\n",
       "</table>\n",
       "</div>"
      ],
      "text/plain": [
       "         Date        Open        High         Low       Close      Volume  \\\n",
       "0  2015-06-03  2110.63989  2121.91992  2109.61011  2114.07007  3099980000   \n",
       "1  2015-06-02  2110.40991  2117.59009  2099.13989  2109.60010  3049350000   \n",
       "2  2015-06-01  2108.63989  2119.14990  2102.54004  2111.72998  3011710000   \n",
       "3  2015-05-29  2120.65991  2120.65991  2104.88989  2107.38989  3927390000   \n",
       "4  2015-05-28  2122.27002  2122.27002  2112.86011  2120.79004  2980350000   \n",
       "\n",
       "    Adj Close  \n",
       "0  2114.07007  \n",
       "1  2109.60010  \n",
       "2  2111.72998  \n",
       "3  2107.38989  \n",
       "4  2120.79004  "
      ]
     },
     "execution_count": 3,
     "metadata": {},
     "output_type": "execute_result"
    }
   ],
   "source": [
    "sp500.head(5)"
   ]
  },
  {
   "cell_type": "code",
   "execution_count": 4,
   "metadata": {
    "collapsed": false
   },
   "outputs": [
    {
     "data": {
      "text/html": [
       "<div style=\"max-height:1000px;max-width:1500px;overflow:auto;\">\n",
       "<table border=\"1\" class=\"dataframe\">\n",
       "  <thead>\n",
       "    <tr style=\"text-align: right;\">\n",
       "      <th></th>\n",
       "      <th>Date</th>\n",
       "      <th>Open</th>\n",
       "      <th>High</th>\n",
       "      <th>Low</th>\n",
       "      <th>Close</th>\n",
       "      <th>Volume</th>\n",
       "      <th>Adj Close</th>\n",
       "    </tr>\n",
       "  </thead>\n",
       "  <tbody>\n",
       "    <tr>\n",
       "      <th>10445</th>\n",
       "      <td> 1974-01-08</td>\n",
       "      <td> 98.07</td>\n",
       "      <td>  98.26</td>\n",
       "      <td> 95.58</td>\n",
       "      <td> 96.12</td>\n",
       "      <td> 18080000</td>\n",
       "      <td> 96.12</td>\n",
       "    </tr>\n",
       "    <tr>\n",
       "      <th>10446</th>\n",
       "      <td> 1974-01-07</td>\n",
       "      <td> 98.90</td>\n",
       "      <td>  99.31</td>\n",
       "      <td> 96.86</td>\n",
       "      <td> 98.07</td>\n",
       "      <td> 19070000</td>\n",
       "      <td> 98.07</td>\n",
       "    </tr>\n",
       "    <tr>\n",
       "      <th>10447</th>\n",
       "      <td> 1974-01-04</td>\n",
       "      <td> 99.80</td>\n",
       "      <td> 100.70</td>\n",
       "      <td> 97.70</td>\n",
       "      <td> 98.90</td>\n",
       "      <td> 21700000</td>\n",
       "      <td> 98.90</td>\n",
       "    </tr>\n",
       "    <tr>\n",
       "      <th>10448</th>\n",
       "      <td> 1974-01-03</td>\n",
       "      <td> 98.02</td>\n",
       "      <td> 100.94</td>\n",
       "      <td> 98.02</td>\n",
       "      <td> 99.80</td>\n",
       "      <td> 24850000</td>\n",
       "      <td> 99.80</td>\n",
       "    </tr>\n",
       "    <tr>\n",
       "      <th>10449</th>\n",
       "      <td> 1974-01-02</td>\n",
       "      <td> 97.55</td>\n",
       "      <td>  98.38</td>\n",
       "      <td> 96.25</td>\n",
       "      <td> 97.68</td>\n",
       "      <td> 12060000</td>\n",
       "      <td> 97.68</td>\n",
       "    </tr>\n",
       "  </tbody>\n",
       "</table>\n",
       "</div>"
      ],
      "text/plain": [
       "             Date   Open    High    Low  Close    Volume  Adj Close\n",
       "10445  1974-01-08  98.07   98.26  95.58  96.12  18080000      96.12\n",
       "10446  1974-01-07  98.90   99.31  96.86  98.07  19070000      98.07\n",
       "10447  1974-01-04  99.80  100.70  97.70  98.90  21700000      98.90\n",
       "10448  1974-01-03  98.02  100.94  98.02  99.80  24850000      99.80\n",
       "10449  1974-01-02  97.55   98.38  96.25  97.68  12060000      97.68"
      ]
     },
     "execution_count": 4,
     "metadata": {},
     "output_type": "execute_result"
    }
   ],
   "source": [
    "sp500.tail(5)"
   ]
  },
  {
   "cell_type": "code",
   "execution_count": 7,
   "metadata": {
    "collapsed": true
   },
   "outputs": [],
   "source": [
    "spx = read_csv('spx_options_sample.csv', delimiter=',', header=0, usecols=[0,2,3,4,5,6,7,8,9,10,11,14,15], \n",
    "               names=['date','class','exp','strike','pc','oi','vol','high','low','open','last','spc','type'])"
   ]
  },
  {
   "cell_type": "code",
   "execution_count": 8,
   "metadata": {
    "collapsed": false
   },
   "outputs": [
    {
     "data": {
      "text/html": [
       "<div style=\"max-height:1000px;max-width:1500px;overflow:auto;\">\n",
       "<table border=\"1\" class=\"dataframe\">\n",
       "  <thead>\n",
       "    <tr style=\"text-align: right;\">\n",
       "      <th></th>\n",
       "      <th>TRADE_DT</th>\n",
       "      <th>CLS</th>\n",
       "      <th>EXPR_DT</th>\n",
       "      <th>STRK_PRC</th>\n",
       "      <th>PC</th>\n",
       "      <th>OIT</th>\n",
       "      <th>VOL</th>\n",
       "      <th>HIGH</th>\n",
       "      <th>LOW</th>\n",
       "      <th>OPEN</th>\n",
       "      <th>LAST</th>\n",
       "      <th>UNDL_PRC</th>\n",
       "      <th>S_TYPE</th>\n",
       "    </tr>\n",
       "  </thead>\n",
       "  <tbody>\n",
       "    <tr>\n",
       "      <th>0</th>\n",
       "      <td> 20140303</td>\n",
       "      <td> SPX</td>\n",
       "      <td> 20140322</td>\n",
       "      <td> 150</td>\n",
       "      <td> C</td>\n",
       "      <td> 1425</td>\n",
       "      <td> 0</td>\n",
       "      <td> 0</td>\n",
       "      <td> 0</td>\n",
       "      <td> 0</td>\n",
       "      <td> 0</td>\n",
       "      <td> 1845.73</td>\n",
       "      <td> Standard</td>\n",
       "    </tr>\n",
       "    <tr>\n",
       "      <th>1</th>\n",
       "      <td> 20140303</td>\n",
       "      <td> SPX</td>\n",
       "      <td> 20140322</td>\n",
       "      <td> 200</td>\n",
       "      <td> C</td>\n",
       "      <td> 1712</td>\n",
       "      <td> 0</td>\n",
       "      <td> 0</td>\n",
       "      <td> 0</td>\n",
       "      <td> 0</td>\n",
       "      <td> 0</td>\n",
       "      <td> 1845.73</td>\n",
       "      <td> Standard</td>\n",
       "    </tr>\n",
       "    <tr>\n",
       "      <th>2</th>\n",
       "      <td> 20140303</td>\n",
       "      <td> SPX</td>\n",
       "      <td> 20140322</td>\n",
       "      <td> 250</td>\n",
       "      <td> C</td>\n",
       "      <td>    0</td>\n",
       "      <td> 0</td>\n",
       "      <td> 0</td>\n",
       "      <td> 0</td>\n",
       "      <td> 0</td>\n",
       "      <td> 0</td>\n",
       "      <td> 1845.73</td>\n",
       "      <td> Standard</td>\n",
       "    </tr>\n",
       "    <tr>\n",
       "      <th>3</th>\n",
       "      <td> 20140303</td>\n",
       "      <td> SPX</td>\n",
       "      <td> 20140322</td>\n",
       "      <td> 300</td>\n",
       "      <td> C</td>\n",
       "      <td>    0</td>\n",
       "      <td> 0</td>\n",
       "      <td> 0</td>\n",
       "      <td> 0</td>\n",
       "      <td> 0</td>\n",
       "      <td> 0</td>\n",
       "      <td> 1845.73</td>\n",
       "      <td> Standard</td>\n",
       "    </tr>\n",
       "    <tr>\n",
       "      <th>4</th>\n",
       "      <td> 20140303</td>\n",
       "      <td> SPX</td>\n",
       "      <td> 20140322</td>\n",
       "      <td> 350</td>\n",
       "      <td> C</td>\n",
       "      <td> 1425</td>\n",
       "      <td> 0</td>\n",
       "      <td> 0</td>\n",
       "      <td> 0</td>\n",
       "      <td> 0</td>\n",
       "      <td> 0</td>\n",
       "      <td> 1845.73</td>\n",
       "      <td> Standard</td>\n",
       "    </tr>\n",
       "  </tbody>\n",
       "</table>\n",
       "</div>"
      ],
      "text/plain": [
       "   TRADE_DT  CLS   EXPR_DT  STRK_PRC PC   OIT  VOL  HIGH  LOW  OPEN  LAST  \\\n",
       "0  20140303  SPX  20140322       150  C  1425    0     0    0     0     0   \n",
       "1  20140303  SPX  20140322       200  C  1712    0     0    0     0     0   \n",
       "2  20140303  SPX  20140322       250  C     0    0     0    0     0     0   \n",
       "3  20140303  SPX  20140322       300  C     0    0     0    0     0     0   \n",
       "4  20140303  SPX  20140322       350  C  1425    0     0    0     0     0   \n",
       "\n",
       "   UNDL_PRC    S_TYPE  \n",
       "0   1845.73  Standard  \n",
       "1   1845.73  Standard  \n",
       "2   1845.73  Standard  \n",
       "3   1845.73  Standard  \n",
       "4   1845.73  Standard  "
      ]
     },
     "execution_count": 8,
     "metadata": {},
     "output_type": "execute_result"
    }
   ],
   "source": [
    "spx.head(5)"
   ]
  },
  {
   "cell_type": "code",
   "execution_count": 9,
   "metadata": {
    "collapsed": false
   },
   "outputs": [
    {
     "data": {
      "text/html": [
       "<div style=\"max-height:1000px;max-width:1500px;overflow:auto;\">\n",
       "<table border=\"1\" class=\"dataframe\">\n",
       "  <thead>\n",
       "    <tr style=\"text-align: right;\">\n",
       "      <th></th>\n",
       "      <th>TRADE_DT</th>\n",
       "      <th>CLS</th>\n",
       "      <th>EXPR_DT</th>\n",
       "      <th>STRK_PRC</th>\n",
       "      <th>PC</th>\n",
       "      <th>OIT</th>\n",
       "      <th>VOL</th>\n",
       "      <th>HIGH</th>\n",
       "      <th>LOW</th>\n",
       "      <th>OPEN</th>\n",
       "      <th>LAST</th>\n",
       "      <th>UNDL_PRC</th>\n",
       "      <th>S_TYPE</th>\n",
       "    </tr>\n",
       "  </thead>\n",
       "  <tbody>\n",
       "    <tr>\n",
       "      <th>19920</th>\n",
       "      <td> 20140307</td>\n",
       "      <td> SPXQ</td>\n",
       "      <td> 20140331</td>\n",
       "      <td> 1995</td>\n",
       "      <td> P</td>\n",
       "      <td> 0</td>\n",
       "      <td> 0</td>\n",
       "      <td> 0</td>\n",
       "      <td> 0</td>\n",
       "      <td> 0</td>\n",
       "      <td> 0</td>\n",
       "      <td> 1878.04</td>\n",
       "      <td> Quarterly</td>\n",
       "    </tr>\n",
       "    <tr>\n",
       "      <th>19921</th>\n",
       "      <td> 20140307</td>\n",
       "      <td> SPXQ</td>\n",
       "      <td> 20140331</td>\n",
       "      <td> 2000</td>\n",
       "      <td> P</td>\n",
       "      <td> 0</td>\n",
       "      <td> 0</td>\n",
       "      <td> 0</td>\n",
       "      <td> 0</td>\n",
       "      <td> 0</td>\n",
       "      <td> 0</td>\n",
       "      <td> 1878.04</td>\n",
       "      <td> Quarterly</td>\n",
       "    </tr>\n",
       "    <tr>\n",
       "      <th>19922</th>\n",
       "      <td> 20140307</td>\n",
       "      <td> SPXQ</td>\n",
       "      <td> 20140331</td>\n",
       "      <td> 2005</td>\n",
       "      <td> P</td>\n",
       "      <td> 0</td>\n",
       "      <td> 0</td>\n",
       "      <td> 0</td>\n",
       "      <td> 0</td>\n",
       "      <td> 0</td>\n",
       "      <td> 0</td>\n",
       "      <td> 1878.04</td>\n",
       "      <td> Quarterly</td>\n",
       "    </tr>\n",
       "    <tr>\n",
       "      <th>19923</th>\n",
       "      <td> 20140307</td>\n",
       "      <td> SPXQ</td>\n",
       "      <td> 20140331</td>\n",
       "      <td> 2010</td>\n",
       "      <td> P</td>\n",
       "      <td> 0</td>\n",
       "      <td> 0</td>\n",
       "      <td> 0</td>\n",
       "      <td> 0</td>\n",
       "      <td> 0</td>\n",
       "      <td> 0</td>\n",
       "      <td> 1878.04</td>\n",
       "      <td> Quarterly</td>\n",
       "    </tr>\n",
       "    <tr>\n",
       "      <th>19924</th>\n",
       "      <td> 20140307</td>\n",
       "      <td> SPXQ</td>\n",
       "      <td> 20140331</td>\n",
       "      <td> 2025</td>\n",
       "      <td> P</td>\n",
       "      <td> 0</td>\n",
       "      <td> 0</td>\n",
       "      <td> 0</td>\n",
       "      <td> 0</td>\n",
       "      <td> 0</td>\n",
       "      <td> 0</td>\n",
       "      <td> 1878.04</td>\n",
       "      <td>       NaN</td>\n",
       "    </tr>\n",
       "  </tbody>\n",
       "</table>\n",
       "</div>"
      ],
      "text/plain": [
       "       TRADE_DT   CLS   EXPR_DT  STRK_PRC PC  OIT  VOL  HIGH  LOW  OPEN  LAST  \\\n",
       "19920  20140307  SPXQ  20140331      1995  P    0    0     0    0     0     0   \n",
       "19921  20140307  SPXQ  20140331      2000  P    0    0     0    0     0     0   \n",
       "19922  20140307  SPXQ  20140331      2005  P    0    0     0    0     0     0   \n",
       "19923  20140307  SPXQ  20140331      2010  P    0    0     0    0     0     0   \n",
       "19924  20140307  SPXQ  20140331      2025  P    0    0     0    0     0     0   \n",
       "\n",
       "       UNDL_PRC     S_TYPE  \n",
       "19920   1878.04  Quarterly  \n",
       "19921   1878.04  Quarterly  \n",
       "19922   1878.04  Quarterly  \n",
       "19923   1878.04  Quarterly  \n",
       "19924   1878.04        NaN  "
      ]
     },
     "execution_count": 9,
     "metadata": {},
     "output_type": "execute_result"
    }
   ],
   "source": [
    "spx.tail(5)"
   ]
  },
  {
   "cell_type": "code",
   "execution_count": 14,
   "metadata": {
    "collapsed": false
   },
   "outputs": [
    {
     "data": {
      "text/plain": [
       "numpy.int64"
      ]
     },
     "execution_count": 14,
     "metadata": {},
     "output_type": "execute_result"
    }
   ],
   "source": [
    "type(spx['date'][0])"
   ]
  },
  {
   "cell_type": "code",
   "execution_count": 15,
   "metadata": {
    "collapsed": false
   },
   "outputs": [
    {
     "data": {
      "text/plain": [
       "str"
      ]
     },
     "execution_count": 15,
     "metadata": {},
     "output_type": "execute_result"
    }
   ],
   "source": [
    "type(sp500['date'][0])"
   ]
  },
  {
   "cell_type": "code",
   "execution_count": null,
   "metadata": {
    "collapsed": true
   },
   "outputs": [],
   "source": []
  }
 ],
 "metadata": {
  "kernelspec": {
   "display_name": "Python 2",
   "language": "python",
   "name": "python2"
  },
  "language_info": {
   "codemirror_mode": {
    "name": "ipython",
    "version": 2
   },
   "file_extension": ".py",
   "mimetype": "text/x-python",
   "name": "python",
   "nbconvert_exporter": "python",
   "pygments_lexer": "ipython2",
   "version": "2.7.9"
  }
 },
 "nbformat": 4,
 "nbformat_minor": 0
}
