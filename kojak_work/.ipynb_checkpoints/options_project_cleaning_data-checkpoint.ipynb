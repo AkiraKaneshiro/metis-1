{
 "cells": [
  {
   "cell_type": "code",
   "execution_count": 1,
   "metadata": {
    "collapsed": true
   },
   "outputs": [],
   "source": [
    "import csv\n",
    "import pandas as pd\n",
    "from pandas import *"
   ]
  },
  {
   "cell_type": "markdown",
   "metadata": {},
   "source": [
    "## Loading S&P 500 Weekly Data"
   ]
  },
  {
   "cell_type": "code",
   "execution_count": 2,
   "metadata": {
    "collapsed": false
   },
   "outputs": [],
   "source": [
    "sp500 = read_csv('sp500w_1984_2015.csv', delimiter=',', header=0, usecols=[0,1,2,3,5,6], \n",
    "                 names=['date','open','high','low','vol','close'])"
   ]
  },
  {
   "cell_type": "code",
   "execution_count": 3,
   "metadata": {
    "collapsed": false
   },
   "outputs": [
    {
     "data": {
      "text/html": [
       "<div style=\"max-height:1000px;max-width:1500px;overflow:auto;\">\n",
       "<table border=\"1\" class=\"dataframe\">\n",
       "  <thead>\n",
       "    <tr style=\"text-align: right;\">\n",
       "      <th></th>\n",
       "      <th>date</th>\n",
       "      <th>open</th>\n",
       "      <th>high</th>\n",
       "      <th>low</th>\n",
       "      <th>vol</th>\n",
       "      <th>close</th>\n",
       "    </tr>\n",
       "  </thead>\n",
       "  <tbody>\n",
       "    <tr>\n",
       "      <th>0</th>\n",
       "      <td> 2015-06-01</td>\n",
       "      <td> 2108.63989</td>\n",
       "      <td> 2121.91992</td>\n",
       "      <td> 2085.66992</td>\n",
       "      <td> 3120956000</td>\n",
       "      <td> 2092.83008</td>\n",
       "    </tr>\n",
       "    <tr>\n",
       "      <th>1</th>\n",
       "      <td> 2015-05-26</td>\n",
       "      <td> 2125.34009</td>\n",
       "      <td> 2126.21997</td>\n",
       "      <td> 2099.17993</td>\n",
       "      <td> 3344457500</td>\n",
       "      <td> 2107.38989</td>\n",
       "    </tr>\n",
       "    <tr>\n",
       "      <th>2</th>\n",
       "      <td> 2015-05-18</td>\n",
       "      <td> 2121.30005</td>\n",
       "      <td> 2134.71997</td>\n",
       "      <td> 2120.01001</td>\n",
       "      <td> 2970484000</td>\n",
       "      <td> 2126.06006</td>\n",
       "    </tr>\n",
       "    <tr>\n",
       "      <th>3</th>\n",
       "      <td> 2015-05-11</td>\n",
       "      <td> 2115.56006</td>\n",
       "      <td> 2123.88989</td>\n",
       "      <td> 2085.57007</td>\n",
       "      <td> 2536950000</td>\n",
       "      <td> 2122.72998</td>\n",
       "    </tr>\n",
       "    <tr>\n",
       "      <th>4</th>\n",
       "      <td> 2015-05-04</td>\n",
       "      <td> 2110.22998</td>\n",
       "      <td> 2120.94995</td>\n",
       "      <td> 2067.92993</td>\n",
       "      <td> 3550764000</td>\n",
       "      <td> 2116.10010</td>\n",
       "    </tr>\n",
       "  </tbody>\n",
       "</table>\n",
       "</div>"
      ],
      "text/plain": [
       "         date        open        high         low         vol       close\n",
       "0  2015-06-01  2108.63989  2121.91992  2085.66992  3120956000  2092.83008\n",
       "1  2015-05-26  2125.34009  2126.21997  2099.17993  3344457500  2107.38989\n",
       "2  2015-05-18  2121.30005  2134.71997  2120.01001  2970484000  2126.06006\n",
       "3  2015-05-11  2115.56006  2123.88989  2085.57007  2536950000  2122.72998\n",
       "4  2015-05-04  2110.22998  2120.94995  2067.92993  3550764000  2116.10010"
      ]
     },
     "execution_count": 3,
     "metadata": {},
     "output_type": "execute_result"
    }
   ],
   "source": [
    "sp500.head(5)"
   ]
  },
  {
   "cell_type": "code",
   "execution_count": 4,
   "metadata": {
    "collapsed": false
   },
   "outputs": [
    {
     "data": {
      "text/html": [
       "<div style=\"max-height:1000px;max-width:1500px;overflow:auto;\">\n",
       "<table border=\"1\" class=\"dataframe\">\n",
       "  <thead>\n",
       "    <tr style=\"text-align: right;\">\n",
       "      <th></th>\n",
       "      <th>date</th>\n",
       "      <th>open</th>\n",
       "      <th>high</th>\n",
       "      <th>low</th>\n",
       "      <th>vol</th>\n",
       "      <th>close</th>\n",
       "    </tr>\n",
       "  </thead>\n",
       "  <tbody>\n",
       "    <tr>\n",
       "      <th>1530</th>\n",
       "      <td> 1986-01-27</td>\n",
       "      <td> 206.42999</td>\n",
       "      <td> 212.42000</td>\n",
       "      <td> 206.42999</td>\n",
       "      <td> 146240000</td>\n",
       "      <td> 211.78000</td>\n",
       "    </tr>\n",
       "    <tr>\n",
       "      <th>1531</th>\n",
       "      <td> 1986-01-20</td>\n",
       "      <td> 208.42999</td>\n",
       "      <td> 208.42999</td>\n",
       "      <td> 202.60001</td>\n",
       "      <td> 120808000</td>\n",
       "      <td> 206.42999</td>\n",
       "    </tr>\n",
       "    <tr>\n",
       "      <th>1532</th>\n",
       "      <td> 1986-01-13</td>\n",
       "      <td> 205.96001</td>\n",
       "      <td> 209.39999</td>\n",
       "      <td> 205.52000</td>\n",
       "      <td> 121520000</td>\n",
       "      <td> 208.42999</td>\n",
       "    </tr>\n",
       "    <tr>\n",
       "      <th>1533</th>\n",
       "      <td> 1986-01-06</td>\n",
       "      <td> 210.88000</td>\n",
       "      <td> 214.57001</td>\n",
       "      <td> 204.50999</td>\n",
       "      <td> 146442000</td>\n",
       "      <td> 205.96001</td>\n",
       "    </tr>\n",
       "    <tr>\n",
       "      <th>1534</th>\n",
       "      <td> 1986-01-02</td>\n",
       "      <td> 211.28000</td>\n",
       "      <td> 211.28000</td>\n",
       "      <td> 208.92999</td>\n",
       "      <td> 101980000</td>\n",
       "      <td> 210.88000</td>\n",
       "    </tr>\n",
       "  </tbody>\n",
       "</table>\n",
       "</div>"
      ],
      "text/plain": [
       "            date       open       high        low        vol      close\n",
       "1530  1986-01-27  206.42999  212.42000  206.42999  146240000  211.78000\n",
       "1531  1986-01-20  208.42999  208.42999  202.60001  120808000  206.42999\n",
       "1532  1986-01-13  205.96001  209.39999  205.52000  121520000  208.42999\n",
       "1533  1986-01-06  210.88000  214.57001  204.50999  146442000  205.96001\n",
       "1534  1986-01-02  211.28000  211.28000  208.92999  101980000  210.88000"
      ]
     },
     "execution_count": 4,
     "metadata": {},
     "output_type": "execute_result"
    }
   ],
   "source": [
    "sp500.tail(5)"
   ]
  },
  {
   "cell_type": "code",
   "execution_count": 5,
   "metadata": {
    "collapsed": false
   },
   "outputs": [
    {
     "data": {
      "text/plain": [
       "str"
      ]
     },
     "execution_count": 5,
     "metadata": {},
     "output_type": "execute_result"
    }
   ],
   "source": [
    "type(sp500.date[0])"
   ]
  },
  {
   "cell_type": "code",
   "execution_count": 6,
   "metadata": {
    "collapsed": true
   },
   "outputs": [],
   "source": [
    "sp500['date'] = pd.to_datetime(sp500['date'])"
   ]
  },
  {
   "cell_type": "code",
   "execution_count": 7,
   "metadata": {
    "collapsed": false
   },
   "outputs": [
    {
     "data": {
      "text/html": [
       "<div style=\"max-height:1000px;max-width:1500px;overflow:auto;\">\n",
       "<table border=\"1\" class=\"dataframe\">\n",
       "  <thead>\n",
       "    <tr style=\"text-align: right;\">\n",
       "      <th></th>\n",
       "      <th>date</th>\n",
       "      <th>open</th>\n",
       "      <th>high</th>\n",
       "      <th>low</th>\n",
       "      <th>vol</th>\n",
       "      <th>close</th>\n",
       "    </tr>\n",
       "  </thead>\n",
       "  <tbody>\n",
       "    <tr>\n",
       "      <th>0</th>\n",
       "      <td>2015-06-01</td>\n",
       "      <td> 2108.63989</td>\n",
       "      <td> 2121.91992</td>\n",
       "      <td> 2085.66992</td>\n",
       "      <td> 3120956000</td>\n",
       "      <td> 2092.83008</td>\n",
       "    </tr>\n",
       "    <tr>\n",
       "      <th>1</th>\n",
       "      <td>2015-05-26</td>\n",
       "      <td> 2125.34009</td>\n",
       "      <td> 2126.21997</td>\n",
       "      <td> 2099.17993</td>\n",
       "      <td> 3344457500</td>\n",
       "      <td> 2107.38989</td>\n",
       "    </tr>\n",
       "    <tr>\n",
       "      <th>2</th>\n",
       "      <td>2015-05-18</td>\n",
       "      <td> 2121.30005</td>\n",
       "      <td> 2134.71997</td>\n",
       "      <td> 2120.01001</td>\n",
       "      <td> 2970484000</td>\n",
       "      <td> 2126.06006</td>\n",
       "    </tr>\n",
       "    <tr>\n",
       "      <th>3</th>\n",
       "      <td>2015-05-11</td>\n",
       "      <td> 2115.56006</td>\n",
       "      <td> 2123.88989</td>\n",
       "      <td> 2085.57007</td>\n",
       "      <td> 2536950000</td>\n",
       "      <td> 2122.72998</td>\n",
       "    </tr>\n",
       "    <tr>\n",
       "      <th>4</th>\n",
       "      <td>2015-05-04</td>\n",
       "      <td> 2110.22998</td>\n",
       "      <td> 2120.94995</td>\n",
       "      <td> 2067.92993</td>\n",
       "      <td> 3550764000</td>\n",
       "      <td> 2116.10010</td>\n",
       "    </tr>\n",
       "  </tbody>\n",
       "</table>\n",
       "</div>"
      ],
      "text/plain": [
       "        date        open        high         low         vol       close\n",
       "0 2015-06-01  2108.63989  2121.91992  2085.66992  3120956000  2092.83008\n",
       "1 2015-05-26  2125.34009  2126.21997  2099.17993  3344457500  2107.38989\n",
       "2 2015-05-18  2121.30005  2134.71997  2120.01001  2970484000  2126.06006\n",
       "3 2015-05-11  2115.56006  2123.88989  2085.57007  2536950000  2122.72998\n",
       "4 2015-05-04  2110.22998  2120.94995  2067.92993  3550764000  2116.10010"
      ]
     },
     "execution_count": 7,
     "metadata": {},
     "output_type": "execute_result"
    }
   ],
   "source": [
    "sp500.head(5)"
   ]
  },
  {
   "cell_type": "code",
   "execution_count": 8,
   "metadata": {
    "collapsed": false
   },
   "outputs": [
    {
     "data": {
      "text/plain": [
       "pandas.tslib.Timestamp"
      ]
     },
     "execution_count": 8,
     "metadata": {},
     "output_type": "execute_result"
    }
   ],
   "source": [
    "type(sp500.date[30])"
   ]
  },
  {
   "cell_type": "markdown",
   "metadata": {},
   "source": [
    "## Loading Daily Options Data"
   ]
  },
  {
   "cell_type": "code",
   "execution_count": 9,
   "metadata": {
    "collapsed": true
   },
   "outputs": [],
   "source": [
    "spx_all = read_csv('/Users/marcolunardi/Documents/Doc/spx_options_1990_2015.csv', delimiter=',', header=0, usecols=[0,2,3,4,5,6,7,8,9,10,11,15], \n",
    "               names=['date','cl','exp','strike','pc','oi','vol','high','low','open','last','ty'])"
   ]
  },
  {
   "cell_type": "code",
   "execution_count": 10,
   "metadata": {
    "collapsed": false
   },
   "outputs": [
    {
     "data": {
      "text/html": [
       "<div style=\"max-height:1000px;max-width:1500px;overflow:auto;\">\n",
       "<table border=\"1\" class=\"dataframe\">\n",
       "  <thead>\n",
       "    <tr style=\"text-align: right;\">\n",
       "      <th></th>\n",
       "      <th>date</th>\n",
       "      <th>cl</th>\n",
       "      <th>exp</th>\n",
       "      <th>strike</th>\n",
       "      <th>pc</th>\n",
       "      <th>oi</th>\n",
       "      <th>vol</th>\n",
       "      <th>high</th>\n",
       "      <th>low</th>\n",
       "      <th>open</th>\n",
       "      <th>last</th>\n",
       "      <th>ty</th>\n",
       "    </tr>\n",
       "  </thead>\n",
       "  <tbody>\n",
       "    <tr>\n",
       "      <th>0</th>\n",
       "      <td> 19900102</td>\n",
       "      <td> NSX</td>\n",
       "      <td> 19900317</td>\n",
       "      <td> 330</td>\n",
       "      <td> C</td>\n",
       "      <td>    0</td>\n",
       "      <td> 0</td>\n",
       "      <td> 0</td>\n",
       "      <td> 0</td>\n",
       "      <td> 0</td>\n",
       "      <td> 0</td>\n",
       "      <td> Standard</td>\n",
       "    </tr>\n",
       "    <tr>\n",
       "      <th>1</th>\n",
       "      <td> 19900102</td>\n",
       "      <td> NSX</td>\n",
       "      <td> 19900317</td>\n",
       "      <td> 335</td>\n",
       "      <td> C</td>\n",
       "      <td>    0</td>\n",
       "      <td> 0</td>\n",
       "      <td> 0</td>\n",
       "      <td> 0</td>\n",
       "      <td> 0</td>\n",
       "      <td> 0</td>\n",
       "      <td> Standard</td>\n",
       "    </tr>\n",
       "    <tr>\n",
       "      <th>2</th>\n",
       "      <td> 19900102</td>\n",
       "      <td> NSX</td>\n",
       "      <td> 19900317</td>\n",
       "      <td> 340</td>\n",
       "      <td> C</td>\n",
       "      <td> 3007</td>\n",
       "      <td> 0</td>\n",
       "      <td> 0</td>\n",
       "      <td> 0</td>\n",
       "      <td> 0</td>\n",
       "      <td> 0</td>\n",
       "      <td> Standard</td>\n",
       "    </tr>\n",
       "    <tr>\n",
       "      <th>3</th>\n",
       "      <td> 19900102</td>\n",
       "      <td> NSX</td>\n",
       "      <td> 19900317</td>\n",
       "      <td> 345</td>\n",
       "      <td> C</td>\n",
       "      <td>  410</td>\n",
       "      <td> 0</td>\n",
       "      <td> 0</td>\n",
       "      <td> 0</td>\n",
       "      <td> 0</td>\n",
       "      <td> 0</td>\n",
       "      <td> Standard</td>\n",
       "    </tr>\n",
       "    <tr>\n",
       "      <th>4</th>\n",
       "      <td> 19900102</td>\n",
       "      <td> NSX</td>\n",
       "      <td> 19900317</td>\n",
       "      <td> 350</td>\n",
       "      <td> C</td>\n",
       "      <td>  300</td>\n",
       "      <td> 0</td>\n",
       "      <td> 0</td>\n",
       "      <td> 0</td>\n",
       "      <td> 0</td>\n",
       "      <td> 0</td>\n",
       "      <td> Standard</td>\n",
       "    </tr>\n",
       "  </tbody>\n",
       "</table>\n",
       "</div>"
      ],
      "text/plain": [
       "       date   cl       exp  strike pc    oi  vol  high  low  open  last  \\\n",
       "0  19900102  NSX  19900317     330  C     0    0     0    0     0     0   \n",
       "1  19900102  NSX  19900317     335  C     0    0     0    0     0     0   \n",
       "2  19900102  NSX  19900317     340  C  3007    0     0    0     0     0   \n",
       "3  19900102  NSX  19900317     345  C   410    0     0    0     0     0   \n",
       "4  19900102  NSX  19900317     350  C   300    0     0    0     0     0   \n",
       "\n",
       "         ty  \n",
       "0  Standard  \n",
       "1  Standard  \n",
       "2  Standard  \n",
       "3  Standard  \n",
       "4  Standard  "
      ]
     },
     "execution_count": 10,
     "metadata": {},
     "output_type": "execute_result"
    }
   ],
   "source": [
    "spx_all.head(5)"
   ]
  },
  {
   "cell_type": "code",
   "execution_count": 11,
   "metadata": {
    "collapsed": false
   },
   "outputs": [
    {
     "data": {
      "text/html": [
       "<div style=\"max-height:1000px;max-width:1500px;overflow:auto;\">\n",
       "<table border=\"1\" class=\"dataframe\">\n",
       "  <thead>\n",
       "    <tr style=\"text-align: right;\">\n",
       "      <th></th>\n",
       "      <th>date</th>\n",
       "      <th>cl</th>\n",
       "      <th>exp</th>\n",
       "      <th>strike</th>\n",
       "      <th>pc</th>\n",
       "      <th>oi</th>\n",
       "      <th>vol</th>\n",
       "      <th>high</th>\n",
       "      <th>low</th>\n",
       "      <th>open</th>\n",
       "      <th>last</th>\n",
       "      <th>ty</th>\n",
       "    </tr>\n",
       "  </thead>\n",
       "  <tbody>\n",
       "    <tr>\n",
       "      <th>7771980</th>\n",
       "      <td> 20150601</td>\n",
       "      <td> SPXW</td>\n",
       "      <td> 20160331</td>\n",
       "      <td> 2300</td>\n",
       "      <td> P</td>\n",
       "      <td> 0</td>\n",
       "      <td> 0</td>\n",
       "      <td> 0</td>\n",
       "      <td> 0</td>\n",
       "      <td> 0</td>\n",
       "      <td> 0</td>\n",
       "      <td> LEAP</td>\n",
       "    </tr>\n",
       "    <tr>\n",
       "      <th>7771981</th>\n",
       "      <td> 20150601</td>\n",
       "      <td> SPXW</td>\n",
       "      <td> 20160331</td>\n",
       "      <td> 2400</td>\n",
       "      <td> P</td>\n",
       "      <td> 0</td>\n",
       "      <td> 0</td>\n",
       "      <td> 0</td>\n",
       "      <td> 0</td>\n",
       "      <td> 0</td>\n",
       "      <td> 0</td>\n",
       "      <td> LEAP</td>\n",
       "    </tr>\n",
       "    <tr>\n",
       "      <th>7771982</th>\n",
       "      <td> 20150601</td>\n",
       "      <td> SPXW</td>\n",
       "      <td> 20160331</td>\n",
       "      <td> 2500</td>\n",
       "      <td> P</td>\n",
       "      <td> 0</td>\n",
       "      <td> 0</td>\n",
       "      <td> 0</td>\n",
       "      <td> 0</td>\n",
       "      <td> 0</td>\n",
       "      <td> 0</td>\n",
       "      <td> LEAP</td>\n",
       "    </tr>\n",
       "    <tr>\n",
       "      <th>7771983</th>\n",
       "      <td> 20150601</td>\n",
       "      <td> SPXW</td>\n",
       "      <td> 20160331</td>\n",
       "      <td> 2600</td>\n",
       "      <td> P</td>\n",
       "      <td> 0</td>\n",
       "      <td> 0</td>\n",
       "      <td> 0</td>\n",
       "      <td> 0</td>\n",
       "      <td> 0</td>\n",
       "      <td> 0</td>\n",
       "      <td> LEAP</td>\n",
       "    </tr>\n",
       "    <tr>\n",
       "      <th>7771984</th>\n",
       "      <td> 20150601</td>\n",
       "      <td> SPXW</td>\n",
       "      <td> 20160331</td>\n",
       "      <td> 2700</td>\n",
       "      <td> P</td>\n",
       "      <td> 0</td>\n",
       "      <td> 0</td>\n",
       "      <td> 0</td>\n",
       "      <td> 0</td>\n",
       "      <td> 0</td>\n",
       "      <td> 0</td>\n",
       "      <td> LEAP</td>\n",
       "    </tr>\n",
       "  </tbody>\n",
       "</table>\n",
       "</div>"
      ],
      "text/plain": [
       "             date    cl       exp  strike pc  oi  vol  high  low  open  last  \\\n",
       "7771980  20150601  SPXW  20160331    2300  P   0    0     0    0     0     0   \n",
       "7771981  20150601  SPXW  20160331    2400  P   0    0     0    0     0     0   \n",
       "7771982  20150601  SPXW  20160331    2500  P   0    0     0    0     0     0   \n",
       "7771983  20150601  SPXW  20160331    2600  P   0    0     0    0     0     0   \n",
       "7771984  20150601  SPXW  20160331    2700  P   0    0     0    0     0     0   \n",
       "\n",
       "           ty  \n",
       "7771980  LEAP  \n",
       "7771981  LEAP  \n",
       "7771982  LEAP  \n",
       "7771983  LEAP  \n",
       "7771984  LEAP  "
      ]
     },
     "execution_count": 11,
     "metadata": {},
     "output_type": "execute_result"
    }
   ],
   "source": [
    "spx_all.tail(5)"
   ]
  },
  {
   "cell_type": "code",
   "execution_count": 88,
   "metadata": {
    "collapsed": false
   },
   "outputs": [],
   "source": [
    "spxt = spx_all[spx_all.ty == 'Standard']"
   ]
  },
  {
   "cell_type": "code",
   "execution_count": 89,
   "metadata": {
    "collapsed": false
   },
   "outputs": [
    {
     "data": {
      "text/plain": [
       "4722723"
      ]
     },
     "execution_count": 89,
     "metadata": {},
     "output_type": "execute_result"
    }
   ],
   "source": [
    "len(spxt)"
   ]
  },
  {
   "cell_type": "code",
   "execution_count": 90,
   "metadata": {
    "collapsed": false
   },
   "outputs": [],
   "source": [
    "spxc = spxt[spxt.cl == 'SPX']"
   ]
  },
  {
   "cell_type": "code",
   "execution_count": 91,
   "metadata": {
    "collapsed": false
   },
   "outputs": [
    {
     "data": {
      "text/plain": [
       "2406884"
      ]
     },
     "execution_count": 91,
     "metadata": {},
     "output_type": "execute_result"
    }
   ],
   "source": [
    "len(spxc)"
   ]
  },
  {
   "cell_type": "code",
   "execution_count": 92,
   "metadata": {
    "collapsed": false
   },
   "outputs": [
    {
     "name": "stderr",
     "output_type": "stream",
     "text": [
      "/usr/local/lib/python2.7/site-packages/IPython/kernel/__main__.py:1: SettingWithCopyWarning: \n",
      "A value is trying to be set on a copy of a slice from a DataFrame.\n",
      "Try using .loc[row_indexer,col_indexer] = value instead\n",
      "\n",
      "See the the caveats in the documentation: http://pandas.pydata.org/pandas-docs/stable/indexing.html#indexing-view-versus-copy\n",
      "  if __name__ == '__main__':\n",
      "/usr/local/lib/python2.7/site-packages/IPython/kernel/__main__.py:2: SettingWithCopyWarning: \n",
      "A value is trying to be set on a copy of a slice from a DataFrame.\n",
      "Try using .loc[row_indexer,col_indexer] = value instead\n",
      "\n",
      "See the the caveats in the documentation: http://pandas.pydata.org/pandas-docs/stable/indexing.html#indexing-view-versus-copy\n",
      "  from IPython.kernel.zmq import kernelapp as app\n"
     ]
    },
    {
     "name": "stdout",
     "output_type": "stream",
     "text": [
      "<class 'pandas.tslib.Timestamp'>\n"
     ]
    }
   ],
   "source": [
    "spxc['date'] = spxc['date'].astype('string')\n",
    "spxc['exp'] = spxc['exp'].astype('string')"
   ]
  },
  {
   "cell_type": "code",
   "execution_count": 98,
   "metadata": {
    "collapsed": false
   },
   "outputs": [
    {
     "name": "stderr",
     "output_type": "stream",
     "text": [
      "/usr/local/lib/python2.7/site-packages/IPython/kernel/__main__.py:1: SettingWithCopyWarning: \n",
      "A value is trying to be set on a copy of a slice from a DataFrame.\n",
      "Try using .loc[row_indexer,col_indexer] = value instead\n",
      "\n",
      "See the the caveats in the documentation: http://pandas.pydata.org/pandas-docs/stable/indexing.html#indexing-view-versus-copy\n",
      "  if __name__ == '__main__':\n",
      "/usr/local/lib/python2.7/site-packages/IPython/kernel/__main__.py:2: SettingWithCopyWarning: \n",
      "A value is trying to be set on a copy of a slice from a DataFrame.\n",
      "Try using .loc[row_indexer,col_indexer] = value instead\n",
      "\n",
      "See the the caveats in the documentation: http://pandas.pydata.org/pandas-docs/stable/indexing.html#indexing-view-versus-copy\n",
      "  from IPython.kernel.zmq import kernelapp as app\n"
     ]
    }
   ],
   "source": [
    "spxc['date'] = pd.to_datetime(spxc['date'])\n",
    "spxc['exp'] = pd.to_datetime(spxc['exp'])"
   ]
  },
  {
   "cell_type": "code",
   "execution_count": 99,
   "metadata": {
    "collapsed": false
   },
   "outputs": [
    {
     "data": {
      "text/html": [
       "<div style=\"max-height:1000px;max-width:1500px;overflow:auto;\">\n",
       "<table border=\"1\" class=\"dataframe\">\n",
       "  <thead>\n",
       "    <tr style=\"text-align: right;\">\n",
       "      <th></th>\n",
       "      <th>date</th>\n",
       "      <th>cl</th>\n",
       "      <th>exp</th>\n",
       "      <th>strike</th>\n",
       "      <th>pc</th>\n",
       "      <th>oi</th>\n",
       "      <th>vol</th>\n",
       "      <th>high</th>\n",
       "      <th>low</th>\n",
       "      <th>open</th>\n",
       "      <th>last</th>\n",
       "      <th>ty</th>\n",
       "    </tr>\n",
       "  </thead>\n",
       "  <tbody>\n",
       "    <tr>\n",
       "      <th>86</th>\n",
       "      <td>1990-01-02</td>\n",
       "      <td> SPX</td>\n",
       "      <td>1990-01-20</td>\n",
       "      <td> 320</td>\n",
       "      <td> C</td>\n",
       "      <td> 1088</td>\n",
       "      <td>  0</td>\n",
       "      <td>  0.000</td>\n",
       "      <td>  0.0</td>\n",
       "      <td>  0.00</td>\n",
       "      <td>  0.000</td>\n",
       "      <td> Standard</td>\n",
       "    </tr>\n",
       "    <tr>\n",
       "      <th>87</th>\n",
       "      <td>1990-01-02</td>\n",
       "      <td> SPX</td>\n",
       "      <td>1990-01-20</td>\n",
       "      <td> 325</td>\n",
       "      <td> C</td>\n",
       "      <td> 1252</td>\n",
       "      <td>  0</td>\n",
       "      <td>  0.000</td>\n",
       "      <td>  0.0</td>\n",
       "      <td>  0.00</td>\n",
       "      <td>  0.000</td>\n",
       "      <td> Standard</td>\n",
       "    </tr>\n",
       "    <tr>\n",
       "      <th>88</th>\n",
       "      <td>1990-01-02</td>\n",
       "      <td> SPX</td>\n",
       "      <td>1990-01-20</td>\n",
       "      <td> 330</td>\n",
       "      <td> C</td>\n",
       "      <td> 8738</td>\n",
       "      <td> 25</td>\n",
       "      <td> 30.500</td>\n",
       "      <td> 30.5</td>\n",
       "      <td> 30.50</td>\n",
       "      <td> 30.500</td>\n",
       "      <td> Standard</td>\n",
       "    </tr>\n",
       "    <tr>\n",
       "      <th>89</th>\n",
       "      <td>1990-01-02</td>\n",
       "      <td> SPX</td>\n",
       "      <td>1990-01-20</td>\n",
       "      <td> 335</td>\n",
       "      <td> C</td>\n",
       "      <td>  580</td>\n",
       "      <td>  0</td>\n",
       "      <td>  0.000</td>\n",
       "      <td>  0.0</td>\n",
       "      <td>  0.00</td>\n",
       "      <td>  0.000</td>\n",
       "      <td> Standard</td>\n",
       "    </tr>\n",
       "    <tr>\n",
       "      <th>90</th>\n",
       "      <td>1990-01-02</td>\n",
       "      <td> SPX</td>\n",
       "      <td>1990-01-20</td>\n",
       "      <td> 340</td>\n",
       "      <td> C</td>\n",
       "      <td> 2480</td>\n",
       "      <td> 27</td>\n",
       "      <td> 17.625</td>\n",
       "      <td> 17.0</td>\n",
       "      <td> 17.25</td>\n",
       "      <td> 17.625</td>\n",
       "      <td> Standard</td>\n",
       "    </tr>\n",
       "  </tbody>\n",
       "</table>\n",
       "</div>"
      ],
      "text/plain": [
       "         date   cl        exp  strike pc    oi  vol    high   low   open  \\\n",
       "86 1990-01-02  SPX 1990-01-20     320  C  1088    0   0.000   0.0   0.00   \n",
       "87 1990-01-02  SPX 1990-01-20     325  C  1252    0   0.000   0.0   0.00   \n",
       "88 1990-01-02  SPX 1990-01-20     330  C  8738   25  30.500  30.5  30.50   \n",
       "89 1990-01-02  SPX 1990-01-20     335  C   580    0   0.000   0.0   0.00   \n",
       "90 1990-01-02  SPX 1990-01-20     340  C  2480   27  17.625  17.0  17.25   \n",
       "\n",
       "      last        ty  \n",
       "86   0.000  Standard  \n",
       "87   0.000  Standard  \n",
       "88  30.500  Standard  \n",
       "89   0.000  Standard  \n",
       "90  17.625  Standard  "
      ]
     },
     "execution_count": 99,
     "metadata": {},
     "output_type": "execute_result"
    }
   ],
   "source": [
    "spxc.head(5)"
   ]
  },
  {
   "cell_type": "code",
   "execution_count": 100,
   "metadata": {
    "collapsed": false
   },
   "outputs": [
    {
     "data": {
      "text/html": [
       "<div style=\"max-height:1000px;max-width:1500px;overflow:auto;\">\n",
       "<table border=\"1\" class=\"dataframe\">\n",
       "  <thead>\n",
       "    <tr style=\"text-align: right;\">\n",
       "      <th></th>\n",
       "      <th>date</th>\n",
       "      <th>cl</th>\n",
       "      <th>exp</th>\n",
       "      <th>strike</th>\n",
       "      <th>pc</th>\n",
       "      <th>oi</th>\n",
       "      <th>vol</th>\n",
       "      <th>high</th>\n",
       "      <th>low</th>\n",
       "      <th>open</th>\n",
       "      <th>last</th>\n",
       "      <th>ty</th>\n",
       "    </tr>\n",
       "  </thead>\n",
       "  <tbody>\n",
       "    <tr>\n",
       "      <th>7766562</th>\n",
       "      <td>2015-06-01</td>\n",
       "      <td> SPX</td>\n",
       "      <td>2016-03-18</td>\n",
       "      <td> 2600</td>\n",
       "      <td> P</td>\n",
       "      <td>  0</td>\n",
       "      <td> 0</td>\n",
       "      <td> 0</td>\n",
       "      <td> 0</td>\n",
       "      <td> 0</td>\n",
       "      <td> 0</td>\n",
       "      <td> Standard</td>\n",
       "    </tr>\n",
       "    <tr>\n",
       "      <th>7766563</th>\n",
       "      <td>2015-06-01</td>\n",
       "      <td> SPX</td>\n",
       "      <td>2016-03-18</td>\n",
       "      <td> 2700</td>\n",
       "      <td> P</td>\n",
       "      <td>  0</td>\n",
       "      <td> 0</td>\n",
       "      <td> 0</td>\n",
       "      <td> 0</td>\n",
       "      <td> 0</td>\n",
       "      <td> 0</td>\n",
       "      <td> Standard</td>\n",
       "    </tr>\n",
       "    <tr>\n",
       "      <th>7766564</th>\n",
       "      <td>2015-06-01</td>\n",
       "      <td> SPX</td>\n",
       "      <td>2016-03-18</td>\n",
       "      <td> 2800</td>\n",
       "      <td> P</td>\n",
       "      <td>  2</td>\n",
       "      <td> 0</td>\n",
       "      <td> 0</td>\n",
       "      <td> 0</td>\n",
       "      <td> 0</td>\n",
       "      <td> 0</td>\n",
       "      <td> Standard</td>\n",
       "    </tr>\n",
       "    <tr>\n",
       "      <th>7766565</th>\n",
       "      <td>2015-06-01</td>\n",
       "      <td> SPX</td>\n",
       "      <td>2016-03-18</td>\n",
       "      <td> 2900</td>\n",
       "      <td> P</td>\n",
       "      <td> 12</td>\n",
       "      <td> 0</td>\n",
       "      <td> 0</td>\n",
       "      <td> 0</td>\n",
       "      <td> 0</td>\n",
       "      <td> 0</td>\n",
       "      <td> Standard</td>\n",
       "    </tr>\n",
       "    <tr>\n",
       "      <th>7766566</th>\n",
       "      <td>2015-06-01</td>\n",
       "      <td> SPX</td>\n",
       "      <td>2016-03-18</td>\n",
       "      <td> 3000</td>\n",
       "      <td> P</td>\n",
       "      <td> 12</td>\n",
       "      <td> 0</td>\n",
       "      <td> 0</td>\n",
       "      <td> 0</td>\n",
       "      <td> 0</td>\n",
       "      <td> 0</td>\n",
       "      <td> Standard</td>\n",
       "    </tr>\n",
       "  </tbody>\n",
       "</table>\n",
       "</div>"
      ],
      "text/plain": [
       "              date   cl        exp  strike pc  oi  vol  high  low  open  last  \\\n",
       "7766562 2015-06-01  SPX 2016-03-18    2600  P   0    0     0    0     0     0   \n",
       "7766563 2015-06-01  SPX 2016-03-18    2700  P   0    0     0    0     0     0   \n",
       "7766564 2015-06-01  SPX 2016-03-18    2800  P   2    0     0    0     0     0   \n",
       "7766565 2015-06-01  SPX 2016-03-18    2900  P  12    0     0    0     0     0   \n",
       "7766566 2015-06-01  SPX 2016-03-18    3000  P  12    0     0    0     0     0   \n",
       "\n",
       "               ty  \n",
       "7766562  Standard  \n",
       "7766563  Standard  \n",
       "7766564  Standard  \n",
       "7766565  Standard  \n",
       "7766566  Standard  "
      ]
     },
     "execution_count": 100,
     "metadata": {},
     "output_type": "execute_result"
    }
   ],
   "source": [
    "spxc.tail(5)"
   ]
  },
  {
   "cell_type": "code",
   "execution_count": 101,
   "metadata": {
    "collapsed": false
   },
   "outputs": [
    {
     "data": {
      "text/plain": [
       "pandas.tslib.Timestamp"
      ]
     },
     "execution_count": 101,
     "metadata": {},
     "output_type": "execute_result"
    }
   ],
   "source": [
    "type(spxc.date[7766562])"
   ]
  },
  {
   "cell_type": "code",
   "execution_count": 106,
   "metadata": {
    "collapsed": false
   },
   "outputs": [],
   "source": [
    "weekdays = []\n",
    "for w in spxc['date']:\n",
    "    weekdays.append(w.weekday())"
   ]
  },
  {
   "cell_type": "code",
   "execution_count": 112,
   "metadata": {
    "collapsed": false
   },
   "outputs": [
    {
     "data": {
      "text/plain": [
       "1238226"
      ]
     },
     "execution_count": 112,
     "metadata": {},
     "output_type": "execute_result"
    }
   ],
   "source": [
    "quarters = []\n",
    "for q in spxc['exp']:\n",
    "    if q.month % 3 == 0:\n",
    "        quarters.append(1)\n",
    "    else:\n",
    "        quarters.append(0)\n",
    "\n",
    "sum(quarters)"
   ]
  },
  {
   "cell_type": "code",
   "execution_count": 113,
   "metadata": {
    "collapsed": false
   },
   "outputs": [
    {
     "name": "stderr",
     "output_type": "stream",
     "text": [
      "/usr/local/lib/python2.7/site-packages/IPython/kernel/__main__.py:1: SettingWithCopyWarning: \n",
      "A value is trying to be set on a copy of a slice from a DataFrame.\n",
      "Try using .loc[row_indexer,col_indexer] = value instead\n",
      "\n",
      "See the the caveats in the documentation: http://pandas.pydata.org/pandas-docs/stable/indexing.html#indexing-view-versus-copy\n",
      "  if __name__ == '__main__':\n",
      "/usr/local/lib/python2.7/site-packages/IPython/kernel/__main__.py:2: SettingWithCopyWarning: \n",
      "A value is trying to be set on a copy of a slice from a DataFrame.\n",
      "Try using .loc[row_indexer,col_indexer] = value instead\n",
      "\n",
      "See the the caveats in the documentation: http://pandas.pydata.org/pandas-docs/stable/indexing.html#indexing-view-versus-copy\n",
      "  from IPython.kernel.zmq import kernelapp as app\n"
     ]
    }
   ],
   "source": [
    "spxc['weekdays'] = weekdays\n",
    "spxc['quarters'] = quarters"
   ]
  },
  {
   "cell_type": "code",
   "execution_count": 114,
   "metadata": {
    "collapsed": false
   },
   "outputs": [
    {
     "data": {
      "text/html": [
       "<div style=\"max-height:1000px;max-width:1500px;overflow:auto;\">\n",
       "<table border=\"1\" class=\"dataframe\">\n",
       "  <thead>\n",
       "    <tr style=\"text-align: right;\">\n",
       "      <th></th>\n",
       "      <th>date</th>\n",
       "      <th>cl</th>\n",
       "      <th>exp</th>\n",
       "      <th>strike</th>\n",
       "      <th>pc</th>\n",
       "      <th>oi</th>\n",
       "      <th>vol</th>\n",
       "      <th>high</th>\n",
       "      <th>low</th>\n",
       "      <th>open</th>\n",
       "      <th>last</th>\n",
       "      <th>ty</th>\n",
       "      <th>weekdays</th>\n",
       "      <th>quarters</th>\n",
       "    </tr>\n",
       "  </thead>\n",
       "  <tbody>\n",
       "    <tr>\n",
       "      <th>86</th>\n",
       "      <td>1990-01-02</td>\n",
       "      <td> SPX</td>\n",
       "      <td>1990-01-20</td>\n",
       "      <td> 320</td>\n",
       "      <td> C</td>\n",
       "      <td> 1088</td>\n",
       "      <td>  0</td>\n",
       "      <td>  0.000</td>\n",
       "      <td>  0.0</td>\n",
       "      <td>  0.00</td>\n",
       "      <td>  0.000</td>\n",
       "      <td> Standard</td>\n",
       "      <td> 1</td>\n",
       "      <td> 0</td>\n",
       "    </tr>\n",
       "    <tr>\n",
       "      <th>87</th>\n",
       "      <td>1990-01-02</td>\n",
       "      <td> SPX</td>\n",
       "      <td>1990-01-20</td>\n",
       "      <td> 325</td>\n",
       "      <td> C</td>\n",
       "      <td> 1252</td>\n",
       "      <td>  0</td>\n",
       "      <td>  0.000</td>\n",
       "      <td>  0.0</td>\n",
       "      <td>  0.00</td>\n",
       "      <td>  0.000</td>\n",
       "      <td> Standard</td>\n",
       "      <td> 1</td>\n",
       "      <td> 0</td>\n",
       "    </tr>\n",
       "    <tr>\n",
       "      <th>88</th>\n",
       "      <td>1990-01-02</td>\n",
       "      <td> SPX</td>\n",
       "      <td>1990-01-20</td>\n",
       "      <td> 330</td>\n",
       "      <td> C</td>\n",
       "      <td> 8738</td>\n",
       "      <td> 25</td>\n",
       "      <td> 30.500</td>\n",
       "      <td> 30.5</td>\n",
       "      <td> 30.50</td>\n",
       "      <td> 30.500</td>\n",
       "      <td> Standard</td>\n",
       "      <td> 1</td>\n",
       "      <td> 0</td>\n",
       "    </tr>\n",
       "    <tr>\n",
       "      <th>89</th>\n",
       "      <td>1990-01-02</td>\n",
       "      <td> SPX</td>\n",
       "      <td>1990-01-20</td>\n",
       "      <td> 335</td>\n",
       "      <td> C</td>\n",
       "      <td>  580</td>\n",
       "      <td>  0</td>\n",
       "      <td>  0.000</td>\n",
       "      <td>  0.0</td>\n",
       "      <td>  0.00</td>\n",
       "      <td>  0.000</td>\n",
       "      <td> Standard</td>\n",
       "      <td> 1</td>\n",
       "      <td> 0</td>\n",
       "    </tr>\n",
       "    <tr>\n",
       "      <th>90</th>\n",
       "      <td>1990-01-02</td>\n",
       "      <td> SPX</td>\n",
       "      <td>1990-01-20</td>\n",
       "      <td> 340</td>\n",
       "      <td> C</td>\n",
       "      <td> 2480</td>\n",
       "      <td> 27</td>\n",
       "      <td> 17.625</td>\n",
       "      <td> 17.0</td>\n",
       "      <td> 17.25</td>\n",
       "      <td> 17.625</td>\n",
       "      <td> Standard</td>\n",
       "      <td> 1</td>\n",
       "      <td> 0</td>\n",
       "    </tr>\n",
       "  </tbody>\n",
       "</table>\n",
       "</div>"
      ],
      "text/plain": [
       "         date   cl        exp  strike pc    oi  vol    high   low   open  \\\n",
       "86 1990-01-02  SPX 1990-01-20     320  C  1088    0   0.000   0.0   0.00   \n",
       "87 1990-01-02  SPX 1990-01-20     325  C  1252    0   0.000   0.0   0.00   \n",
       "88 1990-01-02  SPX 1990-01-20     330  C  8738   25  30.500  30.5  30.50   \n",
       "89 1990-01-02  SPX 1990-01-20     335  C   580    0   0.000   0.0   0.00   \n",
       "90 1990-01-02  SPX 1990-01-20     340  C  2480   27  17.625  17.0  17.25   \n",
       "\n",
       "      last        ty  weekdays  quarters  \n",
       "86   0.000  Standard         1         0  \n",
       "87   0.000  Standard         1         0  \n",
       "88  30.500  Standard         1         0  \n",
       "89   0.000  Standard         1         0  \n",
       "90  17.625  Standard         1         0  "
      ]
     },
     "execution_count": 114,
     "metadata": {},
     "output_type": "execute_result"
    }
   ],
   "source": [
    "spxc.head(5)"
   ]
  },
  {
   "cell_type": "code",
   "execution_count": 115,
   "metadata": {
    "collapsed": false
   },
   "outputs": [],
   "source": [
    "spxw = spxc[spxc['weekdays'] == 4]\n",
    "spxq = spxw[spxw['quarters'] == 1]"
   ]
  },
  {
   "cell_type": "code",
   "execution_count": 116,
   "metadata": {
    "collapsed": false
   },
   "outputs": [
    {
     "data": {
      "text/plain": [
       "246258"
      ]
     },
     "execution_count": 116,
     "metadata": {},
     "output_type": "execute_result"
    }
   ],
   "source": [
    "len(spxq)"
   ]
  },
  {
   "cell_type": "code",
   "execution_count": 119,
   "metadata": {
    "collapsed": false
   },
   "outputs": [
    {
     "data": {
      "text/html": [
       "<div style=\"max-height:1000px;max-width:1500px;overflow:auto;\">\n",
       "<table border=\"1\" class=\"dataframe\">\n",
       "  <thead>\n",
       "    <tr style=\"text-align: right;\">\n",
       "      <th></th>\n",
       "      <th>date</th>\n",
       "      <th>cl</th>\n",
       "      <th>exp</th>\n",
       "      <th>strike</th>\n",
       "      <th>pc</th>\n",
       "      <th>oi</th>\n",
       "      <th>vol</th>\n",
       "      <th>high</th>\n",
       "      <th>low</th>\n",
       "      <th>open</th>\n",
       "      <th>last</th>\n",
       "      <th>ty</th>\n",
       "      <th>weekdays</th>\n",
       "      <th>quarters</th>\n",
       "    </tr>\n",
       "  </thead>\n",
       "  <tbody>\n",
       "    <tr>\n",
       "      <th>770</th>\n",
       "      <td>1990-01-05</td>\n",
       "      <td> SPX</td>\n",
       "      <td>1990-12-22</td>\n",
       "      <td> 250</td>\n",
       "      <td> C</td>\n",
       "      <td>  320</td>\n",
       "      <td> 0</td>\n",
       "      <td> 0</td>\n",
       "      <td> 0</td>\n",
       "      <td> 0</td>\n",
       "      <td> 0</td>\n",
       "      <td> Standard</td>\n",
       "      <td> 4</td>\n",
       "      <td> 1</td>\n",
       "    </tr>\n",
       "    <tr>\n",
       "      <th>771</th>\n",
       "      <td>1990-01-05</td>\n",
       "      <td> SPX</td>\n",
       "      <td>1990-12-22</td>\n",
       "      <td> 250</td>\n",
       "      <td> P</td>\n",
       "      <td> 4045</td>\n",
       "      <td> 0</td>\n",
       "      <td> 0</td>\n",
       "      <td> 0</td>\n",
       "      <td> 0</td>\n",
       "      <td> 0</td>\n",
       "      <td> Standard</td>\n",
       "      <td> 4</td>\n",
       "      <td> 1</td>\n",
       "    </tr>\n",
       "    <tr>\n",
       "      <th>772</th>\n",
       "      <td>1990-01-05</td>\n",
       "      <td> SPX</td>\n",
       "      <td>1990-12-22</td>\n",
       "      <td> 275</td>\n",
       "      <td> C</td>\n",
       "      <td>    3</td>\n",
       "      <td> 0</td>\n",
       "      <td> 0</td>\n",
       "      <td> 0</td>\n",
       "      <td> 0</td>\n",
       "      <td> 0</td>\n",
       "      <td> Standard</td>\n",
       "      <td> 4</td>\n",
       "      <td> 1</td>\n",
       "    </tr>\n",
       "    <tr>\n",
       "      <th>773</th>\n",
       "      <td>1990-01-05</td>\n",
       "      <td> SPX</td>\n",
       "      <td>1990-12-22</td>\n",
       "      <td> 275</td>\n",
       "      <td> P</td>\n",
       "      <td>  400</td>\n",
       "      <td> 0</td>\n",
       "      <td> 0</td>\n",
       "      <td> 0</td>\n",
       "      <td> 0</td>\n",
       "      <td> 0</td>\n",
       "      <td> Standard</td>\n",
       "      <td> 4</td>\n",
       "      <td> 1</td>\n",
       "    </tr>\n",
       "    <tr>\n",
       "      <th>774</th>\n",
       "      <td>1990-01-05</td>\n",
       "      <td> SPX</td>\n",
       "      <td>1990-12-22</td>\n",
       "      <td> 300</td>\n",
       "      <td> C</td>\n",
       "      <td>    0</td>\n",
       "      <td> 0</td>\n",
       "      <td> 0</td>\n",
       "      <td> 0</td>\n",
       "      <td> 0</td>\n",
       "      <td> 0</td>\n",
       "      <td> Standard</td>\n",
       "      <td> 4</td>\n",
       "      <td> 1</td>\n",
       "    </tr>\n",
       "  </tbody>\n",
       "</table>\n",
       "</div>"
      ],
      "text/plain": [
       "          date   cl        exp  strike pc    oi  vol  high  low  open  last  \\\n",
       "770 1990-01-05  SPX 1990-12-22     250  C   320    0     0    0     0     0   \n",
       "771 1990-01-05  SPX 1990-12-22     250  P  4045    0     0    0     0     0   \n",
       "772 1990-01-05  SPX 1990-12-22     275  C     3    0     0    0     0     0   \n",
       "773 1990-01-05  SPX 1990-12-22     275  P   400    0     0    0     0     0   \n",
       "774 1990-01-05  SPX 1990-12-22     300  C     0    0     0    0     0     0   \n",
       "\n",
       "           ty  weekdays  quarters  \n",
       "770  Standard         4         1  \n",
       "771  Standard         4         1  \n",
       "772  Standard         4         1  \n",
       "773  Standard         4         1  \n",
       "774  Standard         4         1  "
      ]
     },
     "execution_count": 119,
     "metadata": {},
     "output_type": "execute_result"
    }
   ],
   "source": [
    "spxq.head(5)"
   ]
  },
  {
   "cell_type": "code",
   "execution_count": 134,
   "metadata": {
    "collapsed": false
   },
   "outputs": [
    {
     "data": {
      "text/html": [
       "<div style=\"max-height:1000px;max-width:1500px;overflow:auto;\">\n",
       "<table border=\"1\" class=\"dataframe\">\n",
       "  <thead>\n",
       "    <tr style=\"text-align: right;\">\n",
       "      <th></th>\n",
       "      <th>date</th>\n",
       "      <th>cl</th>\n",
       "      <th>exp</th>\n",
       "      <th>strike</th>\n",
       "      <th>pc</th>\n",
       "      <th>oi</th>\n",
       "      <th>vol</th>\n",
       "      <th>high</th>\n",
       "      <th>low</th>\n",
       "      <th>open</th>\n",
       "      <th>last</th>\n",
       "      <th>ty</th>\n",
       "      <th>weekdays</th>\n",
       "      <th>quarters</th>\n",
       "    </tr>\n",
       "  </thead>\n",
       "  <tbody>\n",
       "    <tr>\n",
       "      <th>7758792</th>\n",
       "      <td>2015-05-29</td>\n",
       "      <td> SPX</td>\n",
       "      <td>2016-03-18</td>\n",
       "      <td> 2600</td>\n",
       "      <td> P</td>\n",
       "      <td>  0</td>\n",
       "      <td> 0</td>\n",
       "      <td> 0</td>\n",
       "      <td> 0</td>\n",
       "      <td> 0</td>\n",
       "      <td> 0</td>\n",
       "      <td> Standard</td>\n",
       "      <td> 4</td>\n",
       "      <td> 1</td>\n",
       "    </tr>\n",
       "    <tr>\n",
       "      <th>7758793</th>\n",
       "      <td>2015-05-29</td>\n",
       "      <td> SPX</td>\n",
       "      <td>2016-03-18</td>\n",
       "      <td> 2700</td>\n",
       "      <td> P</td>\n",
       "      <td>  0</td>\n",
       "      <td> 0</td>\n",
       "      <td> 0</td>\n",
       "      <td> 0</td>\n",
       "      <td> 0</td>\n",
       "      <td> 0</td>\n",
       "      <td> Standard</td>\n",
       "      <td> 4</td>\n",
       "      <td> 1</td>\n",
       "    </tr>\n",
       "    <tr>\n",
       "      <th>7758794</th>\n",
       "      <td>2015-05-29</td>\n",
       "      <td> SPX</td>\n",
       "      <td>2016-03-18</td>\n",
       "      <td> 2800</td>\n",
       "      <td> P</td>\n",
       "      <td>  2</td>\n",
       "      <td> 0</td>\n",
       "      <td> 0</td>\n",
       "      <td> 0</td>\n",
       "      <td> 0</td>\n",
       "      <td> 0</td>\n",
       "      <td> Standard</td>\n",
       "      <td> 4</td>\n",
       "      <td> 1</td>\n",
       "    </tr>\n",
       "    <tr>\n",
       "      <th>7758795</th>\n",
       "      <td>2015-05-29</td>\n",
       "      <td> SPX</td>\n",
       "      <td>2016-03-18</td>\n",
       "      <td> 2900</td>\n",
       "      <td> P</td>\n",
       "      <td> 12</td>\n",
       "      <td> 0</td>\n",
       "      <td> 0</td>\n",
       "      <td> 0</td>\n",
       "      <td> 0</td>\n",
       "      <td> 0</td>\n",
       "      <td> Standard</td>\n",
       "      <td> 4</td>\n",
       "      <td> 1</td>\n",
       "    </tr>\n",
       "    <tr>\n",
       "      <th>7758796</th>\n",
       "      <td>2015-05-29</td>\n",
       "      <td> SPX</td>\n",
       "      <td>2016-03-18</td>\n",
       "      <td> 3000</td>\n",
       "      <td> P</td>\n",
       "      <td> 12</td>\n",
       "      <td> 0</td>\n",
       "      <td> 0</td>\n",
       "      <td> 0</td>\n",
       "      <td> 0</td>\n",
       "      <td> 0</td>\n",
       "      <td> Standard</td>\n",
       "      <td> 4</td>\n",
       "      <td> 1</td>\n",
       "    </tr>\n",
       "  </tbody>\n",
       "</table>\n",
       "</div>"
      ],
      "text/plain": [
       "              date   cl        exp  strike pc  oi  vol  high  low  open  last  \\\n",
       "7758792 2015-05-29  SPX 2016-03-18    2600  P   0    0     0    0     0     0   \n",
       "7758793 2015-05-29  SPX 2016-03-18    2700  P   0    0     0    0     0     0   \n",
       "7758794 2015-05-29  SPX 2016-03-18    2800  P   2    0     0    0     0     0   \n",
       "7758795 2015-05-29  SPX 2016-03-18    2900  P  12    0     0    0     0     0   \n",
       "7758796 2015-05-29  SPX 2016-03-18    3000  P  12    0     0    0     0     0   \n",
       "\n",
       "               ty  weekdays  quarters  \n",
       "7758792  Standard         4         1  \n",
       "7758793  Standard         4         1  \n",
       "7758794  Standard         4         1  \n",
       "7758795  Standard         4         1  \n",
       "7758796  Standard         4         1  "
      ]
     },
     "execution_count": 134,
     "metadata": {},
     "output_type": "execute_result"
    }
   ],
   "source": [
    "spxq.tail(5)"
   ]
  },
  {
   "cell_type": "code",
   "execution_count": 135,
   "metadata": {
    "collapsed": false
   },
   "outputs": [],
   "source": [
    "spxr = spxq.drop(['cl', 'ty', 'weekdays', 'quarters'], 1)"
   ]
  },
  {
   "cell_type": "code",
   "execution_count": 136,
   "metadata": {
    "collapsed": false
   },
   "outputs": [
    {
     "data": {
      "text/html": [
       "<div style=\"max-height:1000px;max-width:1500px;overflow:auto;\">\n",
       "<table border=\"1\" class=\"dataframe\">\n",
       "  <thead>\n",
       "    <tr style=\"text-align: right;\">\n",
       "      <th></th>\n",
       "      <th>date</th>\n",
       "      <th>exp</th>\n",
       "      <th>strike</th>\n",
       "      <th>pc</th>\n",
       "      <th>oi</th>\n",
       "      <th>vol</th>\n",
       "      <th>high</th>\n",
       "      <th>low</th>\n",
       "      <th>open</th>\n",
       "      <th>last</th>\n",
       "    </tr>\n",
       "  </thead>\n",
       "  <tbody>\n",
       "    <tr>\n",
       "      <th>770</th>\n",
       "      <td>1990-01-05</td>\n",
       "      <td>1990-12-22</td>\n",
       "      <td> 250</td>\n",
       "      <td> C</td>\n",
       "      <td>  320</td>\n",
       "      <td> 0</td>\n",
       "      <td> 0</td>\n",
       "      <td> 0</td>\n",
       "      <td> 0</td>\n",
       "      <td> 0</td>\n",
       "    </tr>\n",
       "    <tr>\n",
       "      <th>771</th>\n",
       "      <td>1990-01-05</td>\n",
       "      <td>1990-12-22</td>\n",
       "      <td> 250</td>\n",
       "      <td> P</td>\n",
       "      <td> 4045</td>\n",
       "      <td> 0</td>\n",
       "      <td> 0</td>\n",
       "      <td> 0</td>\n",
       "      <td> 0</td>\n",
       "      <td> 0</td>\n",
       "    </tr>\n",
       "    <tr>\n",
       "      <th>772</th>\n",
       "      <td>1990-01-05</td>\n",
       "      <td>1990-12-22</td>\n",
       "      <td> 275</td>\n",
       "      <td> C</td>\n",
       "      <td>    3</td>\n",
       "      <td> 0</td>\n",
       "      <td> 0</td>\n",
       "      <td> 0</td>\n",
       "      <td> 0</td>\n",
       "      <td> 0</td>\n",
       "    </tr>\n",
       "    <tr>\n",
       "      <th>773</th>\n",
       "      <td>1990-01-05</td>\n",
       "      <td>1990-12-22</td>\n",
       "      <td> 275</td>\n",
       "      <td> P</td>\n",
       "      <td>  400</td>\n",
       "      <td> 0</td>\n",
       "      <td> 0</td>\n",
       "      <td> 0</td>\n",
       "      <td> 0</td>\n",
       "      <td> 0</td>\n",
       "    </tr>\n",
       "    <tr>\n",
       "      <th>774</th>\n",
       "      <td>1990-01-05</td>\n",
       "      <td>1990-12-22</td>\n",
       "      <td> 300</td>\n",
       "      <td> C</td>\n",
       "      <td>    0</td>\n",
       "      <td> 0</td>\n",
       "      <td> 0</td>\n",
       "      <td> 0</td>\n",
       "      <td> 0</td>\n",
       "      <td> 0</td>\n",
       "    </tr>\n",
       "  </tbody>\n",
       "</table>\n",
       "</div>"
      ],
      "text/plain": [
       "          date        exp  strike pc    oi  vol  high  low  open  last\n",
       "770 1990-01-05 1990-12-22     250  C   320    0     0    0     0     0\n",
       "771 1990-01-05 1990-12-22     250  P  4045    0     0    0     0     0\n",
       "772 1990-01-05 1990-12-22     275  C     3    0     0    0     0     0\n",
       "773 1990-01-05 1990-12-22     275  P   400    0     0    0     0     0\n",
       "774 1990-01-05 1990-12-22     300  C     0    0     0    0     0     0"
      ]
     },
     "execution_count": 136,
     "metadata": {},
     "output_type": "execute_result"
    }
   ],
   "source": [
    "spxr.head(5)"
   ]
  },
  {
   "cell_type": "code",
   "execution_count": 137,
   "metadata": {
    "collapsed": false
   },
   "outputs": [],
   "source": [
    "spx = spxr.reset_index(drop=True)"
   ]
  },
  {
   "cell_type": "code",
   "execution_count": 138,
   "metadata": {
    "collapsed": false
   },
   "outputs": [
    {
     "data": {
      "text/html": [
       "<div style=\"max-height:1000px;max-width:1500px;overflow:auto;\">\n",
       "<table border=\"1\" class=\"dataframe\">\n",
       "  <thead>\n",
       "    <tr style=\"text-align: right;\">\n",
       "      <th></th>\n",
       "      <th>date</th>\n",
       "      <th>exp</th>\n",
       "      <th>strike</th>\n",
       "      <th>pc</th>\n",
       "      <th>oi</th>\n",
       "      <th>vol</th>\n",
       "      <th>high</th>\n",
       "      <th>low</th>\n",
       "      <th>open</th>\n",
       "      <th>last</th>\n",
       "    </tr>\n",
       "  </thead>\n",
       "  <tbody>\n",
       "    <tr>\n",
       "      <th>0</th>\n",
       "      <td>1990-01-05</td>\n",
       "      <td>1990-12-22</td>\n",
       "      <td> 250</td>\n",
       "      <td> C</td>\n",
       "      <td>  320</td>\n",
       "      <td> 0</td>\n",
       "      <td> 0</td>\n",
       "      <td> 0</td>\n",
       "      <td> 0</td>\n",
       "      <td> 0</td>\n",
       "    </tr>\n",
       "    <tr>\n",
       "      <th>1</th>\n",
       "      <td>1990-01-05</td>\n",
       "      <td>1990-12-22</td>\n",
       "      <td> 250</td>\n",
       "      <td> P</td>\n",
       "      <td> 4045</td>\n",
       "      <td> 0</td>\n",
       "      <td> 0</td>\n",
       "      <td> 0</td>\n",
       "      <td> 0</td>\n",
       "      <td> 0</td>\n",
       "    </tr>\n",
       "    <tr>\n",
       "      <th>2</th>\n",
       "      <td>1990-01-05</td>\n",
       "      <td>1990-12-22</td>\n",
       "      <td> 275</td>\n",
       "      <td> C</td>\n",
       "      <td>    3</td>\n",
       "      <td> 0</td>\n",
       "      <td> 0</td>\n",
       "      <td> 0</td>\n",
       "      <td> 0</td>\n",
       "      <td> 0</td>\n",
       "    </tr>\n",
       "    <tr>\n",
       "      <th>3</th>\n",
       "      <td>1990-01-05</td>\n",
       "      <td>1990-12-22</td>\n",
       "      <td> 275</td>\n",
       "      <td> P</td>\n",
       "      <td>  400</td>\n",
       "      <td> 0</td>\n",
       "      <td> 0</td>\n",
       "      <td> 0</td>\n",
       "      <td> 0</td>\n",
       "      <td> 0</td>\n",
       "    </tr>\n",
       "    <tr>\n",
       "      <th>4</th>\n",
       "      <td>1990-01-05</td>\n",
       "      <td>1990-12-22</td>\n",
       "      <td> 300</td>\n",
       "      <td> C</td>\n",
       "      <td>    0</td>\n",
       "      <td> 0</td>\n",
       "      <td> 0</td>\n",
       "      <td> 0</td>\n",
       "      <td> 0</td>\n",
       "      <td> 0</td>\n",
       "    </tr>\n",
       "  </tbody>\n",
       "</table>\n",
       "</div>"
      ],
      "text/plain": [
       "        date        exp  strike pc    oi  vol  high  low  open  last\n",
       "0 1990-01-05 1990-12-22     250  C   320    0     0    0     0     0\n",
       "1 1990-01-05 1990-12-22     250  P  4045    0     0    0     0     0\n",
       "2 1990-01-05 1990-12-22     275  C     3    0     0    0     0     0\n",
       "3 1990-01-05 1990-12-22     275  P   400    0     0    0     0     0\n",
       "4 1990-01-05 1990-12-22     300  C     0    0     0    0     0     0"
      ]
     },
     "execution_count": 138,
     "metadata": {},
     "output_type": "execute_result"
    }
   ],
   "source": [
    "spx.head(5)"
   ]
  },
  {
   "cell_type": "code",
   "execution_count": 139,
   "metadata": {
    "collapsed": false
   },
   "outputs": [
    {
     "data": {
      "text/html": [
       "<div style=\"max-height:1000px;max-width:1500px;overflow:auto;\">\n",
       "<table border=\"1\" class=\"dataframe\">\n",
       "  <thead>\n",
       "    <tr style=\"text-align: right;\">\n",
       "      <th></th>\n",
       "      <th>date</th>\n",
       "      <th>exp</th>\n",
       "      <th>strike</th>\n",
       "      <th>pc</th>\n",
       "      <th>oi</th>\n",
       "      <th>vol</th>\n",
       "      <th>high</th>\n",
       "      <th>low</th>\n",
       "      <th>open</th>\n",
       "      <th>last</th>\n",
       "    </tr>\n",
       "  </thead>\n",
       "  <tbody>\n",
       "    <tr>\n",
       "      <th>246253</th>\n",
       "      <td>2015-05-29</td>\n",
       "      <td>2016-03-18</td>\n",
       "      <td> 2600</td>\n",
       "      <td> P</td>\n",
       "      <td>  0</td>\n",
       "      <td> 0</td>\n",
       "      <td> 0</td>\n",
       "      <td> 0</td>\n",
       "      <td> 0</td>\n",
       "      <td> 0</td>\n",
       "    </tr>\n",
       "    <tr>\n",
       "      <th>246254</th>\n",
       "      <td>2015-05-29</td>\n",
       "      <td>2016-03-18</td>\n",
       "      <td> 2700</td>\n",
       "      <td> P</td>\n",
       "      <td>  0</td>\n",
       "      <td> 0</td>\n",
       "      <td> 0</td>\n",
       "      <td> 0</td>\n",
       "      <td> 0</td>\n",
       "      <td> 0</td>\n",
       "    </tr>\n",
       "    <tr>\n",
       "      <th>246255</th>\n",
       "      <td>2015-05-29</td>\n",
       "      <td>2016-03-18</td>\n",
       "      <td> 2800</td>\n",
       "      <td> P</td>\n",
       "      <td>  2</td>\n",
       "      <td> 0</td>\n",
       "      <td> 0</td>\n",
       "      <td> 0</td>\n",
       "      <td> 0</td>\n",
       "      <td> 0</td>\n",
       "    </tr>\n",
       "    <tr>\n",
       "      <th>246256</th>\n",
       "      <td>2015-05-29</td>\n",
       "      <td>2016-03-18</td>\n",
       "      <td> 2900</td>\n",
       "      <td> P</td>\n",
       "      <td> 12</td>\n",
       "      <td> 0</td>\n",
       "      <td> 0</td>\n",
       "      <td> 0</td>\n",
       "      <td> 0</td>\n",
       "      <td> 0</td>\n",
       "    </tr>\n",
       "    <tr>\n",
       "      <th>246257</th>\n",
       "      <td>2015-05-29</td>\n",
       "      <td>2016-03-18</td>\n",
       "      <td> 3000</td>\n",
       "      <td> P</td>\n",
       "      <td> 12</td>\n",
       "      <td> 0</td>\n",
       "      <td> 0</td>\n",
       "      <td> 0</td>\n",
       "      <td> 0</td>\n",
       "      <td> 0</td>\n",
       "    </tr>\n",
       "  </tbody>\n",
       "</table>\n",
       "</div>"
      ],
      "text/plain": [
       "             date        exp  strike pc  oi  vol  high  low  open  last\n",
       "246253 2015-05-29 2016-03-18    2600  P   0    0     0    0     0     0\n",
       "246254 2015-05-29 2016-03-18    2700  P   0    0     0    0     0     0\n",
       "246255 2015-05-29 2016-03-18    2800  P   2    0     0    0     0     0\n",
       "246256 2015-05-29 2016-03-18    2900  P  12    0     0    0     0     0\n",
       "246257 2015-05-29 2016-03-18    3000  P  12    0     0    0     0     0"
      ]
     },
     "execution_count": 139,
     "metadata": {},
     "output_type": "execute_result"
    }
   ],
   "source": [
    "spx.tail(5)"
   ]
  },
  {
   "cell_type": "code",
   "execution_count": 17,
   "metadata": {
    "collapsed": false
   },
   "outputs": [
    {
     "ename": "KeyboardInterrupt",
     "evalue": "",
     "output_type": "error",
     "traceback": [
      "\u001b[0;31m---------------------------------------------------------------------------\u001b[0m",
      "\u001b[0;31mKeyboardInterrupt\u001b[0m                         Traceback (most recent call last)",
      "\u001b[0;32m<ipython-input-17-d8cc4b3ce0f5>\u001b[0m in \u001b[0;36m<module>\u001b[0;34m()\u001b[0m\n\u001b[1;32m      1\u001b[0m \u001b[0msp500\u001b[0m\u001b[0;34m.\u001b[0m\u001b[0mto_csv\u001b[0m\u001b[0;34m(\u001b[0m\u001b[0;34m'sp500.csv'\u001b[0m\u001b[0;34m)\u001b[0m\u001b[0;34m\u001b[0m\u001b[0m\n\u001b[0;32m----> 2\u001b[0;31m \u001b[0mspx\u001b[0m\u001b[0;34m.\u001b[0m\u001b[0mto_csv\u001b[0m\u001b[0;34m(\u001b[0m\u001b[0;34m'spx.csv'\u001b[0m\u001b[0;34m)\u001b[0m\u001b[0;34m\u001b[0m\u001b[0m\n\u001b[0m",
      "\u001b[0;32m/usr/local/lib/python2.7/site-packages/pandas/util/decorators.pyc\u001b[0m in \u001b[0;36mwrapper\u001b[0;34m(*args, **kwargs)\u001b[0m\n\u001b[1;32m     86\u001b[0m                 \u001b[0;32melse\u001b[0m\u001b[0;34m:\u001b[0m\u001b[0;34m\u001b[0m\u001b[0m\n\u001b[1;32m     87\u001b[0m                     \u001b[0mkwargs\u001b[0m\u001b[0;34m[\u001b[0m\u001b[0mnew_arg_name\u001b[0m\u001b[0;34m]\u001b[0m \u001b[0;34m=\u001b[0m \u001b[0mnew_arg_value\u001b[0m\u001b[0;34m\u001b[0m\u001b[0m\n\u001b[0;32m---> 88\u001b[0;31m             \u001b[0;32mreturn\u001b[0m \u001b[0mfunc\u001b[0m\u001b[0;34m(\u001b[0m\u001b[0;34m*\u001b[0m\u001b[0margs\u001b[0m\u001b[0;34m,\u001b[0m \u001b[0;34m**\u001b[0m\u001b[0mkwargs\u001b[0m\u001b[0;34m)\u001b[0m\u001b[0;34m\u001b[0m\u001b[0m\n\u001b[0m\u001b[1;32m     89\u001b[0m         \u001b[0;32mreturn\u001b[0m \u001b[0mwrapper\u001b[0m\u001b[0;34m\u001b[0m\u001b[0m\n\u001b[1;32m     90\u001b[0m     \u001b[0;32mreturn\u001b[0m \u001b[0m_deprecate_kwarg\u001b[0m\u001b[0;34m\u001b[0m\u001b[0m\n",
      "\u001b[0;32m/usr/local/lib/python2.7/site-packages/pandas/core/frame.pyc\u001b[0m in \u001b[0;36mto_csv\u001b[0;34m(self, path_or_buf, sep, na_rep, float_format, columns, header, index, index_label, mode, encoding, quoting, quotechar, line_terminator, chunksize, tupleize_cols, date_format, doublequote, escapechar, **kwds)\u001b[0m\n\u001b[1;32m   1174\u001b[0m                                      \u001b[0mdoublequote\u001b[0m\u001b[0;34m=\u001b[0m\u001b[0mdoublequote\u001b[0m\u001b[0;34m,\u001b[0m\u001b[0;34m\u001b[0m\u001b[0m\n\u001b[1;32m   1175\u001b[0m                                      escapechar=escapechar)\n\u001b[0;32m-> 1176\u001b[0;31m         \u001b[0mformatter\u001b[0m\u001b[0;34m.\u001b[0m\u001b[0msave\u001b[0m\u001b[0;34m(\u001b[0m\u001b[0;34m)\u001b[0m\u001b[0;34m\u001b[0m\u001b[0m\n\u001b[0m\u001b[1;32m   1177\u001b[0m \u001b[0;34m\u001b[0m\u001b[0m\n\u001b[1;32m   1178\u001b[0m         \u001b[0;32mif\u001b[0m \u001b[0mpath_or_buf\u001b[0m \u001b[0;32mis\u001b[0m \u001b[0mNone\u001b[0m\u001b[0;34m:\u001b[0m\u001b[0;34m\u001b[0m\u001b[0m\n",
      "\u001b[0;32m/usr/local/lib/python2.7/site-packages/pandas/core/format.pyc\u001b[0m in \u001b[0;36msave\u001b[0;34m(self)\u001b[0m\n\u001b[1;32m   1402\u001b[0m \u001b[0;34m\u001b[0m\u001b[0m\n\u001b[1;32m   1403\u001b[0m             \u001b[0;32melse\u001b[0m\u001b[0;34m:\u001b[0m\u001b[0;34m\u001b[0m\u001b[0m\n\u001b[0;32m-> 1404\u001b[0;31m                 \u001b[0mself\u001b[0m\u001b[0;34m.\u001b[0m\u001b[0m_save\u001b[0m\u001b[0;34m(\u001b[0m\u001b[0;34m)\u001b[0m\u001b[0;34m\u001b[0m\u001b[0m\n\u001b[0m\u001b[1;32m   1405\u001b[0m \u001b[0;34m\u001b[0m\u001b[0m\n\u001b[1;32m   1406\u001b[0m         \u001b[0;32mfinally\u001b[0m\u001b[0;34m:\u001b[0m\u001b[0;34m\u001b[0m\u001b[0m\n",
      "\u001b[0;32m/usr/local/lib/python2.7/site-packages/pandas/core/format.pyc\u001b[0m in \u001b[0;36m_save\u001b[0;34m(self)\u001b[0m\n\u001b[1;32m   1502\u001b[0m                 \u001b[0;32mbreak\u001b[0m\u001b[0;34m\u001b[0m\u001b[0m\n\u001b[1;32m   1503\u001b[0m \u001b[0;34m\u001b[0m\u001b[0m\n\u001b[0;32m-> 1504\u001b[0;31m             \u001b[0mself\u001b[0m\u001b[0;34m.\u001b[0m\u001b[0m_save_chunk\u001b[0m\u001b[0;34m(\u001b[0m\u001b[0mstart_i\u001b[0m\u001b[0;34m,\u001b[0m \u001b[0mend_i\u001b[0m\u001b[0;34m)\u001b[0m\u001b[0;34m\u001b[0m\u001b[0m\n\u001b[0m\u001b[1;32m   1505\u001b[0m \u001b[0;34m\u001b[0m\u001b[0m\n\u001b[1;32m   1506\u001b[0m     \u001b[0;32mdef\u001b[0m \u001b[0m_save_chunk\u001b[0m\u001b[0;34m(\u001b[0m\u001b[0mself\u001b[0m\u001b[0;34m,\u001b[0m \u001b[0mstart_i\u001b[0m\u001b[0;34m,\u001b[0m \u001b[0mend_i\u001b[0m\u001b[0;34m)\u001b[0m\u001b[0;34m:\u001b[0m\u001b[0;34m\u001b[0m\u001b[0m\n",
      "\u001b[0;32m/usr/local/lib/python2.7/site-packages/pandas/core/format.pyc\u001b[0m in \u001b[0;36m_save_chunk\u001b[0;34m(self, start_i, end_i)\u001b[0m\n\u001b[1;32m   1524\u001b[0m                                         date_format=self.date_format)\n\u001b[1;32m   1525\u001b[0m \u001b[0;34m\u001b[0m\u001b[0m\n\u001b[0;32m-> 1526\u001b[0;31m         \u001b[0mlib\u001b[0m\u001b[0;34m.\u001b[0m\u001b[0mwrite_csv_rows\u001b[0m\u001b[0;34m(\u001b[0m\u001b[0mself\u001b[0m\u001b[0;34m.\u001b[0m\u001b[0mdata\u001b[0m\u001b[0;34m,\u001b[0m \u001b[0mix\u001b[0m\u001b[0;34m,\u001b[0m \u001b[0mself\u001b[0m\u001b[0;34m.\u001b[0m\u001b[0mnlevels\u001b[0m\u001b[0;34m,\u001b[0m \u001b[0mself\u001b[0m\u001b[0;34m.\u001b[0m\u001b[0mcols\u001b[0m\u001b[0;34m,\u001b[0m \u001b[0mself\u001b[0m\u001b[0;34m.\u001b[0m\u001b[0mwriter\u001b[0m\u001b[0;34m)\u001b[0m\u001b[0;34m\u001b[0m\u001b[0m\n\u001b[0m\u001b[1;32m   1527\u001b[0m \u001b[0;34m\u001b[0m\u001b[0m\n\u001b[1;32m   1528\u001b[0m \u001b[0;31m# from collections import namedtuple\u001b[0m\u001b[0;34m\u001b[0m\u001b[0;34m\u001b[0m\u001b[0m\n",
      "\u001b[0;32mpandas/lib.pyx\u001b[0m in \u001b[0;36mpandas.lib.write_csv_rows (pandas/lib.c:16404)\u001b[0;34m()\u001b[0m\n",
      "\u001b[0;31mKeyboardInterrupt\u001b[0m: "
     ]
    }
   ],
   "source": [
    "sp500.to_csv('sp500.csv')\n",
    "spx.to_csv('spx.csv')"
   ]
  }
 ],
 "metadata": {
  "kernelspec": {
   "display_name": "Python 2",
   "language": "python",
   "name": "python2"
  },
  "language_info": {
   "codemirror_mode": {
    "name": "ipython",
    "version": 2
   },
   "file_extension": ".py",
   "mimetype": "text/x-python",
   "name": "python",
   "nbconvert_exporter": "python",
   "pygments_lexer": "ipython2",
   "version": "2.7.9"
  }
 },
 "nbformat": 4,
 "nbformat_minor": 0
}
