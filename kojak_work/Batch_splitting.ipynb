{
 "cells": [
  {
   "cell_type": "code",
   "execution_count": null,
   "metadata": {
    "collapsed": true
   },
   "outputs": [],
   "source": [
    "def worker(identifier, skip, count):\n",
    "   done = 0\n",
    "\n",
    "\n",
    "   batch_size = 50\n",
    "   for batch in range(0, count, batch_size):\n",
    "       reviews_cursor = reviews_collection.find().skip(skip + batch).limit(batch_size)\n",
    "       for review in reviews_cursor:\n",
    "           <do something>\n",
    "           for sentence in sentences:\n",
    "           <do something>\n",
    "               for word, tag in tagged_text:\n",
    "              <do something>\n",
    "\n",
    "           done += 1\n",
    "           if done % 100 == 0:\n",
    "               end = time.time()\n",
    "               print 'Worker' + str(identifier) + ': Done ' + str(done) + ' out of ' + str(count) + ' in ' + (\n",
    "                   \"%.2f\" % (end - start)) + ' sec ~ ' + (\"%.2f\" % (done / (end - start))) + '/sec'\n",
    "               sys.stdout.flush()\n",
    "\n",
    "\n",
    "def main():\n",
    "   <some code deleted for clarity>\n",
    "   workers = 3\n",
    "   batch = count / workers\n",
    "   left = count % workers\n",
    "\n",
    "   jobs = []\n",
    "   for i in range(workers):\n",
    "       size = count / workers\n",
    "       if i == (workers - 1):\n",
    "           size += left\n",
    "       p = multiprocessing.Process(target=worker, args=((i + 1), i * batch, size))\n",
    "       jobs.append(p)\n",
    "       p.start()\n",
    "\n",
    "   for j in jobs:\n",
    "       j.join()"
   ]
  }
 ],
 "metadata": {
  "kernelspec": {
   "display_name": "Python 2",
   "language": "python",
   "name": "python2"
  },
  "language_info": {
   "codemirror_mode": {
    "name": "ipython",
    "version": 2
   },
   "file_extension": ".py",
   "mimetype": "text/x-python",
   "name": "python",
   "nbconvert_exporter": "python",
   "pygments_lexer": "ipython2",
   "version": "2.7.9"
  }
 },
 "nbformat": 4,
 "nbformat_minor": 0
}
