{
 "cells": [
  {
   "cell_type": "code",
   "execution_count": 4,
   "metadata": {
    "collapsed": false
   },
   "outputs": [],
   "source": [
    "import numpy as np\n",
    "nums = [5,7,-4,14,28,-33]\n",
    "s = []\n",
    "for n in range(len(nums)-2):\n",
    "    s.append(np.sum(nums[n:n+2]))\n"
   ]
  },
  {
   "cell_type": "code",
   "execution_count": 2,
   "metadata": {
    "collapsed": false
   },
   "outputs": [
    {
     "data": {
      "text/plain": [
       "28"
      ]
     },
     "execution_count": 2,
     "metadata": {},
     "output_type": "execute_result"
    }
   ],
   "source": [
    "max(nums)"
   ]
  },
  {
   "cell_type": "code",
   "execution_count": 6,
   "metadata": {
    "collapsed": false
   },
   "outputs": [
    {
     "name": "stdout",
     "output_type": "stream",
     "text": [
      "1 6\n"
     ]
    }
   ],
   "source": [
    "#solution\n",
    "\n",
    "data = [-2, 1, 2, 3, -1, 0, 100, -101, -500, -9]\n",
    "\n",
    "max_i, max_j, here_i = 0, 0, 0\n",
    "\n",
    "for here_j in range(len(data)):\n",
    "    if sum(data[here_i:here_j+1]) <= data[here_j]:\n",
    "        here_i = here_j\n",
    "    if sum(data[max_i:max_j+1]) <= sum(data[here_i:here_j+1]):\n",
    "        max_i, max_j = here_i, here_j\n",
    "\n",
    "print max_i, max_j"
   ]
  },
  {
   "cell_type": "code",
   "execution_count": null,
   "metadata": {
    "collapsed": true
   },
   "outputs": [],
   "source": []
  }
 ],
 "metadata": {
  "kernelspec": {
   "display_name": "Python 2",
   "language": "python",
   "name": "python2"
  },
  "language_info": {
   "codemirror_mode": {
    "name": "ipython",
    "version": 2
   },
   "file_extension": ".py",
   "mimetype": "text/x-python",
   "name": "python",
   "nbconvert_exporter": "python",
   "pygments_lexer": "ipython2",
   "version": "2.7.9"
  }
 },
 "nbformat": 4,
 "nbformat_minor": 0
}
