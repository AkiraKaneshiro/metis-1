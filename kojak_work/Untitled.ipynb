{
 "cells": [
  {
   "cell_type": "code",
   "execution_count": 3,
   "metadata": {
    "collapsed": false
   },
   "outputs": [
    {
     "name": "stdout",
     "output_type": "stream",
     "text": [
      "CALL o PUT? (C per CALL, P per PUT)c\n",
      "Prezzo Sottostante?2105\n",
      "Strike?2075\n",
      "Sigma (Volatilità)?14\n",
      "Rateo (interessi)?2\n",
      "Tempo (Quindici_Giorni o Un_Mese o Due_Mesi ecc.)?15\n",
      "2105.0\n"
     ]
    }
   ],
   "source": [
    "# -*- coding: cp1252 -*-\n",
    "\n",
    "# -*- coding: cp1252 -*-\n",
    "\n",
    "\n",
    "\n",
    "import math\n",
    "\n",
    "#***********************************#\n",
    "#   Variabili di Tempo a scadenza   #\n",
    "#***********************************#\n",
    "\n",
    "Quindici_Giorni     =0.5/12.0\n",
    "\n",
    "Un_Mese             =1.0/12.0\n",
    "Due_Mesi            =2.0/12.0\n",
    "Tre_Mesi            =3.0/12.0\n",
    "Quattro_Mesi        =4.0/12.0\n",
    "Cinque_Mesi         =5.0/12.0\n",
    "Sei_Mesi            =6.0/12.0\n",
    "\n",
    "Un_Anno             =1.0\n",
    "\n",
    "#***********************************#\n",
    "#      Formula di Black$Scholes     #\n",
    "#***********************************#\n",
    "\n",
    "def d1(S,K,sigma,r,t):\n",
    "    var1=math.log(S/K)\n",
    "    var2=(r+(sigma*sigma)/2.0)*t\n",
    "    var3=sigma*math.sqrt(t)\n",
    "    return (var1+var2)/var3\n",
    "\n",
    "def d2(S,K,sigma,r,t):\n",
    "    return d1(S,K,sigma,r,t)-sigma*math.sqrt(t)\n",
    "\n",
    "\n",
    "#***********************************#\n",
    "#           Opzione CALL            #\n",
    "#***********************************#\n",
    "\n",
    "def CALL(S,K,sigma,r,t):\n",
    "    var1=d1(S,K,sigma,r,t)\n",
    "    var2=d2(S,K,sigma,r,t)\n",
    "    return S*Dist_Norm(var1)-K*math.exp(-r*t)*Dist_Norm(var2)\n",
    "\n",
    "#***********************************#\n",
    "#            Opzione PUT            #\n",
    "#***********************************#\n",
    "\n",
    "def PUT(S,K,sigma,r,t):\n",
    "    var1=d1(S,K,sigma,r,t)\n",
    "    var2=d2(S,K,sigma,r,t)\n",
    "    return K*math.exp(-r*t)*Dist_Norm(-var2)-S*Dist_Norm(-var1)\n",
    "\n",
    "\n",
    "#***********************************#\n",
    "#       Distribuzione Normale       #\n",
    "#***********************************#\n",
    "\n",
    "def Dist_Norm(x):    \n",
    "    gamma   =0.2316419\n",
    "    \n",
    "    k       =1.0/(1.0+x*gamma)\n",
    "    \n",
    "    a1      =0.319381530\n",
    "    a2      =-0.356563782\n",
    "    a3      =1.781477937\n",
    "    a4      =-1.821255978\n",
    "    a5      =1.330274429\n",
    "\n",
    "    q       =1.0/math.sqrt(2*math.pi)\n",
    "    N       =q*math.exp(-(x*x)/2.0)\n",
    "\n",
    "    if x>=0:\n",
    "        return 1-(N)*(a1*k+a2*math.pow(k,2)+a3*math.pow(k,3)+a4*math.pow(k,4)+a5*math.pow(k,5))\n",
    "    return 1-Dist_Norm(-x)\n",
    "\n",
    "#***********************************#\n",
    "#                PRG                #\n",
    "#***********************************#\n",
    "\n",
    "\n",
    "#sottostante,strike,vola,rateo,tempo\n",
    "\n",
    "Segno   =raw_input(\"CALL o PUT? (C per CALL, P per PUT)\")\n",
    "Prezzo  =input(\"Prezzo Sottostante?\")\n",
    "Strike  =input(\"Strike?\")\n",
    "Sigma   =input(\"Sigma (Volatilità)?\")\n",
    "Rateo   =input(\"Rateo (interessi)?\")\n",
    "Tempo   =input(\"Tempo (Quindici_Giorni o Un_Mese o Due_Mesi ecc.)?\")\n",
    "\n",
    "def CallOrPut(x):\n",
    "    if Segno==\"C\" or Segno==\"c\" or Segno==\"CALL\" or Segno==\"call\":\n",
    "        return CALL\n",
    "    else:\n",
    "        return PUT\n",
    "    \n",
    "Prezzo_Opzione=CallOrPut(Segno)(Prezzo,Strike,Sigma,Rateo,Tempo)\n",
    "\n",
    "print Prezzo_Opzione\n",
    "\n",
    "\n",
    "#Per Verifica\n",
    "#print CALL(3550,3500,0.4,0.1,Quindici_Giorni) #Per Verifica\n",
    "\n",
    "\n"
   ]
  },
  {
   "cell_type": "code",
   "execution_count": 2,
   "metadata": {
    "collapsed": false
   },
   "outputs": [
    {
     "name": "stdout",
     "output_type": "stream",
     "text": [
      "147.992944808\n"
     ]
    }
   ],
   "source": [
    "print CALL(3550,3500,0.4,0.1,Quindici_Giorni)"
   ]
  },
  {
   "cell_type": "code",
   "execution_count": null,
   "metadata": {
    "collapsed": true
   },
   "outputs": [],
   "source": []
  }
 ],
 "metadata": {
  "kernelspec": {
   "display_name": "Python 2",
   "language": "python",
   "name": "python2"
  },
  "language_info": {
   "codemirror_mode": {
    "name": "ipython",
    "version": 2
   },
   "file_extension": ".py",
   "mimetype": "text/x-python",
   "name": "python",
   "nbconvert_exporter": "python",
   "pygments_lexer": "ipython2",
   "version": "2.7.9"
  }
 },
 "nbformat": 4,
 "nbformat_minor": 0
}
