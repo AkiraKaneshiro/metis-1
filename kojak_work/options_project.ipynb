{
 "cells": [
  {
   "cell_type": "code",
   "execution_count": 20,
   "metadata": {
    "collapsed": true
   },
   "outputs": [],
   "source": [
    "import csv\n",
    "import pandas as pd\n",
    "from pandas import *"
   ]
  },
  {
   "cell_type": "code",
   "execution_count": 21,
   "metadata": {
    "collapsed": false
   },
   "outputs": [],
   "source": [
    "sp500 = read_csv('sp500_1974_2015.csv', delimiter=',', header=0, usecols=[0,1,2,3,5,6], \n",
    "                 names=['date','open','high','low','vol','close'])"
   ]
  },
  {
   "cell_type": "code",
   "execution_count": 22,
   "metadata": {
    "collapsed": false
   },
   "outputs": [
    {
     "data": {
      "text/html": [
       "<div style=\"max-height:1000px;max-width:1500px;overflow:auto;\">\n",
       "<table border=\"1\" class=\"dataframe\">\n",
       "  <thead>\n",
       "    <tr style=\"text-align: right;\">\n",
       "      <th></th>\n",
       "      <th>date</th>\n",
       "      <th>open</th>\n",
       "      <th>high</th>\n",
       "      <th>low</th>\n",
       "      <th>vol</th>\n",
       "      <th>close</th>\n",
       "    </tr>\n",
       "  </thead>\n",
       "  <tbody>\n",
       "    <tr>\n",
       "      <th>0</th>\n",
       "      <td> 2015-06-03</td>\n",
       "      <td> 2110.63989</td>\n",
       "      <td> 2121.91992</td>\n",
       "      <td> 2109.61011</td>\n",
       "      <td> 3099980000</td>\n",
       "      <td> 2114.07007</td>\n",
       "    </tr>\n",
       "    <tr>\n",
       "      <th>1</th>\n",
       "      <td> 2015-06-02</td>\n",
       "      <td> 2110.40991</td>\n",
       "      <td> 2117.59009</td>\n",
       "      <td> 2099.13989</td>\n",
       "      <td> 3049350000</td>\n",
       "      <td> 2109.60010</td>\n",
       "    </tr>\n",
       "    <tr>\n",
       "      <th>2</th>\n",
       "      <td> 2015-06-01</td>\n",
       "      <td> 2108.63989</td>\n",
       "      <td> 2119.14990</td>\n",
       "      <td> 2102.54004</td>\n",
       "      <td> 3011710000</td>\n",
       "      <td> 2111.72998</td>\n",
       "    </tr>\n",
       "    <tr>\n",
       "      <th>3</th>\n",
       "      <td> 2015-05-29</td>\n",
       "      <td> 2120.65991</td>\n",
       "      <td> 2120.65991</td>\n",
       "      <td> 2104.88989</td>\n",
       "      <td> 3927390000</td>\n",
       "      <td> 2107.38989</td>\n",
       "    </tr>\n",
       "    <tr>\n",
       "      <th>4</th>\n",
       "      <td> 2015-05-28</td>\n",
       "      <td> 2122.27002</td>\n",
       "      <td> 2122.27002</td>\n",
       "      <td> 2112.86011</td>\n",
       "      <td> 2980350000</td>\n",
       "      <td> 2120.79004</td>\n",
       "    </tr>\n",
       "  </tbody>\n",
       "</table>\n",
       "</div>"
      ],
      "text/plain": [
       "         date        open        high         low         vol       close\n",
       "0  2015-06-03  2110.63989  2121.91992  2109.61011  3099980000  2114.07007\n",
       "1  2015-06-02  2110.40991  2117.59009  2099.13989  3049350000  2109.60010\n",
       "2  2015-06-01  2108.63989  2119.14990  2102.54004  3011710000  2111.72998\n",
       "3  2015-05-29  2120.65991  2120.65991  2104.88989  3927390000  2107.38989\n",
       "4  2015-05-28  2122.27002  2122.27002  2112.86011  2980350000  2120.79004"
      ]
     },
     "execution_count": 22,
     "metadata": {},
     "output_type": "execute_result"
    }
   ],
   "source": [
    "sp500.head(5)"
   ]
  },
  {
   "cell_type": "code",
   "execution_count": 23,
   "metadata": {
    "collapsed": false
   },
   "outputs": [
    {
     "data": {
      "text/html": [
       "<div style=\"max-height:1000px;max-width:1500px;overflow:auto;\">\n",
       "<table border=\"1\" class=\"dataframe\">\n",
       "  <thead>\n",
       "    <tr style=\"text-align: right;\">\n",
       "      <th></th>\n",
       "      <th>date</th>\n",
       "      <th>open</th>\n",
       "      <th>high</th>\n",
       "      <th>low</th>\n",
       "      <th>vol</th>\n",
       "      <th>close</th>\n",
       "    </tr>\n",
       "  </thead>\n",
       "  <tbody>\n",
       "    <tr>\n",
       "      <th>10445</th>\n",
       "      <td> 1974-01-08</td>\n",
       "      <td> 98.07</td>\n",
       "      <td>  98.26</td>\n",
       "      <td> 95.58</td>\n",
       "      <td> 18080000</td>\n",
       "      <td> 96.12</td>\n",
       "    </tr>\n",
       "    <tr>\n",
       "      <th>10446</th>\n",
       "      <td> 1974-01-07</td>\n",
       "      <td> 98.90</td>\n",
       "      <td>  99.31</td>\n",
       "      <td> 96.86</td>\n",
       "      <td> 19070000</td>\n",
       "      <td> 98.07</td>\n",
       "    </tr>\n",
       "    <tr>\n",
       "      <th>10447</th>\n",
       "      <td> 1974-01-04</td>\n",
       "      <td> 99.80</td>\n",
       "      <td> 100.70</td>\n",
       "      <td> 97.70</td>\n",
       "      <td> 21700000</td>\n",
       "      <td> 98.90</td>\n",
       "    </tr>\n",
       "    <tr>\n",
       "      <th>10448</th>\n",
       "      <td> 1974-01-03</td>\n",
       "      <td> 98.02</td>\n",
       "      <td> 100.94</td>\n",
       "      <td> 98.02</td>\n",
       "      <td> 24850000</td>\n",
       "      <td> 99.80</td>\n",
       "    </tr>\n",
       "    <tr>\n",
       "      <th>10449</th>\n",
       "      <td> 1974-01-02</td>\n",
       "      <td> 97.55</td>\n",
       "      <td>  98.38</td>\n",
       "      <td> 96.25</td>\n",
       "      <td> 12060000</td>\n",
       "      <td> 97.68</td>\n",
       "    </tr>\n",
       "  </tbody>\n",
       "</table>\n",
       "</div>"
      ],
      "text/plain": [
       "             date   open    high    low       vol  close\n",
       "10445  1974-01-08  98.07   98.26  95.58  18080000  96.12\n",
       "10446  1974-01-07  98.90   99.31  96.86  19070000  98.07\n",
       "10447  1974-01-04  99.80  100.70  97.70  21700000  98.90\n",
       "10448  1974-01-03  98.02  100.94  98.02  24850000  99.80\n",
       "10449  1974-01-02  97.55   98.38  96.25  12060000  97.68"
      ]
     },
     "execution_count": 23,
     "metadata": {},
     "output_type": "execute_result"
    }
   ],
   "source": [
    "sp500.tail(5)"
   ]
  },
  {
   "cell_type": "code",
   "execution_count": 24,
   "metadata": {
    "collapsed": true
   },
   "outputs": [],
   "source": [
    "sp500['date'] = pd.to_datetime(sp500['date'])"
   ]
  },
  {
   "cell_type": "code",
   "execution_count": 25,
   "metadata": {
    "collapsed": false
   },
   "outputs": [
    {
     "data": {
      "text/html": [
       "<div style=\"max-height:1000px;max-width:1500px;overflow:auto;\">\n",
       "<table border=\"1\" class=\"dataframe\">\n",
       "  <thead>\n",
       "    <tr style=\"text-align: right;\">\n",
       "      <th></th>\n",
       "      <th>date</th>\n",
       "      <th>open</th>\n",
       "      <th>high</th>\n",
       "      <th>low</th>\n",
       "      <th>vol</th>\n",
       "      <th>close</th>\n",
       "    </tr>\n",
       "  </thead>\n",
       "  <tbody>\n",
       "    <tr>\n",
       "      <th>0</th>\n",
       "      <td>2015-06-03</td>\n",
       "      <td> 2110.63989</td>\n",
       "      <td> 2121.91992</td>\n",
       "      <td> 2109.61011</td>\n",
       "      <td> 3099980000</td>\n",
       "      <td> 2114.07007</td>\n",
       "    </tr>\n",
       "    <tr>\n",
       "      <th>1</th>\n",
       "      <td>2015-06-02</td>\n",
       "      <td> 2110.40991</td>\n",
       "      <td> 2117.59009</td>\n",
       "      <td> 2099.13989</td>\n",
       "      <td> 3049350000</td>\n",
       "      <td> 2109.60010</td>\n",
       "    </tr>\n",
       "    <tr>\n",
       "      <th>2</th>\n",
       "      <td>2015-06-01</td>\n",
       "      <td> 2108.63989</td>\n",
       "      <td> 2119.14990</td>\n",
       "      <td> 2102.54004</td>\n",
       "      <td> 3011710000</td>\n",
       "      <td> 2111.72998</td>\n",
       "    </tr>\n",
       "    <tr>\n",
       "      <th>3</th>\n",
       "      <td>2015-05-29</td>\n",
       "      <td> 2120.65991</td>\n",
       "      <td> 2120.65991</td>\n",
       "      <td> 2104.88989</td>\n",
       "      <td> 3927390000</td>\n",
       "      <td> 2107.38989</td>\n",
       "    </tr>\n",
       "    <tr>\n",
       "      <th>4</th>\n",
       "      <td>2015-05-28</td>\n",
       "      <td> 2122.27002</td>\n",
       "      <td> 2122.27002</td>\n",
       "      <td> 2112.86011</td>\n",
       "      <td> 2980350000</td>\n",
       "      <td> 2120.79004</td>\n",
       "    </tr>\n",
       "  </tbody>\n",
       "</table>\n",
       "</div>"
      ],
      "text/plain": [
       "        date        open        high         low         vol       close\n",
       "0 2015-06-03  2110.63989  2121.91992  2109.61011  3099980000  2114.07007\n",
       "1 2015-06-02  2110.40991  2117.59009  2099.13989  3049350000  2109.60010\n",
       "2 2015-06-01  2108.63989  2119.14990  2102.54004  3011710000  2111.72998\n",
       "3 2015-05-29  2120.65991  2120.65991  2104.88989  3927390000  2107.38989\n",
       "4 2015-05-28  2122.27002  2122.27002  2112.86011  2980350000  2120.79004"
      ]
     },
     "execution_count": 25,
     "metadata": {},
     "output_type": "execute_result"
    }
   ],
   "source": [
    "sp500.head(5)"
   ]
  },
  {
   "cell_type": "code",
   "execution_count": 26,
   "metadata": {
    "collapsed": true
   },
   "outputs": [],
   "source": [
    "spx_all = read_csv('/Users/marcolunardi/Documents/Doc/spx_options_1990_2015.csv', delimiter=',', header=0, usecols=[0,2,3,4,5,6,7,8,9,10,11,14,15], \n",
    "               names=['date','cl','exp','strike','pc','oi','vol','high','low','open','last','spc','ty'])"
   ]
  },
  {
   "cell_type": "code",
   "execution_count": 27,
   "metadata": {
    "collapsed": false
   },
   "outputs": [
    {
     "data": {
      "text/html": [
       "<div style=\"max-height:1000px;max-width:1500px;overflow:auto;\">\n",
       "<table border=\"1\" class=\"dataframe\">\n",
       "  <thead>\n",
       "    <tr style=\"text-align: right;\">\n",
       "      <th></th>\n",
       "      <th>date</th>\n",
       "      <th>cl</th>\n",
       "      <th>exp</th>\n",
       "      <th>strike</th>\n",
       "      <th>pc</th>\n",
       "      <th>oi</th>\n",
       "      <th>vol</th>\n",
       "      <th>high</th>\n",
       "      <th>low</th>\n",
       "      <th>open</th>\n",
       "      <th>last</th>\n",
       "      <th>spc</th>\n",
       "      <th>ty</th>\n",
       "    </tr>\n",
       "  </thead>\n",
       "  <tbody>\n",
       "    <tr>\n",
       "      <th>0</th>\n",
       "      <td> 19900102</td>\n",
       "      <td> NSX</td>\n",
       "      <td> 19900317</td>\n",
       "      <td> 330</td>\n",
       "      <td> C</td>\n",
       "      <td>    0</td>\n",
       "      <td> 0</td>\n",
       "      <td> 0</td>\n",
       "      <td> 0</td>\n",
       "      <td> 0</td>\n",
       "      <td> 0</td>\n",
       "      <td> 359.69</td>\n",
       "      <td> Standard</td>\n",
       "    </tr>\n",
       "    <tr>\n",
       "      <th>1</th>\n",
       "      <td> 19900102</td>\n",
       "      <td> NSX</td>\n",
       "      <td> 19900317</td>\n",
       "      <td> 335</td>\n",
       "      <td> C</td>\n",
       "      <td>    0</td>\n",
       "      <td> 0</td>\n",
       "      <td> 0</td>\n",
       "      <td> 0</td>\n",
       "      <td> 0</td>\n",
       "      <td> 0</td>\n",
       "      <td> 359.69</td>\n",
       "      <td> Standard</td>\n",
       "    </tr>\n",
       "    <tr>\n",
       "      <th>2</th>\n",
       "      <td> 19900102</td>\n",
       "      <td> NSX</td>\n",
       "      <td> 19900317</td>\n",
       "      <td> 340</td>\n",
       "      <td> C</td>\n",
       "      <td> 3007</td>\n",
       "      <td> 0</td>\n",
       "      <td> 0</td>\n",
       "      <td> 0</td>\n",
       "      <td> 0</td>\n",
       "      <td> 0</td>\n",
       "      <td> 359.69</td>\n",
       "      <td> Standard</td>\n",
       "    </tr>\n",
       "    <tr>\n",
       "      <th>3</th>\n",
       "      <td> 19900102</td>\n",
       "      <td> NSX</td>\n",
       "      <td> 19900317</td>\n",
       "      <td> 345</td>\n",
       "      <td> C</td>\n",
       "      <td>  410</td>\n",
       "      <td> 0</td>\n",
       "      <td> 0</td>\n",
       "      <td> 0</td>\n",
       "      <td> 0</td>\n",
       "      <td> 0</td>\n",
       "      <td> 359.69</td>\n",
       "      <td> Standard</td>\n",
       "    </tr>\n",
       "    <tr>\n",
       "      <th>4</th>\n",
       "      <td> 19900102</td>\n",
       "      <td> NSX</td>\n",
       "      <td> 19900317</td>\n",
       "      <td> 350</td>\n",
       "      <td> C</td>\n",
       "      <td>  300</td>\n",
       "      <td> 0</td>\n",
       "      <td> 0</td>\n",
       "      <td> 0</td>\n",
       "      <td> 0</td>\n",
       "      <td> 0</td>\n",
       "      <td> 359.69</td>\n",
       "      <td> Standard</td>\n",
       "    </tr>\n",
       "  </tbody>\n",
       "</table>\n",
       "</div>"
      ],
      "text/plain": [
       "       date   cl       exp  strike pc    oi  vol  high  low  open  last  \\\n",
       "0  19900102  NSX  19900317     330  C     0    0     0    0     0     0   \n",
       "1  19900102  NSX  19900317     335  C     0    0     0    0     0     0   \n",
       "2  19900102  NSX  19900317     340  C  3007    0     0    0     0     0   \n",
       "3  19900102  NSX  19900317     345  C   410    0     0    0     0     0   \n",
       "4  19900102  NSX  19900317     350  C   300    0     0    0     0     0   \n",
       "\n",
       "      spc        ty  \n",
       "0  359.69  Standard  \n",
       "1  359.69  Standard  \n",
       "2  359.69  Standard  \n",
       "3  359.69  Standard  \n",
       "4  359.69  Standard  "
      ]
     },
     "execution_count": 27,
     "metadata": {},
     "output_type": "execute_result"
    }
   ],
   "source": [
    "spx_all.head(5)"
   ]
  },
  {
   "cell_type": "code",
   "execution_count": 28,
   "metadata": {
    "collapsed": false
   },
   "outputs": [
    {
     "data": {
      "text/html": [
       "<div style=\"max-height:1000px;max-width:1500px;overflow:auto;\">\n",
       "<table border=\"1\" class=\"dataframe\">\n",
       "  <thead>\n",
       "    <tr style=\"text-align: right;\">\n",
       "      <th></th>\n",
       "      <th>date</th>\n",
       "      <th>cl</th>\n",
       "      <th>exp</th>\n",
       "      <th>strike</th>\n",
       "      <th>pc</th>\n",
       "      <th>oi</th>\n",
       "      <th>vol</th>\n",
       "      <th>high</th>\n",
       "      <th>low</th>\n",
       "      <th>open</th>\n",
       "      <th>last</th>\n",
       "      <th>spc</th>\n",
       "      <th>ty</th>\n",
       "    </tr>\n",
       "  </thead>\n",
       "  <tbody>\n",
       "    <tr>\n",
       "      <th>7771980</th>\n",
       "      <td> 20150601</td>\n",
       "      <td> SPXW</td>\n",
       "      <td> 20160331</td>\n",
       "      <td> 2300</td>\n",
       "      <td> P</td>\n",
       "      <td> 0</td>\n",
       "      <td> 0</td>\n",
       "      <td> 0</td>\n",
       "      <td> 0</td>\n",
       "      <td> 0</td>\n",
       "      <td> 0</td>\n",
       "      <td> 2111.73</td>\n",
       "      <td> LEAP</td>\n",
       "    </tr>\n",
       "    <tr>\n",
       "      <th>7771981</th>\n",
       "      <td> 20150601</td>\n",
       "      <td> SPXW</td>\n",
       "      <td> 20160331</td>\n",
       "      <td> 2400</td>\n",
       "      <td> P</td>\n",
       "      <td> 0</td>\n",
       "      <td> 0</td>\n",
       "      <td> 0</td>\n",
       "      <td> 0</td>\n",
       "      <td> 0</td>\n",
       "      <td> 0</td>\n",
       "      <td> 2111.73</td>\n",
       "      <td> LEAP</td>\n",
       "    </tr>\n",
       "    <tr>\n",
       "      <th>7771982</th>\n",
       "      <td> 20150601</td>\n",
       "      <td> SPXW</td>\n",
       "      <td> 20160331</td>\n",
       "      <td> 2500</td>\n",
       "      <td> P</td>\n",
       "      <td> 0</td>\n",
       "      <td> 0</td>\n",
       "      <td> 0</td>\n",
       "      <td> 0</td>\n",
       "      <td> 0</td>\n",
       "      <td> 0</td>\n",
       "      <td> 2111.73</td>\n",
       "      <td> LEAP</td>\n",
       "    </tr>\n",
       "    <tr>\n",
       "      <th>7771983</th>\n",
       "      <td> 20150601</td>\n",
       "      <td> SPXW</td>\n",
       "      <td> 20160331</td>\n",
       "      <td> 2600</td>\n",
       "      <td> P</td>\n",
       "      <td> 0</td>\n",
       "      <td> 0</td>\n",
       "      <td> 0</td>\n",
       "      <td> 0</td>\n",
       "      <td> 0</td>\n",
       "      <td> 0</td>\n",
       "      <td> 2111.73</td>\n",
       "      <td> LEAP</td>\n",
       "    </tr>\n",
       "    <tr>\n",
       "      <th>7771984</th>\n",
       "      <td> 20150601</td>\n",
       "      <td> SPXW</td>\n",
       "      <td> 20160331</td>\n",
       "      <td> 2700</td>\n",
       "      <td> P</td>\n",
       "      <td> 0</td>\n",
       "      <td> 0</td>\n",
       "      <td> 0</td>\n",
       "      <td> 0</td>\n",
       "      <td> 0</td>\n",
       "      <td> 0</td>\n",
       "      <td> 2111.73</td>\n",
       "      <td> LEAP</td>\n",
       "    </tr>\n",
       "  </tbody>\n",
       "</table>\n",
       "</div>"
      ],
      "text/plain": [
       "             date    cl       exp  strike pc  oi  vol  high  low  open  last  \\\n",
       "7771980  20150601  SPXW  20160331    2300  P   0    0     0    0     0     0   \n",
       "7771981  20150601  SPXW  20160331    2400  P   0    0     0    0     0     0   \n",
       "7771982  20150601  SPXW  20160331    2500  P   0    0     0    0     0     0   \n",
       "7771983  20150601  SPXW  20160331    2600  P   0    0     0    0     0     0   \n",
       "7771984  20150601  SPXW  20160331    2700  P   0    0     0    0     0     0   \n",
       "\n",
       "             spc    ty  \n",
       "7771980  2111.73  LEAP  \n",
       "7771981  2111.73  LEAP  \n",
       "7771982  2111.73  LEAP  \n",
       "7771983  2111.73  LEAP  \n",
       "7771984  2111.73  LEAP  "
      ]
     },
     "execution_count": 28,
     "metadata": {},
     "output_type": "execute_result"
    }
   ],
   "source": [
    "spx_all.tail(5)"
   ]
  },
  {
   "cell_type": "code",
   "execution_count": 29,
   "metadata": {
    "collapsed": false
   },
   "outputs": [],
   "source": [
    "spxt = spx_all[spx_all.ty == 'Standard']"
   ]
  },
  {
   "cell_type": "code",
   "execution_count": 30,
   "metadata": {
    "collapsed": false
   },
   "outputs": [
    {
     "data": {
      "text/plain": [
       "4722723"
      ]
     },
     "execution_count": 30,
     "metadata": {},
     "output_type": "execute_result"
    }
   ],
   "source": [
    "len(spxt)"
   ]
  },
  {
   "cell_type": "code",
   "execution_count": 31,
   "metadata": {
    "collapsed": false
   },
   "outputs": [],
   "source": [
    "spxtc = spxt[spxt.cl == 'SPX']"
   ]
  },
  {
   "cell_type": "code",
   "execution_count": 32,
   "metadata": {
    "collapsed": false
   },
   "outputs": [
    {
     "data": {
      "text/plain": [
       "2406884"
      ]
     },
     "execution_count": 32,
     "metadata": {},
     "output_type": "execute_result"
    }
   ],
   "source": [
    "len(spxtc)"
   ]
  },
  {
   "cell_type": "code",
   "execution_count": 33,
   "metadata": {
    "collapsed": false
   },
   "outputs": [
    {
     "name": "stderr",
     "output_type": "stream",
     "text": [
      "/usr/local/lib/python2.7/site-packages/IPython/kernel/__main__.py:1: SettingWithCopyWarning: \n",
      "A value is trying to be set on a copy of a slice from a DataFrame.\n",
      "Try using .loc[row_indexer,col_indexer] = value instead\n",
      "\n",
      "See the the caveats in the documentation: http://pandas.pydata.org/pandas-docs/stable/indexing.html#indexing-view-versus-copy\n",
      "  if __name__ == '__main__':\n",
      "/usr/local/lib/python2.7/site-packages/IPython/kernel/__main__.py:2: SettingWithCopyWarning: \n",
      "A value is trying to be set on a copy of a slice from a DataFrame.\n",
      "Try using .loc[row_indexer,col_indexer] = value instead\n",
      "\n",
      "See the the caveats in the documentation: http://pandas.pydata.org/pandas-docs/stable/indexing.html#indexing-view-versus-copy\n",
      "  from IPython.kernel.zmq import kernelapp as app\n"
     ]
    },
    {
     "data": {
      "text/html": [
       "<div style=\"max-height:1000px;max-width:1500px;overflow:auto;\">\n",
       "<table border=\"1\" class=\"dataframe\">\n",
       "  <thead>\n",
       "    <tr style=\"text-align: right;\">\n",
       "      <th></th>\n",
       "      <th>date</th>\n",
       "      <th>cl</th>\n",
       "      <th>exp</th>\n",
       "      <th>strike</th>\n",
       "      <th>pc</th>\n",
       "      <th>oi</th>\n",
       "      <th>vol</th>\n",
       "      <th>high</th>\n",
       "      <th>low</th>\n",
       "      <th>open</th>\n",
       "      <th>last</th>\n",
       "      <th>spc</th>\n",
       "      <th>ty</th>\n",
       "    </tr>\n",
       "  </thead>\n",
       "  <tbody>\n",
       "    <tr>\n",
       "      <th>86</th>\n",
       "      <td>1970-01-01 00:00:00.019900102</td>\n",
       "      <td> SPX</td>\n",
       "      <td>1970-01-01 00:00:00.019900120</td>\n",
       "      <td> 320</td>\n",
       "      <td> C</td>\n",
       "      <td> 1088</td>\n",
       "      <td>  0</td>\n",
       "      <td>  0.000</td>\n",
       "      <td>  0.0</td>\n",
       "      <td>  0.00</td>\n",
       "      <td>  0.000</td>\n",
       "      <td> 359.69</td>\n",
       "      <td> Standard</td>\n",
       "    </tr>\n",
       "    <tr>\n",
       "      <th>87</th>\n",
       "      <td>1970-01-01 00:00:00.019900102</td>\n",
       "      <td> SPX</td>\n",
       "      <td>1970-01-01 00:00:00.019900120</td>\n",
       "      <td> 325</td>\n",
       "      <td> C</td>\n",
       "      <td> 1252</td>\n",
       "      <td>  0</td>\n",
       "      <td>  0.000</td>\n",
       "      <td>  0.0</td>\n",
       "      <td>  0.00</td>\n",
       "      <td>  0.000</td>\n",
       "      <td> 359.69</td>\n",
       "      <td> Standard</td>\n",
       "    </tr>\n",
       "    <tr>\n",
       "      <th>88</th>\n",
       "      <td>1970-01-01 00:00:00.019900102</td>\n",
       "      <td> SPX</td>\n",
       "      <td>1970-01-01 00:00:00.019900120</td>\n",
       "      <td> 330</td>\n",
       "      <td> C</td>\n",
       "      <td> 8738</td>\n",
       "      <td> 25</td>\n",
       "      <td> 30.500</td>\n",
       "      <td> 30.5</td>\n",
       "      <td> 30.50</td>\n",
       "      <td> 30.500</td>\n",
       "      <td> 359.69</td>\n",
       "      <td> Standard</td>\n",
       "    </tr>\n",
       "    <tr>\n",
       "      <th>89</th>\n",
       "      <td>1970-01-01 00:00:00.019900102</td>\n",
       "      <td> SPX</td>\n",
       "      <td>1970-01-01 00:00:00.019900120</td>\n",
       "      <td> 335</td>\n",
       "      <td> C</td>\n",
       "      <td>  580</td>\n",
       "      <td>  0</td>\n",
       "      <td>  0.000</td>\n",
       "      <td>  0.0</td>\n",
       "      <td>  0.00</td>\n",
       "      <td>  0.000</td>\n",
       "      <td> 359.69</td>\n",
       "      <td> Standard</td>\n",
       "    </tr>\n",
       "    <tr>\n",
       "      <th>90</th>\n",
       "      <td>1970-01-01 00:00:00.019900102</td>\n",
       "      <td> SPX</td>\n",
       "      <td>1970-01-01 00:00:00.019900120</td>\n",
       "      <td> 340</td>\n",
       "      <td> C</td>\n",
       "      <td> 2480</td>\n",
       "      <td> 27</td>\n",
       "      <td> 17.625</td>\n",
       "      <td> 17.0</td>\n",
       "      <td> 17.25</td>\n",
       "      <td> 17.625</td>\n",
       "      <td> 359.69</td>\n",
       "      <td> Standard</td>\n",
       "    </tr>\n",
       "  </tbody>\n",
       "</table>\n",
       "</div>"
      ],
      "text/plain": [
       "                            date   cl                           exp  strike  \\\n",
       "86 1970-01-01 00:00:00.019900102  SPX 1970-01-01 00:00:00.019900120     320   \n",
       "87 1970-01-01 00:00:00.019900102  SPX 1970-01-01 00:00:00.019900120     325   \n",
       "88 1970-01-01 00:00:00.019900102  SPX 1970-01-01 00:00:00.019900120     330   \n",
       "89 1970-01-01 00:00:00.019900102  SPX 1970-01-01 00:00:00.019900120     335   \n",
       "90 1970-01-01 00:00:00.019900102  SPX 1970-01-01 00:00:00.019900120     340   \n",
       "\n",
       "   pc    oi  vol    high   low   open    last     spc        ty  \n",
       "86  C  1088    0   0.000   0.0   0.00   0.000  359.69  Standard  \n",
       "87  C  1252    0   0.000   0.0   0.00   0.000  359.69  Standard  \n",
       "88  C  8738   25  30.500  30.5  30.50  30.500  359.69  Standard  \n",
       "89  C   580    0   0.000   0.0   0.00   0.000  359.69  Standard  \n",
       "90  C  2480   27  17.625  17.0  17.25  17.625  359.69  Standard  "
      ]
     },
     "execution_count": 33,
     "metadata": {},
     "output_type": "execute_result"
    }
   ],
   "source": [
    "spxtc['date'] = pd.to_datetime(spxtc['date'])\n",
    "spxtc['exp'] = pd.to_datetime(spxtc['exp'])\n",
    "spxtc.head(5)"
   ]
  },
  {
   "cell_type": "code",
   "execution_count": 34,
   "metadata": {
    "collapsed": false
   },
   "outputs": [
    {
     "ename": "NameError",
     "evalue": "name 'spxct' is not defined",
     "output_type": "error",
     "traceback": [
      "\u001b[0;31m---------------------------------------------------------------------------\u001b[0m",
      "\u001b[0;31mNameError\u001b[0m                                 Traceback (most recent call last)",
      "\u001b[0;32m<ipython-input-34-fb192ce01693>\u001b[0m in \u001b[0;36m<module>\u001b[0;34m()\u001b[0m\n\u001b[0;32m----> 1\u001b[0;31m \u001b[0mspx\u001b[0m \u001b[0;34m=\u001b[0m \u001b[0mspxct\u001b[0m\u001b[0;34m.\u001b[0m\u001b[0mdrop\u001b[0m\u001b[0;34m(\u001b[0m\u001b[0;34m'cl'\u001b[0m\u001b[0;34m,\u001b[0m \u001b[0;36m1\u001b[0m\u001b[0;34m)\u001b[0m\u001b[0;34m\u001b[0m\u001b[0m\n\u001b[0m\u001b[1;32m      2\u001b[0m \u001b[0mspx\u001b[0m \u001b[0;34m=\u001b[0m \u001b[0mspx\u001b[0m\u001b[0;34m.\u001b[0m\u001b[0mdrop\u001b[0m\u001b[0;34m(\u001b[0m\u001b[0;34m'ty'\u001b[0m\u001b[0;34m,\u001b[0m \u001b[0;36m1\u001b[0m\u001b[0;34m)\u001b[0m\u001b[0;34m\u001b[0m\u001b[0m\n",
      "\u001b[0;31mNameError\u001b[0m: name 'spxct' is not defined"
     ]
    }
   ],
   "source": [
    "spx = spxct.drop('cl', 1)\n",
    "spx = spx.drop('ty', 1)"
   ]
  },
  {
   "cell_type": "code",
   "execution_count": null,
   "metadata": {
    "collapsed": true
   },
   "outputs": [],
   "source": [
    "sp500.to_csv('sp500.csv')\n",
    "spx.to_csv('spx.csv')"
   ]
  }
 ],
 "metadata": {
  "kernelspec": {
   "display_name": "Python 2",
   "language": "python",
   "name": "python2"
  },
  "language_info": {
   "codemirror_mode": {
    "name": "ipython",
    "version": 2
   },
   "file_extension": ".py",
   "mimetype": "text/x-python",
   "name": "python",
   "nbconvert_exporter": "python",
   "pygments_lexer": "ipython2",
   "version": "2.7.9"
  }
 },
 "nbformat": 4,
 "nbformat_minor": 0
}
