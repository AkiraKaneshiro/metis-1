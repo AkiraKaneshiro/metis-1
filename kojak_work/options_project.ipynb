{
 "cells": [
  {
   "cell_type": "code",
   "execution_count": 3,
   "metadata": {
    "collapsed": true
   },
   "outputs": [],
   "source": [
    "import csv\n",
    "from pandas import *"
   ]
  },
  {
   "cell_type": "code",
   "execution_count": 4,
   "metadata": {
    "collapsed": false
   },
   "outputs": [],
   "source": [
    "sp500 = read_csv('sp500_1988_2015.csv', delimiter=',', header=0)"
   ]
  },
  {
   "cell_type": "code",
   "execution_count": 6,
   "metadata": {
    "collapsed": false
   },
   "outputs": [
    {
     "data": {
      "text/html": [
       "<div style=\"max-height:1000px;max-width:1500px;overflow:auto;\">\n",
       "<table border=\"1\" class=\"dataframe\">\n",
       "  <thead>\n",
       "    <tr style=\"text-align: right;\">\n",
       "      <th></th>\n",
       "      <th>Date</th>\n",
       "      <th>Open</th>\n",
       "      <th>High</th>\n",
       "      <th>Low</th>\n",
       "      <th>Close</th>\n",
       "      <th>Volume</th>\n",
       "      <th>Adj Close</th>\n",
       "    </tr>\n",
       "  </thead>\n",
       "  <tbody>\n",
       "    <tr>\n",
       "      <th>0</th>\n",
       "      <td> 2015-05-29</td>\n",
       "      <td> 2120.65991</td>\n",
       "      <td> 2120.65991</td>\n",
       "      <td> 2104.88989</td>\n",
       "      <td> 2107.38989</td>\n",
       "      <td> 3927390000</td>\n",
       "      <td> 2107.38989</td>\n",
       "    </tr>\n",
       "    <tr>\n",
       "      <th>1</th>\n",
       "      <td> 2015-05-28</td>\n",
       "      <td> 2122.27002</td>\n",
       "      <td> 2122.27002</td>\n",
       "      <td> 2112.86011</td>\n",
       "      <td> 2120.79004</td>\n",
       "      <td> 2980350000</td>\n",
       "      <td> 2120.79004</td>\n",
       "    </tr>\n",
       "    <tr>\n",
       "      <th>2</th>\n",
       "      <td> 2015-05-27</td>\n",
       "      <td> 2105.12988</td>\n",
       "      <td> 2126.21997</td>\n",
       "      <td> 2105.12988</td>\n",
       "      <td> 2123.47998</td>\n",
       "      <td> 3127960000</td>\n",
       "      <td> 2123.47998</td>\n",
       "    </tr>\n",
       "    <tr>\n",
       "      <th>3</th>\n",
       "      <td> 2015-05-26</td>\n",
       "      <td> 2125.34009</td>\n",
       "      <td> 2125.34009</td>\n",
       "      <td> 2099.17993</td>\n",
       "      <td> 2104.19995</td>\n",
       "      <td> 3342130000</td>\n",
       "      <td> 2104.19995</td>\n",
       "    </tr>\n",
       "    <tr>\n",
       "      <th>4</th>\n",
       "      <td> 2015-05-22</td>\n",
       "      <td> 2130.36011</td>\n",
       "      <td> 2132.14990</td>\n",
       "      <td> 2126.06006</td>\n",
       "      <td> 2126.06006</td>\n",
       "      <td> 2571860000</td>\n",
       "      <td> 2126.06006</td>\n",
       "    </tr>\n",
       "  </tbody>\n",
       "</table>\n",
       "</div>"
      ],
      "text/plain": [
       "         Date        Open        High         Low       Close      Volume  \\\n",
       "0  2015-05-29  2120.65991  2120.65991  2104.88989  2107.38989  3927390000   \n",
       "1  2015-05-28  2122.27002  2122.27002  2112.86011  2120.79004  2980350000   \n",
       "2  2015-05-27  2105.12988  2126.21997  2105.12988  2123.47998  3127960000   \n",
       "3  2015-05-26  2125.34009  2125.34009  2099.17993  2104.19995  3342130000   \n",
       "4  2015-05-22  2130.36011  2132.14990  2126.06006  2126.06006  2571860000   \n",
       "\n",
       "    Adj Close  \n",
       "0  2107.38989  \n",
       "1  2120.79004  \n",
       "2  2123.47998  \n",
       "3  2104.19995  \n",
       "4  2126.06006  "
      ]
     },
     "execution_count": 6,
     "metadata": {},
     "output_type": "execute_result"
    }
   ],
   "source": [
    "sp500.head(5)"
   ]
  },
  {
   "cell_type": "code",
   "execution_count": null,
   "metadata": {
    "collapsed": true
   },
   "outputs": [],
   "source": []
  }
 ],
 "metadata": {
  "kernelspec": {
   "display_name": "Python 2",
   "language": "python",
   "name": "python2"
  },
  "language_info": {
   "codemirror_mode": {
    "name": "ipython",
    "version": 2
   },
   "file_extension": ".py",
   "mimetype": "text/x-python",
   "name": "python",
   "nbconvert_exporter": "python",
   "pygments_lexer": "ipython2",
   "version": "2.7.9"
  }
 },
 "nbformat": 4,
 "nbformat_minor": 0
}
