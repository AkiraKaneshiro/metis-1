{
 "cells": [
  {
   "cell_type": "code",
   "execution_count": 37,
   "metadata": {
    "collapsed": true
   },
   "outputs": [],
   "source": [
    "import csv\n",
    "from pandas import *"
   ]
  },
  {
   "cell_type": "code",
   "execution_count": 38,
   "metadata": {
    "collapsed": true
   },
   "outputs": [],
   "source": [
    "spx_all = read_csv('spx_options_1990_2015.csv', delimiter=',', header=0, usecols=[0,2,3,4,5,6,7,8,9,10,11,14,15], \n",
    "               names=['date','cl','exp','strike','pc','oi','vol','high','low','open','last','spc','ty'])"
   ]
  },
  {
   "cell_type": "code",
   "execution_count": 39,
   "metadata": {
    "collapsed": false
   },
   "outputs": [
    {
     "data": {
      "text/plain": [
       "7771985"
      ]
     },
     "execution_count": 39,
     "metadata": {},
     "output_type": "execute_result"
    }
   ],
   "source": [
    "len(spx_all)"
   ]
  },
  {
   "cell_type": "code",
   "execution_count": 40,
   "metadata": {
    "collapsed": false
   },
   "outputs": [
    {
     "data": {
      "text/html": [
       "<div style=\"max-height:1000px;max-width:1500px;overflow:auto;\">\n",
       "<table border=\"1\" class=\"dataframe\">\n",
       "  <thead>\n",
       "    <tr style=\"text-align: right;\">\n",
       "      <th></th>\n",
       "      <th>date</th>\n",
       "      <th>cl</th>\n",
       "      <th>exp</th>\n",
       "      <th>strike</th>\n",
       "      <th>pc</th>\n",
       "      <th>oi</th>\n",
       "      <th>vol</th>\n",
       "      <th>high</th>\n",
       "      <th>low</th>\n",
       "      <th>open</th>\n",
       "      <th>last</th>\n",
       "      <th>spc</th>\n",
       "      <th>ty</th>\n",
       "    </tr>\n",
       "  </thead>\n",
       "  <tbody>\n",
       "    <tr>\n",
       "      <th>0</th>\n",
       "      <td> 19900102</td>\n",
       "      <td> NSX</td>\n",
       "      <td> 19900317</td>\n",
       "      <td> 330</td>\n",
       "      <td> C</td>\n",
       "      <td>    0</td>\n",
       "      <td> 0</td>\n",
       "      <td> 0</td>\n",
       "      <td> 0</td>\n",
       "      <td> 0</td>\n",
       "      <td> 0</td>\n",
       "      <td> 359.69</td>\n",
       "      <td> Standard</td>\n",
       "    </tr>\n",
       "    <tr>\n",
       "      <th>1</th>\n",
       "      <td> 19900102</td>\n",
       "      <td> NSX</td>\n",
       "      <td> 19900317</td>\n",
       "      <td> 335</td>\n",
       "      <td> C</td>\n",
       "      <td>    0</td>\n",
       "      <td> 0</td>\n",
       "      <td> 0</td>\n",
       "      <td> 0</td>\n",
       "      <td> 0</td>\n",
       "      <td> 0</td>\n",
       "      <td> 359.69</td>\n",
       "      <td> Standard</td>\n",
       "    </tr>\n",
       "    <tr>\n",
       "      <th>2</th>\n",
       "      <td> 19900102</td>\n",
       "      <td> NSX</td>\n",
       "      <td> 19900317</td>\n",
       "      <td> 340</td>\n",
       "      <td> C</td>\n",
       "      <td> 3007</td>\n",
       "      <td> 0</td>\n",
       "      <td> 0</td>\n",
       "      <td> 0</td>\n",
       "      <td> 0</td>\n",
       "      <td> 0</td>\n",
       "      <td> 359.69</td>\n",
       "      <td> Standard</td>\n",
       "    </tr>\n",
       "    <tr>\n",
       "      <th>3</th>\n",
       "      <td> 19900102</td>\n",
       "      <td> NSX</td>\n",
       "      <td> 19900317</td>\n",
       "      <td> 345</td>\n",
       "      <td> C</td>\n",
       "      <td>  410</td>\n",
       "      <td> 0</td>\n",
       "      <td> 0</td>\n",
       "      <td> 0</td>\n",
       "      <td> 0</td>\n",
       "      <td> 0</td>\n",
       "      <td> 359.69</td>\n",
       "      <td> Standard</td>\n",
       "    </tr>\n",
       "    <tr>\n",
       "      <th>4</th>\n",
       "      <td> 19900102</td>\n",
       "      <td> NSX</td>\n",
       "      <td> 19900317</td>\n",
       "      <td> 350</td>\n",
       "      <td> C</td>\n",
       "      <td>  300</td>\n",
       "      <td> 0</td>\n",
       "      <td> 0</td>\n",
       "      <td> 0</td>\n",
       "      <td> 0</td>\n",
       "      <td> 0</td>\n",
       "      <td> 359.69</td>\n",
       "      <td> Standard</td>\n",
       "    </tr>\n",
       "  </tbody>\n",
       "</table>\n",
       "</div>"
      ],
      "text/plain": [
       "       date   cl       exp  strike pc    oi  vol  high  low  open  last  \\\n",
       "0  19900102  NSX  19900317     330  C     0    0     0    0     0     0   \n",
       "1  19900102  NSX  19900317     335  C     0    0     0    0     0     0   \n",
       "2  19900102  NSX  19900317     340  C  3007    0     0    0     0     0   \n",
       "3  19900102  NSX  19900317     345  C   410    0     0    0     0     0   \n",
       "4  19900102  NSX  19900317     350  C   300    0     0    0     0     0   \n",
       "\n",
       "      spc        ty  \n",
       "0  359.69  Standard  \n",
       "1  359.69  Standard  \n",
       "2  359.69  Standard  \n",
       "3  359.69  Standard  \n",
       "4  359.69  Standard  "
      ]
     },
     "execution_count": 40,
     "metadata": {},
     "output_type": "execute_result"
    }
   ],
   "source": [
    "spx_all.head(5)"
   ]
  },
  {
   "cell_type": "code",
   "execution_count": 41,
   "metadata": {
    "collapsed": false
   },
   "outputs": [
    {
     "data": {
      "text/html": [
       "<div style=\"max-height:1000px;max-width:1500px;overflow:auto;\">\n",
       "<table border=\"1\" class=\"dataframe\">\n",
       "  <thead>\n",
       "    <tr style=\"text-align: right;\">\n",
       "      <th></th>\n",
       "      <th>date</th>\n",
       "      <th>cl</th>\n",
       "      <th>exp</th>\n",
       "      <th>strike</th>\n",
       "      <th>pc</th>\n",
       "      <th>oi</th>\n",
       "      <th>vol</th>\n",
       "      <th>high</th>\n",
       "      <th>low</th>\n",
       "      <th>open</th>\n",
       "      <th>last</th>\n",
       "      <th>spc</th>\n",
       "      <th>ty</th>\n",
       "    </tr>\n",
       "  </thead>\n",
       "  <tbody>\n",
       "    <tr>\n",
       "      <th>7771980</th>\n",
       "      <td> 20150601</td>\n",
       "      <td> SPXW</td>\n",
       "      <td> 20160331</td>\n",
       "      <td> 2300</td>\n",
       "      <td> P</td>\n",
       "      <td> 0</td>\n",
       "      <td> 0</td>\n",
       "      <td> 0</td>\n",
       "      <td> 0</td>\n",
       "      <td> 0</td>\n",
       "      <td> 0</td>\n",
       "      <td> 2111.73</td>\n",
       "      <td> LEAP</td>\n",
       "    </tr>\n",
       "    <tr>\n",
       "      <th>7771981</th>\n",
       "      <td> 20150601</td>\n",
       "      <td> SPXW</td>\n",
       "      <td> 20160331</td>\n",
       "      <td> 2400</td>\n",
       "      <td> P</td>\n",
       "      <td> 0</td>\n",
       "      <td> 0</td>\n",
       "      <td> 0</td>\n",
       "      <td> 0</td>\n",
       "      <td> 0</td>\n",
       "      <td> 0</td>\n",
       "      <td> 2111.73</td>\n",
       "      <td> LEAP</td>\n",
       "    </tr>\n",
       "    <tr>\n",
       "      <th>7771982</th>\n",
       "      <td> 20150601</td>\n",
       "      <td> SPXW</td>\n",
       "      <td> 20160331</td>\n",
       "      <td> 2500</td>\n",
       "      <td> P</td>\n",
       "      <td> 0</td>\n",
       "      <td> 0</td>\n",
       "      <td> 0</td>\n",
       "      <td> 0</td>\n",
       "      <td> 0</td>\n",
       "      <td> 0</td>\n",
       "      <td> 2111.73</td>\n",
       "      <td> LEAP</td>\n",
       "    </tr>\n",
       "    <tr>\n",
       "      <th>7771983</th>\n",
       "      <td> 20150601</td>\n",
       "      <td> SPXW</td>\n",
       "      <td> 20160331</td>\n",
       "      <td> 2600</td>\n",
       "      <td> P</td>\n",
       "      <td> 0</td>\n",
       "      <td> 0</td>\n",
       "      <td> 0</td>\n",
       "      <td> 0</td>\n",
       "      <td> 0</td>\n",
       "      <td> 0</td>\n",
       "      <td> 2111.73</td>\n",
       "      <td> LEAP</td>\n",
       "    </tr>\n",
       "    <tr>\n",
       "      <th>7771984</th>\n",
       "      <td> 20150601</td>\n",
       "      <td> SPXW</td>\n",
       "      <td> 20160331</td>\n",
       "      <td> 2700</td>\n",
       "      <td> P</td>\n",
       "      <td> 0</td>\n",
       "      <td> 0</td>\n",
       "      <td> 0</td>\n",
       "      <td> 0</td>\n",
       "      <td> 0</td>\n",
       "      <td> 0</td>\n",
       "      <td> 2111.73</td>\n",
       "      <td> LEAP</td>\n",
       "    </tr>\n",
       "  </tbody>\n",
       "</table>\n",
       "</div>"
      ],
      "text/plain": [
       "             date    cl       exp  strike pc  oi  vol  high  low  open  last  \\\n",
       "7771980  20150601  SPXW  20160331    2300  P   0    0     0    0     0     0   \n",
       "7771981  20150601  SPXW  20160331    2400  P   0    0     0    0     0     0   \n",
       "7771982  20150601  SPXW  20160331    2500  P   0    0     0    0     0     0   \n",
       "7771983  20150601  SPXW  20160331    2600  P   0    0     0    0     0     0   \n",
       "7771984  20150601  SPXW  20160331    2700  P   0    0     0    0     0     0   \n",
       "\n",
       "             spc    ty  \n",
       "7771980  2111.73  LEAP  \n",
       "7771981  2111.73  LEAP  \n",
       "7771982  2111.73  LEAP  \n",
       "7771983  2111.73  LEAP  \n",
       "7771984  2111.73  LEAP  "
      ]
     },
     "execution_count": 41,
     "metadata": {},
     "output_type": "execute_result"
    }
   ],
   "source": [
    "spx_all.tail(5)"
   ]
  },
  {
   "cell_type": "code",
   "execution_count": 42,
   "metadata": {
    "collapsed": false
   },
   "outputs": [],
   "source": [
    "spx = spx_all[spx_all.ty == 'Standard']"
   ]
  },
  {
   "cell_type": "code",
   "execution_count": 43,
   "metadata": {
    "collapsed": false
   },
   "outputs": [
    {
     "data": {
      "text/plain": [
       "4722723"
      ]
     },
     "execution_count": 43,
     "metadata": {},
     "output_type": "execute_result"
    }
   ],
   "source": [
    "len(spx)"
   ]
  },
  {
   "cell_type": "code",
   "execution_count": 44,
   "metadata": {
    "collapsed": false
   },
   "outputs": [],
   "source": [
    "spx = spx[spx.cl == 'SPX']"
   ]
  },
  {
   "cell_type": "code",
   "execution_count": 45,
   "metadata": {
    "collapsed": false
   },
   "outputs": [
    {
     "data": {
      "text/plain": [
       "2406884"
      ]
     },
     "execution_count": 45,
     "metadata": {},
     "output_type": "execute_result"
    }
   ],
   "source": [
    "len(spx)"
   ]
  },
  {
   "cell_type": "code",
   "execution_count": 46,
   "metadata": {
    "collapsed": true
   },
   "outputs": [],
   "source": [
    "spx.exp = to_datetime(str(spx.exp))"
   ]
  },
  {
   "cell_type": "code",
   "execution_count": 47,
   "metadata": {
    "collapsed": false
   },
   "outputs": [
    {
     "data": {
      "text/html": [
       "<div style=\"max-height:1000px;max-width:1500px;overflow:auto;\">\n",
       "<table border=\"1\" class=\"dataframe\">\n",
       "  <thead>\n",
       "    <tr style=\"text-align: right;\">\n",
       "      <th></th>\n",
       "      <th>date</th>\n",
       "      <th>cl</th>\n",
       "      <th>exp</th>\n",
       "      <th>strike</th>\n",
       "      <th>pc</th>\n",
       "      <th>oi</th>\n",
       "      <th>vol</th>\n",
       "      <th>high</th>\n",
       "      <th>low</th>\n",
       "      <th>open</th>\n",
       "      <th>last</th>\n",
       "      <th>spc</th>\n",
       "      <th>ty</th>\n",
       "    </tr>\n",
       "  </thead>\n",
       "  <tbody>\n",
       "    <tr>\n",
       "      <th>86</th>\n",
       "      <td> 19900102</td>\n",
       "      <td> SPX</td>\n",
       "      <td> 86     19900120\\n87     19900120\\n88     19900...</td>\n",
       "      <td> 320</td>\n",
       "      <td> C</td>\n",
       "      <td> 1088</td>\n",
       "      <td>  0</td>\n",
       "      <td>  0.000</td>\n",
       "      <td>  0.0</td>\n",
       "      <td>  0.00</td>\n",
       "      <td>  0.000</td>\n",
       "      <td> 359.69</td>\n",
       "      <td> Standard</td>\n",
       "    </tr>\n",
       "    <tr>\n",
       "      <th>87</th>\n",
       "      <td> 19900102</td>\n",
       "      <td> SPX</td>\n",
       "      <td> 86     19900120\\n87     19900120\\n88     19900...</td>\n",
       "      <td> 325</td>\n",
       "      <td> C</td>\n",
       "      <td> 1252</td>\n",
       "      <td>  0</td>\n",
       "      <td>  0.000</td>\n",
       "      <td>  0.0</td>\n",
       "      <td>  0.00</td>\n",
       "      <td>  0.000</td>\n",
       "      <td> 359.69</td>\n",
       "      <td> Standard</td>\n",
       "    </tr>\n",
       "    <tr>\n",
       "      <th>88</th>\n",
       "      <td> 19900102</td>\n",
       "      <td> SPX</td>\n",
       "      <td> 86     19900120\\n87     19900120\\n88     19900...</td>\n",
       "      <td> 330</td>\n",
       "      <td> C</td>\n",
       "      <td> 8738</td>\n",
       "      <td> 25</td>\n",
       "      <td> 30.500</td>\n",
       "      <td> 30.5</td>\n",
       "      <td> 30.50</td>\n",
       "      <td> 30.500</td>\n",
       "      <td> 359.69</td>\n",
       "      <td> Standard</td>\n",
       "    </tr>\n",
       "    <tr>\n",
       "      <th>89</th>\n",
       "      <td> 19900102</td>\n",
       "      <td> SPX</td>\n",
       "      <td> 86     19900120\\n87     19900120\\n88     19900...</td>\n",
       "      <td> 335</td>\n",
       "      <td> C</td>\n",
       "      <td>  580</td>\n",
       "      <td>  0</td>\n",
       "      <td>  0.000</td>\n",
       "      <td>  0.0</td>\n",
       "      <td>  0.00</td>\n",
       "      <td>  0.000</td>\n",
       "      <td> 359.69</td>\n",
       "      <td> Standard</td>\n",
       "    </tr>\n",
       "    <tr>\n",
       "      <th>90</th>\n",
       "      <td> 19900102</td>\n",
       "      <td> SPX</td>\n",
       "      <td> 86     19900120\\n87     19900120\\n88     19900...</td>\n",
       "      <td> 340</td>\n",
       "      <td> C</td>\n",
       "      <td> 2480</td>\n",
       "      <td> 27</td>\n",
       "      <td> 17.625</td>\n",
       "      <td> 17.0</td>\n",
       "      <td> 17.25</td>\n",
       "      <td> 17.625</td>\n",
       "      <td> 359.69</td>\n",
       "      <td> Standard</td>\n",
       "    </tr>\n",
       "  </tbody>\n",
       "</table>\n",
       "</div>"
      ],
      "text/plain": [
       "        date   cl                                                exp  strike  \\\n",
       "86  19900102  SPX  86     19900120\\n87     19900120\\n88     19900...     320   \n",
       "87  19900102  SPX  86     19900120\\n87     19900120\\n88     19900...     325   \n",
       "88  19900102  SPX  86     19900120\\n87     19900120\\n88     19900...     330   \n",
       "89  19900102  SPX  86     19900120\\n87     19900120\\n88     19900...     335   \n",
       "90  19900102  SPX  86     19900120\\n87     19900120\\n88     19900...     340   \n",
       "\n",
       "   pc    oi  vol    high   low   open    last     spc        ty  \n",
       "86  C  1088    0   0.000   0.0   0.00   0.000  359.69  Standard  \n",
       "87  C  1252    0   0.000   0.0   0.00   0.000  359.69  Standard  \n",
       "88  C  8738   25  30.500  30.5  30.50  30.500  359.69  Standard  \n",
       "89  C   580    0   0.000   0.0   0.00   0.000  359.69  Standard  \n",
       "90  C  2480   27  17.625  17.0  17.25  17.625  359.69  Standard  "
      ]
     },
     "execution_count": 47,
     "metadata": {},
     "output_type": "execute_result"
    }
   ],
   "source": [
    "spx.head(5)"
   ]
  },
  {
   "cell_type": "code",
   "execution_count": 48,
   "metadata": {
    "collapsed": false
   },
   "outputs": [
    {
     "data": {
      "text/html": [
       "<div style=\"max-height:1000px;max-width:1500px;overflow:auto;\">\n",
       "<table border=\"1\" class=\"dataframe\">\n",
       "  <thead>\n",
       "    <tr style=\"text-align: right;\">\n",
       "      <th></th>\n",
       "      <th>date</th>\n",
       "      <th>cl</th>\n",
       "      <th>exp</th>\n",
       "      <th>strike</th>\n",
       "      <th>pc</th>\n",
       "      <th>oi</th>\n",
       "      <th>vol</th>\n",
       "      <th>high</th>\n",
       "      <th>low</th>\n",
       "      <th>open</th>\n",
       "      <th>last</th>\n",
       "      <th>spc</th>\n",
       "      <th>ty</th>\n",
       "    </tr>\n",
       "  </thead>\n",
       "  <tbody>\n",
       "    <tr>\n",
       "      <th>7766562</th>\n",
       "      <td> 20150601</td>\n",
       "      <td> SPX</td>\n",
       "      <td> 86     19900120\\n87     19900120\\n88     19900...</td>\n",
       "      <td> 2600</td>\n",
       "      <td> P</td>\n",
       "      <td>  0</td>\n",
       "      <td> 0</td>\n",
       "      <td> 0</td>\n",
       "      <td> 0</td>\n",
       "      <td> 0</td>\n",
       "      <td> 0</td>\n",
       "      <td> 2111.73</td>\n",
       "      <td> Standard</td>\n",
       "    </tr>\n",
       "    <tr>\n",
       "      <th>7766563</th>\n",
       "      <td> 20150601</td>\n",
       "      <td> SPX</td>\n",
       "      <td> 86     19900120\\n87     19900120\\n88     19900...</td>\n",
       "      <td> 2700</td>\n",
       "      <td> P</td>\n",
       "      <td>  0</td>\n",
       "      <td> 0</td>\n",
       "      <td> 0</td>\n",
       "      <td> 0</td>\n",
       "      <td> 0</td>\n",
       "      <td> 0</td>\n",
       "      <td> 2111.73</td>\n",
       "      <td> Standard</td>\n",
       "    </tr>\n",
       "    <tr>\n",
       "      <th>7766564</th>\n",
       "      <td> 20150601</td>\n",
       "      <td> SPX</td>\n",
       "      <td> 86     19900120\\n87     19900120\\n88     19900...</td>\n",
       "      <td> 2800</td>\n",
       "      <td> P</td>\n",
       "      <td>  2</td>\n",
       "      <td> 0</td>\n",
       "      <td> 0</td>\n",
       "      <td> 0</td>\n",
       "      <td> 0</td>\n",
       "      <td> 0</td>\n",
       "      <td> 2111.73</td>\n",
       "      <td> Standard</td>\n",
       "    </tr>\n",
       "    <tr>\n",
       "      <th>7766565</th>\n",
       "      <td> 20150601</td>\n",
       "      <td> SPX</td>\n",
       "      <td> 86     19900120\\n87     19900120\\n88     19900...</td>\n",
       "      <td> 2900</td>\n",
       "      <td> P</td>\n",
       "      <td> 12</td>\n",
       "      <td> 0</td>\n",
       "      <td> 0</td>\n",
       "      <td> 0</td>\n",
       "      <td> 0</td>\n",
       "      <td> 0</td>\n",
       "      <td> 2111.73</td>\n",
       "      <td> Standard</td>\n",
       "    </tr>\n",
       "    <tr>\n",
       "      <th>7766566</th>\n",
       "      <td> 20150601</td>\n",
       "      <td> SPX</td>\n",
       "      <td> 86     19900120\\n87     19900120\\n88     19900...</td>\n",
       "      <td> 3000</td>\n",
       "      <td> P</td>\n",
       "      <td> 12</td>\n",
       "      <td> 0</td>\n",
       "      <td> 0</td>\n",
       "      <td> 0</td>\n",
       "      <td> 0</td>\n",
       "      <td> 0</td>\n",
       "      <td> 2111.73</td>\n",
       "      <td> Standard</td>\n",
       "    </tr>\n",
       "  </tbody>\n",
       "</table>\n",
       "</div>"
      ],
      "text/plain": [
       "             date   cl                                                exp  \\\n",
       "7766562  20150601  SPX  86     19900120\\n87     19900120\\n88     19900...   \n",
       "7766563  20150601  SPX  86     19900120\\n87     19900120\\n88     19900...   \n",
       "7766564  20150601  SPX  86     19900120\\n87     19900120\\n88     19900...   \n",
       "7766565  20150601  SPX  86     19900120\\n87     19900120\\n88     19900...   \n",
       "7766566  20150601  SPX  86     19900120\\n87     19900120\\n88     19900...   \n",
       "\n",
       "         strike pc  oi  vol  high  low  open  last      spc        ty  \n",
       "7766562    2600  P   0    0     0    0     0     0  2111.73  Standard  \n",
       "7766563    2700  P   0    0     0    0     0     0  2111.73  Standard  \n",
       "7766564    2800  P   2    0     0    0     0     0  2111.73  Standard  \n",
       "7766565    2900  P  12    0     0    0     0     0  2111.73  Standard  \n",
       "7766566    3000  P  12    0     0    0     0     0  2111.73  Standard  "
      ]
     },
     "execution_count": 48,
     "metadata": {},
     "output_type": "execute_result"
    }
   ],
   "source": [
    "spx.tail(5)"
   ]
  },
  {
   "cell_type": "code",
   "execution_count": 49,
   "metadata": {
    "collapsed": false
   },
   "outputs": [
    {
     "ename": "KeyError",
     "evalue": "0",
     "output_type": "error",
     "traceback": [
      "\u001b[0;31m---------------------------------------------------------------------------\u001b[0m",
      "\u001b[0;31mKeyError\u001b[0m                                  Traceback (most recent call last)",
      "\u001b[0;32m<ipython-input-49-2904fbed4c17>\u001b[0m in \u001b[0;36m<module>\u001b[0;34m()\u001b[0m\n\u001b[0;32m----> 1\u001b[0;31m \u001b[0mspx\u001b[0m\u001b[0;34m[\u001b[0m\u001b[0;34m'exp'\u001b[0m\u001b[0;34m]\u001b[0m\u001b[0;34m[\u001b[0m\u001b[0;36m0\u001b[0m\u001b[0;34m]\u001b[0m\u001b[0;34m\u001b[0m\u001b[0m\n\u001b[0m",
      "\u001b[0;32m/usr/local/lib/python2.7/site-packages/pandas/core/series.pyc\u001b[0m in \u001b[0;36m__getitem__\u001b[0;34m(self, key)\u001b[0m\n\u001b[1;32m    507\u001b[0m     \u001b[0;32mdef\u001b[0m \u001b[0m__getitem__\u001b[0m\u001b[0;34m(\u001b[0m\u001b[0mself\u001b[0m\u001b[0;34m,\u001b[0m \u001b[0mkey\u001b[0m\u001b[0;34m)\u001b[0m\u001b[0;34m:\u001b[0m\u001b[0;34m\u001b[0m\u001b[0m\n\u001b[1;32m    508\u001b[0m         \u001b[0;32mtry\u001b[0m\u001b[0;34m:\u001b[0m\u001b[0;34m\u001b[0m\u001b[0m\n\u001b[0;32m--> 509\u001b[0;31m             \u001b[0mresult\u001b[0m \u001b[0;34m=\u001b[0m \u001b[0mself\u001b[0m\u001b[0;34m.\u001b[0m\u001b[0mindex\u001b[0m\u001b[0;34m.\u001b[0m\u001b[0mget_value\u001b[0m\u001b[0;34m(\u001b[0m\u001b[0mself\u001b[0m\u001b[0;34m,\u001b[0m \u001b[0mkey\u001b[0m\u001b[0;34m)\u001b[0m\u001b[0;34m\u001b[0m\u001b[0m\n\u001b[0m\u001b[1;32m    510\u001b[0m \u001b[0;34m\u001b[0m\u001b[0m\n\u001b[1;32m    511\u001b[0m             \u001b[0;32mif\u001b[0m \u001b[0;32mnot\u001b[0m \u001b[0mnp\u001b[0m\u001b[0;34m.\u001b[0m\u001b[0misscalar\u001b[0m\u001b[0;34m(\u001b[0m\u001b[0mresult\u001b[0m\u001b[0;34m)\u001b[0m\u001b[0;34m:\u001b[0m\u001b[0;34m\u001b[0m\u001b[0m\n",
      "\u001b[0;32m/usr/local/lib/python2.7/site-packages/pandas/core/index.pyc\u001b[0m in \u001b[0;36mget_value\u001b[0;34m(self, series, key)\u001b[0m\n\u001b[1;32m   1415\u001b[0m \u001b[0;34m\u001b[0m\u001b[0m\n\u001b[1;32m   1416\u001b[0m         \u001b[0;32mtry\u001b[0m\u001b[0;34m:\u001b[0m\u001b[0;34m\u001b[0m\u001b[0m\n\u001b[0;32m-> 1417\u001b[0;31m             \u001b[0;32mreturn\u001b[0m \u001b[0mself\u001b[0m\u001b[0;34m.\u001b[0m\u001b[0m_engine\u001b[0m\u001b[0;34m.\u001b[0m\u001b[0mget_value\u001b[0m\u001b[0;34m(\u001b[0m\u001b[0ms\u001b[0m\u001b[0;34m,\u001b[0m \u001b[0mk\u001b[0m\u001b[0;34m)\u001b[0m\u001b[0;34m\u001b[0m\u001b[0m\n\u001b[0m\u001b[1;32m   1418\u001b[0m         \u001b[0;32mexcept\u001b[0m \u001b[0mKeyError\u001b[0m \u001b[0;32mas\u001b[0m \u001b[0me1\u001b[0m\u001b[0;34m:\u001b[0m\u001b[0;34m\u001b[0m\u001b[0m\n\u001b[1;32m   1419\u001b[0m             \u001b[0;32mif\u001b[0m \u001b[0mlen\u001b[0m\u001b[0;34m(\u001b[0m\u001b[0mself\u001b[0m\u001b[0;34m)\u001b[0m \u001b[0;34m>\u001b[0m \u001b[0;36m0\u001b[0m \u001b[0;32mand\u001b[0m \u001b[0mself\u001b[0m\u001b[0;34m.\u001b[0m\u001b[0minferred_type\u001b[0m \u001b[0;32min\u001b[0m \u001b[0;34m[\u001b[0m\u001b[0;34m'integer'\u001b[0m\u001b[0;34m,\u001b[0m\u001b[0;34m'boolean'\u001b[0m\u001b[0;34m]\u001b[0m\u001b[0;34m:\u001b[0m\u001b[0;34m\u001b[0m\u001b[0m\n",
      "\u001b[0;32mpandas/index.pyx\u001b[0m in \u001b[0;36mpandas.index.IndexEngine.get_value (pandas/index.c:3096)\u001b[0;34m()\u001b[0m\n",
      "\u001b[0;32mpandas/index.pyx\u001b[0m in \u001b[0;36mpandas.index.IndexEngine.get_value (pandas/index.c:2827)\u001b[0;34m()\u001b[0m\n",
      "\u001b[0;32mpandas/index.pyx\u001b[0m in \u001b[0;36mpandas.index.IndexEngine.get_loc (pandas/index.c:3587)\u001b[0;34m()\u001b[0m\n",
      "\u001b[0;31mKeyError\u001b[0m: 0"
     ]
    }
   ],
   "source": [
    "spx['exp'][0]"
   ]
  },
  {
   "cell_type": "code",
   "execution_count": null,
   "metadata": {
    "collapsed": true
   },
   "outputs": [],
   "source": []
  }
 ],
 "metadata": {
  "kernelspec": {
   "display_name": "Python 2",
   "language": "python",
   "name": "python2"
  },
  "language_info": {
   "codemirror_mode": {
    "name": "ipython",
    "version": 2
   },
   "file_extension": ".py",
   "mimetype": "text/x-python",
   "name": "python",
   "nbconvert_exporter": "python",
   "pygments_lexer": "ipython2",
   "version": "2.7.9"
  }
 },
 "nbformat": 4,
 "nbformat_minor": 0
}
