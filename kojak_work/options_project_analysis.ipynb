{
 "cells": [
  {
   "cell_type": "code",
   "execution_count": 130,
   "metadata": {
    "collapsed": false
   },
   "outputs": [],
   "source": [
    "import csv\n",
    "import pandas as pd\n",
    "from pandas import *\n",
    "from __future__ import division\n",
    "from pandas.tseries.offsets import *\n",
    "import dateutil.rrule as dr\n",
    "import dateutil.parser as dp\n",
    "import dateutil.relativedelta as drel\n",
    "import numpy as np"
   ]
  },
  {
   "cell_type": "markdown",
   "metadata": {},
   "source": [
    "## Loading files"
   ]
  },
  {
   "cell_type": "code",
   "execution_count": 131,
   "metadata": {
    "collapsed": false
   },
   "outputs": [],
   "source": [
    "#spd = read_csv('http://real-chart.finance.yahoo.com/table.csv?s=%5EGSPC&a=00&b=1&c=1974&d=05&e=9&f=2015&g=d&ignore=.csv',\n",
    "#               delimiter=',', header=0, \n",
    "#               names=['date','o','h','l','close','vol','c'])\n",
    "#spw = read_csv('http://real-chart.finance.yahoo.com/table.csv?s=%5EGSPC&a=00&b=1&c=1974&d=05&e=9&f=2015&g=w&ignore=.csv',\n",
    "#               delimiter=',', header=0, \n",
    "#               names=['date','o','h','l','close','vol','c'])\n",
    "\n",
    "#http://real-chart.finance.yahoo.com/table.csv?s=DAL&a=04&b=3&c=2008&d=05&e=9&f=2015&g=d&ignore=.csv\n",
    "#http://real-chart.finance.yahoo.com/table.csv?s=%5EGSPC&a=00&b=1&c=1974&d=05&e=9&f=2015&g=d&ignore=.csv"
   ]
  },
  {
   "cell_type": "code",
   "execution_count": 132,
   "metadata": {
    "collapsed": false
   },
   "outputs": [],
   "source": [
    "spd = read_csv('spd.csv', delimiter=',', header=0)\n",
    "spw = read_csv('spw.csv', delimiter=',', header=0)\n",
    "options = read_csv('options.csv', delimiter=',', header=0)"
   ]
  },
  {
   "cell_type": "code",
   "execution_count": 133,
   "metadata": {
    "collapsed": true
   },
   "outputs": [],
   "source": [
    "spd.rename(columns={'Unnamed: 0':'nrow'}, inplace=True)\n",
    "spw.rename(columns={'Unnamed: 0':'nrow'}, inplace=True)\n",
    "options.rename(columns={'Unnamed: 0':'nrow'}, inplace=True)"
   ]
  },
  {
   "cell_type": "code",
   "execution_count": 134,
   "metadata": {
    "collapsed": false
   },
   "outputs": [
    {
     "name": "stdout",
     "output_type": "stream",
     "text": [
      "<class 'pandas.tslib.Timestamp'> <class 'pandas.tslib.Timestamp'>\n"
     ]
    }
   ],
   "source": [
    "spd['date'] = pd.to_datetime(spd['date'])\n",
    "spw['date'] = pd.to_datetime(spw['date'])\n",
    "print type(spd.date[0]), type(spw.date[0])"
   ]
  },
  {
   "cell_type": "code",
   "execution_count": 135,
   "metadata": {
    "collapsed": false
   },
   "outputs": [
    {
     "data": {
      "text/html": [
       "<div style=\"max-height:1000px;max-width:1500px;overflow:auto;\">\n",
       "<table border=\"1\" class=\"dataframe\">\n",
       "  <thead>\n",
       "    <tr style=\"text-align: right;\">\n",
       "      <th></th>\n",
       "      <th>nrow</th>\n",
       "      <th>date</th>\n",
       "      <th>o</th>\n",
       "      <th>h</th>\n",
       "      <th>l</th>\n",
       "      <th>close</th>\n",
       "      <th>vol</th>\n",
       "      <th>c</th>\n",
       "    </tr>\n",
       "  </thead>\n",
       "  <tbody>\n",
       "    <tr>\n",
       "      <th>0</th>\n",
       "      <td> 0</td>\n",
       "      <td>2015-06-05</td>\n",
       "      <td> 2095.09009</td>\n",
       "      <td> 2100.98999</td>\n",
       "      <td> 2085.66992</td>\n",
       "      <td> 2092.83008</td>\n",
       "      <td> 3243690000</td>\n",
       "      <td> 2092.83008</td>\n",
       "    </tr>\n",
       "    <tr>\n",
       "      <th>1</th>\n",
       "      <td> 1</td>\n",
       "      <td>2015-06-04</td>\n",
       "      <td> 2112.35010</td>\n",
       "      <td> 2112.88989</td>\n",
       "      <td> 2093.22998</td>\n",
       "      <td> 2095.84009</td>\n",
       "      <td> 3200050000</td>\n",
       "      <td> 2095.84009</td>\n",
       "    </tr>\n",
       "    <tr>\n",
       "      <th>2</th>\n",
       "      <td> 2</td>\n",
       "      <td>2015-06-03</td>\n",
       "      <td> 2110.63989</td>\n",
       "      <td> 2121.91992</td>\n",
       "      <td> 2109.61011</td>\n",
       "      <td> 2114.07007</td>\n",
       "      <td> 3099980000</td>\n",
       "      <td> 2114.07007</td>\n",
       "    </tr>\n",
       "  </tbody>\n",
       "</table>\n",
       "</div>"
      ],
      "text/plain": [
       "   nrow       date           o           h           l       close  \\\n",
       "0     0 2015-06-05  2095.09009  2100.98999  2085.66992  2092.83008   \n",
       "1     1 2015-06-04  2112.35010  2112.88989  2093.22998  2095.84009   \n",
       "2     2 2015-06-03  2110.63989  2121.91992  2109.61011  2114.07007   \n",
       "\n",
       "          vol           c  \n",
       "0  3243690000  2092.83008  \n",
       "1  3200050000  2095.84009  \n",
       "2  3099980000  2114.07007  "
      ]
     },
     "execution_count": 135,
     "metadata": {},
     "output_type": "execute_result"
    }
   ],
   "source": [
    "spd.head(3)"
   ]
  },
  {
   "cell_type": "code",
   "execution_count": 136,
   "metadata": {
    "collapsed": false
   },
   "outputs": [
    {
     "data": {
      "text/html": [
       "<div style=\"max-height:1000px;max-width:1500px;overflow:auto;\">\n",
       "<table border=\"1\" class=\"dataframe\">\n",
       "  <thead>\n",
       "    <tr style=\"text-align: right;\">\n",
       "      <th></th>\n",
       "      <th>nrow</th>\n",
       "      <th>date</th>\n",
       "      <th>o</th>\n",
       "      <th>h</th>\n",
       "      <th>l</th>\n",
       "      <th>close</th>\n",
       "      <th>vol</th>\n",
       "      <th>c</th>\n",
       "    </tr>\n",
       "  </thead>\n",
       "  <tbody>\n",
       "    <tr>\n",
       "      <th>10449</th>\n",
       "      <td> 10449</td>\n",
       "      <td>1974-01-04</td>\n",
       "      <td> 99.80</td>\n",
       "      <td> 100.70</td>\n",
       "      <td> 97.70</td>\n",
       "      <td> 98.90</td>\n",
       "      <td> 21700000</td>\n",
       "      <td> 98.90</td>\n",
       "    </tr>\n",
       "    <tr>\n",
       "      <th>10450</th>\n",
       "      <td> 10450</td>\n",
       "      <td>1974-01-03</td>\n",
       "      <td> 98.02</td>\n",
       "      <td> 100.94</td>\n",
       "      <td> 98.02</td>\n",
       "      <td> 99.80</td>\n",
       "      <td> 24850000</td>\n",
       "      <td> 99.80</td>\n",
       "    </tr>\n",
       "    <tr>\n",
       "      <th>10451</th>\n",
       "      <td> 10451</td>\n",
       "      <td>1974-01-02</td>\n",
       "      <td> 97.55</td>\n",
       "      <td>  98.38</td>\n",
       "      <td> 96.25</td>\n",
       "      <td> 97.68</td>\n",
       "      <td> 12060000</td>\n",
       "      <td> 97.68</td>\n",
       "    </tr>\n",
       "  </tbody>\n",
       "</table>\n",
       "</div>"
      ],
      "text/plain": [
       "        nrow       date      o       h      l  close       vol      c\n",
       "10449  10449 1974-01-04  99.80  100.70  97.70  98.90  21700000  98.90\n",
       "10450  10450 1974-01-03  98.02  100.94  98.02  99.80  24850000  99.80\n",
       "10451  10451 1974-01-02  97.55   98.38  96.25  97.68  12060000  97.68"
      ]
     },
     "execution_count": 136,
     "metadata": {},
     "output_type": "execute_result"
    }
   ],
   "source": [
    "spd.tail(3)"
   ]
  },
  {
   "cell_type": "code",
   "execution_count": 137,
   "metadata": {
    "collapsed": false
   },
   "outputs": [
    {
     "data": {
      "text/html": [
       "<div style=\"max-height:1000px;max-width:1500px;overflow:auto;\">\n",
       "<table border=\"1\" class=\"dataframe\">\n",
       "  <thead>\n",
       "    <tr style=\"text-align: right;\">\n",
       "      <th></th>\n",
       "      <th>nrow</th>\n",
       "      <th>date</th>\n",
       "      <th>o</th>\n",
       "      <th>h</th>\n",
       "      <th>l</th>\n",
       "      <th>close</th>\n",
       "      <th>vol</th>\n",
       "      <th>c</th>\n",
       "    </tr>\n",
       "  </thead>\n",
       "  <tbody>\n",
       "    <tr>\n",
       "      <th>0</th>\n",
       "      <td> 0</td>\n",
       "      <td>2015-06-01</td>\n",
       "      <td> 2108.63989</td>\n",
       "      <td> 2121.91992</td>\n",
       "      <td> 2085.66992</td>\n",
       "      <td> 2092.83008</td>\n",
       "      <td> 3120956000</td>\n",
       "      <td> 2092.83008</td>\n",
       "    </tr>\n",
       "    <tr>\n",
       "      <th>1</th>\n",
       "      <td> 1</td>\n",
       "      <td>2015-05-26</td>\n",
       "      <td> 2125.34009</td>\n",
       "      <td> 2126.21997</td>\n",
       "      <td> 2099.17993</td>\n",
       "      <td> 2107.38989</td>\n",
       "      <td> 3344457500</td>\n",
       "      <td> 2107.38989</td>\n",
       "    </tr>\n",
       "    <tr>\n",
       "      <th>2</th>\n",
       "      <td> 2</td>\n",
       "      <td>2015-05-18</td>\n",
       "      <td> 2121.30005</td>\n",
       "      <td> 2134.71997</td>\n",
       "      <td> 2120.01001</td>\n",
       "      <td> 2126.06006</td>\n",
       "      <td> 2970484000</td>\n",
       "      <td> 2126.06006</td>\n",
       "    </tr>\n",
       "  </tbody>\n",
       "</table>\n",
       "</div>"
      ],
      "text/plain": [
       "   nrow       date           o           h           l       close  \\\n",
       "0     0 2015-06-01  2108.63989  2121.91992  2085.66992  2092.83008   \n",
       "1     1 2015-05-26  2125.34009  2126.21997  2099.17993  2107.38989   \n",
       "2     2 2015-05-18  2121.30005  2134.71997  2120.01001  2126.06006   \n",
       "\n",
       "          vol           c  \n",
       "0  3120956000  2092.83008  \n",
       "1  3344457500  2107.38989  \n",
       "2  2970484000  2126.06006  "
      ]
     },
     "execution_count": 137,
     "metadata": {},
     "output_type": "execute_result"
    }
   ],
   "source": [
    "spw.head(3)"
   ]
  },
  {
   "cell_type": "code",
   "execution_count": 138,
   "metadata": {
    "collapsed": false
   },
   "outputs": [
    {
     "data": {
      "text/html": [
       "<div style=\"max-height:1000px;max-width:1500px;overflow:auto;\">\n",
       "<table border=\"1\" class=\"dataframe\">\n",
       "  <thead>\n",
       "    <tr style=\"text-align: right;\">\n",
       "      <th></th>\n",
       "      <th>nrow</th>\n",
       "      <th>date</th>\n",
       "      <th>o</th>\n",
       "      <th>h</th>\n",
       "      <th>l</th>\n",
       "      <th>close</th>\n",
       "      <th>vol</th>\n",
       "      <th>c</th>\n",
       "    </tr>\n",
       "  </thead>\n",
       "  <tbody>\n",
       "    <tr>\n",
       "      <th>2159</th>\n",
       "      <td> 2159</td>\n",
       "      <td>1974-01-14</td>\n",
       "      <td> 93.66</td>\n",
       "      <td>  98.35</td>\n",
       "      <td> 92.35</td>\n",
       "      <td> 95.56</td>\n",
       "      <td> 16060000</td>\n",
       "      <td> 95.56</td>\n",
       "    </tr>\n",
       "    <tr>\n",
       "      <th>2160</th>\n",
       "      <td> 2160</td>\n",
       "      <td>1974-01-07</td>\n",
       "      <td> 98.90</td>\n",
       "      <td>  99.31</td>\n",
       "      <td> 91.62</td>\n",
       "      <td> 93.66</td>\n",
       "      <td> 17296000</td>\n",
       "      <td> 93.66</td>\n",
       "    </tr>\n",
       "    <tr>\n",
       "      <th>2161</th>\n",
       "      <td> 2161</td>\n",
       "      <td>1974-01-02</td>\n",
       "      <td> 97.55</td>\n",
       "      <td> 100.94</td>\n",
       "      <td> 96.25</td>\n",
       "      <td> 98.90</td>\n",
       "      <td> 19536600</td>\n",
       "      <td> 98.90</td>\n",
       "    </tr>\n",
       "  </tbody>\n",
       "</table>\n",
       "</div>"
      ],
      "text/plain": [
       "      nrow       date      o       h      l  close       vol      c\n",
       "2159  2159 1974-01-14  93.66   98.35  92.35  95.56  16060000  95.56\n",
       "2160  2160 1974-01-07  98.90   99.31  91.62  93.66  17296000  93.66\n",
       "2161  2161 1974-01-02  97.55  100.94  96.25  98.90  19536600  98.90"
      ]
     },
     "execution_count": 138,
     "metadata": {},
     "output_type": "execute_result"
    }
   ],
   "source": [
    "spw.tail(3)"
   ]
  },
  {
   "cell_type": "code",
   "execution_count": 139,
   "metadata": {
    "collapsed": false
   },
   "outputs": [
    {
     "data": {
      "text/plain": [
       "10452"
      ]
     },
     "execution_count": 139,
     "metadata": {},
     "output_type": "execute_result"
    }
   ],
   "source": [
    "len(spd)"
   ]
  },
  {
   "cell_type": "code",
   "execution_count": 140,
   "metadata": {
    "collapsed": false
   },
   "outputs": [
    {
     "data": {
      "text/plain": [
       "2162"
      ]
     },
     "execution_count": 140,
     "metadata": {},
     "output_type": "execute_result"
    }
   ],
   "source": [
    "len(spw)"
   ]
  },
  {
   "cell_type": "code",
   "execution_count": 141,
   "metadata": {
    "collapsed": false
   },
   "outputs": [
    {
     "name": "stderr",
     "output_type": "stream",
     "text": [
      "/usr/local/lib/python2.7/site-packages/IPython/kernel/__main__.py:2: SettingWithCopyWarning: \n",
      "A value is trying to be set on a copy of a slice from a DataFrame\n",
      "\n",
      "See the the caveats in the documentation: http://pandas.pydata.org/pandas-docs/stable/indexing.html#indexing-view-versus-copy\n",
      "  from IPython.kernel.zmq import kernelapp as app\n"
     ]
    }
   ],
   "source": [
    "for i in range(len(spw.date)):\n",
    "    spw.date[i] = spw.date[i] + DateOffset(weekday = 4) + DateOffset(days = 1) - BDay()\n",
    "#    if spw.date[i] == dp.parse(\"21/03/2008\"):\n",
    "#        spw.date[i] = pd.to_datetime(dp.parse(\"20/03/2008\"))"
   ]
  },
  {
   "cell_type": "code",
   "execution_count": 142,
   "metadata": {
    "collapsed": false
   },
   "outputs": [
    {
     "data": {
      "text/html": [
       "<div style=\"max-height:1000px;max-width:1500px;overflow:auto;\">\n",
       "<table border=\"1\" class=\"dataframe\">\n",
       "  <thead>\n",
       "    <tr style=\"text-align: right;\">\n",
       "      <th></th>\n",
       "      <th>nrow</th>\n",
       "      <th>date</th>\n",
       "      <th>o</th>\n",
       "      <th>h</th>\n",
       "      <th>l</th>\n",
       "      <th>close</th>\n",
       "      <th>vol</th>\n",
       "      <th>c</th>\n",
       "    </tr>\n",
       "  </thead>\n",
       "  <tbody>\n",
       "    <tr>\n",
       "      <th>0</th>\n",
       "      <td> 0</td>\n",
       "      <td>2015-06-05</td>\n",
       "      <td> 2108.63989</td>\n",
       "      <td> 2121.91992</td>\n",
       "      <td> 2085.66992</td>\n",
       "      <td> 2092.83008</td>\n",
       "      <td> 3120956000</td>\n",
       "      <td> 2092.83008</td>\n",
       "    </tr>\n",
       "    <tr>\n",
       "      <th>1</th>\n",
       "      <td> 1</td>\n",
       "      <td>2015-05-29</td>\n",
       "      <td> 2125.34009</td>\n",
       "      <td> 2126.21997</td>\n",
       "      <td> 2099.17993</td>\n",
       "      <td> 2107.38989</td>\n",
       "      <td> 3344457500</td>\n",
       "      <td> 2107.38989</td>\n",
       "    </tr>\n",
       "    <tr>\n",
       "      <th>2</th>\n",
       "      <td> 2</td>\n",
       "      <td>2015-05-22</td>\n",
       "      <td> 2121.30005</td>\n",
       "      <td> 2134.71997</td>\n",
       "      <td> 2120.01001</td>\n",
       "      <td> 2126.06006</td>\n",
       "      <td> 2970484000</td>\n",
       "      <td> 2126.06006</td>\n",
       "    </tr>\n",
       "  </tbody>\n",
       "</table>\n",
       "</div>"
      ],
      "text/plain": [
       "   nrow       date           o           h           l       close  \\\n",
       "0     0 2015-06-05  2108.63989  2121.91992  2085.66992  2092.83008   \n",
       "1     1 2015-05-29  2125.34009  2126.21997  2099.17993  2107.38989   \n",
       "2     2 2015-05-22  2121.30005  2134.71997  2120.01001  2126.06006   \n",
       "\n",
       "          vol           c  \n",
       "0  3120956000  2092.83008  \n",
       "1  3344457500  2107.38989  \n",
       "2  2970484000  2126.06006  "
      ]
     },
     "execution_count": 142,
     "metadata": {},
     "output_type": "execute_result"
    }
   ],
   "source": [
    "spw.head(3)"
   ]
  },
  {
   "cell_type": "code",
   "execution_count": 143,
   "metadata": {
    "collapsed": false
   },
   "outputs": [
    {
     "data": {
      "text/html": [
       "<div style=\"max-height:1000px;max-width:1500px;overflow:auto;\">\n",
       "<table border=\"1\" class=\"dataframe\">\n",
       "  <thead>\n",
       "    <tr style=\"text-align: right;\">\n",
       "      <th></th>\n",
       "      <th>nrow</th>\n",
       "      <th>date</th>\n",
       "      <th>o</th>\n",
       "      <th>h</th>\n",
       "      <th>l</th>\n",
       "      <th>close</th>\n",
       "      <th>vol</th>\n",
       "      <th>c</th>\n",
       "    </tr>\n",
       "  </thead>\n",
       "  <tbody>\n",
       "    <tr>\n",
       "      <th>2159</th>\n",
       "      <td> 2159</td>\n",
       "      <td>1974-01-18</td>\n",
       "      <td> 93.66</td>\n",
       "      <td>  98.35</td>\n",
       "      <td> 92.35</td>\n",
       "      <td> 95.56</td>\n",
       "      <td> 16060000</td>\n",
       "      <td> 95.56</td>\n",
       "    </tr>\n",
       "    <tr>\n",
       "      <th>2160</th>\n",
       "      <td> 2160</td>\n",
       "      <td>1974-01-11</td>\n",
       "      <td> 98.90</td>\n",
       "      <td>  99.31</td>\n",
       "      <td> 91.62</td>\n",
       "      <td> 93.66</td>\n",
       "      <td> 17296000</td>\n",
       "      <td> 93.66</td>\n",
       "    </tr>\n",
       "    <tr>\n",
       "      <th>2161</th>\n",
       "      <td> 2161</td>\n",
       "      <td>1974-01-04</td>\n",
       "      <td> 97.55</td>\n",
       "      <td> 100.94</td>\n",
       "      <td> 96.25</td>\n",
       "      <td> 98.90</td>\n",
       "      <td> 19536600</td>\n",
       "      <td> 98.90</td>\n",
       "    </tr>\n",
       "  </tbody>\n",
       "</table>\n",
       "</div>"
      ],
      "text/plain": [
       "      nrow       date      o       h      l  close       vol      c\n",
       "2159  2159 1974-01-18  93.66   98.35  92.35  95.56  16060000  95.56\n",
       "2160  2160 1974-01-11  98.90   99.31  91.62  93.66  17296000  93.66\n",
       "2161  2161 1974-01-04  97.55  100.94  96.25  98.90  19536600  98.90"
      ]
     },
     "execution_count": 143,
     "metadata": {},
     "output_type": "execute_result"
    }
   ],
   "source": [
    "spw.tail(3)"
   ]
  },
  {
   "cell_type": "markdown",
   "metadata": {},
   "source": [
    "## Moving Averages"
   ]
  },
  {
   "cell_type": "code",
   "execution_count": 144,
   "metadata": {
    "collapsed": false
   },
   "outputs": [
    {
     "data": {
      "text/plain": [
       "75.564843749999994"
      ]
     },
     "execution_count": 144,
     "metadata": {},
     "output_type": "execute_result"
    }
   ],
   "source": [
    "d12 = []\n",
    "d24 = []\n",
    "d48 = []\n",
    "d72 = []\n",
    "d96 = []\n",
    "d192 = []\n",
    "d288 = []\n",
    "for i in range(len(spd)-288):\n",
    "    d12.append(sum(spd.c[i:(i+12)])/12)\n",
    "    d24.append(sum(spd.c[i:(i+24)])/24)\n",
    "    d48.append(sum(spd.c[i:(i+48)])/48)\n",
    "    d72.append(sum(spd.c[i:(i+72)])/72)\n",
    "    d96.append(sum(spd.c[i:(i+96)])/96)\n",
    "    d192.append(sum(spd.c[i:(i+192)])/192)\n",
    "    d288.append(sum(spd.c[i:(i+288)])/288)\n",
    "    \n",
    "d192[-1]"
   ]
  },
  {
   "cell_type": "code",
   "execution_count": 145,
   "metadata": {
    "collapsed": false
   },
   "outputs": [
    {
     "data": {
      "text/plain": [
       "98.690937500000004"
      ]
     },
     "execution_count": 145,
     "metadata": {},
     "output_type": "execute_result"
    }
   ],
   "source": [
    "w12 = []\n",
    "w24 = []\n",
    "w48 = []\n",
    "w72 = []\n",
    "w96 = []\n",
    "w192 = []\n",
    "w288 = []\n",
    "for i in range(len(spw)-288):\n",
    "    w12.append(sum(spw.c[i:(i+12)])/12)\n",
    "    w24.append(sum(spw.c[i:(i+24)])/24)\n",
    "    w48.append(sum(spw.c[i:(i+48)])/48)\n",
    "    w72.append(sum(spw.c[i:(i+72)])/72)\n",
    "    w96.append(sum(spw.c[i:(i+96)])/96)\n",
    "    w192.append(sum(spw.c[i:(i+192)])/192)\n",
    "    w288.append(sum(spw.c[i:(i+288)])/288)\n",
    "    \n",
    "w192[-1]"
   ]
  },
  {
   "cell_type": "markdown",
   "metadata": {},
   "source": [
    "## Indicators"
   ]
  },
  {
   "cell_type": "code",
   "execution_count": 146,
   "metadata": {
    "collapsed": false
   },
   "outputs": [],
   "source": [
    "ltd = []\n",
    "for i in range(len(spd)-288):\n",
    "    t12 = ((spd.c[i]/(sum(spd.c[(i+6):(i+12)])/6)-1)*100)\n",
    "    t24 = ((spd.c[i]/(sum(spd.c[(i+18):(i+24)])/6)-1)*100)\n",
    "    t48 = ((spd.c[i]/(sum(spd.c[(i+42):(i+48)])/6)-1)*100)\n",
    "    t72 = ((spd.c[i]/(sum(spd.c[(i+66):(i+72)])/6)-1)*100)\n",
    "    t96 = ((spd.c[i]/(sum(spd.c[(i+90):(i+96)])/6)-1)*100)\n",
    "    t192 = ((spd.c[i]/(sum(spd.c[(i+186):(i+192)])/6)-1)*100)\n",
    "    t288 = ((spd.c[i]/(sum(spd.c[(i+282):(i+288)])/6)-1)*100)\n",
    "    ltd.append((t12+t24+t48+t72+t96+t192+t288)/7)\n",
    "ltd.extend([0]*288)"
   ]
  },
  {
   "cell_type": "code",
   "execution_count": 147,
   "metadata": {
    "collapsed": true
   },
   "outputs": [],
   "source": [
    "ltw = []\n",
    "for i in range(len(spw)-288):\n",
    "    t12 = ((spw.c[i]/(sum(spw.c[(i+6):(i+12)])/6)-1)*100)\n",
    "    t24 = ((spw.c[i]/(sum(spw.c[(i+18):(i+24)])/6)-1)*100)\n",
    "    t48 = ((spw.c[i]/(sum(spw.c[(i+42):(i+48)])/6)-1)*100)\n",
    "    t72 = ((spw.c[i]/(sum(spw.c[(i+66):(i+72)])/6)-1)*100)\n",
    "    t96 = ((spw.c[i]/(sum(spw.c[(i+90):(i+96)])/6)-1)*100)\n",
    "    t192 = ((spw.c[i]/(sum(spw.c[(i+186):(i+192)])/6)-1)*100)\n",
    "    t288 = ((spw.c[i]/(sum(spw.c[(i+282):(i+288)])/6)-1)*100)\n",
    "    ltw.append((t12+t24+t48+t72+t96+t192+t288)/7)\n",
    "ltw.extend([0]*288)"
   ]
  },
  {
   "cell_type": "code",
   "execution_count": 148,
   "metadata": {
    "collapsed": false
   },
   "outputs": [
    {
     "name": "stdout",
     "output_type": "stream",
     "text": [
      "23.3328730247 -35.6366113852 71.7672905577 -41.5810396385\n"
     ]
    }
   ],
   "source": [
    "print max(ltd), min(ltd), max(ltw), min (ltw)"
   ]
  },
  {
   "cell_type": "code",
   "execution_count": 149,
   "metadata": {
    "collapsed": false
   },
   "outputs": [
    {
     "name": "stdout",
     "output_type": "stream",
     "text": [
      "8089 1644 881 326\n"
     ]
    }
   ],
   "source": [
    "print ltd.index(max(ltd)), ltd.index(min(ltd)), ltw.index(max(ltw)), ltw.index(min(ltw))"
   ]
  },
  {
   "cell_type": "code",
   "execution_count": 150,
   "metadata": {
    "collapsed": false
   },
   "outputs": [],
   "source": [
    "lc288d = []\n",
    "lc72d = []\n",
    "for i in range(len(spd)-288):\n",
    "    min12 = ((spd.c[i]/min(spd.c[(i+6):(i+12)]))-1)*100\n",
    "    max12 = ((spd.c[i]/max(spd.c[(i+6):(i+12)]))-1)*100\n",
    "    min24 = ((spd.c[i]/min(spd.c[(i+18):(i+24)]))-1)*100\n",
    "    max24 = ((spd.c[i]/max(spd.c[(i+18):(i+24)]))-1)*100\n",
    "    min48 = ((spd.c[i]/min(spd.c[(i+42):(i+48)]))-1)*100\n",
    "    max48 = ((spd.c[i]/max(spd.c[(i+42):(i+48)]))-1)*100\n",
    "    min72 = ((spd.c[i]/min(spd.c[(i+66):(i+72)]))-1)*100\n",
    "    max72 = ((spd.c[i]/max(spd.c[(i+66):(i+72)]))-1)*100\n",
    "    min96 = ((spd.c[i]/min(spd.c[(i+90):(i+96)]))-1)*100\n",
    "    max96 = ((spd.c[i]/max(spd.c[(i+90):(i+96)]))-1)*100\n",
    "    min192 = ((spd.c[i]/min(spd.c[(i+186):(i+192)]))-1)*100\n",
    "    max192 = ((spd.c[i]/max(spd.c[(i+186):(i+192)]))-1)*100\n",
    "    min288 = ((spd.c[i]/min(spd.c[(i+282):(i+288)]))-1)*100\n",
    "    max288 = ((spd.c[i]/max(spd.c[(i+282):(i+288)]))-1)*100\n",
    "    \n",
    "    clong288 = 0\n",
    "    clong72 = 0\n",
    "    cshort288 = 0\n",
    "    cshort72 = 0\n",
    "    \n",
    "    contatl = 0\n",
    "    if spd.c[i] < sum(spd.c[i:i+12])/12:\n",
    "        contatl += 1\n",
    "    if spd.c[i] > spd.c[i+12]:\n",
    "        contatl += 1\n",
    "    if max12 > 0:\n",
    "        contatl += 1\n",
    "    contats = 0\n",
    "    if spd.c[i] > sum(spd.c[i:i+12])/12:\n",
    "        contats -= 1\n",
    "    if spd.c[i] < spd.c[i+12]:\n",
    "        contats -= 1\n",
    "    if min12 < 0:\n",
    "        contats -= 1\n",
    "    if contatl == 3 or contats == -3:\n",
    "        c12 = (((sum(spd.c[i:(i+12)])/12)/spd.c[i])-1)*100\n",
    "    else:\n",
    "        c12 = 0\n",
    "    if contatl == 3:\n",
    "        clong288 += 1\n",
    "        clong72 += 1\n",
    "    if contats == -3:\n",
    "        cshort288 += 1\n",
    "        cshort72 += 1\n",
    "        \n",
    "    contatl = 0\n",
    "    if spd.c[i] < sum(spd.c[i:i+24])/24:\n",
    "        contatl +=1\n",
    "    if spd.c[i] > spd.c[i+24]:\n",
    "        contatl +=1\n",
    "    if max24 > 0:\n",
    "        contatl +=1\n",
    "    contats = 0\n",
    "    if spd.c[i] > sum(spd.c[i:i+24])/24:\n",
    "        contats -=1\n",
    "    if spd.c[i] < spd.c[i+24]:\n",
    "        contats -=1\n",
    "    if min24 < 0:\n",
    "        contats -=1\n",
    "    if contatl == 3 or contats == -3:\n",
    "        c24 = (((sum(spd.c[i:(i+24)])/24)/spd.c[i])-1)*100\n",
    "    else:\n",
    "        c24 = 0\n",
    "    if contatl == 3:\n",
    "        clong288 +=1\n",
    "        clong72 +=1\n",
    "    if contats == -3:\n",
    "        cshort288 +=1\n",
    "        cshort72 +=1\n",
    "        \n",
    "    contatl = 0\n",
    "    if spd.c[i] < sum(spd.c[i:i+48])/48:\n",
    "        contatl +=1\n",
    "    if spd.c[i] > spd.c[i+48]:\n",
    "        contatl +=1\n",
    "    if max48 > 0:\n",
    "        contatl +=1\n",
    "    contats = 0\n",
    "    if spd.c[i] > sum(spd.c[i:i+48])/48:\n",
    "        contats -=1\n",
    "    if spd.c[i] < spd.c[i+48]:\n",
    "        contats -=1\n",
    "    if min48 < 0:\n",
    "        contats -=1\n",
    "    if contatl == 3 or contats == -3:\n",
    "        c48 = (((sum(spd.c[i:(i+48)])/48)/spd.c[i])-1)*100\n",
    "    else:\n",
    "        c48 = 0    \n",
    "    if contatl == 3:\n",
    "        clong288 +=1\n",
    "        clong72 +=1\n",
    "    if contats == -3:\n",
    "        cshort288 +=1\n",
    "        cshort72 +=1\n",
    "    \n",
    "    contatl = 0\n",
    "    if spd.c[i] < sum(spd.c[i:i+72])/72:\n",
    "        contatl +=1\n",
    "    if spd.c[i] > spd.c[i+72]:\n",
    "        contatl +=1\n",
    "    if max72 > 0:\n",
    "        contatl +=1\n",
    "    contats = 0\n",
    "    if spd.c[i] > sum(spd.c[i:i+72])/72:\n",
    "        contats -=1\n",
    "    if spd.c[i] < spd.c[i+72]:\n",
    "        contats -=1\n",
    "    if min72 < 0:\n",
    "        contats -=1\n",
    "    if contatl == 3 or contats == -3:\n",
    "        c72 = (((sum(spd.c[i:(i+72)])/72)/spd.c[i])-1)*100\n",
    "    else:\n",
    "        c72 = 0  \n",
    "    if contatl == 3:\n",
    "        clong288 +=1\n",
    "        clong72 +=1\n",
    "    if contats == -3:\n",
    "        cshort288 +=1\n",
    "        cshort72 +=1\n",
    "    \n",
    "    contatl = 0\n",
    "    if spd.c[i] < sum(spd.c[i:i+96])/96:\n",
    "        contatl +=1\n",
    "    if spd.c[i] > spd.c[i+96]:\n",
    "        contatl +=1\n",
    "    if max96 > 0:\n",
    "        contatl +=1\n",
    "    contats = 0\n",
    "    if spd.c[i] > sum(spd.c[i:i+96])/96:\n",
    "        contats -=1\n",
    "    if spd.c[i] < spd.c[i+96]:\n",
    "        contats -=1\n",
    "    if min96 < 0:\n",
    "        contats -=1\n",
    "    if contatl == 3 or contats == -3:\n",
    "        c96 = (((sum(spd.c[i:(i+96)])/96)/spd.c[i])-1)*100\n",
    "    else:\n",
    "        c96 = 0\n",
    "    if contatl == 3:\n",
    "        clong288 +=1\n",
    "    if contats == -3:\n",
    "        cshort288 +=1\n",
    "        \n",
    "    contatl = 0\n",
    "    if spd.c[i] < sum(spd.c[i:i+192])/192:\n",
    "        contatl +=1\n",
    "    if spd.c[i] > spd.c[i+192]:\n",
    "        contatl +=1\n",
    "    if max192 > 0:\n",
    "        contatl +=1\n",
    "    contats = 0\n",
    "    if spd.c[i] > sum(spd.c[i:i+192])/192:\n",
    "        contats -=1\n",
    "    if spd.c[i] < spd.c[i+192]:\n",
    "        contats -=1\n",
    "    if min192 < 0:\n",
    "        contats -=1\n",
    "    if contatl == 3 or contats == -3:\n",
    "        c192 = (((sum(spd.c[i:(i+192)])/192)/spd.c[i])-1)*100\n",
    "    else:\n",
    "        c192 = 0      \n",
    "    if contatl == 3:\n",
    "        clong288 +=1\n",
    "    if contats == -3:\n",
    "        cshort288 +=1\n",
    "        \n",
    "    contatl = 0\n",
    "    if spd.c[i] < sum(spd.c[i:i+288])/288:\n",
    "        contatl +=1\n",
    "    if spd.c[i] > spd.c[i+288]:\n",
    "        contatl +=1\n",
    "    if max288 > 0:\n",
    "        contatl +=1\n",
    "    contats = 0\n",
    "    if spd.c[i] > sum(spd.c[i:i+288])/288:\n",
    "        contats -=1\n",
    "    if spd.c[i] < spd.c[i+288]:\n",
    "        contats -=1\n",
    "    if min288 < 0:\n",
    "        contats -=1\n",
    "    if contatl == 3 or contats == -3:\n",
    "        c288 = (((sum(spd.c[i:(i+288)])/288)/spd.c[i])-1)*100\n",
    "    else:\n",
    "        c288 = 0\n",
    "    if contatl == 3:\n",
    "        clong288 +=1\n",
    "    if contats == -3:\n",
    "        cshort288 += 1\n",
    "\n",
    "    if (clong288 + cshort288) > 0:\n",
    "        ctot288 = (clong288 + cshort288)\n",
    "    else:\n",
    "        ctot288 = 1\n",
    "    lc288d.append((c12+c24+c48+c72+c96+c192+c288)/ctot288)\n",
    "    \n",
    "    if (clong72 + cshort72) > 0:\n",
    "        ctot72 = (clong72 + cshort72)\n",
    "    else:\n",
    "        ctot72 = 1\n",
    "    lc72d.append((c12+c24+c48+c72)/ctot72)\n",
    "lc288d.extend([0]*288)\n",
    "lc72d.extend([0]*288)"
   ]
  },
  {
   "cell_type": "code",
   "execution_count": 151,
   "metadata": {
    "collapsed": false
   },
   "outputs": [
    {
     "name": "stdout",
     "output_type": "stream",
     "text": [
      "17.8730822728 -15.697302014 4.46218397049 -6.65612346649\n"
     ]
    }
   ],
   "source": [
    "print max(lc288d), min(lc288d), max(lc72d), min(lc72d)"
   ]
  },
  {
   "cell_type": "code",
   "execution_count": 152,
   "metadata": {
    "collapsed": false
   },
   "outputs": [
    {
     "name": "stdout",
     "output_type": "stream",
     "text": [
      "6948 1399 9236 1544\n"
     ]
    }
   ],
   "source": [
    "print lc288d.index(max(lc288d)), lc288d.index(min(lc288d)), lc72d.index(max(lc72d)), lc72d.index(min(lc72d))"
   ]
  },
  {
   "cell_type": "code",
   "execution_count": 153,
   "metadata": {
    "collapsed": false
   },
   "outputs": [
    {
     "name": "stdout",
     "output_type": "stream",
     "text": [
      "2008-11-20 00:00:00\n"
     ]
    }
   ],
   "source": [
    "print spd.date[1644]"
   ]
  },
  {
   "cell_type": "code",
   "execution_count": 154,
   "metadata": {
    "collapsed": false
   },
   "outputs": [
    {
     "name": "stdout",
     "output_type": "stream",
     "text": [
      "0.45128917609 0.45128917609\n"
     ]
    }
   ],
   "source": [
    "print lc288d[0], lc72d[0]"
   ]
  },
  {
   "cell_type": "code",
   "execution_count": 155,
   "metadata": {
    "collapsed": true
   },
   "outputs": [],
   "source": [
    "lc288w = []\n",
    "lc72w = []\n",
    "for i in range(len(spw)-288):\n",
    "    min12 = ((spw.c[i]/min(spw.c[(i+6):(i+12)]))-1)*100\n",
    "    max12 = ((spw.c[i]/max(spw.c[(i+6):(i+12)]))-1)*100\n",
    "    min24 = ((spw.c[i]/min(spw.c[(i+18):(i+24)]))-1)*100\n",
    "    max24 = ((spw.c[i]/max(spw.c[(i+18):(i+24)]))-1)*100\n",
    "    min48 = ((spw.c[i]/min(spw.c[(i+42):(i+48)]))-1)*100\n",
    "    max48 = ((spw.c[i]/max(spw.c[(i+42):(i+48)]))-1)*100\n",
    "    min72 = ((spw.c[i]/min(spw.c[(i+66):(i+72)]))-1)*100\n",
    "    max72 = ((spw.c[i]/max(spw.c[(i+66):(i+72)]))-1)*100\n",
    "    min96 = ((spw.c[i]/min(spw.c[(i+90):(i+96)]))-1)*100\n",
    "    max96 = ((spw.c[i]/max(spw.c[(i+90):(i+96)]))-1)*100\n",
    "    min192 = ((spw.c[i]/min(spw.c[(i+186):(i+192)]))-1)*100\n",
    "    max192 = ((spw.c[i]/max(spw.c[(i+186):(i+192)]))-1)*100\n",
    "    min288 = ((spw.c[i]/min(spw.c[(i+282):(i+288)]))-1)*100\n",
    "    max288 = ((spw.c[i]/max(spw.c[(i+282):(i+288)]))-1)*100\n",
    "    \n",
    "    clong288 = 0\n",
    "    clong72 = 0\n",
    "    cshort288 = 0\n",
    "    cshort72 = 0\n",
    "    \n",
    "    contatl = 0\n",
    "    if spw.c[i] < sum(spw.c[i:i+12])/12:\n",
    "        contatl += 1\n",
    "    if spw.c[i] > spw.c[i+12]:\n",
    "        contatl += 1\n",
    "    if max12 > 0:\n",
    "        contatl += 1\n",
    "    contats = 0\n",
    "    if spw.c[i] > sum(spw.c[i:i+12])/12:\n",
    "        contats -= 1\n",
    "    if spw.c[i] < spw.c[i+12]:\n",
    "        contats -= 1\n",
    "    if min12 < 0:\n",
    "        contats -= 1\n",
    "    if contatl == 3 or contats == -3:\n",
    "        c12 = (((sum(spw.c[i:(i+12)])/12)/spw.c[i])-1)*100\n",
    "    else:\n",
    "        c12 = 0\n",
    "    if contatl == 3:\n",
    "        clong288 += 1\n",
    "        clong72 += 1\n",
    "    if contats == -3:\n",
    "        cshort288 += 1\n",
    "        cshort72 += 1\n",
    "        \n",
    "    contatl = 0\n",
    "    if spw.c[i] < sum(spw.c[i:i+24])/24:\n",
    "        contatl +=1\n",
    "    if spw.c[i] > spw.c[i+24]:\n",
    "        contatl +=1\n",
    "    if max24 > 0:\n",
    "        contatl +=1\n",
    "    contats = 0\n",
    "    if spw.c[i] > sum(spw.c[i:i+24])/24:\n",
    "        contats -=1\n",
    "    if spw.c[i] < spw.c[i+24]:\n",
    "        contats -=1\n",
    "    if min24 < 0:\n",
    "        contats -=1\n",
    "    if contatl == 3 or contats == -3:\n",
    "        c24 = (((sum(spw.c[i:(i+24)])/24)/spw.c[i])-1)*100\n",
    "    else:\n",
    "        c24 = 0\n",
    "    if contatl == 3:\n",
    "        clong288 +=1\n",
    "        clong72 +=1\n",
    "    if contats == -3:\n",
    "        cshort288 +=1\n",
    "        cshort72 +=1\n",
    "        \n",
    "    contatl = 0\n",
    "    if spw.c[i] < sum(spw.c[i:i+48])/48:\n",
    "        contatl +=1\n",
    "    if spw.c[i] > spw.c[i+48]:\n",
    "        contatl +=1\n",
    "    if max48 > 0:\n",
    "        contatl +=1\n",
    "    contats = 0\n",
    "    if spw.c[i] > sum(spw.c[i:i+48])/48:\n",
    "        contats -=1\n",
    "    if spw.c[i] < spw.c[i+48]:\n",
    "        contats -=1\n",
    "    if min48 < 0:\n",
    "        contats -=1\n",
    "    if contatl == 3 or contats == -3:\n",
    "        c48 = (((sum(spw.c[i:(i+48)])/48)/spw.c[i])-1)*100\n",
    "    else:\n",
    "        c48 = 0    \n",
    "    if contatl == 3:\n",
    "        clong288 +=1\n",
    "        clong72 +=1\n",
    "    if contats == -3:\n",
    "        cshort288 +=1\n",
    "        cshort72 +=1\n",
    "    \n",
    "    contatl = 0\n",
    "    if spw.c[i] < sum(spw.c[i:i+72])/72:\n",
    "        contatl +=1\n",
    "    if spw.c[i] > spw.c[i+72]:\n",
    "        contatl +=1\n",
    "    if max72 > 0:\n",
    "        contatl +=1\n",
    "    contats = 0\n",
    "    if spw.c[i] > sum(spw.c[i:i+72])/72:\n",
    "        contats -=1\n",
    "    if spw.c[i] < spw.c[i+72]:\n",
    "        contats -=1\n",
    "    if min72 < 0:\n",
    "        contats -=1\n",
    "    if contatl == 3 or contats == -3:\n",
    "        c72 = (((sum(spw.c[i:(i+72)])/72)/spw.c[i])-1)*100\n",
    "    else:\n",
    "        c72 = 0  \n",
    "    if contatl == 3:\n",
    "        clong288 +=1\n",
    "        clong72 +=1\n",
    "    if contats == -3:\n",
    "        cshort288 +=1\n",
    "        cshort72 +=1\n",
    "    \n",
    "    contatl = 0\n",
    "    if spw.c[i] < sum(spw.c[i:i+96])/96:\n",
    "        contatl +=1\n",
    "    if spw.c[i] > spw.c[i+96]:\n",
    "        contatl +=1\n",
    "    if max96 > 0:\n",
    "        contatl +=1\n",
    "    contats = 0\n",
    "    if spw.c[i] > sum(spw.c[i:i+96])/96:\n",
    "        contats -=1\n",
    "    if spw.c[i] < spw.c[i+96]:\n",
    "        contats -=1\n",
    "    if min96 < 0:\n",
    "        contats -=1\n",
    "    if contatl == 3 or contats == -3:\n",
    "        c96 = (((sum(spw.c[i:(i+96)])/96)/spw.c[i])-1)*100\n",
    "    else:\n",
    "        c96 = 0\n",
    "    if contatl == 3:\n",
    "        clong288 +=1\n",
    "    if contats == -3:\n",
    "        cshort288 +=1\n",
    "        \n",
    "    contatl = 0\n",
    "    if spw.c[i] < sum(spw.c[i:i+192])/192:\n",
    "        contatl +=1\n",
    "    if spw.c[i] > spw.c[i+192]:\n",
    "        contatl +=1\n",
    "    if max192 > 0:\n",
    "        contatl +=1\n",
    "    contats = 0\n",
    "    if spw.c[i] > sum(spw.c[i:i+192])/192:\n",
    "        contats -=1\n",
    "    if spw.c[i] < spw.c[i+192]:\n",
    "        contats -=1\n",
    "    if min192 < 0:\n",
    "        contats -=1\n",
    "    if contatl == 3 or contats == -3:\n",
    "        c192 = (((sum(spw.c[i:(i+192)])/192)/spw.c[i])-1)*100\n",
    "    else:\n",
    "        c192 = 0      \n",
    "    if contatl == 3:\n",
    "        clong288 +=1\n",
    "    if contats == -3:\n",
    "        cshort288 +=1\n",
    "        \n",
    "    contatl = 0\n",
    "    if spw.c[i] < sum(spw.c[i:i+288])/288:\n",
    "        contatl +=1\n",
    "    if spw.c[i] > spw.c[i+288]:\n",
    "        contatl +=1\n",
    "    if max288 > 0:\n",
    "        contatl +=1\n",
    "    contats = 0\n",
    "    if spw.c[i] > sum(spw.c[i:i+288])/288:\n",
    "        contats -=1\n",
    "    if spw.c[i] < spw.c[i+288]:\n",
    "        contats -=1\n",
    "    if min288 < 0:\n",
    "        contats -=1\n",
    "    if contatl == 3 or contats == -3:\n",
    "        c288 = (((sum(spw.c[i:(i+288)])/288)/spw.c[i])-1)*100\n",
    "    else:\n",
    "        c288 = 0\n",
    "    if contatl == 3:\n",
    "        clong288 +=1\n",
    "    if contats == -3:\n",
    "        cshort288 += 1\n",
    "\n",
    "    if (clong288 + cshort288) > 0:\n",
    "        ctot288 = (clong288 + cshort288)\n",
    "    else:\n",
    "        ctot288 = 1\n",
    "    lc288w.append((c12+c24+c48+c72+c96+c192+c288)/ctot288)\n",
    "    \n",
    "    if (clong72 + cshort72) > 0:\n",
    "        ctot72 = (clong72 + cshort72)\n",
    "    else:\n",
    "        ctot72 = 1\n",
    "    lc72w.append((c12+c24+c48+c72)/ctot72)\n",
    "lc288w.extend([0]*288)\n",
    "lc72w.extend([0]*288)"
   ]
  },
  {
   "cell_type": "code",
   "execution_count": 156,
   "metadata": {
    "collapsed": false
   },
   "outputs": [
    {
     "name": "stdout",
     "output_type": "stream",
     "text": [
      "42.2414297463 -15.094582949 9.81403250041 -13.8656712844\n"
     ]
    }
   ],
   "source": [
    "print max(lc288w), min(lc288w), max(lc72w), min(lc72w)"
   ]
  },
  {
   "cell_type": "code",
   "execution_count": 157,
   "metadata": {
    "collapsed": false
   },
   "outputs": [
    {
     "name": "stdout",
     "output_type": "stream",
     "text": [
      "662 214 1426 284\n"
     ]
    }
   ],
   "source": [
    "print lc288w.index(max(lc288w)), lc288w.index(min(lc288w)), lc72w.index(max(lc72w)), lc72w.index(min(lc72w))"
   ]
  },
  {
   "cell_type": "code",
   "execution_count": 158,
   "metadata": {
    "collapsed": false
   },
   "outputs": [
    {
     "name": "stdout",
     "output_type": "stream",
     "text": [
      "2011-04-29 00:00:00\n"
     ]
    }
   ],
   "source": [
    "print spw.date[214]"
   ]
  },
  {
   "cell_type": "code",
   "execution_count": 159,
   "metadata": {
    "collapsed": false
   },
   "outputs": [
    {
     "name": "stdout",
     "output_type": "stream",
     "text": [
      "0.0 0.0\n"
     ]
    }
   ],
   "source": [
    "print lc288w[0], lc72w[0]"
   ]
  },
  {
   "cell_type": "code",
   "execution_count": 160,
   "metadata": {
    "collapsed": true
   },
   "outputs": [],
   "source": [
    "ldd = []\n",
    "for i in range(len(spd)-288):\n",
    "    ld = (((d12[i]*12)+(d24[i]*24)+(d48[i]*48)+(d72[i]*72)+(d96[i]*96)+(d192[i]*192)+(d288[i]*288))/732)\n",
    "    ldd.append(((ld/spd.c[i])-1)*100)\n",
    "ldd.extend([0]*288)"
   ]
  },
  {
   "cell_type": "code",
   "execution_count": 161,
   "metadata": {
    "collapsed": false
   },
   "outputs": [
    {
     "name": "stdout",
     "output_type": "stream",
     "text": [
      "60.3588420227 -16.6628320733\n"
     ]
    }
   ],
   "source": [
    "print max(ldd), min(ldd)"
   ]
  },
  {
   "cell_type": "code",
   "execution_count": 162,
   "metadata": {
    "collapsed": false
   },
   "outputs": [
    {
     "name": "stdout",
     "output_type": "stream",
     "text": [
      "1644 8217\n"
     ]
    }
   ],
   "source": [
    "print ldd.index(max(ldd)), ldd.index(min(ldd))"
   ]
  },
  {
   "cell_type": "code",
   "execution_count": 163,
   "metadata": {
    "collapsed": false
   },
   "outputs": [
    {
     "name": "stdout",
     "output_type": "stream",
     "text": [
      "1982-11-03 00:00:00\n"
     ]
    }
   ],
   "source": [
    "print spd.date[8217]"
   ]
  },
  {
   "cell_type": "code",
   "execution_count": 164,
   "metadata": {
    "collapsed": false
   },
   "outputs": [
    {
     "name": "stdout",
     "output_type": "stream",
     "text": [
      "-2.07431921315\n"
     ]
    }
   ],
   "source": [
    "print ldd[0]"
   ]
  },
  {
   "cell_type": "code",
   "execution_count": 165,
   "metadata": {
    "collapsed": true
   },
   "outputs": [],
   "source": [
    "ldw = []\n",
    "for i in range(len(spw)-288):\n",
    "    ld = (((w12[i]*12)+(w24[i]*24)+(w48[i]*48)+(w72[i]*72)+(w96[i]*96)+(w192[i]*192)+(w288[i]*288))/732)\n",
    "    ldw.append(((ld/spw.c[i])-1)*100)\n",
    "ldw.extend([0]*288)"
   ]
  },
  {
   "cell_type": "code",
   "execution_count": 166,
   "metadata": {
    "collapsed": false
   },
   "outputs": [
    {
     "name": "stdout",
     "output_type": "stream",
     "text": [
      "79.73482651 -34.846752505\n"
     ]
    }
   ],
   "source": [
    "print max(ldw), min(ldw)"
   ]
  },
  {
   "cell_type": "code",
   "execution_count": 167,
   "metadata": {
    "collapsed": false
   },
   "outputs": [
    {
     "name": "stdout",
     "output_type": "stream",
     "text": [
      "326 896\n"
     ]
    }
   ],
   "source": [
    "print ldw.index(max(ldw)), ldw.index(min(ldw))"
   ]
  },
  {
   "cell_type": "code",
   "execution_count": 168,
   "metadata": {
    "collapsed": false
   },
   "outputs": [
    {
     "name": "stdout",
     "output_type": "stream",
     "text": [
      "2009-03-06 00:00:00\n"
     ]
    }
   ],
   "source": [
    "print spw.date[326]"
   ]
  },
  {
   "cell_type": "code",
   "execution_count": 169,
   "metadata": {
    "collapsed": false
   },
   "outputs": [
    {
     "name": "stdout",
     "output_type": "stream",
     "text": [
      "-17.8479186214\n"
     ]
    }
   ],
   "source": [
    "print ldw[0]"
   ]
  },
  {
   "cell_type": "code",
   "execution_count": 170,
   "metadata": {
    "collapsed": true
   },
   "outputs": [],
   "source": [
    "lmd = []\n",
    "for i in range(len(spd)-288):\n",
    "    lm = 0\n",
    "    if spd.c[i] > d96[i] and spd.c[i] > d288[i]:\n",
    "        lm = 1\n",
    "    elif spd.c[i] < d96[i] and spd.c[i] < d288[i]:\n",
    "        lm = -1\n",
    "    lmd.append(lm)\n",
    "lmd.extend([0]*288)"
   ]
  },
  {
   "cell_type": "code",
   "execution_count": 171,
   "metadata": {
    "collapsed": false
   },
   "outputs": [
    {
     "name": "stdout",
     "output_type": "stream",
     "text": [
      "1 -1\n"
     ]
    }
   ],
   "source": [
    "print max(lmd), min(lmd)"
   ]
  },
  {
   "cell_type": "code",
   "execution_count": 172,
   "metadata": {
    "collapsed": false
   },
   "outputs": [
    {
     "name": "stdout",
     "output_type": "stream",
     "text": [
      "0.420780711825\n"
     ]
    }
   ],
   "source": [
    "print sum(lmd)/len(lmd)"
   ]
  },
  {
   "cell_type": "code",
   "execution_count": 173,
   "metadata": {
    "collapsed": false
   },
   "outputs": [
    {
     "name": "stdout",
     "output_type": "stream",
     "text": [
      "1\n"
     ]
    }
   ],
   "source": [
    "print lmd[0]"
   ]
  },
  {
   "cell_type": "code",
   "execution_count": 174,
   "metadata": {
    "collapsed": true
   },
   "outputs": [],
   "source": [
    "lmw = []\n",
    "for i in range(len(spw)-288):\n",
    "    lm = 0\n",
    "    if spw.c[i] > w96[i] and spw.c[i] > w288[i]:\n",
    "        lm = 1\n",
    "    elif spw.c[i] < w96[i] and spw.c[i] < w288[i]:\n",
    "        lm = -1\n",
    "    lmw.append(lm)    \n",
    "lmw.extend([0]*288)"
   ]
  },
  {
   "cell_type": "code",
   "execution_count": 175,
   "metadata": {
    "collapsed": false
   },
   "outputs": [
    {
     "name": "stdout",
     "output_type": "stream",
     "text": [
      "1 -1\n"
     ]
    }
   ],
   "source": [
    "print max(lmw), min(lmw)"
   ]
  },
  {
   "cell_type": "code",
   "execution_count": 176,
   "metadata": {
    "collapsed": false
   },
   "outputs": [
    {
     "name": "stdout",
     "output_type": "stream",
     "text": [
      "0.551341350601\n"
     ]
    }
   ],
   "source": [
    "print sum(lmw)/len(lmw)"
   ]
  },
  {
   "cell_type": "code",
   "execution_count": 177,
   "metadata": {
    "collapsed": false
   },
   "outputs": [
    {
     "name": "stdout",
     "output_type": "stream",
     "text": [
      "1\n"
     ]
    }
   ],
   "source": [
    "print lmw[0]"
   ]
  },
  {
   "cell_type": "code",
   "execution_count": 178,
   "metadata": {
    "collapsed": false
   },
   "outputs": [
    {
     "data": {
      "text/html": [
       "<div style=\"max-height:1000px;max-width:1500px;overflow:auto;\">\n",
       "<table border=\"1\" class=\"dataframe\">\n",
       "  <thead>\n",
       "    <tr style=\"text-align: right;\">\n",
       "      <th></th>\n",
       "      <th>nrow</th>\n",
       "      <th>date</th>\n",
       "      <th>o</th>\n",
       "      <th>h</th>\n",
       "      <th>l</th>\n",
       "      <th>close</th>\n",
       "      <th>vol</th>\n",
       "      <th>c</th>\n",
       "      <th>lixt</th>\n",
       "      <th>lixc72</th>\n",
       "      <th>lixc288</th>\n",
       "      <th>lixd</th>\n",
       "      <th>lixm</th>\n",
       "    </tr>\n",
       "  </thead>\n",
       "  <tbody>\n",
       "    <tr>\n",
       "      <th>0</th>\n",
       "      <td> 0</td>\n",
       "      <td>2015-06-05</td>\n",
       "      <td> 2095.09009</td>\n",
       "      <td> 2100.98999</td>\n",
       "      <td> 2085.66992</td>\n",
       "      <td> 2092.83008</td>\n",
       "      <td> 3243690000</td>\n",
       "      <td> 2092.83008</td>\n",
       "      <td> 2.523671</td>\n",
       "      <td> 0.451289</td>\n",
       "      <td> 0.451289</td>\n",
       "      <td>-2.074319</td>\n",
       "      <td> 1</td>\n",
       "    </tr>\n",
       "    <tr>\n",
       "      <th>1</th>\n",
       "      <td> 1</td>\n",
       "      <td>2015-06-04</td>\n",
       "      <td> 2112.35010</td>\n",
       "      <td> 2112.88989</td>\n",
       "      <td> 2093.22998</td>\n",
       "      <td> 2095.84009</td>\n",
       "      <td> 3200050000</td>\n",
       "      <td> 2095.84009</td>\n",
       "      <td> 2.733611</td>\n",
       "      <td> 0.275403</td>\n",
       "      <td> 0.275403</td>\n",
       "      <td>-2.240354</td>\n",
       "      <td> 1</td>\n",
       "    </tr>\n",
       "    <tr>\n",
       "      <th>2</th>\n",
       "      <td> 2</td>\n",
       "      <td>2015-06-03</td>\n",
       "      <td> 2110.63989</td>\n",
       "      <td> 2121.91992</td>\n",
       "      <td> 2109.61011</td>\n",
       "      <td> 2114.07007</td>\n",
       "      <td> 3099980000</td>\n",
       "      <td> 2114.07007</td>\n",
       "      <td> 3.870495</td>\n",
       "      <td> 0.000000</td>\n",
       "      <td> 0.000000</td>\n",
       "      <td>-3.114668</td>\n",
       "      <td> 1</td>\n",
       "    </tr>\n",
       "  </tbody>\n",
       "</table>\n",
       "</div>"
      ],
      "text/plain": [
       "   nrow       date           o           h           l       close  \\\n",
       "0     0 2015-06-05  2095.09009  2100.98999  2085.66992  2092.83008   \n",
       "1     1 2015-06-04  2112.35010  2112.88989  2093.22998  2095.84009   \n",
       "2     2 2015-06-03  2110.63989  2121.91992  2109.61011  2114.07007   \n",
       "\n",
       "          vol           c      lixt    lixc72   lixc288      lixd  lixm  \n",
       "0  3243690000  2092.83008  2.523671  0.451289  0.451289 -2.074319     1  \n",
       "1  3200050000  2095.84009  2.733611  0.275403  0.275403 -2.240354     1  \n",
       "2  3099980000  2114.07007  3.870495  0.000000  0.000000 -3.114668     1  "
      ]
     },
     "execution_count": 178,
     "metadata": {},
     "output_type": "execute_result"
    }
   ],
   "source": [
    "spd['lixt'] = ltd\n",
    "spd['lixc72'] = lc72d\n",
    "spd['lixc288'] = lc288d\n",
    "spd['lixd'] = ldd\n",
    "spd['lixm'] = lmd\n",
    "spd.head(3)"
   ]
  },
  {
   "cell_type": "code",
   "execution_count": 179,
   "metadata": {
    "collapsed": false
   },
   "outputs": [
    {
     "data": {
      "text/html": [
       "<div style=\"max-height:1000px;max-width:1500px;overflow:auto;\">\n",
       "<table border=\"1\" class=\"dataframe\">\n",
       "  <thead>\n",
       "    <tr style=\"text-align: right;\">\n",
       "      <th></th>\n",
       "      <th>nrow</th>\n",
       "      <th>date</th>\n",
       "      <th>o</th>\n",
       "      <th>h</th>\n",
       "      <th>l</th>\n",
       "      <th>close</th>\n",
       "      <th>vol</th>\n",
       "      <th>c</th>\n",
       "      <th>lixt</th>\n",
       "      <th>lixc72</th>\n",
       "      <th>lixc288</th>\n",
       "      <th>lixd</th>\n",
       "      <th>lixm</th>\n",
       "    </tr>\n",
       "  </thead>\n",
       "  <tbody>\n",
       "    <tr>\n",
       "      <th>0</th>\n",
       "      <td> 0</td>\n",
       "      <td>2015-06-05</td>\n",
       "      <td> 2108.63989</td>\n",
       "      <td> 2121.91992</td>\n",
       "      <td> 2085.66992</td>\n",
       "      <td> 2092.83008</td>\n",
       "      <td> 3120956000</td>\n",
       "      <td> 2092.83008</td>\n",
       "      <td> 29.583573</td>\n",
       "      <td> 0</td>\n",
       "      <td> 0</td>\n",
       "      <td>-17.847919</td>\n",
       "      <td> 1</td>\n",
       "    </tr>\n",
       "    <tr>\n",
       "      <th>1</th>\n",
       "      <td> 1</td>\n",
       "      <td>2015-05-29</td>\n",
       "      <td> 2125.34009</td>\n",
       "      <td> 2126.21997</td>\n",
       "      <td> 2099.17993</td>\n",
       "      <td> 2107.38989</td>\n",
       "      <td> 3344457500</td>\n",
       "      <td> 2107.38989</td>\n",
       "      <td> 31.080824</td>\n",
       "      <td> 0</td>\n",
       "      <td> 0</td>\n",
       "      <td>-18.595005</td>\n",
       "      <td> 1</td>\n",
       "    </tr>\n",
       "    <tr>\n",
       "      <th>2</th>\n",
       "      <td> 2</td>\n",
       "      <td>2015-05-22</td>\n",
       "      <td> 2121.30005</td>\n",
       "      <td> 2134.71997</td>\n",
       "      <td> 2120.01001</td>\n",
       "      <td> 2126.06006</td>\n",
       "      <td> 2970484000</td>\n",
       "      <td> 2126.06006</td>\n",
       "      <td> 32.704591</td>\n",
       "      <td> 0</td>\n",
       "      <td> 0</td>\n",
       "      <td>-19.499769</td>\n",
       "      <td> 1</td>\n",
       "    </tr>\n",
       "  </tbody>\n",
       "</table>\n",
       "</div>"
      ],
      "text/plain": [
       "   nrow       date           o           h           l       close  \\\n",
       "0     0 2015-06-05  2108.63989  2121.91992  2085.66992  2092.83008   \n",
       "1     1 2015-05-29  2125.34009  2126.21997  2099.17993  2107.38989   \n",
       "2     2 2015-05-22  2121.30005  2134.71997  2120.01001  2126.06006   \n",
       "\n",
       "          vol           c       lixt  lixc72  lixc288       lixd  lixm  \n",
       "0  3120956000  2092.83008  29.583573       0        0 -17.847919     1  \n",
       "1  3344457500  2107.38989  31.080824       0        0 -18.595005     1  \n",
       "2  2970484000  2126.06006  32.704591       0        0 -19.499769     1  "
      ]
     },
     "execution_count": 179,
     "metadata": {},
     "output_type": "execute_result"
    }
   ],
   "source": [
    "spw['lixt'] = ltw\n",
    "spw['lixc72'] = lc72w\n",
    "spw['lixc288'] = lc288w\n",
    "spw['lixd'] = ldw\n",
    "spw['lixm'] = lmw\n",
    "spw.head(3)"
   ]
  },
  {
   "cell_type": "markdown",
   "metadata": {},
   "source": [
    "## Building samples dataset"
   ]
  },
  {
   "cell_type": "code",
   "execution_count": 180,
   "metadata": {
    "collapsed": false
   },
   "outputs": [
    {
     "data": {
      "text/plain": [
       "140"
      ]
     },
     "execution_count": 180,
     "metadata": {},
     "output_type": "execute_result"
    }
   ],
   "source": [
    "exp = []\n",
    "d = dp.parse(\"21/03/2015\")\n",
    "while d > dp.parse(\"20/03/1980\"):\n",
    "    d = d - WeekOfMonth(weekday = 4, week = 2) + DateOffset(days = 1) - BDay()\n",
    "    if d != dp.parse(\"21/09/2001\"):\n",
    "        exp.append(d)\n",
    "    d = d - DateOffset(days = 80)\n",
    "\n",
    "len(exp)"
   ]
  },
  {
   "cell_type": "code",
   "execution_count": 181,
   "metadata": {
    "collapsed": true
   },
   "outputs": [],
   "source": [
    "q1c = []\n",
    "q1cstd = []\n",
    "q1high = []\n",
    "q1low = []\n",
    "q0c = []\n",
    "q0cstd = []\n",
    "q0high = []\n",
    "q0low = []\n",
    "q0spanmean = []\n",
    "q0spanstd = []\n",
    "q0lixt = []\n",
    "q0lixc72 = []\n",
    "q0lixc288 = []\n",
    "q0lixd = []\n",
    "q0lixm = []\n",
    "q0lixtv = []\n",
    "q0lixc72v = []\n",
    "q0lixc288v = []\n",
    "q0lixdv = []\n",
    "q0lixmv = []\n",
    "m0c = []\n",
    "m0cstd = []\n",
    "m0high = []\n",
    "m0low = []\n",
    "m0spanmean = []\n",
    "m0spanstd = []\n",
    "m0lixt = []\n",
    "m0lixc72 = []\n",
    "m0lixc288 = []\n",
    "m0lixd = []\n",
    "m0lixm = []\n",
    "m0lixtv = []\n",
    "m0lixc72v = []\n",
    "m0lixc288v = []\n",
    "m0lixdv = []\n",
    "m0lixmv = []"
   ]
  },
  {
   "cell_type": "code",
   "execution_count": 182,
   "metadata": {
    "collapsed": false
   },
   "outputs": [],
   "source": [
    "for q1end in exp:\n",
    "    q1start = q1end - DateOffset(weeks = 13)\n",
    "    m0start = q1start - DateOffset(weeks = 4)\n",
    "    q0start = q1start - DateOffset(weeks = 13)\n",
    "    q1indend = spw.nrow[spw.date == q1end]\n",
    "    \n",
    "    q1cstart = float(spw.c[q1indend + 13])\n",
    "    q1cend = float(spw.c[q1indend])    \n",
    "    q1cv = ((q1cend/q1cstart)-1)*100\n",
    "    q1c.append(q1cv)   \n",
    "    \n",
    "    q1clist = spd.c[(spd.date >= q1start) & (spd.date<= q1end)]\n",
    "    q1clist = q1clist.reset_index(drop=True)\n",
    "    q1cvars = []\n",
    "    for i in range(len(q1clist)):\n",
    "        if i < len(q1clist)-1:\n",
    "            q1cvars.append(((q1clist[i]/q1clist[i+1])-1)*100)\n",
    "    q1cstd.append(np.std(q1cvars))\n",
    "    \n",
    "    q1chigh = ((np.max(q1clist)/q1cstart)-1)*100\n",
    "    q1high.append(q1chigh)\n",
    "    \n",
    "    q1clow = ((np.min(q1clist)/q1cstart)-1)*100\n",
    "    q1low.append(q1clow)\n",
    "    \n",
    "    q1indstart = spw.nrow[spw.date == q1start]\n",
    "    \n",
    "    q0cstart = float(spw.c[q1indstart + 13])\n",
    "    q0cend = float(spw.c[q1indstart])    \n",
    "    q0cv = ((q0cend/q0cstart)-1)*100\n",
    "    q0c.append(q0cv)\n",
    "    \n",
    "    q0clist = spd.c[(spd.date >= q0start) & (spd.date<= q1start)]\n",
    "    q0clist = q0clist.reset_index(drop=True)\n",
    "    q0cvars = []\n",
    "    for i in range(len(q0clist)):\n",
    "        if i < len(q0clist)-1:\n",
    "            q0cvars.append(((q0clist[i]/q0clist[i+1])-1)*100)\n",
    "    q0cstd.append(np.std(q0cvars))\n",
    "    \n",
    "    q0hlist = spd.h[(spd.date >= q0start) & (spd.date<= q1start)]\n",
    "    q0hlist = q0hlist.reset_index(drop=True)\n",
    "    q0hvars = []\n",
    "    for i in range(len(q0hlist)):\n",
    "        q0hvars.append(((q0hlist[i]/q0clist[i])-1)*100)\n",
    "    q0high.append(np.mean(q0hvars))\n",
    "    \n",
    "    q0llist = spd.l[(spd.date >= q0start) & (spd.date<= q1start)]\n",
    "    q0llist = q0llist.reset_index(drop=True)\n",
    "    q0lvars = []\n",
    "    for i in range(len(q0llist)):\n",
    "        q0lvars.append(((q0llist[i]/q0clist[i])-1)*100)\n",
    "    q0low.append(np.mean(q0lvars))\n",
    "    \n",
    "    q0svars = []\n",
    "    for i in range(len(q0llist)):\n",
    "        q0svars.append(((q0hlist[i]/q0llist[i])-1)*100)\n",
    "    q0spanmean.append(np.mean(q0svars))\n",
    "    q0spanstd.append(np.std(q0svars))\n",
    "\n",
    "    lixt1 = (spw.lixt[spw.date == q1start])\n",
    "    lixt0 = (spw.lixt[spw.date == q0start])\n",
    "    lixtm1 = (spd.lixt[spd.date == q1start])\n",
    "    lixtm0 = (spd.lixt[spd.date == m0start])\n",
    "    q0lixt.append(lixt1)\n",
    "    q0lixtv.append(lixt1 - lixt0)\n",
    "    m0lixt.append(lixtm1)\n",
    "    m0lixtv.append(lixtm1 - lixtm0)\n",
    "    \n",
    "    lixc721 = (spw.lixc72[spw.date == q1start])\n",
    "    lixc720 = (spw.lixc72[spw.date == q0start])\n",
    "    lixc72m1 = (spd.lixc72[spd.date == q1start])\n",
    "    lixc72m0 = (spd.lixc72[spd.date == m0start])\n",
    "    q0lixc72.append(lixc721)\n",
    "    q0lixc72v.append(lixc721 - lixc720)\n",
    "    m0lixc72.append(lixc72m1)\n",
    "    m0lixc72v.append(lixc72m1 - lixc72m0)\n",
    "    \n",
    "    lixc2881 = (spw.lixc288[spw.date == q1start])\n",
    "    lixc2880 = (spw.lixc288[spw.date == q0start])\n",
    "    lixc288m1 = (spd.lixc288[spd.date == q1start])\n",
    "    lixc288m0 = (spd.lixc288[spd.date == m0start])\n",
    "    q0lixc288.append(lixc2881)\n",
    "    q0lixc288v.append(lixc2881 - lixc2880)\n",
    "    m0lixc288.append(lixc288m1)\n",
    "    m0lixc288v.append(lixc288m1 - lixc288m0)\n",
    "    \n",
    "    lixd1 = (spw.lixd[spw.date == q1start])\n",
    "    lixd0 = (spw.lixd[spw.date == q0start])\n",
    "    lixdm1 = (spd.lixd[spd.date == q1start])\n",
    "    lixdm0 = (spd.lixd[spd.date == m0start])\n",
    "    q0lixd.append(lixd1)\n",
    "    q0lixdv.append(lixd1 - lixd0)\n",
    "    m0lixd.append(lixdm1)\n",
    "    m0lixdv.append(lixdm1 - lixdm0)\n",
    "    \n",
    "    lixm1 = (spw.lixm[spw.date == q1start])\n",
    "    lixm0 = (spw.lixm[spw.date == q0start])\n",
    "    lixmm1 = (spd.lixm[spd.date == q1start])\n",
    "    lixmm0 = (spd.lixm[spd.date == m0start])\n",
    "    q0lixm.append(lixm1)\n",
    "    q0lixmv.append(lixm1 - lixm0)\n",
    "    m0lixm.append(lixmm1)\n",
    "    m0lixmv.append(lixmm1 - lixmm0)\n",
    "    \n",
    "    q1indstart = spw.nrow[spw.date == q1start]\n",
    "    \n",
    "    m0cstart = float(spw.c[q1indstart + 4])\n",
    "    m0cend = q0cend  \n",
    "    m0cv = ((m0cend/m0cstart)-1)*100\n",
    "    m0c.append(m0cv)\n",
    "    \n",
    "    m0clist = spd.c[(spd.date >= m0start) & (spd.date<= q1start)]\n",
    "    m0clist = m0clist.reset_index(drop=True)\n",
    "    m0cvars = []\n",
    "    for i in range(len(m0clist)):\n",
    "        if i < len(m0clist)-1:\n",
    "            m0cvars.append(((m0clist[i]/m0clist[i+1])-1)*100)\n",
    "    m0cstd.append(np.std(m0cvars))    \n",
    "    \n",
    "    m0hlist = spd.h[(spd.date >= m0start) & (spd.date<= q1start)]\n",
    "    m0hlist = m0hlist.reset_index(drop=True)\n",
    "    m0hvars = []\n",
    "    for i in range(len(m0hlist)):\n",
    "        m0hvars.append(((m0hlist[i]/m0clist[i])-1)*100)\n",
    "    m0high.append(np.mean(m0hvars))\n",
    "    \n",
    "    m0llist = spd.l[(spd.date >= m0start) & (spd.date<= q1start)]\n",
    "    m0llist = m0llist.reset_index(drop=True)\n",
    "    m0lvars = []\n",
    "    for i in range(len(m0llist)):\n",
    "        m0lvars.append(((m0llist[i]/m0clist[i])-1)*100)\n",
    "    m0low.append(np.mean(m0lvars))\n",
    "    \n",
    "    m0svars = []\n",
    "    for i in range(len(m0llist)):\n",
    "        m0svars.append(((m0hlist[i]/m0llist[i])-1)*100)\n",
    "    m0spanmean.append(np.mean(m0svars))\n",
    "    m0spanstd.append(np.std(m0svars))"
   ]
  },
  {
   "cell_type": "code",
   "execution_count": 205,
   "metadata": {
    "collapsed": false
   },
   "outputs": [
    {
     "name": "stdout",
     "output_type": "stream",
     "text": [
      "140 140 140 140 140 140 140 140 140\n"
     ]
    }
   ],
   "source": [
    "print len(q1c), len(q1cstd), len(q1high), len(q1low), len(q0c), len(q0cstd), len(q0high), len(q0low), len(q0spanmean)"
   ]
  },
  {
   "cell_type": "code",
   "execution_count": 206,
   "metadata": {
    "collapsed": false
   },
   "outputs": [
    {
     "name": "stdout",
     "output_type": "stream",
     "text": [
      "140 140 140 140 140 140 140 140 140\n"
     ]
    }
   ],
   "source": [
    "print len(q0spanstd), len(q0lixt), len(q0lixc72), len(q0lixc288), len(q0lixd), len(q0lixm), len(q0lixtv), len(q0lixc72v), len(q0lixc288v)"
   ]
  },
  {
   "cell_type": "code",
   "execution_count": 207,
   "metadata": {
    "collapsed": false
   },
   "outputs": [
    {
     "name": "stdout",
     "output_type": "stream",
     "text": [
      "140 140 140 140 140 140 140 140\n"
     ]
    }
   ],
   "source": [
    "print len(q0lixdv), len(q0lixmv), len(m0c), len(m0cstd), len(m0high), len(m0low), len(m0spanmean), len(m0spanstd) "
   ]
  },
  {
   "cell_type": "code",
   "execution_count": 209,
   "metadata": {
    "collapsed": false
   },
   "outputs": [
    {
     "name": "stdout",
     "output_type": "stream",
     "text": [
      "140 140 140 140 140 140 140 140 140 140\n"
     ]
    }
   ],
   "source": [
    "print len(m0lixt), len(m0lixc72), len(m0lixc288), len(m0lixd), len(m0lixm), len(m0lixtv), len(m0lixc72v), len(m0lixc288v), len(m0lixdv), len(m0lixmv)"
   ]
  },
  {
   "cell_type": "code",
   "execution_count": 184,
   "metadata": {
    "collapsed": true
   },
   "outputs": [],
   "source": [
    "data = pd.DataFrame(index = exp, columns = ['q1c','q1cstd','q1high','q1low'])"
   ]
  },
  {
   "cell_type": "code",
   "execution_count": 185,
   "metadata": {
    "collapsed": false
   },
   "outputs": [],
   "source": [
    "data.q1c = q1c\n",
    "data.q1cstd = q1cstd\n",
    "data.q1high = q1high\n",
    "data.q1low = q1low"
   ]
  },
  {
   "cell_type": "code",
   "execution_count": 186,
   "metadata": {
    "collapsed": false
   },
   "outputs": [
    {
     "data": {
      "text/plain": [
       "140"
      ]
     },
     "execution_count": 186,
     "metadata": {},
     "output_type": "execute_result"
    }
   ],
   "source": [
    "len(data)"
   ]
  },
  {
   "cell_type": "code",
   "execution_count": 187,
   "metadata": {
    "collapsed": false
   },
   "outputs": [],
   "source": [
    "# to move weekly date from mondays to next fridays:\n",
    "#d + DateOffset(weekday = 4)"
   ]
  },
  {
   "cell_type": "code",
   "execution_count": 188,
   "metadata": {
    "collapsed": false
   },
   "outputs": [
    {
     "data": {
      "text/html": [
       "<div style=\"max-height:1000px;max-width:1500px;overflow:auto;\">\n",
       "<table border=\"1\" class=\"dataframe\">\n",
       "  <thead>\n",
       "    <tr style=\"text-align: right;\">\n",
       "      <th></th>\n",
       "      <th>q1c</th>\n",
       "      <th>q1cstd</th>\n",
       "      <th>q1high</th>\n",
       "      <th>q1low</th>\n",
       "    </tr>\n",
       "  </thead>\n",
       "  <tbody>\n",
       "    <tr>\n",
       "      <th>2015-03-20</th>\n",
       "      <td> 1.808621</td>\n",
       "      <td> 0.851452</td>\n",
       "      <td> 2.257262</td>\n",
       "      <td>-3.765961</td>\n",
       "    </tr>\n",
       "    <tr>\n",
       "      <th>2014-12-19</th>\n",
       "      <td> 2.996910</td>\n",
       "      <td> 0.920216</td>\n",
       "      <td> 3.231700</td>\n",
       "      <td>-7.357244</td>\n",
       "    </tr>\n",
       "    <tr>\n",
       "      <th>2014-09-19</th>\n",
       "      <td> 2.421455</td>\n",
       "      <td> 0.529902</td>\n",
       "      <td> 2.470362</td>\n",
       "      <td>-2.715414</td>\n",
       "    </tr>\n",
       "    <tr>\n",
       "      <th>2014-06-20</th>\n",
       "      <td> 5.162012</td>\n",
       "      <td> 0.599897</td>\n",
       "      <td> 5.162012</td>\n",
       "      <td>-2.723254</td>\n",
       "    </tr>\n",
       "    <tr>\n",
       "      <th>2014-03-21</th>\n",
       "      <td> 2.650802</td>\n",
       "      <td> 0.736476</td>\n",
       "      <td> 3.284355</td>\n",
       "      <td>-4.203327</td>\n",
       "    </tr>\n",
       "  </tbody>\n",
       "</table>\n",
       "</div>"
      ],
      "text/plain": [
       "                 q1c    q1cstd    q1high     q1low\n",
       "2015-03-20  1.808621  0.851452  2.257262 -3.765961\n",
       "2014-12-19  2.996910  0.920216  3.231700 -7.357244\n",
       "2014-09-19  2.421455  0.529902  2.470362 -2.715414\n",
       "2014-06-20  5.162012  0.599897  5.162012 -2.723254\n",
       "2014-03-21  2.650802  0.736476  3.284355 -4.203327"
      ]
     },
     "execution_count": 188,
     "metadata": {},
     "output_type": "execute_result"
    }
   ],
   "source": [
    "data.head(5)"
   ]
  },
  {
   "cell_type": "code",
   "execution_count": 189,
   "metadata": {
    "collapsed": false
   },
   "outputs": [
    {
     "data": {
      "text/html": [
       "<div style=\"max-height:1000px;max-width:1500px;overflow:auto;\">\n",
       "<table border=\"1\" class=\"dataframe\">\n",
       "  <thead>\n",
       "    <tr style=\"text-align: right;\">\n",
       "      <th></th>\n",
       "      <th>q1c</th>\n",
       "      <th>q1cstd</th>\n",
       "      <th>q1high</th>\n",
       "      <th>q1low</th>\n",
       "    </tr>\n",
       "  </thead>\n",
       "  <tbody>\n",
       "    <tr>\n",
       "      <th>1981-03-20</th>\n",
       "      <td>  0.284218</td>\n",
       "      <td> 0.876694</td>\n",
       "      <td>  3.305909</td>\n",
       "      <td>-5.325355</td>\n",
       "    </tr>\n",
       "    <tr>\n",
       "      <th>1980-12-19</th>\n",
       "      <td>  3.442940</td>\n",
       "      <td> 1.162911</td>\n",
       "      <td>  8.719536</td>\n",
       "      <td>-4.417795</td>\n",
       "    </tr>\n",
       "    <tr>\n",
       "      <th>1980-09-19</th>\n",
       "      <td> 13.317552</td>\n",
       "      <td> 0.848507</td>\n",
       "      <td> 13.317552</td>\n",
       "      <td> 0.000000</td>\n",
       "    </tr>\n",
       "    <tr>\n",
       "      <th>1980-06-20</th>\n",
       "      <td> 11.484703</td>\n",
       "      <td> 1.030380</td>\n",
       "      <td> 13.635031</td>\n",
       "      <td>-3.997654</td>\n",
       "    </tr>\n",
       "    <tr>\n",
       "      <th>1980-03-21</th>\n",
       "      <td> -4.907519</td>\n",
       "      <td> 1.035450</td>\n",
       "      <td> 10.084580</td>\n",
       "      <td>-4.953992</td>\n",
       "    </tr>\n",
       "  </tbody>\n",
       "</table>\n",
       "</div>"
      ],
      "text/plain": [
       "                  q1c    q1cstd     q1high     q1low\n",
       "1981-03-20   0.284218  0.876694   3.305909 -5.325355\n",
       "1980-12-19   3.442940  1.162911   8.719536 -4.417795\n",
       "1980-09-19  13.317552  0.848507  13.317552  0.000000\n",
       "1980-06-20  11.484703  1.030380  13.635031 -3.997654\n",
       "1980-03-21  -4.907519  1.035450  10.084580 -4.953992"
      ]
     },
     "execution_count": 189,
     "metadata": {},
     "output_type": "execute_result"
    }
   ],
   "source": [
    "data.tail(5)"
   ]
  },
  {
   "cell_type": "code",
   "execution_count": 190,
   "metadata": {
    "collapsed": false
   },
   "outputs": [
    {
     "data": {
      "text/html": [
       "<div style=\"max-height:1000px;max-width:1500px;overflow:auto;\">\n",
       "<table border=\"1\" class=\"dataframe\">\n",
       "  <thead>\n",
       "    <tr style=\"text-align: right;\">\n",
       "      <th></th>\n",
       "      <th>q1c</th>\n",
       "      <th>q1cstd</th>\n",
       "      <th>q1high</th>\n",
       "      <th>q1low</th>\n",
       "    </tr>\n",
       "  </thead>\n",
       "  <tbody>\n",
       "    <tr>\n",
       "      <th>1989-12-15</th>\n",
       "      <td>  1.472211</td>\n",
       "      <td> 1.048932</td>\n",
       "      <td>  4.271718</td>\n",
       "      <td> -3.608071</td>\n",
       "    </tr>\n",
       "    <tr>\n",
       "      <th>1989-09-15</th>\n",
       "      <td>  7.378245</td>\n",
       "      <td> 0.745028</td>\n",
       "      <td> 10.076241</td>\n",
       "      <td> -1.048701</td>\n",
       "    </tr>\n",
       "    <tr>\n",
       "      <th>1989-06-16</th>\n",
       "      <td>  9.791933</td>\n",
       "      <td> 0.657776</td>\n",
       "      <td> 11.705221</td>\n",
       "      <td> -1.267549</td>\n",
       "    </tr>\n",
       "    <tr>\n",
       "      <th>1989-03-17</th>\n",
       "      <td>  5.935788</td>\n",
       "      <td> 0.736357</td>\n",
       "      <td>  8.447642</td>\n",
       "      <td> -0.354703</td>\n",
       "    </tr>\n",
       "    <tr>\n",
       "      <th>1988-12-16</th>\n",
       "      <td>  2.083880</td>\n",
       "      <td> 0.752470</td>\n",
       "      <td>  4.806950</td>\n",
       "      <td> -2.523547</td>\n",
       "    </tr>\n",
       "    <tr>\n",
       "      <th>1988-09-16</th>\n",
       "      <td> -0.011083</td>\n",
       "      <td> 0.904268</td>\n",
       "      <td>  1.895231</td>\n",
       "      <td> -5.061320</td>\n",
       "    </tr>\n",
       "    <tr>\n",
       "      <th>1988-06-17</th>\n",
       "      <td> -0.162293</td>\n",
       "      <td> 1.156028</td>\n",
       "      <td>  1.228242</td>\n",
       "      <td> -7.483771</td>\n",
       "    </tr>\n",
       "    <tr>\n",
       "      <th>1988-03-18</th>\n",
       "      <td>  8.813614</td>\n",
       "      <td> 1.432713</td>\n",
       "      <td>  8.853749</td>\n",
       "      <td> -2.620806</td>\n",
       "    </tr>\n",
       "    <tr>\n",
       "      <th>1987-12-18</th>\n",
       "      <td>-20.866414</td>\n",
       "      <td> 3.626313</td>\n",
       "      <td>  4.198692</td>\n",
       "      <td>-28.882676</td>\n",
       "    </tr>\n",
       "    <tr>\n",
       "      <th>1987-09-18</th>\n",
       "      <td>  2.570280</td>\n",
       "      <td> 0.825903</td>\n",
       "      <td>  9.707786</td>\n",
       "      <td> -1.312832</td>\n",
       "    </tr>\n",
       "    <tr>\n",
       "      <th>1987-06-19</th>\n",
       "      <td>  2.951333</td>\n",
       "      <td> 1.152783</td>\n",
       "      <td>  2.951333</td>\n",
       "      <td> -6.694174</td>\n",
       "    </tr>\n",
       "    <tr>\n",
       "      <th>1987-03-20</th>\n",
       "      <td> 19.396953</td>\n",
       "      <td> 0.860179</td>\n",
       "      <td> 19.396953</td>\n",
       "      <td> -3.027269</td>\n",
       "    </tr>\n",
       "    <tr>\n",
       "      <th>1986-12-19</th>\n",
       "      <td>  7.544890</td>\n",
       "      <td> 0.819384</td>\n",
       "      <td>  9.383743</td>\n",
       "      <td> -0.990487</td>\n",
       "    </tr>\n",
       "    <tr>\n",
       "      <th>1986-09-19</th>\n",
       "      <td> -6.208090</td>\n",
       "      <td> 1.084773</td>\n",
       "      <td>  2.524437</td>\n",
       "      <td> -6.830116</td>\n",
       "    </tr>\n",
       "    <tr>\n",
       "      <th>1986-06-20</th>\n",
       "      <td>  6.102683</td>\n",
       "      <td> 0.923940</td>\n",
       "      <td>  6.274106</td>\n",
       "      <td> -2.018514</td>\n",
       "    </tr>\n",
       "    <tr>\n",
       "      <th>1986-03-21</th>\n",
       "      <td> 10.619133</td>\n",
       "      <td> 0.829330</td>\n",
       "      <td> 12.140893</td>\n",
       "      <td> -3.531805</td>\n",
       "    </tr>\n",
       "    <tr>\n",
       "      <th>1985-12-20</th>\n",
       "      <td> 15.869267</td>\n",
       "      <td> 0.668008</td>\n",
       "      <td> 16.462510</td>\n",
       "      <td> -0.763527</td>\n",
       "    </tr>\n",
       "    <tr>\n",
       "      <th>1985-09-20</th>\n",
       "      <td> -3.987131</td>\n",
       "      <td> 0.545368</td>\n",
       "      <td>  3.185481</td>\n",
       "      <td> -4.351036</td>\n",
       "    </tr>\n",
       "    <tr>\n",
       "      <th>1985-06-21</th>\n",
       "      <td>  5.903715</td>\n",
       "      <td> 0.568242</td>\n",
       "      <td>  6.713590</td>\n",
       "      <td> -0.597626</td>\n",
       "    </tr>\n",
       "    <tr>\n",
       "      <th>1985-03-15</th>\n",
       "      <td>  8.506976</td>\n",
       "      <td> 0.772640</td>\n",
       "      <td> 12.699004</td>\n",
       "      <td>  0.000000</td>\n",
       "    </tr>\n",
       "  </tbody>\n",
       "</table>\n",
       "</div>"
      ],
      "text/plain": [
       "                  q1c    q1cstd     q1high      q1low\n",
       "1989-12-15   1.472211  1.048932   4.271718  -3.608071\n",
       "1989-09-15   7.378245  0.745028  10.076241  -1.048701\n",
       "1989-06-16   9.791933  0.657776  11.705221  -1.267549\n",
       "1989-03-17   5.935788  0.736357   8.447642  -0.354703\n",
       "1988-12-16   2.083880  0.752470   4.806950  -2.523547\n",
       "1988-09-16  -0.011083  0.904268   1.895231  -5.061320\n",
       "1988-06-17  -0.162293  1.156028   1.228242  -7.483771\n",
       "1988-03-18   8.813614  1.432713   8.853749  -2.620806\n",
       "1987-12-18 -20.866414  3.626313   4.198692 -28.882676\n",
       "1987-09-18   2.570280  0.825903   9.707786  -1.312832\n",
       "1987-06-19   2.951333  1.152783   2.951333  -6.694174\n",
       "1987-03-20  19.396953  0.860179  19.396953  -3.027269\n",
       "1986-12-19   7.544890  0.819384   9.383743  -0.990487\n",
       "1986-09-19  -6.208090  1.084773   2.524437  -6.830116\n",
       "1986-06-20   6.102683  0.923940   6.274106  -2.018514\n",
       "1986-03-21  10.619133  0.829330  12.140893  -3.531805\n",
       "1985-12-20  15.869267  0.668008  16.462510  -0.763527\n",
       "1985-09-20  -3.987131  0.545368   3.185481  -4.351036\n",
       "1985-06-21   5.903715  0.568242   6.713590  -0.597626\n",
       "1985-03-15   8.506976  0.772640  12.699004   0.000000"
      ]
     },
     "execution_count": 190,
     "metadata": {},
     "output_type": "execute_result"
    }
   ],
   "source": [
    "data[100:120]"
   ]
  },
  {
   "cell_type": "code",
   "execution_count": null,
   "metadata": {
    "collapsed": true
   },
   "outputs": [],
   "source": []
  }
 ],
 "metadata": {
  "kernelspec": {
   "display_name": "Python 2",
   "language": "python",
   "name": "python2"
  },
  "language_info": {
   "codemirror_mode": {
    "name": "ipython",
    "version": 2
   },
   "file_extension": ".py",
   "mimetype": "text/x-python",
   "name": "python",
   "nbconvert_exporter": "python",
   "pygments_lexer": "ipython2",
   "version": "2.7.9"
  }
 },
 "nbformat": 4,
 "nbformat_minor": 0
}
