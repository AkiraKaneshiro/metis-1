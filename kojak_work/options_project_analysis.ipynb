{
 "cells": [
  {
   "cell_type": "code",
   "execution_count": 16,
   "metadata": {
    "collapsed": true
   },
   "outputs": [],
   "source": [
    "import csv\n",
    "import pandas as pd\n",
    "from pandas import *"
   ]
  },
  {
   "cell_type": "code",
   "execution_count": 17,
   "metadata": {
    "collapsed": false
   },
   "outputs": [],
   "source": [
    "sp500 = read_csv('sp500.csv', delimiter=',', header=0)\n",
    "options = read_csv('options.csv', delimiter=',', header=0)"
   ]
  },
  {
   "cell_type": "code",
   "execution_count": 18,
   "metadata": {
    "collapsed": true
   },
   "outputs": [],
   "source": [
    "sp500.rename(columns={'Unnamed: 0':'nrow'}, inplace=True)\n",
    "options.rename(columns={'Unnamed: 0':'nrow'}, inplace=True)"
   ]
  },
  {
   "cell_type": "code",
   "execution_count": 19,
   "metadata": {
    "collapsed": false
   },
   "outputs": [
    {
     "data": {
      "text/html": [
       "<div style=\"max-height:1000px;max-width:1500px;overflow:auto;\">\n",
       "<table border=\"1\" class=\"dataframe\">\n",
       "  <thead>\n",
       "    <tr style=\"text-align: right;\">\n",
       "      <th></th>\n",
       "      <th>nrow</th>\n",
       "      <th>date</th>\n",
       "      <th>open</th>\n",
       "      <th>high</th>\n",
       "      <th>low</th>\n",
       "      <th>vol</th>\n",
       "      <th>close</th>\n",
       "    </tr>\n",
       "  </thead>\n",
       "  <tbody>\n",
       "    <tr>\n",
       "      <th>0</th>\n",
       "      <td> 0</td>\n",
       "      <td> 2015-06-01 00:00:00</td>\n",
       "      <td> 2108.63989</td>\n",
       "      <td> 2121.91992</td>\n",
       "      <td> 2085.66992</td>\n",
       "      <td> 3120956000</td>\n",
       "      <td> 2092.83008</td>\n",
       "    </tr>\n",
       "    <tr>\n",
       "      <th>1</th>\n",
       "      <td> 1</td>\n",
       "      <td> 2015-05-26 00:00:00</td>\n",
       "      <td> 2125.34009</td>\n",
       "      <td> 2126.21997</td>\n",
       "      <td> 2099.17993</td>\n",
       "      <td> 3344457500</td>\n",
       "      <td> 2107.38989</td>\n",
       "    </tr>\n",
       "    <tr>\n",
       "      <th>2</th>\n",
       "      <td> 2</td>\n",
       "      <td> 2015-05-18 00:00:00</td>\n",
       "      <td> 2121.30005</td>\n",
       "      <td> 2134.71997</td>\n",
       "      <td> 2120.01001</td>\n",
       "      <td> 2970484000</td>\n",
       "      <td> 2126.06006</td>\n",
       "    </tr>\n",
       "    <tr>\n",
       "      <th>3</th>\n",
       "      <td> 3</td>\n",
       "      <td> 2015-05-11 00:00:00</td>\n",
       "      <td> 2115.56006</td>\n",
       "      <td> 2123.88989</td>\n",
       "      <td> 2085.57007</td>\n",
       "      <td> 2536950000</td>\n",
       "      <td> 2122.72998</td>\n",
       "    </tr>\n",
       "    <tr>\n",
       "      <th>4</th>\n",
       "      <td> 4</td>\n",
       "      <td> 2015-05-04 00:00:00</td>\n",
       "      <td> 2110.22998</td>\n",
       "      <td> 2120.94995</td>\n",
       "      <td> 2067.92993</td>\n",
       "      <td> 3550764000</td>\n",
       "      <td> 2116.10010</td>\n",
       "    </tr>\n",
       "  </tbody>\n",
       "</table>\n",
       "</div>"
      ],
      "text/plain": [
       "   nrow                 date        open        high         low         vol  \\\n",
       "0     0  2015-06-01 00:00:00  2108.63989  2121.91992  2085.66992  3120956000   \n",
       "1     1  2015-05-26 00:00:00  2125.34009  2126.21997  2099.17993  3344457500   \n",
       "2     2  2015-05-18 00:00:00  2121.30005  2134.71997  2120.01001  2970484000   \n",
       "3     3  2015-05-11 00:00:00  2115.56006  2123.88989  2085.57007  2536950000   \n",
       "4     4  2015-05-04 00:00:00  2110.22998  2120.94995  2067.92993  3550764000   \n",
       "\n",
       "        close  \n",
       "0  2092.83008  \n",
       "1  2107.38989  \n",
       "2  2126.06006  \n",
       "3  2122.72998  \n",
       "4  2116.10010  "
      ]
     },
     "execution_count": 19,
     "metadata": {},
     "output_type": "execute_result"
    }
   ],
   "source": [
    "sp500.head(5)"
   ]
  },
  {
   "cell_type": "code",
   "execution_count": 20,
   "metadata": {
    "collapsed": false
   },
   "outputs": [
    {
     "data": {
      "text/html": [
       "<div style=\"max-height:1000px;max-width:1500px;overflow:auto;\">\n",
       "<table border=\"1\" class=\"dataframe\">\n",
       "  <thead>\n",
       "    <tr style=\"text-align: right;\">\n",
       "      <th></th>\n",
       "      <th>nrow</th>\n",
       "      <th>date</th>\n",
       "      <th>exp</th>\n",
       "      <th>strike</th>\n",
       "      <th>pc</th>\n",
       "      <th>oi</th>\n",
       "      <th>vol</th>\n",
       "      <th>high</th>\n",
       "      <th>low</th>\n",
       "      <th>open</th>\n",
       "      <th>last</th>\n",
       "    </tr>\n",
       "  </thead>\n",
       "  <tbody>\n",
       "    <tr>\n",
       "      <th>0</th>\n",
       "      <td> 0</td>\n",
       "      <td> 1990-01-05 00:00:00</td>\n",
       "      <td> 1990-12-22 00:00:00</td>\n",
       "      <td> 250</td>\n",
       "      <td> C</td>\n",
       "      <td>  320</td>\n",
       "      <td> 0</td>\n",
       "      <td> 0</td>\n",
       "      <td> 0</td>\n",
       "      <td> 0</td>\n",
       "      <td> 0</td>\n",
       "    </tr>\n",
       "    <tr>\n",
       "      <th>1</th>\n",
       "      <td> 1</td>\n",
       "      <td> 1990-01-05 00:00:00</td>\n",
       "      <td> 1990-12-22 00:00:00</td>\n",
       "      <td> 250</td>\n",
       "      <td> P</td>\n",
       "      <td> 4045</td>\n",
       "      <td> 0</td>\n",
       "      <td> 0</td>\n",
       "      <td> 0</td>\n",
       "      <td> 0</td>\n",
       "      <td> 0</td>\n",
       "    </tr>\n",
       "    <tr>\n",
       "      <th>2</th>\n",
       "      <td> 2</td>\n",
       "      <td> 1990-01-05 00:00:00</td>\n",
       "      <td> 1990-12-22 00:00:00</td>\n",
       "      <td> 275</td>\n",
       "      <td> C</td>\n",
       "      <td>    3</td>\n",
       "      <td> 0</td>\n",
       "      <td> 0</td>\n",
       "      <td> 0</td>\n",
       "      <td> 0</td>\n",
       "      <td> 0</td>\n",
       "    </tr>\n",
       "    <tr>\n",
       "      <th>3</th>\n",
       "      <td> 3</td>\n",
       "      <td> 1990-01-05 00:00:00</td>\n",
       "      <td> 1990-12-22 00:00:00</td>\n",
       "      <td> 275</td>\n",
       "      <td> P</td>\n",
       "      <td>  400</td>\n",
       "      <td> 0</td>\n",
       "      <td> 0</td>\n",
       "      <td> 0</td>\n",
       "      <td> 0</td>\n",
       "      <td> 0</td>\n",
       "    </tr>\n",
       "    <tr>\n",
       "      <th>4</th>\n",
       "      <td> 4</td>\n",
       "      <td> 1990-01-05 00:00:00</td>\n",
       "      <td> 1990-12-22 00:00:00</td>\n",
       "      <td> 300</td>\n",
       "      <td> C</td>\n",
       "      <td>    0</td>\n",
       "      <td> 0</td>\n",
       "      <td> 0</td>\n",
       "      <td> 0</td>\n",
       "      <td> 0</td>\n",
       "      <td> 0</td>\n",
       "    </tr>\n",
       "  </tbody>\n",
       "</table>\n",
       "</div>"
      ],
      "text/plain": [
       "   nrow                 date                  exp  strike pc    oi  vol  high  \\\n",
       "0     0  1990-01-05 00:00:00  1990-12-22 00:00:00     250  C   320    0     0   \n",
       "1     1  1990-01-05 00:00:00  1990-12-22 00:00:00     250  P  4045    0     0   \n",
       "2     2  1990-01-05 00:00:00  1990-12-22 00:00:00     275  C     3    0     0   \n",
       "3     3  1990-01-05 00:00:00  1990-12-22 00:00:00     275  P   400    0     0   \n",
       "4     4  1990-01-05 00:00:00  1990-12-22 00:00:00     300  C     0    0     0   \n",
       "\n",
       "   low  open  last  \n",
       "0    0     0     0  \n",
       "1    0     0     0  \n",
       "2    0     0     0  \n",
       "3    0     0     0  \n",
       "4    0     0     0  "
      ]
     },
     "execution_count": 20,
     "metadata": {},
     "output_type": "execute_result"
    }
   ],
   "source": [
    "options.head(5)"
   ]
  },
  {
   "cell_type": "code",
   "execution_count": 21,
   "metadata": {
    "collapsed": false
   },
   "outputs": [
    {
     "data": {
      "text/plain": [
       "0     2092.830080\n",
       "1     2100.109985\n",
       "2     2108.760010\n",
       "3     2112.252502\n",
       "4     2113.022022\n",
       "5     2112.233358\n",
       "6     2113.012870\n",
       "7     2109.033752\n",
       "8     2108.258898\n",
       "9     2104.129004\n",
       "10    2100.210005\n",
       "11    2100.867513\n",
       "12    2097.216158\n",
       "13    2095.362148\n",
       "14    2095.971338\n",
       "...\n",
       "1520    304.684687\n",
       "1521    304.154271\n",
       "1522    303.660243\n",
       "1523    303.130521\n",
       "1524    302.604930\n",
       "1525    302.056250\n",
       "1526    301.493125\n",
       "1527    300.900034\n",
       "1528    300.294444\n",
       "1529    299.700625\n",
       "1530    299.091805\n",
       "1531    298.464201\n",
       "1532    297.865243\n",
       "1533    297.246284\n",
       "1534    296.658194\n",
       "Length: 1535, dtype: float64"
      ]
     },
     "execution_count": 21,
     "metadata": {},
     "output_type": "execute_result"
    }
   ],
   "source": [
    "rolling_mean(sp500.close, window = 288, min_periods=1, center=False)"
   ]
  },
  {
   "cell_type": "code",
   "execution_count": 22,
   "metadata": {
    "collapsed": false
   },
   "outputs": [
    {
     "data": {
      "text/plain": [
       "1535"
      ]
     },
     "execution_count": 22,
     "metadata": {},
     "output_type": "execute_result"
    }
   ],
   "source": [
    "len(sp500)"
   ]
  },
  {
   "cell_type": "code",
   "execution_count": 24,
   "metadata": {
    "collapsed": false
   },
   "outputs": [
    {
     "data": {
      "text/plain": [
       "1925.192505"
      ]
     },
     "execution_count": 24,
     "metadata": {},
     "output_type": "execute_result"
    }
   ],
   "source": [
    "sum(sp500.close[0:11])/12"
   ]
  },
  {
   "cell_type": "code",
   "execution_count": null,
   "metadata": {
    "collapsed": true
   },
   "outputs": [],
   "source": []
  }
 ],
 "metadata": {
  "kernelspec": {
   "display_name": "Python 2",
   "language": "python",
   "name": "python2"
  },
  "language_info": {
   "codemirror_mode": {
    "name": "ipython",
    "version": 2
   },
   "file_extension": ".py",
   "mimetype": "text/x-python",
   "name": "python",
   "nbconvert_exporter": "python",
   "pygments_lexer": "ipython2",
   "version": "2.7.9"
  }
 },
 "nbformat": 4,
 "nbformat_minor": 0
}
