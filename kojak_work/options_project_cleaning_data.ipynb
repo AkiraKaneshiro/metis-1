{
 "cells": [
  {
   "cell_type": "code",
   "execution_count": 86,
   "metadata": {
    "collapsed": true
   },
   "outputs": [],
   "source": [
    "import csv\n",
    "import pandas as pd\n",
    "from pandas import *\n",
    "import dateutil.parser as dp"
   ]
  },
  {
   "cell_type": "markdown",
   "metadata": {},
   "source": [
    "## Loading S&P 500 Weekly Data"
   ]
  },
  {
   "cell_type": "code",
   "execution_count": 87,
   "metadata": {
    "collapsed": false
   },
   "outputs": [],
   "source": [
    "spd = read_csv('sp500d_19740101_20150605.csv', delimiter=',', header=0, \n",
    "               names=['date','o','h','l','close','vol','c'])"
   ]
  },
  {
   "cell_type": "code",
   "execution_count": 88,
   "metadata": {
    "collapsed": true
   },
   "outputs": [],
   "source": [
    "spw = read_csv('sp500w_19740101_20150605.csv', delimiter=',', header=0, \n",
    "               names=['date','o','h','l','close','vol','c'])"
   ]
  },
  {
   "cell_type": "code",
   "execution_count": 89,
   "metadata": {
    "collapsed": false
   },
   "outputs": [
    {
     "data": {
      "text/plain": [
       "10452"
      ]
     },
     "execution_count": 89,
     "metadata": {},
     "output_type": "execute_result"
    }
   ],
   "source": [
    "len(spd)"
   ]
  },
  {
   "cell_type": "code",
   "execution_count": 90,
   "metadata": {
    "collapsed": false
   },
   "outputs": [
    {
     "data": {
      "text/plain": [
       "2162"
      ]
     },
     "execution_count": 90,
     "metadata": {},
     "output_type": "execute_result"
    }
   ],
   "source": [
    "len(spw)"
   ]
  },
  {
   "cell_type": "code",
   "execution_count": 91,
   "metadata": {
    "collapsed": false
   },
   "outputs": [
    {
     "data": {
      "text/html": [
       "<div style=\"max-height:1000px;max-width:1500px;overflow:auto;\">\n",
       "<table border=\"1\" class=\"dataframe\">\n",
       "  <thead>\n",
       "    <tr style=\"text-align: right;\">\n",
       "      <th></th>\n",
       "      <th>date</th>\n",
       "      <th>o</th>\n",
       "      <th>h</th>\n",
       "      <th>l</th>\n",
       "      <th>close</th>\n",
       "      <th>vol</th>\n",
       "      <th>c</th>\n",
       "    </tr>\n",
       "  </thead>\n",
       "  <tbody>\n",
       "    <tr>\n",
       "      <th>0</th>\n",
       "      <td> 2015-06-05</td>\n",
       "      <td> 2095.09009</td>\n",
       "      <td> 2100.98999</td>\n",
       "      <td> 2085.66992</td>\n",
       "      <td> 2092.83008</td>\n",
       "      <td> 3243690000</td>\n",
       "      <td> 2092.83008</td>\n",
       "    </tr>\n",
       "    <tr>\n",
       "      <th>1</th>\n",
       "      <td> 2015-06-04</td>\n",
       "      <td> 2112.35010</td>\n",
       "      <td> 2112.88989</td>\n",
       "      <td> 2093.22998</td>\n",
       "      <td> 2095.84009</td>\n",
       "      <td> 3200050000</td>\n",
       "      <td> 2095.84009</td>\n",
       "    </tr>\n",
       "    <tr>\n",
       "      <th>2</th>\n",
       "      <td> 2015-06-03</td>\n",
       "      <td> 2110.63989</td>\n",
       "      <td> 2121.91992</td>\n",
       "      <td> 2109.61011</td>\n",
       "      <td> 2114.07007</td>\n",
       "      <td> 3099980000</td>\n",
       "      <td> 2114.07007</td>\n",
       "    </tr>\n",
       "  </tbody>\n",
       "</table>\n",
       "</div>"
      ],
      "text/plain": [
       "         date           o           h           l       close         vol  \\\n",
       "0  2015-06-05  2095.09009  2100.98999  2085.66992  2092.83008  3243690000   \n",
       "1  2015-06-04  2112.35010  2112.88989  2093.22998  2095.84009  3200050000   \n",
       "2  2015-06-03  2110.63989  2121.91992  2109.61011  2114.07007  3099980000   \n",
       "\n",
       "            c  \n",
       "0  2092.83008  \n",
       "1  2095.84009  \n",
       "2  2114.07007  "
      ]
     },
     "execution_count": 91,
     "metadata": {},
     "output_type": "execute_result"
    }
   ],
   "source": [
    "spd.head(3)"
   ]
  },
  {
   "cell_type": "code",
   "execution_count": 92,
   "metadata": {
    "collapsed": false
   },
   "outputs": [
    {
     "data": {
      "text/html": [
       "<div style=\"max-height:1000px;max-width:1500px;overflow:auto;\">\n",
       "<table border=\"1\" class=\"dataframe\">\n",
       "  <thead>\n",
       "    <tr style=\"text-align: right;\">\n",
       "      <th></th>\n",
       "      <th>date</th>\n",
       "      <th>o</th>\n",
       "      <th>h</th>\n",
       "      <th>l</th>\n",
       "      <th>close</th>\n",
       "      <th>vol</th>\n",
       "      <th>c</th>\n",
       "    </tr>\n",
       "  </thead>\n",
       "  <tbody>\n",
       "    <tr>\n",
       "      <th>10449</th>\n",
       "      <td> 1974-01-04</td>\n",
       "      <td> 99.80</td>\n",
       "      <td> 100.70</td>\n",
       "      <td> 97.70</td>\n",
       "      <td> 98.90</td>\n",
       "      <td> 21700000</td>\n",
       "      <td> 98.90</td>\n",
       "    </tr>\n",
       "    <tr>\n",
       "      <th>10450</th>\n",
       "      <td> 1974-01-03</td>\n",
       "      <td> 98.02</td>\n",
       "      <td> 100.94</td>\n",
       "      <td> 98.02</td>\n",
       "      <td> 99.80</td>\n",
       "      <td> 24850000</td>\n",
       "      <td> 99.80</td>\n",
       "    </tr>\n",
       "    <tr>\n",
       "      <th>10451</th>\n",
       "      <td> 1974-01-02</td>\n",
       "      <td> 97.55</td>\n",
       "      <td>  98.38</td>\n",
       "      <td> 96.25</td>\n",
       "      <td> 97.68</td>\n",
       "      <td> 12060000</td>\n",
       "      <td> 97.68</td>\n",
       "    </tr>\n",
       "  </tbody>\n",
       "</table>\n",
       "</div>"
      ],
      "text/plain": [
       "             date      o       h      l  close       vol      c\n",
       "10449  1974-01-04  99.80  100.70  97.70  98.90  21700000  98.90\n",
       "10450  1974-01-03  98.02  100.94  98.02  99.80  24850000  99.80\n",
       "10451  1974-01-02  97.55   98.38  96.25  97.68  12060000  97.68"
      ]
     },
     "execution_count": 92,
     "metadata": {},
     "output_type": "execute_result"
    }
   ],
   "source": [
    "spd.tail(3)"
   ]
  },
  {
   "cell_type": "code",
   "execution_count": 93,
   "metadata": {
    "collapsed": false
   },
   "outputs": [
    {
     "data": {
      "text/html": [
       "<div style=\"max-height:1000px;max-width:1500px;overflow:auto;\">\n",
       "<table border=\"1\" class=\"dataframe\">\n",
       "  <thead>\n",
       "    <tr style=\"text-align: right;\">\n",
       "      <th></th>\n",
       "      <th>date</th>\n",
       "      <th>o</th>\n",
       "      <th>h</th>\n",
       "      <th>l</th>\n",
       "      <th>close</th>\n",
       "      <th>vol</th>\n",
       "      <th>c</th>\n",
       "    </tr>\n",
       "  </thead>\n",
       "  <tbody>\n",
       "    <tr>\n",
       "      <th>0</th>\n",
       "      <td> 2015-06-01</td>\n",
       "      <td> 2108.63989</td>\n",
       "      <td> 2121.91992</td>\n",
       "      <td> 2085.66992</td>\n",
       "      <td> 2092.83008</td>\n",
       "      <td> 3120956000</td>\n",
       "      <td> 2092.83008</td>\n",
       "    </tr>\n",
       "    <tr>\n",
       "      <th>1</th>\n",
       "      <td> 2015-05-26</td>\n",
       "      <td> 2125.34009</td>\n",
       "      <td> 2126.21997</td>\n",
       "      <td> 2099.17993</td>\n",
       "      <td> 2107.38989</td>\n",
       "      <td> 3344457500</td>\n",
       "      <td> 2107.38989</td>\n",
       "    </tr>\n",
       "    <tr>\n",
       "      <th>2</th>\n",
       "      <td> 2015-05-18</td>\n",
       "      <td> 2121.30005</td>\n",
       "      <td> 2134.71997</td>\n",
       "      <td> 2120.01001</td>\n",
       "      <td> 2126.06006</td>\n",
       "      <td> 2970484000</td>\n",
       "      <td> 2126.06006</td>\n",
       "    </tr>\n",
       "  </tbody>\n",
       "</table>\n",
       "</div>"
      ],
      "text/plain": [
       "         date           o           h           l       close         vol  \\\n",
       "0  2015-06-01  2108.63989  2121.91992  2085.66992  2092.83008  3120956000   \n",
       "1  2015-05-26  2125.34009  2126.21997  2099.17993  2107.38989  3344457500   \n",
       "2  2015-05-18  2121.30005  2134.71997  2120.01001  2126.06006  2970484000   \n",
       "\n",
       "            c  \n",
       "0  2092.83008  \n",
       "1  2107.38989  \n",
       "2  2126.06006  "
      ]
     },
     "execution_count": 93,
     "metadata": {},
     "output_type": "execute_result"
    }
   ],
   "source": [
    "spw.head(3)"
   ]
  },
  {
   "cell_type": "code",
   "execution_count": 94,
   "metadata": {
    "collapsed": false
   },
   "outputs": [
    {
     "data": {
      "text/html": [
       "<div style=\"max-height:1000px;max-width:1500px;overflow:auto;\">\n",
       "<table border=\"1\" class=\"dataframe\">\n",
       "  <thead>\n",
       "    <tr style=\"text-align: right;\">\n",
       "      <th></th>\n",
       "      <th>date</th>\n",
       "      <th>o</th>\n",
       "      <th>h</th>\n",
       "      <th>l</th>\n",
       "      <th>close</th>\n",
       "      <th>vol</th>\n",
       "      <th>c</th>\n",
       "    </tr>\n",
       "  </thead>\n",
       "  <tbody>\n",
       "    <tr>\n",
       "      <th>2159</th>\n",
       "      <td> 1974-01-14</td>\n",
       "      <td> 93.66</td>\n",
       "      <td>  98.35</td>\n",
       "      <td> 92.35</td>\n",
       "      <td> 95.56</td>\n",
       "      <td> 16060000</td>\n",
       "      <td> 95.56</td>\n",
       "    </tr>\n",
       "    <tr>\n",
       "      <th>2160</th>\n",
       "      <td> 1974-01-07</td>\n",
       "      <td> 98.90</td>\n",
       "      <td>  99.31</td>\n",
       "      <td> 91.62</td>\n",
       "      <td> 93.66</td>\n",
       "      <td> 17296000</td>\n",
       "      <td> 93.66</td>\n",
       "    </tr>\n",
       "    <tr>\n",
       "      <th>2161</th>\n",
       "      <td> 1974-01-02</td>\n",
       "      <td> 97.55</td>\n",
       "      <td> 100.94</td>\n",
       "      <td> 96.25</td>\n",
       "      <td> 98.90</td>\n",
       "      <td> 19536600</td>\n",
       "      <td> 98.90</td>\n",
       "    </tr>\n",
       "  </tbody>\n",
       "</table>\n",
       "</div>"
      ],
      "text/plain": [
       "            date      o       h      l  close       vol      c\n",
       "2159  1974-01-14  93.66   98.35  92.35  95.56  16060000  95.56\n",
       "2160  1974-01-07  98.90   99.31  91.62  93.66  17296000  93.66\n",
       "2161  1974-01-02  97.55  100.94  96.25  98.90  19536600  98.90"
      ]
     },
     "execution_count": 94,
     "metadata": {},
     "output_type": "execute_result"
    }
   ],
   "source": [
    "spw.tail(3)"
   ]
  },
  {
   "cell_type": "code",
   "execution_count": 95,
   "metadata": {
    "collapsed": false
   },
   "outputs": [
    {
     "data": {
      "text/plain": [
       "(str, str)"
      ]
     },
     "execution_count": 95,
     "metadata": {},
     "output_type": "execute_result"
    }
   ],
   "source": [
    "type(spd.date[0]), type (spw.date[0])"
   ]
  },
  {
   "cell_type": "code",
   "execution_count": 96,
   "metadata": {
    "collapsed": true
   },
   "outputs": [],
   "source": [
    "spd['date'] = pd.to_datetime(spd['date'])\n",
    "spw['date'] = pd.to_datetime(spw['date'])"
   ]
  },
  {
   "cell_type": "code",
   "execution_count": 97,
   "metadata": {
    "collapsed": false
   },
   "outputs": [
    {
     "data": {
      "text/plain": [
       "(pandas.tslib.Timestamp, pandas.tslib.Timestamp)"
      ]
     },
     "execution_count": 97,
     "metadata": {},
     "output_type": "execute_result"
    }
   ],
   "source": [
    "type(spd.date[0]), type (spw.date[0])"
   ]
  },
  {
   "cell_type": "markdown",
   "metadata": {},
   "source": [
    "## Loading Daily Options Data"
   ]
  },
  {
   "cell_type": "code",
   "execution_count": 98,
   "metadata": {
    "collapsed": true
   },
   "outputs": [],
   "source": [
    "spx_all = read_csv('/Users/marcolunardi/Documents/Doc/spx_options_1990_2015.csv', delimiter=',', header=0, \n",
    "                   usecols=[0,2,3,4,5,6,7,8,9,10,11,14,15], \n",
    "                   names=['date','cl','exp','strike','pc','oi','vol','h','l','o','c','sp','ty'])"
   ]
  },
  {
   "cell_type": "code",
   "execution_count": 99,
   "metadata": {
    "collapsed": false
   },
   "outputs": [
    {
     "data": {
      "text/html": [
       "<div style=\"max-height:1000px;max-width:1500px;overflow:auto;\">\n",
       "<table border=\"1\" class=\"dataframe\">\n",
       "  <thead>\n",
       "    <tr style=\"text-align: right;\">\n",
       "      <th></th>\n",
       "      <th>date</th>\n",
       "      <th>cl</th>\n",
       "      <th>exp</th>\n",
       "      <th>strike</th>\n",
       "      <th>pc</th>\n",
       "      <th>oi</th>\n",
       "      <th>vol</th>\n",
       "      <th>h</th>\n",
       "      <th>l</th>\n",
       "      <th>o</th>\n",
       "      <th>c</th>\n",
       "      <th>sp</th>\n",
       "      <th>ty</th>\n",
       "    </tr>\n",
       "  </thead>\n",
       "  <tbody>\n",
       "    <tr>\n",
       "      <th>0</th>\n",
       "      <td> 19900102</td>\n",
       "      <td> NSX</td>\n",
       "      <td> 19900317</td>\n",
       "      <td> 330</td>\n",
       "      <td> C</td>\n",
       "      <td>    0</td>\n",
       "      <td> 0</td>\n",
       "      <td> 0</td>\n",
       "      <td> 0</td>\n",
       "      <td> 0</td>\n",
       "      <td> 0</td>\n",
       "      <td> 359.69</td>\n",
       "      <td> Standard</td>\n",
       "    </tr>\n",
       "    <tr>\n",
       "      <th>1</th>\n",
       "      <td> 19900102</td>\n",
       "      <td> NSX</td>\n",
       "      <td> 19900317</td>\n",
       "      <td> 335</td>\n",
       "      <td> C</td>\n",
       "      <td>    0</td>\n",
       "      <td> 0</td>\n",
       "      <td> 0</td>\n",
       "      <td> 0</td>\n",
       "      <td> 0</td>\n",
       "      <td> 0</td>\n",
       "      <td> 359.69</td>\n",
       "      <td> Standard</td>\n",
       "    </tr>\n",
       "    <tr>\n",
       "      <th>2</th>\n",
       "      <td> 19900102</td>\n",
       "      <td> NSX</td>\n",
       "      <td> 19900317</td>\n",
       "      <td> 340</td>\n",
       "      <td> C</td>\n",
       "      <td> 3007</td>\n",
       "      <td> 0</td>\n",
       "      <td> 0</td>\n",
       "      <td> 0</td>\n",
       "      <td> 0</td>\n",
       "      <td> 0</td>\n",
       "      <td> 359.69</td>\n",
       "      <td> Standard</td>\n",
       "    </tr>\n",
       "    <tr>\n",
       "      <th>3</th>\n",
       "      <td> 19900102</td>\n",
       "      <td> NSX</td>\n",
       "      <td> 19900317</td>\n",
       "      <td> 345</td>\n",
       "      <td> C</td>\n",
       "      <td>  410</td>\n",
       "      <td> 0</td>\n",
       "      <td> 0</td>\n",
       "      <td> 0</td>\n",
       "      <td> 0</td>\n",
       "      <td> 0</td>\n",
       "      <td> 359.69</td>\n",
       "      <td> Standard</td>\n",
       "    </tr>\n",
       "    <tr>\n",
       "      <th>4</th>\n",
       "      <td> 19900102</td>\n",
       "      <td> NSX</td>\n",
       "      <td> 19900317</td>\n",
       "      <td> 350</td>\n",
       "      <td> C</td>\n",
       "      <td>  300</td>\n",
       "      <td> 0</td>\n",
       "      <td> 0</td>\n",
       "      <td> 0</td>\n",
       "      <td> 0</td>\n",
       "      <td> 0</td>\n",
       "      <td> 359.69</td>\n",
       "      <td> Standard</td>\n",
       "    </tr>\n",
       "  </tbody>\n",
       "</table>\n",
       "</div>"
      ],
      "text/plain": [
       "       date   cl       exp  strike pc    oi  vol  h  l  o  c      sp        ty\n",
       "0  19900102  NSX  19900317     330  C     0    0  0  0  0  0  359.69  Standard\n",
       "1  19900102  NSX  19900317     335  C     0    0  0  0  0  0  359.69  Standard\n",
       "2  19900102  NSX  19900317     340  C  3007    0  0  0  0  0  359.69  Standard\n",
       "3  19900102  NSX  19900317     345  C   410    0  0  0  0  0  359.69  Standard\n",
       "4  19900102  NSX  19900317     350  C   300    0  0  0  0  0  359.69  Standard"
      ]
     },
     "execution_count": 99,
     "metadata": {},
     "output_type": "execute_result"
    }
   ],
   "source": [
    "spx_all.head(5)"
   ]
  },
  {
   "cell_type": "code",
   "execution_count": 100,
   "metadata": {
    "collapsed": false
   },
   "outputs": [
    {
     "data": {
      "text/html": [
       "<div style=\"max-height:1000px;max-width:1500px;overflow:auto;\">\n",
       "<table border=\"1\" class=\"dataframe\">\n",
       "  <thead>\n",
       "    <tr style=\"text-align: right;\">\n",
       "      <th></th>\n",
       "      <th>date</th>\n",
       "      <th>cl</th>\n",
       "      <th>exp</th>\n",
       "      <th>strike</th>\n",
       "      <th>pc</th>\n",
       "      <th>oi</th>\n",
       "      <th>vol</th>\n",
       "      <th>h</th>\n",
       "      <th>l</th>\n",
       "      <th>o</th>\n",
       "      <th>c</th>\n",
       "      <th>sp</th>\n",
       "      <th>ty</th>\n",
       "    </tr>\n",
       "  </thead>\n",
       "  <tbody>\n",
       "    <tr>\n",
       "      <th>7771980</th>\n",
       "      <td> 20150601</td>\n",
       "      <td> SPXW</td>\n",
       "      <td> 20160331</td>\n",
       "      <td> 2300</td>\n",
       "      <td> P</td>\n",
       "      <td> 0</td>\n",
       "      <td> 0</td>\n",
       "      <td> 0</td>\n",
       "      <td> 0</td>\n",
       "      <td> 0</td>\n",
       "      <td> 0</td>\n",
       "      <td> 2111.73</td>\n",
       "      <td> LEAP</td>\n",
       "    </tr>\n",
       "    <tr>\n",
       "      <th>7771981</th>\n",
       "      <td> 20150601</td>\n",
       "      <td> SPXW</td>\n",
       "      <td> 20160331</td>\n",
       "      <td> 2400</td>\n",
       "      <td> P</td>\n",
       "      <td> 0</td>\n",
       "      <td> 0</td>\n",
       "      <td> 0</td>\n",
       "      <td> 0</td>\n",
       "      <td> 0</td>\n",
       "      <td> 0</td>\n",
       "      <td> 2111.73</td>\n",
       "      <td> LEAP</td>\n",
       "    </tr>\n",
       "    <tr>\n",
       "      <th>7771982</th>\n",
       "      <td> 20150601</td>\n",
       "      <td> SPXW</td>\n",
       "      <td> 20160331</td>\n",
       "      <td> 2500</td>\n",
       "      <td> P</td>\n",
       "      <td> 0</td>\n",
       "      <td> 0</td>\n",
       "      <td> 0</td>\n",
       "      <td> 0</td>\n",
       "      <td> 0</td>\n",
       "      <td> 0</td>\n",
       "      <td> 2111.73</td>\n",
       "      <td> LEAP</td>\n",
       "    </tr>\n",
       "    <tr>\n",
       "      <th>7771983</th>\n",
       "      <td> 20150601</td>\n",
       "      <td> SPXW</td>\n",
       "      <td> 20160331</td>\n",
       "      <td> 2600</td>\n",
       "      <td> P</td>\n",
       "      <td> 0</td>\n",
       "      <td> 0</td>\n",
       "      <td> 0</td>\n",
       "      <td> 0</td>\n",
       "      <td> 0</td>\n",
       "      <td> 0</td>\n",
       "      <td> 2111.73</td>\n",
       "      <td> LEAP</td>\n",
       "    </tr>\n",
       "    <tr>\n",
       "      <th>7771984</th>\n",
       "      <td> 20150601</td>\n",
       "      <td> SPXW</td>\n",
       "      <td> 20160331</td>\n",
       "      <td> 2700</td>\n",
       "      <td> P</td>\n",
       "      <td> 0</td>\n",
       "      <td> 0</td>\n",
       "      <td> 0</td>\n",
       "      <td> 0</td>\n",
       "      <td> 0</td>\n",
       "      <td> 0</td>\n",
       "      <td> 2111.73</td>\n",
       "      <td> LEAP</td>\n",
       "    </tr>\n",
       "  </tbody>\n",
       "</table>\n",
       "</div>"
      ],
      "text/plain": [
       "             date    cl       exp  strike pc  oi  vol  h  l  o  c       sp  \\\n",
       "7771980  20150601  SPXW  20160331    2300  P   0    0  0  0  0  0  2111.73   \n",
       "7771981  20150601  SPXW  20160331    2400  P   0    0  0  0  0  0  2111.73   \n",
       "7771982  20150601  SPXW  20160331    2500  P   0    0  0  0  0  0  2111.73   \n",
       "7771983  20150601  SPXW  20160331    2600  P   0    0  0  0  0  0  2111.73   \n",
       "7771984  20150601  SPXW  20160331    2700  P   0    0  0  0  0  0  2111.73   \n",
       "\n",
       "           ty  \n",
       "7771980  LEAP  \n",
       "7771981  LEAP  \n",
       "7771982  LEAP  \n",
       "7771983  LEAP  \n",
       "7771984  LEAP  "
      ]
     },
     "execution_count": 100,
     "metadata": {},
     "output_type": "execute_result"
    }
   ],
   "source": [
    "spx_all.tail(5)"
   ]
  },
  {
   "cell_type": "code",
   "execution_count": 101,
   "metadata": {
    "collapsed": false
   },
   "outputs": [],
   "source": [
    "spxt = spx_all[spx_all.ty == 'Standard']"
   ]
  },
  {
   "cell_type": "code",
   "execution_count": 102,
   "metadata": {
    "collapsed": false
   },
   "outputs": [
    {
     "data": {
      "text/plain": [
       "4722723"
      ]
     },
     "execution_count": 102,
     "metadata": {},
     "output_type": "execute_result"
    }
   ],
   "source": [
    "len(spxt)"
   ]
  },
  {
   "cell_type": "code",
   "execution_count": 103,
   "metadata": {
    "collapsed": false
   },
   "outputs": [],
   "source": [
    "spxc = spxt[spxt.cl == 'SPX']"
   ]
  },
  {
   "cell_type": "code",
   "execution_count": 104,
   "metadata": {
    "collapsed": false
   },
   "outputs": [
    {
     "data": {
      "text/plain": [
       "2406884"
      ]
     },
     "execution_count": 104,
     "metadata": {},
     "output_type": "execute_result"
    }
   ],
   "source": [
    "len(spxc)"
   ]
  },
  {
   "cell_type": "code",
   "execution_count": 105,
   "metadata": {
    "collapsed": false
   },
   "outputs": [
    {
     "name": "stderr",
     "output_type": "stream",
     "text": [
      "/usr/local/lib/python2.7/site-packages/IPython/kernel/__main__.py:1: SettingWithCopyWarning: \n",
      "A value is trying to be set on a copy of a slice from a DataFrame.\n",
      "Try using .loc[row_indexer,col_indexer] = value instead\n",
      "\n",
      "See the the caveats in the documentation: http://pandas.pydata.org/pandas-docs/stable/indexing.html#indexing-view-versus-copy\n",
      "  if __name__ == '__main__':\n",
      "/usr/local/lib/python2.7/site-packages/IPython/kernel/__main__.py:2: SettingWithCopyWarning: \n",
      "A value is trying to be set on a copy of a slice from a DataFrame.\n",
      "Try using .loc[row_indexer,col_indexer] = value instead\n",
      "\n",
      "See the the caveats in the documentation: http://pandas.pydata.org/pandas-docs/stable/indexing.html#indexing-view-versus-copy\n",
      "  from IPython.kernel.zmq import kernelapp as app\n"
     ]
    }
   ],
   "source": [
    "spxc['date'] = spxc['date'].astype('string')\n",
    "spxc['exp'] = spxc['exp'].astype('string')"
   ]
  },
  {
   "cell_type": "code",
   "execution_count": 106,
   "metadata": {
    "collapsed": false
   },
   "outputs": [
    {
     "name": "stderr",
     "output_type": "stream",
     "text": [
      "/usr/local/lib/python2.7/site-packages/IPython/kernel/__main__.py:1: SettingWithCopyWarning: \n",
      "A value is trying to be set on a copy of a slice from a DataFrame.\n",
      "Try using .loc[row_indexer,col_indexer] = value instead\n",
      "\n",
      "See the the caveats in the documentation: http://pandas.pydata.org/pandas-docs/stable/indexing.html#indexing-view-versus-copy\n",
      "  if __name__ == '__main__':\n",
      "/usr/local/lib/python2.7/site-packages/IPython/kernel/__main__.py:2: SettingWithCopyWarning: \n",
      "A value is trying to be set on a copy of a slice from a DataFrame.\n",
      "Try using .loc[row_indexer,col_indexer] = value instead\n",
      "\n",
      "See the the caveats in the documentation: http://pandas.pydata.org/pandas-docs/stable/indexing.html#indexing-view-versus-copy\n",
      "  from IPython.kernel.zmq import kernelapp as app\n"
     ]
    }
   ],
   "source": [
    "spxc['date'] = pd.to_datetime(spxc['date'])\n",
    "spxc['exp'] = pd.to_datetime(spxc['exp'])"
   ]
  },
  {
   "cell_type": "code",
   "execution_count": 107,
   "metadata": {
    "collapsed": false
   },
   "outputs": [
    {
     "data": {
      "text/html": [
       "<div style=\"max-height:1000px;max-width:1500px;overflow:auto;\">\n",
       "<table border=\"1\" class=\"dataframe\">\n",
       "  <thead>\n",
       "    <tr style=\"text-align: right;\">\n",
       "      <th></th>\n",
       "      <th>date</th>\n",
       "      <th>cl</th>\n",
       "      <th>exp</th>\n",
       "      <th>strike</th>\n",
       "      <th>pc</th>\n",
       "      <th>oi</th>\n",
       "      <th>vol</th>\n",
       "      <th>h</th>\n",
       "      <th>l</th>\n",
       "      <th>o</th>\n",
       "      <th>c</th>\n",
       "      <th>sp</th>\n",
       "      <th>ty</th>\n",
       "    </tr>\n",
       "  </thead>\n",
       "  <tbody>\n",
       "    <tr>\n",
       "      <th>86</th>\n",
       "      <td>1990-01-02</td>\n",
       "      <td> SPX</td>\n",
       "      <td>1990-01-20</td>\n",
       "      <td> 320</td>\n",
       "      <td> C</td>\n",
       "      <td> 1088</td>\n",
       "      <td>  0</td>\n",
       "      <td>  0.000</td>\n",
       "      <td>  0.0</td>\n",
       "      <td>  0.00</td>\n",
       "      <td>  0.000</td>\n",
       "      <td> 359.69</td>\n",
       "      <td> Standard</td>\n",
       "    </tr>\n",
       "    <tr>\n",
       "      <th>87</th>\n",
       "      <td>1990-01-02</td>\n",
       "      <td> SPX</td>\n",
       "      <td>1990-01-20</td>\n",
       "      <td> 325</td>\n",
       "      <td> C</td>\n",
       "      <td> 1252</td>\n",
       "      <td>  0</td>\n",
       "      <td>  0.000</td>\n",
       "      <td>  0.0</td>\n",
       "      <td>  0.00</td>\n",
       "      <td>  0.000</td>\n",
       "      <td> 359.69</td>\n",
       "      <td> Standard</td>\n",
       "    </tr>\n",
       "    <tr>\n",
       "      <th>88</th>\n",
       "      <td>1990-01-02</td>\n",
       "      <td> SPX</td>\n",
       "      <td>1990-01-20</td>\n",
       "      <td> 330</td>\n",
       "      <td> C</td>\n",
       "      <td> 8738</td>\n",
       "      <td> 25</td>\n",
       "      <td> 30.500</td>\n",
       "      <td> 30.5</td>\n",
       "      <td> 30.50</td>\n",
       "      <td> 30.500</td>\n",
       "      <td> 359.69</td>\n",
       "      <td> Standard</td>\n",
       "    </tr>\n",
       "    <tr>\n",
       "      <th>89</th>\n",
       "      <td>1990-01-02</td>\n",
       "      <td> SPX</td>\n",
       "      <td>1990-01-20</td>\n",
       "      <td> 335</td>\n",
       "      <td> C</td>\n",
       "      <td>  580</td>\n",
       "      <td>  0</td>\n",
       "      <td>  0.000</td>\n",
       "      <td>  0.0</td>\n",
       "      <td>  0.00</td>\n",
       "      <td>  0.000</td>\n",
       "      <td> 359.69</td>\n",
       "      <td> Standard</td>\n",
       "    </tr>\n",
       "    <tr>\n",
       "      <th>90</th>\n",
       "      <td>1990-01-02</td>\n",
       "      <td> SPX</td>\n",
       "      <td>1990-01-20</td>\n",
       "      <td> 340</td>\n",
       "      <td> C</td>\n",
       "      <td> 2480</td>\n",
       "      <td> 27</td>\n",
       "      <td> 17.625</td>\n",
       "      <td> 17.0</td>\n",
       "      <td> 17.25</td>\n",
       "      <td> 17.625</td>\n",
       "      <td> 359.69</td>\n",
       "      <td> Standard</td>\n",
       "    </tr>\n",
       "  </tbody>\n",
       "</table>\n",
       "</div>"
      ],
      "text/plain": [
       "         date   cl        exp  strike pc    oi  vol       h     l      o  \\\n",
       "86 1990-01-02  SPX 1990-01-20     320  C  1088    0   0.000   0.0   0.00   \n",
       "87 1990-01-02  SPX 1990-01-20     325  C  1252    0   0.000   0.0   0.00   \n",
       "88 1990-01-02  SPX 1990-01-20     330  C  8738   25  30.500  30.5  30.50   \n",
       "89 1990-01-02  SPX 1990-01-20     335  C   580    0   0.000   0.0   0.00   \n",
       "90 1990-01-02  SPX 1990-01-20     340  C  2480   27  17.625  17.0  17.25   \n",
       "\n",
       "         c      sp        ty  \n",
       "86   0.000  359.69  Standard  \n",
       "87   0.000  359.69  Standard  \n",
       "88  30.500  359.69  Standard  \n",
       "89   0.000  359.69  Standard  \n",
       "90  17.625  359.69  Standard  "
      ]
     },
     "execution_count": 107,
     "metadata": {},
     "output_type": "execute_result"
    }
   ],
   "source": [
    "spxc.head(5)"
   ]
  },
  {
   "cell_type": "code",
   "execution_count": 108,
   "metadata": {
    "collapsed": false
   },
   "outputs": [
    {
     "data": {
      "text/html": [
       "<div style=\"max-height:1000px;max-width:1500px;overflow:auto;\">\n",
       "<table border=\"1\" class=\"dataframe\">\n",
       "  <thead>\n",
       "    <tr style=\"text-align: right;\">\n",
       "      <th></th>\n",
       "      <th>date</th>\n",
       "      <th>cl</th>\n",
       "      <th>exp</th>\n",
       "      <th>strike</th>\n",
       "      <th>pc</th>\n",
       "      <th>oi</th>\n",
       "      <th>vol</th>\n",
       "      <th>h</th>\n",
       "      <th>l</th>\n",
       "      <th>o</th>\n",
       "      <th>c</th>\n",
       "      <th>sp</th>\n",
       "      <th>ty</th>\n",
       "    </tr>\n",
       "  </thead>\n",
       "  <tbody>\n",
       "    <tr>\n",
       "      <th>7766562</th>\n",
       "      <td>2015-06-01</td>\n",
       "      <td> SPX</td>\n",
       "      <td>2016-03-18</td>\n",
       "      <td> 2600</td>\n",
       "      <td> P</td>\n",
       "      <td>  0</td>\n",
       "      <td> 0</td>\n",
       "      <td> 0</td>\n",
       "      <td> 0</td>\n",
       "      <td> 0</td>\n",
       "      <td> 0</td>\n",
       "      <td> 2111.73</td>\n",
       "      <td> Standard</td>\n",
       "    </tr>\n",
       "    <tr>\n",
       "      <th>7766563</th>\n",
       "      <td>2015-06-01</td>\n",
       "      <td> SPX</td>\n",
       "      <td>2016-03-18</td>\n",
       "      <td> 2700</td>\n",
       "      <td> P</td>\n",
       "      <td>  0</td>\n",
       "      <td> 0</td>\n",
       "      <td> 0</td>\n",
       "      <td> 0</td>\n",
       "      <td> 0</td>\n",
       "      <td> 0</td>\n",
       "      <td> 2111.73</td>\n",
       "      <td> Standard</td>\n",
       "    </tr>\n",
       "    <tr>\n",
       "      <th>7766564</th>\n",
       "      <td>2015-06-01</td>\n",
       "      <td> SPX</td>\n",
       "      <td>2016-03-18</td>\n",
       "      <td> 2800</td>\n",
       "      <td> P</td>\n",
       "      <td>  2</td>\n",
       "      <td> 0</td>\n",
       "      <td> 0</td>\n",
       "      <td> 0</td>\n",
       "      <td> 0</td>\n",
       "      <td> 0</td>\n",
       "      <td> 2111.73</td>\n",
       "      <td> Standard</td>\n",
       "    </tr>\n",
       "    <tr>\n",
       "      <th>7766565</th>\n",
       "      <td>2015-06-01</td>\n",
       "      <td> SPX</td>\n",
       "      <td>2016-03-18</td>\n",
       "      <td> 2900</td>\n",
       "      <td> P</td>\n",
       "      <td> 12</td>\n",
       "      <td> 0</td>\n",
       "      <td> 0</td>\n",
       "      <td> 0</td>\n",
       "      <td> 0</td>\n",
       "      <td> 0</td>\n",
       "      <td> 2111.73</td>\n",
       "      <td> Standard</td>\n",
       "    </tr>\n",
       "    <tr>\n",
       "      <th>7766566</th>\n",
       "      <td>2015-06-01</td>\n",
       "      <td> SPX</td>\n",
       "      <td>2016-03-18</td>\n",
       "      <td> 3000</td>\n",
       "      <td> P</td>\n",
       "      <td> 12</td>\n",
       "      <td> 0</td>\n",
       "      <td> 0</td>\n",
       "      <td> 0</td>\n",
       "      <td> 0</td>\n",
       "      <td> 0</td>\n",
       "      <td> 2111.73</td>\n",
       "      <td> Standard</td>\n",
       "    </tr>\n",
       "  </tbody>\n",
       "</table>\n",
       "</div>"
      ],
      "text/plain": [
       "              date   cl        exp  strike pc  oi  vol  h  l  o  c       sp  \\\n",
       "7766562 2015-06-01  SPX 2016-03-18    2600  P   0    0  0  0  0  0  2111.73   \n",
       "7766563 2015-06-01  SPX 2016-03-18    2700  P   0    0  0  0  0  0  2111.73   \n",
       "7766564 2015-06-01  SPX 2016-03-18    2800  P   2    0  0  0  0  0  2111.73   \n",
       "7766565 2015-06-01  SPX 2016-03-18    2900  P  12    0  0  0  0  0  2111.73   \n",
       "7766566 2015-06-01  SPX 2016-03-18    3000  P  12    0  0  0  0  0  2111.73   \n",
       "\n",
       "               ty  \n",
       "7766562  Standard  \n",
       "7766563  Standard  \n",
       "7766564  Standard  \n",
       "7766565  Standard  \n",
       "7766566  Standard  "
      ]
     },
     "execution_count": 108,
     "metadata": {},
     "output_type": "execute_result"
    }
   ],
   "source": [
    "spxc.tail(5)"
   ]
  },
  {
   "cell_type": "code",
   "execution_count": 109,
   "metadata": {
    "collapsed": false
   },
   "outputs": [
    {
     "data": {
      "text/plain": [
       "pandas.tslib.Timestamp"
      ]
     },
     "execution_count": 109,
     "metadata": {},
     "output_type": "execute_result"
    }
   ],
   "source": [
    "type(spxc.date[7766562])"
   ]
  },
  {
   "cell_type": "code",
   "execution_count": 110,
   "metadata": {
    "collapsed": false
   },
   "outputs": [],
   "source": [
    "weekdays = []\n",
    "for w in spxc['date']:\n",
    "    weekdays.append(w.weekday())"
   ]
  },
  {
   "cell_type": "code",
   "execution_count": 111,
   "metadata": {
    "collapsed": false
   },
   "outputs": [
    {
     "data": {
      "text/plain": [
       "1238226"
      ]
     },
     "execution_count": 111,
     "metadata": {},
     "output_type": "execute_result"
    }
   ],
   "source": [
    "quarters = []\n",
    "for q in spxc['exp']:\n",
    "    if q.month % 3 == 0:\n",
    "        quarters.append(1)\n",
    "    else:\n",
    "        quarters.append(0)\n",
    "\n",
    "sum(quarters)"
   ]
  },
  {
   "cell_type": "code",
   "execution_count": 112,
   "metadata": {
    "collapsed": false
   },
   "outputs": [
    {
     "name": "stderr",
     "output_type": "stream",
     "text": [
      "/usr/local/lib/python2.7/site-packages/IPython/kernel/__main__.py:1: SettingWithCopyWarning: \n",
      "A value is trying to be set on a copy of a slice from a DataFrame.\n",
      "Try using .loc[row_indexer,col_indexer] = value instead\n",
      "\n",
      "See the the caveats in the documentation: http://pandas.pydata.org/pandas-docs/stable/indexing.html#indexing-view-versus-copy\n",
      "  if __name__ == '__main__':\n",
      "/usr/local/lib/python2.7/site-packages/IPython/kernel/__main__.py:2: SettingWithCopyWarning: \n",
      "A value is trying to be set on a copy of a slice from a DataFrame.\n",
      "Try using .loc[row_indexer,col_indexer] = value instead\n",
      "\n",
      "See the the caveats in the documentation: http://pandas.pydata.org/pandas-docs/stable/indexing.html#indexing-view-versus-copy\n",
      "  from IPython.kernel.zmq import kernelapp as app\n"
     ]
    }
   ],
   "source": [
    "spxc['weekdays'] = weekdays\n",
    "spxc['quarters'] = quarters"
   ]
  },
  {
   "cell_type": "code",
   "execution_count": 113,
   "metadata": {
    "collapsed": false
   },
   "outputs": [
    {
     "data": {
      "text/html": [
       "<div style=\"max-height:1000px;max-width:1500px;overflow:auto;\">\n",
       "<table border=\"1\" class=\"dataframe\">\n",
       "  <thead>\n",
       "    <tr style=\"text-align: right;\">\n",
       "      <th></th>\n",
       "      <th>date</th>\n",
       "      <th>cl</th>\n",
       "      <th>exp</th>\n",
       "      <th>strike</th>\n",
       "      <th>pc</th>\n",
       "      <th>oi</th>\n",
       "      <th>vol</th>\n",
       "      <th>h</th>\n",
       "      <th>l</th>\n",
       "      <th>o</th>\n",
       "      <th>c</th>\n",
       "      <th>sp</th>\n",
       "      <th>ty</th>\n",
       "      <th>weekdays</th>\n",
       "      <th>quarters</th>\n",
       "    </tr>\n",
       "  </thead>\n",
       "  <tbody>\n",
       "    <tr>\n",
       "      <th>86</th>\n",
       "      <td>1990-01-02</td>\n",
       "      <td> SPX</td>\n",
       "      <td>1990-01-20</td>\n",
       "      <td> 320</td>\n",
       "      <td> C</td>\n",
       "      <td> 1088</td>\n",
       "      <td>  0</td>\n",
       "      <td>  0.000</td>\n",
       "      <td>  0.0</td>\n",
       "      <td>  0.00</td>\n",
       "      <td>  0.000</td>\n",
       "      <td> 359.69</td>\n",
       "      <td> Standard</td>\n",
       "      <td> 1</td>\n",
       "      <td> 0</td>\n",
       "    </tr>\n",
       "    <tr>\n",
       "      <th>87</th>\n",
       "      <td>1990-01-02</td>\n",
       "      <td> SPX</td>\n",
       "      <td>1990-01-20</td>\n",
       "      <td> 325</td>\n",
       "      <td> C</td>\n",
       "      <td> 1252</td>\n",
       "      <td>  0</td>\n",
       "      <td>  0.000</td>\n",
       "      <td>  0.0</td>\n",
       "      <td>  0.00</td>\n",
       "      <td>  0.000</td>\n",
       "      <td> 359.69</td>\n",
       "      <td> Standard</td>\n",
       "      <td> 1</td>\n",
       "      <td> 0</td>\n",
       "    </tr>\n",
       "    <tr>\n",
       "      <th>88</th>\n",
       "      <td>1990-01-02</td>\n",
       "      <td> SPX</td>\n",
       "      <td>1990-01-20</td>\n",
       "      <td> 330</td>\n",
       "      <td> C</td>\n",
       "      <td> 8738</td>\n",
       "      <td> 25</td>\n",
       "      <td> 30.500</td>\n",
       "      <td> 30.5</td>\n",
       "      <td> 30.50</td>\n",
       "      <td> 30.500</td>\n",
       "      <td> 359.69</td>\n",
       "      <td> Standard</td>\n",
       "      <td> 1</td>\n",
       "      <td> 0</td>\n",
       "    </tr>\n",
       "    <tr>\n",
       "      <th>89</th>\n",
       "      <td>1990-01-02</td>\n",
       "      <td> SPX</td>\n",
       "      <td>1990-01-20</td>\n",
       "      <td> 335</td>\n",
       "      <td> C</td>\n",
       "      <td>  580</td>\n",
       "      <td>  0</td>\n",
       "      <td>  0.000</td>\n",
       "      <td>  0.0</td>\n",
       "      <td>  0.00</td>\n",
       "      <td>  0.000</td>\n",
       "      <td> 359.69</td>\n",
       "      <td> Standard</td>\n",
       "      <td> 1</td>\n",
       "      <td> 0</td>\n",
       "    </tr>\n",
       "    <tr>\n",
       "      <th>90</th>\n",
       "      <td>1990-01-02</td>\n",
       "      <td> SPX</td>\n",
       "      <td>1990-01-20</td>\n",
       "      <td> 340</td>\n",
       "      <td> C</td>\n",
       "      <td> 2480</td>\n",
       "      <td> 27</td>\n",
       "      <td> 17.625</td>\n",
       "      <td> 17.0</td>\n",
       "      <td> 17.25</td>\n",
       "      <td> 17.625</td>\n",
       "      <td> 359.69</td>\n",
       "      <td> Standard</td>\n",
       "      <td> 1</td>\n",
       "      <td> 0</td>\n",
       "    </tr>\n",
       "  </tbody>\n",
       "</table>\n",
       "</div>"
      ],
      "text/plain": [
       "         date   cl        exp  strike pc    oi  vol       h     l      o  \\\n",
       "86 1990-01-02  SPX 1990-01-20     320  C  1088    0   0.000   0.0   0.00   \n",
       "87 1990-01-02  SPX 1990-01-20     325  C  1252    0   0.000   0.0   0.00   \n",
       "88 1990-01-02  SPX 1990-01-20     330  C  8738   25  30.500  30.5  30.50   \n",
       "89 1990-01-02  SPX 1990-01-20     335  C   580    0   0.000   0.0   0.00   \n",
       "90 1990-01-02  SPX 1990-01-20     340  C  2480   27  17.625  17.0  17.25   \n",
       "\n",
       "         c      sp        ty  weekdays  quarters  \n",
       "86   0.000  359.69  Standard         1         0  \n",
       "87   0.000  359.69  Standard         1         0  \n",
       "88  30.500  359.69  Standard         1         0  \n",
       "89   0.000  359.69  Standard         1         0  \n",
       "90  17.625  359.69  Standard         1         0  "
      ]
     },
     "execution_count": 113,
     "metadata": {},
     "output_type": "execute_result"
    }
   ],
   "source": [
    "spxc.head(5)"
   ]
  },
  {
   "cell_type": "code",
   "execution_count": 115,
   "metadata": {
    "collapsed": false
   },
   "outputs": [],
   "source": [
    "#spxw = spxc[spxc['weekdays'] == 4]\n",
    "spxw = spxc[spxc['exp'] > dp.parse(\"18/06/2010\")]\n",
    "spxq = spxw[spxw['quarters'] == 1]\n",
    "#spxq = spxc"
   ]
  },
  {
   "cell_type": "code",
   "execution_count": 116,
   "metadata": {
    "collapsed": false
   },
   "outputs": [
    {
     "data": {
      "text/plain": [
       "956735"
      ]
     },
     "execution_count": 116,
     "metadata": {},
     "output_type": "execute_result"
    }
   ],
   "source": [
    "len(spxq)"
   ]
  },
  {
   "cell_type": "code",
   "execution_count": 117,
   "metadata": {
    "collapsed": false
   },
   "outputs": [
    {
     "data": {
      "text/html": [
       "<div style=\"max-height:1000px;max-width:1500px;overflow:auto;\">\n",
       "<table border=\"1\" class=\"dataframe\">\n",
       "  <thead>\n",
       "    <tr style=\"text-align: right;\">\n",
       "      <th></th>\n",
       "      <th>date</th>\n",
       "      <th>cl</th>\n",
       "      <th>exp</th>\n",
       "      <th>strike</th>\n",
       "      <th>pc</th>\n",
       "      <th>oi</th>\n",
       "      <th>vol</th>\n",
       "      <th>h</th>\n",
       "      <th>l</th>\n",
       "      <th>o</th>\n",
       "      <th>c</th>\n",
       "      <th>sp</th>\n",
       "      <th>ty</th>\n",
       "      <th>weekdays</th>\n",
       "      <th>quarters</th>\n",
       "    </tr>\n",
       "  </thead>\n",
       "  <tbody>\n",
       "    <tr>\n",
       "      <th>3065030</th>\n",
       "      <td>2009-06-23</td>\n",
       "      <td> SPX</td>\n",
       "      <td>2010-06-19</td>\n",
       "      <td> 800</td>\n",
       "      <td> C</td>\n",
       "      <td> 0</td>\n",
       "      <td> 0</td>\n",
       "      <td>   0.0</td>\n",
       "      <td>   0.00</td>\n",
       "      <td>   0.00</td>\n",
       "      <td>   0.0</td>\n",
       "      <td> 895.1</td>\n",
       "      <td> Standard</td>\n",
       "      <td> 1</td>\n",
       "      <td> 1</td>\n",
       "    </tr>\n",
       "    <tr>\n",
       "      <th>3065031</th>\n",
       "      <td>2009-06-23</td>\n",
       "      <td> SPX</td>\n",
       "      <td>2010-06-19</td>\n",
       "      <td> 815</td>\n",
       "      <td> C</td>\n",
       "      <td> 0</td>\n",
       "      <td> 0</td>\n",
       "      <td>   0.0</td>\n",
       "      <td>   0.00</td>\n",
       "      <td>   0.00</td>\n",
       "      <td>   0.0</td>\n",
       "      <td> 895.1</td>\n",
       "      <td> Standard</td>\n",
       "      <td> 1</td>\n",
       "      <td> 1</td>\n",
       "    </tr>\n",
       "    <tr>\n",
       "      <th>3065032</th>\n",
       "      <td>2009-06-23</td>\n",
       "      <td> SPX</td>\n",
       "      <td>2010-06-19</td>\n",
       "      <td> 825</td>\n",
       "      <td> C</td>\n",
       "      <td> 0</td>\n",
       "      <td> 0</td>\n",
       "      <td>   0.0</td>\n",
       "      <td>   0.00</td>\n",
       "      <td>   0.00</td>\n",
       "      <td>   0.0</td>\n",
       "      <td> 895.1</td>\n",
       "      <td> Standard</td>\n",
       "      <td> 1</td>\n",
       "      <td> 1</td>\n",
       "    </tr>\n",
       "    <tr>\n",
       "      <th>3065033</th>\n",
       "      <td>2009-06-23</td>\n",
       "      <td> SPX</td>\n",
       "      <td>2010-06-19</td>\n",
       "      <td> 850</td>\n",
       "      <td> C</td>\n",
       "      <td> 0</td>\n",
       "      <td> 2</td>\n",
       "      <td> 117.6</td>\n",
       "      <td> 115.64</td>\n",
       "      <td> 115.64</td>\n",
       "      <td> 117.6</td>\n",
       "      <td> 895.1</td>\n",
       "      <td> Standard</td>\n",
       "      <td> 1</td>\n",
       "      <td> 1</td>\n",
       "    </tr>\n",
       "    <tr>\n",
       "      <th>3065034</th>\n",
       "      <td>2009-06-23</td>\n",
       "      <td> SPX</td>\n",
       "      <td>2010-06-19</td>\n",
       "      <td> 875</td>\n",
       "      <td> C</td>\n",
       "      <td> 0</td>\n",
       "      <td> 0</td>\n",
       "      <td>   0.0</td>\n",
       "      <td>   0.00</td>\n",
       "      <td>   0.00</td>\n",
       "      <td>   0.0</td>\n",
       "      <td> 895.1</td>\n",
       "      <td> Standard</td>\n",
       "      <td> 1</td>\n",
       "      <td> 1</td>\n",
       "    </tr>\n",
       "  </tbody>\n",
       "</table>\n",
       "</div>"
      ],
      "text/plain": [
       "              date   cl        exp  strike pc  oi  vol      h       l       o  \\\n",
       "3065030 2009-06-23  SPX 2010-06-19     800  C   0    0    0.0    0.00    0.00   \n",
       "3065031 2009-06-23  SPX 2010-06-19     815  C   0    0    0.0    0.00    0.00   \n",
       "3065032 2009-06-23  SPX 2010-06-19     825  C   0    0    0.0    0.00    0.00   \n",
       "3065033 2009-06-23  SPX 2010-06-19     850  C   0    2  117.6  115.64  115.64   \n",
       "3065034 2009-06-23  SPX 2010-06-19     875  C   0    0    0.0    0.00    0.00   \n",
       "\n",
       "             c     sp        ty  weekdays  quarters  \n",
       "3065030    0.0  895.1  Standard         1         1  \n",
       "3065031    0.0  895.1  Standard         1         1  \n",
       "3065032    0.0  895.1  Standard         1         1  \n",
       "3065033  117.6  895.1  Standard         1         1  \n",
       "3065034    0.0  895.1  Standard         1         1  "
      ]
     },
     "execution_count": 117,
     "metadata": {},
     "output_type": "execute_result"
    }
   ],
   "source": [
    "spxq.head(5)"
   ]
  },
  {
   "cell_type": "code",
   "execution_count": 118,
   "metadata": {
    "collapsed": false
   },
   "outputs": [
    {
     "data": {
      "text/html": [
       "<div style=\"max-height:1000px;max-width:1500px;overflow:auto;\">\n",
       "<table border=\"1\" class=\"dataframe\">\n",
       "  <thead>\n",
       "    <tr style=\"text-align: right;\">\n",
       "      <th></th>\n",
       "      <th>date</th>\n",
       "      <th>cl</th>\n",
       "      <th>exp</th>\n",
       "      <th>strike</th>\n",
       "      <th>pc</th>\n",
       "      <th>oi</th>\n",
       "      <th>vol</th>\n",
       "      <th>h</th>\n",
       "      <th>l</th>\n",
       "      <th>o</th>\n",
       "      <th>c</th>\n",
       "      <th>sp</th>\n",
       "      <th>ty</th>\n",
       "      <th>weekdays</th>\n",
       "      <th>quarters</th>\n",
       "    </tr>\n",
       "  </thead>\n",
       "  <tbody>\n",
       "    <tr>\n",
       "      <th>7766562</th>\n",
       "      <td>2015-06-01</td>\n",
       "      <td> SPX</td>\n",
       "      <td>2016-03-18</td>\n",
       "      <td> 2600</td>\n",
       "      <td> P</td>\n",
       "      <td>  0</td>\n",
       "      <td> 0</td>\n",
       "      <td> 0</td>\n",
       "      <td> 0</td>\n",
       "      <td> 0</td>\n",
       "      <td> 0</td>\n",
       "      <td> 2111.73</td>\n",
       "      <td> Standard</td>\n",
       "      <td> 0</td>\n",
       "      <td> 1</td>\n",
       "    </tr>\n",
       "    <tr>\n",
       "      <th>7766563</th>\n",
       "      <td>2015-06-01</td>\n",
       "      <td> SPX</td>\n",
       "      <td>2016-03-18</td>\n",
       "      <td> 2700</td>\n",
       "      <td> P</td>\n",
       "      <td>  0</td>\n",
       "      <td> 0</td>\n",
       "      <td> 0</td>\n",
       "      <td> 0</td>\n",
       "      <td> 0</td>\n",
       "      <td> 0</td>\n",
       "      <td> 2111.73</td>\n",
       "      <td> Standard</td>\n",
       "      <td> 0</td>\n",
       "      <td> 1</td>\n",
       "    </tr>\n",
       "    <tr>\n",
       "      <th>7766564</th>\n",
       "      <td>2015-06-01</td>\n",
       "      <td> SPX</td>\n",
       "      <td>2016-03-18</td>\n",
       "      <td> 2800</td>\n",
       "      <td> P</td>\n",
       "      <td>  2</td>\n",
       "      <td> 0</td>\n",
       "      <td> 0</td>\n",
       "      <td> 0</td>\n",
       "      <td> 0</td>\n",
       "      <td> 0</td>\n",
       "      <td> 2111.73</td>\n",
       "      <td> Standard</td>\n",
       "      <td> 0</td>\n",
       "      <td> 1</td>\n",
       "    </tr>\n",
       "    <tr>\n",
       "      <th>7766565</th>\n",
       "      <td>2015-06-01</td>\n",
       "      <td> SPX</td>\n",
       "      <td>2016-03-18</td>\n",
       "      <td> 2900</td>\n",
       "      <td> P</td>\n",
       "      <td> 12</td>\n",
       "      <td> 0</td>\n",
       "      <td> 0</td>\n",
       "      <td> 0</td>\n",
       "      <td> 0</td>\n",
       "      <td> 0</td>\n",
       "      <td> 2111.73</td>\n",
       "      <td> Standard</td>\n",
       "      <td> 0</td>\n",
       "      <td> 1</td>\n",
       "    </tr>\n",
       "    <tr>\n",
       "      <th>7766566</th>\n",
       "      <td>2015-06-01</td>\n",
       "      <td> SPX</td>\n",
       "      <td>2016-03-18</td>\n",
       "      <td> 3000</td>\n",
       "      <td> P</td>\n",
       "      <td> 12</td>\n",
       "      <td> 0</td>\n",
       "      <td> 0</td>\n",
       "      <td> 0</td>\n",
       "      <td> 0</td>\n",
       "      <td> 0</td>\n",
       "      <td> 2111.73</td>\n",
       "      <td> Standard</td>\n",
       "      <td> 0</td>\n",
       "      <td> 1</td>\n",
       "    </tr>\n",
       "  </tbody>\n",
       "</table>\n",
       "</div>"
      ],
      "text/plain": [
       "              date   cl        exp  strike pc  oi  vol  h  l  o  c       sp  \\\n",
       "7766562 2015-06-01  SPX 2016-03-18    2600  P   0    0  0  0  0  0  2111.73   \n",
       "7766563 2015-06-01  SPX 2016-03-18    2700  P   0    0  0  0  0  0  2111.73   \n",
       "7766564 2015-06-01  SPX 2016-03-18    2800  P   2    0  0  0  0  0  2111.73   \n",
       "7766565 2015-06-01  SPX 2016-03-18    2900  P  12    0  0  0  0  0  2111.73   \n",
       "7766566 2015-06-01  SPX 2016-03-18    3000  P  12    0  0  0  0  0  2111.73   \n",
       "\n",
       "               ty  weekdays  quarters  \n",
       "7766562  Standard         0         1  \n",
       "7766563  Standard         0         1  \n",
       "7766564  Standard         0         1  \n",
       "7766565  Standard         0         1  \n",
       "7766566  Standard         0         1  "
      ]
     },
     "execution_count": 118,
     "metadata": {},
     "output_type": "execute_result"
    }
   ],
   "source": [
    "spxq.tail(5)"
   ]
  },
  {
   "cell_type": "code",
   "execution_count": 119,
   "metadata": {
    "collapsed": false
   },
   "outputs": [],
   "source": [
    "#spxr = spxq.drop(['cl', 'ty', 'weekdays', 'quarters'], 1)\n",
    "spxr = spxq.drop(['cl', 'ty', 'quarters'], 1)"
   ]
  },
  {
   "cell_type": "code",
   "execution_count": 120,
   "metadata": {
    "collapsed": false
   },
   "outputs": [
    {
     "data": {
      "text/html": [
       "<div style=\"max-height:1000px;max-width:1500px;overflow:auto;\">\n",
       "<table border=\"1\" class=\"dataframe\">\n",
       "  <thead>\n",
       "    <tr style=\"text-align: right;\">\n",
       "      <th></th>\n",
       "      <th>date</th>\n",
       "      <th>exp</th>\n",
       "      <th>strike</th>\n",
       "      <th>pc</th>\n",
       "      <th>oi</th>\n",
       "      <th>vol</th>\n",
       "      <th>h</th>\n",
       "      <th>l</th>\n",
       "      <th>o</th>\n",
       "      <th>c</th>\n",
       "      <th>sp</th>\n",
       "      <th>weekdays</th>\n",
       "    </tr>\n",
       "  </thead>\n",
       "  <tbody>\n",
       "    <tr>\n",
       "      <th>3065030</th>\n",
       "      <td>2009-06-23</td>\n",
       "      <td>2010-06-19</td>\n",
       "      <td> 800</td>\n",
       "      <td> C</td>\n",
       "      <td> 0</td>\n",
       "      <td> 0</td>\n",
       "      <td>   0.0</td>\n",
       "      <td>   0.00</td>\n",
       "      <td>   0.00</td>\n",
       "      <td>   0.0</td>\n",
       "      <td> 895.1</td>\n",
       "      <td> 1</td>\n",
       "    </tr>\n",
       "    <tr>\n",
       "      <th>3065031</th>\n",
       "      <td>2009-06-23</td>\n",
       "      <td>2010-06-19</td>\n",
       "      <td> 815</td>\n",
       "      <td> C</td>\n",
       "      <td> 0</td>\n",
       "      <td> 0</td>\n",
       "      <td>   0.0</td>\n",
       "      <td>   0.00</td>\n",
       "      <td>   0.00</td>\n",
       "      <td>   0.0</td>\n",
       "      <td> 895.1</td>\n",
       "      <td> 1</td>\n",
       "    </tr>\n",
       "    <tr>\n",
       "      <th>3065032</th>\n",
       "      <td>2009-06-23</td>\n",
       "      <td>2010-06-19</td>\n",
       "      <td> 825</td>\n",
       "      <td> C</td>\n",
       "      <td> 0</td>\n",
       "      <td> 0</td>\n",
       "      <td>   0.0</td>\n",
       "      <td>   0.00</td>\n",
       "      <td>   0.00</td>\n",
       "      <td>   0.0</td>\n",
       "      <td> 895.1</td>\n",
       "      <td> 1</td>\n",
       "    </tr>\n",
       "    <tr>\n",
       "      <th>3065033</th>\n",
       "      <td>2009-06-23</td>\n",
       "      <td>2010-06-19</td>\n",
       "      <td> 850</td>\n",
       "      <td> C</td>\n",
       "      <td> 0</td>\n",
       "      <td> 2</td>\n",
       "      <td> 117.6</td>\n",
       "      <td> 115.64</td>\n",
       "      <td> 115.64</td>\n",
       "      <td> 117.6</td>\n",
       "      <td> 895.1</td>\n",
       "      <td> 1</td>\n",
       "    </tr>\n",
       "    <tr>\n",
       "      <th>3065034</th>\n",
       "      <td>2009-06-23</td>\n",
       "      <td>2010-06-19</td>\n",
       "      <td> 875</td>\n",
       "      <td> C</td>\n",
       "      <td> 0</td>\n",
       "      <td> 0</td>\n",
       "      <td>   0.0</td>\n",
       "      <td>   0.00</td>\n",
       "      <td>   0.00</td>\n",
       "      <td>   0.0</td>\n",
       "      <td> 895.1</td>\n",
       "      <td> 1</td>\n",
       "    </tr>\n",
       "  </tbody>\n",
       "</table>\n",
       "</div>"
      ],
      "text/plain": [
       "              date        exp  strike pc  oi  vol      h       l       o  \\\n",
       "3065030 2009-06-23 2010-06-19     800  C   0    0    0.0    0.00    0.00   \n",
       "3065031 2009-06-23 2010-06-19     815  C   0    0    0.0    0.00    0.00   \n",
       "3065032 2009-06-23 2010-06-19     825  C   0    0    0.0    0.00    0.00   \n",
       "3065033 2009-06-23 2010-06-19     850  C   0    2  117.6  115.64  115.64   \n",
       "3065034 2009-06-23 2010-06-19     875  C   0    0    0.0    0.00    0.00   \n",
       "\n",
       "             c     sp  weekdays  \n",
       "3065030    0.0  895.1         1  \n",
       "3065031    0.0  895.1         1  \n",
       "3065032    0.0  895.1         1  \n",
       "3065033  117.6  895.1         1  \n",
       "3065034    0.0  895.1         1  "
      ]
     },
     "execution_count": 120,
     "metadata": {},
     "output_type": "execute_result"
    }
   ],
   "source": [
    "spxr.head(5)"
   ]
  },
  {
   "cell_type": "code",
   "execution_count": 121,
   "metadata": {
    "collapsed": false
   },
   "outputs": [],
   "source": [
    "spx = spxr.reset_index(drop=True)"
   ]
  },
  {
   "cell_type": "code",
   "execution_count": 122,
   "metadata": {
    "collapsed": false
   },
   "outputs": [
    {
     "data": {
      "text/html": [
       "<div style=\"max-height:1000px;max-width:1500px;overflow:auto;\">\n",
       "<table border=\"1\" class=\"dataframe\">\n",
       "  <thead>\n",
       "    <tr style=\"text-align: right;\">\n",
       "      <th></th>\n",
       "      <th>date</th>\n",
       "      <th>exp</th>\n",
       "      <th>strike</th>\n",
       "      <th>pc</th>\n",
       "      <th>oi</th>\n",
       "      <th>vol</th>\n",
       "      <th>h</th>\n",
       "      <th>l</th>\n",
       "      <th>o</th>\n",
       "      <th>c</th>\n",
       "      <th>sp</th>\n",
       "      <th>weekdays</th>\n",
       "    </tr>\n",
       "  </thead>\n",
       "  <tbody>\n",
       "    <tr>\n",
       "      <th>0</th>\n",
       "      <td>2009-06-23</td>\n",
       "      <td>2010-06-19</td>\n",
       "      <td> 800</td>\n",
       "      <td> C</td>\n",
       "      <td> 0</td>\n",
       "      <td> 0</td>\n",
       "      <td>   0.0</td>\n",
       "      <td>   0.00</td>\n",
       "      <td>   0.00</td>\n",
       "      <td>   0.0</td>\n",
       "      <td> 895.1</td>\n",
       "      <td> 1</td>\n",
       "    </tr>\n",
       "    <tr>\n",
       "      <th>1</th>\n",
       "      <td>2009-06-23</td>\n",
       "      <td>2010-06-19</td>\n",
       "      <td> 815</td>\n",
       "      <td> C</td>\n",
       "      <td> 0</td>\n",
       "      <td> 0</td>\n",
       "      <td>   0.0</td>\n",
       "      <td>   0.00</td>\n",
       "      <td>   0.00</td>\n",
       "      <td>   0.0</td>\n",
       "      <td> 895.1</td>\n",
       "      <td> 1</td>\n",
       "    </tr>\n",
       "    <tr>\n",
       "      <th>2</th>\n",
       "      <td>2009-06-23</td>\n",
       "      <td>2010-06-19</td>\n",
       "      <td> 825</td>\n",
       "      <td> C</td>\n",
       "      <td> 0</td>\n",
       "      <td> 0</td>\n",
       "      <td>   0.0</td>\n",
       "      <td>   0.00</td>\n",
       "      <td>   0.00</td>\n",
       "      <td>   0.0</td>\n",
       "      <td> 895.1</td>\n",
       "      <td> 1</td>\n",
       "    </tr>\n",
       "    <tr>\n",
       "      <th>3</th>\n",
       "      <td>2009-06-23</td>\n",
       "      <td>2010-06-19</td>\n",
       "      <td> 850</td>\n",
       "      <td> C</td>\n",
       "      <td> 0</td>\n",
       "      <td> 2</td>\n",
       "      <td> 117.6</td>\n",
       "      <td> 115.64</td>\n",
       "      <td> 115.64</td>\n",
       "      <td> 117.6</td>\n",
       "      <td> 895.1</td>\n",
       "      <td> 1</td>\n",
       "    </tr>\n",
       "    <tr>\n",
       "      <th>4</th>\n",
       "      <td>2009-06-23</td>\n",
       "      <td>2010-06-19</td>\n",
       "      <td> 875</td>\n",
       "      <td> C</td>\n",
       "      <td> 0</td>\n",
       "      <td> 0</td>\n",
       "      <td>   0.0</td>\n",
       "      <td>   0.00</td>\n",
       "      <td>   0.00</td>\n",
       "      <td>   0.0</td>\n",
       "      <td> 895.1</td>\n",
       "      <td> 1</td>\n",
       "    </tr>\n",
       "  </tbody>\n",
       "</table>\n",
       "</div>"
      ],
      "text/plain": [
       "        date        exp  strike pc  oi  vol      h       l       o      c  \\\n",
       "0 2009-06-23 2010-06-19     800  C   0    0    0.0    0.00    0.00    0.0   \n",
       "1 2009-06-23 2010-06-19     815  C   0    0    0.0    0.00    0.00    0.0   \n",
       "2 2009-06-23 2010-06-19     825  C   0    0    0.0    0.00    0.00    0.0   \n",
       "3 2009-06-23 2010-06-19     850  C   0    2  117.6  115.64  115.64  117.6   \n",
       "4 2009-06-23 2010-06-19     875  C   0    0    0.0    0.00    0.00    0.0   \n",
       "\n",
       "      sp  weekdays  \n",
       "0  895.1         1  \n",
       "1  895.1         1  \n",
       "2  895.1         1  \n",
       "3  895.1         1  \n",
       "4  895.1         1  "
      ]
     },
     "execution_count": 122,
     "metadata": {},
     "output_type": "execute_result"
    }
   ],
   "source": [
    "spx.head(5)"
   ]
  },
  {
   "cell_type": "code",
   "execution_count": 123,
   "metadata": {
    "collapsed": false
   },
   "outputs": [
    {
     "data": {
      "text/html": [
       "<div style=\"max-height:1000px;max-width:1500px;overflow:auto;\">\n",
       "<table border=\"1\" class=\"dataframe\">\n",
       "  <thead>\n",
       "    <tr style=\"text-align: right;\">\n",
       "      <th></th>\n",
       "      <th>date</th>\n",
       "      <th>exp</th>\n",
       "      <th>strike</th>\n",
       "      <th>pc</th>\n",
       "      <th>oi</th>\n",
       "      <th>vol</th>\n",
       "      <th>h</th>\n",
       "      <th>l</th>\n",
       "      <th>o</th>\n",
       "      <th>c</th>\n",
       "      <th>sp</th>\n",
       "      <th>weekdays</th>\n",
       "    </tr>\n",
       "  </thead>\n",
       "  <tbody>\n",
       "    <tr>\n",
       "      <th>956730</th>\n",
       "      <td>2015-06-01</td>\n",
       "      <td>2016-03-18</td>\n",
       "      <td> 2600</td>\n",
       "      <td> P</td>\n",
       "      <td>  0</td>\n",
       "      <td> 0</td>\n",
       "      <td> 0</td>\n",
       "      <td> 0</td>\n",
       "      <td> 0</td>\n",
       "      <td> 0</td>\n",
       "      <td> 2111.73</td>\n",
       "      <td> 0</td>\n",
       "    </tr>\n",
       "    <tr>\n",
       "      <th>956731</th>\n",
       "      <td>2015-06-01</td>\n",
       "      <td>2016-03-18</td>\n",
       "      <td> 2700</td>\n",
       "      <td> P</td>\n",
       "      <td>  0</td>\n",
       "      <td> 0</td>\n",
       "      <td> 0</td>\n",
       "      <td> 0</td>\n",
       "      <td> 0</td>\n",
       "      <td> 0</td>\n",
       "      <td> 2111.73</td>\n",
       "      <td> 0</td>\n",
       "    </tr>\n",
       "    <tr>\n",
       "      <th>956732</th>\n",
       "      <td>2015-06-01</td>\n",
       "      <td>2016-03-18</td>\n",
       "      <td> 2800</td>\n",
       "      <td> P</td>\n",
       "      <td>  2</td>\n",
       "      <td> 0</td>\n",
       "      <td> 0</td>\n",
       "      <td> 0</td>\n",
       "      <td> 0</td>\n",
       "      <td> 0</td>\n",
       "      <td> 2111.73</td>\n",
       "      <td> 0</td>\n",
       "    </tr>\n",
       "    <tr>\n",
       "      <th>956733</th>\n",
       "      <td>2015-06-01</td>\n",
       "      <td>2016-03-18</td>\n",
       "      <td> 2900</td>\n",
       "      <td> P</td>\n",
       "      <td> 12</td>\n",
       "      <td> 0</td>\n",
       "      <td> 0</td>\n",
       "      <td> 0</td>\n",
       "      <td> 0</td>\n",
       "      <td> 0</td>\n",
       "      <td> 2111.73</td>\n",
       "      <td> 0</td>\n",
       "    </tr>\n",
       "    <tr>\n",
       "      <th>956734</th>\n",
       "      <td>2015-06-01</td>\n",
       "      <td>2016-03-18</td>\n",
       "      <td> 3000</td>\n",
       "      <td> P</td>\n",
       "      <td> 12</td>\n",
       "      <td> 0</td>\n",
       "      <td> 0</td>\n",
       "      <td> 0</td>\n",
       "      <td> 0</td>\n",
       "      <td> 0</td>\n",
       "      <td> 2111.73</td>\n",
       "      <td> 0</td>\n",
       "    </tr>\n",
       "  </tbody>\n",
       "</table>\n",
       "</div>"
      ],
      "text/plain": [
       "             date        exp  strike pc  oi  vol  h  l  o  c       sp  \\\n",
       "956730 2015-06-01 2016-03-18    2600  P   0    0  0  0  0  0  2111.73   \n",
       "956731 2015-06-01 2016-03-18    2700  P   0    0  0  0  0  0  2111.73   \n",
       "956732 2015-06-01 2016-03-18    2800  P   2    0  0  0  0  0  2111.73   \n",
       "956733 2015-06-01 2016-03-18    2900  P  12    0  0  0  0  0  2111.73   \n",
       "956734 2015-06-01 2016-03-18    3000  P  12    0  0  0  0  0  2111.73   \n",
       "\n",
       "        weekdays  \n",
       "956730         0  \n",
       "956731         0  \n",
       "956732         0  \n",
       "956733         0  \n",
       "956734         0  "
      ]
     },
     "execution_count": 123,
     "metadata": {},
     "output_type": "execute_result"
    }
   ],
   "source": [
    "spx.tail(5)"
   ]
  },
  {
   "cell_type": "code",
   "execution_count": null,
   "metadata": {
    "collapsed": false
   },
   "outputs": [],
   "source": [
    "spd.to_csv('spd.csv')\n",
    "spw.to_csv('spw.csv')\n",
    "spx.to_csv('/Users/marcolunardi/Documents/Doc/options.csv')"
   ]
  },
  {
   "cell_type": "code",
   "execution_count": null,
   "metadata": {
    "collapsed": true
   },
   "outputs": [],
   "source": []
  }
 ],
 "metadata": {
  "kernelspec": {
   "display_name": "Python 2",
   "language": "python",
   "name": "python2"
  },
  "language_info": {
   "codemirror_mode": {
    "name": "ipython",
    "version": 2
   },
   "file_extension": ".py",
   "mimetype": "text/x-python",
   "name": "python",
   "nbconvert_exporter": "python",
   "pygments_lexer": "ipython2",
   "version": "2.7.9"
  }
 },
 "nbformat": 4,
 "nbformat_minor": 0
}
