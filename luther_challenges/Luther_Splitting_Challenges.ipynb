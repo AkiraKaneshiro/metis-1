{
 "cells": [
  {
   "cell_type": "code",
   "execution_count": 31,
   "metadata": {
    "collapsed": true
   },
   "outputs": [],
   "source": [
    "import pickle\n",
    "import re\n",
    "from datetime import datetime\n",
    "import numpy as np\n",
    "randn = np.random.randn\n",
    "from pandas import *\n",
    "import pandas as pd\n",
    "import matplotlib.pyplot as plt\n",
    "import statsmodels.formula.api as smf\n",
    "from scipy.stats import linregress\n",
    "from pylab import *\n",
    "from sklearn.metrics import mean_squared_error\n",
    "from math import sqrt\n",
    "import seaborn as sns"
   ]
  },
  {
   "cell_type": "code",
   "execution_count": 32,
   "metadata": {
    "collapsed": false
   },
   "outputs": [],
   "source": [
    "with open('movies2.pkl', 'r') as f:\n",
    "    moviesdata = pickle.load(f)\n",
    "years = range(1999, 2014)"
   ]
  },
  {
   "cell_type": "code",
   "execution_count": 33,
   "metadata": {
    "collapsed": false
   },
   "outputs": [
    {
     "name": "stderr",
     "output_type": "stream",
     "text": [
      "/usr/local/lib/python2.7/site-packages/IPython/kernel/__main__.py:2: SettingWithCopyWarning: \n",
      "A value is trying to be set on a copy of a slice from a DataFrame.\n",
      "Try using .loc[row_indexer,col_indexer] = value instead\n",
      "\n",
      "See the the caveats in the documentation: http://pandas.pydata.org/pandas-docs/stable/indexing.html#indexing-view-versus-copy\n",
      "  from IPython.kernel.zmq import kernelapp as app\n",
      "/usr/local/lib/python2.7/site-packages/IPython/kernel/__main__.py:3: SettingWithCopyWarning: \n",
      "A value is trying to be set on a copy of a slice from a DataFrame.\n",
      "Try using .loc[row_indexer,col_indexer] = value instead\n",
      "\n",
      "See the the caveats in the documentation: http://pandas.pydata.org/pandas-docs/stable/indexing.html#indexing-view-versus-copy\n",
      "  app.launch_new_instance()\n"
     ]
    }
   ],
   "source": [
    "md = moviesdata[moviesdata.title != ('Twin Sisters')]\n",
    "md['gross'] = md['worldgross'] / md['theaters']\n",
    "md['awarded'] = md['oscars'] > 0"
   ]
  },
  {
   "cell_type": "code",
   "execution_count": 34,
   "metadata": {
    "collapsed": false
   },
   "outputs": [
    {
     "data": {
      "text/html": [
       "<div style=\"max-height:1000px;max-width:1500px;overflow:auto;\">\n",
       "<table border=\"1\" class=\"dataframe\">\n",
       "  <thead>\n",
       "    <tr style=\"text-align: right;\">\n",
       "      <th></th>\n",
       "      <th>nominations</th>\n",
       "      <th>oscars</th>\n",
       "      <th>theaters</th>\n",
       "      <th>title</th>\n",
       "      <th>worldgross</th>\n",
       "      <th>year</th>\n",
       "      <th>gross</th>\n",
       "      <th>awarded</th>\n",
       "    </tr>\n",
       "  </thead>\n",
       "  <tbody>\n",
       "    <tr>\n",
       "      <th>0</th>\n",
       "      <td> 3</td>\n",
       "      <td> 0</td>\n",
       "      <td> 3126</td>\n",
       "      <td> Star Wars: Episode I - The Phantom Menace</td>\n",
       "      <td> 1027044677</td>\n",
       "      <td>1999-12-31</td>\n",
       "      <td> 328549.160909</td>\n",
       "      <td> False</td>\n",
       "    </tr>\n",
       "    <tr>\n",
       "      <th>1</th>\n",
       "      <td> 6</td>\n",
       "      <td> 0</td>\n",
       "      <td> 2821</td>\n",
       "      <td>                           The Sixth Sense</td>\n",
       "      <td>  672806292</td>\n",
       "      <td>1999-12-31</td>\n",
       "      <td> 238499.217299</td>\n",
       "      <td> False</td>\n",
       "    </tr>\n",
       "    <tr>\n",
       "      <th>2</th>\n",
       "      <td> 1</td>\n",
       "      <td> 0</td>\n",
       "      <td> 3257</td>\n",
       "      <td>                               Toy Story 2</td>\n",
       "      <td>  485015179</td>\n",
       "      <td>1999-12-31</td>\n",
       "      <td> 148914.700338</td>\n",
       "      <td> False</td>\n",
       "    </tr>\n",
       "    <tr>\n",
       "      <th>3</th>\n",
       "      <td> 1</td>\n",
       "      <td> 0</td>\n",
       "      <td> 3314</td>\n",
       "      <td>     Austin Powers: The Spy Who Shagged Me</td>\n",
       "      <td>  312016858</td>\n",
       "      <td>1999-12-31</td>\n",
       "      <td>  94151.133977</td>\n",
       "      <td> False</td>\n",
       "    </tr>\n",
       "    <tr>\n",
       "      <th>4</th>\n",
       "      <td> 4</td>\n",
       "      <td> 4</td>\n",
       "      <td> 2903</td>\n",
       "      <td>                                The Matrix</td>\n",
       "      <td>  463517383</td>\n",
       "      <td>1999-12-31</td>\n",
       "      <td> 159668.406132</td>\n",
       "      <td>  True</td>\n",
       "    </tr>\n",
       "  </tbody>\n",
       "</table>\n",
       "</div>"
      ],
      "text/plain": [
       "   nominations  oscars  theaters                                      title  \\\n",
       "0            3       0      3126  Star Wars: Episode I - The Phantom Menace   \n",
       "1            6       0      2821                            The Sixth Sense   \n",
       "2            1       0      3257                                Toy Story 2   \n",
       "3            1       0      3314      Austin Powers: The Spy Who Shagged Me   \n",
       "4            4       4      2903                                 The Matrix   \n",
       "\n",
       "   worldgross       year          gross awarded  \n",
       "0  1027044677 1999-12-31  328549.160909   False  \n",
       "1   672806292 1999-12-31  238499.217299   False  \n",
       "2   485015179 1999-12-31  148914.700338   False  \n",
       "3   312016858 1999-12-31   94151.133977   False  \n",
       "4   463517383 1999-12-31  159668.406132    True  "
      ]
     },
     "execution_count": 34,
     "metadata": {},
     "output_type": "execute_result"
    }
   ],
   "source": [
    "md.head(5)"
   ]
  },
  {
   "cell_type": "code",
   "execution_count": 35,
   "metadata": {
    "collapsed": false
   },
   "outputs": [
    {
     "name": "stderr",
     "output_type": "stream",
     "text": [
      "/usr/local/lib/python2.7/site-packages/IPython/kernel/__main__.py:4: SettingWithCopyWarning: \n",
      "A value is trying to be set on a copy of a slice from a DataFrame.\n",
      "Try using .loc[row_indexer,col_indexer] = value instead\n",
      "\n",
      "See the the caveats in the documentation: http://pandas.pydata.org/pandas-docs/stable/indexing.html#indexing-view-versus-copy\n"
     ]
    },
    {
     "data": {
      "text/html": [
       "<div style=\"max-height:1000px;max-width:1500px;overflow:auto;\">\n",
       "<table border=\"1\" class=\"dataframe\">\n",
       "  <thead>\n",
       "    <tr style=\"text-align: right;\">\n",
       "      <th></th>\n",
       "      <th>nominations</th>\n",
       "      <th>oscars</th>\n",
       "      <th>theaters</th>\n",
       "      <th>title</th>\n",
       "      <th>worldgross</th>\n",
       "      <th>year</th>\n",
       "      <th>gross</th>\n",
       "      <th>awarded</th>\n",
       "      <th>x_dumb</th>\n",
       "    </tr>\n",
       "  </thead>\n",
       "  <tbody>\n",
       "    <tr>\n",
       "      <th>0</th>\n",
       "      <td> 3</td>\n",
       "      <td> 0</td>\n",
       "      <td> 3126</td>\n",
       "      <td> Star Wars: Episode I - The Phantom Menace</td>\n",
       "      <td> 1027044677</td>\n",
       "      <td>1999-12-31</td>\n",
       "      <td> 328549.160909</td>\n",
       "      <td> False</td>\n",
       "      <td> 1</td>\n",
       "    </tr>\n",
       "    <tr>\n",
       "      <th>1</th>\n",
       "      <td> 6</td>\n",
       "      <td> 0</td>\n",
       "      <td> 2821</td>\n",
       "      <td>                           The Sixth Sense</td>\n",
       "      <td>  672806292</td>\n",
       "      <td>1999-12-31</td>\n",
       "      <td> 238499.217299</td>\n",
       "      <td> False</td>\n",
       "      <td> 1</td>\n",
       "    </tr>\n",
       "    <tr>\n",
       "      <th>2</th>\n",
       "      <td> 1</td>\n",
       "      <td> 0</td>\n",
       "      <td> 3257</td>\n",
       "      <td>                               Toy Story 2</td>\n",
       "      <td>  485015179</td>\n",
       "      <td>1999-12-31</td>\n",
       "      <td> 148914.700338</td>\n",
       "      <td> False</td>\n",
       "      <td> 1</td>\n",
       "    </tr>\n",
       "    <tr>\n",
       "      <th>3</th>\n",
       "      <td> 1</td>\n",
       "      <td> 0</td>\n",
       "      <td> 3314</td>\n",
       "      <td>     Austin Powers: The Spy Who Shagged Me</td>\n",
       "      <td>  312016858</td>\n",
       "      <td>1999-12-31</td>\n",
       "      <td>  94151.133977</td>\n",
       "      <td> False</td>\n",
       "      <td> 1</td>\n",
       "    </tr>\n",
       "    <tr>\n",
       "      <th>4</th>\n",
       "      <td> 4</td>\n",
       "      <td> 4</td>\n",
       "      <td> 2903</td>\n",
       "      <td>                                The Matrix</td>\n",
       "      <td>  463517383</td>\n",
       "      <td>1999-12-31</td>\n",
       "      <td> 159668.406132</td>\n",
       "      <td>  True</td>\n",
       "      <td> 1</td>\n",
       "    </tr>\n",
       "  </tbody>\n",
       "</table>\n",
       "</div>"
      ],
      "text/plain": [
       "   nominations  oscars  theaters                                      title  \\\n",
       "0            3       0      3126  Star Wars: Episode I - The Phantom Menace   \n",
       "1            6       0      2821                            The Sixth Sense   \n",
       "2            1       0      3257                                Toy Story 2   \n",
       "3            1       0      3314      Austin Powers: The Spy Who Shagged Me   \n",
       "4            4       4      2903                                 The Matrix   \n",
       "\n",
       "   worldgross       year          gross awarded  x_dumb  \n",
       "0  1027044677 1999-12-31  328549.160909   False       1  \n",
       "1   672806292 1999-12-31  238499.217299   False       1  \n",
       "2   485015179 1999-12-31  148914.700338   False       1  \n",
       "3   312016858 1999-12-31   94151.133977   False       1  \n",
       "4   463517383 1999-12-31  159668.406132    True       1  "
      ]
     },
     "execution_count": 35,
     "metadata": {},
     "output_type": "execute_result"
    }
   ],
   "source": [
    "x_dumb = []\n",
    "for i in md['worldgross']:\n",
    "    x_dumb.append(1)\n",
    "md['x_dumb'] = x_dumb\n",
    "md.head(5)"
   ]
  },
  {
   "cell_type": "code",
   "execution_count": 36,
   "metadata": {
    "collapsed": false
   },
   "outputs": [
    {
     "data": {
      "text/html": [
       "<table class=\"simpletable\">\n",
       "<caption>OLS Regression Results</caption>\n",
       "<tr>\n",
       "  <th>Dep. Variable:</th>       <td>worldgross</td>    <th>  R-squared:         </th> <td>  -0.010</td> \n",
       "</tr>\n",
       "<tr>\n",
       "  <th>Model:</th>                   <td>OLS</td>       <th>  Adj. R-squared:    </th> <td>  -0.012</td> \n",
       "</tr>\n",
       "<tr>\n",
       "  <th>Method:</th>             <td>Least Squares</td>  <th>  F-statistic:       </th> <td>  -5.589</td> \n",
       "</tr>\n",
       "<tr>\n",
       "  <th>Date:</th>             <td>Tue, 05 May 2015</td> <th>  Prob (F-statistic):</th>  <td>  1.00</td>  \n",
       "</tr>\n",
       "<tr>\n",
       "  <th>Time:</th>                 <td>12:31:24</td>     <th>  Log-Likelihood:    </th> <td> -11336.</td> \n",
       "</tr>\n",
       "<tr>\n",
       "  <th>No. Observations:</th>      <td>   543</td>      <th>  AIC:               </th> <td>2.268e+04</td>\n",
       "</tr>\n",
       "<tr>\n",
       "  <th>Df Residuals:</th>          <td>   541</td>      <th>  BIC:               </th> <td>2.268e+04</td>\n",
       "</tr>\n",
       "<tr>\n",
       "  <th>Df Model:</th>              <td>     1</td>      <th>                     </th>     <td> </td>    \n",
       "</tr>\n",
       "<tr>\n",
       "  <th>Covariance Type:</th>      <td>nonrobust</td>    <th>                     </th>     <td> </td>    \n",
       "</tr>\n",
       "</table>\n",
       "<table class=\"simpletable\">\n",
       "<tr>\n",
       "      <td></td>         <th>coef</th>     <th>std err</th>      <th>t</th>      <th>P>|t|</th> <th>[95.0% Conf. Int.]</th> \n",
       "</tr>\n",
       "<tr>\n",
       "  <th>Intercept</th> <td>  1.35e+22</td> <td> 4.56e+21</td> <td>    2.964</td> <td> 0.003</td> <td> 4.55e+21  2.25e+22</td>\n",
       "</tr>\n",
       "<tr>\n",
       "  <th>x_dumb</th>    <td> -1.35e+22</td> <td> 4.56e+21</td> <td>   -2.964</td> <td> 0.003</td> <td>-2.25e+22 -4.55e+21</td>\n",
       "</tr>\n",
       "</table>\n",
       "<table class=\"simpletable\">\n",
       "<tr>\n",
       "  <th>Omnibus:</th>       <td>400.598</td> <th>  Durbin-Watson:     </th> <td>   0.755</td>\n",
       "</tr>\n",
       "<tr>\n",
       "  <th>Prob(Omnibus):</th> <td> 0.000</td>  <th>  Jarque-Bera (JB):  </th> <td>6641.862</td>\n",
       "</tr>\n",
       "<tr>\n",
       "  <th>Skew:</th>          <td> 3.102</td>  <th>  Prob(JB):          </th> <td>    0.00</td>\n",
       "</tr>\n",
       "<tr>\n",
       "  <th>Kurtosis:</th>      <td>18.971</td>  <th>  Cond. No.          </th> <td>7.51e+14</td>\n",
       "</tr>\n",
       "</table>"
      ],
      "text/plain": [
       "<class 'statsmodels.iolib.summary.Summary'>\n",
       "\"\"\"\n",
       "                            OLS Regression Results                            \n",
       "==============================================================================\n",
       "Dep. Variable:             worldgross   R-squared:                      -0.010\n",
       "Model:                            OLS   Adj. R-squared:                 -0.012\n",
       "Method:                 Least Squares   F-statistic:                    -5.589\n",
       "Date:                Tue, 05 May 2015   Prob (F-statistic):               1.00\n",
       "Time:                        12:31:24   Log-Likelihood:                -11336.\n",
       "No. Observations:                 543   AIC:                         2.268e+04\n",
       "Df Residuals:                     541   BIC:                         2.268e+04\n",
       "Df Model:                           1                                         \n",
       "Covariance Type:            nonrobust                                         \n",
       "==============================================================================\n",
       "                 coef    std err          t      P>|t|      [95.0% Conf. Int.]\n",
       "------------------------------------------------------------------------------\n",
       "Intercept    1.35e+22   4.56e+21      2.964      0.003      4.55e+21  2.25e+22\n",
       "x_dumb      -1.35e+22   4.56e+21     -2.964      0.003     -2.25e+22 -4.55e+21\n",
       "==============================================================================\n",
       "Omnibus:                      400.598   Durbin-Watson:                   0.755\n",
       "Prob(Omnibus):                  0.000   Jarque-Bera (JB):             6641.862\n",
       "Skew:                           3.102   Prob(JB):                         0.00\n",
       "Kurtosis:                      18.971   Cond. No.                     7.51e+14\n",
       "==============================================================================\n",
       "\n",
       "Warnings:\n",
       "[1] Standard Errors assume that the covariance matrix of the errors is correctly specified.\n",
       "[2] The smallest eigenvalue is 1.92e-27. This might indicate that there are\n",
       "strong multicollinearity problems or that the design matrix is singular.\n",
       "\"\"\""
      ]
     },
     "execution_count": 36,
     "metadata": {},
     "output_type": "execute_result"
    }
   ],
   "source": [
    "md_lm = smf.ols(formula='worldgross ~ x_dumb', data=md).fit()\n",
    "md_lm.summary()"
   ]
  },
  {
   "cell_type": "code",
   "execution_count": 37,
   "metadata": {
    "collapsed": false
   },
   "outputs": [
    {
     "name": "stdout",
     "output_type": "stream",
     "text": [
      "Populating the interactive namespace from numpy and matplotlib\n"
     ]
    },
    {
     "name": "stderr",
     "output_type": "stream",
     "text": [
      "WARNING: pylab import has clobbered these variables: ['power', 'f', 'linalg', 'draw_if_interactive', 'random', 'sqrt', 'fft', 'info']\n",
      "`%matplotlib` prevents importing * from pylab and numpy\n"
     ]
    },
    {
     "data": {
      "text/plain": [
       "[<matplotlib.lines.Line2D at 0x11644d310>]"
      ]
     },
     "execution_count": 37,
     "metadata": {},
     "output_type": "execute_result"
    },
    {
     "data": {
      "image/png": "[encoded data removed]",
      "text/plain": [
       "<matplotlib.figure.Figure at 0x116596e50>"
      ]
     },
     "metadata": {},
     "output_type": "display_data"
    }
   ],
   "source": [
    "%pylab inline\n",
    "plt.scatter(md['x_dumb'], md['worldgross'], alpha=0.5, s=80, color='orange')\n",
    "plt.xlabel(\"X\")\n",
    "plt.ylabel(\"Worldgross\")\n",
    "plt.plot(md['x_dumb'], md_lm.params[0] + (md_lm.params[1] * md['x_dumb']), 'r', alpha=0.9)"
   ]
  },
  {
   "cell_type": "code",
   "execution_count": 38,
   "metadata": {
    "collapsed": false
   },
   "outputs": [
    {
     "data": {
      "text/plain": [
       "<matplotlib.axes._subplots.AxesSubplot at 0x1161ffc10>"
      ]
     },
     "execution_count": 38,
     "metadata": {},
     "output_type": "execute_result"
    },
    {
     "data": {
      "image/png": "[encoded data removed]",
      "text/plain": [
       "<matplotlib.figure.Figure at 0x1157d7950>"
      ]
     },
     "metadata": {},
     "output_type": "display_data"
    }
   ],
   "source": [
    "sns.residplot(md['x_dumb'], md['worldgross'])"
   ]
  },
  {
   "cell_type": "markdown",
   "metadata": {},
   "source": [
    "## Challenge 2"
   ]
  },
  {
   "cell_type": "code",
   "execution_count": 39,
   "metadata": {
    "collapsed": false
   },
   "outputs": [
    {
     "data": {
      "text/html": [
       "<table class=\"simpletable\">\n",
       "<caption>OLS Regression Results</caption>\n",
       "<tr>\n",
       "  <th>Dep. Variable:</th>       <td>worldgross</td>    <th>  R-squared:         </th> <td>   0.512</td> \n",
       "</tr>\n",
       "<tr>\n",
       "  <th>Model:</th>                   <td>OLS</td>       <th>  Adj. R-squared:    </th> <td>   0.511</td> \n",
       "</tr>\n",
       "<tr>\n",
       "  <th>Method:</th>             <td>Least Squares</td>  <th>  F-statistic:       </th> <td>   567.7</td> \n",
       "</tr>\n",
       "<tr>\n",
       "  <th>Date:</th>             <td>Tue, 05 May 2015</td> <th>  Prob (F-statistic):</th> <td>2.46e-86</td> \n",
       "</tr>\n",
       "<tr>\n",
       "  <th>Time:</th>                 <td>12:31:27</td>     <th>  Log-Likelihood:    </th> <td> -11138.</td> \n",
       "</tr>\n",
       "<tr>\n",
       "  <th>No. Observations:</th>      <td>   543</td>      <th>  AIC:               </th> <td>2.228e+04</td>\n",
       "</tr>\n",
       "<tr>\n",
       "  <th>Df Residuals:</th>          <td>   541</td>      <th>  BIC:               </th> <td>2.229e+04</td>\n",
       "</tr>\n",
       "<tr>\n",
       "  <th>Df Model:</th>              <td>     1</td>      <th>                     </th>     <td> </td>    \n",
       "</tr>\n",
       "<tr>\n",
       "  <th>Covariance Type:</th>      <td>nonrobust</td>    <th>                     </th>     <td> </td>    \n",
       "</tr>\n",
       "</table>\n",
       "<table class=\"simpletable\">\n",
       "<tr>\n",
       "      <td></td>         <th>coef</th>     <th>std err</th>      <th>t</th>      <th>P>|t|</th> <th>[95.0% Conf. Int.]</th> \n",
       "</tr>\n",
       "<tr>\n",
       "  <th>Intercept</th> <td>-2.499e+07</td> <td> 6.57e+06</td> <td>   -3.804</td> <td> 0.000</td> <td>-3.79e+07 -1.21e+07</td>\n",
       "</tr>\n",
       "<tr>\n",
       "  <th>x_dumb</th>    <td>-2.499e+07</td> <td> 6.57e+06</td> <td>   -3.804</td> <td> 0.000</td> <td>-3.79e+07 -1.21e+07</td>\n",
       "</tr>\n",
       "<tr>\n",
       "  <th>theaters</th>  <td> 1.406e+05</td> <td> 5902.638</td> <td>   23.826</td> <td> 0.000</td> <td> 1.29e+05  1.52e+05</td>\n",
       "</tr>\n",
       "</table>\n",
       "<table class=\"simpletable\">\n",
       "<tr>\n",
       "  <th>Omnibus:</th>       <td>535.972</td> <th>  Durbin-Watson:     </th> <td>   1.083</td> \n",
       "</tr>\n",
       "<tr>\n",
       "  <th>Prob(Omnibus):</th> <td> 0.000</td>  <th>  Jarque-Bera (JB):  </th> <td>37154.280</td>\n",
       "</tr>\n",
       "<tr>\n",
       "  <th>Skew:</th>          <td> 4.159</td>  <th>  Prob(JB):          </th> <td>    0.00</td> \n",
       "</tr>\n",
       "<tr>\n",
       "  <th>Kurtosis:</th>      <td>42.661</td>  <th>  Cond. No.          </th> <td>5.90e+17</td> \n",
       "</tr>\n",
       "</table>"
      ],
      "text/plain": [
       "<class 'statsmodels.iolib.summary.Summary'>\n",
       "\"\"\"\n",
       "                            OLS Regression Results                            \n",
       "==============================================================================\n",
       "Dep. Variable:             worldgross   R-squared:                       0.512\n",
       "Model:                            OLS   Adj. R-squared:                  0.511\n",
       "Method:                 Least Squares   F-statistic:                     567.7\n",
       "Date:                Tue, 05 May 2015   Prob (F-statistic):           2.46e-86\n",
       "Time:                        12:31:27   Log-Likelihood:                -11138.\n",
       "No. Observations:                 543   AIC:                         2.228e+04\n",
       "Df Residuals:                     541   BIC:                         2.229e+04\n",
       "Df Model:                           1                                         \n",
       "Covariance Type:            nonrobust                                         \n",
       "==============================================================================\n",
       "                 coef    std err          t      P>|t|      [95.0% Conf. Int.]\n",
       "------------------------------------------------------------------------------\n",
       "Intercept  -2.499e+07   6.57e+06     -3.804      0.000     -3.79e+07 -1.21e+07\n",
       "x_dumb     -2.499e+07   6.57e+06     -3.804      0.000     -3.79e+07 -1.21e+07\n",
       "theaters    1.406e+05   5902.638     23.826      0.000      1.29e+05  1.52e+05\n",
       "==============================================================================\n",
       "Omnibus:                      535.972   Durbin-Watson:                   1.083\n",
       "Prob(Omnibus):                  0.000   Jarque-Bera (JB):            37154.280\n",
       "Skew:                           4.159   Prob(JB):                         0.00\n",
       "Kurtosis:                      42.661   Cond. No.                     5.90e+17\n",
       "==============================================================================\n",
       "\n",
       "Warnings:\n",
       "[1] Standard Errors assume that the covariance matrix of the errors is correctly specified.\n",
       "[2] The smallest eigenvalue is 7.73e-27. This might indicate that there are\n",
       "strong multicollinearity problems or that the design matrix is singular.\n",
       "\"\"\""
      ]
     },
     "execution_count": 39,
     "metadata": {},
     "output_type": "execute_result"
    }
   ],
   "source": [
    "md_lm = smf.ols(formula='worldgross ~ x_dumb + theaters', data=md).fit()\n",
    "md_lm.summary()"
   ]
  },
  {
   "cell_type": "code",
   "execution_count": 40,
   "metadata": {
    "collapsed": false
   },
   "outputs": [
    {
     "name": "stdout",
     "output_type": "stream",
     "text": [
      "Populating the interactive namespace from numpy and matplotlib\n"
     ]
    },
    {
     "data": {
      "text/plain": [
       "[<matplotlib.lines.Line2D at 0x11671f450>]"
      ]
     },
     "execution_count": 40,
     "metadata": {},
     "output_type": "execute_result"
    },
    {
     "data": {
      "image/png": "[encoded data removed]",
      "text/plain": [
       "<matplotlib.figure.Figure at 0x1162a6690>"
      ]
     },
     "metadata": {},
     "output_type": "display_data"
    }
   ],
   "source": [
    "%pylab inline\n",
    "plt.scatter(md['theaters'], md['worldgross'], alpha=0.5, s=80, color='orange')\n",
    "plt.xlabel(\"Theaters Number\")\n",
    "plt.ylabel(\"Worldgross\")\n",
    "plt.plot(md['theaters'], md_lm.params[0] + (md_lm.params[2] * md['theaters']), 'r', alpha=0.9)"
   ]
  },
  {
   "cell_type": "code",
   "execution_count": 42,
   "metadata": {
    "collapsed": false
   },
   "outputs": [
    {
     "data": {
      "text/plain": [
       "<matplotlib.axes._subplots.AxesSubplot at 0x116849190>"
      ]
     },
     "execution_count": 42,
     "metadata": {},
     "output_type": "execute_result"
    },
    {
     "data": {
      "image/png": "[encoded data removed]",
      "text/plain": [
       "<matplotlib.figure.Figure at 0x11671f5d0>"
      ]
     },
     "metadata": {},
     "output_type": "display_data"
    }
   ],
   "source": [
    "sns.residplot(md['theaters'], md['worldgross'])"
   ]
  },
  {
   "cell_type": "code",
   "execution_count": null,
   "metadata": {
    "collapsed": true
   },
   "outputs": [],
   "source": []
  }
 ],
 "metadata": {
  "kernelspec": {
   "display_name": "Python 2",
   "language": "python",
   "name": "python2"
  },
  "language_info": {
   "codemirror_mode": {
    "name": "ipython",
    "version": 2
   },
   "file_extension": ".py",
   "mimetype": "text/x-python",
   "name": "python",
   "nbconvert_exporter": "python",
   "pygments_lexer": "ipython2",
   "version": "2.7.9"
  }
 },
 "nbformat": 4,
 "nbformat_minor": 0
}
