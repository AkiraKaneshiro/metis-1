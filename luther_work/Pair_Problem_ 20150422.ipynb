{
 "cells": [
  {
   "cell_type": "code",
   "execution_count": null,
   "metadata": {
    "collapsed": false
   },
   "outputs": [],
   "source": [
    "num = 600851475143\n",
    "prime = [2,3,5,7]\n",
    "def prime_factor(n):\n",
    "    num_list =[]\n",
    "    prime_list =[]\n",
    "    for i in range(n):\n",
    "        if num%float(i) == 0:\n",
    "            prime_list.append(i)\n",
    "        else:\n",
    "            continue\n",
    "\n",
    "    return prime_list\n",
    "\n",
    "prime_factor(num)\n",
    "    "
   ]
  },
  {
   "cell_type": "code",
   "execution_count": 6,
   "metadata": {
    "collapsed": false
   },
   "outputs": [
    {
     "data": {
      "text/plain": [
       "False"
      ]
     },
     "execution_count": 6,
     "metadata": {},
     "output_type": "execute_result"
    }
   ],
   "source": [
    "float(600851475143)%2 == 0"
   ]
  },
  {
   "cell_type": "code",
   "execution_count": 8,
   "metadata": {
    "collapsed": false
   },
   "outputs": [
    {
     "data": {
      "text/plain": [
       "45536299.74558545"
      ]
     },
     "execution_count": 8,
     "metadata": {},
     "output_type": "execute_result"
    }
   ],
   "source": [
    "num/13195"
   ]
  },
  {
   "cell_type": "code",
   "execution_count": 1,
   "metadata": {
    "collapsed": false
   },
   "outputs": [
    {
     "ename": "SyntaxError",
     "evalue": "invalid syntax (<ipython-input-1-3c45fd0a180b>, line 1)",
     "output_type": "error",
     "traceback": [
      "\u001b[0;36m  File \u001b[0;32m\"<ipython-input-1-3c45fd0a180b>\"\u001b[0;36m, line \u001b[0;32m1\u001b[0m\n\u001b[0;31m    mport math\u001b[0m\n\u001b[0m             ^\u001b[0m\n\u001b[0;31mSyntaxError\u001b[0m\u001b[0;31m:\u001b[0m invalid syntax\n"
     ]
    }
   ],
   "source": [
    "mport math\n",
    "big_number = 600851475143\n",
    "\n",
    "def isPrime(n):\n",
    "   for i in range(2, int(n**0.5)+1):\n",
    "       if n%i == 0:\n",
    "           return False\n",
    "   return True\n",
    "\n",
    "def biggest_prime_factor(big_number):\n",
    "   for i in range(int(math.sqrt(big_number)), 1, -1):\n",
    "       if isPrime(i):\n",
    "           print i\n",
    "           if big_number % i == 0: \n",
    "               return i\n",
    "\n",
    "print biggest_prime_factor(big_number)"
   ]
  },
  {
   "cell_type": "code",
   "execution_count": 2,
   "metadata": {
    "collapsed": false
   },
   "outputs": [
    {
     "name": "stdout",
     "output_type": "stream",
     "text": [
      "6857\n"
     ]
    }
   ],
   "source": [
    "import math\n",
    "number = 600851475143\n",
    "divisor =2\n",
    "\n",
    "while divisor < number:\n",
    "    if number % divisor == 0:\n",
    "        number /= divisor\n",
    "    else:\n",
    "        divisor +=1\n",
    "        \n",
    "print number"
   ]
  },
  {
   "cell_type": "code",
   "execution_count": null,
   "metadata": {
    "collapsed": true
   },
   "outputs": [],
   "source": []
  }
 ],
 "metadata": {
  "kernelspec": {
   "display_name": "Python 2",
   "language": "python",
   "name": "python2"
  },
  "language_info": {
   "codemirror_mode": {
    "name": "ipython",
    "version": 2
   },
   "file_extension": ".py",
   "mimetype": "text/x-python",
   "name": "python",
   "nbconvert_exporter": "python",
   "pygments_lexer": "ipython2",
   "version": "2.7.9"
  }
 },
 "nbformat": 4,
 "nbformat_minor": 0
}
