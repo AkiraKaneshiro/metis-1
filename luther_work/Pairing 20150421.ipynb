{
 "cells": [
  {
   "cell_type": "code",
   "execution_count": 18,
   "metadata": {
    "collapsed": false
   },
   "outputs": [
    {
     "data": {
      "text/plain": [
       "'Unbalanced'"
      ]
     },
     "execution_count": 18,
     "metadata": {},
     "output_type": "execute_result"
    }
   ],
   "source": [
    "def parenthesis(string):\n",
    "    num = 0\n",
    "    for i in string:\n",
    "        if  i == '(':\n",
    "            num +=1\n",
    "        elif i == ')':\n",
    "            num -=1\n",
    "        if num < 0:\n",
    "            return 'Unbalanced'\n",
    " \n",
    "    if num == 0:\n",
    "        return 'Balanced'\n",
    "    else:\n",
    "        return 'Unbalanced'\n",
    "    \n",
    "    \n",
    "\n",
    "parenthesis('((((((())')\n",
    "        "
   ]
  },
  {
   "cell_type": "code",
   "execution_count": null,
   "metadata": {
    "collapsed": true
   },
   "outputs": [],
   "source": []
  }
 ],
 "metadata": {
  "kernelspec": {
   "display_name": "Python 2",
   "language": "python",
   "name": "python2"
  },
  "language_info": {
   "codemirror_mode": {
    "name": "ipython",
    "version": 2
   },
   "file_extension": ".py",
   "mimetype": "text/x-python",
   "name": "python",
   "nbconvert_exporter": "python",
   "pygments_lexer": "ipython2",
   "version": "2.7.9"
  }
 },
 "nbformat": 4,
 "nbformat_minor": 0
}
