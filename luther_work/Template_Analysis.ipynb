{
 "cells": [
  {
   "cell_type": "markdown",
   "metadata": {},
   "source": [
    "Title\n",
    "Author:\n",
    "Client:\n",
    "Collaborators:\n",
    "Start date:\n",
    "Date of last update:\n",
    "\n",
    "Key Takeaways\n",
    "(No more than three short sentences; this is what you’ll want people to understand from this doc, if nothing else. Write it after your project is finished.)\n",
    "Motivation/Goal\n",
    "We are interested in ...\n",
    "We have done ...\n",
    "We would like to see what kind of impact this has on ...\n",
    "This is worth doing because ... \n",
    "We expect to find ...\n",
    "Background\n",
    "\n",
    "The client is interested in ... Potential impacts of our work are ... If the analysis is done incorrectly, the negative effects on the client are ... \n",
    "\n",
    "To assist with decision-making based on ..., we have quantified … .  The analysis … \n",
    "Data and Pre-Processing\n",
    "\n",
    "The code used to generate plots in this document can be found in ...\n",
    "\n",
    "The data source is … .  The dataset is restricted to … .  It covers the dates from … through ... .  \n",
    "\n",
    "Outliers (classified as ...) have been … .  \n",
    "\n",
    "Total sample size:\n",
    "Dates covered by sample:\n",
    "Trustworthiness of data and validation procedures:\n",
    "Known bugs:\n",
    "Flags:\n",
    "Randomization scheme and its evaluation:\n",
    "Potential problems:\n",
    "Warnings:\n",
    "Cleaning notes:\n",
    "Other data discarded and reasons:\n",
    "\n",
    "Example script:\n",
    "Exploratory Data Analysis\n",
    "\n",
    "Hypotheses\n",
    "\n",
    "Hypothesis statements:\n",
    "Multiple comparisons considerations:\n",
    "Metrics\n",
    "\n",
    "Analysis/Methods\n",
    "\n",
    "Results\n",
    "\n",
    "\n",
    "Conclusion\n",
    "\n",
    "\n",
    "Caveats/Considerations"
   ]
  }
 ],
 "metadata": {
  "kernelspec": {
   "display_name": "Python 2",
   "language": "python",
   "name": "python2"
  },
  "language_info": {
   "codemirror_mode": {
    "name": "ipython",
    "version": 2
   },
   "file_extension": ".py",
   "mimetype": "text/x-python",
   "name": "python",
   "nbconvert_exporter": "python",
   "pygments_lexer": "ipython2",
   "version": "2.7.9"
  }
 },
 "nbformat": 4,
 "nbformat_minor": 0
}
