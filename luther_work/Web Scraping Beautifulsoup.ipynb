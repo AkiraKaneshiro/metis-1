{
 "cells": [
  {
   "cell_type": "markdown",
   "metadata": {},
   "source": [
    "HTML is the basic language used to create a web page.\n",
    "HTML is very structured/hierarchical.\n",
    "Every page is made up of discrete \"elements\".\n",
    "Elements are labeled with \"tags\"\n",
    "\n",
    "***\n",
    "<html>\n",
    "    <head>\n",
    "    </head>\n",
    "\n",
    "    <body>\n",
    "        <p class=\"red\"> Some text. You are beginning to learn HTML. </p>\n",
    "        <h1> This is a header </h1>\n",
    "        <a href=\"www.google.com\"> Some link </a>\n",
    "        \n",
    "\n",
    "    </body>\n",
    "\n",
    "</html>\n"
   ]
  },
  {
   "cell_type": "markdown",
   "metadata": {},
   "source": [
    "### Get the HTML from a page and convert to a BeautifulSoup object\n"
   ]
  },
  {
   "cell_type": "code",
   "execution_count": 35,
   "metadata": {
    "collapsed": true
   },
   "outputs": [],
   "source": [
    "import urllib2\n",
    "\n",
    "from bs4 import BeautifulSoup\n",
    "\n",
    "url = \"http://www.boxofficemojo.com/movies/?id=biglebowski.htm\"\n",
    "page = urllib2.urlopen(url)\n",
    "soup = BeautifulSoup(page)"
   ]
  },
  {
   "cell_type": "code",
   "execution_count": 3,
   "metadata": {
    "collapsed": false
   },
   "outputs": [],
   "source": [
    "# print soup"
   ]
  },
  {
   "cell_type": "markdown",
   "metadata": {},
   "source": [
    "## soup.find()\n",
    "Search for a type of tag by using the tag as a string (like 'body', 'div', 'p', 'a', etc) as an argument)"
   ]
  },
  {
   "cell_type": "code",
   "execution_count": 4,
   "metadata": {
    "collapsed": false
   },
   "outputs": [
    {
     "name": "stdout",
     "output_type": "stream",
     "text": [
      "<a href=\"/goto.php?a=5\" target=\"4\"><font face=\"Verdana\" size=\"3\"><b>'Furious 7' hits $800 million worldwide... &gt;</b></font><br/></a>\n"
     ]
    }
   ],
   "source": [
    "print soup.find(\"a\")"
   ]
  },
  {
   "cell_type": "code",
   "execution_count": 5,
   "metadata": {
    "collapsed": false
   },
   "outputs": [
    {
     "name": "stdout",
     "output_type": "stream",
     "text": [
      "<a href=\"/goto.php?a=5\" target=\"4\">\n",
      " <font face=\"Verdana\" size=\"3\">\n",
      "  <b>\n",
      "   'Furious 7' hits $800 million worldwide... &gt;\n",
      "  </b>\n",
      " </font>\n",
      " <br/>\n",
      "</a>\n",
      "\n"
     ]
    }
   ],
   "source": [
    "# print soup.a\n",
    "print soup.a.prettify()"
   ]
  },
  {
   "cell_type": "code",
   "execution_count": 6,
   "metadata": {
    "collapsed": false
   },
   "outputs": [
    {
     "name": "stdout",
     "output_type": "stream",
     "text": [
      "<a href=\"/goto.php?a=5\" target=\"4\"><font face=\"Verdana\" size=\"3\"><b>'Furious 7' hits $800 million worldwide... &gt;</b></font><br/></a>\n",
      "\n",
      "/goto.php?a=5\n"
     ]
    }
   ],
   "source": [
    "# soup.find_all() returns a list of all matches.\n",
    "# for link in soup.find_all('a'):\n",
    "#     print link\n",
    "\n",
    "# retrive the url from an anchor tag\n",
    "print soup.find('a')\n",
    "print\n",
    "print soup.find('a')['href']"
   ]
  },
  {
   "cell_type": "code",
   "execution_count": 8,
   "metadata": {
    "collapsed": false
   },
   "outputs": [
    {
     "data": {
      "text/plain": [
       "[<td width=\"40%\"><b>Domestic:</b></td>,\n",
       " <td align=\"right\" width=\"35%\"> <b>$17,451,873</b></td>]"
      ]
     },
     "execution_count": 8,
     "metadata": {},
     "output_type": "execute_result"
    }
   ],
   "source": [
    "# you can match on an attribute like a class, or an id\n",
    "# for element in soup.find_all()\n",
    "\n",
    "soup.find(class_=\"mp_box_content\").find_all('td')"
   ]
  },
  {
   "cell_type": "code",
   "execution_count": 9,
   "metadata": {
    "collapsed": true
   },
   "outputs": [],
   "source": [
    "# print soup.find(id=\"hp_footer\")"
   ]
  },
  {
   "cell_type": "markdown",
   "metadata": {},
   "source": [
    "## Items to scrape for in each movie:\n",
    "\n",
    "### movie title, total domestc gross, release date, runtime, rating"
   ]
  },
  {
   "cell_type": "code",
   "execution_count": 27,
   "metadata": {
    "collapsed": false
   },
   "outputs": [
    {
     "name": "stdout",
     "output_type": "stream",
     "text": [
      "<title>The Big Lebowski (1998) - Box Office Mojo</title>\n",
      "The Big Lebowski\n"
     ]
    }
   ],
   "source": [
    "# Movie title\n",
    "print soup.find(\"title\")\n",
    "title_string = soup.find(\"title\").text\n",
    "print title_string.split(\"(\")[0].strip()\n",
    "title_string = title_string.split(\"(\")[0].strip()"
   ]
  },
  {
   "cell_type": "code",
   "execution_count": 19,
   "metadata": {
    "collapsed": false
   },
   "outputs": [
    {
     "name": "stdout",
     "output_type": "stream",
     "text": [
      "None\n",
      "$17,451,873\n"
     ]
    }
   ],
   "source": [
    "# Domestic Total Gross (exact search: include white spaces)\n",
    "print soup.find(text=\"Domestic Total Gross:\")\n",
    "\n",
    "# using regular expressions you don't have to be exact (no white spaces)\n",
    "import re\n",
    "dtg_string = soup.find(text=re.compile(\"Domestic Total Gross\"))\n",
    "print dtg_string.findNextSibling().text"
   ]
  },
  {
   "cell_type": "code",
   "execution_count": 20,
   "metadata": {
    "collapsed": true
   },
   "outputs": [],
   "source": [
    "def get_movie_value(soup, field_name):\n",
    "    \"\"\"\n",
    "    takes a string attribute of a movie on the page, and\n",
    "    returns the string in the next sibling object (the value for that attribute)\n",
    "    \"\"\"\n",
    "    obj = soup.find(text = re.compile(field_name))\n",
    "    if not obj:\n",
    "        return None\n",
    "    next_sibling = obj.findNextSibling()\n",
    "    if next_sibling:\n",
    "        return next_sibling.text\n",
    "    else:\n",
    "        return None"
   ]
  },
  {
   "cell_type": "code",
   "execution_count": 28,
   "metadata": {
    "collapsed": false
   },
   "outputs": [
    {
     "name": "stdout",
     "output_type": "stream",
     "text": [
      "The Big Lebowski\n",
      "$17,451,873\n",
      "1 hrs. 57 min.\n",
      "R\n",
      "March 6, 1998\n"
     ]
    }
   ],
   "source": [
    "print title_string\n",
    "\n",
    "dtg = get_movie_value(soup, \"Domestic Total\")\n",
    "print dtg\n",
    "\n",
    "# run time\n",
    "runtime = get_movie_value(soup, \"Runtime\")\n",
    "print runtime\n",
    "\n",
    "# rating\n",
    "rating = get_movie_value(soup, \"MPAA Rating\")\n",
    "print rating\n",
    "\n",
    "# release data\n",
    "release_date = get_movie_value(soup, \"Release Date\")\n",
    "print release_date"
   ]
  },
  {
   "cell_type": "code",
   "execution_count": 29,
   "metadata": {
    "collapsed": false
   },
   "outputs": [
    {
     "name": "stdout",
     "output_type": "stream",
     "text": [
      "[{'rating': u'R', 'runtime': u'1 hrs. 57 min.', 'movie title': u'The Big Lebowski', 'domestic total gross': u'$17,451,873', 'release date': u'March 6, 1998'}]\n"
     ]
    }
   ],
   "source": [
    "headers = [\"movie title\", \"domestic total gross\", \"release date\", \"runtime\", \"rating\"]\n",
    "movie_data = []\n",
    "\n",
    "movie_dict = dict(zip(headers, [title_string, dtg, release_date, runtime, rating]))\n",
    "# print movie_dict\n",
    "\n",
    "movie_data.append(movie_dict)\n",
    "print movie_data\n"
   ]
  },
  {
   "cell_type": "markdown",
   "metadata": {},
   "source": [
    "## Searching movies starting with \"B...\", first page list"
   ]
  },
  {
   "cell_type": "code",
   "execution_count": 131,
   "metadata": {
    "collapsed": true
   },
   "outputs": [],
   "source": [
    "import urllib2\n",
    "import re\n",
    "from bs4 import BeautifulSoup\n",
    "\n",
    "url = \"http://www.boxofficemojo.com/movies/alphabetical.htm?letter=B&p=.htm\"\n",
    "page = urllib2.urlopen(url)\n",
    "soup = BeautifulSoup(page)"
   ]
  },
  {
   "cell_type": "code",
   "execution_count": 79,
   "metadata": {
    "collapsed": false
   },
   "outputs": [],
   "source": [
    "# print soup"
   ]
  },
  {
   "cell_type": "code",
   "execution_count": 132,
   "metadata": {
    "collapsed": false
   },
   "outputs": [
    {
     "name": "stdout",
     "output_type": "stream",
     "text": [
      "214\n",
      "$39,371\n",
      "39371\n",
      "$7,246,735\n",
      "7286106\n",
      "$365,727\n",
      "7651833\n",
      "$476,270\n",
      "8128103\n",
      "$660,216\n",
      "8788319\n",
      "$89,672\n",
      "8877991\n",
      "$950,792\n",
      "9828783\n",
      "$1,305,187\n",
      "11133970\n",
      "$17,530,973\n",
      "28664943\n",
      "$63,658,910\n",
      "92323853\n",
      "$18,319,860\n",
      "110643713\n",
      "$34,302,837\n",
      "144946550\n",
      "$4,398,938\n",
      "149345488\n",
      "$7,320,323\n",
      "156665811\n",
      "$17,234\n",
      "156683045\n",
      "$26,712,476\n",
      "183395521\n",
      "$28,734,552\n",
      "212130073\n",
      "$27,250,736\n",
      "239380809\n",
      "$60,494,212\n",
      "299875021\n",
      "$16,827,402\n",
      "316702423\n",
      "$1,867,792\n",
      "318570215\n",
      "$9,685,976\n",
      "328256191\n",
      "$14,972,297\n",
      "343228488\n",
      "$22,532,572\n",
      "365761060\n",
      "$7,889\n",
      "365768949\n",
      "$44,852\n",
      "365813801\n",
      "$21,760,240\n",
      "387574041\n",
      "$38,435,947\n",
      "426009988\n",
      "$447,954\n",
      "426457942\n",
      "$702,166\n",
      "427160108\n",
      "$12,139\n",
      "427172247\n",
      "$569,280\n",
      "427741527\n",
      "$11,809,387\n",
      "439550914\n",
      "$312,954\n",
      "439863868\n",
      "$503\n",
      "439864371\n",
      "$91,258,000\n",
      "531122371\n",
      "$13,110,903\n",
      "544233274\n",
      "$210,609,762\n",
      "754843036\n",
      "$118,450,002\n",
      "873293038\n",
      "$87,727,583\n",
      "961020621\n",
      "$37,490,007\n",
      "998510628\n",
      "$2,392,589\n",
      "1000903217\n",
      "$77,868,585\n",
      "1078771802\n",
      "$12,343\n",
      "1078784145\n",
      "$1,191,835\n",
      "1079975980\n",
      "$12,663\n",
      "1079988643\n",
      "$153,068\n",
      "1080141711\n",
      "$3,200\n",
      "1080144911\n",
      "$5,812\n",
      "1080150723\n",
      "$3,731\n",
      "1080154454\n",
      "$65,807,024\n",
      "1145961478\n",
      "$9,190,819\n",
      "1155152297\n",
      "$138,608,444\n",
      "1293760741\n",
      "$30,160,161\n",
      "1323920902\n",
      "$3,674,841\n",
      "1327595743\n",
      "$9,797,098\n",
      "1337392841\n",
      "$5,211,842\n",
      "1342604683\n",
      "$15,240,435\n",
      "1357845118\n",
      "$12,626,043\n",
      "1370471161\n",
      "$2,000,022\n",
      "1372471183\n",
      "$1,702,112\n",
      "1374173295\n",
      "$31,687\n",
      "1374204982\n",
      "$2,685,453\n",
      "1376890435\n",
      "$19,613\n",
      "1376910048\n",
      "$1,055,525\n",
      "1377965573\n",
      "$32,868,349\n",
      "1410833922\n",
      "$32,211,330\n",
      "1443045252\n",
      "$7,092,495\n",
      "1450137747\n",
      "$19,104,350\n",
      "1469242097\n",
      "$60,060,328\n",
      "1529302425\n",
      "$100,292,856\n",
      "1629595281\n",
      "$7,779,614\n",
      "1637374895\n",
      "$1,924\n",
      "1637376819\n",
      "$409,166\n",
      "1637785985\n",
      "$56,574\n",
      "1637842559\n",
      "$3,587,303\n",
      "1641429862\n",
      "$21,569,509\n",
      "1662999371\n",
      "$1,058,803\n",
      "1664058174\n",
      "$140,106\n",
      "1664198280\n",
      "$420,224\n",
      "1664618504\n",
      "$15,325,127\n",
      "1679943631\n",
      "$55,397\n",
      "1679999028\n",
      "$1,440\n",
      "1680000468\n",
      "$804,963\n",
      "1680805431\n",
      "$712,275\n",
      "1681517706\n",
      "$543,091\n",
      "1682060797\n",
      "$225,682\n",
      "1682286479\n",
      "$184,890\n",
      "1682471369\n",
      "$77,556\n",
      "1682548925\n",
      "$114,507\n",
      "1682663432\n",
      "$815,848\n",
      "1683479280\n",
      "$53,819\n",
      "1683533099\n",
      "$32,886,940\n",
      "1716420039\n",
      "$16,783\n",
      "1716436822\n",
      "$11,348,324\n",
      "1727785146\n",
      "$666,327\n",
      "1728451473\n",
      "$112,351\n",
      "1728563824\n",
      "$3,000,000\n",
      "1731563824\n",
      "$2,200,000\n",
      "1733763824\n",
      "$6,000,000\n",
      "1739763824\n",
      "$9,000,000\n",
      "1748763824\n",
      "$20,000,000\n",
      "1768763824\n",
      "$23,000,000\n",
      "1791763824\n",
      "$39,047,150\n",
      "1830810974\n",
      "$2,274,979\n",
      "1833085953\n",
      "$43,820\n",
      "1833129773\n",
      "$4,865,912\n",
      "1837995685\n",
      "$3,054,457\n",
      "1841050142\n",
      "$399,748\n",
      "1841449890\n",
      "$41,575,141\n",
      "1883025031\n",
      "$5,210,988\n",
      "1888236019\n",
      "$44,544\n",
      "1888280563\n",
      "$2,546,172\n",
      "1890826735\n",
      "$24,629\n",
      "1890851364\n",
      "$30,307,416\n",
      "1921158780\n",
      "$15,298,133\n",
      "1936456913\n",
      "$88,414\n",
      "1936545327\n",
      "$30,060,660\n",
      "1966605987\n",
      "$115,842\n",
      "1966721829\n",
      "$173,306\n",
      "1966895135\n",
      "$573,953\n",
      "1967469088\n",
      "$1,254,237\n",
      "1968723325\n",
      "$77,873\n",
      "1968801198\n",
      "$3,793,614\n",
      "1972594812\n",
      "$1,013,902\n",
      "1973608714\n",
      "$3,435,749\n",
      "1977044463\n",
      "$800,000\n",
      "1977844463\n",
      "$1,736,123\n",
      "1979580586\n",
      "$75,782,105\n",
      "2055362691\n",
      "$65,111,277\n",
      "2120473968\n",
      "$7,266,973\n",
      "2127740941\n",
      "$15,071\n",
      "2127756012\n",
      "$26,511\n",
      "2127782523\n",
      "$2,804,874\n",
      "2130587397\n",
      "$3,221,568\n",
      "2133808965\n",
      "$12,218,638\n",
      "2146027603\n",
      "$4,439,201\n",
      "2150466804\n",
      "$72,637,803\n",
      "2223104607\n",
      "$53,760\n",
      "2223158367\n",
      "$148,479\n",
      "2223306846\n",
      "$6,153,939\n",
      "2229460785\n",
      "$7,027,290\n",
      "2236488075\n",
      "$26,793,311\n",
      "2263281386\n",
      "$117,727,224\n",
      "2381008610\n",
      "$5,971,336\n",
      "2386979946\n",
      "$2,381,087\n",
      "2389361033\n",
      "$3,011,195\n",
      "2392372228\n",
      "$24,525\n",
      "2392396753\n",
      "$3,966,256\n",
      "2396363009\n",
      "$251,188,924\n",
      "2647551933\n",
      "$107,325,195\n",
      "2754877128\n",
      "$205,343,774\n",
      "2960220902\n",
      "$1,508,658\n",
      "2961729560\n",
      "$184,031,112\n",
      "3145760672\n",
      "$162,831,698\n",
      "3308592370\n",
      "$5,617,391\n",
      "3314209761\n",
      "$10,155,690\n",
      "3324365451\n",
      "$32,945,797\n",
      "3357311248\n",
      "$17,981\n",
      "3357329229\n",
      "$10,310\n",
      "3357339539\n",
      "$1,647,083\n",
      "3358986622\n",
      "$8,844,595\n",
      "3367831217\n",
      "$70,899\n",
      "3367902116\n",
      "$224,169\n",
      "3368126285\n",
      "$822,941\n",
      "3368949226\n",
      "$280,351\n",
      "3369229577\n",
      "$64,572\n",
      "3369294149\n",
      "$83,552,429\n",
      "3452846578\n",
      "$172,000\n",
      "3453018578\n",
      "$21,471,685\n",
      "3474490263\n",
      "$65,422,625\n",
      "3539912888\n",
      "$181,872\n",
      "3540094760\n",
      "$30,668\n",
      "3540125428\n",
      "$162,364\n",
      "3540287792\n",
      "3540287792\n"
     ]
    }
   ],
   "source": [
    "movielinks = []\n",
    "\n",
    "if soup.find_all('a', href=re.compile('movies/\\?id=b.*.htm')):\n",
    "    for link in soup.find_all('a', href=re.compile('movies/\\?id=b.*.htm')):\n",
    "        movielink = \"http://www.boxofficemojo.com\" + str(link['href'])\n",
    "        movielinks.append(movielink)\n",
    "        \n",
    "print len(movielinks)\n",
    "# print movielinks\n",
    "\n",
    "TotalGross = 0\n",
    "\n",
    "for link in movielinks:\n",
    "    url = link\n",
    "    page = urllib2.urlopen(url)\n",
    "    soup = BeautifulSoup(page)\n",
    "    # print(soup)\n",
    "    dtg_string = soup.find(text=re.compile(\"Domestic Total Gross\"))\n",
    "    # print dtg_string\n",
    "    if dtg_string:\n",
    "        GrossString = dtg_string.findNextSibling().text\n",
    "        print GrossString\n",
    "        TotalGross += int(GrossString.replace(',', '')[1:])\n",
    "        print TotalGross\n",
    "\n",
    "print TotalGross"
   ]
  },
  {
   "cell_type": "code",
   "execution_count": null,
   "metadata": {
    "collapsed": true
   },
   "outputs": [],
   "source": []
  }
 ],
 "metadata": {
  "kernelspec": {
   "display_name": "Python 2",
   "language": "python",
   "name": "python2"
  },
  "language_info": {
   "codemirror_mode": {
    "name": "ipython",
    "version": 2
   },
   "file_extension": ".py",
   "mimetype": "text/x-python",
   "name": "python",
   "nbconvert_exporter": "python",
   "pygments_lexer": "ipython2",
   "version": "2.7.9"
  }
 },
 "nbformat": 4,
 "nbformat_minor": 0
}
