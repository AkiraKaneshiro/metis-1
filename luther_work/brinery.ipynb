{
 "cells": [
  {
   "cell_type": "code",
   "execution_count": null,
   "metadata": {
    "collapsed": true
   },
   "outputs": [],
   "source": [
    "# pickle 10 pages from a list of urls on boxofficemojo.com\n",
    "list_of_links = [item['boxofficemojo url'] for item in read_main_dict().values()]\n",
    "print(\"\\nSour pickle jar: \" + str(brine_time(list_of_links, cap=10)))\n",
    "\n",
    "# debrine a single page\n",
    "depickled_page = debrine(url)\n",
    "\n",
    "# debrine all the pages\n",
    "pickled = grab_pickle()\n",
    "for item in pickled:\n",
    "    depickled_page = pickled[url]"
   ]
  }
 ],
 "metadata": {
  "kernelspec": {
   "display_name": "Python 2",
   "language": "python",
   "name": "python2"
  },
  "language_info": {
   "codemirror_mode": {
    "name": "ipython",
    "version": 2
   },
   "file_extension": ".py",
   "mimetype": "text/x-python",
   "name": "python",
   "nbconvert_exporter": "python",
   "pygments_lexer": "ipython2",
   "version": "2.7.9"
  }
 },
 "nbformat": 4,
 "nbformat_minor": 0
}
