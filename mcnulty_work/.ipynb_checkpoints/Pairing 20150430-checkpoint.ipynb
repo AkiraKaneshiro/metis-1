{
 "cells": [
  {
   "cell_type": "code",
   "execution_count": 3,
   "metadata": {
    "collapsed": false
   },
   "outputs": [
    {
     "data": {
      "text/plain": [
       "[[27, 'dog', 5, 2, 'rat'], [33, 'bat', 3, 7, 'fat']]"
      ]
     },
     "execution_count": 3,
     "metadata": {},
     "output_type": "execute_result"
    }
   ],
   "source": [
    "list1 = [[27, 'dog', 5],[19, 'cat', 9], [33, 'bat', 3]]\n",
    "list2 = [[14, 8, 'elf'],[33, 7, 'fat'],[27, 2, 'rat']]\n",
    "\n",
    "def merge_lists(list_1, list_2):\n",
    "    result = []\n",
    "    for n in list1:\n",
    "        for m in list2:\n",
    "            if n[0] == m[0]:\n",
    "                result.append([n[0], n[1], n[2], m[1], m[2]])\n",
    "    return result\n",
    "\n",
    "merge_lists(list1, list2)"
   ]
  },
  {
   "cell_type": "code",
   "execution_count": 9,
   "metadata": {
    "collapsed": false
   },
   "outputs": [
    {
     "data": {
      "text/plain": [
       "[[27, 'dog', 5, 2, 'rat'], [33, 'bat', 3, 7, 'fat']]"
      ]
     },
     "execution_count": 9,
     "metadata": {},
     "output_type": "execute_result"
    }
   ],
   "source": [
    "def merge_lists(list1,list2):\n",
    "    result = [ i+j[1:] for i in list1 for j in list2 if i[0] == j[0]]\n",
    "    return result\n",
    "\n",
    "list1 = [[27, 'dog', 5],[19, 'cat', 9], [33, 'bat', 3]]\n",
    "list2 = [[14, 8, 'elf'],[33, 7, 'fat'],[27, 2, 'rat']]\n",
    "merge_lists(list1, list2)"
   ]
  },
  {
   "cell_type": "code",
   "execution_count": null,
   "metadata": {
    "collapsed": true
   },
   "outputs": [],
   "source": []
  }
 ],
 "metadata": {
  "kernelspec": {
   "display_name": "Python 2",
   "language": "python",
   "name": "python2"
  },
  "language_info": {
   "codemirror_mode": {
    "name": "ipython",
    "version": 2
   },
   "file_extension": ".py",
   "mimetype": "text/x-python",
   "name": "python",
   "nbconvert_exporter": "python",
   "pygments_lexer": "ipython2",
   "version": "2.7.9"
  }
 },
 "nbformat": 4,
 "nbformat_minor": 0
}
