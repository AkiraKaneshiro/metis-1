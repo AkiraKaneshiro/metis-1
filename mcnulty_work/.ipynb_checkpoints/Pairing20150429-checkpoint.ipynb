{
 "cells": [
  {
   "cell_type": "code",
   "execution_count": 1,
   "metadata": {
    "collapsed": false
   },
   "outputs": [
    {
     "data": {
      "text/plain": [
       "('Full Name with quotes and <weird@chars.com>', 'weird@example.com')"
      ]
     },
     "execution_count": 1,
     "metadata": {},
     "output_type": "execute_result"
    }
   ],
   "source": [
    "from email.utils import parseaddr\n",
    "parseaddr('foo@example.com')\n",
    "\n",
    "parseaddr('Full Name <full@example.com>')\n",
    "\n",
    "parseaddr('\"Full Name with quotes and <weird@chars.com>\" <weird@example.com>')"
   ]
  },
  {
   "cell_type": "code",
   "execution_count": null,
   "metadata": {
    "collapsed": true
   },
   "outputs": [],
   "source": [
    "# check for valid email addresses\n",
    "\n",
    "import sys\n",
    "import re\n",
    "\n",
    "test_cases = open(sys.argv[1], 'r')\n",
    "\n",
    "for test in test_cases:\n",
    "    if not test:\n",
    "        continue\n",
    "    if re.match('(\".+\"|^[a-z0-9._+]+)@([a-z0-9._+]+\\.)[a-z]+$', test, re.IGNORECASE):\n",
    "        print (\"true\")\n",
    "    else:\n",
    "        print (\"false\")\n",
    "\n",
    "test.cases.close()"
   ]
  }
 ],
 "metadata": {
  "kernelspec": {
   "display_name": "Python 2",
   "language": "python",
   "name": "python2"
  },
  "language_info": {
   "codemirror_mode": {
    "name": "ipython",
    "version": 2
   },
   "file_extension": ".py",
   "mimetype": "text/x-python",
   "name": "python",
   "nbconvert_exporter": "python",
   "pygments_lexer": "ipython2",
   "version": "2.7.9"
  }
 },
 "nbformat": 4,
 "nbformat_minor": 0
}
