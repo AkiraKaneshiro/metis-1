{
 "cells": [
  {
   "cell_type": "code",
   "execution_count": 14,
   "metadata": {
    "collapsed": false
   },
   "outputs": [
    {
     "name": "stdout",
     "output_type": "stream",
     "text": [
      "6\n",
      "4\n",
      "2\n",
      "1\n"
     ]
    }
   ],
   "source": [
    "#https://www.hackerrank.com/challenges/cut-the-sticks\n",
    "\n",
    "def cut_sticks(list_num):\n",
    "    nums = list_num[1].split()\n",
    "    int_nums = [int(x) for x in nums]\n",
    "    while len(int_nums) > 0:\n",
    "        min_n = min(int_nums)\n",
    "        int_nums = [x - min_n for x in int_nums]\n",
    "        print len(int_nums)\n",
    "        int_nums = filter(lambda x: x>0, int_nums)\n",
    "\n",
    "cut_sticks(sys.stdin.readlines())"
   ]
  },
  {
   "cell_type": "code",
   "execution_count": null,
   "metadata": {
    "collapsed": true
   },
   "outputs": [],
   "source": [
    "import sys\n",
    "\n",
    "total = int(sys.stdin.next())\n",
    "sticks = [int(stick) for stick in sys.stdin.next().split()]\n",
    "\n",
    "while sticks:\n",
    "    print(len(sticks))\n",
    "    cutter = min(sticks)\n",
    "    sticks = [stick - cutter for stick in sticks if 0 < stick - cutter]"
   ]
  }
 ],
 "metadata": {
  "kernelspec": {
   "display_name": "Python 2",
   "language": "python",
   "name": "python2"
  },
  "language_info": {
   "codemirror_mode": {
    "name": "ipython",
    "version": 2
   },
   "file_extension": ".py",
   "mimetype": "text/x-python",
   "name": "python",
   "nbconvert_exporter": "python",
   "pygments_lexer": "ipython2",
   "version": "2.7.9"
  }
 },
 "nbformat": 4,
 "nbformat_minor": 0
}
