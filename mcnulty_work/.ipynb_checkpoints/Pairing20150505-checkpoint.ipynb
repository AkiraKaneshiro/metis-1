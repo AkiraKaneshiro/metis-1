{
 "cells": [
  {
   "cell_type": "code",
   "execution_count": null,
   "metadata": {
    "collapsed": true
   },
   "outputs": [],
   "source": [
    "def ways(cents, coins=[25, 10, 5, 1]):\n",
    "    \"\"\"Return the number of ways to make change.\n",
    "    \n",
    "\n",
    "    >>> ways(100)\n",
    "    242\n",
    "    \"\"\"\n",
    "    raise NotImplementedError\n",
    "    \n",
    "    if cents < coins[-1]:\n",
    "        return 0\n",
    "    else if cents < coins[-2]:\n",
    "        return 1\n",
    "    else if cents < coins[-3]:\n",
    "        return 2\n",
    "    else if cents < coins[-4]:\n",
    "        return 3\n",
    "    \n",
    "    for coin in reversed(coins):\n",
    "        if cents < coin:\n",
    "            "
   ]
  },
  {
   "cell_type": "code",
   "execution_count": null,
   "metadata": {
    "collapsed": true
   },
   "outputs": [],
   "source": [
    "def ways(cents, coins=[25, 10, 5, 1]):\n",
    "    counter = 0\n",
    "    change = [0,0,0,0]\n",
    "    for q in range(0,cents/25 + 1):\n",
    "        for d in range(0,cents/10 + 1):\n",
    "            for n in range(0,cents/5 + 1):\n",
    "                for p in range(0,cents + 1):\n",
    "                    change = [q,d,n,p]\n",
    "                    if sum([a*b for a,b in zip(change,coins)]) == cents:\n",
    "                        counter += 1\n",
    "    return counter"
   ]
  },
  {
   "cell_type": "code",
   "execution_count": null,
   "metadata": {
    "collapsed": true
   },
   "outputs": [],
   "source": [
    "def ways(cents, coins=[25, 10, 5, 1]):\n",
    "    if cents < 0 or not coins:\n",
    "        return 0\n",
    "    if cents == 0:\n",
    "        return 1\n",
    "    return ways(cents - coins[0], coins) + ways(cents, coins[1:])"
   ]
  }
 ],
 "metadata": {
  "kernelspec": {
   "display_name": "Python 2",
   "language": "python",
   "name": "python2"
  },
  "language_info": {
   "codemirror_mode": {
    "name": "ipython",
    "version": 2
   },
   "file_extension": ".py",
   "mimetype": "text/x-python",
   "name": "python",
   "nbconvert_exporter": "python",
   "pygments_lexer": "ipython2",
   "version": "2.7.9"
  }
 },
 "nbformat": 4,
 "nbformat_minor": 0
}
