{
 "cells": [
  {
   "cell_type": "code",
   "execution_count": 26,
   "metadata": {
    "collapsed": false
   },
   "outputs": [
    {
     "data": {
      "text/plain": [
       "[1, 3, 11, 71]"
      ]
     },
     "execution_count": 26,
     "metadata": {},
     "output_type": "execute_result"
    }
   ],
   "source": [
    "def factorials(number):\n",
    "    assert number > 1\n",
    "    factorial = [1]\n",
    "    for i in range(number-1):\n",
    "        if i > 0:\n",
    "            if number%(i+1) == 0:\n",
    "                countn = 0\n",
    "                for n in factorial:\n",
    "                    if n > 1:\n",
    "                        if (i+1)%n == 0:\n",
    "                            countn += 1\n",
    "                if countn == 0:\n",
    "                    factorial.append(i+1)\n",
    "    return factorial\n",
    "\n",
    "factorials(2343)"
   ]
  },
  {
   "cell_type": "code",
   "execution_count": null,
   "metadata": {
    "collapsed": true
   },
   "outputs": [],
   "source": [
    "import unittest\n",
    "import math\n",
    "def factorial(x):\n",
    "    return math.factorial(x)\n",
    "class MyTest(unittest.TestCase):\n",
    "    def test(self):\n",
    "        self.assertEqual(factorial(4), 24)"
   ]
  },
  {
   "cell_type": "code",
   "execution_count": null,
   "metadata": {
    "collapsed": true
   },
   "outputs": [],
   "source": [
    "def factorial(x):\n",
    "    if x < 0 or not isinstance(x, int):\n",
    "        raise ValueError\n",
    "    if x == 0:\n",
    "        return 1\n",
    "    return reduce(lambda a, b: a * b, range(1, x+1))"
   ]
  }
 ],
 "metadata": {
  "kernelspec": {
   "display_name": "Python 2",
   "language": "python",
   "name": "python2"
  },
  "language_info": {
   "codemirror_mode": {
    "name": "ipython",
    "version": 2
   },
   "file_extension": ".py",
   "mimetype": "text/x-python",
   "name": "python",
   "nbconvert_exporter": "python",
   "pygments_lexer": "ipython2",
   "version": "2.7.9"
  }
 },
 "nbformat": 4,
 "nbformat_minor": 0
}
