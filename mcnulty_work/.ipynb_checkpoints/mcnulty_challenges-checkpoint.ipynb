{
 "cells": [
  {
   "cell_type": "code",
   "execution_count": 12,
   "metadata": {
    "collapsed": true
   },
   "outputs": [],
   "source": [
    "from sklearn.neighbors import KNeighborsClassifier\n",
    "import csv\n",
    "import pickle\n",
    "import re\n",
    "from datetime import datetime\n",
    "import numpy as np\n",
    "# randn = np.random.randn\n",
    "from pandas import *\n",
    "import pandas as pd\n",
    "import matplotlib.pyplot as plt\n",
    "import statsmodels.formula.api as smf\n",
    "from scipy.stats import linregress\n",
    "from pylab import *\n",
    "from urllib import urlopen"
   ]
  },
  {
   "cell_type": "code",
   "execution_count": 17,
   "metadata": {
    "collapsed": false,
    "scrolled": true
   },
   "outputs": [
    {
     "data": {
      "text/html": [
       "<div style=\"max-height:1000px;max-width:1500px;overflow:auto;\">\n",
       "<table border=\"1\" class=\"dataframe\">\n",
       "  <thead>\n",
       "    <tr style=\"text-align: right;\">\n",
       "      <th></th>\n",
       "      <th>Class Name</th>\n",
       "      <th>handicapped-infants</th>\n",
       "      <th>water-project-cost-sharing</th>\n",
       "      <th>adoption-of-the-budget-resolution</th>\n",
       "      <th>physician-fee-freeze</th>\n",
       "      <th>el-salvador-aid</th>\n",
       "      <th>religious-groups-in-schools</th>\n",
       "      <th>anti-satellite-test-ban</th>\n",
       "      <th>aid-to-nicaraguan-contras</th>\n",
       "      <th>mx-missile</th>\n",
       "      <th>immigration</th>\n",
       "      <th>synfuels-corporation-cutback</th>\n",
       "      <th>education-spending</th>\n",
       "      <th>superfund-right-to-sue</th>\n",
       "      <th>crime</th>\n",
       "      <th>duty-free-exports</th>\n",
       "      <th>export-administration-act-south-africa</th>\n",
       "    </tr>\n",
       "  </thead>\n",
       "  <tbody>\n",
       "    <tr>\n",
       "      <th>0</th>\n",
       "      <td> republican</td>\n",
       "      <td> n</td>\n",
       "      <td> y</td>\n",
       "      <td> n</td>\n",
       "      <td> y</td>\n",
       "      <td> y</td>\n",
       "      <td> y</td>\n",
       "      <td> n</td>\n",
       "      <td> n</td>\n",
       "      <td> n</td>\n",
       "      <td> y</td>\n",
       "      <td> ?</td>\n",
       "      <td> y</td>\n",
       "      <td> y</td>\n",
       "      <td> y</td>\n",
       "      <td> n</td>\n",
       "      <td> y</td>\n",
       "    </tr>\n",
       "    <tr>\n",
       "      <th>1</th>\n",
       "      <td> republican</td>\n",
       "      <td> n</td>\n",
       "      <td> y</td>\n",
       "      <td> n</td>\n",
       "      <td> y</td>\n",
       "      <td> y</td>\n",
       "      <td> y</td>\n",
       "      <td> n</td>\n",
       "      <td> n</td>\n",
       "      <td> n</td>\n",
       "      <td> n</td>\n",
       "      <td> n</td>\n",
       "      <td> y</td>\n",
       "      <td> y</td>\n",
       "      <td> y</td>\n",
       "      <td> n</td>\n",
       "      <td> ?</td>\n",
       "    </tr>\n",
       "    <tr>\n",
       "      <th>2</th>\n",
       "      <td>   democrat</td>\n",
       "      <td> ?</td>\n",
       "      <td> y</td>\n",
       "      <td> y</td>\n",
       "      <td> ?</td>\n",
       "      <td> y</td>\n",
       "      <td> y</td>\n",
       "      <td> n</td>\n",
       "      <td> n</td>\n",
       "      <td> n</td>\n",
       "      <td> n</td>\n",
       "      <td> y</td>\n",
       "      <td> n</td>\n",
       "      <td> y</td>\n",
       "      <td> y</td>\n",
       "      <td> n</td>\n",
       "      <td> n</td>\n",
       "    </tr>\n",
       "    <tr>\n",
       "      <th>3</th>\n",
       "      <td>   democrat</td>\n",
       "      <td> n</td>\n",
       "      <td> y</td>\n",
       "      <td> y</td>\n",
       "      <td> n</td>\n",
       "      <td> ?</td>\n",
       "      <td> y</td>\n",
       "      <td> n</td>\n",
       "      <td> n</td>\n",
       "      <td> n</td>\n",
       "      <td> n</td>\n",
       "      <td> y</td>\n",
       "      <td> n</td>\n",
       "      <td> y</td>\n",
       "      <td> n</td>\n",
       "      <td> n</td>\n",
       "      <td> y</td>\n",
       "    </tr>\n",
       "    <tr>\n",
       "      <th>4</th>\n",
       "      <td>   democrat</td>\n",
       "      <td> y</td>\n",
       "      <td> y</td>\n",
       "      <td> y</td>\n",
       "      <td> n</td>\n",
       "      <td> y</td>\n",
       "      <td> y</td>\n",
       "      <td> n</td>\n",
       "      <td> n</td>\n",
       "      <td> n</td>\n",
       "      <td> n</td>\n",
       "      <td> y</td>\n",
       "      <td> ?</td>\n",
       "      <td> y</td>\n",
       "      <td> y</td>\n",
       "      <td> y</td>\n",
       "      <td> y</td>\n",
       "    </tr>\n",
       "  </tbody>\n",
       "</table>\n",
       "</div>"
      ],
      "text/plain": [
       "   Class Name handicapped-infants water-project-cost-sharing  \\\n",
       "0  republican                   n                          y   \n",
       "1  republican                   n                          y   \n",
       "2    democrat                   ?                          y   \n",
       "3    democrat                   n                          y   \n",
       "4    democrat                   y                          y   \n",
       "\n",
       "  adoption-of-the-budget-resolution physician-fee-freeze el-salvador-aid  \\\n",
       "0                                 n                    y               y   \n",
       "1                                 n                    y               y   \n",
       "2                                 y                    ?               y   \n",
       "3                                 y                    n               ?   \n",
       "4                                 y                    n               y   \n",
       "\n",
       "  religious-groups-in-schools anti-satellite-test-ban  \\\n",
       "0                           y                       n   \n",
       "1                           y                       n   \n",
       "2                           y                       n   \n",
       "3                           y                       n   \n",
       "4                           y                       n   \n",
       "\n",
       "  aid-to-nicaraguan-contras mx-missile immigration  \\\n",
       "0                         n          n           y   \n",
       "1                         n          n           n   \n",
       "2                         n          n           n   \n",
       "3                         n          n           n   \n",
       "4                         n          n           n   \n",
       "\n",
       "  synfuels-corporation-cutback education-spending superfund-right-to-sue  \\\n",
       "0                            ?                  y                      y   \n",
       "1                            n                  y                      y   \n",
       "2                            y                  n                      y   \n",
       "3                            y                  n                      y   \n",
       "4                            y                  ?                      y   \n",
       "\n",
       "  crime duty-free-exports export-administration-act-south-africa  \n",
       "0     y                 n                                      y  \n",
       "1     y                 n                                      ?  \n",
       "2     y                 n                                      n  \n",
       "3     n                 n                                      y  \n",
       "4     y                 y                                      y  "
      ]
     },
     "execution_count": 17,
     "metadata": {},
     "output_type": "execute_result"
    }
   ],
   "source": [
    "# page = urlopen(\"https://archive.ics.uci.edu/ml/machine-learning-databases/voting-records/house-votes-84.data\")\n",
    "\n",
    "votes = read_csv('votes.csv', header=0)\n",
    "votes.head(5)"
   ]
  },
  {
   "cell_type": "code",
   "execution_count": 18,
   "metadata": {
    "collapsed": false
   },
   "outputs": [
    {
     "data": {
      "text/plain": [
       "435"
      ]
     },
     "execution_count": 18,
     "metadata": {},
     "output_type": "execute_result"
    }
   ],
   "source": [
    "len(votes)"
   ]
  },
  {
   "cell_type": "code",
   "execution_count": null,
   "metadata": {
    "collapsed": true
   },
   "outputs": [],
   "source": [
    "w['immigration'] = w['immigration'].map({'y': 1, 'n': 0})"
   ]
  }
 ],
 "metadata": {
  "kernelspec": {
   "display_name": "Python 2",
   "language": "python",
   "name": "python2"
  },
  "language_info": {
   "codemirror_mode": {
    "name": "ipython",
    "version": 2
   },
   "file_extension": ".py",
   "mimetype": "text/x-python",
   "name": "python",
   "nbconvert_exporter": "python",
   "pygments_lexer": "ipython2",
   "version": "2.7.9"
  }
 },
 "nbformat": 4,
 "nbformat_minor": 0
}
