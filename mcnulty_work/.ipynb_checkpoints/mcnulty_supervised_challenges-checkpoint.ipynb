{
 "cells": [
  {
   "cell_type": "code",
   "execution_count": 1,
   "metadata": {
    "collapsed": true
   },
   "outputs": [],
   "source": [
    "from sklearn.neighbors import KNeighborsClassifier\n",
    "import csv\n",
    "import pickle\n",
    "import re\n",
    "from datetime import datetime\n",
    "import numpy as np\n",
    "# randn = np.random.randn\n",
    "from pandas import *\n",
    "import pandas as pd\n",
    "import matplotlib.pyplot as plt\n",
    "import statsmodels.formula.api as smf\n",
    "from scipy.stats import linregress\n",
    "from pylab import *\n",
    "from urllib import urlopen\n",
    "from sklearn.cross_validation import train_test_split\n",
    "from sklearn.linear_model import LogisticRegression"
   ]
  },
  {
   "cell_type": "code",
   "execution_count": 2,
   "metadata": {
    "collapsed": false,
    "scrolled": true
   },
   "outputs": [
    {
     "data": {
      "text/html": [
       "<div style=\"max-height:1000px;max-width:1500px;overflow:auto;\">\n",
       "<table border=\"1\" class=\"dataframe\">\n",
       "  <thead>\n",
       "    <tr style=\"text-align: right;\">\n",
       "      <th></th>\n",
       "      <th>Class Name</th>\n",
       "      <th>handicapped-infants</th>\n",
       "      <th>water-project-cost-sharing</th>\n",
       "      <th>adoption-of-the-budget-resolution</th>\n",
       "      <th>physician-fee-freeze</th>\n",
       "      <th>el-salvador-aid</th>\n",
       "      <th>religious-groups-in-schools</th>\n",
       "      <th>anti-satellite-test-ban</th>\n",
       "      <th>aid-to-nicaraguan-contras</th>\n",
       "      <th>mx-missile</th>\n",
       "      <th>immigration</th>\n",
       "      <th>synfuels-corporation-cutback</th>\n",
       "      <th>education-spending</th>\n",
       "      <th>superfund-right-to-sue</th>\n",
       "      <th>crime</th>\n",
       "      <th>duty-free-exports</th>\n",
       "      <th>export-administration-act-south-africa</th>\n",
       "    </tr>\n",
       "  </thead>\n",
       "  <tbody>\n",
       "    <tr>\n",
       "      <th>0</th>\n",
       "      <td> republican</td>\n",
       "      <td> n</td>\n",
       "      <td> y</td>\n",
       "      <td> n</td>\n",
       "      <td> y</td>\n",
       "      <td> y</td>\n",
       "      <td> y</td>\n",
       "      <td> n</td>\n",
       "      <td> n</td>\n",
       "      <td> n</td>\n",
       "      <td> y</td>\n",
       "      <td> ?</td>\n",
       "      <td> y</td>\n",
       "      <td> y</td>\n",
       "      <td> y</td>\n",
       "      <td> n</td>\n",
       "      <td> y</td>\n",
       "    </tr>\n",
       "    <tr>\n",
       "      <th>1</th>\n",
       "      <td> republican</td>\n",
       "      <td> n</td>\n",
       "      <td> y</td>\n",
       "      <td> n</td>\n",
       "      <td> y</td>\n",
       "      <td> y</td>\n",
       "      <td> y</td>\n",
       "      <td> n</td>\n",
       "      <td> n</td>\n",
       "      <td> n</td>\n",
       "      <td> n</td>\n",
       "      <td> n</td>\n",
       "      <td> y</td>\n",
       "      <td> y</td>\n",
       "      <td> y</td>\n",
       "      <td> n</td>\n",
       "      <td> ?</td>\n",
       "    </tr>\n",
       "    <tr>\n",
       "      <th>2</th>\n",
       "      <td>   democrat</td>\n",
       "      <td> ?</td>\n",
       "      <td> y</td>\n",
       "      <td> y</td>\n",
       "      <td> ?</td>\n",
       "      <td> y</td>\n",
       "      <td> y</td>\n",
       "      <td> n</td>\n",
       "      <td> n</td>\n",
       "      <td> n</td>\n",
       "      <td> n</td>\n",
       "      <td> y</td>\n",
       "      <td> n</td>\n",
       "      <td> y</td>\n",
       "      <td> y</td>\n",
       "      <td> n</td>\n",
       "      <td> n</td>\n",
       "    </tr>\n",
       "    <tr>\n",
       "      <th>3</th>\n",
       "      <td>   democrat</td>\n",
       "      <td> n</td>\n",
       "      <td> y</td>\n",
       "      <td> y</td>\n",
       "      <td> n</td>\n",
       "      <td> ?</td>\n",
       "      <td> y</td>\n",
       "      <td> n</td>\n",
       "      <td> n</td>\n",
       "      <td> n</td>\n",
       "      <td> n</td>\n",
       "      <td> y</td>\n",
       "      <td> n</td>\n",
       "      <td> y</td>\n",
       "      <td> n</td>\n",
       "      <td> n</td>\n",
       "      <td> y</td>\n",
       "    </tr>\n",
       "    <tr>\n",
       "      <th>4</th>\n",
       "      <td>   democrat</td>\n",
       "      <td> y</td>\n",
       "      <td> y</td>\n",
       "      <td> y</td>\n",
       "      <td> n</td>\n",
       "      <td> y</td>\n",
       "      <td> y</td>\n",
       "      <td> n</td>\n",
       "      <td> n</td>\n",
       "      <td> n</td>\n",
       "      <td> n</td>\n",
       "      <td> y</td>\n",
       "      <td> ?</td>\n",
       "      <td> y</td>\n",
       "      <td> y</td>\n",
       "      <td> y</td>\n",
       "      <td> y</td>\n",
       "    </tr>\n",
       "    <tr>\n",
       "      <th>5</th>\n",
       "      <td>   democrat</td>\n",
       "      <td> n</td>\n",
       "      <td> y</td>\n",
       "      <td> y</td>\n",
       "      <td> n</td>\n",
       "      <td> y</td>\n",
       "      <td> y</td>\n",
       "      <td> n</td>\n",
       "      <td> n</td>\n",
       "      <td> n</td>\n",
       "      <td> n</td>\n",
       "      <td> n</td>\n",
       "      <td> n</td>\n",
       "      <td> y</td>\n",
       "      <td> y</td>\n",
       "      <td> y</td>\n",
       "      <td> y</td>\n",
       "    </tr>\n",
       "    <tr>\n",
       "      <th>6</th>\n",
       "      <td>   democrat</td>\n",
       "      <td> n</td>\n",
       "      <td> y</td>\n",
       "      <td> n</td>\n",
       "      <td> y</td>\n",
       "      <td> y</td>\n",
       "      <td> y</td>\n",
       "      <td> n</td>\n",
       "      <td> n</td>\n",
       "      <td> n</td>\n",
       "      <td> n</td>\n",
       "      <td> n</td>\n",
       "      <td> n</td>\n",
       "      <td> ?</td>\n",
       "      <td> y</td>\n",
       "      <td> y</td>\n",
       "      <td> y</td>\n",
       "    </tr>\n",
       "    <tr>\n",
       "      <th>7</th>\n",
       "      <td> republican</td>\n",
       "      <td> n</td>\n",
       "      <td> y</td>\n",
       "      <td> n</td>\n",
       "      <td> y</td>\n",
       "      <td> y</td>\n",
       "      <td> y</td>\n",
       "      <td> n</td>\n",
       "      <td> n</td>\n",
       "      <td> n</td>\n",
       "      <td> n</td>\n",
       "      <td> n</td>\n",
       "      <td> n</td>\n",
       "      <td> y</td>\n",
       "      <td> y</td>\n",
       "      <td> ?</td>\n",
       "      <td> y</td>\n",
       "    </tr>\n",
       "    <tr>\n",
       "      <th>8</th>\n",
       "      <td> republican</td>\n",
       "      <td> n</td>\n",
       "      <td> y</td>\n",
       "      <td> n</td>\n",
       "      <td> y</td>\n",
       "      <td> y</td>\n",
       "      <td> y</td>\n",
       "      <td> n</td>\n",
       "      <td> n</td>\n",
       "      <td> n</td>\n",
       "      <td> n</td>\n",
       "      <td> n</td>\n",
       "      <td> y</td>\n",
       "      <td> y</td>\n",
       "      <td> y</td>\n",
       "      <td> n</td>\n",
       "      <td> y</td>\n",
       "    </tr>\n",
       "    <tr>\n",
       "      <th>9</th>\n",
       "      <td>   democrat</td>\n",
       "      <td> y</td>\n",
       "      <td> y</td>\n",
       "      <td> y</td>\n",
       "      <td> n</td>\n",
       "      <td> n</td>\n",
       "      <td> n</td>\n",
       "      <td> y</td>\n",
       "      <td> y</td>\n",
       "      <td> y</td>\n",
       "      <td> n</td>\n",
       "      <td> n</td>\n",
       "      <td> n</td>\n",
       "      <td> n</td>\n",
       "      <td> n</td>\n",
       "      <td> ?</td>\n",
       "      <td> ?</td>\n",
       "    </tr>\n",
       "  </tbody>\n",
       "</table>\n",
       "</div>"
      ],
      "text/plain": [
       "   Class Name handicapped-infants water-project-cost-sharing  \\\n",
       "0  republican                   n                          y   \n",
       "1  republican                   n                          y   \n",
       "2    democrat                   ?                          y   \n",
       "3    democrat                   n                          y   \n",
       "4    democrat                   y                          y   \n",
       "5    democrat                   n                          y   \n",
       "6    democrat                   n                          y   \n",
       "7  republican                   n                          y   \n",
       "8  republican                   n                          y   \n",
       "9    democrat                   y                          y   \n",
       "\n",
       "  adoption-of-the-budget-resolution physician-fee-freeze el-salvador-aid  \\\n",
       "0                                 n                    y               y   \n",
       "1                                 n                    y               y   \n",
       "2                                 y                    ?               y   \n",
       "3                                 y                    n               ?   \n",
       "4                                 y                    n               y   \n",
       "5                                 y                    n               y   \n",
       "6                                 n                    y               y   \n",
       "7                                 n                    y               y   \n",
       "8                                 n                    y               y   \n",
       "9                                 y                    n               n   \n",
       "\n",
       "  religious-groups-in-schools anti-satellite-test-ban  \\\n",
       "0                           y                       n   \n",
       "1                           y                       n   \n",
       "2                           y                       n   \n",
       "3                           y                       n   \n",
       "4                           y                       n   \n",
       "5                           y                       n   \n",
       "6                           y                       n   \n",
       "7                           y                       n   \n",
       "8                           y                       n   \n",
       "9                           n                       y   \n",
       "\n",
       "  aid-to-nicaraguan-contras mx-missile immigration  \\\n",
       "0                         n          n           y   \n",
       "1                         n          n           n   \n",
       "2                         n          n           n   \n",
       "3                         n          n           n   \n",
       "4                         n          n           n   \n",
       "5                         n          n           n   \n",
       "6                         n          n           n   \n",
       "7                         n          n           n   \n",
       "8                         n          n           n   \n",
       "9                         y          y           n   \n",
       "\n",
       "  synfuels-corporation-cutback education-spending superfund-right-to-sue  \\\n",
       "0                            ?                  y                      y   \n",
       "1                            n                  y                      y   \n",
       "2                            y                  n                      y   \n",
       "3                            y                  n                      y   \n",
       "4                            y                  ?                      y   \n",
       "5                            n                  n                      y   \n",
       "6                            n                  n                      ?   \n",
       "7                            n                  n                      y   \n",
       "8                            n                  y                      y   \n",
       "9                            n                  n                      n   \n",
       "\n",
       "  crime duty-free-exports export-administration-act-south-africa  \n",
       "0     y                 n                                      y  \n",
       "1     y                 n                                      ?  \n",
       "2     y                 n                                      n  \n",
       "3     n                 n                                      y  \n",
       "4     y                 y                                      y  \n",
       "5     y                 y                                      y  \n",
       "6     y                 y                                      y  \n",
       "7     y                 ?                                      y  \n",
       "8     y                 n                                      y  \n",
       "9     n                 ?                                      ?  "
      ]
     },
     "execution_count": 2,
     "metadata": {},
     "output_type": "execute_result"
    }
   ],
   "source": [
    "# page = urlopen(\"https://archive.ics.uci.edu/ml/machine-learning-databases/voting-records/house-votes-84.data\")\n",
    "\n",
    "votes = read_csv('votes.csv', header=0)\n",
    "votes.head(10)"
   ]
  },
  {
   "cell_type": "markdown",
   "metadata": {},
   "source": [
    "# Supervised Learning Challenges"
   ]
  },
  {
   "cell_type": "markdown",
   "metadata": {},
   "source": [
    "## Challenge 01 (completed)"
   ]
  },
  {
   "cell_type": "code",
   "execution_count": 3,
   "metadata": {
    "collapsed": false
   },
   "outputs": [
    {
     "data": {
      "text/plain": [
       "435"
      ]
     },
     "execution_count": 3,
     "metadata": {},
     "output_type": "execute_result"
    }
   ],
   "source": [
    "len(votes)"
   ]
  },
  {
   "cell_type": "code",
   "execution_count": 4,
   "metadata": {
    "collapsed": false
   },
   "outputs": [],
   "source": [
    "for c in votes.columns:\n",
    "    if c <> u'Class Name':\n",
    "        votes[c] = votes[c].map({'y': 1, 'n': 0})"
   ]
  },
  {
   "cell_type": "code",
   "execution_count": 5,
   "metadata": {
    "collapsed": false
   },
   "outputs": [
    {
     "data": {
      "text/plain": [
       "Index([u'Class Name', u'handicapped-infants', u'water-project-cost-sharing', u'adoption-of-the-budget-resolution', u'physician-fee-freeze', u'el-salvador-aid', u'religious-groups-in-schools', u'anti-satellite-test-ban', u'aid-to-nicaraguan-contras', u'mx-missile', u'immigration', u'synfuels-corporation-cutback', u'education-spending', u'superfund-right-to-sue', u'crime', u'duty-free-exports', u'export-administration-act-south-africa'], dtype='object')"
      ]
     },
     "execution_count": 5,
     "metadata": {},
     "output_type": "execute_result"
    }
   ],
   "source": [
    "votes.columns"
   ]
  },
  {
   "cell_type": "code",
   "execution_count": 6,
   "metadata": {
    "collapsed": false
   },
   "outputs": [
    {
     "data": {
      "text/plain": [
       "168"
      ]
     },
     "execution_count": 6,
     "metadata": {},
     "output_type": "execute_result"
    }
   ],
   "source": [
    "(votes['Class Name'] == 'republican').sum()"
   ]
  },
  {
   "cell_type": "code",
   "execution_count": 7,
   "metadata": {
    "collapsed": false
   },
   "outputs": [
    {
     "data": {
      "text/plain": [
       "267"
      ]
     },
     "execution_count": 7,
     "metadata": {},
     "output_type": "execute_result"
    }
   ],
   "source": [
    "(votes['Class Name'] == 'democrat').sum()"
   ]
  },
  {
   "cell_type": "code",
   "execution_count": 8,
   "metadata": {
    "collapsed": false
   },
   "outputs": [],
   "source": [
    "nan_d = []\n",
    "nan_r = []\n",
    "yes_d = []\n",
    "yes_r = []\n",
    "dem_votes = {}\n",
    "rep_votes = {}\n",
    "for c in votes.columns:\n",
    "    if c <> u'Class Name':\n",
    "        nan_dem = pd.isnull(votes[c][votes['Class Name'] == 'democrat']).sum()\n",
    "        nan_rep = pd.isnull(votes[c][votes['Class Name'] == 'republican']).sum()\n",
    "        yes_dem = (votes[c][votes['Class Name'] == 'democrat']).sum()/(267 - nan_dem)\n",
    "        yes_rep = (votes[c][votes['Class Name'] == 'republican']).sum()/(168 - nan_rep)\n",
    "        dem_votes.setdefault(c, [])\n",
    "        rep_votes.setdefault(c, [])\n",
    "        if yes_dem >= 0.5:\n",
    "            dem_votes[c].append(1)\n",
    "        else:\n",
    "            dem_votes[c].append(0)\n",
    "\n",
    "        if yes_rep >=0.5:\n",
    "            rep_votes[c].append(1)\n",
    "        else:\n",
    "            rep_votes[c].append(0)\n",
    "        nan_d.append(nan_dem)\n",
    "        nan_r.append(nan_rep)\n",
    "        yes_d.append((votes[c][votes['Class Name'] == 'democrat']).sum())\n",
    "        yes_r.append((votes[c][votes['Class Name'] == 'republican']).sum())\n"
   ]
  },
  {
   "cell_type": "code",
   "execution_count": 9,
   "metadata": {
    "collapsed": false
   },
   "outputs": [
    {
     "data": {
      "text/plain": [
       "{'adoption-of-the-budget-resolution': [1],\n",
       " 'aid-to-nicaraguan-contras': [1],\n",
       " 'anti-satellite-test-ban': [1],\n",
       " 'crime': [0],\n",
       " 'duty-free-exports': [1],\n",
       " 'education-spending': [0],\n",
       " 'el-salvador-aid': [0],\n",
       " 'export-administration-act-south-africa': [1],\n",
       " 'handicapped-infants': [1],\n",
       " 'immigration': [0],\n",
       " 'mx-missile': [1],\n",
       " 'physician-fee-freeze': [0],\n",
       " 'religious-groups-in-schools': [0],\n",
       " 'superfund-right-to-sue': [0],\n",
       " 'synfuels-corporation-cutback': [1],\n",
       " 'water-project-cost-sharing': [1]}"
      ]
     },
     "execution_count": 9,
     "metadata": {},
     "output_type": "execute_result"
    }
   ],
   "source": [
    "dem_votes"
   ]
  },
  {
   "cell_type": "code",
   "execution_count": 10,
   "metadata": {
    "collapsed": false
   },
   "outputs": [
    {
     "data": {
      "text/plain": [
       "{'adoption-of-the-budget-resolution': [0],\n",
       " 'aid-to-nicaraguan-contras': [0],\n",
       " 'anti-satellite-test-ban': [0],\n",
       " 'crime': [1],\n",
       " 'duty-free-exports': [0],\n",
       " 'education-spending': [1],\n",
       " 'el-salvador-aid': [1],\n",
       " 'export-administration-act-south-africa': [1],\n",
       " 'handicapped-infants': [0],\n",
       " 'immigration': [1],\n",
       " 'mx-missile': [0],\n",
       " 'physician-fee-freeze': [1],\n",
       " 'religious-groups-in-schools': [1],\n",
       " 'superfund-right-to-sue': [1],\n",
       " 'synfuels-corporation-cutback': [0],\n",
       " 'water-project-cost-sharing': [1]}"
      ]
     },
     "execution_count": 10,
     "metadata": {},
     "output_type": "execute_result"
    }
   ],
   "source": [
    "rep_votes"
   ]
  },
  {
   "cell_type": "code",
   "execution_count": 11,
   "metadata": {
    "collapsed": false
   },
   "outputs": [
    {
     "name": "stderr",
     "output_type": "stream",
     "text": [
      "/usr/local/lib/python2.7/site-packages/IPython/kernel/__main__.py:6: SettingWithCopyWarning: \n",
      "A value is trying to be set on a copy of a slice from a DataFrame\n",
      "\n",
      "See the the caveats in the documentation: http://pandas.pydata.org/pandas-docs/stable/indexing.html#indexing-view-versus-copy\n",
      "/usr/local/lib/python2.7/site-packages/IPython/kernel/__main__.py:8: SettingWithCopyWarning: \n",
      "A value is trying to be set on a copy of a slice from a DataFrame\n",
      "\n",
      "See the the caveats in the documentation: http://pandas.pydata.org/pandas-docs/stable/indexing.html#indexing-view-versus-copy\n"
     ]
    }
   ],
   "source": [
    "for c in votes.columns:\n",
    "    if c <> u'Class Name':\n",
    "        for r in range(len(votes)):\n",
    "            if pd.isnull(votes[c][r]):\n",
    "                if votes['Class Name'][r] == 'democrat':\n",
    "                    votes[c][r] = dem_votes[c][0]\n",
    "                else:\n",
    "                    votes[c][r] = rep_votes[c][0]\n"
   ]
  },
  {
   "cell_type": "code",
   "execution_count": 12,
   "metadata": {
    "collapsed": false
   },
   "outputs": [
    {
     "data": {
      "text/html": [
       "<div style=\"max-height:1000px;max-width:1500px;overflow:auto;\">\n",
       "<table border=\"1\" class=\"dataframe\">\n",
       "  <thead>\n",
       "    <tr style=\"text-align: right;\">\n",
       "      <th></th>\n",
       "      <th>Class Name</th>\n",
       "      <th>handicapped-infants</th>\n",
       "      <th>water-project-cost-sharing</th>\n",
       "      <th>adoption-of-the-budget-resolution</th>\n",
       "      <th>physician-fee-freeze</th>\n",
       "      <th>el-salvador-aid</th>\n",
       "      <th>religious-groups-in-schools</th>\n",
       "      <th>anti-satellite-test-ban</th>\n",
       "      <th>aid-to-nicaraguan-contras</th>\n",
       "      <th>mx-missile</th>\n",
       "      <th>immigration</th>\n",
       "      <th>synfuels-corporation-cutback</th>\n",
       "      <th>education-spending</th>\n",
       "      <th>superfund-right-to-sue</th>\n",
       "      <th>crime</th>\n",
       "      <th>duty-free-exports</th>\n",
       "      <th>export-administration-act-south-africa</th>\n",
       "    </tr>\n",
       "  </thead>\n",
       "  <tbody>\n",
       "    <tr>\n",
       "      <th>0</th>\n",
       "      <td> republican</td>\n",
       "      <td> 0</td>\n",
       "      <td> 1</td>\n",
       "      <td> 0</td>\n",
       "      <td> 1</td>\n",
       "      <td> 1</td>\n",
       "      <td> 1</td>\n",
       "      <td> 0</td>\n",
       "      <td> 0</td>\n",
       "      <td> 0</td>\n",
       "      <td> 1</td>\n",
       "      <td> 0</td>\n",
       "      <td> 1</td>\n",
       "      <td> 1</td>\n",
       "      <td> 1</td>\n",
       "      <td> 0</td>\n",
       "      <td> 1</td>\n",
       "    </tr>\n",
       "    <tr>\n",
       "      <th>1</th>\n",
       "      <td> republican</td>\n",
       "      <td> 0</td>\n",
       "      <td> 1</td>\n",
       "      <td> 0</td>\n",
       "      <td> 1</td>\n",
       "      <td> 1</td>\n",
       "      <td> 1</td>\n",
       "      <td> 0</td>\n",
       "      <td> 0</td>\n",
       "      <td> 0</td>\n",
       "      <td> 0</td>\n",
       "      <td> 0</td>\n",
       "      <td> 1</td>\n",
       "      <td> 1</td>\n",
       "      <td> 1</td>\n",
       "      <td> 0</td>\n",
       "      <td> 1</td>\n",
       "    </tr>\n",
       "    <tr>\n",
       "      <th>2</th>\n",
       "      <td>   democrat</td>\n",
       "      <td> 1</td>\n",
       "      <td> 1</td>\n",
       "      <td> 1</td>\n",
       "      <td> 0</td>\n",
       "      <td> 1</td>\n",
       "      <td> 1</td>\n",
       "      <td> 0</td>\n",
       "      <td> 0</td>\n",
       "      <td> 0</td>\n",
       "      <td> 0</td>\n",
       "      <td> 1</td>\n",
       "      <td> 0</td>\n",
       "      <td> 1</td>\n",
       "      <td> 1</td>\n",
       "      <td> 0</td>\n",
       "      <td> 0</td>\n",
       "    </tr>\n",
       "    <tr>\n",
       "      <th>3</th>\n",
       "      <td>   democrat</td>\n",
       "      <td> 0</td>\n",
       "      <td> 1</td>\n",
       "      <td> 1</td>\n",
       "      <td> 0</td>\n",
       "      <td> 0</td>\n",
       "      <td> 1</td>\n",
       "      <td> 0</td>\n",
       "      <td> 0</td>\n",
       "      <td> 0</td>\n",
       "      <td> 0</td>\n",
       "      <td> 1</td>\n",
       "      <td> 0</td>\n",
       "      <td> 1</td>\n",
       "      <td> 0</td>\n",
       "      <td> 0</td>\n",
       "      <td> 1</td>\n",
       "    </tr>\n",
       "    <tr>\n",
       "      <th>4</th>\n",
       "      <td>   democrat</td>\n",
       "      <td> 1</td>\n",
       "      <td> 1</td>\n",
       "      <td> 1</td>\n",
       "      <td> 0</td>\n",
       "      <td> 1</td>\n",
       "      <td> 1</td>\n",
       "      <td> 0</td>\n",
       "      <td> 0</td>\n",
       "      <td> 0</td>\n",
       "      <td> 0</td>\n",
       "      <td> 1</td>\n",
       "      <td> 0</td>\n",
       "      <td> 1</td>\n",
       "      <td> 1</td>\n",
       "      <td> 1</td>\n",
       "      <td> 1</td>\n",
       "    </tr>\n",
       "    <tr>\n",
       "      <th>5</th>\n",
       "      <td>   democrat</td>\n",
       "      <td> 0</td>\n",
       "      <td> 1</td>\n",
       "      <td> 1</td>\n",
       "      <td> 0</td>\n",
       "      <td> 1</td>\n",
       "      <td> 1</td>\n",
       "      <td> 0</td>\n",
       "      <td> 0</td>\n",
       "      <td> 0</td>\n",
       "      <td> 0</td>\n",
       "      <td> 0</td>\n",
       "      <td> 0</td>\n",
       "      <td> 1</td>\n",
       "      <td> 1</td>\n",
       "      <td> 1</td>\n",
       "      <td> 1</td>\n",
       "    </tr>\n",
       "    <tr>\n",
       "      <th>6</th>\n",
       "      <td>   democrat</td>\n",
       "      <td> 0</td>\n",
       "      <td> 1</td>\n",
       "      <td> 0</td>\n",
       "      <td> 1</td>\n",
       "      <td> 1</td>\n",
       "      <td> 1</td>\n",
       "      <td> 0</td>\n",
       "      <td> 0</td>\n",
       "      <td> 0</td>\n",
       "      <td> 0</td>\n",
       "      <td> 0</td>\n",
       "      <td> 0</td>\n",
       "      <td> 0</td>\n",
       "      <td> 1</td>\n",
       "      <td> 1</td>\n",
       "      <td> 1</td>\n",
       "    </tr>\n",
       "    <tr>\n",
       "      <th>7</th>\n",
       "      <td> republican</td>\n",
       "      <td> 0</td>\n",
       "      <td> 1</td>\n",
       "      <td> 0</td>\n",
       "      <td> 1</td>\n",
       "      <td> 1</td>\n",
       "      <td> 1</td>\n",
       "      <td> 0</td>\n",
       "      <td> 0</td>\n",
       "      <td> 0</td>\n",
       "      <td> 0</td>\n",
       "      <td> 0</td>\n",
       "      <td> 0</td>\n",
       "      <td> 1</td>\n",
       "      <td> 1</td>\n",
       "      <td> 0</td>\n",
       "      <td> 1</td>\n",
       "    </tr>\n",
       "    <tr>\n",
       "      <th>8</th>\n",
       "      <td> republican</td>\n",
       "      <td> 0</td>\n",
       "      <td> 1</td>\n",
       "      <td> 0</td>\n",
       "      <td> 1</td>\n",
       "      <td> 1</td>\n",
       "      <td> 1</td>\n",
       "      <td> 0</td>\n",
       "      <td> 0</td>\n",
       "      <td> 0</td>\n",
       "      <td> 0</td>\n",
       "      <td> 0</td>\n",
       "      <td> 1</td>\n",
       "      <td> 1</td>\n",
       "      <td> 1</td>\n",
       "      <td> 0</td>\n",
       "      <td> 1</td>\n",
       "    </tr>\n",
       "    <tr>\n",
       "      <th>9</th>\n",
       "      <td>   democrat</td>\n",
       "      <td> 1</td>\n",
       "      <td> 1</td>\n",
       "      <td> 1</td>\n",
       "      <td> 0</td>\n",
       "      <td> 0</td>\n",
       "      <td> 0</td>\n",
       "      <td> 1</td>\n",
       "      <td> 1</td>\n",
       "      <td> 1</td>\n",
       "      <td> 0</td>\n",
       "      <td> 0</td>\n",
       "      <td> 0</td>\n",
       "      <td> 0</td>\n",
       "      <td> 0</td>\n",
       "      <td> 1</td>\n",
       "      <td> 1</td>\n",
       "    </tr>\n",
       "  </tbody>\n",
       "</table>\n",
       "</div>"
      ],
      "text/plain": [
       "   Class Name  handicapped-infants  water-project-cost-sharing  \\\n",
       "0  republican                    0                           1   \n",
       "1  republican                    0                           1   \n",
       "2    democrat                    1                           1   \n",
       "3    democrat                    0                           1   \n",
       "4    democrat                    1                           1   \n",
       "5    democrat                    0                           1   \n",
       "6    democrat                    0                           1   \n",
       "7  republican                    0                           1   \n",
       "8  republican                    0                           1   \n",
       "9    democrat                    1                           1   \n",
       "\n",
       "   adoption-of-the-budget-resolution  physician-fee-freeze  el-salvador-aid  \\\n",
       "0                                  0                     1                1   \n",
       "1                                  0                     1                1   \n",
       "2                                  1                     0                1   \n",
       "3                                  1                     0                0   \n",
       "4                                  1                     0                1   \n",
       "5                                  1                     0                1   \n",
       "6                                  0                     1                1   \n",
       "7                                  0                     1                1   \n",
       "8                                  0                     1                1   \n",
       "9                                  1                     0                0   \n",
       "\n",
       "   religious-groups-in-schools  anti-satellite-test-ban  \\\n",
       "0                            1                        0   \n",
       "1                            1                        0   \n",
       "2                            1                        0   \n",
       "3                            1                        0   \n",
       "4                            1                        0   \n",
       "5                            1                        0   \n",
       "6                            1                        0   \n",
       "7                            1                        0   \n",
       "8                            1                        0   \n",
       "9                            0                        1   \n",
       "\n",
       "   aid-to-nicaraguan-contras  mx-missile  immigration  \\\n",
       "0                          0           0            1   \n",
       "1                          0           0            0   \n",
       "2                          0           0            0   \n",
       "3                          0           0            0   \n",
       "4                          0           0            0   \n",
       "5                          0           0            0   \n",
       "6                          0           0            0   \n",
       "7                          0           0            0   \n",
       "8                          0           0            0   \n",
       "9                          1           1            0   \n",
       "\n",
       "   synfuels-corporation-cutback  education-spending  superfund-right-to-sue  \\\n",
       "0                             0                   1                       1   \n",
       "1                             0                   1                       1   \n",
       "2                             1                   0                       1   \n",
       "3                             1                   0                       1   \n",
       "4                             1                   0                       1   \n",
       "5                             0                   0                       1   \n",
       "6                             0                   0                       0   \n",
       "7                             0                   0                       1   \n",
       "8                             0                   1                       1   \n",
       "9                             0                   0                       0   \n",
       "\n",
       "   crime  duty-free-exports  export-administration-act-south-africa  \n",
       "0      1                  0                                       1  \n",
       "1      1                  0                                       1  \n",
       "2      1                  0                                       0  \n",
       "3      0                  0                                       1  \n",
       "4      1                  1                                       1  \n",
       "5      1                  1                                       1  \n",
       "6      1                  1                                       1  \n",
       "7      1                  0                                       1  \n",
       "8      1                  0                                       1  \n",
       "9      0                  1                                       1  "
      ]
     },
     "execution_count": 12,
     "metadata": {},
     "output_type": "execute_result"
    }
   ],
   "source": [
    "votes.head(10)"
   ]
  },
  {
   "cell_type": "markdown",
   "metadata": {},
   "source": [
    "## Challenge 02 (completed)"
   ]
  },
  {
   "cell_type": "code",
   "execution_count": 13,
   "metadata": {
    "collapsed": false
   },
   "outputs": [
    {
     "name": "stdout",
     "output_type": "stream",
     "text": [
      "(435, 16) (326, 16) (109, 16)\n"
     ]
    }
   ],
   "source": [
    "from sklearn import cross_validation\n",
    "X = votes.drop('Class Name', 1)\n",
    "y = votes['Class Name']\n",
    "\n",
    "X_train, X_test, y_train, y_test = cross_validation.train_test_split(X, y, test_size=0.25, random_state=0)\n",
    "\n",
    "print X.shape, X_train.shape, X_test.shape"
   ]
  },
  {
   "cell_type": "markdown",
   "metadata": {},
   "source": [
    "## Challenge 03 (completed)"
   ]
  },
  {
   "cell_type": "code",
   "execution_count": 14,
   "metadata": {
    "collapsed": true
   },
   "outputs": [],
   "source": [
    "from sklearn.neighbors import KNeighborsClassifier\n",
    "from sklearn.metrics import accuracy_score"
   ]
  },
  {
   "cell_type": "code",
   "execution_count": 15,
   "metadata": {
    "collapsed": false
   },
   "outputs": [],
   "source": [
    "acc_scores = {}\n",
    "for n in range(20):\n",
    "    clf = KNeighborsClassifier(n_neighbors=(n+1)).fit(X_train, y_train)\n",
    "    y_pred = clf.predict(X_test)\n",
    "    acc_scores.setdefault((n+1), [])\n",
    "    acc_scores[(n+1)].append(accuracy_score(y_test, y_pred))\n"
   ]
  },
  {
   "cell_type": "code",
   "execution_count": 16,
   "metadata": {
    "collapsed": false
   },
   "outputs": [
    {
     "name": "stdout",
     "output_type": "stream",
     "text": [
      "{1: [0.90825688073394495], 2: [0.92660550458715596], 3: [0.94495412844036697], 4: [0.94495412844036697], 5: [0.94495412844036697], 6: [0.94495412844036697], 7: [0.94495412844036697], 8: [0.94495412844036697], 9: [0.94495412844036697], 10: [0.94495412844036697], 11: [0.93577981651376152], 12: [0.94495412844036697], 13: [0.94495412844036697], 14: [0.93577981651376152], 15: [0.92660550458715596], 16: [0.93577981651376152], 17: [0.92660550458715596], 18: [0.92660550458715596], 19: [0.90825688073394495], 20: [0.91743119266055051]}\n"
     ]
    }
   ],
   "source": [
    "print acc_scores"
   ]
  },
  {
   "cell_type": "code",
   "execution_count": 17,
   "metadata": {
    "collapsed": false
   },
   "outputs": [
    {
     "data": {
      "text/plain": [
       "3"
      ]
     },
     "execution_count": 17,
     "metadata": {},
     "output_type": "execute_result"
    }
   ],
   "source": [
    "max(acc_scores, key=acc_scores.get)"
   ]
  },
  {
   "cell_type": "markdown",
   "metadata": {},
   "source": [
    "## Challenge 04 (completed)"
   ]
  },
  {
   "cell_type": "code",
   "execution_count": 18,
   "metadata": {
    "collapsed": false
   },
   "outputs": [
    {
     "data": {
      "text/plain": [
       "0.97247706422018354"
      ]
     },
     "execution_count": 18,
     "metadata": {},
     "output_type": "execute_result"
    }
   ],
   "source": [
    "log_model = LogisticRegression()\n",
    "log_model = log_model.fit(X_train, y_train)\n",
    "y_pred = log_model.predict(X_test)\n",
    "accuracy_score(y_test, y_pred)"
   ]
  },
  {
   "cell_type": "markdown",
   "metadata": {},
   "source": [
    "## Challenge 05 (completed)"
   ]
  },
  {
   "cell_type": "code",
   "execution_count": 19,
   "metadata": {
    "collapsed": false
   },
   "outputs": [
    {
     "name": "stdout",
     "output_type": "stream",
     "text": [
      "Populating the interactive namespace from numpy and matplotlib\n"
     ]
    },
    {
     "name": "stderr",
     "output_type": "stream",
     "text": [
      "WARNING: pylab import has clobbered these variables: ['linalg', 'draw_if_interactive', 'random', 'clf', 'power', 'info', 'fft']\n",
      "`%matplotlib` prevents importing * from pylab and numpy\n"
     ]
    },
    {
     "data": {
      "text/plain": [
       "<Container object of 2 artists>"
      ]
     },
     "execution_count": 19,
     "metadata": {},
     "output_type": "execute_result"
    },
    {
     "data": {
      "image/png": "[encoded data removed]",
      "text/plain": [
       "<matplotlib.figure.Figure at 0x10ea80050>"
      ]
     },
     "metadata": {},
     "output_type": "display_data"
    }
   ],
   "source": [
    "%pylab inline\n",
    "parties = ['Democrats', 'Republicans']\n",
    "voters = []\n",
    "voters.append((votes['Class Name'] == 'democrat').sum())\n",
    "voters.append((votes['Class Name'] == 'republican').sum())\n",
    "pos = np.arange(len(parties))\n",
    "width = 1.0\n",
    "ax = plt.axes()\n",
    "ax.set_xticks(pos + (width / 2))\n",
    "ax.set_xticklabels(parties)\n",
    "plt.bar(pos, voters, width, color=['blue', 'red'])"
   ]
  },
  {
   "cell_type": "code",
   "execution_count": 20,
   "metadata": {
    "collapsed": false
   },
   "outputs": [],
   "source": [
    "def dem_array(dem_ar):\n",
    "    dem_ypred = []\n",
    "    for i in range(len(dem_ar)):\n",
    "        dem_ypred.append('democrat')\n",
    "    \n",
    "    return dem_ypred\n",
    "\n",
    "def rep_array(rep_ar):\n",
    "    rep_ypred = []\n",
    "    for i in range(len(rep_ar)):\n",
    "        rep_ypred.append('republican')\n",
    "    \n",
    "    return rep_ypred\n",
    "\n",
    "y_dem = dem_array(votes)\n",
    "y_rep = rep_array(votes)"
   ]
  },
  {
   "cell_type": "code",
   "execution_count": 21,
   "metadata": {
    "collapsed": false
   },
   "outputs": [
    {
     "data": {
      "text/plain": [
       "0.61379310344827587"
      ]
     },
     "execution_count": 21,
     "metadata": {},
     "output_type": "execute_result"
    }
   ],
   "source": [
    "y_actual = votes['Class Name']\n",
    "dem_accur = accuracy_score(y_actual, y_dem)\n",
    "dem_accur"
   ]
  },
  {
   "cell_type": "code",
   "execution_count": 22,
   "metadata": {
    "collapsed": false
   },
   "outputs": [
    {
     "data": {
      "text/plain": [
       "0.38620689655172413"
      ]
     },
     "execution_count": 22,
     "metadata": {},
     "output_type": "execute_result"
    }
   ],
   "source": [
    "rep_accur = accuracy_score(y_actual, y_rep)\n",
    "rep_accur"
   ]
  },
  {
   "cell_type": "markdown",
   "metadata": {},
   "source": [
    "## Challenge 06 (completed)"
   ]
  },
  {
   "cell_type": "code",
   "execution_count": 23,
   "metadata": {
    "collapsed": false
   },
   "outputs": [],
   "source": [
    "dem_y = []\n",
    "rep_y =[]\n",
    "for i in range(20):\n",
    "    dem_y.append(dem_accur)\n",
    "    rep_y.append(rep_accur)"
   ]
  },
  {
   "cell_type": "code",
   "execution_count": 24,
   "metadata": {
    "collapsed": false
   },
   "outputs": [
    {
     "data": {
      "text/plain": [
       "[<matplotlib.lines.Line2D at 0x10eda8b90>]"
      ]
     },
     "execution_count": 24,
     "metadata": {},
     "output_type": "execute_result"
    },
    {
     "data": {
      "image/png": "[encoded data removed]",
      "text/plain": [
       "<matplotlib.figure.Figure at 0x10ea802d0>"
      ]
     },
     "metadata": {},
     "output_type": "display_data"
    }
   ],
   "source": [
    "plt.ylim(0,1)\n",
    "plt.xticks(range(len(acc_scores)), acc_scores.keys())\n",
    "plt.title('Accuracy by K value', fontweight='bold')\n",
    "plt.xlabel(\"K values\")\n",
    "plt.ylabel(\"Green=Predictions, Blue=Democrats, Red=Republicans\")\n",
    "plt.plot(range(len(acc_scores)), acc_scores.values(), color = 'g')\n",
    "plt.plot(range(len(acc_scores)), dem_y, color = 'b')\n",
    "plt.plot(range(len(acc_scores)), rep_y, color = 'r')"
   ]
  },
  {
   "cell_type": "markdown",
   "metadata": {},
   "source": [
    "## Challenge 07 (completed)"
   ]
  },
  {
   "cell_type": "code",
   "execution_count": 25,
   "metadata": {
    "collapsed": true
   },
   "outputs": [],
   "source": [
    "from sklearn.learning_curve import learning_curve"
   ]
  },
  {
   "cell_type": "code",
   "execution_count": 26,
   "metadata": {
    "collapsed": false
   },
   "outputs": [],
   "source": [
    "train_sample_size, train_scores, test_scores = learning_curve(log_model, X_train, y_train)"
   ]
  },
  {
   "cell_type": "code",
   "execution_count": 27,
   "metadata": {
    "collapsed": false
   },
   "outputs": [
    {
     "data": {
      "text/plain": [
       "array([ 21,  70, 118, 167, 216])"
      ]
     },
     "execution_count": 27,
     "metadata": {},
     "output_type": "execute_result"
    }
   ],
   "source": [
    "train_sample_size"
   ]
  },
  {
   "cell_type": "code",
   "execution_count": 28,
   "metadata": {
    "collapsed": false
   },
   "outputs": [
    {
     "data": {
      "text/plain": [
       "array([[ 0.95238095,  0.9047619 ,  0.9047619 ],\n",
       "       [ 0.97142857,  0.95714286,  0.95714286],\n",
       "       [ 0.98305085,  0.96610169,  0.96610169],\n",
       "       [ 0.98203593,  0.97005988,  0.97005988],\n",
       "       [ 0.98611111,  0.97222222,  0.97222222]])"
      ]
     },
     "execution_count": 28,
     "metadata": {},
     "output_type": "execute_result"
    }
   ],
   "source": [
    "train_scores"
   ]
  },
  {
   "cell_type": "code",
   "execution_count": 29,
   "metadata": {
    "collapsed": false
   },
   "outputs": [
    {
     "data": {
      "text/plain": [
       "array([[ 0.86363636,  0.96296296,  0.9537037 ],\n",
       "       [ 0.92727273,  0.98148148,  0.97222222],\n",
       "       [ 0.92727273,  0.97222222,  0.9537037 ],\n",
       "       [ 0.93636364,  0.98148148,  0.96296296],\n",
       "       [ 0.94545455,  0.98148148,  0.96296296]])"
      ]
     },
     "execution_count": 29,
     "metadata": {},
     "output_type": "execute_result"
    }
   ],
   "source": [
    "test_scores"
   ]
  },
  {
   "cell_type": "code",
   "execution_count": 30,
   "metadata": {
    "collapsed": true
   },
   "outputs": [],
   "source": [
    "train_cv_err = np.mean(train_scores,axis=1)\n",
    "test_cv_err = np.mean(test_scores,axis=1)"
   ]
  },
  {
   "cell_type": "code",
   "execution_count": 31,
   "metadata": {
    "collapsed": false
   },
   "outputs": [
    {
     "data": {
      "text/plain": [
       "array([ 0.92063492,  0.96190476,  0.97175141,  0.9740519 ,  0.97685185])"
      ]
     },
     "execution_count": 31,
     "metadata": {},
     "output_type": "execute_result"
    }
   ],
   "source": [
    "train_cv_err"
   ]
  },
  {
   "cell_type": "code",
   "execution_count": 32,
   "metadata": {
    "collapsed": false
   },
   "outputs": [
    {
     "data": {
      "text/plain": [
       "array([ 0.92676768,  0.96032548,  0.95106622,  0.96026936,  0.96329966])"
      ]
     },
     "execution_count": 32,
     "metadata": {},
     "output_type": "execute_result"
    }
   ],
   "source": [
    "test_cv_err"
   ]
  },
  {
   "cell_type": "code",
   "execution_count": 33,
   "metadata": {
    "collapsed": false
   },
   "outputs": [
    {
     "data": {
      "text/plain": [
       "[<matplotlib.lines.Line2D at 0x10eed1ed0>]"
      ]
     },
     "execution_count": 33,
     "metadata": {},
     "output_type": "execute_result"
    },
    {
     "data": {
      "image/png": "[encoded data removed]",
      "text/plain": [
       "<matplotlib.figure.Figure at 0x10d557fd0>"
      ]
     },
     "metadata": {},
     "output_type": "display_data"
    }
   ],
   "source": [
    "plt.ylim(0.8,1)\n",
    "plt.xticks(range(len(train_sample_size)), train_sample_size)\n",
    "plt.title('Logistic Regression Learning Curve', fontweight='bold')\n",
    "plt.xlabel(\"Sample Sizes\")\n",
    "plt.ylabel(\"Green=Training, Blue=Testing\")\n",
    "plt.plot(range(len(train_cv_err)), train_cv_err, color = 'g')\n",
    "plt.plot(range(len(test_cv_err)), test_cv_err, color = 'b')"
   ]
  },
  {
   "cell_type": "code",
   "execution_count": 34,
   "metadata": {
    "collapsed": false
   },
   "outputs": [],
   "source": [
    "Kmodel = KNeighborsClassifier(n_neighbors=3)"
   ]
  },
  {
   "cell_type": "code",
   "execution_count": 35,
   "metadata": {
    "collapsed": false
   },
   "outputs": [],
   "source": [
    "train_sample_size, train_scores, test_scores = learning_curve(Kmodel, X_train, y_train)"
   ]
  },
  {
   "cell_type": "code",
   "execution_count": 36,
   "metadata": {
    "collapsed": true
   },
   "outputs": [],
   "source": [
    "train_cv_err = np.mean(train_scores,axis=1)\n",
    "test_cv_err = np.mean(test_scores,axis=1)"
   ]
  },
  {
   "cell_type": "code",
   "execution_count": 37,
   "metadata": {
    "collapsed": false
   },
   "outputs": [
    {
     "data": {
      "text/plain": [
       "[<matplotlib.lines.Line2D at 0x10efe4e50>]"
      ]
     },
     "execution_count": 37,
     "metadata": {},
     "output_type": "execute_result"
    },
    {
     "data": {
      "image/png": "[encoded data removed]",
      "text/plain": [
       "<matplotlib.figure.Figure at 0x10898fed0>"
      ]
     },
     "metadata": {},
     "output_type": "display_data"
    }
   ],
   "source": [
    "plt.ylim(0.8,1)\n",
    "plt.xticks(range(len(train_sample_size)), train_sample_size)\n",
    "plt.title('KNN Learning Curve', fontweight='bold')\n",
    "plt.xlabel(\"Sample Sizes\")\n",
    "plt.ylabel(\"Green=Training, Blue=Testing\")\n",
    "plt.plot(range(len(train_cv_err)), train_cv_err, color = 'g')\n",
    "plt.plot(range(len(test_cv_err)), test_cv_err, color = 'b')"
   ]
  },
  {
   "cell_type": "markdown",
   "metadata": {
    "collapsed": true
   },
   "source": [
    "## Challenge 08 (completed)"
   ]
  },
  {
   "cell_type": "code",
   "execution_count": 38,
   "metadata": {
    "collapsed": false
   },
   "outputs": [
    {
     "data": {
      "text/plain": [
       "0.96330275229357798"
      ]
     },
     "execution_count": 38,
     "metadata": {},
     "output_type": "execute_result"
    }
   ],
   "source": [
    "from sklearn.naive_bayes import GaussianNB\n",
    "\n",
    "clf = GaussianNB()\n",
    "gnb_model = clf.fit(X_train, y_train)\n",
    "y_pred = gnb_model.predict(X_test)\n",
    "accuracy_score(y_test, y_pred)"
   ]
  },
  {
   "cell_type": "code",
   "execution_count": 39,
   "metadata": {
    "collapsed": false
   },
   "outputs": [
    {
     "data": {
      "text/plain": [
       "0.97247706422018354"
      ]
     },
     "execution_count": 39,
     "metadata": {},
     "output_type": "execute_result"
    }
   ],
   "source": [
    "from sklearn.svm import SVC\n",
    "\n",
    "clf = SVC()\n",
    "svc_model = clf.fit(X_train, y_train)\n",
    "y_pred = svc_model.predict(X_test)\n",
    "accuracy_score(y_test, y_pred)"
   ]
  },
  {
   "cell_type": "code",
   "execution_count": 40,
   "metadata": {
    "collapsed": false
   },
   "outputs": [
    {
     "data": {
      "text/plain": [
       "0.95412844036697253"
      ]
     },
     "execution_count": 40,
     "metadata": {},
     "output_type": "execute_result"
    }
   ],
   "source": [
    "from sklearn.tree import DecisionTreeClassifier\n",
    "\n",
    "clf = DecisionTreeClassifier()\n",
    "dtc_model = clf.fit(X_train, y_train)\n",
    "y_pred = dtc_model.predict(X_test)\n",
    "accuracy_score(y_test, y_pred)"
   ]
  },
  {
   "cell_type": "code",
   "execution_count": 41,
   "metadata": {
    "collapsed": false
   },
   "outputs": [
    {
     "data": {
      "text/plain": [
       "0.96330275229357798"
      ]
     },
     "execution_count": 41,
     "metadata": {},
     "output_type": "execute_result"
    }
   ],
   "source": [
    "from sklearn.ensemble import RandomForestClassifier\n",
    "\n",
    "clf = RandomForestClassifier()\n",
    "rf_model = clf.fit(X_train, y_train)\n",
    "y_pred = rf_model.predict(X_test)\n",
    "accuracy_score(y_test, y_pred)"
   ]
  },
  {
   "cell_type": "markdown",
   "metadata": {
    "collapsed": true
   },
   "source": [
    "## Challenge 09 (completed)"
   ]
  },
  {
   "cell_type": "code",
   "execution_count": 42,
   "metadata": {
    "collapsed": true
   },
   "outputs": [],
   "source": [
    "from sklearn.cross_validation import cross_val_score"
   ]
  },
  {
   "cell_type": "code",
   "execution_count": 43,
   "metadata": {
    "collapsed": false
   },
   "outputs": [
    {
     "data": {
      "text/plain": [
       "0.92985409652076323"
      ]
     },
     "execution_count": 43,
     "metadata": {},
     "output_type": "execute_result"
    }
   ],
   "source": [
    "test_scores = cross_val_score(gnb_model, X_train, y_train)\n",
    "test_scores\n",
    "np.mean(test_scores)"
   ]
  },
  {
   "cell_type": "code",
   "execution_count": 44,
   "metadata": {
    "collapsed": false
   },
   "outputs": [
    {
     "data": {
      "text/plain": [
       "0.95106621773288424"
      ]
     },
     "execution_count": 44,
     "metadata": {},
     "output_type": "execute_result"
    }
   ],
   "source": [
    "test_scores = cross_val_score(svc_model, X_train, y_train)\n",
    "test_scores\n",
    "np.mean(test_scores)"
   ]
  },
  {
   "cell_type": "code",
   "execution_count": 45,
   "metadata": {
    "collapsed": false
   },
   "outputs": [
    {
     "data": {
      "text/plain": [
       "0.95404040404040413"
      ]
     },
     "execution_count": 45,
     "metadata": {},
     "output_type": "execute_result"
    }
   ],
   "source": [
    "test_scores = cross_val_score(dtc_model, X_train, y_train)\n",
    "test_scores\n",
    "np.mean(test_scores)"
   ]
  },
  {
   "cell_type": "code",
   "execution_count": 46,
   "metadata": {
    "collapsed": false
   },
   "outputs": [
    {
     "data": {
      "text/plain": [
       "0.95106621773288424"
      ]
     },
     "execution_count": 46,
     "metadata": {},
     "output_type": "execute_result"
    }
   ],
   "source": [
    "test_scores = cross_val_score(rf_model, X_train, y_train)\n",
    "test_scores\n",
    "np.mean(test_scores)"
   ]
  },
  {
   "cell_type": "markdown",
   "metadata": {},
   "source": [
    "## Challenge 10 (completed)"
   ]
  },
  {
   "cell_type": "code",
   "execution_count": 104,
   "metadata": {
    "collapsed": false
   },
   "outputs": [],
   "source": [
    "votes2 = read_csv('votes.csv', header=0)\n",
    "votes2.head(10)\n",
    "for c in votes2.columns:\n",
    "    if c <> u'Class Name':\n",
    "        votes2[c] = votes2[c].map({'y': 1, 'n': 0})"
   ]
  },
  {
   "cell_type": "code",
   "execution_count": 105,
   "metadata": {
    "collapsed": false
   },
   "outputs": [
    {
     "data": {
      "text/html": [
       "<div style=\"max-height:1000px;max-width:1500px;overflow:auto;\">\n",
       "<table border=\"1\" class=\"dataframe\">\n",
       "  <thead>\n",
       "    <tr style=\"text-align: right;\">\n",
       "      <th></th>\n",
       "      <th>Class Name</th>\n",
       "      <th>handicapped-infants</th>\n",
       "      <th>water-project-cost-sharing</th>\n",
       "      <th>adoption-of-the-budget-resolution</th>\n",
       "      <th>physician-fee-freeze</th>\n",
       "      <th>el-salvador-aid</th>\n",
       "      <th>religious-groups-in-schools</th>\n",
       "      <th>anti-satellite-test-ban</th>\n",
       "      <th>aid-to-nicaraguan-contras</th>\n",
       "      <th>mx-missile</th>\n",
       "      <th>immigration</th>\n",
       "      <th>synfuels-corporation-cutback</th>\n",
       "      <th>education-spending</th>\n",
       "      <th>superfund-right-to-sue</th>\n",
       "      <th>crime</th>\n",
       "      <th>duty-free-exports</th>\n",
       "      <th>export-administration-act-south-africa</th>\n",
       "    </tr>\n",
       "  </thead>\n",
       "  <tbody>\n",
       "    <tr>\n",
       "      <th>0</th>\n",
       "      <td> republican</td>\n",
       "      <td> n</td>\n",
       "      <td> y</td>\n",
       "      <td> n</td>\n",
       "      <td> y</td>\n",
       "      <td> y</td>\n",
       "      <td> y</td>\n",
       "      <td> n</td>\n",
       "      <td> n</td>\n",
       "      <td> n</td>\n",
       "      <td> y</td>\n",
       "      <td> ?</td>\n",
       "      <td> y</td>\n",
       "      <td> y</td>\n",
       "      <td> y</td>\n",
       "      <td> n</td>\n",
       "      <td> y</td>\n",
       "    </tr>\n",
       "    <tr>\n",
       "      <th>1</th>\n",
       "      <td> republican</td>\n",
       "      <td> n</td>\n",
       "      <td> y</td>\n",
       "      <td> n</td>\n",
       "      <td> y</td>\n",
       "      <td> y</td>\n",
       "      <td> y</td>\n",
       "      <td> n</td>\n",
       "      <td> n</td>\n",
       "      <td> n</td>\n",
       "      <td> n</td>\n",
       "      <td> n</td>\n",
       "      <td> y</td>\n",
       "      <td> y</td>\n",
       "      <td> y</td>\n",
       "      <td> n</td>\n",
       "      <td> ?</td>\n",
       "    </tr>\n",
       "    <tr>\n",
       "      <th>2</th>\n",
       "      <td>   democrat</td>\n",
       "      <td> ?</td>\n",
       "      <td> y</td>\n",
       "      <td> y</td>\n",
       "      <td> ?</td>\n",
       "      <td> y</td>\n",
       "      <td> y</td>\n",
       "      <td> n</td>\n",
       "      <td> n</td>\n",
       "      <td> n</td>\n",
       "      <td> n</td>\n",
       "      <td> y</td>\n",
       "      <td> n</td>\n",
       "      <td> y</td>\n",
       "      <td> y</td>\n",
       "      <td> n</td>\n",
       "      <td> n</td>\n",
       "    </tr>\n",
       "    <tr>\n",
       "      <th>3</th>\n",
       "      <td>   democrat</td>\n",
       "      <td> n</td>\n",
       "      <td> y</td>\n",
       "      <td> y</td>\n",
       "      <td> n</td>\n",
       "      <td> ?</td>\n",
       "      <td> y</td>\n",
       "      <td> n</td>\n",
       "      <td> n</td>\n",
       "      <td> n</td>\n",
       "      <td> n</td>\n",
       "      <td> y</td>\n",
       "      <td> n</td>\n",
       "      <td> y</td>\n",
       "      <td> n</td>\n",
       "      <td> n</td>\n",
       "      <td> y</td>\n",
       "    </tr>\n",
       "    <tr>\n",
       "      <th>4</th>\n",
       "      <td>   democrat</td>\n",
       "      <td> y</td>\n",
       "      <td> y</td>\n",
       "      <td> y</td>\n",
       "      <td> n</td>\n",
       "      <td> y</td>\n",
       "      <td> y</td>\n",
       "      <td> n</td>\n",
       "      <td> n</td>\n",
       "      <td> n</td>\n",
       "      <td> n</td>\n",
       "      <td> y</td>\n",
       "      <td> ?</td>\n",
       "      <td> y</td>\n",
       "      <td> y</td>\n",
       "      <td> y</td>\n",
       "      <td> y</td>\n",
       "    </tr>\n",
       "  </tbody>\n",
       "</table>\n",
       "</div>"
      ],
      "text/plain": [
       "   Class Name handicapped-infants water-project-cost-sharing  \\\n",
       "0  republican                   n                          y   \n",
       "1  republican                   n                          y   \n",
       "2    democrat                   ?                          y   \n",
       "3    democrat                   n                          y   \n",
       "4    democrat                   y                          y   \n",
       "\n",
       "  adoption-of-the-budget-resolution physician-fee-freeze el-salvador-aid  \\\n",
       "0                                 n                    y               y   \n",
       "1                                 n                    y               y   \n",
       "2                                 y                    ?               y   \n",
       "3                                 y                    n               ?   \n",
       "4                                 y                    n               y   \n",
       "\n",
       "  religious-groups-in-schools anti-satellite-test-ban  \\\n",
       "0                           y                       n   \n",
       "1                           y                       n   \n",
       "2                           y                       n   \n",
       "3                           y                       n   \n",
       "4                           y                       n   \n",
       "\n",
       "  aid-to-nicaraguan-contras mx-missile immigration  \\\n",
       "0                         n          n           y   \n",
       "1                         n          n           n   \n",
       "2                         n          n           n   \n",
       "3                         n          n           n   \n",
       "4                         n          n           n   \n",
       "\n",
       "  synfuels-corporation-cutback education-spending superfund-right-to-sue  \\\n",
       "0                            ?                  y                      y   \n",
       "1                            n                  y                      y   \n",
       "2                            y                  n                      y   \n",
       "3                            y                  n                      y   \n",
       "4                            y                  ?                      y   \n",
       "\n",
       "  crime duty-free-exports export-administration-act-south-africa  \n",
       "0     y                 n                                      y  \n",
       "1     y                 n                                      ?  \n",
       "2     y                 n                                      n  \n",
       "3     n                 n                                      y  \n",
       "4     y                 y                                      y  "
      ]
     },
     "execution_count": 105,
     "metadata": {},
     "output_type": "execute_result"
    }
   ],
   "source": [
    "votes2 = read_csv('votes.csv', header=0)\n",
    "votes2.head(5)"
   ]
  },
  {
   "cell_type": "code",
   "execution_count": 106,
   "metadata": {
    "collapsed": false
   },
   "outputs": [
    {
     "data": {
      "text/html": [
       "<div style=\"max-height:1000px;max-width:1500px;overflow:auto;\">\n",
       "<table border=\"1\" class=\"dataframe\">\n",
       "  <thead>\n",
       "    <tr style=\"text-align: right;\">\n",
       "      <th></th>\n",
       "      <th>Class Name</th>\n",
       "      <th>handicapped-infants</th>\n",
       "      <th>water-project-cost-sharing</th>\n",
       "      <th>adoption-of-the-budget-resolution</th>\n",
       "      <th>physician-fee-freeze</th>\n",
       "      <th>el-salvador-aid</th>\n",
       "      <th>religious-groups-in-schools</th>\n",
       "      <th>anti-satellite-test-ban</th>\n",
       "      <th>aid-to-nicaraguan-contras</th>\n",
       "      <th>mx-missile</th>\n",
       "      <th>immigration</th>\n",
       "      <th>synfuels-corporation-cutback</th>\n",
       "      <th>education-spending</th>\n",
       "      <th>superfund-right-to-sue</th>\n",
       "      <th>crime</th>\n",
       "      <th>duty-free-exports</th>\n",
       "      <th>export-administration-act-south-africa</th>\n",
       "    </tr>\n",
       "  </thead>\n",
       "  <tbody>\n",
       "    <tr>\n",
       "      <th>0</th>\n",
       "      <td> republican</td>\n",
       "      <td>  0</td>\n",
       "      <td> 1</td>\n",
       "      <td> 0</td>\n",
       "      <td>  1</td>\n",
       "      <td>  1</td>\n",
       "      <td> 1</td>\n",
       "      <td> 0</td>\n",
       "      <td> 0</td>\n",
       "      <td> 0</td>\n",
       "      <td> 1</td>\n",
       "      <td>NaN</td>\n",
       "      <td>  1</td>\n",
       "      <td> 1</td>\n",
       "      <td> 1</td>\n",
       "      <td> 0</td>\n",
       "      <td>  1</td>\n",
       "    </tr>\n",
       "    <tr>\n",
       "      <th>1</th>\n",
       "      <td> republican</td>\n",
       "      <td>  0</td>\n",
       "      <td> 1</td>\n",
       "      <td> 0</td>\n",
       "      <td>  1</td>\n",
       "      <td>  1</td>\n",
       "      <td> 1</td>\n",
       "      <td> 0</td>\n",
       "      <td> 0</td>\n",
       "      <td> 0</td>\n",
       "      <td> 0</td>\n",
       "      <td>  0</td>\n",
       "      <td>  1</td>\n",
       "      <td> 1</td>\n",
       "      <td> 1</td>\n",
       "      <td> 0</td>\n",
       "      <td>NaN</td>\n",
       "    </tr>\n",
       "    <tr>\n",
       "      <th>2</th>\n",
       "      <td>   democrat</td>\n",
       "      <td>NaN</td>\n",
       "      <td> 1</td>\n",
       "      <td> 1</td>\n",
       "      <td>NaN</td>\n",
       "      <td>  1</td>\n",
       "      <td> 1</td>\n",
       "      <td> 0</td>\n",
       "      <td> 0</td>\n",
       "      <td> 0</td>\n",
       "      <td> 0</td>\n",
       "      <td>  1</td>\n",
       "      <td>  0</td>\n",
       "      <td> 1</td>\n",
       "      <td> 1</td>\n",
       "      <td> 0</td>\n",
       "      <td>  0</td>\n",
       "    </tr>\n",
       "    <tr>\n",
       "      <th>3</th>\n",
       "      <td>   democrat</td>\n",
       "      <td>  0</td>\n",
       "      <td> 1</td>\n",
       "      <td> 1</td>\n",
       "      <td>  0</td>\n",
       "      <td>NaN</td>\n",
       "      <td> 1</td>\n",
       "      <td> 0</td>\n",
       "      <td> 0</td>\n",
       "      <td> 0</td>\n",
       "      <td> 0</td>\n",
       "      <td>  1</td>\n",
       "      <td>  0</td>\n",
       "      <td> 1</td>\n",
       "      <td> 0</td>\n",
       "      <td> 0</td>\n",
       "      <td>  1</td>\n",
       "    </tr>\n",
       "    <tr>\n",
       "      <th>4</th>\n",
       "      <td>   democrat</td>\n",
       "      <td>  1</td>\n",
       "      <td> 1</td>\n",
       "      <td> 1</td>\n",
       "      <td>  0</td>\n",
       "      <td>  1</td>\n",
       "      <td> 1</td>\n",
       "      <td> 0</td>\n",
       "      <td> 0</td>\n",
       "      <td> 0</td>\n",
       "      <td> 0</td>\n",
       "      <td>  1</td>\n",
       "      <td>NaN</td>\n",
       "      <td> 1</td>\n",
       "      <td> 1</td>\n",
       "      <td> 1</td>\n",
       "      <td>  1</td>\n",
       "    </tr>\n",
       "  </tbody>\n",
       "</table>\n",
       "</div>"
      ],
      "text/plain": [
       "   Class Name  handicapped-infants  water-project-cost-sharing  \\\n",
       "0  republican                    0                           1   \n",
       "1  republican                    0                           1   \n",
       "2    democrat                  NaN                           1   \n",
       "3    democrat                    0                           1   \n",
       "4    democrat                    1                           1   \n",
       "\n",
       "   adoption-of-the-budget-resolution  physician-fee-freeze  el-salvador-aid  \\\n",
       "0                                  0                     1                1   \n",
       "1                                  0                     1                1   \n",
       "2                                  1                   NaN                1   \n",
       "3                                  1                     0              NaN   \n",
       "4                                  1                     0                1   \n",
       "\n",
       "   religious-groups-in-schools  anti-satellite-test-ban  \\\n",
       "0                            1                        0   \n",
       "1                            1                        0   \n",
       "2                            1                        0   \n",
       "3                            1                        0   \n",
       "4                            1                        0   \n",
       "\n",
       "   aid-to-nicaraguan-contras  mx-missile  immigration  \\\n",
       "0                          0           0            1   \n",
       "1                          0           0            0   \n",
       "2                          0           0            0   \n",
       "3                          0           0            0   \n",
       "4                          0           0            0   \n",
       "\n",
       "   synfuels-corporation-cutback  education-spending  superfund-right-to-sue  \\\n",
       "0                           NaN                   1                       1   \n",
       "1                             0                   1                       1   \n",
       "2                             1                   0                       1   \n",
       "3                             1                   0                       1   \n",
       "4                             1                 NaN                       1   \n",
       "\n",
       "   crime  duty-free-exports  export-administration-act-south-africa  \n",
       "0      1                  0                                       1  \n",
       "1      1                  0                                     NaN  \n",
       "2      1                  0                                       0  \n",
       "3      0                  0                                       1  \n",
       "4      1                  1                                       1  "
      ]
     },
     "execution_count": 106,
     "metadata": {},
     "output_type": "execute_result"
    }
   ],
   "source": [
    "for c in votes2.columns:\n",
    "    if c <> u'Class Name':\n",
    "        votes2[c] = votes2[c].map({'y': 1, 'n': 0})\n",
    "\n",
    "votes2.head(5)"
   ]
  },
  {
   "cell_type": "code",
   "execution_count": 107,
   "metadata": {
    "collapsed": false
   },
   "outputs": [
    {
     "name": "stderr",
     "output_type": "stream",
     "text": [
      "/usr/local/lib/python2.7/site-packages/IPython/kernel/__main__.py:5: SettingWithCopyWarning: \n",
      "A value is trying to be set on a copy of a slice from a DataFrame\n",
      "\n",
      "See the the caveats in the documentation: http://pandas.pydata.org/pandas-docs/stable/indexing.html#indexing-view-versus-copy\n"
     ]
    }
   ],
   "source": [
    "for c in votes2.columns:\n",
    "    if c <> u'Class Name':\n",
    "        for r in range(len(votes2)):\n",
    "            if pd.isnull(votes2[c][r]):\n",
    "                votes2[c][r] = votes2.mode()[c]\n"
   ]
  },
  {
   "cell_type": "code",
   "execution_count": 108,
   "metadata": {
    "collapsed": false
   },
   "outputs": [
    {
     "data": {
      "text/html": [
       "<div style=\"max-height:1000px;max-width:1500px;overflow:auto;\">\n",
       "<table border=\"1\" class=\"dataframe\">\n",
       "  <thead>\n",
       "    <tr style=\"text-align: right;\">\n",
       "      <th></th>\n",
       "      <th>Class Name</th>\n",
       "      <th>handicapped-infants</th>\n",
       "      <th>water-project-cost-sharing</th>\n",
       "      <th>adoption-of-the-budget-resolution</th>\n",
       "      <th>physician-fee-freeze</th>\n",
       "      <th>el-salvador-aid</th>\n",
       "      <th>religious-groups-in-schools</th>\n",
       "      <th>anti-satellite-test-ban</th>\n",
       "      <th>aid-to-nicaraguan-contras</th>\n",
       "      <th>mx-missile</th>\n",
       "      <th>immigration</th>\n",
       "      <th>synfuels-corporation-cutback</th>\n",
       "      <th>education-spending</th>\n",
       "      <th>superfund-right-to-sue</th>\n",
       "      <th>crime</th>\n",
       "      <th>duty-free-exports</th>\n",
       "      <th>export-administration-act-south-africa</th>\n",
       "    </tr>\n",
       "  </thead>\n",
       "  <tbody>\n",
       "    <tr>\n",
       "      <th>0</th>\n",
       "      <td> republican</td>\n",
       "      <td> 0</td>\n",
       "      <td> 1</td>\n",
       "      <td> 0</td>\n",
       "      <td> 1</td>\n",
       "      <td> 1</td>\n",
       "      <td> 1</td>\n",
       "      <td> 0</td>\n",
       "      <td> 0</td>\n",
       "      <td> 0</td>\n",
       "      <td> 1</td>\n",
       "      <td> 0</td>\n",
       "      <td> 1</td>\n",
       "      <td> 1</td>\n",
       "      <td> 1</td>\n",
       "      <td> 0</td>\n",
       "      <td> 1</td>\n",
       "    </tr>\n",
       "    <tr>\n",
       "      <th>1</th>\n",
       "      <td> republican</td>\n",
       "      <td> 0</td>\n",
       "      <td> 1</td>\n",
       "      <td> 0</td>\n",
       "      <td> 1</td>\n",
       "      <td> 1</td>\n",
       "      <td> 1</td>\n",
       "      <td> 0</td>\n",
       "      <td> 0</td>\n",
       "      <td> 0</td>\n",
       "      <td> 0</td>\n",
       "      <td> 0</td>\n",
       "      <td> 1</td>\n",
       "      <td> 1</td>\n",
       "      <td> 1</td>\n",
       "      <td> 0</td>\n",
       "      <td> 1</td>\n",
       "    </tr>\n",
       "    <tr>\n",
       "      <th>2</th>\n",
       "      <td>   democrat</td>\n",
       "      <td> 0</td>\n",
       "      <td> 1</td>\n",
       "      <td> 1</td>\n",
       "      <td> 0</td>\n",
       "      <td> 1</td>\n",
       "      <td> 1</td>\n",
       "      <td> 0</td>\n",
       "      <td> 0</td>\n",
       "      <td> 0</td>\n",
       "      <td> 0</td>\n",
       "      <td> 1</td>\n",
       "      <td> 0</td>\n",
       "      <td> 1</td>\n",
       "      <td> 1</td>\n",
       "      <td> 0</td>\n",
       "      <td> 0</td>\n",
       "    </tr>\n",
       "    <tr>\n",
       "      <th>3</th>\n",
       "      <td>   democrat</td>\n",
       "      <td> 0</td>\n",
       "      <td> 1</td>\n",
       "      <td> 1</td>\n",
       "      <td> 0</td>\n",
       "      <td> 1</td>\n",
       "      <td> 1</td>\n",
       "      <td> 0</td>\n",
       "      <td> 0</td>\n",
       "      <td> 0</td>\n",
       "      <td> 0</td>\n",
       "      <td> 1</td>\n",
       "      <td> 0</td>\n",
       "      <td> 1</td>\n",
       "      <td> 0</td>\n",
       "      <td> 0</td>\n",
       "      <td> 1</td>\n",
       "    </tr>\n",
       "    <tr>\n",
       "      <th>4</th>\n",
       "      <td>   democrat</td>\n",
       "      <td> 1</td>\n",
       "      <td> 1</td>\n",
       "      <td> 1</td>\n",
       "      <td> 0</td>\n",
       "      <td> 1</td>\n",
       "      <td> 1</td>\n",
       "      <td> 0</td>\n",
       "      <td> 0</td>\n",
       "      <td> 0</td>\n",
       "      <td> 0</td>\n",
       "      <td> 1</td>\n",
       "      <td> 0</td>\n",
       "      <td> 1</td>\n",
       "      <td> 1</td>\n",
       "      <td> 1</td>\n",
       "      <td> 1</td>\n",
       "    </tr>\n",
       "  </tbody>\n",
       "</table>\n",
       "</div>"
      ],
      "text/plain": [
       "   Class Name  handicapped-infants  water-project-cost-sharing  \\\n",
       "0  republican                    0                           1   \n",
       "1  republican                    0                           1   \n",
       "2    democrat                    0                           1   \n",
       "3    democrat                    0                           1   \n",
       "4    democrat                    1                           1   \n",
       "\n",
       "   adoption-of-the-budget-resolution  physician-fee-freeze  el-salvador-aid  \\\n",
       "0                                  0                     1                1   \n",
       "1                                  0                     1                1   \n",
       "2                                  1                     0                1   \n",
       "3                                  1                     0                1   \n",
       "4                                  1                     0                1   \n",
       "\n",
       "   religious-groups-in-schools  anti-satellite-test-ban  \\\n",
       "0                            1                        0   \n",
       "1                            1                        0   \n",
       "2                            1                        0   \n",
       "3                            1                        0   \n",
       "4                            1                        0   \n",
       "\n",
       "   aid-to-nicaraguan-contras  mx-missile  immigration  \\\n",
       "0                          0           0            1   \n",
       "1                          0           0            0   \n",
       "2                          0           0            0   \n",
       "3                          0           0            0   \n",
       "4                          0           0            0   \n",
       "\n",
       "   synfuels-corporation-cutback  education-spending  superfund-right-to-sue  \\\n",
       "0                             0                   1                       1   \n",
       "1                             0                   1                       1   \n",
       "2                             1                   0                       1   \n",
       "3                             1                   0                       1   \n",
       "4                             1                   0                       1   \n",
       "\n",
       "   crime  duty-free-exports  export-administration-act-south-africa  \n",
       "0      1                  0                                       1  \n",
       "1      1                  0                                       1  \n",
       "2      1                  0                                       0  \n",
       "3      0                  0                                       1  \n",
       "4      1                  1                                       1  "
      ]
     },
     "execution_count": 108,
     "metadata": {},
     "output_type": "execute_result"
    }
   ],
   "source": [
    "votes2.head(5)"
   ]
  },
  {
   "cell_type": "code",
   "execution_count": 109,
   "metadata": {
    "collapsed": false
   },
   "outputs": [],
   "source": [
    "X = votes2.drop(votes2[['Class Name', 'crime']], axis=1)\n",
    "y = votes2['crime']"
   ]
  },
  {
   "cell_type": "code",
   "execution_count": 110,
   "metadata": {
    "collapsed": false
   },
   "outputs": [
    {
     "data": {
      "text/html": [
       "<div style=\"max-height:1000px;max-width:1500px;overflow:auto;\">\n",
       "<table border=\"1\" class=\"dataframe\">\n",
       "  <thead>\n",
       "    <tr style=\"text-align: right;\">\n",
       "      <th></th>\n",
       "      <th>handicapped-infants</th>\n",
       "      <th>water-project-cost-sharing</th>\n",
       "      <th>adoption-of-the-budget-resolution</th>\n",
       "      <th>physician-fee-freeze</th>\n",
       "      <th>el-salvador-aid</th>\n",
       "      <th>religious-groups-in-schools</th>\n",
       "      <th>anti-satellite-test-ban</th>\n",
       "      <th>aid-to-nicaraguan-contras</th>\n",
       "      <th>mx-missile</th>\n",
       "      <th>immigration</th>\n",
       "      <th>synfuels-corporation-cutback</th>\n",
       "      <th>education-spending</th>\n",
       "      <th>superfund-right-to-sue</th>\n",
       "      <th>duty-free-exports</th>\n",
       "      <th>export-administration-act-south-africa</th>\n",
       "    </tr>\n",
       "  </thead>\n",
       "  <tbody>\n",
       "    <tr>\n",
       "      <th>0</th>\n",
       "      <td> 0</td>\n",
       "      <td> 1</td>\n",
       "      <td> 0</td>\n",
       "      <td> 1</td>\n",
       "      <td> 1</td>\n",
       "      <td> 1</td>\n",
       "      <td> 0</td>\n",
       "      <td> 0</td>\n",
       "      <td> 0</td>\n",
       "      <td> 1</td>\n",
       "      <td> 0</td>\n",
       "      <td> 1</td>\n",
       "      <td> 1</td>\n",
       "      <td> 0</td>\n",
       "      <td> 1</td>\n",
       "    </tr>\n",
       "    <tr>\n",
       "      <th>1</th>\n",
       "      <td> 0</td>\n",
       "      <td> 1</td>\n",
       "      <td> 0</td>\n",
       "      <td> 1</td>\n",
       "      <td> 1</td>\n",
       "      <td> 1</td>\n",
       "      <td> 0</td>\n",
       "      <td> 0</td>\n",
       "      <td> 0</td>\n",
       "      <td> 0</td>\n",
       "      <td> 0</td>\n",
       "      <td> 1</td>\n",
       "      <td> 1</td>\n",
       "      <td> 0</td>\n",
       "      <td> 1</td>\n",
       "    </tr>\n",
       "    <tr>\n",
       "      <th>2</th>\n",
       "      <td> 0</td>\n",
       "      <td> 1</td>\n",
       "      <td> 1</td>\n",
       "      <td> 0</td>\n",
       "      <td> 1</td>\n",
       "      <td> 1</td>\n",
       "      <td> 0</td>\n",
       "      <td> 0</td>\n",
       "      <td> 0</td>\n",
       "      <td> 0</td>\n",
       "      <td> 1</td>\n",
       "      <td> 0</td>\n",
       "      <td> 1</td>\n",
       "      <td> 0</td>\n",
       "      <td> 0</td>\n",
       "    </tr>\n",
       "    <tr>\n",
       "      <th>3</th>\n",
       "      <td> 0</td>\n",
       "      <td> 1</td>\n",
       "      <td> 1</td>\n",
       "      <td> 0</td>\n",
       "      <td> 1</td>\n",
       "      <td> 1</td>\n",
       "      <td> 0</td>\n",
       "      <td> 0</td>\n",
       "      <td> 0</td>\n",
       "      <td> 0</td>\n",
       "      <td> 1</td>\n",
       "      <td> 0</td>\n",
       "      <td> 1</td>\n",
       "      <td> 0</td>\n",
       "      <td> 1</td>\n",
       "    </tr>\n",
       "    <tr>\n",
       "      <th>4</th>\n",
       "      <td> 1</td>\n",
       "      <td> 1</td>\n",
       "      <td> 1</td>\n",
       "      <td> 0</td>\n",
       "      <td> 1</td>\n",
       "      <td> 1</td>\n",
       "      <td> 0</td>\n",
       "      <td> 0</td>\n",
       "      <td> 0</td>\n",
       "      <td> 0</td>\n",
       "      <td> 1</td>\n",
       "      <td> 0</td>\n",
       "      <td> 1</td>\n",
       "      <td> 1</td>\n",
       "      <td> 1</td>\n",
       "    </tr>\n",
       "  </tbody>\n",
       "</table>\n",
       "</div>"
      ],
      "text/plain": [
       "   handicapped-infants  water-project-cost-sharing  \\\n",
       "0                    0                           1   \n",
       "1                    0                           1   \n",
       "2                    0                           1   \n",
       "3                    0                           1   \n",
       "4                    1                           1   \n",
       "\n",
       "   adoption-of-the-budget-resolution  physician-fee-freeze  el-salvador-aid  \\\n",
       "0                                  0                     1                1   \n",
       "1                                  0                     1                1   \n",
       "2                                  1                     0                1   \n",
       "3                                  1                     0                1   \n",
       "4                                  1                     0                1   \n",
       "\n",
       "   religious-groups-in-schools  anti-satellite-test-ban  \\\n",
       "0                            1                        0   \n",
       "1                            1                        0   \n",
       "2                            1                        0   \n",
       "3                            1                        0   \n",
       "4                            1                        0   \n",
       "\n",
       "   aid-to-nicaraguan-contras  mx-missile  immigration  \\\n",
       "0                          0           0            1   \n",
       "1                          0           0            0   \n",
       "2                          0           0            0   \n",
       "3                          0           0            0   \n",
       "4                          0           0            0   \n",
       "\n",
       "   synfuels-corporation-cutback  education-spending  superfund-right-to-sue  \\\n",
       "0                             0                   1                       1   \n",
       "1                             0                   1                       1   \n",
       "2                             1                   0                       1   \n",
       "3                             1                   0                       1   \n",
       "4                             1                   0                       1   \n",
       "\n",
       "   duty-free-exports  export-administration-act-south-africa  \n",
       "0                  0                                       1  \n",
       "1                  0                                       1  \n",
       "2                  0                                       0  \n",
       "3                  0                                       1  \n",
       "4                  1                                       1  "
      ]
     },
     "execution_count": 110,
     "metadata": {},
     "output_type": "execute_result"
    }
   ],
   "source": [
    "X.head(5)"
   ]
  },
  {
   "cell_type": "code",
   "execution_count": 111,
   "metadata": {
    "collapsed": false
   },
   "outputs": [
    {
     "data": {
      "text/plain": [
       "0    1\n",
       "1    1\n",
       "2    1\n",
       "3    0\n",
       "4    1\n",
       "Name: crime, dtype: float64"
      ]
     },
     "execution_count": 111,
     "metadata": {},
     "output_type": "execute_result"
    }
   ],
   "source": [
    "y.head(5)"
   ]
  },
  {
   "cell_type": "code",
   "execution_count": 112,
   "metadata": {
    "collapsed": false
   },
   "outputs": [
    {
     "name": "stdout",
     "output_type": "stream",
     "text": [
      "(435, 15) (326, 15) (109, 15)\n"
     ]
    }
   ],
   "source": [
    "X_train, X_test, y_train, y_test = cross_validation.train_test_split(X, y, test_size=0.25, random_state=0)\n",
    "print X.shape, X_train.shape, X_test.shape"
   ]
  },
  {
   "cell_type": "code",
   "execution_count": 113,
   "metadata": {
    "collapsed": false
   },
   "outputs": [
    {
     "data": {
      "text/plain": [
       "0.80733944954128445"
      ]
     },
     "execution_count": 113,
     "metadata": {},
     "output_type": "execute_result"
    }
   ],
   "source": [
    "log_model = LogisticRegression()\n",
    "log_model = log_model.fit(X_train, y_train)\n",
    "y_pred = log_model.predict(X_test)\n",
    "accuracy_score(y_test, y_pred)"
   ]
  },
  {
   "cell_type": "markdown",
   "metadata": {},
   "source": [
    "## Challenge 11 (Completed)"
   ]
  },
  {
   "cell_type": "code",
   "execution_count": 132,
   "metadata": {
    "collapsed": false
   },
   "outputs": [
    {
     "data": {
      "text/html": [
       "<div style=\"max-height:1000px;max-width:1500px;overflow:auto;\">\n",
       "<table border=\"1\" class=\"dataframe\">\n",
       "  <thead>\n",
       "    <tr style=\"text-align: right;\">\n",
       "      <th></th>\n",
       "      <th>Unnamed: 0</th>\n",
       "      <th>nominations</th>\n",
       "      <th>oscars</th>\n",
       "      <th>theaters</th>\n",
       "      <th>title</th>\n",
       "      <th>worldgross</th>\n",
       "      <th>year</th>\n",
       "    </tr>\n",
       "  </thead>\n",
       "  <tbody>\n",
       "    <tr>\n",
       "      <th>0</th>\n",
       "      <td> 0</td>\n",
       "      <td> 3</td>\n",
       "      <td> 0</td>\n",
       "      <td> 3126</td>\n",
       "      <td> Star Wars: Episode I - The Phantom Menace</td>\n",
       "      <td> 1027044677</td>\n",
       "      <td> 1999-12-31 00:00:00</td>\n",
       "    </tr>\n",
       "    <tr>\n",
       "      <th>1</th>\n",
       "      <td> 1</td>\n",
       "      <td> 6</td>\n",
       "      <td> 0</td>\n",
       "      <td> 2821</td>\n",
       "      <td>                           The Sixth Sense</td>\n",
       "      <td>  672806292</td>\n",
       "      <td> 1999-12-31 00:00:00</td>\n",
       "    </tr>\n",
       "    <tr>\n",
       "      <th>2</th>\n",
       "      <td> 2</td>\n",
       "      <td> 1</td>\n",
       "      <td> 0</td>\n",
       "      <td> 3257</td>\n",
       "      <td>                               Toy Story 2</td>\n",
       "      <td>  485015179</td>\n",
       "      <td> 1999-12-31 00:00:00</td>\n",
       "    </tr>\n",
       "    <tr>\n",
       "      <th>3</th>\n",
       "      <td> 3</td>\n",
       "      <td> 1</td>\n",
       "      <td> 0</td>\n",
       "      <td> 3314</td>\n",
       "      <td>     Austin Powers: The Spy Who Shagged Me</td>\n",
       "      <td>  312016858</td>\n",
       "      <td> 1999-12-31 00:00:00</td>\n",
       "    </tr>\n",
       "    <tr>\n",
       "      <th>4</th>\n",
       "      <td> 4</td>\n",
       "      <td> 4</td>\n",
       "      <td> 4</td>\n",
       "      <td> 2903</td>\n",
       "      <td>                                The Matrix</td>\n",
       "      <td>  463517383</td>\n",
       "      <td> 1999-12-31 00:00:00</td>\n",
       "    </tr>\n",
       "    <tr>\n",
       "      <th>5</th>\n",
       "      <td> 5</td>\n",
       "      <td> 1</td>\n",
       "      <td> 1</td>\n",
       "      <td> 3131</td>\n",
       "      <td>                                    Tarzan</td>\n",
       "      <td>  448191819</td>\n",
       "      <td> 1999-12-31 00:00:00</td>\n",
       "    </tr>\n",
       "    <tr>\n",
       "      <th>6</th>\n",
       "      <td> 6</td>\n",
       "      <td> 1</td>\n",
       "      <td> 0</td>\n",
       "      <td> 3411</td>\n",
       "      <td>                                 The Mummy</td>\n",
       "      <td>  415933406</td>\n",
       "      <td> 1999-12-31 00:00:00</td>\n",
       "    </tr>\n",
       "    <tr>\n",
       "      <th>7</th>\n",
       "      <td> 7</td>\n",
       "      <td> 1</td>\n",
       "      <td> 0</td>\n",
       "      <td> 3151</td>\n",
       "      <td>                             Stuart Little</td>\n",
       "      <td>  300135367</td>\n",
       "      <td> 1999-12-31 00:00:00</td>\n",
       "    </tr>\n",
       "    <tr>\n",
       "      <th>8</th>\n",
       "      <td> 8</td>\n",
       "      <td> 4</td>\n",
       "      <td> 0</td>\n",
       "      <td> 2875</td>\n",
       "      <td>                            The Green Mile</td>\n",
       "      <td>  286801374</td>\n",
       "      <td> 1999-12-31 00:00:00</td>\n",
       "    </tr>\n",
       "    <tr>\n",
       "      <th>9</th>\n",
       "      <td> 9</td>\n",
       "      <td> 8</td>\n",
       "      <td> 5</td>\n",
       "      <td> 1990</td>\n",
       "      <td>                           American Beauty</td>\n",
       "      <td>  356296601</td>\n",
       "      <td> 1999-12-31 00:00:00</td>\n",
       "    </tr>\n",
       "  </tbody>\n",
       "</table>\n",
       "</div>"
      ],
      "text/plain": [
       "   Unnamed: 0  nominations  oscars  theaters  \\\n",
       "0           0            3       0      3126   \n",
       "1           1            6       0      2821   \n",
       "2           2            1       0      3257   \n",
       "3           3            1       0      3314   \n",
       "4           4            4       4      2903   \n",
       "5           5            1       1      3131   \n",
       "6           6            1       0      3411   \n",
       "7           7            1       0      3151   \n",
       "8           8            4       0      2875   \n",
       "9           9            8       5      1990   \n",
       "\n",
       "                                       title  worldgross                 year  \n",
       "0  Star Wars: Episode I - The Phantom Menace  1027044677  1999-12-31 00:00:00  \n",
       "1                            The Sixth Sense   672806292  1999-12-31 00:00:00  \n",
       "2                                Toy Story 2   485015179  1999-12-31 00:00:00  \n",
       "3      Austin Powers: The Spy Who Shagged Me   312016858  1999-12-31 00:00:00  \n",
       "4                                 The Matrix   463517383  1999-12-31 00:00:00  \n",
       "5                                     Tarzan   448191819  1999-12-31 00:00:00  \n",
       "6                                  The Mummy   415933406  1999-12-31 00:00:00  \n",
       "7                              Stuart Little   300135367  1999-12-31 00:00:00  \n",
       "8                             The Green Mile   286801374  1999-12-31 00:00:00  \n",
       "9                            American Beauty   356296601  1999-12-31 00:00:00  "
      ]
     },
     "execution_count": 132,
     "metadata": {},
     "output_type": "execute_result"
    }
   ],
   "source": [
    "movies = read_csv('movies2.csv', header=0)\n",
    "movies.head(10)"
   ]
  },
  {
   "cell_type": "code",
   "execution_count": 133,
   "metadata": {
    "collapsed": false
   },
   "outputs": [
    {
     "data": {
      "text/plain": [
       "544"
      ]
     },
     "execution_count": 133,
     "metadata": {},
     "output_type": "execute_result"
    }
   ],
   "source": [
    "len(movies)"
   ]
  },
  {
   "cell_type": "code",
   "execution_count": 134,
   "metadata": {
    "collapsed": false
   },
   "outputs": [],
   "source": [
    "movies['awarded'] = movies['oscars'] > 0"
   ]
  },
  {
   "cell_type": "code",
   "execution_count": 135,
   "metadata": {
    "collapsed": false
   },
   "outputs": [
    {
     "data": {
      "text/html": [
       "<div style=\"max-height:1000px;max-width:1500px;overflow:auto;\">\n",
       "<table border=\"1\" class=\"dataframe\">\n",
       "  <thead>\n",
       "    <tr style=\"text-align: right;\">\n",
       "      <th></th>\n",
       "      <th>Unnamed: 0</th>\n",
       "      <th>nominations</th>\n",
       "      <th>oscars</th>\n",
       "      <th>theaters</th>\n",
       "      <th>title</th>\n",
       "      <th>worldgross</th>\n",
       "      <th>year</th>\n",
       "      <th>awarded</th>\n",
       "    </tr>\n",
       "  </thead>\n",
       "  <tbody>\n",
       "    <tr>\n",
       "      <th>0</th>\n",
       "      <td> 0</td>\n",
       "      <td> 3</td>\n",
       "      <td> 0</td>\n",
       "      <td> 3126</td>\n",
       "      <td> Star Wars: Episode I - The Phantom Menace</td>\n",
       "      <td> 1027044677</td>\n",
       "      <td> 1999-12-31 00:00:00</td>\n",
       "      <td> False</td>\n",
       "    </tr>\n",
       "    <tr>\n",
       "      <th>1</th>\n",
       "      <td> 1</td>\n",
       "      <td> 6</td>\n",
       "      <td> 0</td>\n",
       "      <td> 2821</td>\n",
       "      <td>                           The Sixth Sense</td>\n",
       "      <td>  672806292</td>\n",
       "      <td> 1999-12-31 00:00:00</td>\n",
       "      <td> False</td>\n",
       "    </tr>\n",
       "    <tr>\n",
       "      <th>2</th>\n",
       "      <td> 2</td>\n",
       "      <td> 1</td>\n",
       "      <td> 0</td>\n",
       "      <td> 3257</td>\n",
       "      <td>                               Toy Story 2</td>\n",
       "      <td>  485015179</td>\n",
       "      <td> 1999-12-31 00:00:00</td>\n",
       "      <td> False</td>\n",
       "    </tr>\n",
       "    <tr>\n",
       "      <th>3</th>\n",
       "      <td> 3</td>\n",
       "      <td> 1</td>\n",
       "      <td> 0</td>\n",
       "      <td> 3314</td>\n",
       "      <td>     Austin Powers: The Spy Who Shagged Me</td>\n",
       "      <td>  312016858</td>\n",
       "      <td> 1999-12-31 00:00:00</td>\n",
       "      <td> False</td>\n",
       "    </tr>\n",
       "    <tr>\n",
       "      <th>4</th>\n",
       "      <td> 4</td>\n",
       "      <td> 4</td>\n",
       "      <td> 4</td>\n",
       "      <td> 2903</td>\n",
       "      <td>                                The Matrix</td>\n",
       "      <td>  463517383</td>\n",
       "      <td> 1999-12-31 00:00:00</td>\n",
       "      <td>  True</td>\n",
       "    </tr>\n",
       "  </tbody>\n",
       "</table>\n",
       "</div>"
      ],
      "text/plain": [
       "   Unnamed: 0  nominations  oscars  theaters  \\\n",
       "0           0            3       0      3126   \n",
       "1           1            6       0      2821   \n",
       "2           2            1       0      3257   \n",
       "3           3            1       0      3314   \n",
       "4           4            4       4      2903   \n",
       "\n",
       "                                       title  worldgross                 year  \\\n",
       "0  Star Wars: Episode I - The Phantom Menace  1027044677  1999-12-31 00:00:00   \n",
       "1                            The Sixth Sense   672806292  1999-12-31 00:00:00   \n",
       "2                                Toy Story 2   485015179  1999-12-31 00:00:00   \n",
       "3      Austin Powers: The Spy Who Shagged Me   312016858  1999-12-31 00:00:00   \n",
       "4                                 The Matrix   463517383  1999-12-31 00:00:00   \n",
       "\n",
       "  awarded  \n",
       "0   False  \n",
       "1   False  \n",
       "2   False  \n",
       "3   False  \n",
       "4    True  "
      ]
     },
     "execution_count": 135,
     "metadata": {},
     "output_type": "execute_result"
    }
   ],
   "source": [
    "movies.head(5)"
   ]
  },
  {
   "cell_type": "code",
   "execution_count": 158,
   "metadata": {
    "collapsed": true
   },
   "outputs": [],
   "source": [
    "mdw = movies[movies.awarded == True]\n",
    "mdnw = movies[movies.awarded == False]"
   ]
  },
  {
   "cell_type": "code",
   "execution_count": 162,
   "metadata": {
    "collapsed": false
   },
   "outputs": [
    {
     "name": "stdout",
     "output_type": "stream",
     "text": [
      "Populating the interactive namespace from numpy and matplotlib\n"
     ]
    },
    {
     "data": {
      "text/plain": [
       "<Container object of 2 artists>"
      ]
     },
     "execution_count": 162,
     "metadata": {},
     "output_type": "execute_result"
    },
    {
     "data": {
      "image/png": "[encoded data removed]",
      "text/plain": [
       "<matplotlib.figure.Figure at 0x10f5df290>"
      ]
     },
     "metadata": {},
     "output_type": "display_data"
    }
   ],
   "source": [
    "%pylab inline\n",
    "xlabels = ['No Oscars', 'Won Oscar/s']\n",
    "ydata=[len(mdnw), len(mdw)]\n",
    "pos = np.arange(len(xlabels))\n",
    "width = 1.0\n",
    "ax = plt.axes()\n",
    "ax.set_xticks(pos + (width / 2))\n",
    "ax.set_xticklabels(xlabels)\n",
    "plt.bar(pos, ydata, width, color=['blue', 'orange'])\n",
    "\n",
    "#plt.title('Movies Number by Awarded=True/False', fontweight='bold')\n",
    "#xdata=[0, 1]\n",
    "#ydata=[len(mdw), len(mdnw)]\n",
    "#plt.xlabel('Left: No Oscars  -  Right: Won Oscar/s')\n",
    "#plt.bar(xdata, ydata)"
   ]
  },
  {
   "cell_type": "code",
   "execution_count": null,
   "metadata": {
    "collapsed": true
   },
   "outputs": [],
   "source": []
  },
  {
   "cell_type": "code",
   "execution_count": 139,
   "metadata": {
    "collapsed": false
   },
   "outputs": [],
   "source": [
    "X = movies[['nominations', 'theaters', 'worldgross']]\n",
    "y = movies['awarded']"
   ]
  },
  {
   "cell_type": "code",
   "execution_count": 142,
   "metadata": {
    "collapsed": false
   },
   "outputs": [
    {
     "data": {
      "text/html": [
       "<div style=\"max-height:1000px;max-width:1500px;overflow:auto;\">\n",
       "<table border=\"1\" class=\"dataframe\">\n",
       "  <thead>\n",
       "    <tr style=\"text-align: right;\">\n",
       "      <th></th>\n",
       "      <th>nominations</th>\n",
       "      <th>theaters</th>\n",
       "      <th>worldgross</th>\n",
       "    </tr>\n",
       "  </thead>\n",
       "  <tbody>\n",
       "    <tr>\n",
       "      <th>0</th>\n",
       "      <td> 3</td>\n",
       "      <td> 3126</td>\n",
       "      <td> 1027044677</td>\n",
       "    </tr>\n",
       "    <tr>\n",
       "      <th>1</th>\n",
       "      <td> 6</td>\n",
       "      <td> 2821</td>\n",
       "      <td>  672806292</td>\n",
       "    </tr>\n",
       "    <tr>\n",
       "      <th>2</th>\n",
       "      <td> 1</td>\n",
       "      <td> 3257</td>\n",
       "      <td>  485015179</td>\n",
       "    </tr>\n",
       "    <tr>\n",
       "      <th>3</th>\n",
       "      <td> 1</td>\n",
       "      <td> 3314</td>\n",
       "      <td>  312016858</td>\n",
       "    </tr>\n",
       "    <tr>\n",
       "      <th>4</th>\n",
       "      <td> 4</td>\n",
       "      <td> 2903</td>\n",
       "      <td>  463517383</td>\n",
       "    </tr>\n",
       "  </tbody>\n",
       "</table>\n",
       "</div>"
      ],
      "text/plain": [
       "   nominations  theaters  worldgross\n",
       "0            3      3126  1027044677\n",
       "1            6      2821   672806292\n",
       "2            1      3257   485015179\n",
       "3            1      3314   312016858\n",
       "4            4      2903   463517383"
      ]
     },
     "execution_count": 142,
     "metadata": {},
     "output_type": "execute_result"
    }
   ],
   "source": [
    "X.head(5)"
   ]
  },
  {
   "cell_type": "code",
   "execution_count": 143,
   "metadata": {
    "collapsed": false
   },
   "outputs": [
    {
     "data": {
      "text/plain": [
       "0    False\n",
       "1    False\n",
       "2    False\n",
       "3    False\n",
       "4     True\n",
       "Name: awarded, dtype: bool"
      ]
     },
     "execution_count": 143,
     "metadata": {},
     "output_type": "execute_result"
    }
   ],
   "source": [
    "y.head(5)"
   ]
  },
  {
   "cell_type": "code",
   "execution_count": 144,
   "metadata": {
    "collapsed": false
   },
   "outputs": [
    {
     "name": "stdout",
     "output_type": "stream",
     "text": [
      "(544, 3) (408, 3) (136, 3)\n"
     ]
    }
   ],
   "source": [
    "X_train, X_test, y_train, y_test = cross_validation.train_test_split(X, y, test_size=0.25, random_state=0)\n",
    "print X.shape, X_train.shape, X_test.shape"
   ]
  },
  {
   "cell_type": "code",
   "execution_count": 145,
   "metadata": {
    "collapsed": false
   },
   "outputs": [
    {
     "data": {
      "text/plain": [
       "0.52941176470588236"
      ]
     },
     "execution_count": 145,
     "metadata": {},
     "output_type": "execute_result"
    }
   ],
   "source": [
    "clf = KNeighborsClassifier(n_neighbors=1)\n",
    "knn_model = clf.fit(X_train, y_train)\n",
    "y_pred = knn_model.predict(X_test)\n",
    "accuracy_score(y_test, y_pred)"
   ]
  },
  {
   "cell_type": "code",
   "execution_count": 146,
   "metadata": {
    "collapsed": false
   },
   "outputs": [
    {
     "data": {
      "text/plain": [
       "0.69852941176470584"
      ]
     },
     "execution_count": 146,
     "metadata": {},
     "output_type": "execute_result"
    }
   ],
   "source": [
    "clf = LogisticRegression()\n",
    "log_model = clf.fit(X_train, y_train)\n",
    "y_pred = log_model.predict(X_test)\n",
    "accuracy_score(y_test, y_pred)"
   ]
  },
  {
   "cell_type": "code",
   "execution_count": 153,
   "metadata": {
    "collapsed": false
   },
   "outputs": [
    {
     "data": {
      "text/plain": [
       "0.3014705882352941"
      ]
     },
     "execution_count": 153,
     "metadata": {},
     "output_type": "execute_result"
    }
   ],
   "source": [
    "y_base =[]\n",
    "for i in range(len(y_test)):\n",
    "    y_base.append(True)\n",
    "    \n",
    "accuracy_score(y_test, y_base)"
   ]
  },
  {
   "cell_type": "markdown",
   "metadata": {},
   "source": [
    "## Challenge 12"
   ]
  },
  {
   "cell_type": "code",
   "execution_count": 163,
   "metadata": {
    "collapsed": false
   },
   "outputs": [
    {
     "data": {
      "text/html": [
       "<div style=\"max-height:1000px;max-width:1500px;overflow:auto;\">\n",
       "<table border=\"1\" class=\"dataframe\">\n",
       "  <thead>\n",
       "    <tr style=\"text-align: right;\">\n",
       "      <th></th>\n",
       "      <th>age</th>\n",
       "      <th>operation</th>\n",
       "      <th>nodes</th>\n",
       "      <th>status</th>\n",
       "    </tr>\n",
       "  </thead>\n",
       "  <tbody>\n",
       "    <tr>\n",
       "      <th>0</th>\n",
       "      <td> 30</td>\n",
       "      <td> 64</td>\n",
       "      <td>  1</td>\n",
       "      <td> 1</td>\n",
       "    </tr>\n",
       "    <tr>\n",
       "      <th>1</th>\n",
       "      <td> 30</td>\n",
       "      <td> 62</td>\n",
       "      <td>  3</td>\n",
       "      <td> 1</td>\n",
       "    </tr>\n",
       "    <tr>\n",
       "      <th>2</th>\n",
       "      <td> 30</td>\n",
       "      <td> 65</td>\n",
       "      <td>  0</td>\n",
       "      <td> 1</td>\n",
       "    </tr>\n",
       "    <tr>\n",
       "      <th>3</th>\n",
       "      <td> 31</td>\n",
       "      <td> 59</td>\n",
       "      <td>  2</td>\n",
       "      <td> 1</td>\n",
       "    </tr>\n",
       "    <tr>\n",
       "      <th>4</th>\n",
       "      <td> 31</td>\n",
       "      <td> 65</td>\n",
       "      <td>  4</td>\n",
       "      <td> 1</td>\n",
       "    </tr>\n",
       "    <tr>\n",
       "      <th>5</th>\n",
       "      <td> 33</td>\n",
       "      <td> 58</td>\n",
       "      <td> 10</td>\n",
       "      <td> 1</td>\n",
       "    </tr>\n",
       "    <tr>\n",
       "      <th>6</th>\n",
       "      <td> 33</td>\n",
       "      <td> 60</td>\n",
       "      <td>  0</td>\n",
       "      <td> 1</td>\n",
       "    </tr>\n",
       "    <tr>\n",
       "      <th>7</th>\n",
       "      <td> 34</td>\n",
       "      <td> 59</td>\n",
       "      <td>  0</td>\n",
       "      <td> 2</td>\n",
       "    </tr>\n",
       "    <tr>\n",
       "      <th>8</th>\n",
       "      <td> 34</td>\n",
       "      <td> 66</td>\n",
       "      <td>  9</td>\n",
       "      <td> 2</td>\n",
       "    </tr>\n",
       "    <tr>\n",
       "      <th>9</th>\n",
       "      <td> 34</td>\n",
       "      <td> 58</td>\n",
       "      <td> 30</td>\n",
       "      <td> 1</td>\n",
       "    </tr>\n",
       "  </tbody>\n",
       "</table>\n",
       "</div>"
      ],
      "text/plain": [
       "   age  operation  nodes  status\n",
       "0   30         64      1       1\n",
       "1   30         62      3       1\n",
       "2   30         65      0       1\n",
       "3   31         59      2       1\n",
       "4   31         65      4       1\n",
       "5   33         58     10       1\n",
       "6   33         60      0       1\n",
       "7   34         59      0       2\n",
       "8   34         66      9       2\n",
       "9   34         58     30       1"
      ]
     },
     "execution_count": 163,
     "metadata": {},
     "output_type": "execute_result"
    }
   ],
   "source": [
    "medical = read_csv('survival.csv', header=0)\n",
    "medical.head(10)"
   ]
  },
  {
   "cell_type": "code",
   "execution_count": 165,
   "metadata": {
    "collapsed": false
   },
   "outputs": [
    {
     "data": {
      "text/plain": [
       "52.457516339869279"
      ]
     },
     "execution_count": 165,
     "metadata": {},
     "output_type": "execute_result"
    }
   ],
   "source": [
    "mean(medical['age'])"
   ]
  },
  {
   "cell_type": "code",
   "execution_count": 166,
   "metadata": {
    "collapsed": false
   },
   "outputs": [
    {
     "data": {
      "text/plain": [
       "10.785785203631827"
      ]
     },
     "execution_count": 166,
     "metadata": {},
     "output_type": "execute_result"
    }
   ],
   "source": [
    "std(medical['age'])"
   ]
  },
  {
   "cell_type": "code",
   "execution_count": null,
   "metadata": {
    "collapsed": true
   },
   "outputs": [],
   "source": []
  }
 ],
 "metadata": {
  "kernelspec": {
   "display_name": "Python 2",
   "language": "python",
   "name": "python2"
  },
  "language_info": {
   "codemirror_mode": {
    "name": "ipython",
    "version": 2
   },
   "file_extension": ".py",
   "mimetype": "text/x-python",
   "name": "python",
   "nbconvert_exporter": "python",
   "pygments_lexer": "ipython2",
   "version": "2.7.9"
  }
 },
 "nbformat": 4,
 "nbformat_minor": 0
}
