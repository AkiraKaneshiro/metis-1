{
 "cells": [
  {
   "cell_type": "code",
   "execution_count": 2,
   "metadata": {
    "collapsed": false
   },
   "outputs": [
    {
     "name": "stdout",
     "output_type": "stream",
     "text": [
      "Hello,\n",
      "partner's\n"
     ]
    }
   ],
   "source": [
    "def longest_word(words):\n",
    "   max = 0\n",
    "   word_index = 0\n",
    "   for index, word in enumerate(words):\n",
    "       if len(word) > max:\n",
    "           max = len(word)\n",
    "           word_index = index\n",
    "\n",
    "   return words[word_index]\n",
    "\n",
    "\n",
    "def longest_words(file):\n",
    "   lines = []\n",
    "   for line in open(file):\n",
    "       lines.append(line.rstrip('\\n'))\n",
    "\n",
    "   for line in lines:\n",
    "       print longest_word(line.split())\n",
    "\n",
    "longest_words('test.txt')"
   ]
  },
  {
   "cell_type": "code",
   "execution_count": null,
   "metadata": {
    "collapsed": true
   },
   "outputs": [],
   "source": [
    "import sys\n",
    "test_cases = open(sys.argv[1], 'r')\n",
    "\n",
    "for test in test_cases:\n",
    "    print max(test.split(), key=len)\n",
    "    \n",
    "test_cases.close()"
   ]
  }
 ],
 "metadata": {
  "kernelspec": {
   "display_name": "Python 2",
   "language": "python",
   "name": "python2"
  },
  "language_info": {
   "codemirror_mode": {
    "name": "ipython",
    "version": 2
   },
   "file_extension": ".py",
   "mimetype": "text/x-python",
   "name": "python",
   "nbconvert_exporter": "python",
   "pygments_lexer": "ipython2",
   "version": "2.7.9"
  }
 },
 "nbformat": 4,
 "nbformat_minor": 0
}
