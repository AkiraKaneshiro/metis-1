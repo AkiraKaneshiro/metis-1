{
 "cells": [
  {
   "cell_type": "code",
   "execution_count": 3,
   "metadata": {
    "collapsed": false
   },
   "outputs": [
    {
     "data": {
      "text/plain": [
       "['g',\n",
       " 'o',\n",
       " 'o',\n",
       " 'd',\n",
       " ' ',\n",
       " 'l',\n",
       " 'u',\n",
       " 'c',\n",
       " 'k',\n",
       " ' ',\n",
       " 'i',\n",
       " 'n',\n",
       " ' ',\n",
       " 't',\n",
       " 'h',\n",
       " 'e',\n",
       " ' ',\n",
       " 'f',\n",
       " 'a',\n",
       " 'c',\n",
       " 'e',\n",
       " 'b',\n",
       " 'o',\n",
       " 'o',\n",
       " 'k',\n",
       " ' ',\n",
       " 'h',\n",
       " 'a',\n",
       " 'c',\n",
       " 'k',\n",
       " 'e',\n",
       " 'r',\n",
       " ' ',\n",
       " 'c',\n",
       " 'u',\n",
       " 'p',\n",
       " ' ',\n",
       " 't',\n",
       " 'h',\n",
       " 'i',\n",
       " 's',\n",
       " ' ',\n",
       " 'y',\n",
       " 'e',\n",
       " 'a',\n",
       " 'r',\n",
       " '!']"
      ]
     },
     "execution_count": 3,
     "metadata": {},
     "output_type": "execute_result"
    }
   ],
   "source": [
    "import string\n",
    "import re\n",
    "improt operator\n",
    "\n",
    "def string_beauty(string):\n",
    "    my_string = list(remove_oise_chars(s))\n",
    "    my _list = list(remove_noise_chars(s))\n",
    "    for s in my_list:\n",
    "        if my_dict[s]:\n",
    "            my dict[s]+=\n",
    "        else:\n",
    "            my_dict[s]=\n",
    "        \n",
    "    sort_me = sorted(my_dict.items(), key=operator.itemgetter())\n",
    "    num_letters = len(sort_me)\n",
    "    print num_letters\n",
    "    new_letter_list\n",
    "    letter = list(string.ascii_lowercase)\n",
    "    num_range = list()\n",
    "    dictionary = dict(zip(letters, values))\n",
    "    return dictionary\n",
    "def remove_noise_chars(string):\n",
    "    escliude = set(string.punctuation)\n",
    "    return ''\n",
    "\n",
    "\n",
    "\n",
    "s1 = \"Good luck in the Facebook Hacker Cup this year!\"\n",
    "#print string_beauty(\"nick\")\n",
    "s1 = s1.lower()\n",
    "s1 = list(s1)\n",
    "s1"
   ]
  },
  {
   "cell_type": "code",
   "execution_count": null,
   "metadata": {
    "collapsed": true
   },
   "outputs": [],
   "source": [
    "import sys\n",
    "import re\n",
    "from collections import Counter\n",
    "\n",
    "test_cases =open(sys.argv[1], 'r')\n",
    "for test in test_cases:\n",
    "    test = test.lower()\n",
    "    test = re.sub(\"[^a-z]\", \"\", test)\n",
    "    counts = [_[1] for _ in Counter(test).most_common()]\n",
    "    scores = list(range(27-len(counts), 27))[::-1]\n",
    "    print (sum(c * s for c, s in zip(counts,scores)))\n",
    "    \n",
    "test_cases.close()"
   ]
  },
  {
   "cell_type": "code",
   "execution_count": null,
   "metadata": {
    "collapsed": true
   },
   "outputs": [],
   "source": [
    "# Each letter has value between 1 and 26\n",
    "# abbccc =  152\n",
    "# Beauty of string is sum of letters in it\n",
    "\n",
    "# a = 24, b = 25, c =  26\n",
    "\n",
    "import string\n",
    "import re\n",
    "import operator\n",
    "\n",
    "def string_beauty(s):\n",
    "  my_dict={}\n",
    "  vals_list = list(xrange(1,28))\n",
    "  my_list = list(remove_noise_chars(s))\n",
    "  for s in my_list:\n",
    "    if s in my_dict:\n",
    "      my_dict[s]+=1\n",
    "    else:\n",
    "      my_dict[s]=1\n",
    "  sort_me = sorted(my_dict.items(), key=operator.itemgetter(1))\n",
    "  num_vals = 26 - len(sort_me)\n",
    "  new_vals_list = vals_list[num_vals:-1]\n",
    "  thing_list = zip(sort_me, new_vals_list)\n",
    "  total = 0\n",
    "  for index, letter_group in enumerate(sort_me):\n",
    "    total += letter_group[1]*new_vals_list[index]\n",
    "  return total\n",
    "\n",
    "def remove_noise_chars(s):\n",
    "  exclude = set(string.punctuation)\n",
    "  return ''.join(ch for ch in s if ch not in exclude).replace(' ', '').lower()\n",
    "\n",
    "\n",
    "s1 = \"Good luck in the Facebook Hacker Cup this year!\"\n",
    "\n",
    "\n",
    "print string_beauty(s1)"
   ]
  }
 ],
 "metadata": {
  "kernelspec": {
   "display_name": "Python 2",
   "language": "python",
   "name": "python2"
  },
  "language_info": {
   "codemirror_mode": {
    "name": "ipython",
    "version": 2
   },
   "file_extension": ".py",
   "mimetype": "text/x-python",
   "name": "python",
   "nbconvert_exporter": "python",
   "pygments_lexer": "ipython2",
   "version": "2.7.9"
  }
 },
 "nbformat": 4,
 "nbformat_minor": 0
}
