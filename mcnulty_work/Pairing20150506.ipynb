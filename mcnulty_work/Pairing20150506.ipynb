{
 "cells": [
  {
   "cell_type": "code",
   "execution_count": null,
   "metadata": {
    "collapsed": true
   },
   "outputs": [],
   "source": []
  },
  {
   "cell_type": "code",
   "execution_count": 1,
   "metadata": {
    "collapsed": false
   },
   "outputs": [
    {
     "ename": "ImportError",
     "evalue": "No module named pair",
     "output_type": "error",
     "traceback": [
      "\u001b[0;31m---------------------------------------------------------------------------\u001b[0m",
      "\u001b[0;31mImportError\u001b[0m                               Traceback (most recent call last)",
      "\u001b[0;32m<ipython-input-1-09f5ab5698e0>\u001b[0m in \u001b[0;36m<module>\u001b[0;34m()\u001b[0m\n\u001b[1;32m      1\u001b[0m \u001b[0;32mfrom\u001b[0m \u001b[0m__future__\u001b[0m \u001b[0;32mimport\u001b[0m \u001b[0mdivision\u001b[0m\u001b[0;34m\u001b[0m\u001b[0m\n\u001b[1;32m      2\u001b[0m \u001b[0;32mimport\u001b[0m \u001b[0munittest\u001b[0m\u001b[0;34m\u001b[0m\u001b[0m\n\u001b[0;32m----> 3\u001b[0;31m \u001b[0;32mfrom\u001b[0m \u001b[0mpair\u001b[0m \u001b[0;32mimport\u001b[0m \u001b[0mj\u001b[0m\u001b[0;34m\u001b[0m\u001b[0m\n\u001b[0m\u001b[1;32m      4\u001b[0m \u001b[0;34m\u001b[0m\u001b[0m\n\u001b[1;32m      5\u001b[0m \u001b[0;34m\u001b[0m\u001b[0m\n",
      "\u001b[0;31mImportError\u001b[0m: No module named pair"
     ]
    }
   ],
   "source": [
    "from __future__ import division\n",
    "import unittest\n",
    "from pair import j\n",
    "\n",
    "\n",
    "class TestJ(unittest.TestCase):\n",
    "\n",
    "    def test_fails_on_no_args(self):\n",
    "        with self.assertRaises(TypeError):\n",
    "            j()\n",
    "\n",
    "    def test_fails_on_one_arg(self):\n",
    "        with self.assertRaises(TypeError):\n",
    "            j(1)\n",
    "\n",
    "    def test_fails_on_three_args(self):\n",
    "        with self.assertRaises(TypeError):\n",
    "            j(1, 2, 3)\n",
    "\n",
    "    def test_one_for_same(self):\n",
    "        result = j([1, 2, 3], [1, 2, 3])\n",
    "        self.assertEqual(result, 1)\n",
    "\n",
    "    def test_result_is_float(self):\n",
    "        result = j([1, 2, 3], [1, 2, 3])\n",
    "        self.assertIs(type(result), type(1.0))\n",
    "\n",
    "    def test_order_not_important(self):\n",
    "        result = j([3, 2, 1], [1, 3, 2])\n",
    "        self.assertEqual(result, 1)\n",
    "\n",
    "    def test_zero_for_different(self):\n",
    "        result = j([1, 2, 3], [4, 5, 6])\n",
    "        self.assertEqual(result, 0)\n",
    "\n",
    "    def test_half_for_double(self):\n",
    "        result = j(['cow'], ['dog', 'cow'])\n",
    "        self.assertEqual(result, 0.5)\n",
    "\n",
    "    def test_third_for_half_same(self):\n",
    "        result = j([1, 2], [2, 3])\n",
    "        self.assertEqual(result, 1/3)\n",
    "\n",
    "    def test_half_for_two_thirds_same(self):\n",
    "        result = j([1, 2, 3], [2, 3, 4])\n",
    "        self.assertEqual(result, 0.5)\n",
    "\n",
    "    def test_immune_to_duplicates(self):\n",
    "        result = j([1, 1, 2], [3, 3, 3, 2, 2])\n",
    "        self.assertEqual(result, 1/3)\n",
    "\n",
    "    def test_larger_lists(self):\n",
    "        result = j(range(1, 10), [10, 9, 8, 7, 6])\n",
    "        self.assertEqual(result, 2/5)\n",
    "\n",
    "if __name__ == '__main__':\n",
    "    unittest.main()"
   ]
  },
  {
   "cell_type": "code",
   "execution_count": null,
   "metadata": {
    "collapsed": true
   },
   "outputs": [],
   "source": [
    "def j(list1, list2):\n",
    "   den = float(len(list(set(list1 + list2))))\n",
    "   num = float(len(list(set(list1) & set(list2))))\n",
    "   return (float(num) / float(den))\n",
    "\n",
    "\n",
    "print j([1,2,3], [2,3,4])"
   ]
  },
  {
   "cell_type": "code",
   "execution_count": null,
   "metadata": {
    "collapsed": true
   },
   "outputs": [],
   "source": [
    "def j(first, second):\n",
    "    \"\"\"\n",
    "    This is Jaccard similarity\n",
    "    http://en.wikipedia.org/wiki/Jaccard_index\n",
    "    \"\"\"\n",
    "    first, second = set(first), set(second)\n",
    "    return len(first & second) / len(first | second)\n"
   ]
  },
  {
   "cell_type": "code",
   "execution_count": null,
   "metadata": {
    "collapsed": true
   },
   "outputs": [],
   "source": [
    "# pair programming 4.5.2015\n",
    "# Copyright 2015 Marco Lunardi and Peter Niessen\n",
    "# this is really Jacard Similarity\n",
    "# http://en.wikipedia.org/wiki/Jaccard_index\n",
    "\n",
    "def list_test(a,b):\n",
    "    import numpy as np\n",
    "    a = np.ravel(a) # order not important, immune to duplicates\n",
    "    b = np.ravel(b) # # order not important, immune to duplicates\n",
    "    assert len(a) > 1 # fails on one arg\n",
    "    assert len(b) > 1 # fails on one arg\n",
    "    assert len(a) != 3 # fails on three\n",
    "    if a == b:\n",
    "        return 1 # one for same\n",
    "    if type(a) == float:\n",
    "        return 1 # result is float\n",
    "    # if len(set(a) intersection set(b)) == len(a), return 1\n",
    "    if len(set(a).intersection(b)) == 0:\n",
    "        print \"zero for different\"\n",
    "        return 0 # zero for different\n",
    "    if len(set(a).intersection(b)) *2 == len(b):\n",
    "        print \"half for double\"\n",
    "        return 1/2 # half for double\n",
    "    if len(set(a).intersection(b)) / len(b) == 0.5:\n",
    "        print \"third for half\"\n",
    "        return 1/3 # third for half\n",
    "    if len(set(a).intersection(b)) / len(b) == 2/3:\n",
    "        print \"half for two thirds\"\n",
    "        return 1/2 # half for two-thirds"
   ]
  },
  {
   "cell_type": "code",
   "execution_count": null,
   "metadata": {
    "collapsed": true
   },
   "outputs": [],
   "source": [
    "def j(r1, r2):\n",
    "    return  len(set(r1) & set(r2))/len(set(r1) | set(r2))"
   ]
  }
 ],
 "metadata": {
  "kernelspec": {
   "display_name": "Python 2",
   "language": "python",
   "name": "python2"
  },
  "language_info": {
   "codemirror_mode": {
    "name": "ipython",
    "version": 2
   },
   "file_extension": ".py",
   "mimetype": "text/x-python",
   "name": "python",
   "nbconvert_exporter": "python",
   "pygments_lexer": "ipython2",
   "version": "2.7.9"
  }
 },
 "nbformat": 4,
 "nbformat_minor": 0
}
