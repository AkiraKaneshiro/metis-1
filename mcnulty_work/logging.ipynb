{
 "cells": [
  {
   "cell_type": "code",
   "execution_count": 12,
   "metadata": {
    "collapsed": false
   },
   "outputs": [],
   "source": [
    "# Intro to python logging\n",
    "# More info here: https://docs.python.org/2/library/logging.html\n",
    "# Also here: http://briank.im/logging-like-a-professional-lumberjack/\n",
    "import logging"
   ]
  },
  {
   "cell_type": "code",
   "execution_count": 10,
   "metadata": {
    "collapsed": false
   },
   "outputs": [
    {
     "name": "stderr",
     "output_type": "stream",
     "text": [
      "WARNING:root:Critic url does not exist\n",
      "CRITICAL:root:Save yourself while you still have time\n"
     ]
    }
   ],
   "source": [
    "logging.basicConfig(filename='logs/example.log', level=logging.DEBUG)\n",
    "logging.debug(\"Starting the scrape\")  \n",
    "logging.info(\"Finished scraping critic\")  \n",
    "logging.warning(\"Critic url does not exist\")  \n",
    "logging.critical(\"Save yourself while you still have time\") "
   ]
  },
  {
   "cell_type": "code",
   "execution_count": 4,
   "metadata": {
    "collapsed": true
   },
   "outputs": [],
   "source": [
    "import logging.handlers"
   ]
  },
  {
   "cell_type": "code",
   "execution_count": 5,
   "metadata": {
    "collapsed": false
   },
   "outputs": [],
   "source": [
    "# Pick minimum level of reporting logging\n",
    "# levels in order are: debug, info, warning, error, critical\n",
    "LEVEL = logging.DEBUG\n",
    "\n",
    "# Format to include when, who, where, what\n",
    "formatter = logging.Formatter('%(asctime)s - %(name)s - %(levelname)s - %(message)s')\n",
    "\n",
    "# Name is module name\n",
    "logger = logging.getLogger(__name__)\n",
    "logger.setLevel(LEVEL)\n",
    "\n",
    "# Create file size limit and file name\n",
    "handler = logging.handlers.RotatingFileHandler('logs/debug.log', maxBytes=2000, backupCount=20)\n",
    "handler.setLevel(LEVEL)\n",
    "handler.setFormatter(formatter)\n",
    "\n",
    "# Add handler to logger\n",
    "logger.addHandler(handler)"
   ]
  },
  {
   "cell_type": "code",
   "execution_count": 6,
   "metadata": {
    "collapsed": false
   },
   "outputs": [
    {
     "name": "stderr",
     "output_type": "stream",
     "text": [
      "DEBUG:__main__:testttt = 0\n",
      "INFO:__main__:ingggg = 0\n",
      "CRITICAL:__main__:impending doom!\n",
      "DEBUG:__main__:testttt = 1\n",
      "INFO:__main__:ingggg = 1\n",
      "DEBUG:__main__:testttt = 2\n",
      "INFO:__main__:ingggg = 2\n",
      "DEBUG:__main__:testttt = 3\n",
      "INFO:__main__:ingggg = 3\n",
      "DEBUG:__main__:testttt = 4\n",
      "INFO:__main__:ingggg = 4\n",
      "DEBUG:__main__:testttt = 5\n",
      "INFO:__main__:ingggg = 5\n",
      "DEBUG:__main__:testttt = 6\n",
      "INFO:__main__:ingggg = 6\n",
      "DEBUG:__main__:testttt = 7\n",
      "INFO:__main__:ingggg = 7\n",
      "DEBUG:__main__:testttt = 8\n",
      "INFO:__main__:ingggg = 8\n",
      "DEBUG:__main__:testttt = 9\n",
      "INFO:__main__:ingggg = 9\n",
      "DEBUG:__main__:testttt = 10\n",
      "INFO:__main__:ingggg = 10\n",
      "DEBUG:__main__:testttt = 11\n",
      "INFO:__main__:ingggg = 11\n",
      "DEBUG:__main__:testttt = 12\n",
      "INFO:__main__:ingggg = 12\n",
      "DEBUG:__main__:testttt = 13\n",
      "INFO:__main__:ingggg = 13\n",
      "DEBUG:__main__:testttt = 14\n",
      "INFO:__main__:ingggg = 14\n",
      "DEBUG:__main__:testttt = 15\n",
      "INFO:__main__:ingggg = 15\n",
      "DEBUG:__main__:testttt = 16\n",
      "INFO:__main__:ingggg = 16\n",
      "DEBUG:__main__:testttt = 17\n",
      "INFO:__main__:ingggg = 17\n",
      "DEBUG:__main__:testttt = 18\n",
      "INFO:__main__:ingggg = 18\n",
      "DEBUG:__main__:testttt = 19\n",
      "INFO:__main__:ingggg = 19\n",
      "DEBUG:__main__:testttt = 20\n",
      "INFO:__main__:ingggg = 20\n",
      "CRITICAL:__main__:impending doom!\n",
      "DEBUG:__main__:testttt = 21\n",
      "INFO:__main__:ingggg = 21\n",
      "DEBUG:__main__:testttt = 22\n",
      "INFO:__main__:ingggg = 22\n",
      "DEBUG:__main__:testttt = 23\n",
      "INFO:__main__:ingggg = 23\n",
      "DEBUG:__main__:testttt = 24\n",
      "INFO:__main__:ingggg = 24\n",
      "DEBUG:__main__:testttt = 25\n",
      "INFO:__main__:ingggg = 25\n",
      "DEBUG:__main__:testttt = 26\n",
      "INFO:__main__:ingggg = 26\n",
      "DEBUG:__main__:testttt = 27\n",
      "INFO:__main__:ingggg = 27\n",
      "DEBUG:__main__:testttt = 28\n",
      "INFO:__main__:ingggg = 28\n",
      "DEBUG:__main__:testttt = 29\n",
      "INFO:__main__:ingggg = 29\n",
      "DEBUG:__main__:testttt = 30\n",
      "INFO:__main__:ingggg = 30\n",
      "DEBUG:__main__:testttt = 31\n",
      "INFO:__main__:ingggg = 31\n",
      "DEBUG:__main__:testttt = 32\n",
      "INFO:__main__:ingggg = 32\n",
      "DEBUG:__main__:testttt = 33\n",
      "INFO:__main__:ingggg = 33\n",
      "DEBUG:__main__:testttt = 34\n",
      "INFO:__main__:ingggg = 34\n",
      "DEBUG:__main__:testttt = 35\n",
      "INFO:__main__:ingggg = 35\n",
      "DEBUG:__main__:testttt = 36\n",
      "INFO:__main__:ingggg = 36\n",
      "DEBUG:__main__:testttt = 37\n",
      "INFO:__main__:ingggg = 37\n",
      "DEBUG:__main__:testttt = 38\n",
      "INFO:__main__:ingggg = 38\n",
      "DEBUG:__main__:testttt = 39\n",
      "INFO:__main__:ingggg = 39\n",
      "DEBUG:__main__:testttt = 40\n",
      "INFO:__main__:ingggg = 40\n",
      "CRITICAL:__main__:impending doom!\n",
      "DEBUG:__main__:testttt = 41\n",
      "INFO:__main__:ingggg = 41\n",
      "DEBUG:__main__:testttt = 42\n",
      "INFO:__main__:ingggg = 42\n",
      "DEBUG:__main__:testttt = 43\n",
      "INFO:__main__:ingggg = 43\n",
      "DEBUG:__main__:testttt = 44\n",
      "INFO:__main__:ingggg = 44\n",
      "DEBUG:__main__:testttt = 45\n",
      "INFO:__main__:ingggg = 45\n",
      "DEBUG:__main__:testttt = 46\n",
      "INFO:__main__:ingggg = 46\n",
      "DEBUG:__main__:testttt = 47\n",
      "INFO:__main__:ingggg = 47\n",
      "DEBUG:__main__:testttt = 48\n",
      "INFO:__main__:ingggg = 48\n",
      "DEBUG:__main__:testttt = 49\n",
      "INFO:__main__:ingggg = 49\n",
      "DEBUG:__main__:testttt = 50\n",
      "INFO:__main__:ingggg = 50\n",
      "DEBUG:__main__:testttt = 51\n",
      "INFO:__main__:ingggg = 51\n",
      "DEBUG:__main__:testttt = 52\n",
      "INFO:__main__:ingggg = 52\n",
      "DEBUG:__main__:testttt = 53\n",
      "INFO:__main__:ingggg = 53\n",
      "DEBUG:__main__:testttt = 54\n",
      "INFO:__main__:ingggg = 54\n",
      "DEBUG:__main__:testttt = 55\n",
      "INFO:__main__:ingggg = 55\n",
      "DEBUG:__main__:testttt = 56\n",
      "INFO:__main__:ingggg = 56\n",
      "DEBUG:__main__:testttt = 57\n",
      "INFO:__main__:ingggg = 57\n",
      "DEBUG:__main__:testttt = 58\n",
      "INFO:__main__:ingggg = 58\n",
      "DEBUG:__main__:testttt = 59\n",
      "INFO:__main__:ingggg = 59\n",
      "DEBUG:__main__:testttt = 60\n",
      "INFO:__main__:ingggg = 60\n",
      "CRITICAL:__main__:impending doom!\n",
      "DEBUG:__main__:testttt = 61\n",
      "INFO:__main__:ingggg = 61\n",
      "DEBUG:__main__:testttt = 62\n",
      "INFO:__main__:ingggg = 62\n",
      "DEBUG:__main__:testttt = 63\n",
      "INFO:__main__:ingggg = 63\n",
      "DEBUG:__main__:testttt = 64\n",
      "INFO:__main__:ingggg = 64\n",
      "DEBUG:__main__:testttt = 65\n",
      "INFO:__main__:ingggg = 65\n",
      "DEBUG:__main__:testttt = 66\n",
      "INFO:__main__:ingggg = 66\n",
      "DEBUG:__main__:testttt = 67\n",
      "INFO:__main__:ingggg = 67\n",
      "DEBUG:__main__:testttt = 68\n",
      "INFO:__main__:ingggg = 68\n",
      "DEBUG:__main__:testttt = 69\n",
      "INFO:__main__:ingggg = 69\n",
      "DEBUG:__main__:testttt = 70\n",
      "INFO:__main__:ingggg = 70\n",
      "DEBUG:__main__:testttt = 71\n",
      "INFO:__main__:ingggg = 71\n",
      "DEBUG:__main__:testttt = 72\n",
      "INFO:__main__:ingggg = 72\n",
      "DEBUG:__main__:testttt = 73\n",
      "INFO:__main__:ingggg = 73\n",
      "DEBUG:__main__:testttt = 74\n",
      "INFO:__main__:ingggg = 74\n",
      "DEBUG:__main__:testttt = 75\n",
      "INFO:__main__:ingggg = 75\n",
      "DEBUG:__main__:testttt = 76\n",
      "INFO:__main__:ingggg = 76\n",
      "DEBUG:__main__:testttt = 77\n",
      "INFO:__main__:ingggg = 77\n",
      "DEBUG:__main__:testttt = 78\n",
      "INFO:__main__:ingggg = 78\n",
      "DEBUG:__main__:testttt = 79\n",
      "INFO:__main__:ingggg = 79\n",
      "DEBUG:__main__:testttt = 80\n",
      "INFO:__main__:ingggg = 80\n",
      "CRITICAL:__main__:impending doom!\n",
      "DEBUG:__main__:testttt = 81\n",
      "INFO:__main__:ingggg = 81\n",
      "DEBUG:__main__:testttt = 82\n",
      "INFO:__main__:ingggg = 82\n",
      "DEBUG:__main__:testttt = 83\n",
      "INFO:__main__:ingggg = 83\n",
      "DEBUG:__main__:testttt = 84\n",
      "INFO:__main__:ingggg = 84\n",
      "DEBUG:__main__:testttt = 85\n",
      "INFO:__main__:ingggg = 85\n",
      "DEBUG:__main__:testttt = 86\n",
      "INFO:__main__:ingggg = 86\n",
      "DEBUG:__main__:testttt = 87\n",
      "INFO:__main__:ingggg = 87\n",
      "DEBUG:__main__:testttt = 88\n",
      "INFO:__main__:ingggg = 88\n",
      "DEBUG:__main__:testttt = 89\n",
      "INFO:__main__:ingggg = 89\n",
      "DEBUG:__main__:testttt = 90\n",
      "INFO:__main__:ingggg = 90\n",
      "DEBUG:__main__:testttt = 91\n",
      "INFO:__main__:ingggg = 91\n",
      "DEBUG:__main__:testttt = 92\n",
      "INFO:__main__:ingggg = 92\n",
      "DEBUG:__main__:testttt = 93\n",
      "INFO:__main__:ingggg = 93\n",
      "DEBUG:__main__:testttt = 94\n",
      "INFO:__main__:ingggg = 94\n",
      "DEBUG:__main__:testttt = 95\n",
      "INFO:__main__:ingggg = 95\n",
      "DEBUG:__main__:testttt = 96\n",
      "INFO:__main__:ingggg = 96\n",
      "DEBUG:__main__:testttt = 97\n",
      "INFO:__main__:ingggg = 97\n",
      "DEBUG:__main__:testttt = 98\n",
      "INFO:__main__:ingggg = 98\n",
      "DEBUG:__main__:testttt = 99\n",
      "INFO:__main__:ingggg = 99\n"
     ]
    }
   ],
   "source": [
    "for i in range(100):\n",
    "    logger.debug('testttt = %d' % i)\n",
    "    logger.info('ingggg = %d' % i)\n",
    "    if i%20 == 0:\n",
    "        logger.critical('impending doom!')"
   ]
  },
  {
   "cell_type": "code",
   "execution_count": 8,
   "metadata": {
    "collapsed": false
   },
   "outputs": [
    {
     "name": "stderr",
     "output_type": "stream",
     "text": [
      "ERROR:__main__:Nope!\n",
      "Traceback (most recent call last):\n",
      "  File \"<ipython-input-8-54cc4b14427d>\", line 2, in <module>\n",
      "    int('hello')\n",
      "ValueError: invalid literal for int() with base 10: 'hello'\n"
     ]
    }
   ],
   "source": [
    "try:\n",
    "    int('hello')\n",
    "except Exception:\n",
    "    logger.exception(\"Nope!\")"
   ]
  },
  {
   "cell_type": "code",
   "execution_count": null,
   "metadata": {
    "collapsed": false
   },
   "outputs": [],
   "source": []
  },
  {
   "cell_type": "code",
   "execution_count": null,
   "metadata": {
    "collapsed": false
   },
   "outputs": [],
   "source": []
  },
  {
   "cell_type": "code",
   "execution_count": null,
   "metadata": {
    "collapsed": true
   },
   "outputs": [],
   "source": []
  }
 ],
 "metadata": {
  "kernelspec": {
   "display_name": "Python 2",
   "language": "python",
   "name": "python2"
  },
  "language_info": {
   "codemirror_mode": {
    "name": "ipython",
    "version": 2
   },
   "file_extension": ".py",
   "mimetype": "text/x-python",
   "name": "python",
   "nbconvert_exporter": "python",
   "pygments_lexer": "ipython2",
   "version": "2.7.9"
  }
 },
 "nbformat": 4,
 "nbformat_minor": 0
}
