{
 "cells": [
  {
   "cell_type": "code",
   "execution_count": 2,
   "metadata": {
    "collapsed": true
   },
   "outputs": [],
   "source": [
    "from sklearn.neighbors import KNeighborsClassifier\n",
    "import csv\n",
    "import pickle\n",
    "import re\n",
    "from datetime import datetime\n",
    "import numpy as np\n",
    "# randn = np.random.randn\n",
    "from pandas import *\n",
    "import pandas as pd\n",
    "import matplotlib.pyplot as plt\n",
    "import statsmodels.formula.api as smf\n",
    "from scipy.stats import linregress\n",
    "from pylab import *\n",
    "from urllib import urlopen\n",
    "from sklearn.cross_validation import train_test_split\n",
    "from sklearn.linear_model import LogisticRegression"
   ]
  },
  {
   "cell_type": "markdown",
   "metadata": {},
   "source": [
    "# Poisson GLM Challenges\n",
    "\n",
    "## Data for the Challenges\n",
    "\n",
    "We are going to fit a model to count data. The first one we will use is about the total count of damage incidents to ships. You can get it here: http://data.princeton.edu/wws509/datasets/ships.dta\n",
    "\n",
    "We are stealing this dataset from STATA, so it's in STATA format. Pandas has a reader for that format to make your life easy:\n",
    "\n",
    "from pandas.io.stata import StataReader\n",
    "reader = StataReader('ships.dta')\n",
    "dataframe = reader.data()\n",
    "Here are some details on this dataset:\n",
    "\n",
    "The file has 34 rows corresponding to the observed combinations of type of ship, year of construction and period of operation. Each row has information on five variables as follows:\n",
    "\n",
    "ship type, coded 1-5 for A, B, C, D and E,\n",
    "year of construction (1=1960-64, 2=1965-70, 3=1970-74, 4=1975-79),\n",
    "period of operation (1=1960-74, 2=1975-79)\n",
    "months of service, ranging from 63 to 20,370, and\n",
    "damage incidents, ranging from 0 to 53.\n",
    "Note that there no ships of type E built in 1960-64, and that ships built in 1970-74 could not have operated in 1960-74. These combinations are omitted from the data file.\n",
    "\n",
    "\n",
    "\n",
    "## Challenge 1\n",
    "\n",
    "Model the damage incident counts with a Poisson Regression.\n",
    "\n",
    "Hint: You can look at the previous ipython notebook with the logistic GLM example to see how you can do GLM with statsmodels\n",
    "Remember that you will have to create dummy variables for categorical variables, and if you have time bins (like \"1960-1964\"), you have the option of either a) treating each bin as a category (and create dummies for each bin), or b) treat it as a continuous variable and take the mid-value (1962). Also remember to add a constant (to model the intercept).\n",
    "\n",
    "Take a look at the statsmodels summary table, the goodness of fit indicators (Deviance, Pearson's chi square statistic) and the coefficients. Is this a good model?\n",
    "\n",
    "## Challenge 2\n",
    "\n",
    "The months of service provides the time interval in which a ship has chances to acquire damages. It can be thought of \"exposure\", and this column can be used as an offset. You can check these two resources for a quick idea on exposure and using an offset: Offset in Wikipedia When to use an offset in CrossValidated (StackOverflow for statistics)\n",
    "\n",
    "Try your model with months of service as the offset. Does it perform better?\n",
    "\n",
    "## Challenge 3\n",
    "\n",
    "Now separate your data (even though it's only 14 rows) into a training and test set (your test will only be 4 or 5 rows), and check if you predict well (you can look at mean absolute error or mean squared error using sklearn.metrics).\n",
    "\n",
    "## Challenge 4\n",
    "\n",
    "Deviance. Compute the difference in Deviance statistics for your model and the null model. This is called the null deviance. You can do this in one of 2 ways:\n",
    "\n",
    "We need the deviance for the null model (a model where none of the explanatory variables are used; it's just a model with a mean guess). To do that, fit a poisson regression with only a constant. Get the deviance for this null model. Take the difference of deviances between your model and this null model.\n",
    "Use statsmodels.genmod.generalized_linear_model.GLMResults\n",
    "Check if this difference is extreme enough that we can reject the null hypothesis. If we can't reject the null hypothesis, we cannot say that this model tells us more than that trivial, null model. To calculate the p-value (prob. of getting a deviance difference at least as extreme as this under the null hypothesis), we need to do a hypothesis test.\n",
    "\n",
    "You can import the chi square test from scipy for this:\n",
    "\n",
    "from scipy.stats import chisqprob\n",
    "Is your model better than the null model?\n",
    "\n",
    "## Challenge 5\n",
    "\n",
    "Now, instead of a poisson regression, do an ordinary least squares regression with log Y. Compare the models. Are the coefficients close? Do they perform similarly?\n",
    "\n",
    "## Challenge 6\n",
    "\n",
    "Now, let's do this on another dataset: Smoking and Cancer.\n",
    "\n",
    "You can get it here: http://data.princeton.edu/wws509/datasets/smoking.dta This dataset has information on lung cancer deaths by age and smoking status. It has these columns:\n",
    "\n",
    "age: in five-year age groups coded 1 to 9 for 40-44, 45-49, 50-54, 55-59, 60-64, 65-69, 70-74, 75-79, 80+.\n",
    "smoking status: coded 1 = doesn't smoke, 2 = smokes cigars or pipe only, 3 = smokes cigarrettes and cigar or pipe, and 4 = smokes cigarrettes only,\n",
    "population: in hundreds of thousands, and\n",
    "deaths: number of lung cancer deaths in a year.\n",
    "That population looks a lot like an offset!\n",
    "\n",
    "Fit poisson and OLS models and compare them.\n",
    "\n",
    "Bonus: try all these things in R! Your numerical answers should all be the same."
   ]
  },
  {
   "cell_type": "code",
   "execution_count": 3,
   "metadata": {
    "collapsed": true
   },
   "outputs": [],
   "source": [
    "from pandas.io.stata import StataReader\n",
    "reader = StataReader('ships.dta')\n",
    "ships = reader.data()"
   ]
  },
  {
   "cell_type": "code",
   "execution_count": 5,
   "metadata": {
    "collapsed": false
   },
   "outputs": [
    {
     "data": {
      "text/html": [
       "<div style=\"max-height:1000px;max-width:1500px;overflow:auto;\">\n",
       "<table border=\"1\" class=\"dataframe\">\n",
       "  <thead>\n",
       "    <tr style=\"text-align: right;\">\n",
       "      <th></th>\n",
       "      <th>type</th>\n",
       "      <th>construction</th>\n",
       "      <th>operation</th>\n",
       "      <th>months</th>\n",
       "      <th>damage</th>\n",
       "    </tr>\n",
       "  </thead>\n",
       "  <tbody>\n",
       "    <tr>\n",
       "      <th>0</th>\n",
       "      <td> A</td>\n",
       "      <td> 1960-64</td>\n",
       "      <td> 1960-74</td>\n",
       "      <td>  127</td>\n",
       "      <td> 0</td>\n",
       "    </tr>\n",
       "    <tr>\n",
       "      <th>1</th>\n",
       "      <td> A</td>\n",
       "      <td> 1960-64</td>\n",
       "      <td> 1975-79</td>\n",
       "      <td>   63</td>\n",
       "      <td> 0</td>\n",
       "    </tr>\n",
       "    <tr>\n",
       "      <th>2</th>\n",
       "      <td> A</td>\n",
       "      <td> 1965-70</td>\n",
       "      <td> 1960-74</td>\n",
       "      <td> 1095</td>\n",
       "      <td> 3</td>\n",
       "    </tr>\n",
       "    <tr>\n",
       "      <th>3</th>\n",
       "      <td> A</td>\n",
       "      <td> 1965-70</td>\n",
       "      <td> 1975-79</td>\n",
       "      <td> 1095</td>\n",
       "      <td> 4</td>\n",
       "    </tr>\n",
       "    <tr>\n",
       "      <th>4</th>\n",
       "      <td> A</td>\n",
       "      <td> 1970-74</td>\n",
       "      <td> 1960-74</td>\n",
       "      <td> 1512</td>\n",
       "      <td> 6</td>\n",
       "    </tr>\n",
       "  </tbody>\n",
       "</table>\n",
       "</div>"
      ],
      "text/plain": [
       "  type construction operation  months  damage\n",
       "0    A      1960-64   1960-74     127       0\n",
       "1    A      1960-64   1975-79      63       0\n",
       "2    A      1965-70   1960-74    1095       3\n",
       "3    A      1965-70   1975-79    1095       4\n",
       "4    A      1970-74   1960-74    1512       6"
      ]
     },
     "execution_count": 5,
     "metadata": {},
     "output_type": "execute_result"
    }
   ],
   "source": [
    "ships.head(5)"
   ]
  },
  {
   "cell_type": "code",
   "execution_count": 6,
   "metadata": {
    "collapsed": false
   },
   "outputs": [
    {
     "data": {
      "text/plain": [
       "34"
      ]
     },
     "execution_count": 6,
     "metadata": {},
     "output_type": "execute_result"
    }
   ],
   "source": [
    "len(ships)"
   ]
  },
  {
   "cell_type": "code",
   "execution_count": null,
   "metadata": {
    "collapsed": true
   },
   "outputs": [],
   "source": []
  }
 ],
 "metadata": {
  "kernelspec": {
   "display_name": "Python 2",
   "language": "python",
   "name": "python2"
  },
  "language_info": {
   "codemirror_mode": {
    "name": "ipython",
    "version": 2
   },
   "file_extension": ".py",
   "mimetype": "text/x-python",
   "name": "python",
   "nbconvert_exporter": "python",
   "pygments_lexer": "ipython2",
   "version": "2.7.9"
  }
 },
 "nbformat": 4,
 "nbformat_minor": 0
}
