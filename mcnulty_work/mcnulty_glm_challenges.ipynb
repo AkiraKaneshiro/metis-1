{
 "cells": [
  {
   "cell_type": "code",
   "execution_count": 1,
   "metadata": {
    "collapsed": true
   },
   "outputs": [],
   "source": [
    "from sklearn.neighbors import KNeighborsClassifier\n",
    "import csv\n",
    "import pickle\n",
    "import re\n",
    "from datetime import datetime\n",
    "import numpy as np\n",
    "# randn = np.random.randn\n",
    "from pandas import *\n",
    "import pandas as pd\n",
    "import matplotlib.pyplot as plt\n",
    "import statsmodels.formula.api as smf\n",
    "from scipy.stats import linregress\n",
    "from pylab import *\n",
    "from urllib import urlopen\n",
    "from sklearn.cross_validation import train_test_split\n",
    "from sklearn.linear_model import LogisticRegression"
   ]
  },
  {
   "cell_type": "markdown",
   "metadata": {},
   "source": [
    "# Poisson GLM Challenges\n",
    "\n",
    "## Data for the Challenges\n",
    "\n",
    "We are going to fit a model to count data. The first one we will use is about the total count of damage incidents to ships. You can get it here: http://data.princeton.edu/wws509/datasets/ships.dta\n",
    "\n",
    "We are stealing this dataset from STATA, so it's in STATA format. Pandas has a reader for that format to make your life easy:\n",
    "\n",
    "from pandas.io.stata import StataReader\n",
    "reader = StataReader('ships.dta')\n",
    "dataframe = reader.data()\n",
    "Here are some details on this dataset:\n",
    "\n",
    "The file has 34 rows corresponding to the observed combinations of type of ship, year of construction and period of operation. Each row has information on five variables as follows:\n",
    "\n",
    "ship type, coded 1-5 for A, B, C, D and E,\n",
    "year of construction (1=1960-64, 2=1965-70, 3=1970-74, 4=1975-79),\n",
    "period of operation (1=1960-74, 2=1975-79)\n",
    "months of service, ranging from 63 to 20,370, and\n",
    "damage incidents, ranging from 0 to 53.\n",
    "Note that there no ships of type E built in 1960-64, and that ships built in 1970-74 could not have operated in 1960-74. These combinations are omitted from the data file.\n",
    "\n",
    "\n",
    "\n",
    "## Challenge 1\n",
    "\n",
    "Model the damage incident counts with a Poisson Regression.\n",
    "\n",
    "Hint: You can look at the previous ipython notebook with the logistic GLM example to see how you can do GLM with statsmodels\n",
    "Remember that you will have to create dummy variables for categorical variables, and if you have time bins (like \"1960-1964\"), you have the option of either a) treating each bin as a category (and create dummies for each bin), or b) treat it as a continuous variable and take the mid-value (1962). Also remember to add a constant (to model the intercept).\n",
    "\n",
    "Take a look at the statsmodels summary table, the goodness of fit indicators (Deviance, Pearson's chi square statistic) and the coefficients. Is this a good model?\n",
    "\n",
    "## Challenge 2\n",
    "\n",
    "The months of service provides the time interval in which a ship has chances to acquire damages. It can be thought of \"exposure\", and this column can be used as an offset. You can check these two resources for a quick idea on exposure and using an offset: Offset in Wikipedia When to use an offset in CrossValidated (StackOverflow for statistics)\n",
    "\n",
    "Try your model with months of service as the offset. Does it perform better?\n",
    "\n",
    "## Challenge 3\n",
    "\n",
    "Now separate your data (even though it's only 14 rows) into a training and test set (your test will only be 4 or 5 rows), and check if you predict well (you can look at mean absolute error or mean squared error using sklearn.metrics).\n",
    "\n",
    "## Challenge 4\n",
    "\n",
    "Deviance. Compute the difference in Deviance statistics for your model and the null model. This is called the null deviance. You can do this in one of 2 ways:\n",
    "\n",
    "We need the deviance for the null model (a model where none of the explanatory variables are used; it's just a model with a mean guess). To do that, fit a poisson regression with only a constant. Get the deviance for this null model. Take the difference of deviances between your model and this null model.\n",
    "Use statsmodels.genmod.generalized_linear_model.GLMResults\n",
    "Check if this difference is extreme enough that we can reject the null hypothesis. If we can't reject the null hypothesis, we cannot say that this model tells us more than that trivial, null model. To calculate the p-value (prob. of getting a deviance difference at least as extreme as this under the null hypothesis), we need to do a hypothesis test.\n",
    "\n",
    "You can import the chi square test from scipy for this:\n",
    "\n",
    "from scipy.stats import chisqprob\n",
    "Is your model better than the null model?\n",
    "\n",
    "## Challenge 5\n",
    "\n",
    "Now, instead of a poisson regression, do an ordinary least squares regression with log Y. Compare the models. Are the coefficients close? Do they perform similarly?\n",
    "\n",
    "## Challenge 6\n",
    "\n",
    "Now, let's do this on another dataset: Smoking and Cancer.\n",
    "\n",
    "You can get it here: http://data.princeton.edu/wws509/datasets/smoking.dta This dataset has information on lung cancer deaths by age and smoking status. It has these columns:\n",
    "\n",
    "age: in five-year age groups coded 1 to 9 for 40-44, 45-49, 50-54, 55-59, 60-64, 65-69, 70-74, 75-79, 80+.\n",
    "smoking status: coded 1 = doesn't smoke, 2 = smokes cigars or pipe only, 3 = smokes cigarrettes and cigar or pipe, and 4 = smokes cigarrettes only,\n",
    "population: in hundreds of thousands, and\n",
    "deaths: number of lung cancer deaths in a year.\n",
    "That population looks a lot like an offset!\n",
    "\n",
    "Fit poisson and OLS models and compare them.\n",
    "\n",
    "Bonus: try all these things in R! Your numerical answers should all be the same."
   ]
  },
  {
   "cell_type": "code",
   "execution_count": 57,
   "metadata": {
    "collapsed": false
   },
   "outputs": [],
   "source": [
    "# Load modules and data\n",
    "import statsmodels.api as sm\n",
    "data = sm.datasets.scotland.load()\n",
    "data.exog = sm.add_constant(data.exog)"
   ]
  },
  {
   "cell_type": "code",
   "execution_count": 3,
   "metadata": {
    "collapsed": false
   },
   "outputs": [
    {
     "data": {
      "text/html": [
       "<table class=\"simpletable\">\n",
       "<caption>Generalized Linear Model Regression Results</caption>\n",
       "<tr>\n",
       "  <th>Dep. Variable:</th>          <td>y</td>        <th>  No. Observations:  </th>      <td>    32</td>     \n",
       "</tr>\n",
       "<tr>\n",
       "  <th>Model:</th>                 <td>GLM</td>       <th>  Df Residuals:      </th>      <td>    24</td>     \n",
       "</tr>\n",
       "<tr>\n",
       "  <th>Model Family:</th>         <td>Gamma</td>      <th>  Df Model:          </th>      <td>     7</td>     \n",
       "</tr>\n",
       "<tr>\n",
       "  <th>Link Function:</th>    <td>inverse_power</td>  <th>  Scale:             </th> <td>0.00358428317349</td>\n",
       "</tr>\n",
       "<tr>\n",
       "  <th>Method:</th>               <td>IRLS</td>       <th>  Log-Likelihood:    </th>     <td> -83.017</td>    \n",
       "</tr>\n",
       "<tr>\n",
       "  <th>Date:</th>           <td>Thu, 21 May 2015</td> <th>  Deviance:          </th>     <td>0.087389</td>    \n",
       "</tr>\n",
       "<tr>\n",
       "  <th>Time:</th>               <td>16:36:00</td>     <th>  Pearson chi2:      </th>      <td>0.0860</td>     \n",
       "</tr>\n",
       "<tr>\n",
       "  <th>No. Iterations:</th>         <td>6</td>        <th>                     </th>         <td> </td>       \n",
       "</tr>\n",
       "</table>\n",
       "<table class=\"simpletable\">\n",
       "<tr>\n",
       "    <td></td>       <th>coef</th>     <th>std err</th>      <th>z</th>      <th>P>|z|</th> <th>[95.0% Conf. Int.]</th> \n",
       "</tr>\n",
       "<tr>\n",
       "  <th>const</th> <td>   -0.0178</td> <td>    0.011</td> <td>   -1.548</td> <td> 0.122</td> <td>   -0.040     0.005</td>\n",
       "</tr>\n",
       "<tr>\n",
       "  <th>x1</th>    <td> 4.962e-05</td> <td> 1.62e-05</td> <td>    3.060</td> <td> 0.002</td> <td> 1.78e-05  8.14e-05</td>\n",
       "</tr>\n",
       "<tr>\n",
       "  <th>x2</th>    <td>    0.0020</td> <td>    0.001</td> <td>    3.824</td> <td> 0.000</td> <td>    0.001     0.003</td>\n",
       "</tr>\n",
       "<tr>\n",
       "  <th>x3</th>    <td>-7.181e-05</td> <td> 2.71e-05</td> <td>   -2.648</td> <td> 0.008</td> <td>   -0.000 -1.87e-05</td>\n",
       "</tr>\n",
       "<tr>\n",
       "  <th>x4</th>    <td>    0.0001</td> <td> 4.06e-05</td> <td>    2.757</td> <td> 0.006</td> <td> 3.23e-05     0.000</td>\n",
       "</tr>\n",
       "<tr>\n",
       "  <th>x5</th>    <td>-1.468e-07</td> <td> 1.24e-07</td> <td>   -1.187</td> <td> 0.235</td> <td>-3.89e-07  9.56e-08</td>\n",
       "</tr>\n",
       "<tr>\n",
       "  <th>x6</th>    <td>   -0.0005</td> <td>    0.000</td> <td>   -2.159</td> <td> 0.031</td> <td>   -0.001 -4.78e-05</td>\n",
       "</tr>\n",
       "<tr>\n",
       "  <th>x7</th>    <td>-2.427e-06</td> <td> 7.46e-07</td> <td>   -3.253</td> <td> 0.001</td> <td>-3.89e-06 -9.65e-07</td>\n",
       "</tr>\n",
       "</table>"
      ],
      "text/plain": [
       "<class 'statsmodels.iolib.summary.Summary'>\n",
       "\"\"\"\n",
       "                 Generalized Linear Model Regression Results                  \n",
       "==============================================================================\n",
       "Dep. Variable:                      y   No. Observations:                   32\n",
       "Model:                            GLM   Df Residuals:                       24\n",
       "Model Family:                   Gamma   Df Model:                            7\n",
       "Link Function:          inverse_power   Scale:                0.00358428317349\n",
       "Method:                          IRLS   Log-Likelihood:                -83.017\n",
       "Date:                Thu, 21 May 2015   Deviance:                     0.087389\n",
       "Time:                        16:36:00   Pearson chi2:                   0.0860\n",
       "No. Iterations:                     6                                         \n",
       "==============================================================================\n",
       "                 coef    std err          z      P>|z|      [95.0% Conf. Int.]\n",
       "------------------------------------------------------------------------------\n",
       "const         -0.0178      0.011     -1.548      0.122        -0.040     0.005\n",
       "x1          4.962e-05   1.62e-05      3.060      0.002      1.78e-05  8.14e-05\n",
       "x2             0.0020      0.001      3.824      0.000         0.001     0.003\n",
       "x3         -7.181e-05   2.71e-05     -2.648      0.008        -0.000 -1.87e-05\n",
       "x4             0.0001   4.06e-05      2.757      0.006      3.23e-05     0.000\n",
       "x5         -1.468e-07   1.24e-07     -1.187      0.235     -3.89e-07  9.56e-08\n",
       "x6            -0.0005      0.000     -2.159      0.031        -0.001 -4.78e-05\n",
       "x7         -2.427e-06   7.46e-07     -3.253      0.001     -3.89e-06 -9.65e-07\n",
       "==============================================================================\n",
       "\"\"\""
      ]
     },
     "execution_count": 3,
     "metadata": {},
     "output_type": "execute_result"
    }
   ],
   "source": [
    "# Instantiate a gamma family model with the default link function.\n",
    "gamma_model = sm.GLM(data.endog, data.exog, family=sm.families.Gamma())\n",
    "gamma_results = gamma_model.fit()\n",
    "gamma_results.summary()"
   ]
  },
  {
   "cell_type": "markdown",
   "metadata": {},
   "source": [
    "## Challenge 1"
   ]
  },
  {
   "cell_type": "code",
   "execution_count": 59,
   "metadata": {
    "collapsed": true
   },
   "outputs": [],
   "source": [
    "from pandas.io.stata import StataReader\n",
    "reader = StataReader('ships.dta')\n",
    "ships = reader.data()"
   ]
  },
  {
   "cell_type": "code",
   "execution_count": 60,
   "metadata": {
    "collapsed": false
   },
   "outputs": [
    {
     "data": {
      "text/html": [
       "<div style=\"max-height:1000px;max-width:1500px;overflow:auto;\">\n",
       "<table border=\"1\" class=\"dataframe\">\n",
       "  <thead>\n",
       "    <tr style=\"text-align: right;\">\n",
       "      <th></th>\n",
       "      <th>type</th>\n",
       "      <th>construction</th>\n",
       "      <th>operation</th>\n",
       "      <th>months</th>\n",
       "      <th>damage</th>\n",
       "    </tr>\n",
       "  </thead>\n",
       "  <tbody>\n",
       "    <tr>\n",
       "      <th>0</th>\n",
       "      <td> A</td>\n",
       "      <td> 1960-64</td>\n",
       "      <td> 1960-74</td>\n",
       "      <td>  127</td>\n",
       "      <td> 0</td>\n",
       "    </tr>\n",
       "    <tr>\n",
       "      <th>1</th>\n",
       "      <td> A</td>\n",
       "      <td> 1960-64</td>\n",
       "      <td> 1975-79</td>\n",
       "      <td>   63</td>\n",
       "      <td> 0</td>\n",
       "    </tr>\n",
       "    <tr>\n",
       "      <th>2</th>\n",
       "      <td> A</td>\n",
       "      <td> 1965-70</td>\n",
       "      <td> 1960-74</td>\n",
       "      <td> 1095</td>\n",
       "      <td> 3</td>\n",
       "    </tr>\n",
       "    <tr>\n",
       "      <th>3</th>\n",
       "      <td> A</td>\n",
       "      <td> 1965-70</td>\n",
       "      <td> 1975-79</td>\n",
       "      <td> 1095</td>\n",
       "      <td> 4</td>\n",
       "    </tr>\n",
       "    <tr>\n",
       "      <th>4</th>\n",
       "      <td> A</td>\n",
       "      <td> 1970-74</td>\n",
       "      <td> 1960-74</td>\n",
       "      <td> 1512</td>\n",
       "      <td> 6</td>\n",
       "    </tr>\n",
       "  </tbody>\n",
       "</table>\n",
       "</div>"
      ],
      "text/plain": [
       "  type construction operation  months  damage\n",
       "0    A      1960-64   1960-74     127       0\n",
       "1    A      1960-64   1975-79      63       0\n",
       "2    A      1965-70   1960-74    1095       3\n",
       "3    A      1965-70   1975-79    1095       4\n",
       "4    A      1970-74   1960-74    1512       6"
      ]
     },
     "execution_count": 60,
     "metadata": {},
     "output_type": "execute_result"
    }
   ],
   "source": [
    "ships.head(5)"
   ]
  },
  {
   "cell_type": "code",
   "execution_count": 61,
   "metadata": {
    "collapsed": false
   },
   "outputs": [],
   "source": [
    "constdummy = []\n",
    "for n in ships['construction']:\n",
    "    constdummy.append((int(mean([int(n[2:4]), int(n[5:7])])))+1900)\n",
    "ships['constdummy'] = constdummy"
   ]
  },
  {
   "cell_type": "code",
   "execution_count": 62,
   "metadata": {
    "collapsed": false
   },
   "outputs": [
    {
     "data": {
      "text/html": [
       "<div style=\"max-height:1000px;max-width:1500px;overflow:auto;\">\n",
       "<table border=\"1\" class=\"dataframe\">\n",
       "  <thead>\n",
       "    <tr style=\"text-align: right;\">\n",
       "      <th></th>\n",
       "      <th>type</th>\n",
       "      <th>construction</th>\n",
       "      <th>operation</th>\n",
       "      <th>months</th>\n",
       "      <th>damage</th>\n",
       "      <th>constdummy</th>\n",
       "      <th>opdummy</th>\n",
       "    </tr>\n",
       "  </thead>\n",
       "  <tbody>\n",
       "    <tr>\n",
       "      <th>0</th>\n",
       "      <td> A</td>\n",
       "      <td> 1960-64</td>\n",
       "      <td> 1960-74</td>\n",
       "      <td>  127</td>\n",
       "      <td> 0</td>\n",
       "      <td> 1962</td>\n",
       "      <td> 1967</td>\n",
       "    </tr>\n",
       "    <tr>\n",
       "      <th>1</th>\n",
       "      <td> A</td>\n",
       "      <td> 1960-64</td>\n",
       "      <td> 1975-79</td>\n",
       "      <td>   63</td>\n",
       "      <td> 0</td>\n",
       "      <td> 1962</td>\n",
       "      <td> 1977</td>\n",
       "    </tr>\n",
       "    <tr>\n",
       "      <th>2</th>\n",
       "      <td> A</td>\n",
       "      <td> 1965-70</td>\n",
       "      <td> 1960-74</td>\n",
       "      <td> 1095</td>\n",
       "      <td> 3</td>\n",
       "      <td> 1967</td>\n",
       "      <td> 1967</td>\n",
       "    </tr>\n",
       "    <tr>\n",
       "      <th>3</th>\n",
       "      <td> A</td>\n",
       "      <td> 1965-70</td>\n",
       "      <td> 1975-79</td>\n",
       "      <td> 1095</td>\n",
       "      <td> 4</td>\n",
       "      <td> 1967</td>\n",
       "      <td> 1977</td>\n",
       "    </tr>\n",
       "    <tr>\n",
       "      <th>4</th>\n",
       "      <td> A</td>\n",
       "      <td> 1970-74</td>\n",
       "      <td> 1960-74</td>\n",
       "      <td> 1512</td>\n",
       "      <td> 6</td>\n",
       "      <td> 1972</td>\n",
       "      <td> 1967</td>\n",
       "    </tr>\n",
       "  </tbody>\n",
       "</table>\n",
       "</div>"
      ],
      "text/plain": [
       "  type construction operation  months  damage  constdummy  opdummy\n",
       "0    A      1960-64   1960-74     127       0        1962     1967\n",
       "1    A      1960-64   1975-79      63       0        1962     1977\n",
       "2    A      1965-70   1960-74    1095       3        1967     1967\n",
       "3    A      1965-70   1975-79    1095       4        1967     1977\n",
       "4    A      1970-74   1960-74    1512       6        1972     1967"
      ]
     },
     "execution_count": 62,
     "metadata": {},
     "output_type": "execute_result"
    }
   ],
   "source": [
    "opdummy = []\n",
    "for n in ships['operation']:\n",
    "    opdummy.append((int(mean([int(n[2:4]), int(n[5:7])])))+1900)\n",
    "ships['opdummy'] = opdummy\n",
    "ships.head(5)"
   ]
  },
  {
   "cell_type": "code",
   "execution_count": 63,
   "metadata": {
    "collapsed": true
   },
   "outputs": [],
   "source": [
    "ships['type'] = ships['type'].map({'A': 1, 'B': 2, 'C': 3, 'D': 4, 'E': 5})"
   ]
  },
  {
   "cell_type": "code",
   "execution_count": 67,
   "metadata": {
    "collapsed": false
   },
   "outputs": [],
   "source": [
    "X = ships.drop(['construction', 'operation'], 1)\n",
    "y = ships['damage']"
   ]
  },
  {
   "cell_type": "code",
   "execution_count": 68,
   "metadata": {
    "collapsed": false
   },
   "outputs": [],
   "source": [
    "#X = np.asarray(X)\n",
    "#y = np.asarray(y)\n",
    "X = sm.add_constant(X)"
   ]
  },
  {
   "cell_type": "code",
   "execution_count": 69,
   "metadata": {
    "collapsed": false
   },
   "outputs": [
    {
     "data": {
      "text/html": [
       "<table class=\"simpletable\">\n",
       "<caption>Generalized Linear Model Regression Results</caption>\n",
       "<tr>\n",
       "  <th>Dep. Variable:</th>       <td>damage</td>      <th>  No. Observations:  </th>    <td>    34</td>    \n",
       "</tr>\n",
       "<tr>\n",
       "  <th>Model:</th>                 <td>GLM</td>       <th>  Df Residuals:      </th>    <td>    29</td>    \n",
       "</tr>\n",
       "<tr>\n",
       "  <th>Model Family:</th>         <td>Gamma</td>      <th>  Df Model:          </th>    <td>     4</td>    \n",
       "</tr>\n",
       "<tr>\n",
       "  <th>Link Function:</th>    <td>inverse_power</td>  <th>  Scale:             </th> <td>2.38534733649</td>\n",
       "</tr>\n",
       "<tr>\n",
       "  <th>Method:</th>               <td>IRLS</td>       <th>  Log-Likelihood:    </th>   <td>     nan</td>   \n",
       "</tr>\n",
       "<tr>\n",
       "  <th>Date:</th>           <td>Thu, 21 May 2015</td> <th>  Deviance:          </th>   <td>  644.22</td>   \n",
       "</tr>\n",
       "<tr>\n",
       "  <th>Time:</th>               <td>17:20:52</td>     <th>  Pearson chi2:      </th>    <td>  69.2</td>    \n",
       "</tr>\n",
       "<tr>\n",
       "  <th>No. Iterations:</th>        <td>11</td>        <th>                     </th>       <td> </td>      \n",
       "</tr>\n",
       "</table>\n",
       "<table class=\"simpletable\">\n",
       "<tr>\n",
       "       <td></td>         <th>coef</th>     <th>std err</th>      <th>z</th>      <th>P>|z|</th> <th>[95.0% Conf. Int.]</th> \n",
       "</tr>\n",
       "<tr>\n",
       "  <th>const</th>      <td>   27.5494</td> <td>   15.995</td> <td>    1.722</td> <td> 0.085</td> <td>   -3.800    58.899</td>\n",
       "</tr>\n",
       "<tr>\n",
       "  <th>type</th>       <td>    0.0050</td> <td>    0.054</td> <td>    0.093</td> <td> 0.926</td> <td>   -0.101     0.111</td>\n",
       "</tr>\n",
       "<tr>\n",
       "  <th>months</th>     <td>-4.644e-06</td> <td> 2.89e-06</td> <td>   -1.607</td> <td> 0.108</td> <td>-1.03e-05  1.02e-06</td>\n",
       "</tr>\n",
       "<tr>\n",
       "  <th>damage</th>     <td>   -0.0046</td> <td>    0.002</td> <td>   -2.352</td> <td> 0.019</td> <td>   -0.008    -0.001</td>\n",
       "</tr>\n",
       "<tr>\n",
       "  <th>constdummy</th> <td>    0.0017</td> <td>    0.007</td> <td>    0.231</td> <td> 0.818</td> <td>   -0.013     0.016</td>\n",
       "</tr>\n",
       "<tr>\n",
       "  <th>opdummy</th>    <td>   -0.0155</td> <td>    0.007</td> <td>   -2.372</td> <td> 0.018</td> <td>   -0.028    -0.003</td>\n",
       "</tr>\n",
       "</table>"
      ],
      "text/plain": [
       "<class 'statsmodels.iolib.summary.Summary'>\n",
       "\"\"\"\n",
       "                 Generalized Linear Model Regression Results                  \n",
       "==============================================================================\n",
       "Dep. Variable:                 damage   No. Observations:                   34\n",
       "Model:                            GLM   Df Residuals:                       29\n",
       "Model Family:                   Gamma   Df Model:                            4\n",
       "Link Function:          inverse_power   Scale:                   2.38534733649\n",
       "Method:                          IRLS   Log-Likelihood:                    nan\n",
       "Date:                Thu, 21 May 2015   Deviance:                       644.22\n",
       "Time:                        17:20:52   Pearson chi2:                     69.2\n",
       "No. Iterations:                    11                                         \n",
       "==============================================================================\n",
       "                 coef    std err          z      P>|z|      [95.0% Conf. Int.]\n",
       "------------------------------------------------------------------------------\n",
       "const         27.5494     15.995      1.722      0.085        -3.800    58.899\n",
       "type           0.0050      0.054      0.093      0.926        -0.101     0.111\n",
       "months     -4.644e-06   2.89e-06     -1.607      0.108     -1.03e-05  1.02e-06\n",
       "damage        -0.0046      0.002     -2.352      0.019        -0.008    -0.001\n",
       "constdummy     0.0017      0.007      0.231      0.818        -0.013     0.016\n",
       "opdummy       -0.0155      0.007     -2.372      0.018        -0.028    -0.003\n",
       "==============================================================================\n",
       "\"\"\""
      ]
     },
     "execution_count": 69,
     "metadata": {},
     "output_type": "execute_result"
    }
   ],
   "source": [
    "#data = sm.datasets.scotland.load()\n",
    "#data.exog = sm.add_constant(data.exog)\n",
    "\n",
    "#gamma_model = sm.GLM(data.endog, data.exog, family=sm.families.Gamma())\n",
    "#gamma_results = gamma_model.fit()\n",
    "#gamma_results.summary()\n",
    "\n",
    "ships_model = sm.GLM(y, X, family=sm.families.Gamma())\n",
    "ships_results = ships_model.fit()\n",
    "ships_results.summary()"
   ]
  },
  {
   "cell_type": "markdown",
   "metadata": {},
   "source": [
    "## Challenge 2"
   ]
  },
  {
   "cell_type": "code",
   "execution_count": 80,
   "metadata": {
    "collapsed": false
   },
   "outputs": [],
   "source": [
    "X = ships.drop(['construction', 'operation'], 1)\n",
    "X['damage'] = X['damage']/X['months']*10000\n",
    "X = X.drop(['months'], 1)\n",
    "y = X['damage']\n",
    "X = sm.add_constant(X)"
   ]
  },
  {
   "cell_type": "code",
   "execution_count": 81,
   "metadata": {
    "collapsed": false
   },
   "outputs": [
    {
     "data": {
      "text/html": [
       "<table class=\"simpletable\">\n",
       "<caption>Generalized Linear Model Regression Results</caption>\n",
       "<tr>\n",
       "  <th>Dep. Variable:</th>       <td>damage</td>      <th>  No. Observations:  </th>    <td>    34</td>    \n",
       "</tr>\n",
       "<tr>\n",
       "  <th>Model:</th>                 <td>GLM</td>       <th>  Df Residuals:      </th>    <td>    30</td>    \n",
       "</tr>\n",
       "<tr>\n",
       "  <th>Model Family:</th>         <td>Gamma</td>      <th>  Df Model:          </th>    <td>     3</td>    \n",
       "</tr>\n",
       "<tr>\n",
       "  <th>Link Function:</th>    <td>inverse_power</td>  <th>  Scale:             </th> <td>26.6125965139</td>\n",
       "</tr>\n",
       "<tr>\n",
       "  <th>Method:</th>               <td>IRLS</td>       <th>  Log-Likelihood:    </th>   <td>     nan</td>   \n",
       "</tr>\n",
       "<tr>\n",
       "  <th>Date:</th>           <td>Thu, 21 May 2015</td> <th>  Deviance:          </th>   <td>  618.68</td>   \n",
       "</tr>\n",
       "<tr>\n",
       "  <th>Time:</th>               <td>17:28:43</td>     <th>  Pearson chi2:      </th>    <td>  798.</td>    \n",
       "</tr>\n",
       "<tr>\n",
       "  <th>No. Iterations:</th>        <td>12</td>        <th>                     </th>       <td> </td>      \n",
       "</tr>\n",
       "</table>\n",
       "<table class=\"simpletable\">\n",
       "<tr>\n",
       "       <td></td>         <th>coef</th>     <th>std err</th>      <th>z</th>      <th>P>|z|</th> <th>[95.0% Conf. Int.]</th> \n",
       "</tr>\n",
       "<tr>\n",
       "  <th>const</th>      <td>   -9.1614</td> <td>   24.457</td> <td>   -0.375</td> <td> 0.708</td> <td>  -57.095    38.773</td>\n",
       "</tr>\n",
       "<tr>\n",
       "  <th>type</th>       <td>    0.0250</td> <td>    0.043</td> <td>    0.582</td> <td> 0.561</td> <td>   -0.059     0.109</td>\n",
       "</tr>\n",
       "<tr>\n",
       "  <th>damage</th>     <td>   -0.0023</td> <td>    0.003</td> <td>   -0.861</td> <td> 0.389</td> <td>   -0.008     0.003</td>\n",
       "</tr>\n",
       "<tr>\n",
       "  <th>constdummy</th> <td>    0.0044</td> <td>    0.014</td> <td>    0.322</td> <td> 0.747</td> <td>   -0.022     0.031</td>\n",
       "</tr>\n",
       "<tr>\n",
       "  <th>opdummy</th>    <td>    0.0003</td> <td>    0.004</td> <td>    0.078</td> <td> 0.938</td> <td>   -0.007     0.008</td>\n",
       "</tr>\n",
       "</table>"
      ],
      "text/plain": [
       "<class 'statsmodels.iolib.summary.Summary'>\n",
       "\"\"\"\n",
       "                 Generalized Linear Model Regression Results                  \n",
       "==============================================================================\n",
       "Dep. Variable:                 damage   No. Observations:                   34\n",
       "Model:                            GLM   Df Residuals:                       30\n",
       "Model Family:                   Gamma   Df Model:                            3\n",
       "Link Function:          inverse_power   Scale:                   26.6125965139\n",
       "Method:                          IRLS   Log-Likelihood:                    nan\n",
       "Date:                Thu, 21 May 2015   Deviance:                       618.68\n",
       "Time:                        17:28:43   Pearson chi2:                     798.\n",
       "No. Iterations:                    12                                         \n",
       "==============================================================================\n",
       "                 coef    std err          z      P>|z|      [95.0% Conf. Int.]\n",
       "------------------------------------------------------------------------------\n",
       "const         -9.1614     24.457     -0.375      0.708       -57.095    38.773\n",
       "type           0.0250      0.043      0.582      0.561        -0.059     0.109\n",
       "damage        -0.0023      0.003     -0.861      0.389        -0.008     0.003\n",
       "constdummy     0.0044      0.014      0.322      0.747        -0.022     0.031\n",
       "opdummy        0.0003      0.004      0.078      0.938        -0.007     0.008\n",
       "==============================================================================\n",
       "\"\"\""
      ]
     },
     "execution_count": 81,
     "metadata": {},
     "output_type": "execute_result"
    }
   ],
   "source": [
    "ships_model = sm.GLM(y, X, family=sm.families.Gamma())\n",
    "ships_results = ships_model.fit()\n",
    "ships_results.summary()"
   ]
  },
  {
   "cell_type": "code",
   "execution_count": null,
   "metadata": {
    "collapsed": true
   },
   "outputs": [],
   "source": []
  }
 ],
 "metadata": {
  "kernelspec": {
   "display_name": "Python 2",
   "language": "python",
   "name": "python2"
  },
  "language_info": {
   "codemirror_mode": {
    "name": "ipython",
    "version": 2
   },
   "file_extension": ".py",
   "mimetype": "text/x-python",
   "name": "python",
   "nbconvert_exporter": "python",
   "pygments_lexer": "ipython2",
   "version": "2.7.9"
  }
 },
 "nbformat": 4,
 "nbformat_minor": 0
}
