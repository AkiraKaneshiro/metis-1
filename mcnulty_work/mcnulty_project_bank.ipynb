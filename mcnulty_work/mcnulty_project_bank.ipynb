{
 "cells": [
  {
   "cell_type": "code",
   "execution_count": 1,
   "metadata": {
    "collapsed": true
   },
   "outputs": [],
   "source": [
    "from sklearn.neighbors import KNeighborsClassifier\n",
    "import csv\n",
    "import pickle\n",
    "import re\n",
    "from datetime import datetime\n",
    "import numpy as np\n",
    "# randn = np.random.randn\n",
    "from pandas import *\n",
    "import pandas as pd\n",
    "import matplotlib.pyplot as plt\n",
    "import statsmodels.formula.api as smf\n",
    "from scipy.stats import linregress\n",
    "from pylab import *\n",
    "from urllib import urlopen\n",
    "from sklearn.cross_validation import train_test_split\n",
    "from sklearn.linear_model import LogisticRegression"
   ]
  },
  {
   "cell_type": "markdown",
   "metadata": {},
   "source": [
    "## Variables Pre-processing\n",
    "\n",
    "1 - emp.var.rate = 1-value\n",
    "\n",
    "2 - euribor = 1/value\n",
    "\n",
    "3 - job = 1 if student or retired, 0 if other\n",
    "\n",
    "4 - marital(?) = 1 if single, o if other\n",
    "\n",
    "5 - poutcome(?) = 1 if success 0 if other\n",
    "\n",
    "6 - age = abs(((exp^((value-47)/3))-(exp^-((value-47)/3))/2) (lowest 36-58 highest 19 and 77)\n",
    "\n",
    "7 - campaign = 1/value\n",
    "\n",
    "8 - pdays = 1 if < 999 0 if = 999 (as \"contacted before?\")\n",
    "\n",
    "9 - previous = value"
   ]
  },
  {
   "cell_type": "code",
   "execution_count": null,
   "metadata": {
    "collapsed": true
   },
   "outputs": [],
   "source": []
  }
 ],
 "metadata": {
  "kernelspec": {
   "display_name": "Python 2",
   "language": "python",
   "name": "python2"
  },
  "language_info": {
   "codemirror_mode": {
    "name": "ipython",
    "version": 2
   },
   "file_extension": ".py",
   "mimetype": "text/x-python",
   "name": "python",
   "nbconvert_exporter": "python",
   "pygments_lexer": "ipython2",
   "version": "2.7.9"
  }
 },
 "nbformat": 4,
 "nbformat_minor": 0
}
